{
 "cells": [
  {
   "cell_type": "code",
   "execution_count": 3,
   "metadata": {},
   "outputs": [],
   "source": [
    "import torch\n",
    "import torchmetrics"
   ]
  },
  {
   "cell_type": "code",
   "execution_count": null,
   "metadata": {},
   "outputs": [],
   "source": []
  },
  {
   "cell_type": "code",
   "execution_count": 7,
   "metadata": {},
   "outputs": [
    {
     "data": {
      "text/plain": [
       "(torch.Size([10, 5]), torch.Size([10]))"
      ]
     },
     "execution_count": 7,
     "metadata": {},
     "output_type": "execute_result"
    }
   ],
   "source": [
    "preds = torch.randn(10, 5).softmax(dim=-1)\n",
    "target = torch.randint(5, (10,))\n",
    "preds.shape, target.shape"
   ]
  },
  {
   "cell_type": "code",
   "execution_count": 10,
   "metadata": {},
   "outputs": [],
   "source": [
    "def compute_metrics(outputs, targets):\n",
    "    metrics = {\n",
    "        'acc':  torchmetrics.Accuracy(),\n",
    "        'precision': torchmetrics.Precision(),\n",
    "        'recall': torchmetrics.Recall()\n",
    "    }\n",
    "    return {\n",
    "        name: met(outputs, targets).item()\n",
    "        for name, met in metrics.items()\n",
    "    }"
   ]
  },
  {
   "cell_type": "code",
   "execution_count": 11,
   "metadata": {},
   "outputs": [
    {
     "data": {
      "text/plain": [
       "{'acc': 0.10000000149011612,\n",
       " 'precision': 0.10000000149011612,\n",
       " 'recall': 0.10000000149011612}"
      ]
     },
     "execution_count": 11,
     "metadata": {},
     "output_type": "execute_result"
    }
   ],
   "source": [
    "compute_metrics(preds, target)"
   ]
  },
  {
   "cell_type": "markdown",
   "metadata": {},
   "source": [
    "## Rich table to csv"
   ]
  },
  {
   "cell_type": "code",
   "execution_count": 38,
   "metadata": {},
   "outputs": [],
   "source": [
    "from rich.table import Table\n",
    "from pandas import DataFrame"
   ]
  },
  {
   "cell_type": "code",
   "execution_count": 27,
   "metadata": {},
   "outputs": [],
   "source": [
    "table = Table()\n",
    "table.add_column('FN', justify='center')\n",
    "table.add_column('LN', justify='center')\n",
    "table.add_row('Virk', 'saab')\n",
    "table.add_row('Virk2', 'saab2')"
   ]
  },
  {
   "cell_type": "code",
   "execution_count": 36,
   "metadata": {},
   "outputs": [],
   "source": [
    "dd = {col.header: col._cells for col in table.__dict__['columns']}"
   ]
  },
  {
   "cell_type": "code",
   "execution_count": 39,
   "metadata": {},
   "outputs": [
    {
     "data": {
      "text/html": [
       "<div>\n",
       "<style scoped>\n",
       "    .dataframe tbody tr th:only-of-type {\n",
       "        vertical-align: middle;\n",
       "    }\n",
       "\n",
       "    .dataframe tbody tr th {\n",
       "        vertical-align: top;\n",
       "    }\n",
       "\n",
       "    .dataframe thead th {\n",
       "        text-align: right;\n",
       "    }\n",
       "</style>\n",
       "<table border=\"1\" class=\"dataframe\">\n",
       "  <thead>\n",
       "    <tr style=\"text-align: right;\">\n",
       "      <th></th>\n",
       "      <th>FN</th>\n",
       "      <th>LN</th>\n",
       "    </tr>\n",
       "  </thead>\n",
       "  <tbody>\n",
       "    <tr>\n",
       "      <th>0</th>\n",
       "      <td>Virk</td>\n",
       "      <td>saab</td>\n",
       "    </tr>\n",
       "    <tr>\n",
       "      <th>1</th>\n",
       "      <td>Virk2</td>\n",
       "      <td>saab2</td>\n",
       "    </tr>\n",
       "  </tbody>\n",
       "</table>\n",
       "</div>"
      ],
      "text/plain": [
       "      FN     LN\n",
       "0   Virk   saab\n",
       "1  Virk2  saab2"
      ]
     },
     "execution_count": 39,
     "metadata": {},
     "output_type": "execute_result"
    }
   ],
   "source": [
    "DataFrame.from_dict(dd)"
   ]
  },
  {
   "cell_type": "markdown",
   "metadata": {},
   "source": [
    "## Logs files rotation control"
   ]
  },
  {
   "cell_type": "code",
   "execution_count": 1,
   "metadata": {},
   "outputs": [],
   "source": [
    "from pathlib import Path\n",
    "from jais.utils import load_config, ROOT_DIR\n",
    "CNF = load_config(ROOT_DIR/'configs/default.yaml')"
   ]
  },
  {
   "cell_type": "code",
   "execution_count": 2,
   "metadata": {},
   "outputs": [],
   "source": [
    "import time\n",
    "import os\n",
    "from datetime import datetime"
   ]
  },
  {
   "cell_type": "code",
   "execution_count": 3,
   "metadata": {},
   "outputs": [
    {
     "data": {
      "text/plain": [
       "1637825309.4088724"
      ]
     },
     "execution_count": 3,
     "metadata": {},
     "output_type": "execute_result"
    }
   ],
   "source": [
    "time.time()"
   ]
  },
  {
   "cell_type": "code",
   "execution_count": 13,
   "metadata": {},
   "outputs": [
    {
     "data": {
      "text/plain": [
       "[1637824728.1856616, 1637823676.8927422, 1637823669.286787]"
      ]
     },
     "execution_count": 13,
     "metadata": {},
     "output_type": "execute_result"
    }
   ],
   "source": [
    "def manage_log_files():\n",
    "    # Get log files paths\n",
    "    log_filespaths = list(Path(CNF.paths.logs_dir).glob('*.log'))\n",
    "    # Function to split the timestamp from filepath\n",
    "    get_time_from_filename = lambda x: float(x.stem.split('@')[-1])\n",
    "    # Sort timestamps\n",
    "    timestamps = sorted(\n",
    "        list(map(get_time_from_filename, log_filespaths)),\n",
    "        reverse=True)\n",
    "    # Keep only n recent files\n",
    "    timestamps = timestamps[: CNF.log.keep_n_recent_logs]\n",
    "    # Remove old files\n",
    "    for fp in log_filespaths:\n",
    "        if get_time_from_filename(fp) not in timestamps:\n",
    "            os.remove(fp)"
   ]
  },
  {
   "cell_type": "code",
   "execution_count": 17,
   "metadata": {},
   "outputs": [],
   "source": []
  },
  {
   "cell_type": "code",
   "execution_count": 6,
   "metadata": {},
   "outputs": [],
   "source": [
    "for fp in log_filespaths:\n",
    "    print(fp)"
   ]
  },
  {
   "cell_type": "code",
   "execution_count": 7,
   "metadata": {},
   "outputs": [
    {
     "name": "stdout",
     "output_type": "stream",
     "text": [
      "time.struct_time(tm_year=2021, tm_mon=11, tm_mday=25, tm_hour=7, tm_min=18, tm_sec=48, tm_wday=3, tm_yday=329, tm_isdst=0)\n",
      "time.struct_time(tm_year=2021, tm_mon=11, tm_mday=25, tm_hour=7, tm_min=1, tm_sec=16, tm_wday=3, tm_yday=329, tm_isdst=0)\n",
      "time.struct_time(tm_year=2021, tm_mon=11, tm_mday=25, tm_hour=7, tm_min=1, tm_sec=9, tm_wday=3, tm_yday=329, tm_isdst=0)\n"
     ]
    }
   ],
   "source": [
    "for ts in timestamps:\n",
    "    print(time.gmtime(float(ts)))"
   ]
  },
  {
   "cell_type": "markdown",
   "metadata": {},
   "source": [
    "## LR Schedulers testing"
   ]
  },
  {
   "cell_type": "code",
   "execution_count": 53,
   "metadata": {},
   "outputs": [],
   "source": [
    "import torch\n",
    "import numpy as np\n",
    "import matplotlib.pyplot as plt\n",
    "from torch.optim import lr_scheduler as lrs\n",
    "from jais.models.example import Net"
   ]
  },
  {
   "cell_type": "code",
   "execution_count": 219,
   "metadata": {},
   "outputs": [
    {
     "ename": "NotImplementedError",
     "evalue": "",
     "output_type": "error",
     "traceback": [
      "\u001b[0;31m---------------------------------------------------------------------------\u001b[0m",
      "\u001b[0;31mNotImplementedError\u001b[0m                       Traceback (most recent call last)",
      "\u001b[0;32m/tmp/ipykernel_1171105/2274170633.py\u001b[0m in \u001b[0;36m<module>\u001b[0;34m\u001b[0m\n\u001b[1;32m      9\u001b[0m     \u001b[0moptm_fn\u001b[0m\u001b[0;34m.\u001b[0m\u001b[0mstep\u001b[0m\u001b[0;34m(\u001b[0m\u001b[0;34m)\u001b[0m\u001b[0;34m\u001b[0m\u001b[0;34m\u001b[0m\u001b[0m\n\u001b[1;32m     10\u001b[0m     \u001b[0mscheduler\u001b[0m\u001b[0;34m.\u001b[0m\u001b[0mstep\u001b[0m\u001b[0;34m(\u001b[0m\u001b[0;34m)\u001b[0m\u001b[0;34m\u001b[0m\u001b[0;34m\u001b[0m\u001b[0m\n\u001b[0;32m---> 11\u001b[0;31m     \u001b[0mlr_list\u001b[0m\u001b[0;34m.\u001b[0m\u001b[0mappend\u001b[0m\u001b[0;34m(\u001b[0m\u001b[0mscheduler\u001b[0m\u001b[0;34m.\u001b[0m\u001b[0mget_lr\u001b[0m\u001b[0;34m(\u001b[0m\u001b[0;34m)\u001b[0m\u001b[0;34m)\u001b[0m\u001b[0;34m\u001b[0m\u001b[0;34m\u001b[0m\u001b[0m\n\u001b[0m\u001b[1;32m     12\u001b[0m \u001b[0mlr_list\u001b[0m\u001b[0;34m.\u001b[0m\u001b[0mappend\u001b[0m\u001b[0;34m(\u001b[0m\u001b[0mscheduler\u001b[0m\u001b[0;34m.\u001b[0m\u001b[0mget_lr\u001b[0m\u001b[0;34m(\u001b[0m\u001b[0;34m)\u001b[0m\u001b[0;34m)\u001b[0m\u001b[0;34m\u001b[0m\u001b[0;34m\u001b[0m\u001b[0m\n\u001b[1;32m     13\u001b[0m \u001b[0mX\u001b[0m \u001b[0;34m=\u001b[0m \u001b[0mrange\u001b[0m\u001b[0;34m(\u001b[0m\u001b[0;36m101\u001b[0m\u001b[0;34m)\u001b[0m\u001b[0;34m\u001b[0m\u001b[0;34m\u001b[0m\u001b[0m\n",
      "\u001b[0;32m~/devs/Projects/JAIS/venv/lib/python3.9/site-packages/torch/optim/lr_scheduler.py\u001b[0m in \u001b[0;36mget_lr\u001b[0;34m(self)\u001b[0m\n\u001b[1;32m    101\u001b[0m     \u001b[0;32mdef\u001b[0m \u001b[0mget_lr\u001b[0m\u001b[0;34m(\u001b[0m\u001b[0mself\u001b[0m\u001b[0;34m)\u001b[0m\u001b[0;34m:\u001b[0m\u001b[0;34m\u001b[0m\u001b[0;34m\u001b[0m\u001b[0m\n\u001b[1;32m    102\u001b[0m         \u001b[0;31m# Compute learning rate using chainable form of the scheduler\u001b[0m\u001b[0;34m\u001b[0m\u001b[0;34m\u001b[0m\u001b[0m\n\u001b[0;32m--> 103\u001b[0;31m         \u001b[0;32mraise\u001b[0m \u001b[0mNotImplementedError\u001b[0m\u001b[0;34m\u001b[0m\u001b[0;34m\u001b[0m\u001b[0m\n\u001b[0m\u001b[1;32m    104\u001b[0m \u001b[0;34m\u001b[0m\u001b[0m\n\u001b[1;32m    105\u001b[0m     \u001b[0;32mdef\u001b[0m \u001b[0mprint_lr\u001b[0m\u001b[0;34m(\u001b[0m\u001b[0mself\u001b[0m\u001b[0;34m,\u001b[0m \u001b[0mis_verbose\u001b[0m\u001b[0;34m,\u001b[0m \u001b[0mgroup\u001b[0m\u001b[0;34m,\u001b[0m \u001b[0mlr\u001b[0m\u001b[0;34m,\u001b[0m \u001b[0mepoch\u001b[0m\u001b[0;34m=\u001b[0m\u001b[0;32mNone\u001b[0m\u001b[0;34m)\u001b[0m\u001b[0;34m:\u001b[0m\u001b[0;34m\u001b[0m\u001b[0;34m\u001b[0m\u001b[0m\n",
      "\u001b[0;31mNotImplementedError\u001b[0m: "
     ]
    }
   ],
   "source": [
    "max_lr = 1.0\n",
    "net = Net()\n",
    "optm_fn = torch.optim.SGD(net.parameters(), lr=max_lr)\n",
    "scheduler1 = lrs.ConstantLR(optm_fn, factor=0.1, total_iters=2)\n",
    "scheduler2 = lrs.ExponentialLR(optm_fn, gamma=0.9)\n",
    "scheduler = lrs.SequentialLR(optm_fn, schedulers=[scheduler1, scheduler2], milestones=[2])\n",
    "lr_list = []\n",
    "for i in range(100):\n",
    "    # optm_fn.step()\n",
    "    scheduler.step()\n",
    "    lr_list.append(scheduler.get_lr())\n",
    "lr_list.append(scheduler.get_lr())\n",
    "X = range(101)\n",
    "plt.figure(figsize=(10,5))\n",
    "plt.plot(X, lr_list);"
   ]
  },
  {
   "cell_type": "code",
   "execution_count": 222,
   "metadata": {},
   "outputs": [
    {
     "name": "stderr",
     "output_type": "stream",
     "text": [
      "/home/virk/devs/Projects/JAIS/venv/lib/python3.9/site-packages/torch/optim/lr_scheduler.py:154: UserWarning: The epoch parameter in `scheduler.step()` was not necessary and is being deprecated where possible. Please use `scheduler.step()` to step the scheduler. During the deprecation, if epoch is different from None, the closed form is used instead of the new chainable form, where available. Please open an issue if you are unable to replicate your use case: https://github.com/pytorch/pytorch/issues/new/choose.\n",
      "  warnings.warn(EPOCH_DEPRECATION_WARNING, UserWarning)\n"
     ]
    }
   ],
   "source": [
    "scheduler.step()"
   ]
  },
  {
   "cell_type": "code",
   "execution_count": 237,
   "metadata": {},
   "outputs": [],
   "source": []
  },
  {
   "cell_type": "code",
   "execution_count": 245,
   "metadata": {},
   "outputs": [],
   "source": [
    "from typing import Tuple\n",
    "def minmaxscaler(x: list, axis=0, min=0, max=1):\n",
    "        x_std = (x - x.min(axis=axis)) / (x.max(axis=axis) - x.min(axis=axis))\n",
    "        x_scaled  = x_std * (max - min) + min\n",
    "        return x_scaled\n",
    "\n",
    "def jais_lr_scheduler_values(num_epochs: int,\n",
    "                             num_iters_per_epochs: int,\n",
    "                             warmup_pct: float = 0.20,\n",
    "                             lr_range: Tuple[float, float] = (0.01, 1e-6),\n",
    "                             verbose: bool = False) -> list:\n",
    "    # Number of iterations / batches in one epoch\n",
    "    max_lr, min_lr = lr_range\n",
    "    num_iters = num_iters_per_epochs\n",
    "    n_steps = num_epochs * num_iters  # Total steps \n",
    "    n_warmup_steps = int(n_steps * warmup_pct)  # Number of warmup steps\n",
    "    n_rem_steps = n_steps - n_warmup_steps  # Number of StepLR steps\n",
    "    # Warmup lr values list\n",
    "    warmup_lr = minmaxscaler(\n",
    "        np.sqrt(np.linspace(min_lr, max_lr, num=n_warmup_steps)),\n",
    "        min=min_lr, max=max_lr\n",
    "    )\n",
    "    n_steplr_epochs = int(n_rem_steps / num_iters) # Number of epochs for StepLR \n",
    "    # Remaining steps after warmup and StepLR\n",
    "    n_rem_steps = n_steps - (n_warmup_steps + (n_steplr_epochs * num_iters))\n",
    "    # StepLR values per epoch\n",
    "    if n_rem_steps != 0: # Keep `min_lr` away for further adjustment\n",
    "        steplr_epochs_lr = np.linspace(max_lr, min_lr * 10, num=n_steplr_epochs)\n",
    "    else:\n",
    "        # Do adjustments till `min_lr`\n",
    "        steplr_epochs_lr = np.linspace(max_lr, min_lr, num=n_steplr_epochs)\n",
    "    steplr_lr = np.repeat(steplr_epochs_lr, num_iters)  # StepLR values per \n",
    "    if n_rem_steps != 0:\n",
    "        rem_lr = list(np.linspace(min_lr*10, min_lr, num=n_rem_steps))\n",
    "        total_lr = list(warmup_lr) + list(steplr_lr) + rem_lr\n",
    "    else:\n",
    "        total_lr = list(warmup_lr) + list(steplr_lr)\n",
    "    assert len(total_lr) == n_steps, f\"total_lr = {len(total_lr)} but n_steps = {n_steps}.\"\n",
    "    if verbose:\n",
    "        plt.figure(figsize=(10,5))\n",
    "        plt.title(\"JAIS Custom Learning Rate Scheduler\")\n",
    "        plt.plot(range(len(total_lr)), total_lr)\n",
    "    return total_lr\n",
    "\n",
    "total_lr = jais_lr_scheduler_values(11, 121)"
   ]
  },
  {
   "cell_type": "code",
   "execution_count": 243,
   "metadata": {},
   "outputs": [],
   "source": [
    "from typing import Tuple\n",
    "class OptmWithLRSWrapper:\n",
    "    def __init__(self,\n",
    "                 optm_fn,\n",
    "                 num_epochs: int,\n",
    "                 num_iters_per_epochs: int,\n",
    "                 warmup_pct: float = 0.20,\n",
    "                 lr_range: Tuple[float, float] = (0.01, 1e-6)) -> None:\n",
    "        \"\"\"Learning Rate Scheduler Wrapper\"\"\"\n",
    "        self.optm_fn = optm_fn\n",
    "        self.step_num = 0\n",
    "        self.lr_list = jais_lr_scheduler_values(\n",
    "            num_epochs=num_epochs,\n",
    "            num_iters_per_epochs=num_iters_per_epochs,\n",
    "            warmup_pct=warmup_pct,\n",
    "            lr_range=lr_range)\n",
    "\n",
    "    def step(self) -> None:\n",
    "        self.update_lr()\n",
    "        self.optm_fn.step()\n",
    "    \n",
    "    def update_lr(self) -> None:\n",
    "        self.current_lr = self.lr_list[self.step_num]\n",
    "        for param_group in self.optm_fn.param_groups:\n",
    "            param_group['lr'] = self.current_lr\n",
    "        self.step_num += 1"
   ]
  },
  {
   "cell_type": "code",
   "execution_count": 244,
   "metadata": {},
   "outputs": [
    {
     "data": {
      "image/png": "[encoded data removed]",
      "text/plain": [
       "<Figure size 720x360 with 1 Axes>"
      ]
     },
     "metadata": {
      "needs_background": "light"
     },
     "output_type": "display_data"
    },
    {
     "data": {
      "image/png": "[encoded data removed]",
      "text/plain": [
       "<Figure size 720x360 with 1 Axes>"
      ]
     },
     "metadata": {
      "needs_background": "light"
     },
     "output_type": "display_data"
    }
   ],
   "source": [
    "\n",
    "scheduler = OptmWithLRSWrapper(optm_fn, 11, 101)\n",
    "lr_list = []\n",
    "for i in range(11*101):\n",
    "    # optm_fn.step()\n",
    "    scheduler.step()\n",
    "    lr_list.append(scheduler.current_lr)\n",
    "X = range(len(lr_list))\n",
    "plt.figure(figsize=(10,5))\n",
    "plt.plot(X, lr_list);"
   ]
  },
  {
   "cell_type": "code",
   "execution_count": null,
   "metadata": {},
   "outputs": [],
   "source": []
  },
  {
   "cell_type": "code",
   "execution_count": null,
   "metadata": {},
   "outputs": [],
   "source": []
  }
 ],
 "metadata": {
  "interpreter": {
   "hash": "54f55c58c1e910a85a70fad95739fa256283ad4a730d3ed419cc3eaaa0066b5d"
  },
  "kernelspec": {
   "display_name": "Python 3.9.7 64-bit ('venv': venv)",
   "language": "python",
   "name": "python3"
  },
  "language_info": {
   "codemirror_mode": {
    "name": "ipython",
    "version": 3
   },
   "file_extension": ".py",
   "mimetype": "text/x-python",
   "name": "python",
   "nbconvert_exporter": "python",
   "pygments_lexer": "ipython3",
   "version": "3.9.7"
  },
  "orig_nbformat": 4
 },
 "nbformat": 4,
 "nbformat_minor": 2
}
