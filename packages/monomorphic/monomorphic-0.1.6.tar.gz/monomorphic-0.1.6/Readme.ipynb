{
 "cells": [
  {
   "cell_type": "markdown",
   "id": "247569e6",
   "metadata": {},
   "source": [
    "# monomorphic\n",
    "A small conversion utility to address libraries that do not support polymorphism for python builtin types\n",
    "\n",
    "## The situation\n",
    "You've got some code that uses duck typing or extends a builtin python data type.  As an example, one might have a string wrapper:\n",
    "\n",
    "While most libraries support polymorphism:"
   ]
  },
  {
   "cell_type": "code",
   "execution_count": 23,
   "id": "eec08267",
   "metadata": {},
   "outputs": [],
   "source": [
    "from typing import Any\n",
    "\n",
    "def nice_library_function(v: Any) -> str:\n",
    "    if isinstance(v, str):\n",
    "        return f\"STRING: {v}\"\n",
    "    elif isinstance(v, int):\n",
    "        return f\"INT: {v}\"\n",
    "    elif isinstance(v, dict):\n",
    "        return str({k: nice_library_function(v2) for k, v2 in v.items()})\n",
    "    elif isinstance(v, list):\n",
    "        return str([nice_library_function(v2) for v2 in v])\n",
    "    elif isinstance(v, set):\n",
    "        return str({nice_library_function(v2) for v2 in v})\n",
    "    else:\n",
    "        raise ValueError(f\"I don't understand type {type(v)}\")"
   ]
  },
  {
   "cell_type": "markdown",
   "id": "bd65beb7",
   "metadata": {},
   "source": [
    "One will still encounters code that is a bit brittle. The example below, for instance,\n",
    "doesn't recognize polymorphic strings or integers."
   ]
  },
  {
   "cell_type": "code",
   "execution_count": 24,
   "id": "f3b29e41",
   "metadata": {},
   "outputs": [],
   "source": [
    "from typing import Union\n",
    "\n",
    "def brittle_library_function(v: Union[int, str]) -> Union[str, int, dict, list, set]:\n",
    "    v_type = type(v)\n",
    "\n",
    "    if v_type is str:\n",
    "        return f\"STRING: {v}\"\n",
    "    elif v_type is int:\n",
    "        return f\"INT: {v}\"\n",
    "    elif isinstance(v, dict):\n",
    "        return str({k: brittle_library_function(v2) for k, v2 in v.items()})\n",
    "    elif isinstance(v, list):\n",
    "        return str([brittle_library_function(v2) for v2 in v])\n",
    "    elif isinstance(v, set):\n",
    "        return str({brittle_library_function(v2) for v2 in v})\n",
    "    else:\n",
    "        raise ValueError(f\"I don't understand type {type(v)}\")"
   ]
  },
  {
   "cell_type": "markdown",
   "id": "a3cce34b",
   "metadata": {},
   "source": [
    "When one is using a subclass (or other polymorphism) of a python base class, the `brittle_library_function` will fail.  In the example below, we have decorated the string class to produce `Rope` -- a string that has an additional element that represents the number of twines:"
   ]
  },
  {
   "cell_type": "code",
   "execution_count": 25,
   "id": "258c7bdf",
   "metadata": {},
   "outputs": [],
   "source": [
    "from typing import Any, Union\n",
    "\n",
    "class Rope(str):\n",
    "    def __init__(self, v: Any) -> None:\n",
    "        self._ntwines = 1\n",
    "        super().__init__()\n",
    "\n",
    "    @property\n",
    "    def twines(self) -> int:\n",
    "        return self._ntwines\n",
    "\n",
    "    @twines.setter\n",
    "    def twines(self, v: int) -> None:\n",
    "        self._ntwines = v"
   ]
  },
  {
   "cell_type": "markdown",
   "id": "b59f7839",
   "metadata": {},
   "source": [
    "If one invokes a well behaved library, things work as one would expect:"
   ]
  },
  {
   "cell_type": "code",
   "execution_count": 26,
   "id": "ad8d8ce0",
   "metadata": {},
   "outputs": [
    {
     "name": "stdout",
     "output_type": "stream",
     "text": [
      "STRING: Hi there\n",
      "STRING: 17 feet\n",
      "['STRING: e1', 'INT: 42', 'STRING: One yard']\n"
     ]
    }
   ],
   "source": [
    "print(nice_library_function(\"Hi there\"))\n",
    "print(nice_library_function(Rope(\"17 feet\")))\n",
    "print(nice_library_function([\"e1\", 42, Rope(\"One yard\")]))"
   ]
  },
  {
   "cell_type": "markdown",
   "id": "7843fbd7",
   "metadata": {},
   "source": [
    "But when one tries the brittle function:"
   ]
  },
  {
   "cell_type": "code",
   "execution_count": 27,
   "id": "50999502",
   "metadata": {},
   "outputs": [
    {
     "name": "stdout",
     "output_type": "stream",
     "text": [
      "STRING: Hi there\n",
      "The library doesn't like me 😞: \n",
      "\tI don't understand type <class '__main__.Rope'>\n",
      "It hates my structures 😢: \n",
      "\tI don't understand type <class '__main__.Rope'>\n"
     ]
    }
   ],
   "source": [
    "print(brittle_library_function(\"Hi there\"))\n",
    "try:\n",
    "    print(brittle_library_function(Rope(\"17 feet\")))\n",
    "except ValueError as e:\n",
    "    print(f\"The library doesn't like me 😞: \\n\\t{e}\")\n",
    "try:\n",
    "    print(brittle_library_function([\"e1\", 42, Rope(\"One yard\")]))\n",
    "except ValueError as e:\n",
    "    print(f\"It hates my structures 😢: \\n\\t{e}\")"
   ]
  },
  {
   "cell_type": "markdown",
   "id": "569b644d",
   "metadata": {},
   "source": [
    "## `monomorphic` to the rescue!\n",
    "`monomorphic` creates a copy of a python data structure substituting subclasses of builtin types with the types\n",
    "with the types themselves"
   ]
  },
  {
   "cell_type": "code",
   "execution_count": 28,
   "id": "3ceead83",
   "metadata": {},
   "outputs": [],
   "source": [
    "!pip install monomorphic --upgrade -q"
   ]
  },
  {
   "cell_type": "code",
   "execution_count": 29,
   "id": "b31c1145",
   "metadata": {},
   "outputs": [
    {
     "name": "stdout",
     "output_type": "stream",
     "text": [
      "STRING: Hi there\n",
      "STRING: 17 feet\n",
      "['STRING: e1', 'INT: 42', 'STRING: One yard']\n"
     ]
    }
   ],
   "source": [
    "from monomorphic import monomorph\n",
    "\n",
    "print(brittle_library_function(monomorph(\"Hi there\")))\n",
    "print(brittle_library_function(monomorph(Rope(\"17 feet\"))))\n",
    "print(nice_library_function([\"e1\", 42, Rope(\"One yard\")]))\n"
   ]
  }
 ],
 "metadata": {
  "kernelspec": {
   "display_name": "Python 3 (ipykernel)",
   "language": "python",
   "name": "python3"
  },
  "language_info": {
   "codemirror_mode": {
    "name": "ipython",
    "version": 3
   },
   "file_extension": ".py",
   "mimetype": "text/x-python",
   "name": "python",
   "nbconvert_exporter": "python",
   "pygments_lexer": "ipython3",
   "version": "3.10.0"
  }
 },
 "nbformat": 4,
 "nbformat_minor": 5
}
