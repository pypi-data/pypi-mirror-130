{
 "cells": [
  {
   "cell_type": "markdown",
   "source": [
    "# Bayesian Optimiser (unlabelled) Example"
   ],
   "metadata": {}
  },
  {
   "cell_type": "markdown",
   "source": [
    "This notebook contains an example of how the Bayesian Optimiser module can be used to optimise the thresholds of an existing set of rules, given an **unlabelled** dataset, using Bayesian Optimisation."
   ],
   "metadata": {}
  },
  {
   "cell_type": "markdown",
   "source": [
    "## Requirements"
   ],
   "metadata": {}
  },
  {
   "cell_type": "markdown",
   "source": [
    "To run, you'll need the following:\n",
    "\n",
    "* A rule set stored in the standard Iguanas lambda expression format, along with the keyword arguments for each lambda expression (more information on how to do this later)\n",
    "* An unlabelled dataset containing the features present in the rule set."
   ],
   "metadata": {}
  },
  {
   "cell_type": "markdown",
   "source": [
    "----"
   ],
   "metadata": {}
  },
  {
   "cell_type": "markdown",
   "source": [
    "## Import packages"
   ],
   "metadata": {}
  },
  {
   "cell_type": "code",
   "execution_count": 1,
   "source": [
    "from iguanas.rule_optimisation import BayesianOptimiser\n",
    "from iguanas.rules import Rules\n",
    "from iguanas.rule_application import RuleApplier\n",
    "from iguanas.metrics.unsupervised import AlertsPerDay\n",
    "\n",
    "import pandas as pd\n",
    "from sklearn.model_selection import train_test_split\n",
    "from hyperopt import tpe"
   ],
   "outputs": [
    {
     "output_type": "error",
     "ename": "ImportError",
     "evalue": "cannot import name 'AlertsPerDay' from 'iguanas.metrics.classification' (/Users/jlaidler/Documents/argo/iguanas/metrics/classification.py)",
     "traceback": [
      "\u001b[0;31m---------------------------------------------------------------------------\u001b[0m",
      "\u001b[0;31mImportError\u001b[0m                               Traceback (most recent call last)",
      "\u001b[0;32m/var/folders/hw/y20855_146x8gbvbpqmtpdp00000gq/T/ipykernel_84621/3293188123.py\u001b[0m in \u001b[0;36m<module>\u001b[0;34m\u001b[0m\n\u001b[1;32m      2\u001b[0m \u001b[0;32mfrom\u001b[0m \u001b[0miguanas\u001b[0m\u001b[0;34m.\u001b[0m\u001b[0mrules\u001b[0m \u001b[0;32mimport\u001b[0m \u001b[0mRules\u001b[0m\u001b[0;34m\u001b[0m\u001b[0;34m\u001b[0m\u001b[0m\n\u001b[1;32m      3\u001b[0m \u001b[0;32mfrom\u001b[0m \u001b[0miguanas\u001b[0m\u001b[0;34m.\u001b[0m\u001b[0mrule_application\u001b[0m \u001b[0;32mimport\u001b[0m \u001b[0mRuleApplier\u001b[0m\u001b[0;34m\u001b[0m\u001b[0;34m\u001b[0m\u001b[0m\n\u001b[0;32m----> 4\u001b[0;31m \u001b[0;32mfrom\u001b[0m \u001b[0miguanas\u001b[0m\u001b[0;34m.\u001b[0m\u001b[0mmetrics\u001b[0m\u001b[0;34m.\u001b[0m\u001b[0mclassification\u001b[0m \u001b[0;32mimport\u001b[0m \u001b[0mAlertsPerDay\u001b[0m\u001b[0;34m\u001b[0m\u001b[0;34m\u001b[0m\u001b[0m\n\u001b[0m\u001b[1;32m      5\u001b[0m \u001b[0;34m\u001b[0m\u001b[0m\n\u001b[1;32m      6\u001b[0m \u001b[0;32mimport\u001b[0m \u001b[0mpandas\u001b[0m \u001b[0;32mas\u001b[0m \u001b[0mpd\u001b[0m\u001b[0;34m\u001b[0m\u001b[0;34m\u001b[0m\u001b[0m\n",
      "\u001b[0;31mImportError\u001b[0m: cannot import name 'AlertsPerDay' from 'iguanas.metrics.classification' (/Users/jlaidler/Documents/argo/iguanas/metrics/classification.py)"
     ]
    }
   ],
   "metadata": {}
  },
  {
   "cell_type": "markdown",
   "source": [
    "## Read in data"
   ],
   "metadata": {}
  },
  {
   "cell_type": "markdown",
   "source": [
    "Firstly, we need to read in the raw data containing the features:"
   ],
   "metadata": {}
  },
  {
   "cell_type": "code",
   "execution_count": null,
   "source": [
    "data = pd.read_csv(\n",
    "    'dummy_data/dummy_pipeline_output_data.csv', \n",
    "    index_col='eid'\n",
    ")"
   ],
   "outputs": [],
   "metadata": {}
  },
  {
   "cell_type": "markdown",
   "source": [
    "Then we can split the dataset into training and test sets:"
   ],
   "metadata": {}
  },
  {
   "cell_type": "code",
   "execution_count": null,
   "source": [
    "X_train, X_test = train_test_split(\n",
    "    data, \n",
    "    test_size=0.33, \n",
    "    random_state=0\n",
    ")"
   ],
   "outputs": [],
   "metadata": {}
  },
  {
   "cell_type": "markdown",
   "source": [
    "## Read in the rules"
   ],
   "metadata": {}
  },
  {
   "cell_type": "markdown",
   "source": [
    "In this example, we'll read in the rule conditions from a pickle file, where they are stored in the standard Iguanas string format. **However, you can use any Iguanas-ready rule format - see the example notebook in the *rules* module.**"
   ],
   "metadata": {}
  },
  {
   "cell_type": "code",
   "execution_count": null,
   "source": [
    "import pickle\n",
    "with open('dummy_data/rule_strings.pkl', 'rb') as f:\n",
    "    rule_strings = pickle.load(f)"
   ],
   "outputs": [],
   "metadata": {}
  },
  {
   "cell_type": "markdown",
   "source": [
    "Now we can instantiate the *Rules* class with these rules:"
   ],
   "metadata": {}
  },
  {
   "cell_type": "code",
   "execution_count": null,
   "source": [
    "rules = Rules(rule_strings=rule_strings)"
   ],
   "outputs": [],
   "metadata": {}
  },
  {
   "cell_type": "markdown",
   "source": [
    "We now need to convert the rules into the standard Iguanas lambda expression format. This format allows new threshold values to be injected into the rule condition before being evaluated - this is how the Bayesian Optimiser finds the optimal threshold values:"
   ],
   "metadata": {}
  },
  {
   "cell_type": "code",
   "execution_count": null,
   "source": [
    "rule_lambdas = rules.as_rule_lambdas(\n",
    "    as_numpy=False, \n",
    "    with_kwargs=True\n",
    ")"
   ],
   "outputs": [],
   "metadata": {}
  },
  {
   "cell_type": "markdown",
   "source": [
    "By converting the rule conditions to the standard Iguanas lambda expression format, we also generate a dictionary which gives the keyword arguments to each lambda expression (this dictionary is saved as the class attribute *lambda_kwargs*). Using these keyword arguments as inputs to the lambda expressions will convert them into the standard Iguanas string format."
   ],
   "metadata": {}
  },
  {
   "cell_type": "markdown",
   "source": [
    "----"
   ],
   "metadata": {}
  },
  {
   "cell_type": "markdown",
   "source": [
    "## Optimise rules"
   ],
   "metadata": {}
  },
  {
   "cell_type": "markdown",
   "source": [
    "### Set up class parameters"
   ],
   "metadata": {}
  },
  {
   "cell_type": "markdown",
   "source": [
    "Now we can set our class parameters for the Bayesian Optimiser. Here we're using the *.fit()* method from the *AlertsPerDay* class, which calculates the negative squared difference between the daily number of records a rule flags vs the targetted daily number of records flagged. This means that when the Bayesian Optimiser comes to maximise this metric, it will try to minimise the difference between the actual number of records flagged and the targetted number of records flagged.\n",
    "\n",
    "See the *metrics.unsupervised* module for more information on additional optimisation functions that can be used on unlabelled datasets.\n",
    "\n",
    "**Please see the class docstring for more information on each parameter.**"
   ],
   "metadata": {}
  },
  {
   "cell_type": "code",
   "execution_count": null,
   "source": [
    "apd = AlertsPerDay(\n",
    "    n_alerts_expected_per_day=10, \n",
    "    no_of_days_in_file=10\n",
    ")"
   ],
   "outputs": [],
   "metadata": {}
  },
  {
   "cell_type": "code",
   "execution_count": null,
   "source": [
    "params = {\n",
    "    'rule_lambdas': rule_lambdas,\n",
    "    'lambda_kwargs': rules.lambda_kwargs,\n",
    "    'opt_func': apd.fit,\n",
    "    'n_iter': 30,\n",
    "    'algorithm': tpe.suggest,\n",
    "    'num_cores': 1,\n",
    "    'verbose': 1,\n",
    "}"
   ],
   "outputs": [],
   "metadata": {}
  },
  {
   "cell_type": "markdown",
   "source": [
    "### Instantiate class and run fit method"
   ],
   "metadata": {}
  },
  {
   "cell_type": "markdown",
   "source": [
    "Once the parameters have been set, we can run the *.fit()* method to optimise the rules."
   ],
   "metadata": {}
  },
  {
   "cell_type": "code",
   "execution_count": null,
   "source": [
    "ro = BayesianOptimiser(**params)\n",
    "X_rules = ro.fit(X=X_train)"
   ],
   "outputs": [
    {
     "output_type": "stream",
     "name": "stdout",
     "text": [
      "--- Checking for rules with features that are missing in `X` ---\n",
      "100%|███████████████████████████████████████████████████████████████████████████████████████████████████████████████████████████████████████████████████| 19/19 [00:00<00:00, 118765.69it/s]\n",
      "--- Checking for rules that exclusively contain non-optimisable conditions ---\n",
      "100%|███████████████████████████████████████████████████████████████████████████████████████████████████████████████████████████████████████████████████| 19/19 [00:00<00:00, 115831.07it/s]\n",
      "--- Checking for rules that exclusively contain zero-variance features ---\n",
      "100%|███████████████████████████████████████████████████████████████████████████████████████████████████████████████████████████████████████████████████| 19/19 [00:00<00:00, 237885.90it/s]\n",
      "--- Optimising rules ---\n",
      "100%|███████████████████████████████████████████████████████████████████████████████████████████████████████████████████████████████████████████████████████| 19/19 [00:02<00:00,  6.91it/s]\n"
     ]
    }
   ],
   "metadata": {}
  },
  {
   "cell_type": "markdown",
   "source": [
    "### Outputs"
   ],
   "metadata": {
    "tags": []
   }
  },
  {
   "cell_type": "markdown",
   "source": [
    "The *.fit()* method returns a dataframe giving the binary columns of the optimised rules as applied to the training dataset. It also creates the following attributes:\n",
    "\n",
    "* rule_strings (dict): The optimised rules stored in the standard Iguanas string format (values) and their names (keys).\n",
    "* rule_descriptions (pd.Dataframe): A dataframe showing the logic of the rules and their performance metrics on the training dataset.\n",
    "* rule_names_missing_features (list): Names of rules which use features that are not present in the dataset (and therefore can't be optimised or applied).\n",
    "* rule_names_no_opt_conditions (list): Names of rules which have no optimisable conditions (e.g.rules that only contain string-based conditions).\n",
    "* rule_names_zero_var_features (list): Names of rules which exclusively contain zero variance features (based on `X`), so cannot be optimised.\n",
    "* opt_rule_performances (dict): The optimisation metric (values) calculated for each optimised rule (keys) on the training set.\n",
    "* orig_rule_performances (dict): The optimisation metric (values) calculated for each original rule (keys) on the training set.\n",
    "* non_optimisable_rules (Rules): A `Rules` object containing the rules which could not be optimised."
   ],
   "metadata": {}
  },
  {
   "cell_type": "code",
   "execution_count": null,
   "source": [
    "X_rules.head()"
   ],
   "outputs": [
    {
     "output_type": "execute_result",
     "data": {
      "text/plain": [
       "Rule                 RGDT_Rule81  RGDT_Rule24  RGDT_Rule137  RGDT_Rule263  \\\n",
       "eid                                                                         \n",
       "503-0182982-0226911            1            1             0             1   \n",
       "516-2441570-6696110            0            0             0             0   \n",
       "475-5982298-4197297            0            0             0             0   \n",
       "935-3613661-7862154            0            0             0             0   \n",
       "936-1684183-4550418            0            0             0             0   \n",
       "\n",
       "Rule                 RGDT_Rule272  ComplicatedRule  RGDT_Rule256  \\\n",
       "eid                                                                \n",
       "503-0182982-0226911             0                0             1   \n",
       "516-2441570-6696110             0                0             0   \n",
       "475-5982298-4197297             0                0             0   \n",
       "935-3613661-7862154             0                0             0   \n",
       "936-1684183-4550418             0                0             0   \n",
       "\n",
       "Rule                 RGDT_Rule162  RGDT_Rule35  RGDT_Rule2  RGDT_Rule313  \\\n",
       "eid                                                                        \n",
       "503-0182982-0226911             1            1           1             1   \n",
       "516-2441570-6696110             0            0           0             0   \n",
       "475-5982298-4197297             0            0           0             0   \n",
       "935-3613661-7862154             0            0           0             0   \n",
       "936-1684183-4550418             0            0           0             0   \n",
       "\n",
       "Rule                 RGDT_Rule193  RGDT_Rule112  RGDT_Rule195  RGDT_Rule45  \\\n",
       "eid                                                                          \n",
       "503-0182982-0226911             0             0             0            0   \n",
       "516-2441570-6696110             0             0             0            0   \n",
       "475-5982298-4197297             0             0             0            0   \n",
       "935-3613661-7862154             0             0             0            0   \n",
       "936-1684183-4550418             0             0             0            0   \n",
       "\n",
       "Rule                 RGDT_Rule153  HighFraudTxnPerAccountNum  RGDT_Rule241  \\\n",
       "eid                                                                          \n",
       "503-0182982-0226911             0                          0             0   \n",
       "516-2441570-6696110             0                          0             0   \n",
       "475-5982298-4197297             0                          0             0   \n",
       "935-3613661-7862154             0                          0             0   \n",
       "936-1684183-4550418             0                          0             0   \n",
       "\n",
       "Rule                 RGDT_Rule65  \n",
       "eid                               \n",
       "503-0182982-0226911            0  \n",
       "516-2441570-6696110            0  \n",
       "475-5982298-4197297            0  \n",
       "935-3613661-7862154            0  \n",
       "936-1684183-4550418            0  "
      ],
      "text/html": [
       "<div>\n",
       "<style scoped>\n",
       "    .dataframe tbody tr th:only-of-type {\n",
       "        vertical-align: middle;\n",
       "    }\n",
       "\n",
       "    .dataframe tbody tr th {\n",
       "        vertical-align: top;\n",
       "    }\n",
       "\n",
       "    .dataframe thead th {\n",
       "        text-align: right;\n",
       "    }\n",
       "</style>\n",
       "<table border=\"1\" class=\"dataframe\">\n",
       "  <thead>\n",
       "    <tr style=\"text-align: right;\">\n",
       "      <th>Rule</th>\n",
       "      <th>RGDT_Rule81</th>\n",
       "      <th>RGDT_Rule24</th>\n",
       "      <th>RGDT_Rule137</th>\n",
       "      <th>RGDT_Rule263</th>\n",
       "      <th>RGDT_Rule272</th>\n",
       "      <th>ComplicatedRule</th>\n",
       "      <th>RGDT_Rule256</th>\n",
       "      <th>RGDT_Rule162</th>\n",
       "      <th>RGDT_Rule35</th>\n",
       "      <th>RGDT_Rule2</th>\n",
       "      <th>RGDT_Rule313</th>\n",
       "      <th>RGDT_Rule193</th>\n",
       "      <th>RGDT_Rule112</th>\n",
       "      <th>RGDT_Rule195</th>\n",
       "      <th>RGDT_Rule45</th>\n",
       "      <th>RGDT_Rule153</th>\n",
       "      <th>HighFraudTxnPerAccountNum</th>\n",
       "      <th>RGDT_Rule241</th>\n",
       "      <th>RGDT_Rule65</th>\n",
       "    </tr>\n",
       "    <tr>\n",
       "      <th>eid</th>\n",
       "      <th></th>\n",
       "      <th></th>\n",
       "      <th></th>\n",
       "      <th></th>\n",
       "      <th></th>\n",
       "      <th></th>\n",
       "      <th></th>\n",
       "      <th></th>\n",
       "      <th></th>\n",
       "      <th></th>\n",
       "      <th></th>\n",
       "      <th></th>\n",
       "      <th></th>\n",
       "      <th></th>\n",
       "      <th></th>\n",
       "      <th></th>\n",
       "      <th></th>\n",
       "      <th></th>\n",
       "      <th></th>\n",
       "    </tr>\n",
       "  </thead>\n",
       "  <tbody>\n",
       "    <tr>\n",
       "      <th>503-0182982-0226911</th>\n",
       "      <td>1</td>\n",
       "      <td>1</td>\n",
       "      <td>0</td>\n",
       "      <td>1</td>\n",
       "      <td>0</td>\n",
       "      <td>0</td>\n",
       "      <td>1</td>\n",
       "      <td>1</td>\n",
       "      <td>1</td>\n",
       "      <td>1</td>\n",
       "      <td>1</td>\n",
       "      <td>0</td>\n",
       "      <td>0</td>\n",
       "      <td>0</td>\n",
       "      <td>0</td>\n",
       "      <td>0</td>\n",
       "      <td>0</td>\n",
       "      <td>0</td>\n",
       "      <td>0</td>\n",
       "    </tr>\n",
       "    <tr>\n",
       "      <th>516-2441570-6696110</th>\n",
       "      <td>0</td>\n",
       "      <td>0</td>\n",
       "      <td>0</td>\n",
       "      <td>0</td>\n",
       "      <td>0</td>\n",
       "      <td>0</td>\n",
       "      <td>0</td>\n",
       "      <td>0</td>\n",
       "      <td>0</td>\n",
       "      <td>0</td>\n",
       "      <td>0</td>\n",
       "      <td>0</td>\n",
       "      <td>0</td>\n",
       "      <td>0</td>\n",
       "      <td>0</td>\n",
       "      <td>0</td>\n",
       "      <td>0</td>\n",
       "      <td>0</td>\n",
       "      <td>0</td>\n",
       "    </tr>\n",
       "    <tr>\n",
       "      <th>475-5982298-4197297</th>\n",
       "      <td>0</td>\n",
       "      <td>0</td>\n",
       "      <td>0</td>\n",
       "      <td>0</td>\n",
       "      <td>0</td>\n",
       "      <td>0</td>\n",
       "      <td>0</td>\n",
       "      <td>0</td>\n",
       "      <td>0</td>\n",
       "      <td>0</td>\n",
       "      <td>0</td>\n",
       "      <td>0</td>\n",
       "      <td>0</td>\n",
       "      <td>0</td>\n",
       "      <td>0</td>\n",
       "      <td>0</td>\n",
       "      <td>0</td>\n",
       "      <td>0</td>\n",
       "      <td>0</td>\n",
       "    </tr>\n",
       "    <tr>\n",
       "      <th>935-3613661-7862154</th>\n",
       "      <td>0</td>\n",
       "      <td>0</td>\n",
       "      <td>0</td>\n",
       "      <td>0</td>\n",
       "      <td>0</td>\n",
       "      <td>0</td>\n",
       "      <td>0</td>\n",
       "      <td>0</td>\n",
       "      <td>0</td>\n",
       "      <td>0</td>\n",
       "      <td>0</td>\n",
       "      <td>0</td>\n",
       "      <td>0</td>\n",
       "      <td>0</td>\n",
       "      <td>0</td>\n",
       "      <td>0</td>\n",
       "      <td>0</td>\n",
       "      <td>0</td>\n",
       "      <td>0</td>\n",
       "    </tr>\n",
       "    <tr>\n",
       "      <th>936-1684183-4550418</th>\n",
       "      <td>0</td>\n",
       "      <td>0</td>\n",
       "      <td>0</td>\n",
       "      <td>0</td>\n",
       "      <td>0</td>\n",
       "      <td>0</td>\n",
       "      <td>0</td>\n",
       "      <td>0</td>\n",
       "      <td>0</td>\n",
       "      <td>0</td>\n",
       "      <td>0</td>\n",
       "      <td>0</td>\n",
       "      <td>0</td>\n",
       "      <td>0</td>\n",
       "      <td>0</td>\n",
       "      <td>0</td>\n",
       "      <td>0</td>\n",
       "      <td>0</td>\n",
       "      <td>0</td>\n",
       "    </tr>\n",
       "  </tbody>\n",
       "</table>\n",
       "</div>"
      ]
     },
     "metadata": {},
     "execution_count": 32
    }
   ],
   "metadata": {}
  },
  {
   "cell_type": "code",
   "execution_count": null,
   "source": [
    "ro.rule_strings"
   ],
   "outputs": [
    {
     "output_type": "execute_result",
     "data": {
      "text/plain": [
       "{'RGDT_Rule137': \"((X['account_number_avg_order_total_per_account_number_7day']<=235.77924922263912)|(X['account_number_avg_order_total_per_account_number_7day'].isna()))&(X['account_number_num_fraud_transactions_per_account_number_1day']>=1)&(X['account_number_num_fraud_transactions_per_account_number_90day']>=1)&((X['account_number_sum_order_total_per_account_number_1day']<=3273.978958931867)|(X['account_number_sum_order_total_per_account_number_1day'].isna()))\",\n",
       " 'RGDT_Rule81': \"(X['account_number_avg_order_total_per_account_number_1day']>729.0157066766448)&(X['account_number_num_fraud_transactions_per_account_number_lifetime']>=0)&((X['account_number_num_order_items_per_account_number_30day']<=5)|(X['account_number_num_order_items_per_account_number_30day'].isna()))&((X['account_number_sum_order_total_per_account_number_1day']<=2496.2529968931435)|(X['account_number_sum_order_total_per_account_number_1day'].isna()))\",\n",
       " 'HighFraudTxnPerAccountNum': \"(X['account_number_num_fraud_transactions_per_account_number_1day']>=2)\",\n",
       " 'RGDT_Rule256': \"(X['account_number_num_fraud_transactions_per_account_number_1day']>=1)&((X['account_number_sum_order_total_per_account_number_90day']<=2401.0472870173962)|(X['account_number_sum_order_total_per_account_number_90day'].isna()))&(X['is_billing_shipping_city_same']==False)\",\n",
       " 'RGDT_Rule35': \"(X['account_number_num_fraud_transactions_per_account_number_7day']>=0)&(X['account_number_num_fraud_transactions_per_account_number_lifetime']>=1)&((X['account_number_num_order_items_per_account_number_lifetime']<=9)|(X['account_number_num_order_items_per_account_number_lifetime'].isna()))&(X['is_existing_user']==True)\",\n",
       " 'RGDT_Rule193': \"(X['account_number_num_distinct_transaction_per_account_number_30day']>=2.0)&(X['account_number_num_fraud_transactions_per_account_number_lifetime']>=2.0)\",\n",
       " 'RGDT_Rule241': \"(X['account_number_avg_order_total_per_account_number_90day']>153.949)&(X['account_number_num_fraud_transactions_per_account_number_1day']>=1.0)&((X['account_number_sum_order_total_per_account_number_1day']<=623.10999)|(X['account_number_sum_order_total_per_account_number_1day'].isna()))&(X['account_number_sum_order_total_per_account_number_30day']>329.12)\",\n",
       " 'RGDT_Rule263': \"(X['account_number_num_fraud_transactions_per_account_number_30day']>=0)&((X['account_number_sum_order_total_per_account_number_1day']<=1837.558384451298)|(X['account_number_sum_order_total_per_account_number_1day'].isna()))&(X['account_number_sum_order_total_per_account_number_7day']>885.4399379165117)&((X['account_number_sum_order_total_per_account_number_90day']<=3327.687437166159)|(X['account_number_sum_order_total_per_account_number_90day'].isna()))\",\n",
       " 'RGDT_Rule313': \"(X['account_number_num_fraud_transactions_per_account_number_1day']>=0)&(X['account_number_sum_order_total_per_account_number_30day']>948.2974014046503)&(X['account_number_sum_order_total_per_account_number_90day']>765.1830069535499)&(X['is_existing_user']==True)\",\n",
       " 'RGDT_Rule195': \"(X['account_number_num_fraud_transactions_per_account_number_1day']>=0)&(X['account_number_num_fraud_transactions_per_account_number_30day']>=2)&(X['account_number_num_fraud_transactions_per_account_number_lifetime']>=2)&(X['account_number_num_order_items_per_account_number_7day']>=0)\",\n",
       " 'RGDT_Rule153': \"(X['account_number_avg_order_total_per_account_number_90day']>186.6722587333886)&(X['account_number_num_fraud_transactions_per_account_number_1day']>=1)&(X['account_number_num_order_items_per_account_number_lifetime']>=3)&((X['order_total']<=1824.5846949202348)|(X['order_total'].isna()))\",\n",
       " 'RGDT_Rule112': \"(X['account_number_num_distinct_transaction_per_account_number_90day']>=2)&(X['account_number_num_fraud_transactions_per_account_number_30day']>=1)&(X['account_number_num_fraud_transactions_per_account_number_lifetime']>=2)&((X['account_number_num_order_items_per_account_number_90day']<=12)|(X['account_number_num_order_items_per_account_number_90day'].isna()))\",\n",
       " 'RGDT_Rule2': \"((X['account_number_num_distinct_transaction_per_account_number_1day']<=8)|(X['account_number_num_distinct_transaction_per_account_number_1day'].isna()))&(X['account_number_num_fraud_transactions_per_account_number_7day']>=1)&((X['account_number_num_fraud_transactions_per_account_number_lifetime']<=6)|(X['account_number_num_fraud_transactions_per_account_number_lifetime'].isna()))&(X['is_existing_user']==True)\",\n",
       " 'RGDT_Rule65': \"(X['account_number_num_fraud_transactions_per_account_number_1day']>=1.0)&((X['account_number_sum_order_total_per_account_number_1day']<=950.89999)|(X['account_number_sum_order_total_per_account_number_1day'].isna()))&(X['account_number_sum_order_total_per_account_number_30day']>766.82501)&(X['is_billing_shipping_city_same']==False)\",\n",
       " 'RGDT_Rule45': \"((X['account_number_avg_order_total_per_account_number_1day']<=1561.8965582295737)|(X['account_number_avg_order_total_per_account_number_1day'].isna()))&(X['account_number_num_fraud_transactions_per_account_number_90day']>=2)&(X['account_number_num_fraud_transactions_per_account_number_lifetime']>=1)&(X['account_number_sum_order_total_per_account_number_90day']>2.6371929553035898)\",\n",
       " 'RGDT_Rule162': \"(X['account_number_num_fraud_transactions_per_account_number_90day']>=1)&(X['num_order_items']>=1)&(X['order_total']>611.5506555826788)\",\n",
       " 'RGDT_Rule272': \"((X['account_number_avg_order_total_per_account_number_90day']<=1624.2836833824722)|(X['account_number_avg_order_total_per_account_number_90day'].isna()))&(X['account_number_num_distinct_transaction_per_account_number_30day']>=3)&(X['account_number_num_fraud_transactions_per_account_number_30day']>=0)&(X['account_number_num_fraud_transactions_per_account_number_lifetime']>=0)\",\n",
       " 'RGDT_Rule24': \"(X['account_number_avg_order_total_per_account_number_90day']>729.0157066766448)&(X['account_number_num_fraud_transactions_per_account_number_lifetime']>=0)&((X['account_number_num_order_items_per_account_number_lifetime']<=5)|(X['account_number_num_order_items_per_account_number_lifetime'].isna()))&((X['account_number_sum_order_total_per_account_number_7day']<=2496.2529968931435)|(X['account_number_sum_order_total_per_account_number_7day'].isna()))\",\n",
       " 'ComplicatedRule': \"(X['num_order_items']>2)&(((X['order_total']>1816.1469372400325)&(X['is_existing_user']==True))|((X['order_total']>191.04029715550308)&(X['is_existing_user']==False))|(X['billing_city'].str.startswith('B', na=False)))\"}"
      ]
     },
     "metadata": {},
     "execution_count": 33
    }
   ],
   "metadata": {}
  },
  {
   "cell_type": "code",
   "execution_count": null,
   "source": [
    "ro.rule_descriptions.head()"
   ],
   "outputs": [
    {
     "output_type": "execute_result",
     "data": {
      "text/plain": [
       "              PercDataFlagged  OptMetric  \\\n",
       "Rule                                       \n",
       "RGDT_Rule81          0.011131      -0.01   \n",
       "RGDT_Rule24          0.011019      -0.04   \n",
       "RGDT_Rule137         0.011581      -0.09   \n",
       "RGDT_Rule263         0.010569      -0.36   \n",
       "RGDT_Rule272         0.010344      -0.64   \n",
       "\n",
       "                                                          Logic  nConditions  \n",
       "Rule                                                                          \n",
       "RGDT_Rule81   (X['account_number_avg_order_total_per_account...            6  \n",
       "RGDT_Rule24   (X['account_number_avg_order_total_per_account...            6  \n",
       "RGDT_Rule137  ((X['account_number_avg_order_total_per_accoun...            6  \n",
       "RGDT_Rule263  (X['account_number_num_fraud_transactions_per_...            6  \n",
       "RGDT_Rule272  ((X['account_number_avg_order_total_per_accoun...            5  "
      ],
      "text/html": [
       "<div>\n",
       "<style scoped>\n",
       "    .dataframe tbody tr th:only-of-type {\n",
       "        vertical-align: middle;\n",
       "    }\n",
       "\n",
       "    .dataframe tbody tr th {\n",
       "        vertical-align: top;\n",
       "    }\n",
       "\n",
       "    .dataframe thead th {\n",
       "        text-align: right;\n",
       "    }\n",
       "</style>\n",
       "<table border=\"1\" class=\"dataframe\">\n",
       "  <thead>\n",
       "    <tr style=\"text-align: right;\">\n",
       "      <th></th>\n",
       "      <th>PercDataFlagged</th>\n",
       "      <th>OptMetric</th>\n",
       "      <th>Logic</th>\n",
       "      <th>nConditions</th>\n",
       "    </tr>\n",
       "    <tr>\n",
       "      <th>Rule</th>\n",
       "      <th></th>\n",
       "      <th></th>\n",
       "      <th></th>\n",
       "      <th></th>\n",
       "    </tr>\n",
       "  </thead>\n",
       "  <tbody>\n",
       "    <tr>\n",
       "      <th>RGDT_Rule81</th>\n",
       "      <td>0.011131</td>\n",
       "      <td>-0.01</td>\n",
       "      <td>(X['account_number_avg_order_total_per_account...</td>\n",
       "      <td>6</td>\n",
       "    </tr>\n",
       "    <tr>\n",
       "      <th>RGDT_Rule24</th>\n",
       "      <td>0.011019</td>\n",
       "      <td>-0.04</td>\n",
       "      <td>(X['account_number_avg_order_total_per_account...</td>\n",
       "      <td>6</td>\n",
       "    </tr>\n",
       "    <tr>\n",
       "      <th>RGDT_Rule137</th>\n",
       "      <td>0.011581</td>\n",
       "      <td>-0.09</td>\n",
       "      <td>((X['account_number_avg_order_total_per_accoun...</td>\n",
       "      <td>6</td>\n",
       "    </tr>\n",
       "    <tr>\n",
       "      <th>RGDT_Rule263</th>\n",
       "      <td>0.010569</td>\n",
       "      <td>-0.36</td>\n",
       "      <td>(X['account_number_num_fraud_transactions_per_...</td>\n",
       "      <td>6</td>\n",
       "    </tr>\n",
       "    <tr>\n",
       "      <th>RGDT_Rule272</th>\n",
       "      <td>0.010344</td>\n",
       "      <td>-0.64</td>\n",
       "      <td>((X['account_number_avg_order_total_per_accoun...</td>\n",
       "      <td>5</td>\n",
       "    </tr>\n",
       "  </tbody>\n",
       "</table>\n",
       "</div>"
      ]
     },
     "metadata": {},
     "execution_count": 34
    }
   ],
   "metadata": {}
  },
  {
   "cell_type": "code",
   "execution_count": null,
   "source": [
    "ro.opt_rule_performances"
   ],
   "outputs": [
    {
     "output_type": "execute_result",
     "data": {
      "text/plain": [
       "{'RGDT_Rule81': -0.009999999999999929,\n",
       " 'RGDT_Rule24': -0.039999999999999716,\n",
       " 'RGDT_Rule137': -0.09000000000000043,\n",
       " 'RGDT_Rule263': -0.3599999999999996,\n",
       " 'RGDT_Rule272': -0.6400000000000011,\n",
       " 'ComplicatedRule': -1.0,\n",
       " 'RGDT_Rule256': -1.0,\n",
       " 'RGDT_Rule162': -3.2400000000000024,\n",
       " 'RGDT_Rule35': -7.290000000000001,\n",
       " 'RGDT_Rule2': -12.25,\n",
       " 'RGDT_Rule313': -22.090000000000003,\n",
       " 'RGDT_Rule193': -25.0,\n",
       " 'RGDT_Rule112': -26.009999999999998,\n",
       " 'RGDT_Rule195': -29.160000000000004,\n",
       " 'RGDT_Rule45': -33.64,\n",
       " 'RGDT_Rule153': -37.209999999999994,\n",
       " 'HighFraudTxnPerAccountNum': -57.76,\n",
       " 'RGDT_Rule241': -39.69,\n",
       " 'RGDT_Rule65': -73.96}"
      ]
     },
     "metadata": {},
     "execution_count": 35
    }
   ],
   "metadata": {}
  },
  {
   "cell_type": "markdown",
   "source": [
    "---"
   ],
   "metadata": {}
  },
  {
   "cell_type": "markdown",
   "source": [
    "## Apply rules to a separate dataset"
   ],
   "metadata": {}
  },
  {
   "cell_type": "markdown",
   "source": [
    "Use the *.transform()* method to apply the optimised rules to a separate dataset:"
   ],
   "metadata": {}
  },
  {
   "cell_type": "code",
   "execution_count": null,
   "source": [
    "X_rules_applied = ro.transform(X=X_test)"
   ],
   "outputs": [],
   "metadata": {}
  },
  {
   "cell_type": "markdown",
   "source": [
    "### Outputs"
   ],
   "metadata": {}
  },
  {
   "cell_type": "markdown",
   "source": [
    "The *.transform()* method returns a dataframe giving the binary columns of the rules as applied to the given dataset.\n",
    "\n",
    "A useful attribute created by running the *.transform()* method is:\n",
    "\n",
    "* rule_descriptions: A dataframe showing the logic of the optimised rules and their performance metrics as applied to the given dataset."
   ],
   "metadata": {}
  },
  {
   "cell_type": "code",
   "execution_count": null,
   "source": [
    "ro.rule_descriptions.head()"
   ],
   "outputs": [
    {
     "output_type": "execute_result",
     "data": {
      "text/plain": [
       "              PercDataFlagged  OptMetric  \\\n",
       "Rule                                       \n",
       "RGDT_Rule24          0.011639     -24.01   \n",
       "RGDT_Rule81          0.011639     -24.01   \n",
       "RGDT_Rule137         0.011182     -26.01   \n",
       "RGDT_Rule263         0.011182     -26.01   \n",
       "RGDT_Rule256         0.010497     -29.16   \n",
       "\n",
       "                                                          Logic  nConditions  \n",
       "Rule                                                                          \n",
       "RGDT_Rule24   (X['account_number_avg_order_total_per_account...            6  \n",
       "RGDT_Rule81   (X['account_number_avg_order_total_per_account...            6  \n",
       "RGDT_Rule137  ((X['account_number_avg_order_total_per_accoun...            6  \n",
       "RGDT_Rule263  (X['account_number_num_fraud_transactions_per_...            6  \n",
       "RGDT_Rule256  (X['account_number_num_fraud_transactions_per_...            4  "
      ],
      "text/html": [
       "<div>\n",
       "<style scoped>\n",
       "    .dataframe tbody tr th:only-of-type {\n",
       "        vertical-align: middle;\n",
       "    }\n",
       "\n",
       "    .dataframe tbody tr th {\n",
       "        vertical-align: top;\n",
       "    }\n",
       "\n",
       "    .dataframe thead th {\n",
       "        text-align: right;\n",
       "    }\n",
       "</style>\n",
       "<table border=\"1\" class=\"dataframe\">\n",
       "  <thead>\n",
       "    <tr style=\"text-align: right;\">\n",
       "      <th></th>\n",
       "      <th>PercDataFlagged</th>\n",
       "      <th>OptMetric</th>\n",
       "      <th>Logic</th>\n",
       "      <th>nConditions</th>\n",
       "    </tr>\n",
       "    <tr>\n",
       "      <th>Rule</th>\n",
       "      <th></th>\n",
       "      <th></th>\n",
       "      <th></th>\n",
       "      <th></th>\n",
       "    </tr>\n",
       "  </thead>\n",
       "  <tbody>\n",
       "    <tr>\n",
       "      <th>RGDT_Rule24</th>\n",
       "      <td>0.011639</td>\n",
       "      <td>-24.01</td>\n",
       "      <td>(X['account_number_avg_order_total_per_account...</td>\n",
       "      <td>6</td>\n",
       "    </tr>\n",
       "    <tr>\n",
       "      <th>RGDT_Rule81</th>\n",
       "      <td>0.011639</td>\n",
       "      <td>-24.01</td>\n",
       "      <td>(X['account_number_avg_order_total_per_account...</td>\n",
       "      <td>6</td>\n",
       "    </tr>\n",
       "    <tr>\n",
       "      <th>RGDT_Rule137</th>\n",
       "      <td>0.011182</td>\n",
       "      <td>-26.01</td>\n",
       "      <td>((X['account_number_avg_order_total_per_accoun...</td>\n",
       "      <td>6</td>\n",
       "    </tr>\n",
       "    <tr>\n",
       "      <th>RGDT_Rule263</th>\n",
       "      <td>0.011182</td>\n",
       "      <td>-26.01</td>\n",
       "      <td>(X['account_number_num_fraud_transactions_per_...</td>\n",
       "      <td>6</td>\n",
       "    </tr>\n",
       "    <tr>\n",
       "      <th>RGDT_Rule256</th>\n",
       "      <td>0.010497</td>\n",
       "      <td>-29.16</td>\n",
       "      <td>(X['account_number_num_fraud_transactions_per_...</td>\n",
       "      <td>4</td>\n",
       "    </tr>\n",
       "  </tbody>\n",
       "</table>\n",
       "</div>"
      ]
     },
     "metadata": {},
     "execution_count": 37
    }
   ],
   "metadata": {}
  },
  {
   "cell_type": "code",
   "execution_count": null,
   "source": [
    "X_rules_applied.head()"
   ],
   "outputs": [
    {
     "output_type": "execute_result",
     "data": {
      "text/plain": [
       "Rule                 RGDT_Rule24  RGDT_Rule81  RGDT_Rule137  RGDT_Rule263  \\\n",
       "eid                                                                         \n",
       "533-3553708-0918604            0            0             0             0   \n",
       "455-3498977-3144749            0            0             0             0   \n",
       "585-6596459-3918216            0            0             0             0   \n",
       "685-6642742-5806657            0            0             0             0   \n",
       "956-2823525-9957253            0            0             0             0   \n",
       "\n",
       "Rule                 RGDT_Rule256  RGDT_Rule35  RGDT_Rule2  RGDT_Rule272  \\\n",
       "eid                                                                        \n",
       "533-3553708-0918604             0            0           0             0   \n",
       "455-3498977-3144749             0            0           0             0   \n",
       "585-6596459-3918216             0            0           0             0   \n",
       "685-6642742-5806657             0            0           0             0   \n",
       "956-2823525-9957253             0            0           0             0   \n",
       "\n",
       "Rule                 RGDT_Rule162  RGDT_Rule313  ComplicatedRule  \\\n",
       "eid                                                                \n",
       "533-3553708-0918604             0             0                0   \n",
       "455-3498977-3144749             0             0                0   \n",
       "585-6596459-3918216             0             0                0   \n",
       "685-6642742-5806657             0             0                0   \n",
       "956-2823525-9957253             0             0                0   \n",
       "\n",
       "Rule                 RGDT_Rule112  RGDT_Rule153  RGDT_Rule193  RGDT_Rule195  \\\n",
       "eid                                                                           \n",
       "533-3553708-0918604             0             0             0             0   \n",
       "455-3498977-3144749             0             0             0             0   \n",
       "585-6596459-3918216             0             0             0             0   \n",
       "685-6642742-5806657             0             0             0             0   \n",
       "956-2823525-9957253             0             0             0             0   \n",
       "\n",
       "Rule                 RGDT_Rule45  RGDT_Rule241  HighFraudTxnPerAccountNum  \\\n",
       "eid                                                                         \n",
       "533-3553708-0918604            0             0                          0   \n",
       "455-3498977-3144749            0             0                          0   \n",
       "585-6596459-3918216            0             0                          0   \n",
       "685-6642742-5806657            0             0                          0   \n",
       "956-2823525-9957253            0             0                          0   \n",
       "\n",
       "Rule                 RGDT_Rule65  \n",
       "eid                               \n",
       "533-3553708-0918604            0  \n",
       "455-3498977-3144749            0  \n",
       "585-6596459-3918216            0  \n",
       "685-6642742-5806657            0  \n",
       "956-2823525-9957253            0  "
      ],
      "text/html": [
       "<div>\n",
       "<style scoped>\n",
       "    .dataframe tbody tr th:only-of-type {\n",
       "        vertical-align: middle;\n",
       "    }\n",
       "\n",
       "    .dataframe tbody tr th {\n",
       "        vertical-align: top;\n",
       "    }\n",
       "\n",
       "    .dataframe thead th {\n",
       "        text-align: right;\n",
       "    }\n",
       "</style>\n",
       "<table border=\"1\" class=\"dataframe\">\n",
       "  <thead>\n",
       "    <tr style=\"text-align: right;\">\n",
       "      <th>Rule</th>\n",
       "      <th>RGDT_Rule24</th>\n",
       "      <th>RGDT_Rule81</th>\n",
       "      <th>RGDT_Rule137</th>\n",
       "      <th>RGDT_Rule263</th>\n",
       "      <th>RGDT_Rule256</th>\n",
       "      <th>RGDT_Rule35</th>\n",
       "      <th>RGDT_Rule2</th>\n",
       "      <th>RGDT_Rule272</th>\n",
       "      <th>RGDT_Rule162</th>\n",
       "      <th>RGDT_Rule313</th>\n",
       "      <th>ComplicatedRule</th>\n",
       "      <th>RGDT_Rule112</th>\n",
       "      <th>RGDT_Rule153</th>\n",
       "      <th>RGDT_Rule193</th>\n",
       "      <th>RGDT_Rule195</th>\n",
       "      <th>RGDT_Rule45</th>\n",
       "      <th>RGDT_Rule241</th>\n",
       "      <th>HighFraudTxnPerAccountNum</th>\n",
       "      <th>RGDT_Rule65</th>\n",
       "    </tr>\n",
       "    <tr>\n",
       "      <th>eid</th>\n",
       "      <th></th>\n",
       "      <th></th>\n",
       "      <th></th>\n",
       "      <th></th>\n",
       "      <th></th>\n",
       "      <th></th>\n",
       "      <th></th>\n",
       "      <th></th>\n",
       "      <th></th>\n",
       "      <th></th>\n",
       "      <th></th>\n",
       "      <th></th>\n",
       "      <th></th>\n",
       "      <th></th>\n",
       "      <th></th>\n",
       "      <th></th>\n",
       "      <th></th>\n",
       "      <th></th>\n",
       "      <th></th>\n",
       "    </tr>\n",
       "  </thead>\n",
       "  <tbody>\n",
       "    <tr>\n",
       "      <th>533-3553708-0918604</th>\n",
       "      <td>0</td>\n",
       "      <td>0</td>\n",
       "      <td>0</td>\n",
       "      <td>0</td>\n",
       "      <td>0</td>\n",
       "      <td>0</td>\n",
       "      <td>0</td>\n",
       "      <td>0</td>\n",
       "      <td>0</td>\n",
       "      <td>0</td>\n",
       "      <td>0</td>\n",
       "      <td>0</td>\n",
       "      <td>0</td>\n",
       "      <td>0</td>\n",
       "      <td>0</td>\n",
       "      <td>0</td>\n",
       "      <td>0</td>\n",
       "      <td>0</td>\n",
       "      <td>0</td>\n",
       "    </tr>\n",
       "    <tr>\n",
       "      <th>455-3498977-3144749</th>\n",
       "      <td>0</td>\n",
       "      <td>0</td>\n",
       "      <td>0</td>\n",
       "      <td>0</td>\n",
       "      <td>0</td>\n",
       "      <td>0</td>\n",
       "      <td>0</td>\n",
       "      <td>0</td>\n",
       "      <td>0</td>\n",
       "      <td>0</td>\n",
       "      <td>0</td>\n",
       "      <td>0</td>\n",
       "      <td>0</td>\n",
       "      <td>0</td>\n",
       "      <td>0</td>\n",
       "      <td>0</td>\n",
       "      <td>0</td>\n",
       "      <td>0</td>\n",
       "      <td>0</td>\n",
       "    </tr>\n",
       "    <tr>\n",
       "      <th>585-6596459-3918216</th>\n",
       "      <td>0</td>\n",
       "      <td>0</td>\n",
       "      <td>0</td>\n",
       "      <td>0</td>\n",
       "      <td>0</td>\n",
       "      <td>0</td>\n",
       "      <td>0</td>\n",
       "      <td>0</td>\n",
       "      <td>0</td>\n",
       "      <td>0</td>\n",
       "      <td>0</td>\n",
       "      <td>0</td>\n",
       "      <td>0</td>\n",
       "      <td>0</td>\n",
       "      <td>0</td>\n",
       "      <td>0</td>\n",
       "      <td>0</td>\n",
       "      <td>0</td>\n",
       "      <td>0</td>\n",
       "    </tr>\n",
       "    <tr>\n",
       "      <th>685-6642742-5806657</th>\n",
       "      <td>0</td>\n",
       "      <td>0</td>\n",
       "      <td>0</td>\n",
       "      <td>0</td>\n",
       "      <td>0</td>\n",
       "      <td>0</td>\n",
       "      <td>0</td>\n",
       "      <td>0</td>\n",
       "      <td>0</td>\n",
       "      <td>0</td>\n",
       "      <td>0</td>\n",
       "      <td>0</td>\n",
       "      <td>0</td>\n",
       "      <td>0</td>\n",
       "      <td>0</td>\n",
       "      <td>0</td>\n",
       "      <td>0</td>\n",
       "      <td>0</td>\n",
       "      <td>0</td>\n",
       "    </tr>\n",
       "    <tr>\n",
       "      <th>956-2823525-9957253</th>\n",
       "      <td>0</td>\n",
       "      <td>0</td>\n",
       "      <td>0</td>\n",
       "      <td>0</td>\n",
       "      <td>0</td>\n",
       "      <td>0</td>\n",
       "      <td>0</td>\n",
       "      <td>0</td>\n",
       "      <td>0</td>\n",
       "      <td>0</td>\n",
       "      <td>0</td>\n",
       "      <td>0</td>\n",
       "      <td>0</td>\n",
       "      <td>0</td>\n",
       "      <td>0</td>\n",
       "      <td>0</td>\n",
       "      <td>0</td>\n",
       "      <td>0</td>\n",
       "      <td>0</td>\n",
       "    </tr>\n",
       "  </tbody>\n",
       "</table>\n",
       "</div>"
      ]
     },
     "metadata": {},
     "execution_count": 38
    }
   ],
   "metadata": {}
  },
  {
   "cell_type": "markdown",
   "source": [
    "---"
   ],
   "metadata": {}
  },
  {
   "cell_type": "markdown",
   "source": [
    "## Plotting the performance uplift"
   ],
   "metadata": {}
  },
  {
   "cell_type": "markdown",
   "source": [
    "We can visualise the performance uplift of the optimised rules using the *.plot_performance_uplift()* and *.plot_performance_uplift_distribution()* methods:\n",
    "\n",
    "* *.plot_performance_uplift()*: Generates a scatterplot showing the performance of each rule before and after optimisation.\n",
    "* *.plot_performance_uplift_distribution()*: Generates a boxplot showing the distribution of performance uplifts (original rules vs optimised rules)."
   ],
   "metadata": {}
  },
  {
   "cell_type": "markdown",
   "source": [
    "### On the training set"
   ],
   "metadata": {}
  },
  {
   "cell_type": "markdown",
   "source": [
    "To visualise the uplift on the training set, we can use the class attributes *orig_rule_performances* and *opt_rule_performances* in the plotting methods, as these were generated as part of the optimisation process:"
   ],
   "metadata": {}
  },
  {
   "cell_type": "code",
   "execution_count": null,
   "source": [
    "ro.plot_performance_uplift(\n",
    "    orig_rule_performances=ro.orig_rule_performances,\n",
    "    opt_rule_performances=ro.opt_rule_performances,\n",
    "    figsize=(10, 5)\n",
    ")"
   ],
   "outputs": [
    {
     "output_type": "display_data",
     "data": {
      "text/plain": [
       "<Figure size 720x360 with 1 Axes>"
      ],
      "image/png": "[encoded data removed]"
     },
     "metadata": {}
    }
   ],
   "metadata": {}
  },
  {
   "cell_type": "code",
   "execution_count": null,
   "source": [
    "ro.plot_performance_uplift_distribution(\n",
    "    orig_rule_performances=ro.orig_rule_performances,\n",
    "    opt_rule_performances=ro.opt_rule_performances,\n",
    "    figsize=(3, 7)\n",
    ")"
   ],
   "outputs": [
    {
     "output_type": "display_data",
     "data": {
      "text/plain": [
       "<Figure size 216x504 with 1 Axes>"
      ],
      "image/png": "[encoded data removed]"
     },
     "metadata": {}
    }
   ],
   "metadata": {}
  },
  {
   "cell_type": "markdown",
   "source": [
    "### On the test set"
   ],
   "metadata": {}
  },
  {
   "cell_type": "markdown",
   "source": [
    "To visualise the uplift on the test set, we first need to generate the *orig_rule_performances* and *opt_rule_performances* parameters used in the plotting methods as these aren't created as part of the optimisation process. To do this, we need to apply both the original rules and the optimised rules to the test set. **Note that before we apply the original rules, we need to remove those that either have no optimisable conditions, have zero variance features or have features that are missing in *X_train*:**"
   ],
   "metadata": {}
  },
  {
   "cell_type": "code",
   "execution_count": null,
   "source": [
    "# Original rules\n",
    "rules_to_exclude = ro.rule_names_missing_features + ro.rule_names_no_opt_conditions + ro.rule_names_zero_var_features\n",
    "rules.filter_rules(exclude=rules_to_exclude)\n",
    "orig_sys_rule_strings = rules.as_rule_strings(as_numpy=False)\n",
    "orig_ra = RuleApplier(\n",
    "    rule_strings=orig_sys_rule_strings, \n",
    "    opt_func=apd.fit\n",
    ")\n",
    "_ = orig_ra.transform(X=X_test)\n",
    "orig_rule_performances_test = orig_ra.rule_descriptions['OptMetric']"
   ],
   "outputs": [],
   "metadata": {}
  },
  {
   "cell_type": "code",
   "execution_count": null,
   "source": [
    "# Optimised rules\n",
    "_ = ro.transform(X=X_test)\n",
    "opt_rule_performances_test = ro.rule_descriptions['OptMetric']"
   ],
   "outputs": [],
   "metadata": {}
  },
  {
   "cell_type": "code",
   "execution_count": null,
   "source": [
    "ro.plot_performance_uplift(\n",
    "    orig_rule_performances=orig_rule_performances_test,\n",
    "    opt_rule_performances=opt_rule_performances_test,\n",
    "    figsize=(10, 5)\n",
    ")"
   ],
   "outputs": [
    {
     "output_type": "display_data",
     "data": {
      "text/plain": [
       "<Figure size 720x360 with 1 Axes>"
      ],
      "image/png": "[encoded data removed]"
     },
     "metadata": {}
    }
   ],
   "metadata": {}
  },
  {
   "cell_type": "code",
   "execution_count": null,
   "source": [
    "ro.plot_performance_uplift_distribution(\n",
    "    orig_rule_performances=orig_rule_performances_test,\n",
    "    opt_rule_performances=opt_rule_performances_test,\n",
    "    figsize=(3, 7)\n",
    ")"
   ],
   "outputs": [
    {
     "output_type": "display_data",
     "data": {
      "text/plain": [
       "<Figure size 216x504 with 1 Axes>"
      ],
      "image/png": "[encoded data removed]"
     },
     "metadata": {}
    }
   ],
   "metadata": {}
  },
  {
   "cell_type": "markdown",
   "source": [
    "----"
   ],
   "metadata": {}
  }
 ],
 "metadata": {
  "kernelspec": {
   "name": "python3",
   "display_name": "Python 3.8.9 64-bit ('iguanas_os_dev': venv)"
  },
  "language_info": {
   "codemirror_mode": {
    "name": "ipython",
    "version": 3
   },
   "file_extension": ".py",
   "mimetype": "text/x-python",
   "name": "python",
   "nbconvert_exporter": "python",
   "pygments_lexer": "ipython3",
   "version": "3.8.9"
  },
  "interpreter": {
   "hash": "6a5a22224d030f6805b27da964f50b3905be89918ca593f843e32c3b2a80fa84"
  }
 },
 "nbformat": 4,
 "nbformat_minor": 4
}