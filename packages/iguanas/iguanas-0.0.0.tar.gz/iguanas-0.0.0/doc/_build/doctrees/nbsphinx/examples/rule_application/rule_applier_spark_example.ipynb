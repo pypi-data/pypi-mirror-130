{
 "cells": [
  {
   "cell_type": "markdown",
   "metadata": {},
   "source": [
    "# Rule Applier Spark Example"
   ]
  },
  {
   "cell_type": "markdown",
   "metadata": {},
   "source": [
    "This notebook contains an example of how the Rule Applier can be used to apply Iguanas-readable rules to a dataset stored in Spark."
   ]
  },
  {
   "cell_type": "markdown",
   "metadata": {},
   "source": [
    "## Requirements"
   ]
  },
  {
   "cell_type": "markdown",
   "metadata": {},
   "source": [
    "To run, you'll need the following:\n",
    "\n",
    "* A dataset containing the same features used in the rules."
   ]
  },
  {
   "cell_type": "markdown",
   "metadata": {},
   "source": [
    "----"
   ]
  },
  {
   "cell_type": "markdown",
   "metadata": {},
   "source": [
    "## Import packages"
   ]
  },
  {
   "cell_type": "code",
   "execution_count": 1,
   "metadata": {},
   "outputs": [],
   "source": [
    "from iguanas.rule_application import RuleApplier\n",
    "from iguanas.metrics.classification import FScore\n",
    "\n",
    "import databricks.koalas as ks"
   ]
  },
  {
   "cell_type": "markdown",
   "metadata": {},
   "source": [
    "## Read in data"
   ]
  },
  {
   "cell_type": "markdown",
   "metadata": {},
   "source": [
    "Let's read in some dummy data using Koalas, which implements the Pandas DataFrame API on top of Apache Spark:"
   ]
  },
  {
   "cell_type": "code",
   "execution_count": 4,
   "metadata": {},
   "outputs": [],
   "source": [
    "X = ks.read_csv(\n",
    "    'dummy_data/X_train.csv', \n",
    "    index_col='eid'\n",
    ")\n",
    "y = ks.read_csv(\n",
    "    'dummy_data/y_train.csv', \n",
    "    index_col='eid'\n",
    ").squeeze()"
   ]
  },
  {
   "cell_type": "markdown",
   "metadata": {},
   "source": [
    "----"
   ]
  },
  {
   "cell_type": "markdown",
   "metadata": {},
   "source": [
    "## Apply rules"
   ]
  },
  {
   "cell_type": "markdown",
   "metadata": {},
   "source": [
    "### Set up class parameters"
   ]
  },
  {
   "cell_type": "markdown",
   "metadata": {},
   "source": [
    "Now we can set our class parameters for the Rule Applier. Here we're specifying an additional metric to calculate for each rule (the F1 score). However, you can omit this if you just need to calculate the standard results (Precision, Recall and PercDataFlagged).\n",
    "\n",
    "**Please see the class docstring for more information on each parameter.**"
   ]
  },
  {
   "cell_type": "code",
   "execution_count": 5,
   "metadata": {},
   "outputs": [],
   "source": [
    "fs = FScore(beta=1)"
   ]
  },
  {
   "cell_type": "code",
   "execution_count": 6,
   "metadata": {},
   "outputs": [],
   "source": [
    "params = {\n",
    "    'rule_strings': {\n",
    "        'Rule1': \"(X['account_number_num_fraud_transactions_per_account_number_1day']>=1)\",\n",
    "        'Rule2': \"(X['account_number_num_fraud_transactions_per_account_number_1day']>=1)&(X['account_number_num_fraud_transactions_per_account_number_30day']>=1)\",\n",
    "        'Rule3': \"(X['account_number_num_fraud_transactions_per_account_number_1day']>=1)&(X['order_total']>50.87)\"\n",
    "    },\n",
    "    'opt_func': fs.fit\n",
    "}"
   ]
  },
  {
   "cell_type": "markdown",
   "metadata": {},
   "source": [
    "### Instantiate class and run"
   ]
  },
  {
   "cell_type": "markdown",
   "metadata": {},
   "source": [
    "Once the parameters have been set, we can run the *.transform()* method to apply the list of rules to the dataset. **Note that you can omit the *y* parameter if you have unlabelled data (however ensure that if you are providing an optimisation function to *opt_func*, it is not expecting a target column - see the *optimisation_functions* module for more information):**"
   ]
  },
  {
   "cell_type": "code",
   "execution_count": 7,
   "metadata": {},
   "outputs": [
    {
     "name": "stderr",
     "output_type": "stream",
     "text": [
      "/Users/jlaidler/venvs/iguanas_os_dev/lib/python3.8/site-packages/databricks/koalas/frame.py:11847: UserWarning: Koalas doesn't allow columns to be created via a new attribute name\n",
      "  warnings.warn(msg, UserWarning)\n",
      "                                                                                \r"
     ]
    }
   ],
   "source": [
    "ara = RuleApplier(**params)\n",
    "X_rules = ara.transform(\n",
    "    X=X, \n",
    "    y=y, \n",
    "    sample_weight=None\n",
    ")"
   ]
  },
  {
   "cell_type": "markdown",
   "metadata": {},
   "source": [
    "### Outputs"
   ]
  },
  {
   "cell_type": "markdown",
   "metadata": {},
   "source": [
    "The *.transform()* method returns a dataframe giving the binary columns of the rules as applied to the training dataset.\n",
    "\n",
    "A useful attribute created by running the *.transform()* method (when the *y* parameter is given) is:\n",
    "\n",
    "* rule_descriptions: A dataframe showing the logic of the rules and their performance metrics as applied to the dataset."
   ]
  },
  {
   "cell_type": "code",
   "execution_count": 8,
   "metadata": {},
   "outputs": [
    {
     "data": {
      "text/html": [
       "<div>\n",
       "<style scoped>\n",
       "    .dataframe tbody tr th:only-of-type {\n",
       "        vertical-align: middle;\n",
       "    }\n",
       "\n",
       "    .dataframe tbody tr th {\n",
       "        vertical-align: top;\n",
       "    }\n",
       "\n",
       "    .dataframe thead th {\n",
       "        text-align: right;\n",
       "    }\n",
       "</style>\n",
       "<table border=\"1\" class=\"dataframe\">\n",
       "  <thead>\n",
       "    <tr style=\"text-align: right;\">\n",
       "      <th></th>\n",
       "      <th>Precision</th>\n",
       "      <th>Recall</th>\n",
       "      <th>PercDataFlagged</th>\n",
       "      <th>OptMetric</th>\n",
       "      <th>Logic</th>\n",
       "      <th>nConditions</th>\n",
       "    </tr>\n",
       "    <tr>\n",
       "      <th>Rule</th>\n",
       "      <th></th>\n",
       "      <th></th>\n",
       "      <th></th>\n",
       "      <th></th>\n",
       "      <th></th>\n",
       "      <th></th>\n",
       "    </tr>\n",
       "  </thead>\n",
       "  <tbody>\n",
       "    <tr>\n",
       "      <th>Rule1</th>\n",
       "      <td>0.991837</td>\n",
       "      <td>1.000000</td>\n",
       "      <td>0.027547</td>\n",
       "      <td>0.995902</td>\n",
       "      <td>(X['account_number_num_fraud_transactions_per_...</td>\n",
       "      <td>1</td>\n",
       "    </tr>\n",
       "    <tr>\n",
       "      <th>Rule2</th>\n",
       "      <td>0.991837</td>\n",
       "      <td>1.000000</td>\n",
       "      <td>0.027547</td>\n",
       "      <td>0.995902</td>\n",
       "      <td>(X['account_number_num_fraud_transactions_per_...</td>\n",
       "      <td>2</td>\n",
       "    </tr>\n",
       "    <tr>\n",
       "      <th>Rule3</th>\n",
       "      <td>0.995851</td>\n",
       "      <td>0.987654</td>\n",
       "      <td>0.027097</td>\n",
       "      <td>0.991736</td>\n",
       "      <td>(X['account_number_num_fraud_transactions_per_...</td>\n",
       "      <td>2</td>\n",
       "    </tr>\n",
       "  </tbody>\n",
       "</table>\n",
       "</div>"
      ],
      "text/plain": [
       "       Precision    Recall  PercDataFlagged  OptMetric  \\\n",
       "Rule                                                     \n",
       "Rule1   0.991837  1.000000         0.027547   0.995902   \n",
       "Rule2   0.991837  1.000000         0.027547   0.995902   \n",
       "Rule3   0.995851  0.987654         0.027097   0.991736   \n",
       "\n",
       "                                                   Logic  nConditions  \n",
       "Rule                                                                   \n",
       "Rule1  (X['account_number_num_fraud_transactions_per_...            1  \n",
       "Rule2  (X['account_number_num_fraud_transactions_per_...            2  \n",
       "Rule3  (X['account_number_num_fraud_transactions_per_...            2  "
      ]
     },
     "execution_count": 8,
     "metadata": {},
     "output_type": "execute_result"
    }
   ],
   "source": [
    "ara.rule_descriptions.head()"
   ]
  },
  {
   "cell_type": "code",
   "execution_count": 9,
   "metadata": {},
   "outputs": [
    {
     "data": {
      "text/html": [
       "<div>\n",
       "<style scoped>\n",
       "    .dataframe tbody tr th:only-of-type {\n",
       "        vertical-align: middle;\n",
       "    }\n",
       "\n",
       "    .dataframe tbody tr th {\n",
       "        vertical-align: top;\n",
       "    }\n",
       "\n",
       "    .dataframe thead th {\n",
       "        text-align: right;\n",
       "    }\n",
       "</style>\n",
       "<table border=\"1\" class=\"dataframe\">\n",
       "  <thead>\n",
       "    <tr style=\"text-align: right;\">\n",
       "      <th></th>\n",
       "      <th>Rule1</th>\n",
       "      <th>Rule2</th>\n",
       "      <th>Rule3</th>\n",
       "    </tr>\n",
       "    <tr>\n",
       "      <th>eid</th>\n",
       "      <th></th>\n",
       "      <th></th>\n",
       "      <th></th>\n",
       "    </tr>\n",
       "  </thead>\n",
       "  <tbody>\n",
       "    <tr>\n",
       "      <th>867-8837095-9305559</th>\n",
       "      <td>0</td>\n",
       "      <td>0</td>\n",
       "      <td>0</td>\n",
       "    </tr>\n",
       "    <tr>\n",
       "      <th>974-5306287-3527394</th>\n",
       "      <td>0</td>\n",
       "      <td>0</td>\n",
       "      <td>0</td>\n",
       "    </tr>\n",
       "    <tr>\n",
       "      <th>584-0112844-9158928</th>\n",
       "      <td>0</td>\n",
       "      <td>0</td>\n",
       "      <td>0</td>\n",
       "    </tr>\n",
       "    <tr>\n",
       "      <th>956-4190732-7014837</th>\n",
       "      <td>0</td>\n",
       "      <td>0</td>\n",
       "      <td>0</td>\n",
       "    </tr>\n",
       "    <tr>\n",
       "      <th>349-7005645-8862067</th>\n",
       "      <td>0</td>\n",
       "      <td>0</td>\n",
       "      <td>0</td>\n",
       "    </tr>\n",
       "  </tbody>\n",
       "</table>\n",
       "</div>"
      ],
      "text/plain": [
       "                     Rule1  Rule2  Rule3\n",
       "eid                                     \n",
       "867-8837095-9305559      0      0      0\n",
       "974-5306287-3527394      0      0      0\n",
       "584-0112844-9158928      0      0      0\n",
       "956-4190732-7014837      0      0      0\n",
       "349-7005645-8862067      0      0      0"
      ]
     },
     "execution_count": 9,
     "metadata": {},
     "output_type": "execute_result"
    }
   ],
   "source": [
    "X_rules.head()"
   ]
  },
  {
   "cell_type": "markdown",
   "metadata": {},
   "source": [
    "----"
   ]
  }
 ],
 "metadata": {
  "kernelspec": {
   "display_name": "iguanas_os_dev",
   "language": "python",
   "name": "iguanas_os_dev"
  },
  "language_info": {
   "codemirror_mode": {
    "name": "ipython",
    "version": 3
   },
   "file_extension": ".py",
   "mimetype": "text/x-python",
   "name": "python",
   "nbconvert_exporter": "python",
   "pygments_lexer": "ipython3",
   "version": "3.8.9"
  }
 },
 "nbformat": 4,
 "nbformat_minor": 4
}
