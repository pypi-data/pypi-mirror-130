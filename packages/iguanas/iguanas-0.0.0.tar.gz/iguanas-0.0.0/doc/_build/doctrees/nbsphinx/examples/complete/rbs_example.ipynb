{
 "cells": [
  {
   "cell_type": "markdown",
   "metadata": {},
   "source": [
    "# Rules-Based System (RBS) example"
   ]
  },
  {
   "cell_type": "markdown",
   "metadata": {},
   "source": [
    "This notebook contains an example of how Iguanas can be used to set up a Rules-Based System (RBS) from scratch. This includes:\n",
    "\n",
    "* Generating new rules\n",
    "* Optimising existing rules\n",
    "* Combining these rules and removing those which are unnecessary\n",
    "* Setting up and optimising the RBS pipeline\n",
    "* Testing the optimised RBS pipeline on a test set\n",
    "\n",
    "In this example, we'll be creating an RBS for a **transaction fraud use case** (i.e. identifying potentially fraudulent transactions). The metric that we'll optimising for will be the **F1 Score**, and we'll just be focusing on **rules to capture fraudulent behaviour** (rather than also including rules which capture good behaviour, which is a relevant methodology to use too)."
   ]
  },
  {
   "cell_type": "markdown",
   "metadata": {},
   "source": [
    "## Requirements"
   ]
  },
  {
   "cell_type": "markdown",
   "metadata": {},
   "source": [
    "To run, you'll need the following:\n",
    "\n",
    "* A raw, labelled dataset."
   ]
  },
  {
   "cell_type": "markdown",
   "metadata": {},
   "source": [
    "---"
   ]
  },
  {
   "cell_type": "markdown",
   "metadata": {},
   "source": [
    "## Table of contents\n",
    "\n",
    "1. [Read/process data](#ReadProcessData)\n",
    "2. [Rule Generation](#RuleGeneration)\n",
    "3. [Rule Optimisation](#RuleOptimisation)\n",
    "4. [Combine rules and remove those which are unnecessary](#CombineRules)\n",
    "5. [Set up the RBS Pipeline](#SetUpPipeline)\n",
    "6. [Optimise the RBS Pipeline](#OptimiseThePipeline)\n",
    "7. [Filter rules for the optimised RBS Pipeline](#FilterRulesForPipeline)\n",
    "8. [Apply the optimised RBS Pipeline to the test set](#ApplyPipeline)\n",
    "9. [Our final rule set and RBS Pipeline](#FinalRuleSet)"
   ]
  },
  {
   "cell_type": "markdown",
   "metadata": {},
   "source": [
    "----"
   ]
  },
  {
   "cell_type": "markdown",
   "metadata": {},
   "source": [
    "## Import packages"
   ]
  },
  {
   "cell_type": "code",
   "execution_count": 104,
   "metadata": {},
   "outputs": [],
   "source": [
    "from iguanas.rule_generation import RuleGeneratorDT\n",
    "from iguanas.rule_optimisation import BayesianOptimiser\n",
    "from iguanas.metrics.classification import FScore\n",
    "from iguanas.metrics.pairwise import JaccardSimilarity\n",
    "from iguanas.rules import Rules, ConvertProcessedConditionsToGeneral, ReturnMappings\n",
    "from iguanas.correlation_reduction import AgglomerativeClusteringReducer\n",
    "from iguanas.rule_selection import SimpleFilter, GreedyFilter, CorrelatedFilter, GridSearchCV\n",
    "from iguanas.rbs import RBSPipeline, RBSOptimiser\n",
    "\n",
    "import pandas as pd\n",
    "import numpy as np\n",
    "from sklearn.model_selection import train_test_split\n",
    "from category_encoders.one_hot import OneHotEncoder\n",
    "from sklearn.ensemble import RandomForestClassifier\n",
    "from hyperopt import tpe, anneal\n",
    "import pickle"
   ]
  },
  {
   "cell_type": "markdown",
   "metadata": {},
   "source": [
    "---"
   ]
  },
  {
   "cell_type": "markdown",
   "metadata": {},
   "source": [
    "## Read/process data <a name=\"ReadProcessData\"></a>"
   ]
  },
  {
   "cell_type": "markdown",
   "metadata": {},
   "source": [
    "### Read in data"
   ]
  },
  {
   "cell_type": "code",
   "execution_count": 105,
   "metadata": {},
   "outputs": [],
   "source": [
    "data = pd.read_csv(\n",
    "    'dummy_data/dummy_pipeline_output_data.csv',\n",
    "    index_col='eid'\n",
    ")"
   ]
  },
  {
   "cell_type": "code",
   "execution_count": 106,
   "metadata": {},
   "outputs": [
    {
     "data": {
      "text/plain": [
       "(13276, 64)"
      ]
     },
     "execution_count": 106,
     "metadata": {},
     "output_type": "execute_result"
    }
   ],
   "source": [
    "data.shape"
   ]
  },
  {
   "cell_type": "markdown",
   "metadata": {},
   "source": [
    "Then we can split the data into features (*X*) and the target column (*y*):"
   ]
  },
  {
   "cell_type": "code",
   "execution_count": 107,
   "metadata": {},
   "outputs": [],
   "source": [
    "fraud_column = 'sim_is_fraud'\n",
    "X = data.drop(\n",
    "    fraud_column, \n",
    "    axis=1\n",
    ")\n",
    "y = data[fraud_column]"
   ]
  },
  {
   "cell_type": "markdown",
   "metadata": {},
   "source": [
    "### Process the data"
   ]
  },
  {
   "cell_type": "markdown",
   "metadata": {},
   "source": [
    "#### Train/test split"
   ]
  },
  {
   "cell_type": "markdown",
   "metadata": {},
   "source": [
    "Before applying any data processing steps, we should split the data into training and test sets:"
   ]
  },
  {
   "cell_type": "code",
   "execution_count": 108,
   "metadata": {},
   "outputs": [],
   "source": [
    "X_train, X_test, y_train, y_test = train_test_split(\n",
    "    X, \n",
    "    y, \n",
    "    test_size=0.33, \n",
    "    random_state=0\n",
    ")"
   ]
  },
  {
   "cell_type": "markdown",
   "metadata": {},
   "source": [
    "#### Process data for rule generation"
   ]
  },
  {
   "cell_type": "markdown",
   "metadata": {},
   "source": [
    "When generating new rules, we need to first process the data. The main data processesing steps that need to be applied before using the rule generator are:\n",
    "\n",
    "* Remove uneccessary columns\n",
    "* Impute null values\n",
    "* One hot encode categorical features\n",
    "* Feature selection ***(in this case, the feature set is small, so this step is omitted from the example)***"
   ]
  },
  {
   "cell_type": "markdown",
   "metadata": {},
   "source": [
    "##### Remove unnecessary columns"
   ]
  },
  {
   "cell_type": "markdown",
   "metadata": {},
   "source": [
    "We need to remove those columns which will not be useful or make sense to have in our rules - in this case, this includes any features whose name containis 'sim', 'eid' or any high cardinality columns. Note however that there may be additional columns that you have to remove from your dataset:"
   ]
  },
  {
   "cell_type": "code",
   "execution_count": 109,
   "metadata": {},
   "outputs": [],
   "source": [
    "sim_cols = X_train.filter(regex='sim_').columns.tolist()\n",
    "eid_cols = X_train.filter(regex='eid').columns.tolist()\n",
    "high_card_cols = X_train.select_dtypes(include='object').columns[(X_train.select_dtypes(include='object').nunique() > 50)].tolist()"
   ]
  },
  {
   "cell_type": "code",
   "execution_count": 110,
   "metadata": {},
   "outputs": [],
   "source": [
    "X_train = X_train.drop(sim_cols + eid_cols + high_card_cols, axis=1)\n",
    "X_test = X_test.drop(sim_cols + eid_cols + high_card_cols, axis=1)"
   ]
  },
  {
   "cell_type": "code",
   "execution_count": 111,
   "metadata": {},
   "outputs": [
    {
     "data": {
      "text/plain": [
       "((8894, 27), (4382, 27))"
      ]
     },
     "execution_count": 111,
     "metadata": {},
     "output_type": "execute_result"
    }
   ],
   "source": [
    "X_train.shape, X_test.shape"
   ]
  },
  {
   "cell_type": "markdown",
   "metadata": {},
   "source": [
    "##### Impute null values"
   ]
  },
  {
   "cell_type": "markdown",
   "metadata": {},
   "source": [
    "We can now impute the null values. You can use any imputation method you like - here we'll impute using the following methodology:\n",
    "\n",
    "* Impute numeric values with -1.\n",
    "* Impute categorical features with the category 'missing'.\n",
    "* Impute boolean features with 'missing'."
   ]
  },
  {
   "cell_type": "code",
   "execution_count": 112,
   "metadata": {},
   "outputs": [
    {
     "name": "stdout",
     "output_type": "stream",
     "text": [
      "Number of null values in X_train: 4766\n"
     ]
    }
   ],
   "source": [
    "print(\"Number of null values in X_train:\", X_train.isna().sum().sum())"
   ]
  },
  {
   "cell_type": "code",
   "execution_count": 113,
   "metadata": {},
   "outputs": [],
   "source": [
    "num_cols = X_train.select_dtypes(include=np.number).columns.tolist()\n",
    "cat_cols = X_train.select_dtypes(include=object).columns.tolist()\n",
    "bool_cols = X_train.select_dtypes(include=bool).columns.tolist()"
   ]
  },
  {
   "cell_type": "code",
   "execution_count": 114,
   "metadata": {},
   "outputs": [],
   "source": [
    "X_train[bool_cols] = X_train[bool_cols].astype(object)\n",
    "X_test[bool_cols] = X_test[bool_cols].astype(object)"
   ]
  },
  {
   "cell_type": "code",
   "execution_count": 115,
   "metadata": {},
   "outputs": [],
   "source": [
    "X_train.loc[:, num_cols] = X_train.loc[:, num_cols].fillna(-1)\n",
    "X_train.loc[:, cat_cols] = X_train.loc[:, cat_cols].fillna('missing')\n",
    "X_train.loc[:, bool_cols] = X_train.loc[:, bool_cols].fillna('missing')\n",
    "X_test.loc[:, num_cols] = X_test.loc[:, num_cols].fillna(-1)\n",
    "X_test.loc[:, cat_cols] = X_test.loc[:, cat_cols].fillna('missing')\n",
    "X_test.loc[:, bool_cols] = X_test.loc[:, bool_cols].fillna('missing')"
   ]
  },
  {
   "cell_type": "code",
   "execution_count": 116,
   "metadata": {},
   "outputs": [
    {
     "name": "stdout",
     "output_type": "stream",
     "text": [
      "Number of null values in X_train: 0\n"
     ]
    }
   ],
   "source": [
    "print(\"Number of null values in X_train:\", X_train.isna().sum().sum())"
   ]
  },
  {
   "cell_type": "markdown",
   "metadata": {},
   "source": [
    "##### One hot encode categorical features"
   ]
  },
  {
   "cell_type": "markdown",
   "metadata": {},
   "source": [
    "Now we can one hot encode the categorical features:"
   ]
  },
  {
   "cell_type": "code",
   "execution_count": 117,
   "metadata": {},
   "outputs": [],
   "source": [
    "ohe = OneHotEncoder(use_cat_names=True)"
   ]
  },
  {
   "cell_type": "code",
   "execution_count": 118,
   "metadata": {},
   "outputs": [
    {
     "name": "stderr",
     "output_type": "stream",
     "text": [
      "/Users/jlaidler/venvs/iguanas_os_dev/lib/python3.8/site-packages/category_encoders/utils.py:21: FutureWarning: is_categorical is deprecated and will be removed in a future version.  Use is_categorical_dtype instead\n",
      "  elif pd.api.types.is_categorical(cols):\n"
     ]
    }
   ],
   "source": [
    "ohe.fit(X_train)\n",
    "X_train = ohe.transform(X_train)\n",
    "X_test = ohe.transform(X_test)"
   ]
  },
  {
   "cell_type": "code",
   "execution_count": 119,
   "metadata": {},
   "outputs": [
    {
     "data": {
      "text/plain": [
       "((8894, 29), (4382, 29))"
      ]
     },
     "execution_count": 119,
     "metadata": {},
     "output_type": "execute_result"
    }
   ],
   "source": [
    "X_train.shape, X_test.shape"
   ]
  },
  {
   "cell_type": "markdown",
   "metadata": {},
   "source": [
    "---"
   ]
  },
  {
   "cell_type": "markdown",
   "metadata": {},
   "source": [
    "## Rule generation (using GridSearchCV) <a name=\"RuleGeneration\"></a>"
   ]
  },
  {
   "cell_type": "markdown",
   "metadata": {},
   "source": [
    "Now that we've processed our raw data, we can use this to generate rules. There are two rule generator algorithms in Iguanas:\n",
    "\n",
    "* **RuleGeneratorDT**: Generate rules by extracting the highest performing branches from a tree ensemble model.\n",
    "* **RuleGeneratorOpt**: Generate rules by optimising the thresholds of single features and combining these one condition rules with AND conditions to create more complex rules.\n",
    "\n",
    "We can also use the *GridSearchCV* class to implement stratifield k-fold cross validation when searching for the best rule generation parameters. **This allows us to find the best rule generation parameters whilst also reducing the likelihood of overfitting.**\n",
    "\n",
    "**In this example, we'll only use the RuleGeneratorDT, but you can use the RuleGeneratorOpt instead or additionally.**"
   ]
  },
  {
   "cell_type": "markdown",
   "metadata": {},
   "source": [
    "### Set up class parameters"
   ]
  },
  {
   "cell_type": "markdown",
   "metadata": {},
   "source": [
    "We first need to define the search values for each parameter in the provided rule generation class. We define these in a dictionary, where the dictionary keys are the relevant rule generation parameters and the dictionary values are lists of search values for each parameter. The *GridSearchCV* class will then calculate each unique combination of parameter values, and find the set of parameters that produce the best mean overall rule performance across the folds."
   ]
  },
  {
   "cell_type": "code",
   "execution_count": 120,
   "metadata": {},
   "outputs": [],
   "source": [
    "f1 = FScore(beta=1)"
   ]
  },
  {
   "cell_type": "code",
   "execution_count": 121,
   "metadata": {},
   "outputs": [],
   "source": [
    "param_grid = {\n",
    "    'opt_func': [f1.fit], \n",
    "    'n_total_conditions': [3, 4, 5], \n",
    "    'tree_ensemble': [\n",
    "        RandomForestClassifier(n_estimators=15, random_state=0), \n",
    "        RandomForestClassifier(n_estimators=30, random_state=0), \n",
    "    ],\n",
    "    'target_feat_corr_types': ['Infer']\n",
    "}"
   ]
  },
  {
   "cell_type": "markdown",
   "metadata": {},
   "source": [
    "Now that we have our search values, we can define the rest of the *GridSearchCV* class parameters. **Note here that we are splitting the data into 3 folds for training/validation.**\n",
    "\n",
    "**Please see the class docstring for more information on each parameter**"
   ]
  },
  {
   "cell_type": "code",
   "execution_count": 122,
   "metadata": {},
   "outputs": [],
   "source": [
    "params = {\n",
    "    'rule_class': RuleGeneratorDT,\n",
    "    'param_grid': param_grid,\n",
    "    'greedy_filter_opt_func': f1.fit,\n",
    "    'cv': 3,\n",
    "    'num_cores': 4,\n",
    "    'verbose': 1\n",
    "}"
   ]
  },
  {
   "cell_type": "markdown",
   "metadata": {},
   "source": [
    "### Instantiate class and run fit method"
   ]
  },
  {
   "cell_type": "markdown",
   "metadata": {},
   "source": [
    "Once the parameters have been set, we can run the *.fit()* method to search for the best rule generation parameters."
   ]
  },
  {
   "cell_type": "code",
   "execution_count": 123,
   "metadata": {},
   "outputs": [
    {
     "name": "stdout",
     "output_type": "stream",
     "text": [
      "6 unique parameter sets\n"
     ]
    }
   ],
   "source": [
    "gs_gen = GridSearchCV(**params)"
   ]
  },
  {
   "cell_type": "code",
   "execution_count": 124,
   "metadata": {},
   "outputs": [
    {
     "name": "stdout",
     "output_type": "stream",
     "text": [
      "--- Fitting and validating rules using folds ---\n",
      "100%|██████████| 18/18 [00:00<00:00, 20.02it/s]\n",
      "--- Re-fitting rules using best parameters on full dataset ---\n",
      "--- Filtering rules to give best combined performance ---\n"
     ]
    }
   ],
   "source": [
    "gs_gen.fit(\n",
    "    X=X_train, \n",
    "    y=y_train\n",
    ")"
   ]
  },
  {
   "cell_type": "markdown",
   "metadata": {},
   "source": [
    "### Outputs"
   ]
  },
  {
   "cell_type": "markdown",
   "metadata": {},
   "source": [
    "The *.fit()* method does not return any objects. However, it does generate the following useful attributes:\n",
    "\n",
    "* rule_strings (Dict[str, str]): The rules which achieved the best combined performance, defined using the standard Iguanas string format (values) and their names (keys).                    \n",
    "* param_results_per_fold (pd.DataFrame): Shows the best combined rule performance observed for each parameter set and fold.\n",
    "* param_results_aggregated (pd.DataFrame): Shows the mean and the standard deviation of the best combined rule performance, calculated across the folds, for each parameter set.\n",
    "* best_perf (float): The best combined rule performance achieved.\n",
    "* best_params (dict): The parameter set that achieved the best combined rule performance."
   ]
  },
  {
   "cell_type": "code",
   "execution_count": 125,
   "metadata": {},
   "outputs": [
    {
     "data": {
      "text/html": [
       "<div>\n",
       "<style scoped>\n",
       "    .dataframe tbody tr th:only-of-type {\n",
       "        vertical-align: middle;\n",
       "    }\n",
       "\n",
       "    .dataframe tbody tr th {\n",
       "        vertical-align: top;\n",
       "    }\n",
       "\n",
       "    .dataframe thead th {\n",
       "        text-align: right;\n",
       "    }\n",
       "</style>\n",
       "<table border=\"1\" class=\"dataframe\">\n",
       "  <thead>\n",
       "    <tr style=\"text-align: right;\">\n",
       "      <th></th>\n",
       "      <th></th>\n",
       "      <th>opt_func</th>\n",
       "      <th>n_total_conditions</th>\n",
       "      <th>tree_ensemble</th>\n",
       "      <th>target_feat_corr_types</th>\n",
       "      <th>Performance</th>\n",
       "    </tr>\n",
       "    <tr>\n",
       "      <th>Fold</th>\n",
       "      <th>ParamSetIndex</th>\n",
       "      <th></th>\n",
       "      <th></th>\n",
       "      <th></th>\n",
       "      <th></th>\n",
       "      <th></th>\n",
       "    </tr>\n",
       "  </thead>\n",
       "  <tbody>\n",
       "    <tr>\n",
       "      <th rowspan=\"2\" valign=\"top\">0</th>\n",
       "      <th>0</th>\n",
       "      <td>&lt;bound method FScore.fit of FScore with beta=1&gt;</td>\n",
       "      <td>3</td>\n",
       "      <td>(DecisionTreeClassifier(max_depth=3, max_featu...</td>\n",
       "      <td>Infer</td>\n",
       "      <td>0.993939</td>\n",
       "    </tr>\n",
       "    <tr>\n",
       "      <th>1</th>\n",
       "      <td>&lt;bound method FScore.fit of FScore with beta=1&gt;</td>\n",
       "      <td>3</td>\n",
       "      <td>RandomForestClassifier(n_estimators=30, random...</td>\n",
       "      <td>Infer</td>\n",
       "      <td>0.993939</td>\n",
       "    </tr>\n",
       "  </tbody>\n",
       "</table>\n",
       "</div>"
      ],
      "text/plain": [
       "                                                           opt_func  \\\n",
       "Fold ParamSetIndex                                                    \n",
       "0    0              <bound method FScore.fit of FScore with beta=1>   \n",
       "     1              <bound method FScore.fit of FScore with beta=1>   \n",
       "\n",
       "                   n_total_conditions  \\\n",
       "Fold ParamSetIndex                      \n",
       "0    0                              3   \n",
       "     1                              3   \n",
       "\n",
       "                                                        tree_ensemble  \\\n",
       "Fold ParamSetIndex                                                      \n",
       "0    0              (DecisionTreeClassifier(max_depth=3, max_featu...   \n",
       "     1              RandomForestClassifier(n_estimators=30, random...   \n",
       "\n",
       "                   target_feat_corr_types  Performance  \n",
       "Fold ParamSetIndex                                      \n",
       "0    0                              Infer     0.993939  \n",
       "     1                              Infer     0.993939  "
      ]
     },
     "execution_count": 125,
     "metadata": {},
     "output_type": "execute_result"
    }
   ],
   "source": [
    "gs_gen.param_results_per_fold.head(2)"
   ]
  },
  {
   "cell_type": "code",
   "execution_count": 126,
   "metadata": {},
   "outputs": [
    {
     "data": {
      "text/html": [
       "<div>\n",
       "<style scoped>\n",
       "    .dataframe tbody tr th:only-of-type {\n",
       "        vertical-align: middle;\n",
       "    }\n",
       "\n",
       "    .dataframe tbody tr th {\n",
       "        vertical-align: top;\n",
       "    }\n",
       "\n",
       "    .dataframe thead th {\n",
       "        text-align: right;\n",
       "    }\n",
       "</style>\n",
       "<table border=\"1\" class=\"dataframe\">\n",
       "  <thead>\n",
       "    <tr style=\"text-align: right;\">\n",
       "      <th></th>\n",
       "      <th>opt_func</th>\n",
       "      <th>n_total_conditions</th>\n",
       "      <th>tree_ensemble</th>\n",
       "      <th>target_feat_corr_types</th>\n",
       "      <th>PerformancePerFold</th>\n",
       "      <th>MeanPerformance</th>\n",
       "      <th>StdDevPerformance</th>\n",
       "    </tr>\n",
       "    <tr>\n",
       "      <th>ParamSetIndex</th>\n",
       "      <th></th>\n",
       "      <th></th>\n",
       "      <th></th>\n",
       "      <th></th>\n",
       "      <th></th>\n",
       "      <th></th>\n",
       "      <th></th>\n",
       "    </tr>\n",
       "  </thead>\n",
       "  <tbody>\n",
       "    <tr>\n",
       "      <th>0</th>\n",
       "      <td>&lt;bound method FScore.fit of FScore with beta=1&gt;</td>\n",
       "      <td>3</td>\n",
       "      <td>(DecisionTreeClassifier(max_depth=3, max_featu...</td>\n",
       "      <td>Infer</td>\n",
       "      <td>[0.993939393939394, 1.0, 0.9938650306748467]</td>\n",
       "      <td>0.995935</td>\n",
       "      <td>0.002875</td>\n",
       "    </tr>\n",
       "    <tr>\n",
       "      <th>1</th>\n",
       "      <td>&lt;bound method FScore.fit of FScore with beta=1&gt;</td>\n",
       "      <td>3</td>\n",
       "      <td>RandomForestClassifier(n_estimators=30, random...</td>\n",
       "      <td>Infer</td>\n",
       "      <td>[0.993939393939394, 1.0, 0.9938650306748467]</td>\n",
       "      <td>0.995935</td>\n",
       "      <td>0.002875</td>\n",
       "    </tr>\n",
       "  </tbody>\n",
       "</table>\n",
       "</div>"
      ],
      "text/plain": [
       "                                                      opt_func  \\\n",
       "ParamSetIndex                                                    \n",
       "0              <bound method FScore.fit of FScore with beta=1>   \n",
       "1              <bound method FScore.fit of FScore with beta=1>   \n",
       "\n",
       "              n_total_conditions  \\\n",
       "ParamSetIndex                      \n",
       "0                              3   \n",
       "1                              3   \n",
       "\n",
       "                                                   tree_ensemble  \\\n",
       "ParamSetIndex                                                      \n",
       "0              (DecisionTreeClassifier(max_depth=3, max_featu...   \n",
       "1              RandomForestClassifier(n_estimators=30, random...   \n",
       "\n",
       "              target_feat_corr_types  \\\n",
       "ParamSetIndex                          \n",
       "0                              Infer   \n",
       "1                              Infer   \n",
       "\n",
       "                                         PerformancePerFold  MeanPerformance  \\\n",
       "ParamSetIndex                                                                  \n",
       "0              [0.993939393939394, 1.0, 0.9938650306748467]         0.995935   \n",
       "1              [0.993939393939394, 1.0, 0.9938650306748467]         0.995935   \n",
       "\n",
       "               StdDevPerformance  \n",
       "ParamSetIndex                     \n",
       "0                       0.002875  \n",
       "1                       0.002875  "
      ]
     },
     "execution_count": 126,
     "metadata": {},
     "output_type": "execute_result"
    }
   ],
   "source": [
    "gs_gen.param_results_aggregated.head(2)"
   ]
  },
  {
   "cell_type": "code",
   "execution_count": 127,
   "metadata": {},
   "outputs": [
    {
     "data": {
      "text/plain": [
       "0.9959348082047469"
      ]
     },
     "execution_count": 127,
     "metadata": {},
     "output_type": "execute_result"
    }
   ],
   "source": [
    "gs_gen.best_perf"
   ]
  },
  {
   "cell_type": "code",
   "execution_count": 128,
   "metadata": {},
   "outputs": [
    {
     "data": {
      "text/plain": [
       "{'opt_func': <bound method FScore.fit of FScore with beta=1>,\n",
       " 'n_total_conditions': 3,\n",
       " 'tree_ensemble': RandomForestClassifier(max_depth=3, n_estimators=15, random_state=0),\n",
       " 'target_feat_corr_types': 'Infer'}"
      ]
     },
     "execution_count": 128,
     "metadata": {},
     "output_type": "execute_result"
    }
   ],
   "source": [
    "gs_gen.best_params"
   ]
  },
  {
   "cell_type": "markdown",
   "metadata": {},
   "source": [
    "----"
   ]
  },
  {
   "cell_type": "markdown",
   "metadata": {},
   "source": [
    "## Rule Optimisation (using GridSearchCV) <a name=\"RuleOptimisation\"></a>"
   ]
  },
  {
   "cell_type": "markdown",
   "metadata": {},
   "source": [
    "Now we can optimise the existing rules.\n",
    "\n",
    "First, we'll read in the existing rules, which have been stored in the standard Iguanas string format:"
   ]
  },
  {
   "cell_type": "code",
   "execution_count": 129,
   "metadata": {},
   "outputs": [],
   "source": [
    "with open('dummy_data/rule_strings.pkl', 'rb') as f:\n",
    "    rule_strings = pickle.load(f)"
   ]
  },
  {
   "cell_type": "markdown",
   "metadata": {},
   "source": [
    "We can then instantiate the *Rules* class with these rules, so that we can convert them into the standard Iguanas lambda expression format:"
   ]
  },
  {
   "cell_type": "code",
   "execution_count": 130,
   "metadata": {},
   "outputs": [],
   "source": [
    "existing_rules = Rules(rule_strings=rule_strings)"
   ]
  },
  {
   "cell_type": "markdown",
   "metadata": {},
   "source": [
    "To convert the rules, we use the *as_rule_lambdas()* method from the instantiated *Rules* class:"
   ]
  },
  {
   "cell_type": "code",
   "execution_count": 131,
   "metadata": {},
   "outputs": [],
   "source": [
    "existing_rule_lambdas = existing_rules.as_rule_lambdas(as_numpy=False, with_kwargs=True)"
   ]
  },
  {
   "cell_type": "markdown",
   "metadata": {},
   "source": [
    "The standard Iguanas lambda expression format allows new values to be injected into the condition string of a rule. This means that the rule's performance can be evaluated with new values (this capability is leveraged in the rule optimisers)."
   ]
  },
  {
   "cell_type": "markdown",
   "metadata": {},
   "source": [
    "We can now use the *GridSearchCV* class to implement stratifield k-fold cross validation to search for the best rule optimisation parameters. **This allows us to find the best rule optimisation parameters whilst also reducing the likelihood of overfitting.**"
   ]
  },
  {
   "cell_type": "markdown",
   "metadata": {},
   "source": [
    "### Set up class parameters"
   ]
  },
  {
   "cell_type": "markdown",
   "metadata": {},
   "source": [
    "We firstly need to define the search values for each parameter in the provided rule optimisation class. We define these in a dictionary, where the dictionary keys are the relevant rule optimisation parameters and the dictionary values are lists of search values for each parameter. The *GridSearchCV* class will then calculate each unique combination of parameter values, and find the set of parameters that produce the best mean overall rule performance across the folds."
   ]
  },
  {
   "cell_type": "code",
   "execution_count": 132,
   "metadata": {},
   "outputs": [],
   "source": [
    "f0dot5 = FScore(beta=0.5)\n",
    "f1 = FScore(beta=1)"
   ]
  },
  {
   "cell_type": "code",
   "execution_count": 133,
   "metadata": {},
   "outputs": [],
   "source": [
    "param_grid = {\n",
    "    'rule_lambdas': [existing_rule_lambdas],\n",
    "    'lambda_kwargs': [existing_rules.lambda_kwargs],\n",
    "    'opt_func': [f0dot5.fit, f1.fit],\n",
    "    'n_iter': [30],\n",
    "    'algorithm': [tpe.suggest, anneal.suggest],\n",
    "    'verbose': [0]\n",
    "}"
   ]
  },
  {
   "cell_type": "markdown",
   "metadata": {},
   "source": [
    "Now that we have our search values, we can define the rest of the *GridSearchCV* class parameters. **Note here that we are splitting the data into 3 folds for training/validation.**\n",
    "\n",
    "**Please see the class docstring for more information on each parameter**"
   ]
  },
  {
   "cell_type": "code",
   "execution_count": 134,
   "metadata": {},
   "outputs": [],
   "source": [
    "params = {\n",
    "    'rule_class': BayesianOptimiser,\n",
    "    'param_grid': param_grid,\n",
    "    'greedy_filter_opt_func': f1.fit,\n",
    "    'cv': 3,\n",
    "    'num_cores': 4,\n",
    "    'verbose': 1\n",
    "}"
   ]
  },
  {
   "cell_type": "markdown",
   "metadata": {},
   "source": [
    "### Instantiate class and run fit method"
   ]
  },
  {
   "cell_type": "markdown",
   "metadata": {},
   "source": [
    "Once the parameters have been set, we can run the *.fit()* method to search for the best rule optimisation parameters. **Note that we use the raw, unprocessed data here, as productionised rules will usually run on raw data:**"
   ]
  },
  {
   "cell_type": "code",
   "execution_count": 135,
   "metadata": {},
   "outputs": [
    {
     "name": "stdout",
     "output_type": "stream",
     "text": [
      "4 unique parameter sets\n"
     ]
    }
   ],
   "source": [
    "gs_opt = GridSearchCV(**params)"
   ]
  },
  {
   "cell_type": "code",
   "execution_count": 136,
   "metadata": {
    "tags": []
   },
   "outputs": [
    {
     "name": "stdout",
     "output_type": "stream",
     "text": [
      "--- Fitting and validating rules using folds ---\n",
      "  0%|          | 0/12 [00:00<?, ?it/s]"
     ]
    },
    {
     "name": "stderr",
     "output_type": "stream",
     "text": [
      "/Users/jlaidler/Documents/argo/iguanas/rule_optimisation/_base_optimiser.py:189: UserWarning: Rules `Rule2`, `Rule3` have no optimisable conditions - unable to optimise these rules\n",
      "  warnings.warn(\n",
      "/Users/jlaidler/Documents/argo/iguanas/rule_optimisation/_base_optimiser.py:189: UserWarning: Rules `Rule2`, `Rule3` have no optimisable conditions - unable to optimise these rules\n",
      "  warnings.warn(\n",
      "/Users/jlaidler/Documents/argo/iguanas/rule_optimisation/_base_optimiser.py:189: UserWarning: Rules `Rule2`, `Rule3` have no optimisable conditions - unable to optimise these rules\n",
      "  warnings.warn(\n",
      "/Users/jlaidler/Documents/argo/iguanas/rule_optimisation/_base_optimiser.py:189: UserWarning: Rules `Rule2`, `Rule3` have no optimisable conditions - unable to optimise these rules\n",
      "  warnings.warn(\n"
     ]
    },
    {
     "name": "stdout",
     "output_type": "stream",
     "text": [
      " 67%|██████▋   | 8/12 [00:02<00:01,  3.87it/s]"
     ]
    },
    {
     "name": "stderr",
     "output_type": "stream",
     "text": [
      "/Users/jlaidler/Documents/argo/iguanas/rule_optimisation/_base_optimiser.py:189: UserWarning: Rules `Rule2`, `Rule3` have no optimisable conditions - unable to optimise these rules\n",
      "  warnings.warn(\n",
      "/Users/jlaidler/Documents/argo/iguanas/rule_optimisation/_base_optimiser.py:189: UserWarning: Rules `Rule2`, `Rule3` have no optimisable conditions - unable to optimise these rules\n",
      "  warnings.warn(\n",
      "/Users/jlaidler/Documents/argo/iguanas/rule_optimisation/_base_optimiser.py:189: UserWarning: Rules `Rule2`, `Rule3` have no optimisable conditions - unable to optimise these rules\n",
      "  warnings.warn(\n",
      "/Users/jlaidler/Documents/argo/iguanas/rule_optimisation/_base_optimiser.py:189: UserWarning: Rules `Rule2`, `Rule3` have no optimisable conditions - unable to optimise these rules\n",
      "  warnings.warn(\n"
     ]
    },
    {
     "name": "stdout",
     "output_type": "stream",
     "text": [
      "100%|██████████| 12/12 [00:03<00:00,  3.04it/s]\n"
     ]
    },
    {
     "name": "stderr",
     "output_type": "stream",
     "text": [
      "/Users/jlaidler/Documents/argo/iguanas/rule_optimisation/_base_optimiser.py:189: UserWarning: Rules `Rule2`, `Rule3` have no optimisable conditions - unable to optimise these rules\n",
      "  warnings.warn(\n",
      "/Users/jlaidler/Documents/argo/iguanas/rule_optimisation/_base_optimiser.py:189: UserWarning: Rules `Rule2`, `Rule3` have no optimisable conditions - unable to optimise these rules\n",
      "  warnings.warn(\n",
      "/Users/jlaidler/Documents/argo/iguanas/rule_optimisation/_base_optimiser.py:189: UserWarning: Rules `Rule2`, `Rule3` have no optimisable conditions - unable to optimise these rules\n",
      "  warnings.warn(\n",
      "/Users/jlaidler/Documents/argo/iguanas/rule_optimisation/_base_optimiser.py:189: UserWarning: Rules `Rule2`, `Rule3` have no optimisable conditions - unable to optimise these rules\n",
      "  warnings.warn(\n"
     ]
    },
    {
     "name": "stdout",
     "output_type": "stream",
     "text": [
      "--- Re-fitting rules using best parameters on full dataset ---\n"
     ]
    },
    {
     "name": "stderr",
     "output_type": "stream",
     "text": [
      "/Users/jlaidler/Documents/argo/iguanas/rule_optimisation/_base_optimiser.py:189: UserWarning: Rules `Rule2`, `Rule3` have no optimisable conditions - unable to optimise these rules\n",
      "  warnings.warn(\n"
     ]
    },
    {
     "name": "stdout",
     "output_type": "stream",
     "text": [
      "--- Filtering rules to give best combined performance ---\n"
     ]
    }
   ],
   "source": [
    "gs_opt.fit(\n",
    "    X=X.loc[X_train.index], \n",
    "    y=y_train\n",
    ")"
   ]
  },
  {
   "cell_type": "markdown",
   "metadata": {},
   "source": [
    "### Outputs"
   ]
  },
  {
   "cell_type": "markdown",
   "metadata": {},
   "source": [
    "The *.fit()* method does not return any objects. However, it does generate the following useful attributes:\n",
    "\n",
    "* rule_strings (Dict[str, str]): The rules which achieved the best combined performance, defined using the standard Iguanas string format (values) and their names (keys).                    \n",
    "* param_results_per_fold (pd.DataFrame): Shows the best combined rule performance observed for each parameter set and fold.\n",
    "* param_results_aggregated (pd.DataFrame): Shows the mean and the standard deviation of the best combined rule performance, calculated across the folds, for each parameter set.\n",
    "* best_perf (float): The best combined rule performance achieved.\n",
    "* best_params (dict): The parameter set that achieved the best combined rule performance.\n",
    "\n",
    "**Note the following cases where the rule optimiser will be unable to run:**\n",
    "\n",
    "* Rules that contain features that are missing in `X`.\n",
    "* Rules that contain no optimisable features (e.g. all of the conditions are string-based).\n",
    "* Rules that contain exclusively zero variance features.\n",
    "* Rules that contain a feature that is completely null in `X`."
   ]
  },
  {
   "cell_type": "code",
   "execution_count": 137,
   "metadata": {},
   "outputs": [
    {
     "data": {
      "text/html": [
       "<div>\n",
       "<style scoped>\n",
       "    .dataframe tbody tr th:only-of-type {\n",
       "        vertical-align: middle;\n",
       "    }\n",
       "\n",
       "    .dataframe tbody tr th {\n",
       "        vertical-align: top;\n",
       "    }\n",
       "\n",
       "    .dataframe thead th {\n",
       "        text-align: right;\n",
       "    }\n",
       "</style>\n",
       "<table border=\"1\" class=\"dataframe\">\n",
       "  <thead>\n",
       "    <tr style=\"text-align: right;\">\n",
       "      <th></th>\n",
       "      <th></th>\n",
       "      <th>rule_lambdas</th>\n",
       "      <th>lambda_kwargs</th>\n",
       "      <th>opt_func</th>\n",
       "      <th>n_iter</th>\n",
       "      <th>algorithm</th>\n",
       "      <th>verbose</th>\n",
       "      <th>Performance</th>\n",
       "    </tr>\n",
       "    <tr>\n",
       "      <th>Fold</th>\n",
       "      <th>ParamSetIndex</th>\n",
       "      <th></th>\n",
       "      <th></th>\n",
       "      <th></th>\n",
       "      <th></th>\n",
       "      <th></th>\n",
       "      <th></th>\n",
       "      <th></th>\n",
       "    </tr>\n",
       "  </thead>\n",
       "  <tbody>\n",
       "    <tr>\n",
       "      <th rowspan=\"2\" valign=\"top\">0</th>\n",
       "      <th>0</th>\n",
       "      <td>{'RGDT_Rule137': &lt;function ConvertRuleDictsToR...</td>\n",
       "      <td>{'RGDT_Rule137': {'account_number_avg_order_to...</td>\n",
       "      <td>&lt;bound method FScore.fit of FScore with beta=0.5&gt;</td>\n",
       "      <td>30</td>\n",
       "      <td>&lt;function suggest at 0x7fc179a0bd30&gt;</td>\n",
       "      <td>0</td>\n",
       "      <td>0.993939</td>\n",
       "    </tr>\n",
       "    <tr>\n",
       "      <th>1</th>\n",
       "      <td>{'RGDT_Rule137': &lt;function ConvertRuleDictsToR...</td>\n",
       "      <td>{'RGDT_Rule137': {'account_number_avg_order_to...</td>\n",
       "      <td>&lt;bound method FScore.fit of FScore with beta=0.5&gt;</td>\n",
       "      <td>30</td>\n",
       "      <td>&lt;function suggest at 0x7fc1b0a8c550&gt;</td>\n",
       "      <td>0</td>\n",
       "      <td>0.993939</td>\n",
       "    </tr>\n",
       "  </tbody>\n",
       "</table>\n",
       "</div>"
      ],
      "text/plain": [
       "                                                         rule_lambdas  \\\n",
       "Fold ParamSetIndex                                                      \n",
       "0    0              {'RGDT_Rule137': <function ConvertRuleDictsToR...   \n",
       "     1              {'RGDT_Rule137': <function ConvertRuleDictsToR...   \n",
       "\n",
       "                                                        lambda_kwargs  \\\n",
       "Fold ParamSetIndex                                                      \n",
       "0    0              {'RGDT_Rule137': {'account_number_avg_order_to...   \n",
       "     1              {'RGDT_Rule137': {'account_number_avg_order_to...   \n",
       "\n",
       "                                                             opt_func n_iter  \\\n",
       "Fold ParamSetIndex                                                             \n",
       "0    0              <bound method FScore.fit of FScore with beta=0.5>     30   \n",
       "     1              <bound method FScore.fit of FScore with beta=0.5>     30   \n",
       "\n",
       "                                               algorithm verbose  Performance  \n",
       "Fold ParamSetIndex                                                             \n",
       "0    0              <function suggest at 0x7fc179a0bd30>       0     0.993939  \n",
       "     1              <function suggest at 0x7fc1b0a8c550>       0     0.993939  "
      ]
     },
     "execution_count": 137,
     "metadata": {},
     "output_type": "execute_result"
    }
   ],
   "source": [
    "gs_opt.param_results_per_fold.head(2)"
   ]
  },
  {
   "cell_type": "code",
   "execution_count": 138,
   "metadata": {},
   "outputs": [
    {
     "data": {
      "text/html": [
       "<div>\n",
       "<style scoped>\n",
       "    .dataframe tbody tr th:only-of-type {\n",
       "        vertical-align: middle;\n",
       "    }\n",
       "\n",
       "    .dataframe tbody tr th {\n",
       "        vertical-align: top;\n",
       "    }\n",
       "\n",
       "    .dataframe thead th {\n",
       "        text-align: right;\n",
       "    }\n",
       "</style>\n",
       "<table border=\"1\" class=\"dataframe\">\n",
       "  <thead>\n",
       "    <tr style=\"text-align: right;\">\n",
       "      <th></th>\n",
       "      <th>rule_lambdas</th>\n",
       "      <th>lambda_kwargs</th>\n",
       "      <th>opt_func</th>\n",
       "      <th>n_iter</th>\n",
       "      <th>algorithm</th>\n",
       "      <th>verbose</th>\n",
       "      <th>PerformancePerFold</th>\n",
       "      <th>MeanPerformance</th>\n",
       "      <th>StdDevPerformance</th>\n",
       "    </tr>\n",
       "    <tr>\n",
       "      <th>ParamSetIndex</th>\n",
       "      <th></th>\n",
       "      <th></th>\n",
       "      <th></th>\n",
       "      <th></th>\n",
       "      <th></th>\n",
       "      <th></th>\n",
       "      <th></th>\n",
       "      <th></th>\n",
       "      <th></th>\n",
       "    </tr>\n",
       "  </thead>\n",
       "  <tbody>\n",
       "    <tr>\n",
       "      <th>0</th>\n",
       "      <td>{'RGDT_Rule137': &lt;function ConvertRuleDictsToR...</td>\n",
       "      <td>{'RGDT_Rule137': {'account_number_avg_order_to...</td>\n",
       "      <td>&lt;bound method FScore.fit of FScore with beta=0.5&gt;</td>\n",
       "      <td>30</td>\n",
       "      <td>&lt;function suggest at 0x7fc179a0bd30&gt;</td>\n",
       "      <td>0</td>\n",
       "      <td>[0.993939393939394, 1.0, 0.9938650306748467]</td>\n",
       "      <td>0.995935</td>\n",
       "      <td>0.002875</td>\n",
       "    </tr>\n",
       "    <tr>\n",
       "      <th>1</th>\n",
       "      <td>{'RGDT_Rule137': &lt;function ConvertRuleDictsToR...</td>\n",
       "      <td>{'RGDT_Rule137': {'account_number_avg_order_to...</td>\n",
       "      <td>&lt;bound method FScore.fit of FScore with beta=0.5&gt;</td>\n",
       "      <td>30</td>\n",
       "      <td>&lt;function suggest at 0x7fc1b0a8c550&gt;</td>\n",
       "      <td>0</td>\n",
       "      <td>[0.993939393939394, 1.0, 0.9938650306748467]</td>\n",
       "      <td>0.995935</td>\n",
       "      <td>0.002875</td>\n",
       "    </tr>\n",
       "  </tbody>\n",
       "</table>\n",
       "</div>"
      ],
      "text/plain": [
       "                                                    rule_lambdas  \\\n",
       "ParamSetIndex                                                      \n",
       "0              {'RGDT_Rule137': <function ConvertRuleDictsToR...   \n",
       "1              {'RGDT_Rule137': <function ConvertRuleDictsToR...   \n",
       "\n",
       "                                                   lambda_kwargs  \\\n",
       "ParamSetIndex                                                      \n",
       "0              {'RGDT_Rule137': {'account_number_avg_order_to...   \n",
       "1              {'RGDT_Rule137': {'account_number_avg_order_to...   \n",
       "\n",
       "                                                        opt_func n_iter  \\\n",
       "ParamSetIndex                                                             \n",
       "0              <bound method FScore.fit of FScore with beta=0.5>     30   \n",
       "1              <bound method FScore.fit of FScore with beta=0.5>     30   \n",
       "\n",
       "                                          algorithm verbose  \\\n",
       "ParamSetIndex                                                 \n",
       "0              <function suggest at 0x7fc179a0bd30>       0   \n",
       "1              <function suggest at 0x7fc1b0a8c550>       0   \n",
       "\n",
       "                                         PerformancePerFold  MeanPerformance  \\\n",
       "ParamSetIndex                                                                  \n",
       "0              [0.993939393939394, 1.0, 0.9938650306748467]         0.995935   \n",
       "1              [0.993939393939394, 1.0, 0.9938650306748467]         0.995935   \n",
       "\n",
       "               StdDevPerformance  \n",
       "ParamSetIndex                     \n",
       "0                       0.002875  \n",
       "1                       0.002875  "
      ]
     },
     "execution_count": 138,
     "metadata": {},
     "output_type": "execute_result"
    }
   ],
   "source": [
    "gs_opt.param_results_aggregated.head(2)"
   ]
  },
  {
   "cell_type": "code",
   "execution_count": 139,
   "metadata": {},
   "outputs": [
    {
     "data": {
      "text/plain": [
       "0.9959348082047469"
      ]
     },
     "execution_count": 139,
     "metadata": {},
     "output_type": "execute_result"
    }
   ],
   "source": [
    "gs_opt.best_perf"
   ]
  },
  {
   "cell_type": "markdown",
   "metadata": {},
   "source": [
    "---"
   ]
  },
  {
   "cell_type": "markdown",
   "metadata": {},
   "source": [
    "## Combine rules and remove those which are unnecessary <a name=\"CombineRules\"></a>"
   ]
  },
  {
   "cell_type": "markdown",
   "metadata": {},
   "source": [
    "We now have two sets of rules:\n",
    "\n",
    "1. Newly generated rules\n",
    "2. Optimised existing rules\n",
    "\n",
    "We can combine these rule sets, then apply correlation reduction and filtering methods to remove those which are unneccesary.\n",
    "\n",
    "To do this, we need to calculate the binary columns and the performance dataframes of each rule set. This can be done using the *apply* method from each of the instantiated *GridSearchCV* classes (one for our generated rules; one for our optimised rules):"
   ]
  },
  {
   "cell_type": "code",
   "execution_count": 140,
   "metadata": {},
   "outputs": [],
   "source": [
    "# Generated rules\n",
    "X_rules_gen_train = gs_gen.transform(\n",
    "    X=X_train, \n",
    "    y=y_train\n",
    ")\n",
    "# Optimised rules (note we use the raw, unprocessed data here)\n",
    "X_rules_opt_train = gs_opt.transform(\n",
    "    X=X.loc[X_train.index], \n",
    "    y=y_train\n",
    ")"
   ]
  },
  {
   "cell_type": "markdown",
   "metadata": {},
   "source": [
    "Now we can combine the binary columns and performance dataframes of each rule set:"
   ]
  },
  {
   "cell_type": "code",
   "execution_count": 141,
   "metadata": {},
   "outputs": [],
   "source": [
    "X_rules_train = pd.concat([\n",
    "    X_rules_gen_train, \n",
    "    X_rules_opt_train\n",
    "], axis=1)\n",
    "\n",
    "rule_descriptions_train = pd.concat([\n",
    "    gs_gen.rule_descriptions, \n",
    "    gs_opt.rule_descriptions\n",
    "], axis=0)"
   ]
  },
  {
   "cell_type": "code",
   "execution_count": 142,
   "metadata": {},
   "outputs": [
    {
     "data": {
      "text/html": [
       "<div>\n",
       "<style scoped>\n",
       "    .dataframe tbody tr th:only-of-type {\n",
       "        vertical-align: middle;\n",
       "    }\n",
       "\n",
       "    .dataframe tbody tr th {\n",
       "        vertical-align: top;\n",
       "    }\n",
       "\n",
       "    .dataframe thead th {\n",
       "        text-align: right;\n",
       "    }\n",
       "</style>\n",
       "<table border=\"1\" class=\"dataframe\">\n",
       "  <thead>\n",
       "    <tr style=\"text-align: right;\">\n",
       "      <th>Rule</th>\n",
       "      <th>RGDT_Rule_20211202_27</th>\n",
       "      <th>RGDT_Rule_20211202_24</th>\n",
       "      <th>RGDT_Rule_20211202_22</th>\n",
       "      <th>RGDT_Rule_20211202_25</th>\n",
       "      <th>RGDT_Rule_20211202_16</th>\n",
       "      <th>RGDT_Rule_20211202_17</th>\n",
       "      <th>RGDT_Rule_20211202_31</th>\n",
       "      <th>HighFraudTxnPerAccountNum</th>\n",
       "      <th>RGDT_Rule256</th>\n",
       "      <th>RGDT_Rule193</th>\n",
       "      <th>RGDT_Rule45</th>\n",
       "      <th>RGDT_Rule241</th>\n",
       "      <th>RGDT_Rule313</th>\n",
       "    </tr>\n",
       "    <tr>\n",
       "      <th>eid</th>\n",
       "      <th></th>\n",
       "      <th></th>\n",
       "      <th></th>\n",
       "      <th></th>\n",
       "      <th></th>\n",
       "      <th></th>\n",
       "      <th></th>\n",
       "      <th></th>\n",
       "      <th></th>\n",
       "      <th></th>\n",
       "      <th></th>\n",
       "      <th></th>\n",
       "      <th></th>\n",
       "    </tr>\n",
       "  </thead>\n",
       "  <tbody>\n",
       "    <tr>\n",
       "      <th>503-0182982-0226911</th>\n",
       "      <td>1</td>\n",
       "      <td>0</td>\n",
       "      <td>0</td>\n",
       "      <td>1</td>\n",
       "      <td>0</td>\n",
       "      <td>0</td>\n",
       "      <td>0</td>\n",
       "      <td>1</td>\n",
       "      <td>1</td>\n",
       "      <td>0</td>\n",
       "      <td>0</td>\n",
       "      <td>0</td>\n",
       "      <td>1</td>\n",
       "    </tr>\n",
       "    <tr>\n",
       "      <th>516-2441570-6696110</th>\n",
       "      <td>0</td>\n",
       "      <td>0</td>\n",
       "      <td>0</td>\n",
       "      <td>0</td>\n",
       "      <td>0</td>\n",
       "      <td>0</td>\n",
       "      <td>0</td>\n",
       "      <td>0</td>\n",
       "      <td>0</td>\n",
       "      <td>0</td>\n",
       "      <td>0</td>\n",
       "      <td>0</td>\n",
       "      <td>0</td>\n",
       "    </tr>\n",
       "  </tbody>\n",
       "</table>\n",
       "</div>"
      ],
      "text/plain": [
       "Rule                 RGDT_Rule_20211202_27  RGDT_Rule_20211202_24  \\\n",
       "eid                                                                 \n",
       "503-0182982-0226911                      1                      0   \n",
       "516-2441570-6696110                      0                      0   \n",
       "\n",
       "Rule                 RGDT_Rule_20211202_22  RGDT_Rule_20211202_25  \\\n",
       "eid                                                                 \n",
       "503-0182982-0226911                      0                      1   \n",
       "516-2441570-6696110                      0                      0   \n",
       "\n",
       "Rule                 RGDT_Rule_20211202_16  RGDT_Rule_20211202_17  \\\n",
       "eid                                                                 \n",
       "503-0182982-0226911                      0                      0   \n",
       "516-2441570-6696110                      0                      0   \n",
       "\n",
       "Rule                 RGDT_Rule_20211202_31  HighFraudTxnPerAccountNum  \\\n",
       "eid                                                                     \n",
       "503-0182982-0226911                      0                          1   \n",
       "516-2441570-6696110                      0                          0   \n",
       "\n",
       "Rule                 RGDT_Rule256  RGDT_Rule193  RGDT_Rule45  RGDT_Rule241  \\\n",
       "eid                                                                          \n",
       "503-0182982-0226911             1             0            0             0   \n",
       "516-2441570-6696110             0             0            0             0   \n",
       "\n",
       "Rule                 RGDT_Rule313  \n",
       "eid                                \n",
       "503-0182982-0226911             1  \n",
       "516-2441570-6696110             0  "
      ]
     },
     "execution_count": 142,
     "metadata": {},
     "output_type": "execute_result"
    }
   ],
   "source": [
    "X_rules_train.head(2)"
   ]
  },
  {
   "cell_type": "code",
   "execution_count": 143,
   "metadata": {},
   "outputs": [
    {
     "data": {
      "text/html": [
       "<div>\n",
       "<style scoped>\n",
       "    .dataframe tbody tr th:only-of-type {\n",
       "        vertical-align: middle;\n",
       "    }\n",
       "\n",
       "    .dataframe tbody tr th {\n",
       "        vertical-align: top;\n",
       "    }\n",
       "\n",
       "    .dataframe thead th {\n",
       "        text-align: right;\n",
       "    }\n",
       "</style>\n",
       "<table border=\"1\" class=\"dataframe\">\n",
       "  <thead>\n",
       "    <tr style=\"text-align: right;\">\n",
       "      <th></th>\n",
       "      <th>Precision</th>\n",
       "      <th>Recall</th>\n",
       "      <th>PercDataFlagged</th>\n",
       "      <th>OptMetric</th>\n",
       "      <th>Logic</th>\n",
       "      <th>nConditions</th>\n",
       "    </tr>\n",
       "    <tr>\n",
       "      <th>Rule</th>\n",
       "      <th></th>\n",
       "      <th></th>\n",
       "      <th></th>\n",
       "      <th></th>\n",
       "      <th></th>\n",
       "      <th></th>\n",
       "    </tr>\n",
       "  </thead>\n",
       "  <tbody>\n",
       "    <tr>\n",
       "      <th>RGDT_Rule_20211202_27</th>\n",
       "      <td>0.991903</td>\n",
       "      <td>1.000000</td>\n",
       "      <td>0.027772</td>\n",
       "      <td>0.995935</td>\n",
       "      <td>(X['account_number_num_fraud_transactions_per_...</td>\n",
       "      <td>2</td>\n",
       "    </tr>\n",
       "    <tr>\n",
       "      <th>RGDT_Rule_20211202_24</th>\n",
       "      <td>1.000000</td>\n",
       "      <td>0.730612</td>\n",
       "      <td>0.020126</td>\n",
       "      <td>0.844340</td>\n",
       "      <td>(X['account_number_num_fraud_transactions_per_...</td>\n",
       "      <td>2</td>\n",
       "    </tr>\n",
       "  </tbody>\n",
       "</table>\n",
       "</div>"
      ],
      "text/plain": [
       "                       Precision    Recall  PercDataFlagged  OptMetric  \\\n",
       "Rule                                                                     \n",
       "RGDT_Rule_20211202_27   0.991903  1.000000         0.027772   0.995935   \n",
       "RGDT_Rule_20211202_24   1.000000  0.730612         0.020126   0.844340   \n",
       "\n",
       "                                                                   Logic  \\\n",
       "Rule                                                                       \n",
       "RGDT_Rule_20211202_27  (X['account_number_num_fraud_transactions_per_...   \n",
       "RGDT_Rule_20211202_24  (X['account_number_num_fraud_transactions_per_...   \n",
       "\n",
       "                       nConditions  \n",
       "Rule                                \n",
       "RGDT_Rule_20211202_27            2  \n",
       "RGDT_Rule_20211202_24            2  "
      ]
     },
     "execution_count": 143,
     "metadata": {},
     "output_type": "execute_result"
    }
   ],
   "source": [
    "rule_descriptions_train.head(2)"
   ]
  },
  {
   "cell_type": "code",
   "execution_count": 144,
   "metadata": {},
   "outputs": [
    {
     "data": {
      "text/plain": [
       "((8894, 13), (13, 6))"
      ]
     },
     "execution_count": 144,
     "metadata": {},
     "output_type": "execute_result"
    }
   ],
   "source": [
    "X_rules_train.shape, rule_descriptions_train.shape"
   ]
  },
  {
   "cell_type": "markdown",
   "metadata": {},
   "source": [
    "### Standard filter"
   ]
  },
  {
   "cell_type": "markdown",
   "metadata": {},
   "source": [
    "We can use the *SimpleFilter* class from the *rule_selection* module to filter out rules whose performance is below a desired threshold. In this example, we'll filter out rules with an F1 score below 0.01. Let's first set up our filters - **note that we use the key 'OptMetric' for the F1 score (since this is the metric that we used to generate and optimise the rules):**"
   ]
  },
  {
   "cell_type": "code",
   "execution_count": 145,
   "metadata": {},
   "outputs": [],
   "source": [
    "filters = {\n",
    "    'OptMetric': {\n",
    "        'Operator': '>=',\n",
    "        'Value': 0.01\n",
    "    }\n",
    "}"
   ]
  },
  {
   "cell_type": "markdown",
   "metadata": {},
   "source": [
    "Now we can instantiate the *SimpleFilter* class and run the *fit_transform()* method to remove the rules which do not meet the filter requirements:"
   ]
  },
  {
   "cell_type": "code",
   "execution_count": 146,
   "metadata": {},
   "outputs": [],
   "source": [
    "fr = SimpleFilter(\n",
    "    filters=filters, \n",
    "    rule_descriptions=rule_descriptions_train\n",
    ")"
   ]
  },
  {
   "cell_type": "code",
   "execution_count": 147,
   "metadata": {},
   "outputs": [],
   "source": [
    "X_rules_train = fr.fit_transform(\n",
    "    X_rules=X_rules_train, \n",
    "    y=y_train\n",
    ")"
   ]
  },
  {
   "cell_type": "markdown",
   "metadata": {},
   "source": [
    "#### Outputs"
   ]
  },
  {
   "cell_type": "markdown",
   "metadata": {},
   "source": [
    "The *.fit_transform()* method returns a dataframe containing the filtered rule binary columns. It also creates the following useful attributes:\n",
    "\n",
    "- rules_to_keep (list): List of rules which remain after the filters have been applied.\n",
    "- rule_descriptions (pd.DataFrame): The standard performance metrics dataframe associated with the filtered rules.\n",
    "\n",
    "We can assign the *rule_descriptions* dataframe from the class to our variable, ensuring that the filtered rules are removed from the dataframe:"
   ]
  },
  {
   "cell_type": "code",
   "execution_count": 148,
   "metadata": {},
   "outputs": [],
   "source": [
    "rule_descriptions_train = fr.rule_descriptions"
   ]
  },
  {
   "cell_type": "code",
   "execution_count": 149,
   "metadata": {},
   "outputs": [
    {
     "data": {
      "text/plain": [
       "((8894, 11), (11, 6))"
      ]
     },
     "execution_count": 149,
     "metadata": {},
     "output_type": "execute_result"
    }
   ],
   "source": [
    "X_rules_train.shape, rule_descriptions_train.shape"
   ]
  },
  {
   "cell_type": "markdown",
   "metadata": {},
   "source": [
    "### Remove correlated rules"
   ]
  },
  {
   "cell_type": "markdown",
   "metadata": {},
   "source": [
    "We can use the *CorrelatedFilter* class from the *rule_selection* module along with a correlation reduction class to remove correlated rules - see the *correlation_reduction_methods* module for more information on these classes. \n",
    "\n",
    "In this example, we'll be using the *AgglomerativeClusteringReducer* class from that module. To instantiate this class, we also need to define a similarity function - see the *similarity_functions* module for more information. In this example, we'll use the Jaccard similarity:"
   ]
  },
  {
   "cell_type": "code",
   "execution_count": 150,
   "metadata": {},
   "outputs": [],
   "source": [
    "js = JaccardSimilarity()"
   ]
  },
  {
   "cell_type": "code",
   "execution_count": 151,
   "metadata": {},
   "outputs": [],
   "source": [
    "acfr = AgglomerativeClusteringReducer(\n",
    "    threshold=0.75,\n",
    "    strategy='bottom_up', \n",
    "    similarity_function=js.fit, \n",
    "    columns_performance=rule_descriptions_train['OptMetric']\n",
    ")"
   ]
  },
  {
   "cell_type": "markdown",
   "metadata": {},
   "source": [
    "Now we can instantiate the *CorrelatedFilter* class, and run the *fit_transform()* method to remove correlated rules:"
   ]
  },
  {
   "cell_type": "code",
   "execution_count": 152,
   "metadata": {},
   "outputs": [],
   "source": [
    "fcr = CorrelatedFilter(\n",
    "    correlation_reduction_class=acfr, \n",
    "    rule_descriptions=rule_descriptions_train\n",
    ")"
   ]
  },
  {
   "cell_type": "code",
   "execution_count": 153,
   "metadata": {},
   "outputs": [],
   "source": [
    "X_rules_train = fcr.fit_transform(X_rules=X_rules_train)"
   ]
  },
  {
   "cell_type": "markdown",
   "metadata": {},
   "source": [
    "#### Outputs"
   ]
  },
  {
   "cell_type": "markdown",
   "metadata": {},
   "source": [
    "The *.fit_transform()* method returns a dataframe containing the binary columns of the uncorrelated rules. It also creates the following useful attributes:\n",
    "\n",
    "- rules_to_keep (list): List of rules which remain after the correlation reduction has been applied.\n",
    "- rule_descriptions (pd.DataFrame): The standard performance metrics dataframe associated with the uncorrelated rules.\n",
    "\n",
    "We can assign the *rule_descriptions* dataframe from the class to our variable, ensuring that the correlated rules are removed from the dataframe:"
   ]
  },
  {
   "cell_type": "code",
   "execution_count": 154,
   "metadata": {},
   "outputs": [],
   "source": [
    "rule_descriptions_train = fcr.rule_descriptions"
   ]
  },
  {
   "cell_type": "code",
   "execution_count": 155,
   "metadata": {},
   "outputs": [
    {
     "data": {
      "text/plain": [
       "((8894, 9), (9, 6))"
      ]
     },
     "execution_count": 155,
     "metadata": {},
     "output_type": "execute_result"
    }
   ],
   "source": [
    "X_rules_train.shape, rule_descriptions_train.shape"
   ]
  },
  {
   "cell_type": "markdown",
   "metadata": {},
   "source": [
    "### Greedy filter"
   ]
  },
  {
   "cell_type": "markdown",
   "metadata": {},
   "source": [
    "We can use the *GreedyFilter* class from the *rule_selection* module to sort the rules by a given metric (e.g. precision), then iterate through the rules and calculate the combined performance of the top n number of rules. Here, we'll sort the rules by precision, then calculate the F1 score of the top n combined rules:"
   ]
  },
  {
   "cell_type": "code",
   "execution_count": 156,
   "metadata": {},
   "outputs": [],
   "source": [
    "gf = GreedyFilter(\n",
    "    opt_func=f1.fit, \n",
    "    rule_descriptions=rule_descriptions_train, \n",
    "    sorting_col='Precision', \n",
    "    verbose=1\n",
    ")"
   ]
  },
  {
   "cell_type": "code",
   "execution_count": 157,
   "metadata": {},
   "outputs": [
    {
     "name": "stdout",
     "output_type": "stream",
     "text": [
      "--- Calculating performance of top n rules ---\n",
      "100%|██████████| 9/9 [00:00<00:00, 738.43it/s]\n"
     ]
    }
   ],
   "source": [
    "X_rules_train = gf.fit_transform(\n",
    "    X_rules=X_rules_train, \n",
    "    y=y_train\n",
    ")"
   ]
  },
  {
   "cell_type": "markdown",
   "metadata": {},
   "source": [
    "We can also plot the combined performance of the top *n* rules (calculated from running the *.fit()* method) on the training set using the *.plot_top_n_performance_on_train()* method:"
   ]
  },
  {
   "cell_type": "code",
   "execution_count": 158,
   "metadata": {},
   "outputs": [
    {
     "data": {
      "image/png": "[encoded data removed]",
      "image/svg+xml": [
       "<?xml version=\"1.0\" encoding=\"utf-8\" standalone=\"no\"?>\n",
       "<!DOCTYPE svg PUBLIC \"-//W3C//DTD SVG 1.1//EN\"\n",
       "  \"http://www.w3.org/Graphics/SVG/1.1/DTD/svg11.dtd\">\n",
       "<!-- Created with matplotlib (https://matplotlib.org/) -->\n",
       "<svg height=\"330.22625pt\" version=\"1.1\" viewBox=\"0 0 596.8 330.22625\" width=\"596.8pt\" xmlns=\"http://www.w3.org/2000/svg\" xmlns:xlink=\"http://www.w3.org/1999/xlink\">\n",
       " <defs>\n",
       "  <style type=\"text/css\">\n",
       "*{stroke-linecap:butt;stroke-linejoin:round;}\n",
       "  </style>\n",
       " </defs>\n",
       " <g id=\"figure_1\">\n",
       "  <g id=\"patch_1\">\n",
       "   <path d=\"M -0 330.22625 \n",
       "L 596.8 330.22625 \n",
       "L 596.8 0 \n",
       "L -0 0 \n",
       "z\n",
       "\" style=\"fill:#ffffff;\"/>\n",
       "  </g>\n",
       "  <g id=\"axes_1\">\n",
       "   <g id=\"patch_2\">\n",
       "    <path d=\"M 28.1 293.735625 \n",
       "L 586.1 293.735625 \n",
       "L 586.1 21.935625 \n",
       "L 28.1 21.935625 \n",
       "z\n",
       "\" style=\"fill:#ffffff;\"/>\n",
       "   </g>\n",
       "   <g id=\"matplotlib.axis_1\">\n",
       "    <g id=\"xtick_1\">\n",
       "     <g id=\"line2d_1\">\n",
       "      <path clip-path=\"url(#pcb0dcc54bb)\" d=\"M 53.463636 293.735625 \n",
       "L 53.463636 21.935625 \n",
       "\" style=\"fill:none;stroke:#cccccc;stroke-linecap:round;stroke-width:0.8;\"/>\n",
       "     </g>\n",
       "     <g id=\"text_1\">\n",
       "      <!-- 1 -->\n",
       "      <defs>\n",
       "       <path d=\"M 37.25 0 \n",
       "L 28.46875 0 \n",
       "L 28.46875 56 \n",
       "Q 25.296875 52.984375 20.140625 49.953125 \n",
       "Q 14.984375 46.921875 10.890625 45.40625 \n",
       "L 10.890625 53.90625 \n",
       "Q 18.265625 57.375 23.78125 62.296875 \n",
       "Q 29.296875 67.234375 31.59375 71.875 \n",
       "L 37.25 71.875 \n",
       "z\n",
       "\" id=\"ArialMT-49\"/>\n",
       "      </defs>\n",
       "      <g style=\"fill:#262626;\" transform=\"translate(50.683168 307.893438)scale(0.1 -0.1)\">\n",
       "       <use xlink:href=\"#ArialMT-49\"/>\n",
       "      </g>\n",
       "     </g>\n",
       "    </g>\n",
       "    <g id=\"xtick_2\">\n",
       "     <g id=\"line2d_2\">\n",
       "      <path clip-path=\"url(#pcb0dcc54bb)\" d=\"M 116.872727 293.735625 \n",
       "L 116.872727 21.935625 \n",
       "\" style=\"fill:none;stroke:#cccccc;stroke-linecap:round;stroke-width:0.8;\"/>\n",
       "     </g>\n",
       "     <g id=\"text_2\">\n",
       "      <!-- 2 -->\n",
       "      <defs>\n",
       "       <path d=\"M 50.34375 8.453125 \n",
       "L 50.34375 0 \n",
       "L 3.03125 0 \n",
       "Q 2.9375 3.171875 4.046875 6.109375 \n",
       "Q 5.859375 10.9375 9.828125 15.625 \n",
       "Q 13.8125 20.3125 21.34375 26.46875 \n",
       "Q 33.015625 36.03125 37.109375 41.625 \n",
       "Q 41.21875 47.21875 41.21875 52.203125 \n",
       "Q 41.21875 57.421875 37.46875 61 \n",
       "Q 33.734375 64.59375 27.734375 64.59375 \n",
       "Q 21.390625 64.59375 17.578125 60.78125 \n",
       "Q 13.765625 56.984375 13.71875 50.25 \n",
       "L 4.6875 51.171875 \n",
       "Q 5.609375 61.28125 11.65625 66.578125 \n",
       "Q 17.71875 71.875 27.9375 71.875 \n",
       "Q 38.234375 71.875 44.234375 66.15625 \n",
       "Q 50.25 60.453125 50.25 52 \n",
       "Q 50.25 47.703125 48.484375 43.546875 \n",
       "Q 46.734375 39.40625 42.65625 34.8125 \n",
       "Q 38.578125 30.21875 29.109375 22.21875 \n",
       "Q 21.1875 15.578125 18.9375 13.203125 \n",
       "Q 16.703125 10.84375 15.234375 8.453125 \n",
       "z\n",
       "\" id=\"ArialMT-50\"/>\n",
       "      </defs>\n",
       "      <g style=\"fill:#262626;\" transform=\"translate(114.092259 307.893438)scale(0.1 -0.1)\">\n",
       "       <use xlink:href=\"#ArialMT-50\"/>\n",
       "      </g>\n",
       "     </g>\n",
       "    </g>\n",
       "    <g id=\"xtick_3\">\n",
       "     <g id=\"line2d_3\">\n",
       "      <path clip-path=\"url(#pcb0dcc54bb)\" d=\"M 180.281818 293.735625 \n",
       "L 180.281818 21.935625 \n",
       "\" style=\"fill:none;stroke:#cccccc;stroke-linecap:round;stroke-width:0.8;\"/>\n",
       "     </g>\n",
       "     <g id=\"text_3\">\n",
       "      <!-- 3 -->\n",
       "      <defs>\n",
       "       <path d=\"M 4.203125 18.890625 \n",
       "L 12.984375 20.0625 \n",
       "Q 14.5 12.59375 18.140625 9.296875 \n",
       "Q 21.78125 6 27 6 \n",
       "Q 33.203125 6 37.46875 10.296875 \n",
       "Q 41.75 14.59375 41.75 20.953125 \n",
       "Q 41.75 27 37.796875 30.921875 \n",
       "Q 33.84375 34.859375 27.734375 34.859375 \n",
       "Q 25.25 34.859375 21.53125 33.890625 \n",
       "L 22.515625 41.609375 \n",
       "Q 23.390625 41.5 23.921875 41.5 \n",
       "Q 29.546875 41.5 34.03125 44.421875 \n",
       "Q 38.53125 47.359375 38.53125 53.46875 \n",
       "Q 38.53125 58.296875 35.25 61.46875 \n",
       "Q 31.984375 64.65625 26.8125 64.65625 \n",
       "Q 21.6875 64.65625 18.265625 61.421875 \n",
       "Q 14.84375 58.203125 13.875 51.765625 \n",
       "L 5.078125 53.328125 \n",
       "Q 6.6875 62.15625 12.390625 67.015625 \n",
       "Q 18.109375 71.875 26.609375 71.875 \n",
       "Q 32.46875 71.875 37.390625 69.359375 \n",
       "Q 42.328125 66.84375 44.9375 62.5 \n",
       "Q 47.5625 58.15625 47.5625 53.265625 \n",
       "Q 47.5625 48.640625 45.0625 44.828125 \n",
       "Q 42.578125 41.015625 37.703125 38.765625 \n",
       "Q 44.046875 37.3125 47.5625 32.6875 \n",
       "Q 51.078125 28.078125 51.078125 21.140625 \n",
       "Q 51.078125 11.765625 44.234375 5.25 \n",
       "Q 37.40625 -1.265625 26.953125 -1.265625 \n",
       "Q 17.53125 -1.265625 11.296875 4.34375 \n",
       "Q 5.078125 9.96875 4.203125 18.890625 \n",
       "z\n",
       "\" id=\"ArialMT-51\"/>\n",
       "      </defs>\n",
       "      <g style=\"fill:#262626;\" transform=\"translate(177.501349 307.893438)scale(0.1 -0.1)\">\n",
       "       <use xlink:href=\"#ArialMT-51\"/>\n",
       "      </g>\n",
       "     </g>\n",
       "    </g>\n",
       "    <g id=\"xtick_4\">\n",
       "     <g id=\"line2d_4\">\n",
       "      <path clip-path=\"url(#pcb0dcc54bb)\" d=\"M 243.690909 293.735625 \n",
       "L 243.690909 21.935625 \n",
       "\" style=\"fill:none;stroke:#cccccc;stroke-linecap:round;stroke-width:0.8;\"/>\n",
       "     </g>\n",
       "     <g id=\"text_4\">\n",
       "      <!-- 4 -->\n",
       "      <defs>\n",
       "       <path d=\"M 32.328125 0 \n",
       "L 32.328125 17.140625 \n",
       "L 1.265625 17.140625 \n",
       "L 1.265625 25.203125 \n",
       "L 33.9375 71.578125 \n",
       "L 41.109375 71.578125 \n",
       "L 41.109375 25.203125 \n",
       "L 50.78125 25.203125 \n",
       "L 50.78125 17.140625 \n",
       "L 41.109375 17.140625 \n",
       "L 41.109375 0 \n",
       "z\n",
       "M 32.328125 25.203125 \n",
       "L 32.328125 57.46875 \n",
       "L 9.90625 25.203125 \n",
       "z\n",
       "\" id=\"ArialMT-52\"/>\n",
       "      </defs>\n",
       "      <g style=\"fill:#262626;\" transform=\"translate(240.91044 307.893438)scale(0.1 -0.1)\">\n",
       "       <use xlink:href=\"#ArialMT-52\"/>\n",
       "      </g>\n",
       "     </g>\n",
       "    </g>\n",
       "    <g id=\"xtick_5\">\n",
       "     <g id=\"line2d_5\">\n",
       "      <path clip-path=\"url(#pcb0dcc54bb)\" d=\"M 307.1 293.735625 \n",
       "L 307.1 21.935625 \n",
       "\" style=\"fill:none;stroke:#cccccc;stroke-linecap:round;stroke-width:0.8;\"/>\n",
       "     </g>\n",
       "     <g id=\"text_5\">\n",
       "      <!-- 5 -->\n",
       "      <defs>\n",
       "       <path d=\"M 4.15625 18.75 \n",
       "L 13.375 19.53125 \n",
       "Q 14.40625 12.796875 18.140625 9.390625 \n",
       "Q 21.875 6 27.15625 6 \n",
       "Q 33.5 6 37.890625 10.78125 \n",
       "Q 42.28125 15.578125 42.28125 23.484375 \n",
       "Q 42.28125 31 38.0625 35.34375 \n",
       "Q 33.84375 39.703125 27 39.703125 \n",
       "Q 22.75 39.703125 19.328125 37.765625 \n",
       "Q 15.921875 35.84375 13.96875 32.765625 \n",
       "L 5.71875 33.84375 \n",
       "L 12.640625 70.609375 \n",
       "L 48.25 70.609375 \n",
       "L 48.25 62.203125 \n",
       "L 19.671875 62.203125 \n",
       "L 15.828125 42.96875 \n",
       "Q 22.265625 47.46875 29.34375 47.46875 \n",
       "Q 38.71875 47.46875 45.15625 40.96875 \n",
       "Q 51.609375 34.46875 51.609375 24.265625 \n",
       "Q 51.609375 14.546875 45.953125 7.46875 \n",
       "Q 39.0625 -1.21875 27.15625 -1.21875 \n",
       "Q 17.390625 -1.21875 11.203125 4.25 \n",
       "Q 5.03125 9.71875 4.15625 18.75 \n",
       "z\n",
       "\" id=\"ArialMT-53\"/>\n",
       "      </defs>\n",
       "      <g style=\"fill:#262626;\" transform=\"translate(304.319531 307.893438)scale(0.1 -0.1)\">\n",
       "       <use xlink:href=\"#ArialMT-53\"/>\n",
       "      </g>\n",
       "     </g>\n",
       "    </g>\n",
       "    <g id=\"xtick_6\">\n",
       "     <g id=\"line2d_6\">\n",
       "      <path clip-path=\"url(#pcb0dcc54bb)\" d=\"M 370.509091 293.735625 \n",
       "L 370.509091 21.935625 \n",
       "\" style=\"fill:none;stroke:#cccccc;stroke-linecap:round;stroke-width:0.8;\"/>\n",
       "     </g>\n",
       "     <g id=\"text_6\">\n",
       "      <!-- 6 -->\n",
       "      <defs>\n",
       "       <path d=\"M 49.75 54.046875 \n",
       "L 41.015625 53.375 \n",
       "Q 39.84375 58.546875 37.703125 60.890625 \n",
       "Q 34.125 64.65625 28.90625 64.65625 \n",
       "Q 24.703125 64.65625 21.53125 62.3125 \n",
       "Q 17.390625 59.28125 14.984375 53.46875 \n",
       "Q 12.59375 47.65625 12.5 36.921875 \n",
       "Q 15.671875 41.75 20.265625 44.09375 \n",
       "Q 24.859375 46.4375 29.890625 46.4375 \n",
       "Q 38.671875 46.4375 44.84375 39.96875 \n",
       "Q 51.03125 33.5 51.03125 23.25 \n",
       "Q 51.03125 16.5 48.125 10.71875 \n",
       "Q 45.21875 4.9375 40.140625 1.859375 \n",
       "Q 35.0625 -1.21875 28.609375 -1.21875 \n",
       "Q 17.625 -1.21875 10.6875 6.859375 \n",
       "Q 3.765625 14.9375 3.765625 33.5 \n",
       "Q 3.765625 54.25 11.421875 63.671875 \n",
       "Q 18.109375 71.875 29.4375 71.875 \n",
       "Q 37.890625 71.875 43.28125 67.140625 \n",
       "Q 48.6875 62.40625 49.75 54.046875 \n",
       "z\n",
       "M 13.875 23.1875 \n",
       "Q 13.875 18.65625 15.796875 14.5 \n",
       "Q 17.71875 10.359375 21.1875 8.171875 \n",
       "Q 24.65625 6 28.46875 6 \n",
       "Q 34.03125 6 38.03125 10.484375 \n",
       "Q 42.046875 14.984375 42.046875 22.703125 \n",
       "Q 42.046875 30.125 38.078125 34.390625 \n",
       "Q 34.125 38.671875 28.125 38.671875 \n",
       "Q 22.171875 38.671875 18.015625 34.390625 \n",
       "Q 13.875 30.125 13.875 23.1875 \n",
       "z\n",
       "\" id=\"ArialMT-54\"/>\n",
       "      </defs>\n",
       "      <g style=\"fill:#262626;\" transform=\"translate(367.728622 307.893438)scale(0.1 -0.1)\">\n",
       "       <use xlink:href=\"#ArialMT-54\"/>\n",
       "      </g>\n",
       "     </g>\n",
       "    </g>\n",
       "    <g id=\"xtick_7\">\n",
       "     <g id=\"line2d_7\">\n",
       "      <path clip-path=\"url(#pcb0dcc54bb)\" d=\"M 433.918182 293.735625 \n",
       "L 433.918182 21.935625 \n",
       "\" style=\"fill:none;stroke:#cccccc;stroke-linecap:round;stroke-width:0.8;\"/>\n",
       "     </g>\n",
       "     <g id=\"text_7\">\n",
       "      <!-- 7 -->\n",
       "      <defs>\n",
       "       <path d=\"M 4.734375 62.203125 \n",
       "L 4.734375 70.65625 \n",
       "L 51.078125 70.65625 \n",
       "L 51.078125 63.8125 \n",
       "Q 44.234375 56.546875 37.515625 44.484375 \n",
       "Q 30.8125 32.421875 27.15625 19.671875 \n",
       "Q 24.515625 10.6875 23.78125 0 \n",
       "L 14.75 0 \n",
       "Q 14.890625 8.453125 18.0625 20.40625 \n",
       "Q 21.234375 32.375 27.171875 43.484375 \n",
       "Q 33.109375 54.59375 39.796875 62.203125 \n",
       "z\n",
       "\" id=\"ArialMT-55\"/>\n",
       "      </defs>\n",
       "      <g style=\"fill:#262626;\" transform=\"translate(431.137713 307.893438)scale(0.1 -0.1)\">\n",
       "       <use xlink:href=\"#ArialMT-55\"/>\n",
       "      </g>\n",
       "     </g>\n",
       "    </g>\n",
       "    <g id=\"xtick_8\">\n",
       "     <g id=\"line2d_8\">\n",
       "      <path clip-path=\"url(#pcb0dcc54bb)\" d=\"M 497.327273 293.735625 \n",
       "L 497.327273 21.935625 \n",
       "\" style=\"fill:none;stroke:#cccccc;stroke-linecap:round;stroke-width:0.8;\"/>\n",
       "     </g>\n",
       "     <g id=\"text_8\">\n",
       "      <!-- 8 -->\n",
       "      <defs>\n",
       "       <path d=\"M 17.671875 38.8125 \n",
       "Q 12.203125 40.828125 9.5625 44.53125 \n",
       "Q 6.9375 48.25 6.9375 53.421875 \n",
       "Q 6.9375 61.234375 12.546875 66.546875 \n",
       "Q 18.171875 71.875 27.484375 71.875 \n",
       "Q 36.859375 71.875 42.578125 66.421875 \n",
       "Q 48.296875 60.984375 48.296875 53.171875 \n",
       "Q 48.296875 48.1875 45.671875 44.5 \n",
       "Q 43.0625 40.828125 37.75 38.8125 \n",
       "Q 44.34375 36.671875 47.78125 31.875 \n",
       "Q 51.21875 27.09375 51.21875 20.453125 \n",
       "Q 51.21875 11.28125 44.71875 5.03125 \n",
       "Q 38.234375 -1.21875 27.640625 -1.21875 \n",
       "Q 17.046875 -1.21875 10.546875 5.046875 \n",
       "Q 4.046875 11.328125 4.046875 20.703125 \n",
       "Q 4.046875 27.6875 7.59375 32.390625 \n",
       "Q 11.140625 37.109375 17.671875 38.8125 \n",
       "z\n",
       "M 15.921875 53.71875 \n",
       "Q 15.921875 48.640625 19.1875 45.40625 \n",
       "Q 22.46875 42.1875 27.6875 42.1875 \n",
       "Q 32.765625 42.1875 36.015625 45.375 \n",
       "Q 39.265625 48.578125 39.265625 53.21875 \n",
       "Q 39.265625 58.0625 35.90625 61.359375 \n",
       "Q 32.5625 64.65625 27.59375 64.65625 \n",
       "Q 22.5625 64.65625 19.234375 61.421875 \n",
       "Q 15.921875 58.203125 15.921875 53.71875 \n",
       "z\n",
       "M 13.09375 20.65625 \n",
       "Q 13.09375 16.890625 14.875 13.375 \n",
       "Q 16.65625 9.859375 20.171875 7.921875 \n",
       "Q 23.6875 6 27.734375 6 \n",
       "Q 34.03125 6 38.125 10.046875 \n",
       "Q 42.234375 14.109375 42.234375 20.359375 \n",
       "Q 42.234375 26.703125 38.015625 30.859375 \n",
       "Q 33.796875 35.015625 27.4375 35.015625 \n",
       "Q 21.234375 35.015625 17.15625 30.90625 \n",
       "Q 13.09375 26.8125 13.09375 20.65625 \n",
       "z\n",
       "\" id=\"ArialMT-56\"/>\n",
       "      </defs>\n",
       "      <g style=\"fill:#262626;\" transform=\"translate(494.546804 307.893438)scale(0.1 -0.1)\">\n",
       "       <use xlink:href=\"#ArialMT-56\"/>\n",
       "      </g>\n",
       "     </g>\n",
       "    </g>\n",
       "    <g id=\"xtick_9\">\n",
       "     <g id=\"line2d_9\">\n",
       "      <path clip-path=\"url(#pcb0dcc54bb)\" d=\"M 560.736364 293.735625 \n",
       "L 560.736364 21.935625 \n",
       "\" style=\"fill:none;stroke:#cccccc;stroke-linecap:round;stroke-width:0.8;\"/>\n",
       "     </g>\n",
       "     <g id=\"text_9\">\n",
       "      <!-- 9 -->\n",
       "      <defs>\n",
       "       <path d=\"M 5.46875 16.546875 \n",
       "L 13.921875 17.328125 \n",
       "Q 14.984375 11.375 18.015625 8.6875 \n",
       "Q 21.046875 6 25.78125 6 \n",
       "Q 29.828125 6 32.875 7.859375 \n",
       "Q 35.9375 9.71875 37.890625 12.8125 \n",
       "Q 39.84375 15.921875 41.15625 21.1875 \n",
       "Q 42.484375 26.46875 42.484375 31.9375 \n",
       "Q 42.484375 32.515625 42.4375 33.6875 \n",
       "Q 39.796875 29.5 35.234375 26.875 \n",
       "Q 30.671875 24.265625 25.34375 24.265625 \n",
       "Q 16.453125 24.265625 10.296875 30.703125 \n",
       "Q 4.15625 37.15625 4.15625 47.703125 \n",
       "Q 4.15625 58.59375 10.578125 65.234375 \n",
       "Q 17 71.875 26.65625 71.875 \n",
       "Q 33.640625 71.875 39.421875 68.109375 \n",
       "Q 45.21875 64.359375 48.21875 57.390625 \n",
       "Q 51.21875 50.4375 51.21875 37.25 \n",
       "Q 51.21875 23.53125 48.234375 15.40625 \n",
       "Q 45.265625 7.28125 39.375 3.03125 \n",
       "Q 33.5 -1.21875 25.59375 -1.21875 \n",
       "Q 17.1875 -1.21875 11.859375 3.4375 \n",
       "Q 6.546875 8.109375 5.46875 16.546875 \n",
       "z\n",
       "M 41.453125 48.140625 \n",
       "Q 41.453125 55.71875 37.421875 60.15625 \n",
       "Q 33.40625 64.59375 27.734375 64.59375 \n",
       "Q 21.875 64.59375 17.53125 59.8125 \n",
       "Q 13.1875 55.03125 13.1875 47.40625 \n",
       "Q 13.1875 40.578125 17.3125 36.296875 \n",
       "Q 21.4375 32.03125 27.484375 32.03125 \n",
       "Q 33.59375 32.03125 37.515625 36.296875 \n",
       "Q 41.453125 40.578125 41.453125 48.140625 \n",
       "z\n",
       "\" id=\"ArialMT-57\"/>\n",
       "      </defs>\n",
       "      <g style=\"fill:#262626;\" transform=\"translate(557.955895 307.893438)scale(0.1 -0.1)\">\n",
       "       <use xlink:href=\"#ArialMT-57\"/>\n",
       "      </g>\n",
       "     </g>\n",
       "    </g>\n",
       "    <g id=\"text_10\">\n",
       "     <!-- Top n rules -->\n",
       "     <defs>\n",
       "      <path d=\"M 25.921875 0 \n",
       "L 25.921875 63.140625 \n",
       "L 2.34375 63.140625 \n",
       "L 2.34375 71.578125 \n",
       "L 59.078125 71.578125 \n",
       "L 59.078125 63.140625 \n",
       "L 35.40625 63.140625 \n",
       "L 35.40625 0 \n",
       "z\n",
       "\" id=\"ArialMT-84\"/>\n",
       "      <path d=\"M 3.328125 25.921875 \n",
       "Q 3.328125 40.328125 11.328125 47.265625 \n",
       "Q 18.015625 53.03125 27.640625 53.03125 \n",
       "Q 38.328125 53.03125 45.109375 46.015625 \n",
       "Q 51.90625 39.015625 51.90625 26.65625 \n",
       "Q 51.90625 16.65625 48.90625 10.90625 \n",
       "Q 45.90625 5.171875 40.15625 2 \n",
       "Q 34.421875 -1.171875 27.640625 -1.171875 \n",
       "Q 16.75 -1.171875 10.03125 5.8125 \n",
       "Q 3.328125 12.796875 3.328125 25.921875 \n",
       "z\n",
       "M 12.359375 25.921875 \n",
       "Q 12.359375 15.96875 16.703125 11.015625 \n",
       "Q 21.046875 6.0625 27.640625 6.0625 \n",
       "Q 34.1875 6.0625 38.53125 11.03125 \n",
       "Q 42.875 16.015625 42.875 26.21875 \n",
       "Q 42.875 35.84375 38.5 40.796875 \n",
       "Q 34.125 45.75 27.640625 45.75 \n",
       "Q 21.046875 45.75 16.703125 40.8125 \n",
       "Q 12.359375 35.890625 12.359375 25.921875 \n",
       "z\n",
       "\" id=\"ArialMT-111\"/>\n",
       "      <path d=\"M 6.59375 -19.875 \n",
       "L 6.59375 51.859375 \n",
       "L 14.59375 51.859375 \n",
       "L 14.59375 45.125 \n",
       "Q 17.4375 49.078125 21 51.046875 \n",
       "Q 24.5625 53.03125 29.640625 53.03125 \n",
       "Q 36.28125 53.03125 41.359375 49.609375 \n",
       "Q 46.4375 46.1875 49.015625 39.953125 \n",
       "Q 51.609375 33.734375 51.609375 26.3125 \n",
       "Q 51.609375 18.359375 48.75 11.984375 \n",
       "Q 45.90625 5.609375 40.453125 2.21875 \n",
       "Q 35.015625 -1.171875 29 -1.171875 \n",
       "Q 24.609375 -1.171875 21.109375 0.6875 \n",
       "Q 17.625 2.546875 15.375 5.375 \n",
       "L 15.375 -19.875 \n",
       "z\n",
       "M 14.546875 25.640625 \n",
       "Q 14.546875 15.625 18.59375 10.84375 \n",
       "Q 22.65625 6.0625 28.421875 6.0625 \n",
       "Q 34.28125 6.0625 38.453125 11.015625 \n",
       "Q 42.625 15.96875 42.625 26.375 \n",
       "Q 42.625 36.28125 38.546875 41.203125 \n",
       "Q 34.46875 46.140625 28.8125 46.140625 \n",
       "Q 23.1875 46.140625 18.859375 40.890625 \n",
       "Q 14.546875 35.640625 14.546875 25.640625 \n",
       "z\n",
       "\" id=\"ArialMT-112\"/>\n",
       "      <path id=\"ArialMT-32\"/>\n",
       "      <path d=\"M 6.59375 0 \n",
       "L 6.59375 51.859375 \n",
       "L 14.5 51.859375 \n",
       "L 14.5 44.484375 \n",
       "Q 20.21875 53.03125 31 53.03125 \n",
       "Q 35.6875 53.03125 39.625 51.34375 \n",
       "Q 43.5625 49.65625 45.515625 46.921875 \n",
       "Q 47.46875 44.1875 48.25 40.4375 \n",
       "Q 48.734375 37.984375 48.734375 31.890625 \n",
       "L 48.734375 0 \n",
       "L 39.9375 0 \n",
       "L 39.9375 31.546875 \n",
       "Q 39.9375 36.921875 38.90625 39.578125 \n",
       "Q 37.890625 42.234375 35.28125 43.8125 \n",
       "Q 32.671875 45.40625 29.15625 45.40625 \n",
       "Q 23.53125 45.40625 19.453125 41.84375 \n",
       "Q 15.375 38.28125 15.375 28.328125 \n",
       "L 15.375 0 \n",
       "z\n",
       "\" id=\"ArialMT-110\"/>\n",
       "      <path d=\"M 6.5 0 \n",
       "L 6.5 51.859375 \n",
       "L 14.40625 51.859375 \n",
       "L 14.40625 44 \n",
       "Q 17.4375 49.515625 20 51.265625 \n",
       "Q 22.5625 53.03125 25.640625 53.03125 \n",
       "Q 30.078125 53.03125 34.671875 50.203125 \n",
       "L 31.640625 42.046875 \n",
       "Q 28.421875 43.953125 25.203125 43.953125 \n",
       "Q 22.3125 43.953125 20.015625 42.21875 \n",
       "Q 17.71875 40.484375 16.75 37.40625 \n",
       "Q 15.28125 32.71875 15.28125 27.15625 \n",
       "L 15.28125 0 \n",
       "z\n",
       "\" id=\"ArialMT-114\"/>\n",
       "      <path d=\"M 40.578125 0 \n",
       "L 40.578125 7.625 \n",
       "Q 34.515625 -1.171875 24.125 -1.171875 \n",
       "Q 19.53125 -1.171875 15.546875 0.578125 \n",
       "Q 11.578125 2.34375 9.640625 5 \n",
       "Q 7.71875 7.671875 6.9375 11.53125 \n",
       "Q 6.390625 14.109375 6.390625 19.734375 \n",
       "L 6.390625 51.859375 \n",
       "L 15.1875 51.859375 \n",
       "L 15.1875 23.09375 \n",
       "Q 15.1875 16.21875 15.71875 13.8125 \n",
       "Q 16.546875 10.359375 19.234375 8.375 \n",
       "Q 21.921875 6.390625 25.875 6.390625 \n",
       "Q 29.828125 6.390625 33.296875 8.421875 \n",
       "Q 36.765625 10.453125 38.203125 13.9375 \n",
       "Q 39.65625 17.4375 39.65625 24.078125 \n",
       "L 39.65625 51.859375 \n",
       "L 48.4375 51.859375 \n",
       "L 48.4375 0 \n",
       "z\n",
       "\" id=\"ArialMT-117\"/>\n",
       "      <path d=\"M 6.390625 0 \n",
       "L 6.390625 71.578125 \n",
       "L 15.1875 71.578125 \n",
       "L 15.1875 0 \n",
       "z\n",
       "\" id=\"ArialMT-108\"/>\n",
       "      <path d=\"M 42.09375 16.703125 \n",
       "L 51.171875 15.578125 \n",
       "Q 49.03125 7.625 43.21875 3.21875 \n",
       "Q 37.40625 -1.171875 28.375 -1.171875 \n",
       "Q 17 -1.171875 10.328125 5.828125 \n",
       "Q 3.65625 12.84375 3.65625 25.484375 \n",
       "Q 3.65625 38.578125 10.390625 45.796875 \n",
       "Q 17.140625 53.03125 27.875 53.03125 \n",
       "Q 38.28125 53.03125 44.875 45.953125 \n",
       "Q 51.46875 38.875 51.46875 26.03125 \n",
       "Q 51.46875 25.25 51.421875 23.6875 \n",
       "L 12.75 23.6875 \n",
       "Q 13.234375 15.140625 17.578125 10.59375 \n",
       "Q 21.921875 6.0625 28.421875 6.0625 \n",
       "Q 33.25 6.0625 36.671875 8.59375 \n",
       "Q 40.09375 11.140625 42.09375 16.703125 \n",
       "z\n",
       "M 13.234375 30.90625 \n",
       "L 42.1875 30.90625 \n",
       "Q 41.609375 37.453125 38.875 40.71875 \n",
       "Q 34.671875 45.796875 27.984375 45.796875 \n",
       "Q 21.921875 45.796875 17.796875 41.75 \n",
       "Q 13.671875 37.703125 13.234375 30.90625 \n",
       "z\n",
       "\" id=\"ArialMT-101\"/>\n",
       "      <path d=\"M 3.078125 15.484375 \n",
       "L 11.765625 16.84375 \n",
       "Q 12.5 11.625 15.84375 8.84375 \n",
       "Q 19.1875 6.0625 25.203125 6.0625 \n",
       "Q 31.25 6.0625 34.171875 8.515625 \n",
       "Q 37.109375 10.984375 37.109375 14.3125 \n",
       "Q 37.109375 17.28125 34.515625 19 \n",
       "Q 32.71875 20.171875 25.53125 21.96875 \n",
       "Q 15.875 24.421875 12.140625 26.203125 \n",
       "Q 8.40625 27.984375 6.46875 31.125 \n",
       "Q 4.546875 34.28125 4.546875 38.09375 \n",
       "Q 4.546875 41.546875 6.125 44.5 \n",
       "Q 7.71875 47.46875 10.453125 49.421875 \n",
       "Q 12.5 50.921875 16.03125 51.96875 \n",
       "Q 19.578125 53.03125 23.640625 53.03125 \n",
       "Q 29.734375 53.03125 34.34375 51.265625 \n",
       "Q 38.96875 49.515625 41.15625 46.5 \n",
       "Q 43.359375 43.5 44.1875 38.484375 \n",
       "L 35.59375 37.3125 \n",
       "Q 35.015625 41.3125 32.203125 43.546875 \n",
       "Q 29.390625 45.796875 24.265625 45.796875 \n",
       "Q 18.21875 45.796875 15.625 43.796875 \n",
       "Q 13.03125 41.796875 13.03125 39.109375 \n",
       "Q 13.03125 37.40625 14.109375 36.03125 \n",
       "Q 15.1875 34.625 17.484375 33.6875 \n",
       "Q 18.796875 33.203125 25.25 31.453125 \n",
       "Q 34.578125 28.953125 38.25 27.359375 \n",
       "Q 41.9375 25.78125 44.03125 22.75 \n",
       "Q 46.140625 19.734375 46.140625 15.234375 \n",
       "Q 46.140625 10.84375 43.578125 6.953125 \n",
       "Q 41.015625 3.078125 36.171875 0.953125 \n",
       "Q 31.34375 -1.171875 25.25 -1.171875 \n",
       "Q 15.140625 -1.171875 9.84375 3.03125 \n",
       "Q 4.546875 7.234375 3.078125 15.484375 \n",
       "z\n",
       "\" id=\"ArialMT-115\"/>\n",
       "     </defs>\n",
       "     <g style=\"fill:#262626;\" transform=\"translate(282.098438 321.03875)scale(0.1 -0.1)\">\n",
       "      <use xlink:href=\"#ArialMT-84\"/>\n",
       "      <use x=\"60.912109\" xlink:href=\"#ArialMT-111\"/>\n",
       "      <use x=\"116.527344\" xlink:href=\"#ArialMT-112\"/>\n",
       "      <use x=\"172.142578\" xlink:href=\"#ArialMT-32\"/>\n",
       "      <use x=\"199.925781\" xlink:href=\"#ArialMT-110\"/>\n",
       "      <use x=\"255.541016\" xlink:href=\"#ArialMT-32\"/>\n",
       "      <use x=\"283.324219\" xlink:href=\"#ArialMT-114\"/>\n",
       "      <use x=\"316.625\" xlink:href=\"#ArialMT-117\"/>\n",
       "      <use x=\"372.240234\" xlink:href=\"#ArialMT-108\"/>\n",
       "      <use x=\"394.457031\" xlink:href=\"#ArialMT-101\"/>\n",
       "      <use x=\"450.072266\" xlink:href=\"#ArialMT-115\"/>\n",
       "     </g>\n",
       "    </g>\n",
       "   </g>\n",
       "   <g id=\"matplotlib.axis_2\">\n",
       "    <g id=\"ytick_1\">\n",
       "     <g id=\"line2d_10\">\n",
       "      <path clip-path=\"url(#pcb0dcc54bb)\" d=\"M 28.1 291.602453 \n",
       "L 586.1 291.602453 \n",
       "\" style=\"fill:none;stroke:#cccccc;stroke-linecap:round;stroke-width:0.8;\"/>\n",
       "     </g>\n",
       "     <g id=\"text_11\">\n",
       "      <!-- 0.3 -->\n",
       "      <defs>\n",
       "       <path d=\"M 4.15625 35.296875 \n",
       "Q 4.15625 48 6.765625 55.734375 \n",
       "Q 9.375 63.484375 14.515625 67.671875 \n",
       "Q 19.671875 71.875 27.484375 71.875 \n",
       "Q 33.25 71.875 37.59375 69.546875 \n",
       "Q 41.9375 67.234375 44.765625 62.859375 \n",
       "Q 47.609375 58.5 49.21875 52.21875 \n",
       "Q 50.828125 45.953125 50.828125 35.296875 \n",
       "Q 50.828125 22.703125 48.234375 14.96875 \n",
       "Q 45.65625 7.234375 40.5 3 \n",
       "Q 35.359375 -1.21875 27.484375 -1.21875 \n",
       "Q 17.140625 -1.21875 11.234375 6.203125 \n",
       "Q 4.15625 15.140625 4.15625 35.296875 \n",
       "z\n",
       "M 13.1875 35.296875 \n",
       "Q 13.1875 17.671875 17.3125 11.828125 \n",
       "Q 21.4375 6 27.484375 6 \n",
       "Q 33.546875 6 37.671875 11.859375 \n",
       "Q 41.796875 17.71875 41.796875 35.296875 \n",
       "Q 41.796875 52.984375 37.671875 58.78125 \n",
       "Q 33.546875 64.59375 27.390625 64.59375 \n",
       "Q 21.34375 64.59375 17.71875 59.46875 \n",
       "Q 13.1875 52.9375 13.1875 35.296875 \n",
       "z\n",
       "\" id=\"ArialMT-48\"/>\n",
       "       <path d=\"M 9.078125 0 \n",
       "L 9.078125 10.015625 \n",
       "L 19.09375 10.015625 \n",
       "L 19.09375 0 \n",
       "z\n",
       "\" id=\"ArialMT-46\"/>\n",
       "      </defs>\n",
       "      <g style=\"fill:#262626;\" transform=\"translate(7.2 295.181359)scale(0.1 -0.1)\">\n",
       "       <use xlink:href=\"#ArialMT-48\"/>\n",
       "       <use x=\"55.615234\" xlink:href=\"#ArialMT-46\"/>\n",
       "       <use x=\"83.398438\" xlink:href=\"#ArialMT-51\"/>\n",
       "      </g>\n",
       "     </g>\n",
       "    </g>\n",
       "    <g id=\"ytick_2\">\n",
       "     <g id=\"line2d_11\">\n",
       "      <path clip-path=\"url(#pcb0dcc54bb)\" d=\"M 28.1 254.628842 \n",
       "L 586.1 254.628842 \n",
       "\" style=\"fill:none;stroke:#cccccc;stroke-linecap:round;stroke-width:0.8;\"/>\n",
       "     </g>\n",
       "     <g id=\"text_12\">\n",
       "      <!-- 0.4 -->\n",
       "      <g style=\"fill:#262626;\" transform=\"translate(7.2 258.207749)scale(0.1 -0.1)\">\n",
       "       <use xlink:href=\"#ArialMT-48\"/>\n",
       "       <use x=\"55.615234\" xlink:href=\"#ArialMT-46\"/>\n",
       "       <use x=\"83.398438\" xlink:href=\"#ArialMT-52\"/>\n",
       "      </g>\n",
       "     </g>\n",
       "    </g>\n",
       "    <g id=\"ytick_3\">\n",
       "     <g id=\"line2d_12\">\n",
       "      <path clip-path=\"url(#pcb0dcc54bb)\" d=\"M 28.1 217.655232 \n",
       "L 586.1 217.655232 \n",
       "\" style=\"fill:none;stroke:#cccccc;stroke-linecap:round;stroke-width:0.8;\"/>\n",
       "     </g>\n",
       "     <g id=\"text_13\">\n",
       "      <!-- 0.5 -->\n",
       "      <g style=\"fill:#262626;\" transform=\"translate(7.2 221.234138)scale(0.1 -0.1)\">\n",
       "       <use xlink:href=\"#ArialMT-48\"/>\n",
       "       <use x=\"55.615234\" xlink:href=\"#ArialMT-46\"/>\n",
       "       <use x=\"83.398438\" xlink:href=\"#ArialMT-53\"/>\n",
       "      </g>\n",
       "     </g>\n",
       "    </g>\n",
       "    <g id=\"ytick_4\">\n",
       "     <g id=\"line2d_13\">\n",
       "      <path clip-path=\"url(#pcb0dcc54bb)\" d=\"M 28.1 180.681621 \n",
       "L 586.1 180.681621 \n",
       "\" style=\"fill:none;stroke:#cccccc;stroke-linecap:round;stroke-width:0.8;\"/>\n",
       "     </g>\n",
       "     <g id=\"text_14\">\n",
       "      <!-- 0.6 -->\n",
       "      <g style=\"fill:#262626;\" transform=\"translate(7.2 184.260527)scale(0.1 -0.1)\">\n",
       "       <use xlink:href=\"#ArialMT-48\"/>\n",
       "       <use x=\"55.615234\" xlink:href=\"#ArialMT-46\"/>\n",
       "       <use x=\"83.398438\" xlink:href=\"#ArialMT-54\"/>\n",
       "      </g>\n",
       "     </g>\n",
       "    </g>\n",
       "    <g id=\"ytick_5\">\n",
       "     <g id=\"line2d_14\">\n",
       "      <path clip-path=\"url(#pcb0dcc54bb)\" d=\"M 28.1 143.70801 \n",
       "L 586.1 143.70801 \n",
       "\" style=\"fill:none;stroke:#cccccc;stroke-linecap:round;stroke-width:0.8;\"/>\n",
       "     </g>\n",
       "     <g id=\"text_15\">\n",
       "      <!-- 0.7 -->\n",
       "      <g style=\"fill:#262626;\" transform=\"translate(7.2 147.286917)scale(0.1 -0.1)\">\n",
       "       <use xlink:href=\"#ArialMT-48\"/>\n",
       "       <use x=\"55.615234\" xlink:href=\"#ArialMT-46\"/>\n",
       "       <use x=\"83.398438\" xlink:href=\"#ArialMT-55\"/>\n",
       "      </g>\n",
       "     </g>\n",
       "    </g>\n",
       "    <g id=\"ytick_6\">\n",
       "     <g id=\"line2d_15\">\n",
       "      <path clip-path=\"url(#pcb0dcc54bb)\" d=\"M 28.1 106.7344 \n",
       "L 586.1 106.7344 \n",
       "\" style=\"fill:none;stroke:#cccccc;stroke-linecap:round;stroke-width:0.8;\"/>\n",
       "     </g>\n",
       "     <g id=\"text_16\">\n",
       "      <!-- 0.8 -->\n",
       "      <g style=\"fill:#262626;\" transform=\"translate(7.2 110.313306)scale(0.1 -0.1)\">\n",
       "       <use xlink:href=\"#ArialMT-48\"/>\n",
       "       <use x=\"55.615234\" xlink:href=\"#ArialMT-46\"/>\n",
       "       <use x=\"83.398438\" xlink:href=\"#ArialMT-56\"/>\n",
       "      </g>\n",
       "     </g>\n",
       "    </g>\n",
       "    <g id=\"ytick_7\">\n",
       "     <g id=\"line2d_16\">\n",
       "      <path clip-path=\"url(#pcb0dcc54bb)\" d=\"M 28.1 69.760789 \n",
       "L 586.1 69.760789 \n",
       "\" style=\"fill:none;stroke:#cccccc;stroke-linecap:round;stroke-width:0.8;\"/>\n",
       "     </g>\n",
       "     <g id=\"text_17\">\n",
       "      <!-- 0.9 -->\n",
       "      <g style=\"fill:#262626;\" transform=\"translate(7.2 73.339695)scale(0.1 -0.1)\">\n",
       "       <use xlink:href=\"#ArialMT-48\"/>\n",
       "       <use x=\"55.615234\" xlink:href=\"#ArialMT-46\"/>\n",
       "       <use x=\"83.398438\" xlink:href=\"#ArialMT-57\"/>\n",
       "      </g>\n",
       "     </g>\n",
       "    </g>\n",
       "    <g id=\"ytick_8\">\n",
       "     <g id=\"line2d_17\">\n",
       "      <path clip-path=\"url(#pcb0dcc54bb)\" d=\"M 28.1 32.787178 \n",
       "L 586.1 32.787178 \n",
       "\" style=\"fill:none;stroke:#cccccc;stroke-linecap:round;stroke-width:0.8;\"/>\n",
       "     </g>\n",
       "     <g id=\"text_18\">\n",
       "      <!-- 1.0 -->\n",
       "      <g style=\"fill:#262626;\" transform=\"translate(7.2 36.366084)scale(0.1 -0.1)\">\n",
       "       <use xlink:href=\"#ArialMT-49\"/>\n",
       "       <use x=\"55.615234\" xlink:href=\"#ArialMT-46\"/>\n",
       "       <use x=\"83.398438\" xlink:href=\"#ArialMT-48\"/>\n",
       "      </g>\n",
       "     </g>\n",
       "    </g>\n",
       "   </g>\n",
       "   <g id=\"line2d_18\">\n",
       "    <path clip-path=\"url(#pcb0dcc54bb)\" d=\"M 53.463636 281.38108 \n",
       "L 116.872727 79.535422 \n",
       "L 180.281818 63.871187 \n",
       "L 243.690909 62.10546 \n",
       "L 307.1 56.900403 \n",
       "L 370.509091 40.490014 \n",
       "L 433.918182 38.923877 \n",
       "L 497.327273 34.29017 \n",
       "L 560.736364 34.29017 \n",
       "\" style=\"fill:none;stroke:#1f77b4;stroke-linecap:round;stroke-width:1.5;\"/>\n",
       "   </g>\n",
       "   <g id=\"line2d_19\"/>\n",
       "   <g id=\"patch_3\">\n",
       "    <path d=\"M 28.1 293.735625 \n",
       "L 28.1 21.935625 \n",
       "\" style=\"fill:none;stroke:#cccccc;stroke-linecap:square;stroke-linejoin:miter;stroke-width:0.8;\"/>\n",
       "   </g>\n",
       "   <g id=\"patch_4\">\n",
       "    <path d=\"M 586.1 293.735625 \n",
       "L 586.1 21.935625 \n",
       "\" style=\"fill:none;stroke:#cccccc;stroke-linecap:square;stroke-linejoin:miter;stroke-width:0.8;\"/>\n",
       "   </g>\n",
       "   <g id=\"patch_5\">\n",
       "    <path d=\"M 28.1 293.735625 \n",
       "L 586.1 293.735625 \n",
       "\" style=\"fill:none;stroke:#cccccc;stroke-linecap:square;stroke-linejoin:miter;stroke-width:0.8;\"/>\n",
       "   </g>\n",
       "   <g id=\"patch_6\">\n",
       "    <path d=\"M 28.1 21.935625 \n",
       "L 586.1 21.935625 \n",
       "\" style=\"fill:none;stroke:#cccccc;stroke-linecap:square;stroke-linejoin:miter;stroke-width:0.8;\"/>\n",
       "   </g>\n",
       "   <g id=\"text_19\">\n",
       "    <!-- `opt_func` performance of the top n rules on the training set -->\n",
       "    <defs>\n",
       "     <path d=\"M 22.703125 58.296875 \n",
       "L 15.625 58.296875 \n",
       "L 4.34375 71.96875 \n",
       "L 16.109375 71.96875 \n",
       "z\n",
       "\" id=\"ArialMT-96\"/>\n",
       "     <path d=\"M 25.78125 7.859375 \n",
       "L 27.046875 0.09375 \n",
       "Q 23.34375 -0.6875 20.40625 -0.6875 \n",
       "Q 15.625 -0.6875 12.984375 0.828125 \n",
       "Q 10.359375 2.34375 9.28125 4.8125 \n",
       "Q 8.203125 7.28125 8.203125 15.1875 \n",
       "L 8.203125 45.015625 \n",
       "L 1.765625 45.015625 \n",
       "L 1.765625 51.859375 \n",
       "L 8.203125 51.859375 \n",
       "L 8.203125 64.703125 \n",
       "L 16.9375 69.96875 \n",
       "L 16.9375 51.859375 \n",
       "L 25.78125 51.859375 \n",
       "L 25.78125 45.015625 \n",
       "L 16.9375 45.015625 \n",
       "L 16.9375 14.703125 \n",
       "Q 16.9375 10.9375 17.40625 9.859375 \n",
       "Q 17.875 8.796875 18.921875 8.15625 \n",
       "Q 19.96875 7.515625 21.921875 7.515625 \n",
       "Q 23.390625 7.515625 25.78125 7.859375 \n",
       "z\n",
       "\" id=\"ArialMT-116\"/>\n",
       "     <path d=\"M -1.515625 -19.875 \n",
       "L -1.515625 -13.53125 \n",
       "L 56.734375 -13.53125 \n",
       "L 56.734375 -19.875 \n",
       "z\n",
       "\" id=\"ArialMT-95\"/>\n",
       "     <path d=\"M 8.6875 0 \n",
       "L 8.6875 45.015625 \n",
       "L 0.921875 45.015625 \n",
       "L 0.921875 51.859375 \n",
       "L 8.6875 51.859375 \n",
       "L 8.6875 57.375 \n",
       "Q 8.6875 62.59375 9.625 65.140625 \n",
       "Q 10.890625 68.5625 14.078125 70.671875 \n",
       "Q 17.28125 72.796875 23.046875 72.796875 \n",
       "Q 26.765625 72.796875 31.25 71.921875 \n",
       "L 29.9375 64.265625 \n",
       "Q 27.203125 64.75 24.75 64.75 \n",
       "Q 20.75 64.75 19.09375 63.03125 \n",
       "Q 17.4375 61.328125 17.4375 56.640625 \n",
       "L 17.4375 51.859375 \n",
       "L 27.546875 51.859375 \n",
       "L 27.546875 45.015625 \n",
       "L 17.4375 45.015625 \n",
       "L 17.4375 0 \n",
       "z\n",
       "\" id=\"ArialMT-102\"/>\n",
       "     <path d=\"M 40.4375 19 \n",
       "L 49.078125 17.875 \n",
       "Q 47.65625 8.9375 41.8125 3.875 \n",
       "Q 35.984375 -1.171875 27.484375 -1.171875 \n",
       "Q 16.84375 -1.171875 10.375 5.78125 \n",
       "Q 3.90625 12.75 3.90625 25.734375 \n",
       "Q 3.90625 34.125 6.6875 40.421875 \n",
       "Q 9.46875 46.734375 15.15625 49.875 \n",
       "Q 20.84375 53.03125 27.546875 53.03125 \n",
       "Q 35.984375 53.03125 41.359375 48.75 \n",
       "Q 46.734375 44.484375 48.25 36.625 \n",
       "L 39.703125 35.296875 \n",
       "Q 38.484375 40.53125 35.375 43.15625 \n",
       "Q 32.28125 45.796875 27.875 45.796875 \n",
       "Q 21.234375 45.796875 17.078125 41.03125 \n",
       "Q 12.9375 36.28125 12.9375 25.984375 \n",
       "Q 12.9375 15.53125 16.9375 10.796875 \n",
       "Q 20.953125 6.0625 27.390625 6.0625 \n",
       "Q 32.5625 6.0625 36.03125 9.234375 \n",
       "Q 39.5 12.40625 40.4375 19 \n",
       "z\n",
       "\" id=\"ArialMT-99\"/>\n",
       "     <path d=\"M 6.59375 0 \n",
       "L 6.59375 51.859375 \n",
       "L 14.453125 51.859375 \n",
       "L 14.453125 44.578125 \n",
       "Q 16.890625 48.390625 20.9375 50.703125 \n",
       "Q 25 53.03125 30.171875 53.03125 \n",
       "Q 35.9375 53.03125 39.625 50.640625 \n",
       "Q 43.3125 48.25 44.828125 43.953125 \n",
       "Q 50.984375 53.03125 60.84375 53.03125 \n",
       "Q 68.5625 53.03125 72.703125 48.75 \n",
       "Q 76.859375 44.484375 76.859375 35.59375 \n",
       "L 76.859375 0 \n",
       "L 68.109375 0 \n",
       "L 68.109375 32.671875 \n",
       "Q 68.109375 37.9375 67.25 40.25 \n",
       "Q 66.40625 42.578125 64.15625 43.984375 \n",
       "Q 61.921875 45.40625 58.890625 45.40625 \n",
       "Q 53.421875 45.40625 49.796875 41.765625 \n",
       "Q 46.1875 38.140625 46.1875 30.125 \n",
       "L 46.1875 0 \n",
       "L 37.40625 0 \n",
       "L 37.40625 33.6875 \n",
       "Q 37.40625 39.546875 35.25 42.46875 \n",
       "Q 33.109375 45.40625 28.21875 45.40625 \n",
       "Q 24.515625 45.40625 21.359375 43.453125 \n",
       "Q 18.21875 41.5 16.796875 37.734375 \n",
       "Q 15.375 33.984375 15.375 26.90625 \n",
       "L 15.375 0 \n",
       "z\n",
       "\" id=\"ArialMT-109\"/>\n",
       "     <path d=\"M 40.4375 6.390625 \n",
       "Q 35.546875 2.25 31.03125 0.53125 \n",
       "Q 26.515625 -1.171875 21.34375 -1.171875 \n",
       "Q 12.796875 -1.171875 8.203125 3 \n",
       "Q 3.609375 7.171875 3.609375 13.671875 \n",
       "Q 3.609375 17.484375 5.34375 20.625 \n",
       "Q 7.078125 23.78125 9.890625 25.6875 \n",
       "Q 12.703125 27.59375 16.21875 28.5625 \n",
       "Q 18.796875 29.25 24.03125 29.890625 \n",
       "Q 34.671875 31.15625 39.703125 32.90625 \n",
       "Q 39.75 34.71875 39.75 35.203125 \n",
       "Q 39.75 40.578125 37.25 42.78125 \n",
       "Q 33.890625 45.75 27.25 45.75 \n",
       "Q 21.046875 45.75 18.09375 43.578125 \n",
       "Q 15.140625 41.40625 13.71875 35.890625 \n",
       "L 5.125 37.0625 \n",
       "Q 6.296875 42.578125 8.984375 45.96875 \n",
       "Q 11.671875 49.359375 16.75 51.1875 \n",
       "Q 21.828125 53.03125 28.515625 53.03125 \n",
       "Q 35.15625 53.03125 39.296875 51.46875 \n",
       "Q 43.453125 49.90625 45.40625 47.53125 \n",
       "Q 47.359375 45.171875 48.140625 41.546875 \n",
       "Q 48.578125 39.3125 48.578125 33.453125 \n",
       "L 48.578125 21.734375 \n",
       "Q 48.578125 9.46875 49.140625 6.21875 \n",
       "Q 49.703125 2.984375 51.375 0 \n",
       "L 42.1875 0 \n",
       "Q 40.828125 2.734375 40.4375 6.390625 \n",
       "z\n",
       "M 39.703125 26.03125 \n",
       "Q 34.90625 24.078125 25.34375 22.703125 \n",
       "Q 19.921875 21.921875 17.671875 20.9375 \n",
       "Q 15.4375 19.96875 14.203125 18.09375 \n",
       "Q 12.984375 16.21875 12.984375 13.921875 \n",
       "Q 12.984375 10.40625 15.640625 8.0625 \n",
       "Q 18.3125 5.71875 23.4375 5.71875 \n",
       "Q 28.515625 5.71875 32.46875 7.9375 \n",
       "Q 36.421875 10.15625 38.28125 14.015625 \n",
       "Q 39.703125 17 39.703125 22.796875 \n",
       "z\n",
       "\" id=\"ArialMT-97\"/>\n",
       "     <path d=\"M 6.59375 0 \n",
       "L 6.59375 71.578125 \n",
       "L 15.375 71.578125 \n",
       "L 15.375 45.90625 \n",
       "Q 21.53125 53.03125 30.90625 53.03125 \n",
       "Q 36.671875 53.03125 40.921875 50.75 \n",
       "Q 45.171875 48.484375 47 44.484375 \n",
       "Q 48.828125 40.484375 48.828125 32.859375 \n",
       "L 48.828125 0 \n",
       "L 40.046875 0 \n",
       "L 40.046875 32.859375 \n",
       "Q 40.046875 39.453125 37.1875 42.453125 \n",
       "Q 34.328125 45.453125 29.109375 45.453125 \n",
       "Q 25.203125 45.453125 21.75 43.421875 \n",
       "Q 18.3125 41.40625 16.84375 37.9375 \n",
       "Q 15.375 34.46875 15.375 28.375 \n",
       "L 15.375 0 \n",
       "z\n",
       "\" id=\"ArialMT-104\"/>\n",
       "     <path d=\"M 6.640625 61.46875 \n",
       "L 6.640625 71.578125 \n",
       "L 15.4375 71.578125 \n",
       "L 15.4375 61.46875 \n",
       "z\n",
       "M 6.640625 0 \n",
       "L 6.640625 51.859375 \n",
       "L 15.4375 51.859375 \n",
       "L 15.4375 0 \n",
       "z\n",
       "\" id=\"ArialMT-105\"/>\n",
       "     <path d=\"M 4.984375 -4.296875 \n",
       "L 13.53125 -5.5625 \n",
       "Q 14.0625 -9.515625 16.5 -11.328125 \n",
       "Q 19.78125 -13.765625 25.4375 -13.765625 \n",
       "Q 31.546875 -13.765625 34.859375 -11.328125 \n",
       "Q 38.1875 -8.890625 39.359375 -4.5 \n",
       "Q 40.046875 -1.8125 39.984375 6.78125 \n",
       "Q 34.234375 0 25.640625 0 \n",
       "Q 14.9375 0 9.078125 7.71875 \n",
       "Q 3.21875 15.4375 3.21875 26.21875 \n",
       "Q 3.21875 33.640625 5.90625 39.90625 \n",
       "Q 8.59375 46.1875 13.6875 49.609375 \n",
       "Q 18.796875 53.03125 25.6875 53.03125 \n",
       "Q 34.859375 53.03125 40.828125 45.609375 \n",
       "L 40.828125 51.859375 \n",
       "L 48.921875 51.859375 \n",
       "L 48.921875 7.03125 \n",
       "Q 48.921875 -5.078125 46.453125 -10.125 \n",
       "Q 44 -15.1875 38.640625 -18.109375 \n",
       "Q 33.296875 -21.046875 25.484375 -21.046875 \n",
       "Q 16.21875 -21.046875 10.5 -16.875 \n",
       "Q 4.78125 -12.703125 4.984375 -4.296875 \n",
       "z\n",
       "M 12.25 26.859375 \n",
       "Q 12.25 16.65625 16.296875 11.96875 \n",
       "Q 20.359375 7.28125 26.46875 7.28125 \n",
       "Q 32.515625 7.28125 36.609375 11.9375 \n",
       "Q 40.71875 16.609375 40.71875 26.5625 \n",
       "Q 40.71875 36.078125 36.5 40.90625 \n",
       "Q 32.28125 45.75 26.3125 45.75 \n",
       "Q 20.453125 45.75 16.34375 40.984375 \n",
       "Q 12.25 36.234375 12.25 26.859375 \n",
       "z\n",
       "\" id=\"ArialMT-103\"/>\n",
       "    </defs>\n",
       "    <g style=\"fill:#262626;\" transform=\"translate(149.021563 15.935625)scale(0.12 -0.12)\">\n",
       "     <use xlink:href=\"#ArialMT-96\"/>\n",
       "     <use x=\"33.300781\" xlink:href=\"#ArialMT-111\"/>\n",
       "     <use x=\"88.916016\" xlink:href=\"#ArialMT-112\"/>\n",
       "     <use x=\"144.53125\" xlink:href=\"#ArialMT-116\"/>\n",
       "     <use x=\"172.314453\" xlink:href=\"#ArialMT-95\"/>\n",
       "     <use x=\"227.929688\" xlink:href=\"#ArialMT-102\"/>\n",
       "     <use x=\"255.712891\" xlink:href=\"#ArialMT-117\"/>\n",
       "     <use x=\"311.328125\" xlink:href=\"#ArialMT-110\"/>\n",
       "     <use x=\"366.943359\" xlink:href=\"#ArialMT-99\"/>\n",
       "     <use x=\"416.943359\" xlink:href=\"#ArialMT-96\"/>\n",
       "     <use x=\"450.244141\" xlink:href=\"#ArialMT-32\"/>\n",
       "     <use x=\"478.027344\" xlink:href=\"#ArialMT-112\"/>\n",
       "     <use x=\"533.642578\" xlink:href=\"#ArialMT-101\"/>\n",
       "     <use x=\"589.257812\" xlink:href=\"#ArialMT-114\"/>\n",
       "     <use x=\"622.558594\" xlink:href=\"#ArialMT-102\"/>\n",
       "     <use x=\"650.341797\" xlink:href=\"#ArialMT-111\"/>\n",
       "     <use x=\"705.957031\" xlink:href=\"#ArialMT-114\"/>\n",
       "     <use x=\"739.257812\" xlink:href=\"#ArialMT-109\"/>\n",
       "     <use x=\"822.558594\" xlink:href=\"#ArialMT-97\"/>\n",
       "     <use x=\"878.173828\" xlink:href=\"#ArialMT-110\"/>\n",
       "     <use x=\"933.789062\" xlink:href=\"#ArialMT-99\"/>\n",
       "     <use x=\"983.789062\" xlink:href=\"#ArialMT-101\"/>\n",
       "     <use x=\"1039.404297\" xlink:href=\"#ArialMT-32\"/>\n",
       "     <use x=\"1067.1875\" xlink:href=\"#ArialMT-111\"/>\n",
       "     <use x=\"1122.802734\" xlink:href=\"#ArialMT-102\"/>\n",
       "     <use x=\"1150.585938\" xlink:href=\"#ArialMT-32\"/>\n",
       "     <use x=\"1178.369141\" xlink:href=\"#ArialMT-116\"/>\n",
       "     <use x=\"1206.152344\" xlink:href=\"#ArialMT-104\"/>\n",
       "     <use x=\"1261.767578\" xlink:href=\"#ArialMT-101\"/>\n",
       "     <use x=\"1317.382812\" xlink:href=\"#ArialMT-32\"/>\n",
       "     <use x=\"1345.166016\" xlink:href=\"#ArialMT-116\"/>\n",
       "     <use x=\"1372.949219\" xlink:href=\"#ArialMT-111\"/>\n",
       "     <use x=\"1428.564453\" xlink:href=\"#ArialMT-112\"/>\n",
       "     <use x=\"1484.179688\" xlink:href=\"#ArialMT-32\"/>\n",
       "     <use x=\"1511.962891\" xlink:href=\"#ArialMT-110\"/>\n",
       "     <use x=\"1567.578125\" xlink:href=\"#ArialMT-32\"/>\n",
       "     <use x=\"1595.361328\" xlink:href=\"#ArialMT-114\"/>\n",
       "     <use x=\"1628.662109\" xlink:href=\"#ArialMT-117\"/>\n",
       "     <use x=\"1684.277344\" xlink:href=\"#ArialMT-108\"/>\n",
       "     <use x=\"1706.494141\" xlink:href=\"#ArialMT-101\"/>\n",
       "     <use x=\"1762.109375\" xlink:href=\"#ArialMT-115\"/>\n",
       "     <use x=\"1812.109375\" xlink:href=\"#ArialMT-32\"/>\n",
       "     <use x=\"1839.892578\" xlink:href=\"#ArialMT-111\"/>\n",
       "     <use x=\"1895.507812\" xlink:href=\"#ArialMT-110\"/>\n",
       "     <use x=\"1951.123047\" xlink:href=\"#ArialMT-32\"/>\n",
       "     <use x=\"1978.90625\" xlink:href=\"#ArialMT-116\"/>\n",
       "     <use x=\"2006.689453\" xlink:href=\"#ArialMT-104\"/>\n",
       "     <use x=\"2062.304688\" xlink:href=\"#ArialMT-101\"/>\n",
       "     <use x=\"2117.919922\" xlink:href=\"#ArialMT-32\"/>\n",
       "     <use x=\"2145.703125\" xlink:href=\"#ArialMT-116\"/>\n",
       "     <use x=\"2173.486328\" xlink:href=\"#ArialMT-114\"/>\n",
       "     <use x=\"2206.787109\" xlink:href=\"#ArialMT-97\"/>\n",
       "     <use x=\"2262.402344\" xlink:href=\"#ArialMT-105\"/>\n",
       "     <use x=\"2284.619141\" xlink:href=\"#ArialMT-110\"/>\n",
       "     <use x=\"2340.234375\" xlink:href=\"#ArialMT-105\"/>\n",
       "     <use x=\"2362.451172\" xlink:href=\"#ArialMT-110\"/>\n",
       "     <use x=\"2418.066406\" xlink:href=\"#ArialMT-103\"/>\n",
       "     <use x=\"2473.681641\" xlink:href=\"#ArialMT-32\"/>\n",
       "     <use x=\"2501.464844\" xlink:href=\"#ArialMT-115\"/>\n",
       "     <use x=\"2551.464844\" xlink:href=\"#ArialMT-101\"/>\n",
       "     <use x=\"2607.080078\" xlink:href=\"#ArialMT-116\"/>\n",
       "    </g>\n",
       "   </g>\n",
       "   <g id=\"legend_1\">\n",
       "    <g id=\"patch_7\">\n",
       "     <path d=\"M 35.1 44.209062 \n",
       "L 110.4375 44.209062 \n",
       "Q 112.4375 44.209062 112.4375 42.209062 \n",
       "L 112.4375 28.935625 \n",
       "Q 112.4375 26.935625 110.4375 26.935625 \n",
       "L 35.1 26.935625 \n",
       "Q 33.1 26.935625 33.1 28.935625 \n",
       "L 33.1 42.209062 \n",
       "Q 33.1 44.209062 35.1 44.209062 \n",
       "z\n",
       "\" style=\"fill:#ffffff;opacity:0.8;stroke:#cccccc;stroke-linejoin:miter;\"/>\n",
       "    </g>\n",
       "    <g id=\"line2d_20\">\n",
       "     <path d=\"M 37.1 34.721562 \n",
       "L 57.1 34.721562 \n",
       "\" style=\"fill:none;stroke:#1f77b4;stroke-linecap:round;stroke-width:1.5;\"/>\n",
       "    </g>\n",
       "    <g id=\"line2d_21\"/>\n",
       "    <g id=\"text_20\">\n",
       "     <!-- OptMetric -->\n",
       "     <defs>\n",
       "      <path d=\"M 4.828125 34.859375 \n",
       "Q 4.828125 52.6875 14.390625 62.765625 \n",
       "Q 23.96875 72.859375 39.109375 72.859375 \n",
       "Q 49.03125 72.859375 56.984375 68.109375 \n",
       "Q 64.9375 63.375 69.109375 54.90625 \n",
       "Q 73.296875 46.4375 73.296875 35.6875 \n",
       "Q 73.296875 24.8125 68.890625 16.21875 \n",
       "Q 64.5 7.625 56.4375 3.203125 \n",
       "Q 48.390625 -1.21875 39.0625 -1.21875 \n",
       "Q 28.953125 -1.21875 20.984375 3.65625 \n",
       "Q 13.03125 8.546875 8.921875 16.984375 \n",
       "Q 4.828125 25.4375 4.828125 34.859375 \n",
       "z\n",
       "M 14.59375 34.71875 \n",
       "Q 14.59375 21.78125 21.546875 14.328125 \n",
       "Q 28.515625 6.890625 39.015625 6.890625 \n",
       "Q 49.703125 6.890625 56.609375 14.40625 \n",
       "Q 63.53125 21.921875 63.53125 35.75 \n",
       "Q 63.53125 44.484375 60.578125 51 \n",
       "Q 57.625 57.515625 51.921875 61.109375 \n",
       "Q 46.234375 64.703125 39.15625 64.703125 \n",
       "Q 29.109375 64.703125 21.84375 57.78125 \n",
       "Q 14.59375 50.875 14.59375 34.71875 \n",
       "z\n",
       "\" id=\"ArialMT-79\"/>\n",
       "      <path d=\"M 7.421875 0 \n",
       "L 7.421875 71.578125 \n",
       "L 21.6875 71.578125 \n",
       "L 38.625 20.90625 \n",
       "Q 40.96875 13.8125 42.046875 10.296875 \n",
       "Q 43.265625 14.203125 45.84375 21.78125 \n",
       "L 62.984375 71.578125 \n",
       "L 75.734375 71.578125 \n",
       "L 75.734375 0 \n",
       "L 66.609375 0 \n",
       "L 66.609375 59.90625 \n",
       "L 45.796875 0 \n",
       "L 37.25 0 \n",
       "L 16.546875 60.9375 \n",
       "L 16.546875 0 \n",
       "z\n",
       "\" id=\"ArialMT-77\"/>\n",
       "     </defs>\n",
       "     <g style=\"fill:#262626;\" transform=\"translate(65.1 38.221562)scale(0.1 -0.1)\">\n",
       "      <use xlink:href=\"#ArialMT-79\"/>\n",
       "      <use x=\"77.783203\" xlink:href=\"#ArialMT-112\"/>\n",
       "      <use x=\"133.398438\" xlink:href=\"#ArialMT-116\"/>\n",
       "      <use x=\"161.181641\" xlink:href=\"#ArialMT-77\"/>\n",
       "      <use x=\"244.482422\" xlink:href=\"#ArialMT-101\"/>\n",
       "      <use x=\"300.097656\" xlink:href=\"#ArialMT-116\"/>\n",
       "      <use x=\"327.880859\" xlink:href=\"#ArialMT-114\"/>\n",
       "      <use x=\"361.181641\" xlink:href=\"#ArialMT-105\"/>\n",
       "      <use x=\"383.398438\" xlink:href=\"#ArialMT-99\"/>\n",
       "     </g>\n",
       "    </g>\n",
       "   </g>\n",
       "  </g>\n",
       " </g>\n",
       " <defs>\n",
       "  <clipPath id=\"pcb0dcc54bb\">\n",
       "   <rect height=\"271.8\" width=\"558\" x=\"28.1\" y=\"21.935625\"/>\n",
       "  </clipPath>\n",
       " </defs>\n",
       "</svg>\n"
      ],
      "text/plain": [
       "<Figure size 720x360 with 1 Axes>"
      ]
     },
     "metadata": {},
     "output_type": "display_data"
    }
   ],
   "source": [
    "gf.plot_top_n_performance_on_train()"
   ]
  },
  {
   "cell_type": "markdown",
   "metadata": {},
   "source": [
    "The graph shows that when the rules are sorted by precision, then the F1 score is calculated for the top n combined rules, the combined performance begins to plateau/drop. So the algorithm will only keep those rules that deliver the maximum combined performance (and drop the rest)."
   ]
  },
  {
   "cell_type": "markdown",
   "metadata": {},
   "source": [
    "#### Outputs"
   ]
  },
  {
   "cell_type": "markdown",
   "metadata": {},
   "source": [
    "The *.fit_transform()* method returns a dataframe containing the filtered rule binary columns. It also creates the following useful attributes:\n",
    "\n",
    "- rules_to_keep (list): List of rules which remain after the filters have been applied.\n",
    "- rule_descriptions (pd.DataFrame): The standard performance metrics dataframe associated with the filtered rules.\n",
    "\n",
    "We can assign the *rule_descriptions* dataframe from the class to our variable, ensuring that the filtered rules are removed from the dataframe:"
   ]
  },
  {
   "cell_type": "code",
   "execution_count": 159,
   "metadata": {},
   "outputs": [],
   "source": [
    "rule_descriptions_train = gf.rule_descriptions"
   ]
  },
  {
   "cell_type": "code",
   "execution_count": 160,
   "metadata": {},
   "outputs": [
    {
     "data": {
      "text/plain": [
       "((8894, 8), (8, 6))"
      ]
     },
     "execution_count": 160,
     "metadata": {},
     "output_type": "execute_result"
    }
   ],
   "source": [
    "X_rules_train.shape, rule_descriptions_train.shape"
   ]
  },
  {
   "cell_type": "markdown",
   "metadata": {},
   "source": [
    "----"
   ]
  },
  {
   "cell_type": "markdown",
   "metadata": {},
   "source": [
    "## Set up the RBS Pipeline <a name=\"SetUpPipeline\"></a>"
   ]
  },
  {
   "cell_type": "markdown",
   "metadata": {},
   "source": [
    "Now, let's set up our RBS Pipeline using our combined, filtered rule set. In this case, we'll go for a simple approach:\n",
    "\n",
    "1. If any rules trigger, reject the transaction.\n",
    "2. If no rules trigger, approve any remaining transactions.\n",
    "\n",
    "To set up the pipeline using the logic above, we first need to create the *config* - this is just a list which outlines the stages of the pipeline. Each stage should be defined using a single-element dictionary, where the key corresponds to the decision at that stage (either *0* or *1*), and the value is a list that dictates which rules should trigger for that decision to be made.\n",
    "\n",
    "In our example, the config will be:"
   ]
  },
  {
   "cell_type": "code",
   "execution_count": 161,
   "metadata": {},
   "outputs": [],
   "source": [
    "config = [\n",
    "    {1: X_rules_train.columns.tolist()}\n",
    "]"
   ]
  },
  {
   "cell_type": "markdown",
   "metadata": {},
   "source": [
    "Here, the first stage is configured via the dictionary in the first element of the list. This says to apply a decision of *1* (i.e. reject) to transactions where the any of the rules have triggered.\n",
    "\n",
    "We also need to specify the final decision to be made if no rules are triggered - this is set via the *final_decision* parameter. In our case this should be *0*, as we want to approve any remaining transactions:"
   ]
  },
  {
   "cell_type": "code",
   "execution_count": 162,
   "metadata": {},
   "outputs": [],
   "source": [
    "final_decision = 0"
   ]
  },
  {
   "cell_type": "markdown",
   "metadata": {},
   "source": [
    "With these parameters configured, we can now instantiate our *RBSPipeline* class:"
   ]
  },
  {
   "cell_type": "code",
   "execution_count": 163,
   "metadata": {},
   "outputs": [],
   "source": [
    "rbsp = RBSPipeline(\n",
    "    config=config,\n",
    "    final_decision=final_decision,\n",
    "    opt_func=f1.fit\n",
    ")"
   ]
  },
  {
   "cell_type": "markdown",
   "metadata": {},
   "source": [
    "---"
   ]
  },
  {
   "cell_type": "markdown",
   "metadata": {},
   "source": [
    "## Optimise the RBS Pipeline <a name=\"OptimiseThePipeline\"></a>"
   ]
  },
  {
   "cell_type": "markdown",
   "metadata": {},
   "source": [
    "Now that we have our RBS Pipeline set up, we can optimise it using the RBS Optimiser. Here, we just pass the instatiated pipeline class to the *pipeline* parameter:"
   ]
  },
  {
   "cell_type": "code",
   "execution_count": 164,
   "metadata": {},
   "outputs": [],
   "source": [
    "rbso = RBSOptimiser(\n",
    "    pipeline=rbsp, \n",
    "    n_iter=60, \n",
    "    verbose=1\n",
    ")"
   ]
  },
  {
   "cell_type": "markdown",
   "metadata": {},
   "source": [
    "Then we run the *.fit_transform()* method to optimise the pipeline using the given dataset, then apply it to the dataset:"
   ]
  },
  {
   "cell_type": "code",
   "execution_count": 165,
   "metadata": {},
   "outputs": [
    {
     "name": "stdout",
     "output_type": "stream",
     "text": [
      "100%|██████████| 60/60 [00:00<00:00, 83.16trial/s, best loss: -0.9959349593495934]\n"
     ]
    }
   ],
   "source": [
    "pipe_pred_train = rbso.fit_predict(\n",
    "    X_rules=X_rules_train, \n",
    "    y=y_train\n",
    ")"
   ]
  },
  {
   "cell_type": "markdown",
   "metadata": {},
   "source": [
    "### Outputs"
   ]
  },
  {
   "cell_type": "markdown",
   "metadata": {},
   "source": [
    "The *.fit_transform()* method optimises the pipeline and returns the prediction of the optimised pipeline by applying it to the given dataset.\n",
    "\n",
    "Useful attributes created by running the *.fit_transform()* method are:\n",
    "\n",
    "* config (List[str]): The optimised pipeline configuration, where each element aligns to a stage in the pipeline. Each element is a dictionary, where the key is the decision made at that stage (either 0 or 1) and the value is a list of the rules that must trigger to give that decision.\n",
    "* pipeline_opt_metric (float): The result of the `opt_func` function when the pipeline is applied."
   ]
  },
  {
   "cell_type": "code",
   "execution_count": 166,
   "metadata": {},
   "outputs": [
    {
     "data": {
      "text/plain": [
       "[{1: ['RGDT_Rule_20211202_25',\n",
       "   'RGDT_Rule_20211202_24',\n",
       "   'RGDT_Rule193',\n",
       "   'RGDT_Rule241',\n",
       "   'RGDT_Rule_20211202_27']}]"
      ]
     },
     "execution_count": 166,
     "metadata": {},
     "output_type": "execute_result"
    }
   ],
   "source": [
    "rbso.config"
   ]
  },
  {
   "cell_type": "code",
   "execution_count": 167,
   "metadata": {},
   "outputs": [
    {
     "data": {
      "text/plain": [
       "0.9959349593495934"
      ]
     },
     "execution_count": 167,
     "metadata": {},
     "output_type": "execute_result"
    }
   ],
   "source": [
    "rbso.pipeline_opt_metric"
   ]
  },
  {
   "cell_type": "markdown",
   "metadata": {},
   "source": [
    "We can also use the *.calc_performance()* method to generate some performance metrics for the pipeline:"
   ]
  },
  {
   "cell_type": "code",
   "execution_count": 168,
   "metadata": {},
   "outputs": [],
   "source": [
    "rbso.calc_performance(\n",
    "    y_true=y_train, \n",
    "    y_pred=pipe_pred_train\n",
    ")"
   ]
  },
  {
   "cell_type": "code",
   "execution_count": 169,
   "metadata": {},
   "outputs": [
    {
     "data": {
      "text/html": [
       "<div>\n",
       "<style scoped>\n",
       "    .dataframe tbody tr th:only-of-type {\n",
       "        vertical-align: middle;\n",
       "    }\n",
       "\n",
       "    .dataframe tbody tr th {\n",
       "        vertical-align: top;\n",
       "    }\n",
       "\n",
       "    .dataframe thead th {\n",
       "        text-align: right;\n",
       "    }\n",
       "</style>\n",
       "<table border=\"1\" class=\"dataframe\">\n",
       "  <thead>\n",
       "    <tr style=\"text-align: right;\">\n",
       "      <th></th>\n",
       "      <th>Precision</th>\n",
       "      <th>Recall</th>\n",
       "      <th>PercDataFlagged</th>\n",
       "    </tr>\n",
       "  </thead>\n",
       "  <tbody>\n",
       "    <tr>\n",
       "      <th>1</th>\n",
       "      <td>0.991903</td>\n",
       "      <td>1.000000</td>\n",
       "      <td>0.027772</td>\n",
       "    </tr>\n",
       "    <tr>\n",
       "      <th>0</th>\n",
       "      <td>1.000000</td>\n",
       "      <td>0.999769</td>\n",
       "      <td>0.972228</td>\n",
       "    </tr>\n",
       "  </tbody>\n",
       "</table>\n",
       "</div>"
      ],
      "text/plain": [
       "   Precision    Recall  PercDataFlagged\n",
       "1   0.991903  1.000000         0.027772\n",
       "0   1.000000  0.999769         0.972228"
      ]
     },
     "execution_count": 169,
     "metadata": {},
     "output_type": "execute_result"
    }
   ],
   "source": [
    "rbso.pipeline_perf"
   ]
  },
  {
   "cell_type": "code",
   "execution_count": 170,
   "metadata": {},
   "outputs": [
    {
     "data": {
      "text/html": [
       "<div>\n",
       "<style scoped>\n",
       "    .dataframe tbody tr th:only-of-type {\n",
       "        vertical-align: middle;\n",
       "    }\n",
       "\n",
       "    .dataframe tbody tr th {\n",
       "        vertical-align: top;\n",
       "    }\n",
       "\n",
       "    .dataframe thead th {\n",
       "        text-align: right;\n",
       "    }\n",
       "</style>\n",
       "<table border=\"1\" class=\"dataframe\">\n",
       "  <thead>\n",
       "    <tr style=\"text-align: right;\">\n",
       "      <th></th>\n",
       "      <th>1</th>\n",
       "      <th>0</th>\n",
       "    </tr>\n",
       "  </thead>\n",
       "  <tbody>\n",
       "    <tr>\n",
       "      <th>1</th>\n",
       "      <td>245.0</td>\n",
       "      <td>2.0</td>\n",
       "    </tr>\n",
       "    <tr>\n",
       "      <th>0</th>\n",
       "      <td>0.0</td>\n",
       "      <td>8647.0</td>\n",
       "    </tr>\n",
       "  </tbody>\n",
       "</table>\n",
       "</div>"
      ],
      "text/plain": [
       "       1       0\n",
       "1  245.0     2.0\n",
       "0    0.0  8647.0"
      ]
     },
     "execution_count": 170,
     "metadata": {},
     "output_type": "execute_result"
    }
   ],
   "source": [
    "rbso.conf_matrix"
   ]
  },
  {
   "cell_type": "markdown",
   "metadata": {},
   "source": [
    "----"
   ]
  },
  {
   "cell_type": "markdown",
   "metadata": {},
   "source": [
    "## Filter rules for the optimised RBS Pipeline <a name=\"FilterRulesForPipeline\"></a>"
   ]
  },
  {
   "cell_type": "markdown",
   "metadata": {},
   "source": [
    "Now that we know which rules we need for our final, optimised RBS Pipeline, we can filter our original generated and optimised rule sets to include only those rules which are required.\n",
    "\n",
    "First, we get the rule names from the optimised RBS Pipeline config:"
   ]
  },
  {
   "cell_type": "code",
   "execution_count": 171,
   "metadata": {},
   "outputs": [],
   "source": [
    "rbs_rule_names = [rule for stage_dict in rbso.config for rule in list(stage_dict.values())[0]]"
   ]
  },
  {
   "cell_type": "markdown",
   "metadata": {},
   "source": [
    "Then we split them into rules that were generated and rules that were optimised:"
   ]
  },
  {
   "cell_type": "code",
   "execution_count": 172,
   "metadata": {},
   "outputs": [],
   "source": [
    "rbs_rule_names_gen = [rule for rule in rbs_rule_names if rule in gs_gen.rule_strings.keys()]\n",
    "rbs_rule_names_opt = [rule for rule in rbs_rule_names if rule in gs_opt.rule_strings.keys()]"
   ]
  },
  {
   "cell_type": "markdown",
   "metadata": {},
   "source": [
    "Finally, we filter the original generated and optimised rule sets:"
   ]
  },
  {
   "cell_type": "code",
   "execution_count": 173,
   "metadata": {},
   "outputs": [],
   "source": [
    "gs_gen.filter_rules(include=rbs_rule_names_gen)\n",
    "gs_opt.filter_rules(include=rbs_rule_names_opt)"
   ]
  },
  {
   "cell_type": "markdown",
   "metadata": {},
   "source": [
    "----"
   ]
  },
  {
   "cell_type": "markdown",
   "metadata": {
    "tags": []
   },
   "source": [
    "## Apply the optimised RBS Pipeline to the test set <a name=\"ApplyPipeline\"></a>"
   ]
  },
  {
   "cell_type": "markdown",
   "metadata": {},
   "source": [
    "To apply our optimised RBS Pipeline to the test set, we first need to apply our filtered generated and optimised rules to the test set:"
   ]
  },
  {
   "cell_type": "code",
   "execution_count": 174,
   "metadata": {},
   "outputs": [],
   "source": [
    "# Generated rules\n",
    "X_rules_gen_test = gs_gen.transform(\n",
    "    X=X_test, \n",
    "    y=y_test\n",
    ")\n",
    "# Optimised rules (note we using the raw, unprocessed data here)\n",
    "X_rules_opt_test = gs_opt.transform(\n",
    "    X=X.loc[X_test.index], \n",
    "    y=y.loc[X_test.index]\n",
    ")"
   ]
  },
  {
   "cell_type": "markdown",
   "metadata": {},
   "source": [
    "Now we can combine these binary columns into one set:"
   ]
  },
  {
   "cell_type": "code",
   "execution_count": 175,
   "metadata": {},
   "outputs": [],
   "source": [
    "X_rules_test = pd.concat([\n",
    "    X_rules_gen_test, \n",
    "    X_rules_opt_test\n",
    "], axis=1)"
   ]
  },
  {
   "cell_type": "markdown",
   "metadata": {},
   "source": [
    "Then, using these binary columns, apply our optimised RBS Pipeline to the test set, using the *transform* method:"
   ]
  },
  {
   "cell_type": "code",
   "execution_count": 176,
   "metadata": {},
   "outputs": [],
   "source": [
    "pipe_pred_test = rbso.predict(\n",
    "    X_rules=X_rules_test, \n",
    "    y=y_test\n",
    ")"
   ]
  },
  {
   "cell_type": "markdown",
   "metadata": {},
   "source": [
    "### Outputs"
   ]
  },
  {
   "cell_type": "markdown",
   "metadata": {},
   "source": [
    "The *.predict()* method returns the prediction of the optimised pipeline by applying it to the given dataset.\n",
    "\n",
    "A useful attribute created by running the *.predict()* method is:\n",
    "\n",
    "* pipeline_opt_metric (float): The result of the `opt_func` function when the pipeline is applied."
   ]
  },
  {
   "cell_type": "code",
   "execution_count": 177,
   "metadata": {},
   "outputs": [
    {
     "data": {
      "text/plain": [
       "0.9868995633187774"
      ]
     },
     "execution_count": 177,
     "metadata": {},
     "output_type": "execute_result"
    }
   ],
   "source": [
    "rbso.pipeline_opt_metric"
   ]
  },
  {
   "cell_type": "markdown",
   "metadata": {},
   "source": [
    "We can also use the *.calc_performance()* method to generate some performance metrics for the pipeline:"
   ]
  },
  {
   "cell_type": "code",
   "execution_count": 178,
   "metadata": {},
   "outputs": [],
   "source": [
    "rbso.calc_performance(\n",
    "    y_true=y_test, \n",
    "    y_pred=pipe_pred_test\n",
    ")"
   ]
  },
  {
   "cell_type": "code",
   "execution_count": 179,
   "metadata": {},
   "outputs": [
    {
     "data": {
      "text/html": [
       "<div>\n",
       "<style scoped>\n",
       "    .dataframe tbody tr th:only-of-type {\n",
       "        vertical-align: middle;\n",
       "    }\n",
       "\n",
       "    .dataframe tbody tr th {\n",
       "        vertical-align: top;\n",
       "    }\n",
       "\n",
       "    .dataframe thead th {\n",
       "        text-align: right;\n",
       "    }\n",
       "</style>\n",
       "<table border=\"1\" class=\"dataframe\">\n",
       "  <thead>\n",
       "    <tr style=\"text-align: right;\">\n",
       "      <th></th>\n",
       "      <th>Precision</th>\n",
       "      <th>Recall</th>\n",
       "      <th>PercDataFlagged</th>\n",
       "    </tr>\n",
       "  </thead>\n",
       "  <tbody>\n",
       "    <tr>\n",
       "      <th>1</th>\n",
       "      <td>0.982609</td>\n",
       "      <td>0.991228</td>\n",
       "      <td>0.026244</td>\n",
       "    </tr>\n",
       "    <tr>\n",
       "      <th>0</th>\n",
       "      <td>0.999766</td>\n",
       "      <td>0.999531</td>\n",
       "      <td>0.973756</td>\n",
       "    </tr>\n",
       "  </tbody>\n",
       "</table>\n",
       "</div>"
      ],
      "text/plain": [
       "   Precision    Recall  PercDataFlagged\n",
       "1   0.982609  0.991228         0.026244\n",
       "0   0.999766  0.999531         0.973756"
      ]
     },
     "execution_count": 179,
     "metadata": {},
     "output_type": "execute_result"
    }
   ],
   "source": [
    "rbso.pipeline_perf"
   ]
  },
  {
   "cell_type": "code",
   "execution_count": 180,
   "metadata": {},
   "outputs": [
    {
     "data": {
      "text/html": [
       "<div>\n",
       "<style scoped>\n",
       "    .dataframe tbody tr th:only-of-type {\n",
       "        vertical-align: middle;\n",
       "    }\n",
       "\n",
       "    .dataframe tbody tr th {\n",
       "        vertical-align: top;\n",
       "    }\n",
       "\n",
       "    .dataframe thead th {\n",
       "        text-align: right;\n",
       "    }\n",
       "</style>\n",
       "<table border=\"1\" class=\"dataframe\">\n",
       "  <thead>\n",
       "    <tr style=\"text-align: right;\">\n",
       "      <th></th>\n",
       "      <th>1</th>\n",
       "      <th>0</th>\n",
       "    </tr>\n",
       "  </thead>\n",
       "  <tbody>\n",
       "    <tr>\n",
       "      <th>1</th>\n",
       "      <td>113.0</td>\n",
       "      <td>2.0</td>\n",
       "    </tr>\n",
       "    <tr>\n",
       "      <th>0</th>\n",
       "      <td>1.0</td>\n",
       "      <td>4266.0</td>\n",
       "    </tr>\n",
       "  </tbody>\n",
       "</table>\n",
       "</div>"
      ],
      "text/plain": [
       "       1       0\n",
       "1  113.0     2.0\n",
       "0    1.0  4266.0"
      ]
     },
     "execution_count": 180,
     "metadata": {},
     "output_type": "execute_result"
    }
   ],
   "source": [
    "rbso.conf_matrix"
   ]
  },
  {
   "cell_type": "code",
   "execution_count": 181,
   "metadata": {},
   "outputs": [
    {
     "data": {
      "text/plain": [
       "[{1: ['RGDT_Rule_20211202_25',\n",
       "   'RGDT_Rule_20211202_24',\n",
       "   'RGDT_Rule193',\n",
       "   'RGDT_Rule241',\n",
       "   'RGDT_Rule_20211202_27']}]"
      ]
     },
     "execution_count": 181,
     "metadata": {},
     "output_type": "execute_result"
    }
   ],
   "source": [
    "rbso.config"
   ]
  },
  {
   "cell_type": "markdown",
   "metadata": {},
   "source": [
    "### Compare to initial RBS pipeline performance"
   ]
  },
  {
   "cell_type": "markdown",
   "metadata": {},
   "source": [
    "If we assume that, for our initial RBS pipeline:\n",
    "\n",
    "* Only the **original, existing rules** were used (since these are likely to be the rules that are currently productionised).\n",
    "* The RBS pipeline was set up in a similar way to our optimised RBS Pipeline (i.e. if any rules trigger, reject the transaction; else, approve the transaction).\n",
    "\n",
    "then we can calculate the performance of the initial RBS Pipeline and compare it to our optimised pipeline.\n",
    "\n",
    "To set up the initial RBS Pipeline, we follow a similar process as before. First, we need the names of the **original, existing rules** that are used to reject transactions:"
   ]
  },
  {
   "cell_type": "code",
   "execution_count": 182,
   "metadata": {},
   "outputs": [],
   "source": [
    "existing_rule_names = list(existing_rules.rule_strings.keys())"
   ]
  },
  {
   "cell_type": "markdown",
   "metadata": {},
   "source": [
    "Then we can create our *config* using these rule names:"
   ]
  },
  {
   "cell_type": "code",
   "execution_count": 183,
   "metadata": {},
   "outputs": [],
   "source": [
    "config = [\n",
    "    {1: existing_rule_names}\n",
    "]"
   ]
  },
  {
   "cell_type": "markdown",
   "metadata": {},
   "source": [
    "Now, we need to apply the original, existing rules to the test set:"
   ]
  },
  {
   "cell_type": "code",
   "execution_count": 184,
   "metadata": {},
   "outputs": [],
   "source": [
    "X_rules_existing_test = existing_rules.transform(\n",
    "    X=X.loc[X_test.index],\n",
    "    y=y.loc[X_test.index]\n",
    ")"
   ]
  },
  {
   "cell_type": "markdown",
   "metadata": {},
   "source": [
    "Then instantiate the *RBSPipeline* class using *config* we created above, keeping the other parameters the same:"
   ]
  },
  {
   "cell_type": "code",
   "execution_count": 185,
   "metadata": {},
   "outputs": [],
   "source": [
    "rbsp_initial = RBSPipeline(\n",
    "    config=config,\n",
    "    final_decision=0,\n",
    "    opt_func=f1.fit\n",
    ")"
   ]
  },
  {
   "cell_type": "markdown",
   "metadata": {},
   "source": [
    "Now we can apply the initial RBS pipeline to the test set:"
   ]
  },
  {
   "cell_type": "code",
   "execution_count": 186,
   "metadata": {},
   "outputs": [],
   "source": [
    "pipe_pred_initial_test = rbsp_initial.predict(\n",
    "    X_rules=X_rules_existing_test,\n",
    "    y=y.loc[X_test.index]\n",
    ")"
   ]
  },
  {
   "cell_type": "markdown",
   "metadata": {},
   "source": [
    "We can also use the *.calc_performance()* method to generate some performance metrics for the pipeline:"
   ]
  },
  {
   "cell_type": "code",
   "execution_count": 187,
   "metadata": {},
   "outputs": [],
   "source": [
    "rbsp_initial.calc_performance(\n",
    "    y_true=y_test, \n",
    "    y_pred=pipe_pred_initial_test\n",
    ")"
   ]
  },
  {
   "cell_type": "markdown",
   "metadata": {},
   "source": [
    "#### Performance comparison"
   ]
  },
  {
   "cell_type": "markdown",
   "metadata": {},
   "source": [
    "Finally, we can compare the performance of the initial RBS Pipeline and the optimised RBS Pipeline:"
   ]
  },
  {
   "cell_type": "code",
   "execution_count": 188,
   "metadata": {},
   "outputs": [
    {
     "name": "stdout",
     "output_type": "stream",
     "text": [
      "The F1 score of the initial RBS Pipeline is: 0.092\n",
      "The F1 score of the optimised RBS Pipeline is: 0.987\n",
      "% improvement in F1 score is: 969%\n"
     ]
    }
   ],
   "source": [
    "# F1 Score\n",
    "print(f'The F1 score of the initial RBS Pipeline is: {round(rbsp_initial.pipeline_opt_metric, 3)}')\n",
    "print(f'The F1 score of the optimised RBS Pipeline is: {round(rbso.pipeline_opt_metric, 3)}')\n",
    "print(f'% improvement in F1 score is: {round(100*(rbso.pipeline_opt_metric-rbsp_initial.pipeline_opt_metric)/rbsp_initial.pipeline_opt_metric)}%')"
   ]
  },
  {
   "cell_type": "code",
   "execution_count": 189,
   "metadata": {},
   "outputs": [],
   "source": [
    "conf_matrix_diff = rbso.conf_matrix - rbsp_initial.conf_matrix"
   ]
  },
  {
   "cell_type": "code",
   "execution_count": 190,
   "metadata": {},
   "outputs": [
    {
     "name": "stdout",
     "output_type": "stream",
     "text": [
      "Absolute change in true positives: -1.0\n",
      "Absolute change in false positives: -2239.0\n",
      "Absolute change in true negatives: 2239.0\n",
      "Absolute change in false negatives: 1.0\n"
     ]
    }
   ],
   "source": [
    "print(f'Absolute change in true positives: {conf_matrix_diff.iloc[0, 0]}')\n",
    "print(f'Absolute change in false positives: {conf_matrix_diff.iloc[0, 1]}')\n",
    "print(f'Absolute change in true negatives: {conf_matrix_diff.iloc[1, 1]}')\n",
    "print(f'Absolute change in false negatives: {conf_matrix_diff.iloc[1, 0]}')"
   ]
  },
  {
   "cell_type": "markdown",
   "metadata": {},
   "source": [
    "---"
   ]
  },
  {
   "cell_type": "markdown",
   "metadata": {},
   "source": [
    "## Convert generated rule conditions to system-ready <a name=\"ConvertGenToSys\"></a>"
   ]
  },
  {
   "cell_type": "markdown",
   "metadata": {},
   "source": [
    "Now that we have our final rule set and our optimised RBS Pipeline, we can convert the conditions of the generated rules to work on raw, unprocessed data (which is usually the type of data seen in a production system) - this involves the following:\n",
    "\n",
    "* Adding a null condition if the generated condition covered imputed null values.\n",
    "* Converting generated conditions with One Hot Encoded features into conditions that flag that specific category.\n",
    "\n",
    "For example:\n",
    "\n",
    "- If a numeric rule condition initially had a threshold such that the imputed null values were included in the condition, the converted condition has an additional condition to check whether the feature is also null. \n",
    "    - E.g. If a rule initially had the logic *(X['num_items']<=1)* (which included the imputed value of 0), then the converted rule logic would be *((X['num_items']<=1)|(X['num_items'].isna()))*, with an additional condition to check for nulls.\n",
    "- If a categorical rule condition checks whether the value is the imputed null category, the converted condition is such that it will explicitly check for null values. \n",
    "    - E.g. If a rule initially had the logic *(X['country_missing']==True)*, then the converted rule logic would be *(X['country'].isna())*, such that it explicitly checks for null values.\n",
    "- For categorical rule conditions, the converted condition is such that it will explicitly check for the category. \n",
    "    - E.g. If a rule initially had the logic *(X['country_US']==False)*, then the converted rule logic woul dbe *(X['country']!='US')*, such that it explicitly checks whether the 'country' column is not equal to the 'US' category.\n",
    "\n",
    "To do this, we can use the *ConvertProcessedConditionsToGeneral* class from the *convert_processed_conditions_to_general* module. Note that we only need to apply this process to the generated rules, since those are the only rules which reference the processed data.\n",
    "\n",
    "Before we can use this class, we need to provide the following:\n",
    "\n",
    "* A dictionary of the value used to impute nulls for each feature in the original, unprocessed dataset.\n",
    "* A dictionary of the category linked to each One Hot Encoded column.\n",
    "\n",
    "To get these dictionaries, we can use the *ReturnMappings* class from the *convert_processed_conditions_to_general* module:"
   ]
  },
  {
   "cell_type": "code",
   "execution_count": 191,
   "metadata": {},
   "outputs": [],
   "source": [
    "rm = ReturnMappings()"
   ]
  },
  {
   "cell_type": "code",
   "execution_count": 192,
   "metadata": {},
   "outputs": [],
   "source": [
    "imputed_values_mapping = rm.return_imputed_values_mapping(\n",
    "    [num_cols, -1], \n",
    "    [cat_cols, 'missing'], \n",
    "    [bool_cols, 'missing']\n",
    ")"
   ]
  },
  {
   "cell_type": "code",
   "execution_count": 193,
   "metadata": {},
   "outputs": [],
   "source": [
    "ohe_categories_mapping = rm.return_ohe_categories_mapping(\n",
    "    pre_ohe_cols=X.columns, \n",
    "    post_ohe_cols=X_train.columns, \n",
    "    pre_ohe_dtypes=X.dtypes\n",
    ")"
   ]
  },
  {
   "cell_type": "markdown",
   "metadata": {},
   "source": [
    "Now that we have our mapping dictionaries for imputed values and one hot encoded values, we can convert the logic of our generated rules to make them production-ready:"
   ]
  },
  {
   "cell_type": "code",
   "execution_count": 194,
   "metadata": {},
   "outputs": [],
   "source": [
    "conv_gen_rules = ConvertProcessedConditionsToGeneral(\n",
    "    imputed_values=imputed_values_mapping, \n",
    "    ohe_categories=ohe_categories_mapping\n",
    ")"
   ]
  },
  {
   "cell_type": "code",
   "execution_count": 195,
   "metadata": {},
   "outputs": [],
   "source": [
    "conv_gen_rule_strings = conv_gen_rules.convert(\n",
    "    rule_strings=gs_gen.rule_strings, \n",
    "    X=X_train\n",
    ")"
   ]
  },
  {
   "cell_type": "markdown",
   "metadata": {},
   "source": [
    "### Outputs"
   ]
  },
  {
   "cell_type": "markdown",
   "metadata": {},
   "source": [
    "The *.convert()* method returns a dictionary containing the set of rules which account for imputed/OHE variables, defined using the standard Iguanas string format (values) and their names (keys). \n",
    "\n",
    "A useful attribute created by running the *.convert()* method is:\n",
    "\n",
    "* rules: Class containing the rules stored in the standard Iguanas string format. Methods from this class can be used to convert the rules into the standard Iguanas dictionary or lambda expression representations. See the *rules* module for more information."
   ]
  },
  {
   "cell_type": "markdown",
   "metadata": {},
   "source": [
    "---"
   ]
  },
  {
   "cell_type": "markdown",
   "metadata": {},
   "source": [
    "## Our final rule set and RBS Pipeline <a name=\"FinalRuleSet\"></a>"
   ]
  },
  {
   "cell_type": "markdown",
   "metadata": {},
   "source": [
    "We can now (finally!) create the rule set that we'll use in our optimised RBS pipeline. All we need to do is add our generated rules (that were reformatted for raw data) to our optimised rules:"
   ]
  },
  {
   "cell_type": "code",
   "execution_count": 196,
   "metadata": {},
   "outputs": [],
   "source": [
    "rbs_rule_strings = {}\n",
    "rbs_rule_strings.update(conv_gen_rule_strings)\n",
    "rbs_rule_strings.update(gs_opt.rule_strings)"
   ]
  },
  {
   "cell_type": "markdown",
   "metadata": {},
   "source": [
    "Then we can create an instance of the *Rules* class using these rules (we can use this class to change between representations of the rules, if required):"
   ]
  },
  {
   "cell_type": "code",
   "execution_count": 197,
   "metadata": {},
   "outputs": [],
   "source": [
    "rbs_rules = Rules(rule_strings=rbs_rule_strings)"
   ]
  },
  {
   "cell_type": "markdown",
   "metadata": {},
   "source": [
    "**Our final rules (in the standard Iguanas string format):**"
   ]
  },
  {
   "cell_type": "code",
   "execution_count": 198,
   "metadata": {},
   "outputs": [
    {
     "data": {
      "text/plain": [
       "{'RGDT_Rule_20211202_27': \"(X['account_number_num_fraud_transactions_per_account_number_7day']>=1)&(X['account_number_num_fraud_transactions_per_account_number_90day']>=1)\",\n",
       " 'RGDT_Rule_20211202_24': \"(X['account_number_num_fraud_transactions_per_account_number_30day']>=1)&((X['is_existing_user']<=0)|(X['is_existing_user'].isna()))\",\n",
       " 'RGDT_Rule_20211202_25': \"(X['account_number_num_fraud_transactions_per_account_number_30day']>=1)&(X['order_total']>916.82501)\",\n",
       " 'RGDT_Rule193': \"(X['account_number_num_distinct_transaction_per_account_number_30day']>=2.0)&(X['account_number_num_fraud_transactions_per_account_number_lifetime']>=2.0)\",\n",
       " 'RGDT_Rule241': \"(X['account_number_avg_order_total_per_account_number_90day']>153.949)&(X['account_number_num_fraud_transactions_per_account_number_1day']>=1.0)&((X['account_number_sum_order_total_per_account_number_1day']<=623.10999)|(X['account_number_sum_order_total_per_account_number_1day'].isna()))&(X['account_number_sum_order_total_per_account_number_30day']>329.12)\"}"
      ]
     },
     "execution_count": 198,
     "metadata": {},
     "output_type": "execute_result"
    }
   ],
   "source": [
    "rbs_rules.rule_strings"
   ]
  },
  {
   "cell_type": "markdown",
   "metadata": {},
   "source": [
    "**Our optimised RBS Pipeline configuration:**"
   ]
  },
  {
   "cell_type": "code",
   "execution_count": 199,
   "metadata": {},
   "outputs": [
    {
     "data": {
      "text/plain": [
       "[{1: ['RGDT_Rule_20211202_25',\n",
       "   'RGDT_Rule_20211202_24',\n",
       "   'RGDT_Rule193',\n",
       "   'RGDT_Rule241',\n",
       "   'RGDT_Rule_20211202_27']}]"
      ]
     },
     "execution_count": 199,
     "metadata": {},
     "output_type": "execute_result"
    }
   ],
   "source": [
    "rbso.config"
   ]
  },
  {
   "cell_type": "markdown",
   "metadata": {},
   "source": [
    "---"
   ]
  }
 ],
 "metadata": {
  "interpreter": {
   "hash": "6a5a22224d030f6805b27da964f50b3905be89918ca593f843e32c3b2a80fa84"
  },
  "kernelspec": {
   "display_name": "Python 3.8.9 64-bit ('iguanas_os_dev': venv)",
   "name": "python3"
  },
  "language_info": {
   "codemirror_mode": {
    "name": "ipython",
    "version": 3
   },
   "file_extension": ".py",
   "mimetype": "text/x-python",
   "name": "python",
   "nbconvert_exporter": "python",
   "pygments_lexer": "ipython3",
   "version": "3.8.9"
  }
 },
 "nbformat": 4,
 "nbformat_minor": 4
}
