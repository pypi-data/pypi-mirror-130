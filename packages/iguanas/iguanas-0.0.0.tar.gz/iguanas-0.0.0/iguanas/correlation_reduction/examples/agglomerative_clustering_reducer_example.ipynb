{
 "cells": [
  {
   "cell_type": "markdown",
   "source": [
    "# AgglomerativeClusteringReducer Example"
   ],
   "metadata": {}
  },
  {
   "cell_type": "markdown",
   "source": [
    "This notebook contains an example of how the AgglomerativeClusteringReducer class can be used to remove correlated rules from a dataset. It can also be used to remove correlated features from a rule set."
   ],
   "metadata": {}
  },
  {
   "cell_type": "markdown",
   "source": [
    "## Requirements"
   ],
   "metadata": {}
  },
  {
   "cell_type": "markdown",
   "source": [
    "To run, you'll need the following:\n",
    "\n",
    "* A dataset or rule set (in the case of a rule set, you need to provide the binary columns of the rules as applied to a dataset)"
   ],
   "metadata": {}
  },
  {
   "cell_type": "markdown",
   "source": [
    "----"
   ],
   "metadata": {}
  },
  {
   "cell_type": "markdown",
   "source": [
    "## Import packages"
   ],
   "metadata": {}
  },
  {
   "cell_type": "code",
   "execution_count": 1,
   "source": [
    "from iguanas.correlation_reduction import AgglomerativeClusteringReducer\n",
    "from iguanas.metrics.pairwise import CosineSimilarity\n",
    "\n",
    "import pandas as pd"
   ],
   "outputs": [],
   "metadata": {}
  },
  {
   "cell_type": "markdown",
   "source": [
    "## Read in data"
   ],
   "metadata": {}
  },
  {
   "cell_type": "markdown",
   "source": [
    "Let's read in some dummy data."
   ],
   "metadata": {}
  },
  {
   "cell_type": "code",
   "execution_count": 2,
   "source": [
    "X_train = pd.read_csv(\n",
    "    'dummy_data/X_train.csv', \n",
    "    index_col='eid'\n",
    ")\n",
    "X_test = pd.read_csv(\n",
    "    'dummy_data/X_test.csv', \n",
    "    index_col='eid'\n",
    ")"
   ],
   "outputs": [],
   "metadata": {}
  },
  {
   "cell_type": "markdown",
   "source": [
    "----"
   ],
   "metadata": {}
  },
  {
   "cell_type": "markdown",
   "source": [
    "## Find correlated features"
   ],
   "metadata": {}
  },
  {
   "cell_type": "markdown",
   "source": [
    "### Set up class parameters"
   ],
   "metadata": {}
  },
  {
   "cell_type": "markdown",
   "source": [
    "Now we can set our class parameters. Here we're using the cosine similarity as the similarity metric (you can choose a different function from the *metrics.pairwise* module, or create your own - **see the pairwise.ipynb example notebook for more information**).\n",
    "\n",
    "**Please see the class docstring for more information on each parameter.**"
   ],
   "metadata": {}
  },
  {
   "cell_type": "code",
   "execution_count": 3,
   "source": [
    "cs = CosineSimilarity()"
   ],
   "outputs": [],
   "metadata": {}
  },
  {
   "cell_type": "code",
   "execution_count": 4,
   "source": [
    "params = {\n",
    "    'threshold': 0.75,\n",
    "    'strategy': 'bottom_up',\n",
    "    'similarity_function': cs.fit,\n",
    "    'metric': None,\n",
    "}"
   ],
   "outputs": [],
   "metadata": {}
  },
  {
   "cell_type": "markdown",
   "source": [
    "### Instantiate class and run fit method"
   ],
   "metadata": {}
  },
  {
   "cell_type": "markdown",
   "source": [
    "Once the parameters have been set, we can run the *.fit()* method to identify the columns that should be kept."
   ],
   "metadata": {}
  },
  {
   "cell_type": "code",
   "execution_count": 5,
   "source": [
    "agg = AgglomerativeClusteringReducer(**params)\n",
    "agg.fit(X=X_train)"
   ],
   "outputs": [],
   "metadata": {}
  },
  {
   "cell_type": "markdown",
   "source": [
    "### Outputs"
   ],
   "metadata": {}
  },
  {
   "cell_type": "markdown",
   "source": [
    "The *.fit()* method does not return anything. However it does create the following attribute:\n",
    "\n",
    "* columns_to_keep: The final list of columns with the correlated columns removed."
   ],
   "metadata": {}
  },
  {
   "cell_type": "code",
   "execution_count": 6,
   "source": [
    "agg.columns_to_keep"
   ],
   "outputs": [
    {
     "output_type": "execute_result",
     "data": {
      "text/plain": [
       "['account_number_num_fraud_transactions_per_account_number_7day',\n",
       " 'account_number_num_order_items_per_account_number_lifetime',\n",
       " 'account_number_avg_order_total_per_account_number_30day',\n",
       " 'account_number_num_distinct_transaction_per_account_number_7day',\n",
       " 'is_existing_user_0',\n",
       " 'status_Pending',\n",
       " 'is_billing_shipping_city_same_0',\n",
       " 'num_order_items_IsNull',\n",
       " 'order_total_IsNull']"
      ]
     },
     "metadata": {},
     "execution_count": 6
    }
   ],
   "metadata": {}
  },
  {
   "cell_type": "markdown",
   "source": [
    "----"
   ],
   "metadata": {}
  },
  {
   "cell_type": "markdown",
   "source": [
    "## Transform the dataset (or another dataset)"
   ],
   "metadata": {}
  },
  {
   "cell_type": "markdown",
   "source": [
    "Use the *.transform()* method to reduce the original dataset (or a separate dataset) by removing the correlated columns."
   ],
   "metadata": {}
  },
  {
   "cell_type": "code",
   "execution_count": 7,
   "source": [
    "X_train_reduced = agg.transform(X_train)"
   ],
   "outputs": [],
   "metadata": {}
  },
  {
   "cell_type": "code",
   "execution_count": 8,
   "source": [
    "X_train.shape, X_train_reduced.shape "
   ],
   "outputs": [
    {
     "output_type": "execute_result",
     "data": {
      "text/plain": [
       "((8894, 32), (8894, 9))"
      ]
     },
     "metadata": {},
     "execution_count": 8
    }
   ],
   "metadata": {}
  },
  {
   "cell_type": "code",
   "execution_count": 9,
   "source": [
    "X_test_reduced = agg.transform(X_test)"
   ],
   "outputs": [],
   "metadata": {}
  },
  {
   "cell_type": "code",
   "execution_count": 10,
   "source": [
    "X_test.shape, X_test_reduced.shape "
   ],
   "outputs": [
    {
     "output_type": "execute_result",
     "data": {
      "text/plain": [
       "((4382, 34), (4382, 9))"
      ]
     },
     "metadata": {},
     "execution_count": 10
    }
   ],
   "metadata": {}
  },
  {
   "cell_type": "markdown",
   "source": [
    "### Outputs"
   ],
   "metadata": {}
  },
  {
   "cell_type": "markdown",
   "source": [
    "The *.transform()* method returns the original dataset with the correlated columns removed."
   ],
   "metadata": {}
  },
  {
   "cell_type": "code",
   "execution_count": 11,
   "source": [
    "X_train_reduced.head()"
   ],
   "outputs": [
    {
     "output_type": "execute_result",
     "data": {
      "text/plain": [
       "                     account_number_num_fraud_transactions_per_account_number_7day  \\\n",
       "eid                                                                                  \n",
       "867-8837095-9305559                                                  0               \n",
       "974-5306287-3527394                                                  0               \n",
       "584-0112844-9158928                                                  0               \n",
       "956-4190732-7014837                                                  0               \n",
       "349-7005645-8862067                                                  0               \n",
       "\n",
       "                     account_number_num_order_items_per_account_number_lifetime  \\\n",
       "eid                                                                               \n",
       "867-8837095-9305559                                                  0            \n",
       "974-5306287-3527394                                                  0            \n",
       "584-0112844-9158928                                                  0            \n",
       "956-4190732-7014837                                                  0            \n",
       "349-7005645-8862067                                                  0            \n",
       "\n",
       "                     account_number_avg_order_total_per_account_number_30day  \\\n",
       "eid                                                                            \n",
       "867-8837095-9305559                                                0.0         \n",
       "974-5306287-3527394                                                0.0         \n",
       "584-0112844-9158928                                                0.0         \n",
       "956-4190732-7014837                                                0.0         \n",
       "349-7005645-8862067                                                0.0         \n",
       "\n",
       "                     account_number_num_distinct_transaction_per_account_number_7day  \\\n",
       "eid                                                                                    \n",
       "867-8837095-9305559                                                  1                 \n",
       "974-5306287-3527394                                                  1                 \n",
       "584-0112844-9158928                                                  1                 \n",
       "956-4190732-7014837                                                  1                 \n",
       "349-7005645-8862067                                                  1                 \n",
       "\n",
       "                     is_existing_user_0  status_Pending  \\\n",
       "eid                                                       \n",
       "867-8837095-9305559                   0               0   \n",
       "974-5306287-3527394                   0               0   \n",
       "584-0112844-9158928                   0               0   \n",
       "956-4190732-7014837                   0               0   \n",
       "349-7005645-8862067                   0               0   \n",
       "\n",
       "                     is_billing_shipping_city_same_0  num_order_items_IsNull  \\\n",
       "eid                                                                            \n",
       "867-8837095-9305559                                0                       0   \n",
       "974-5306287-3527394                                0                       0   \n",
       "584-0112844-9158928                                0                       0   \n",
       "956-4190732-7014837                                0                       0   \n",
       "349-7005645-8862067                                0                       0   \n",
       "\n",
       "                     order_total_IsNull  \n",
       "eid                                      \n",
       "867-8837095-9305559                   1  \n",
       "974-5306287-3527394                   1  \n",
       "584-0112844-9158928                   1  \n",
       "956-4190732-7014837                   1  \n",
       "349-7005645-8862067                   1  "
      ],
      "text/html": [
       "<div>\n",
       "<style scoped>\n",
       "    .dataframe tbody tr th:only-of-type {\n",
       "        vertical-align: middle;\n",
       "    }\n",
       "\n",
       "    .dataframe tbody tr th {\n",
       "        vertical-align: top;\n",
       "    }\n",
       "\n",
       "    .dataframe thead th {\n",
       "        text-align: right;\n",
       "    }\n",
       "</style>\n",
       "<table border=\"1\" class=\"dataframe\">\n",
       "  <thead>\n",
       "    <tr style=\"text-align: right;\">\n",
       "      <th></th>\n",
       "      <th>account_number_num_fraud_transactions_per_account_number_7day</th>\n",
       "      <th>account_number_num_order_items_per_account_number_lifetime</th>\n",
       "      <th>account_number_avg_order_total_per_account_number_30day</th>\n",
       "      <th>account_number_num_distinct_transaction_per_account_number_7day</th>\n",
       "      <th>is_existing_user_0</th>\n",
       "      <th>status_Pending</th>\n",
       "      <th>is_billing_shipping_city_same_0</th>\n",
       "      <th>num_order_items_IsNull</th>\n",
       "      <th>order_total_IsNull</th>\n",
       "    </tr>\n",
       "    <tr>\n",
       "      <th>eid</th>\n",
       "      <th></th>\n",
       "      <th></th>\n",
       "      <th></th>\n",
       "      <th></th>\n",
       "      <th></th>\n",
       "      <th></th>\n",
       "      <th></th>\n",
       "      <th></th>\n",
       "      <th></th>\n",
       "    </tr>\n",
       "  </thead>\n",
       "  <tbody>\n",
       "    <tr>\n",
       "      <th>867-8837095-9305559</th>\n",
       "      <td>0</td>\n",
       "      <td>0</td>\n",
       "      <td>0.0</td>\n",
       "      <td>1</td>\n",
       "      <td>0</td>\n",
       "      <td>0</td>\n",
       "      <td>0</td>\n",
       "      <td>0</td>\n",
       "      <td>1</td>\n",
       "    </tr>\n",
       "    <tr>\n",
       "      <th>974-5306287-3527394</th>\n",
       "      <td>0</td>\n",
       "      <td>0</td>\n",
       "      <td>0.0</td>\n",
       "      <td>1</td>\n",
       "      <td>0</td>\n",
       "      <td>0</td>\n",
       "      <td>0</td>\n",
       "      <td>0</td>\n",
       "      <td>1</td>\n",
       "    </tr>\n",
       "    <tr>\n",
       "      <th>584-0112844-9158928</th>\n",
       "      <td>0</td>\n",
       "      <td>0</td>\n",
       "      <td>0.0</td>\n",
       "      <td>1</td>\n",
       "      <td>0</td>\n",
       "      <td>0</td>\n",
       "      <td>0</td>\n",
       "      <td>0</td>\n",
       "      <td>1</td>\n",
       "    </tr>\n",
       "    <tr>\n",
       "      <th>956-4190732-7014837</th>\n",
       "      <td>0</td>\n",
       "      <td>0</td>\n",
       "      <td>0.0</td>\n",
       "      <td>1</td>\n",
       "      <td>0</td>\n",
       "      <td>0</td>\n",
       "      <td>0</td>\n",
       "      <td>0</td>\n",
       "      <td>1</td>\n",
       "    </tr>\n",
       "    <tr>\n",
       "      <th>349-7005645-8862067</th>\n",
       "      <td>0</td>\n",
       "      <td>0</td>\n",
       "      <td>0.0</td>\n",
       "      <td>1</td>\n",
       "      <td>0</td>\n",
       "      <td>0</td>\n",
       "      <td>0</td>\n",
       "      <td>0</td>\n",
       "      <td>1</td>\n",
       "    </tr>\n",
       "  </tbody>\n",
       "</table>\n",
       "</div>"
      ]
     },
     "metadata": {},
     "execution_count": 11
    }
   ],
   "metadata": {}
  },
  {
   "cell_type": "code",
   "execution_count": 12,
   "source": [
    "X_test_reduced.head()"
   ],
   "outputs": [
    {
     "output_type": "execute_result",
     "data": {
      "text/plain": [
       "                     account_number_num_fraud_transactions_per_account_number_7day  \\\n",
       "eid                                                                                  \n",
       "975-8351797-7122581                                                  0               \n",
       "785-6259585-7858053                                                  0               \n",
       "057-4039373-1790681                                                  0               \n",
       "095-5263240-3834186                                                  0               \n",
       "980-3802574-0009480                                                  0               \n",
       "\n",
       "                     account_number_num_order_items_per_account_number_lifetime  \\\n",
       "eid                                                                               \n",
       "975-8351797-7122581                                                  2            \n",
       "785-6259585-7858053                                                  0            \n",
       "057-4039373-1790681                                                  2            \n",
       "095-5263240-3834186                                                  0            \n",
       "980-3802574-0009480                                                  2            \n",
       "\n",
       "                     account_number_avg_order_total_per_account_number_30day  \\\n",
       "eid                                                                            \n",
       "975-8351797-7122581                                              29.00         \n",
       "785-6259585-7858053                                               0.00         \n",
       "057-4039373-1790681                                             192.95         \n",
       "095-5263240-3834186                                               0.00         \n",
       "980-3802574-0009480                                               9.00         \n",
       "\n",
       "                     account_number_num_distinct_transaction_per_account_number_7day  \\\n",
       "eid                                                                                    \n",
       "975-8351797-7122581                                                  1                 \n",
       "785-6259585-7858053                                                  1                 \n",
       "057-4039373-1790681                                                  1                 \n",
       "095-5263240-3834186                                                  1                 \n",
       "980-3802574-0009480                                                  1                 \n",
       "\n",
       "                     is_existing_user_0  status_Pending  \\\n",
       "eid                                                       \n",
       "975-8351797-7122581                   1               0   \n",
       "785-6259585-7858053                   0               0   \n",
       "057-4039373-1790681                   0               0   \n",
       "095-5263240-3834186                   0               0   \n",
       "980-3802574-0009480                   0               0   \n",
       "\n",
       "                     is_billing_shipping_city_same_0  num_order_items_IsNull  \\\n",
       "eid                                                                            \n",
       "975-8351797-7122581                                0                       0   \n",
       "785-6259585-7858053                                0                       0   \n",
       "057-4039373-1790681                                0                       0   \n",
       "095-5263240-3834186                                0                       0   \n",
       "980-3802574-0009480                                0                       0   \n",
       "\n",
       "                     order_total_IsNull  \n",
       "eid                                      \n",
       "975-8351797-7122581                   0  \n",
       "785-6259585-7858053                   1  \n",
       "057-4039373-1790681                   0  \n",
       "095-5263240-3834186                   1  \n",
       "980-3802574-0009480                   0  "
      ],
      "text/html": [
       "<div>\n",
       "<style scoped>\n",
       "    .dataframe tbody tr th:only-of-type {\n",
       "        vertical-align: middle;\n",
       "    }\n",
       "\n",
       "    .dataframe tbody tr th {\n",
       "        vertical-align: top;\n",
       "    }\n",
       "\n",
       "    .dataframe thead th {\n",
       "        text-align: right;\n",
       "    }\n",
       "</style>\n",
       "<table border=\"1\" class=\"dataframe\">\n",
       "  <thead>\n",
       "    <tr style=\"text-align: right;\">\n",
       "      <th></th>\n",
       "      <th>account_number_num_fraud_transactions_per_account_number_7day</th>\n",
       "      <th>account_number_num_order_items_per_account_number_lifetime</th>\n",
       "      <th>account_number_avg_order_total_per_account_number_30day</th>\n",
       "      <th>account_number_num_distinct_transaction_per_account_number_7day</th>\n",
       "      <th>is_existing_user_0</th>\n",
       "      <th>status_Pending</th>\n",
       "      <th>is_billing_shipping_city_same_0</th>\n",
       "      <th>num_order_items_IsNull</th>\n",
       "      <th>order_total_IsNull</th>\n",
       "    </tr>\n",
       "    <tr>\n",
       "      <th>eid</th>\n",
       "      <th></th>\n",
       "      <th></th>\n",
       "      <th></th>\n",
       "      <th></th>\n",
       "      <th></th>\n",
       "      <th></th>\n",
       "      <th></th>\n",
       "      <th></th>\n",
       "      <th></th>\n",
       "    </tr>\n",
       "  </thead>\n",
       "  <tbody>\n",
       "    <tr>\n",
       "      <th>975-8351797-7122581</th>\n",
       "      <td>0</td>\n",
       "      <td>2</td>\n",
       "      <td>29.00</td>\n",
       "      <td>1</td>\n",
       "      <td>1</td>\n",
       "      <td>0</td>\n",
       "      <td>0</td>\n",
       "      <td>0</td>\n",
       "      <td>0</td>\n",
       "    </tr>\n",
       "    <tr>\n",
       "      <th>785-6259585-7858053</th>\n",
       "      <td>0</td>\n",
       "      <td>0</td>\n",
       "      <td>0.00</td>\n",
       "      <td>1</td>\n",
       "      <td>0</td>\n",
       "      <td>0</td>\n",
       "      <td>0</td>\n",
       "      <td>0</td>\n",
       "      <td>1</td>\n",
       "    </tr>\n",
       "    <tr>\n",
       "      <th>057-4039373-1790681</th>\n",
       "      <td>0</td>\n",
       "      <td>2</td>\n",
       "      <td>192.95</td>\n",
       "      <td>1</td>\n",
       "      <td>0</td>\n",
       "      <td>0</td>\n",
       "      <td>0</td>\n",
       "      <td>0</td>\n",
       "      <td>0</td>\n",
       "    </tr>\n",
       "    <tr>\n",
       "      <th>095-5263240-3834186</th>\n",
       "      <td>0</td>\n",
       "      <td>0</td>\n",
       "      <td>0.00</td>\n",
       "      <td>1</td>\n",
       "      <td>0</td>\n",
       "      <td>0</td>\n",
       "      <td>0</td>\n",
       "      <td>0</td>\n",
       "      <td>1</td>\n",
       "    </tr>\n",
       "    <tr>\n",
       "      <th>980-3802574-0009480</th>\n",
       "      <td>0</td>\n",
       "      <td>2</td>\n",
       "      <td>9.00</td>\n",
       "      <td>1</td>\n",
       "      <td>0</td>\n",
       "      <td>0</td>\n",
       "      <td>0</td>\n",
       "      <td>0</td>\n",
       "      <td>0</td>\n",
       "    </tr>\n",
       "  </tbody>\n",
       "</table>\n",
       "</div>"
      ]
     },
     "metadata": {},
     "execution_count": 12
    }
   ],
   "metadata": {}
  },
  {
   "cell_type": "markdown",
   "source": [
    "---"
   ],
   "metadata": {}
  },
  {
   "cell_type": "markdown",
   "source": [
    "## Find correlated features and transform the dataset (in one step)"
   ],
   "metadata": {}
  },
  {
   "cell_type": "markdown",
   "source": [
    "You can also use the *.fit_transform()* method to identify the columns that should be kept, then remove the remaining correlated columns, all using the given dataset."
   ],
   "metadata": {}
  },
  {
   "cell_type": "code",
   "execution_count": 13,
   "source": [
    "agg = AgglomerativeClusteringReducer(**params)\n",
    "X_train_reduced = agg.fit_transform(X=X_train)"
   ],
   "outputs": [],
   "metadata": {}
  },
  {
   "cell_type": "code",
   "execution_count": 14,
   "source": [
    "X_train_reduced.head()"
   ],
   "outputs": [
    {
     "output_type": "execute_result",
     "data": {
      "text/plain": [
       "                     account_number_num_fraud_transactions_per_account_number_7day  \\\n",
       "eid                                                                                  \n",
       "867-8837095-9305559                                                  0               \n",
       "974-5306287-3527394                                                  0               \n",
       "584-0112844-9158928                                                  0               \n",
       "956-4190732-7014837                                                  0               \n",
       "349-7005645-8862067                                                  0               \n",
       "\n",
       "                     account_number_num_order_items_per_account_number_lifetime  \\\n",
       "eid                                                                               \n",
       "867-8837095-9305559                                                  0            \n",
       "974-5306287-3527394                                                  0            \n",
       "584-0112844-9158928                                                  0            \n",
       "956-4190732-7014837                                                  0            \n",
       "349-7005645-8862067                                                  0            \n",
       "\n",
       "                     account_number_avg_order_total_per_account_number_30day  \\\n",
       "eid                                                                            \n",
       "867-8837095-9305559                                                0.0         \n",
       "974-5306287-3527394                                                0.0         \n",
       "584-0112844-9158928                                                0.0         \n",
       "956-4190732-7014837                                                0.0         \n",
       "349-7005645-8862067                                                0.0         \n",
       "\n",
       "                     account_number_num_distinct_transaction_per_account_number_7day  \\\n",
       "eid                                                                                    \n",
       "867-8837095-9305559                                                  1                 \n",
       "974-5306287-3527394                                                  1                 \n",
       "584-0112844-9158928                                                  1                 \n",
       "956-4190732-7014837                                                  1                 \n",
       "349-7005645-8862067                                                  1                 \n",
       "\n",
       "                     is_existing_user_0  status_Pending  \\\n",
       "eid                                                       \n",
       "867-8837095-9305559                   0               0   \n",
       "974-5306287-3527394                   0               0   \n",
       "584-0112844-9158928                   0               0   \n",
       "956-4190732-7014837                   0               0   \n",
       "349-7005645-8862067                   0               0   \n",
       "\n",
       "                     is_billing_shipping_city_same_0  num_order_items_IsNull  \\\n",
       "eid                                                                            \n",
       "867-8837095-9305559                                0                       0   \n",
       "974-5306287-3527394                                0                       0   \n",
       "584-0112844-9158928                                0                       0   \n",
       "956-4190732-7014837                                0                       0   \n",
       "349-7005645-8862067                                0                       0   \n",
       "\n",
       "                     order_total_IsNull  \n",
       "eid                                      \n",
       "867-8837095-9305559                   1  \n",
       "974-5306287-3527394                   1  \n",
       "584-0112844-9158928                   1  \n",
       "956-4190732-7014837                   1  \n",
       "349-7005645-8862067                   1  "
      ],
      "text/html": [
       "<div>\n",
       "<style scoped>\n",
       "    .dataframe tbody tr th:only-of-type {\n",
       "        vertical-align: middle;\n",
       "    }\n",
       "\n",
       "    .dataframe tbody tr th {\n",
       "        vertical-align: top;\n",
       "    }\n",
       "\n",
       "    .dataframe thead th {\n",
       "        text-align: right;\n",
       "    }\n",
       "</style>\n",
       "<table border=\"1\" class=\"dataframe\">\n",
       "  <thead>\n",
       "    <tr style=\"text-align: right;\">\n",
       "      <th></th>\n",
       "      <th>account_number_num_fraud_transactions_per_account_number_7day</th>\n",
       "      <th>account_number_num_order_items_per_account_number_lifetime</th>\n",
       "      <th>account_number_avg_order_total_per_account_number_30day</th>\n",
       "      <th>account_number_num_distinct_transaction_per_account_number_7day</th>\n",
       "      <th>is_existing_user_0</th>\n",
       "      <th>status_Pending</th>\n",
       "      <th>is_billing_shipping_city_same_0</th>\n",
       "      <th>num_order_items_IsNull</th>\n",
       "      <th>order_total_IsNull</th>\n",
       "    </tr>\n",
       "    <tr>\n",
       "      <th>eid</th>\n",
       "      <th></th>\n",
       "      <th></th>\n",
       "      <th></th>\n",
       "      <th></th>\n",
       "      <th></th>\n",
       "      <th></th>\n",
       "      <th></th>\n",
       "      <th></th>\n",
       "      <th></th>\n",
       "    </tr>\n",
       "  </thead>\n",
       "  <tbody>\n",
       "    <tr>\n",
       "      <th>867-8837095-9305559</th>\n",
       "      <td>0</td>\n",
       "      <td>0</td>\n",
       "      <td>0.0</td>\n",
       "      <td>1</td>\n",
       "      <td>0</td>\n",
       "      <td>0</td>\n",
       "      <td>0</td>\n",
       "      <td>0</td>\n",
       "      <td>1</td>\n",
       "    </tr>\n",
       "    <tr>\n",
       "      <th>974-5306287-3527394</th>\n",
       "      <td>0</td>\n",
       "      <td>0</td>\n",
       "      <td>0.0</td>\n",
       "      <td>1</td>\n",
       "      <td>0</td>\n",
       "      <td>0</td>\n",
       "      <td>0</td>\n",
       "      <td>0</td>\n",
       "      <td>1</td>\n",
       "    </tr>\n",
       "    <tr>\n",
       "      <th>584-0112844-9158928</th>\n",
       "      <td>0</td>\n",
       "      <td>0</td>\n",
       "      <td>0.0</td>\n",
       "      <td>1</td>\n",
       "      <td>0</td>\n",
       "      <td>0</td>\n",
       "      <td>0</td>\n",
       "      <td>0</td>\n",
       "      <td>1</td>\n",
       "    </tr>\n",
       "    <tr>\n",
       "      <th>956-4190732-7014837</th>\n",
       "      <td>0</td>\n",
       "      <td>0</td>\n",
       "      <td>0.0</td>\n",
       "      <td>1</td>\n",
       "      <td>0</td>\n",
       "      <td>0</td>\n",
       "      <td>0</td>\n",
       "      <td>0</td>\n",
       "      <td>1</td>\n",
       "    </tr>\n",
       "    <tr>\n",
       "      <th>349-7005645-8862067</th>\n",
       "      <td>0</td>\n",
       "      <td>0</td>\n",
       "      <td>0.0</td>\n",
       "      <td>1</td>\n",
       "      <td>0</td>\n",
       "      <td>0</td>\n",
       "      <td>0</td>\n",
       "      <td>0</td>\n",
       "      <td>1</td>\n",
       "    </tr>\n",
       "  </tbody>\n",
       "</table>\n",
       "</div>"
      ]
     },
     "metadata": {},
     "execution_count": 14
    }
   ],
   "metadata": {}
  },
  {
   "cell_type": "code",
   "execution_count": 15,
   "source": [
    "X_train.shape, X_train_reduced.shape"
   ],
   "outputs": [
    {
     "output_type": "execute_result",
     "data": {
      "text/plain": [
       "((8894, 32), (8894, 9))"
      ]
     },
     "metadata": {},
     "execution_count": 15
    }
   ],
   "metadata": {}
  },
  {
   "cell_type": "markdown",
   "source": [
    "----"
   ],
   "metadata": {}
  }
 ],
 "metadata": {
  "kernelspec": {
   "name": "python3",
   "display_name": "Python 3.8.9 64-bit ('iguanas_os_dev': venv)"
  },
  "language_info": {
   "codemirror_mode": {
    "name": "ipython",
    "version": 3
   },
   "file_extension": ".py",
   "mimetype": "text/x-python",
   "name": "python",
   "nbconvert_exporter": "python",
   "pygments_lexer": "ipython3",
   "version": "3.8.9"
  },
  "interpreter": {
   "hash": "6a5a22224d030f6805b27da964f50b3905be89918ca593f843e32c3b2a80fa84"
  }
 },
 "nbformat": 4,
 "nbformat_minor": 4
}