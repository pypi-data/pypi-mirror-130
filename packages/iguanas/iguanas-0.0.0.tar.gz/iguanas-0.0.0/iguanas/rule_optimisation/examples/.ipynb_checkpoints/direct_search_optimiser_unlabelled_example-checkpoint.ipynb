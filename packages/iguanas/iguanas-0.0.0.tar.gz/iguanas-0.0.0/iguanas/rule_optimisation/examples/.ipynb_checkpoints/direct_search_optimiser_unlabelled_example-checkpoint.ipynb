{
 "cells": [
  {
   "cell_type": "markdown",
   "metadata": {},
   "source": [
    "# Direct Search Optimiser (unlabelled) Example"
   ]
  },
  {
   "cell_type": "markdown",
   "metadata": {},
   "source": [
    "This notebook contains an example of how the Direct Search Optimiser module can be used to optimise the thresholds of an existing set of rules, given an **unlabelled** dataset, using Direct Search-type Optimisation algorithms."
   ]
  },
  {
   "cell_type": "markdown",
   "metadata": {},
   "source": [
    "## Requirements"
   ]
  },
  {
   "cell_type": "markdown",
   "metadata": {},
   "source": [
    "To run, you'll need the following:\n",
    "\n",
    "* A rule set stored in the standard Iguanas lambda expression format, along with the keyword arguments for each lambda expression (more information on how to do this later)\n",
    "* An unlabelled dataset containing the features present in the rule set."
   ]
  },
  {
   "cell_type": "markdown",
   "metadata": {},
   "source": [
    "----"
   ]
  },
  {
   "cell_type": "markdown",
   "metadata": {},
   "source": [
    "## Import packages"
   ]
  },
  {
   "cell_type": "code",
   "execution_count": 1,
   "metadata": {},
   "outputs": [],
   "source": [
    "from iguanas.rule_optimisation import DirectSearchOptimiser\n",
    "from iguanas.rules import Rules\n",
    "from iguanas.rule_application import RuleApplier\n",
    "from iguanas.rule_optimisation.optimisation_functions import AlertsPerDay\n",
    "\n",
    "import pandas as pd\n",
    "import numpy as np\n",
    "from sklearn.model_selection import train_test_split\n",
    "from hyperopt import tpe"
   ]
  },
  {
   "cell_type": "markdown",
   "metadata": {},
   "source": [
    "## Read in data"
   ]
  },
  {
   "cell_type": "markdown",
   "metadata": {},
   "source": [
    "Firstly, we need to read in the raw data containing the features:"
   ]
  },
  {
   "cell_type": "code",
   "execution_count": 2,
   "metadata": {},
   "outputs": [],
   "source": [
    "data = pd.read_csv(\n",
    "    'dummy_data/dummy_pipeline_output_data.csv', \n",
    "    index_col='eid'\n",
    ")"
   ]
  },
  {
   "cell_type": "markdown",
   "metadata": {},
   "source": [
    "Then we can split the dataset into training and test sets:"
   ]
  },
  {
   "cell_type": "code",
   "execution_count": 3,
   "metadata": {},
   "outputs": [],
   "source": [
    "X_train, X_test = train_test_split(\n",
    "    data, \n",
    "    test_size=0.33, \n",
    "    random_state=0\n",
    ")"
   ]
  },
  {
   "cell_type": "markdown",
   "metadata": {},
   "source": [
    "## Read in the rules"
   ]
  },
  {
   "cell_type": "markdown",
   "metadata": {},
   "source": [
    "In this example, we'll read in the rule conditions from a pickle file, where they are stored in the standard Iguanas string format. **However, you can use any Iguanas-ready rule format - see the example notebook in the *rules* module.**"
   ]
  },
  {
   "cell_type": "code",
   "execution_count": 4,
   "metadata": {},
   "outputs": [],
   "source": [
    "import pickle\n",
    "with open('dummy_data/rule_strings.pkl', 'rb') as f:\n",
    "    rule_strings = pickle.load(f)"
   ]
  },
  {
   "cell_type": "markdown",
   "metadata": {},
   "source": [
    "Now we can instantiate the *Rules* class with these rules:"
   ]
  },
  {
   "cell_type": "code",
   "execution_count": 5,
   "metadata": {},
   "outputs": [],
   "source": [
    "rules = Rules(rule_strings=rule_strings)"
   ]
  },
  {
   "cell_type": "markdown",
   "metadata": {},
   "source": [
    "We now need to convert the rules into the standard Iguanas lambda expression format. This format allows new threshold values to be injected into the rule condition before being evaluated - this is how the Bayesian Optimiser finds the optimal threshold values:"
   ]
  },
  {
   "cell_type": "code",
   "execution_count": 6,
   "metadata": {},
   "outputs": [],
   "source": [
    "rule_lambdas = rules.as_rule_lambdas(\n",
    "    as_numpy=False, \n",
    "    with_kwargs=True\n",
    ")"
   ]
  },
  {
   "cell_type": "markdown",
   "metadata": {},
   "source": [
    "By converting the rule conditions to the standard Iguanas lambda expression format, we also generate a dictionary which gives the keyword arguments to each lambda expression (this dictionary is saved as the class attribute *lambda_kwargs*). Using these keyword arguments as inputs to the lambda expressions will convert them into the standard Iguanas string format."
   ]
  },
  {
   "cell_type": "markdown",
   "metadata": {},
   "source": [
    "----"
   ]
  },
  {
   "cell_type": "markdown",
   "metadata": {},
   "source": [
    "## Optimise rules"
   ]
  },
  {
   "cell_type": "markdown",
   "metadata": {},
   "source": [
    "### Set up class parameters"
   ]
  },
  {
   "cell_type": "markdown",
   "metadata": {},
   "source": [
    "Now we can set our class parameters for the Direct Search Optimiser. Here we're using the *.fit()* method from the *AlertsPerDay* class, which calculates the negative squared difference between the daily number of records a rule flags vs the targetted daily number of records flagged. This means that when the Direct Search Optimiser comes to maximise this metric, it will try to minimise the difference between the actual number of records flagged and the targetted number of records flagged.\n",
    "\n",
    "See the *optimisation_functions_example* example notebook in this module for more information on additional optimisation functions that can be used on unlabelled datasets.\n",
    "\n",
    "We're also using the *Nelder-Mead* algorithm, which often benefits from setting the optional *initial_simplex* parameter. This is set through the *options* keyword argument. Here, we'll generate the initial simplex of each rule using the *create_initial_simplexes()* method (but you can create your own if required).\n",
    "\n",
    "**Please see the class docstring for more information on each parameter.**"
   ]
  },
  {
   "cell_type": "code",
   "execution_count": 7,
   "metadata": {},
   "outputs": [],
   "source": [
    "apd = AlertsPerDay(\n",
    "    n_alerts_expected_per_day=10, \n",
    "    no_of_days_in_file=10\n",
    ")"
   ]
  },
  {
   "cell_type": "code",
   "execution_count": 8,
   "metadata": {},
   "outputs": [],
   "source": [
    "initial_simplexes = DirectSearchOptimiser.create_initial_simplexes(\n",
    "    X=X_train, \n",
    "    lambda_kwargs=rules.lambda_kwargs, \n",
    "    shape='Minimum-based'\n",
    ")"
   ]
  },
  {
   "cell_type": "code",
   "execution_count": 9,
   "metadata": {},
   "outputs": [],
   "source": [
    "params = {\n",
    "    'rule_lambdas': rule_lambdas,\n",
    "    'lambda_kwargs': rules.lambda_kwargs,    \n",
    "    'opt_func': apd.fit,\n",
    "    'method': 'Nelder-Mead',\n",
    "    'options': initial_simplexes,\n",
    "    'verbose': 1,\n",
    "}"
   ]
  },
  {
   "cell_type": "markdown",
   "metadata": {},
   "source": [
    "### Instantiate class and run fit method"
   ]
  },
  {
   "cell_type": "markdown",
   "metadata": {},
   "source": [
    "Once the parameters have been set, we can run the *.fit()* method to optimise the rules."
   ]
  },
  {
   "cell_type": "code",
   "execution_count": 10,
   "metadata": {},
   "outputs": [
    {
     "name": "stdout",
     "output_type": "stream",
     "text": [
      "--- Checking for rules with features that are missing in `X` ---\n",
      "100%|███████████████████████████████████████████████████████████████████████████████████████████████████████████████████████████████████████████████████| 19/19 [00:00<00:00, 104445.32it/s]\n",
      "--- Checking for rules that exclusively contain non-optimisable conditions ---\n",
      "100%|███████████████████████████████████████████████████████████████████████████████████████████████████████████████████████████████████████████████████| 19/19 [00:00<00:00, 187952.30it/s]\n",
      "--- Checking for rules that exclusively contain zero-variance features ---\n",
      "100%|███████████████████████████████████████████████████████████████████████████████████████████████████████████████████████████████████████████████████| 19/19 [00:00<00:00, 188396.63it/s]\n",
      "--- Optimising rules ---\n",
      "100%|███████████████████████████████████████████████████████████████████████████████████████████████████████████████████████████████████████████████████████| 19/19 [00:04<00:00,  4.50it/s]\n"
     ]
    }
   ],
   "source": [
    "ro = DirectSearchOptimiser(**params)\n",
    "X_rules = ro.fit(X=X_train)"
   ]
  },
  {
   "cell_type": "markdown",
   "metadata": {
    "tags": []
   },
   "source": [
    "### Outputs"
   ]
  },
  {
   "cell_type": "markdown",
   "metadata": {},
   "source": [
    "The *.fit()* method returns a dataframe giving the binary columns of the optimised rules as applied to the training dataset. It also creates the following attributes:\n",
    "\n",
    "* rule_strings (dict): The optimised rules stored in the standard Iguanas string format (values) and their names (keys).\n",
    "* rule_descriptions (pd.Dataframe): A dataframe showing the logic of the rules and their performance metrics on the training dataset.\n",
    "* rule_names_missing_features (list): Names of rules which use features that are not present in the dataset (and therefore can't be optimised or applied).\n",
    "* rule_names_no_opt_conditions (list): Names of rules which have no optimisable conditions (e.g.rules that only contain string-based conditions).\n",
    "* rule_names_zero_var_features (list): Names of rules which exclusively contain zero variance features (based on `X`), so cannot be optimised.\n",
    "* opt_rule_performances (dict): The optimisation metric (values) calculated for each optimised rule (keys) on the training set.\n",
    "* orig_rule_performances (dict): The optimisation metric (values) calculated for each original rule (keys) on the training set."
   ]
  },
  {
   "cell_type": "code",
   "execution_count": 11,
   "metadata": {},
   "outputs": [
    {
     "data": {
      "text/html": [
       "<div>\n",
       "<style scoped>\n",
       "    .dataframe tbody tr th:only-of-type {\n",
       "        vertical-align: middle;\n",
       "    }\n",
       "\n",
       "    .dataframe tbody tr th {\n",
       "        vertical-align: top;\n",
       "    }\n",
       "\n",
       "    .dataframe thead th {\n",
       "        text-align: right;\n",
       "    }\n",
       "</style>\n",
       "<table border=\"1\" class=\"dataframe\">\n",
       "  <thead>\n",
       "    <tr style=\"text-align: right;\">\n",
       "      <th>Rule</th>\n",
       "      <th>ComplicatedRule</th>\n",
       "      <th>RGDT_Rule24</th>\n",
       "      <th>RGDT_Rule162</th>\n",
       "      <th>RGDT_Rule45</th>\n",
       "      <th>RGDT_Rule241</th>\n",
       "      <th>RGDT_Rule65</th>\n",
       "      <th>RGDT_Rule153</th>\n",
       "      <th>RGDT_Rule81</th>\n",
       "      <th>RGDT_Rule313</th>\n",
       "      <th>RGDT_Rule195</th>\n",
       "      <th>RGDT_Rule263</th>\n",
       "      <th>HighFraudTxnPerAccountNum</th>\n",
       "      <th>RGDT_Rule193</th>\n",
       "      <th>RGDT_Rule112</th>\n",
       "      <th>RGDT_Rule272</th>\n",
       "      <th>RGDT_Rule2</th>\n",
       "      <th>RGDT_Rule35</th>\n",
       "      <th>RGDT_Rule256</th>\n",
       "      <th>RGDT_Rule137</th>\n",
       "    </tr>\n",
       "    <tr>\n",
       "      <th>eid</th>\n",
       "      <th></th>\n",
       "      <th></th>\n",
       "      <th></th>\n",
       "      <th></th>\n",
       "      <th></th>\n",
       "      <th></th>\n",
       "      <th></th>\n",
       "      <th></th>\n",
       "      <th></th>\n",
       "      <th></th>\n",
       "      <th></th>\n",
       "      <th></th>\n",
       "      <th></th>\n",
       "      <th></th>\n",
       "      <th></th>\n",
       "      <th></th>\n",
       "      <th></th>\n",
       "      <th></th>\n",
       "      <th></th>\n",
       "    </tr>\n",
       "  </thead>\n",
       "  <tbody>\n",
       "    <tr>\n",
       "      <th>503-0182982-0226911</th>\n",
       "      <td>0</td>\n",
       "      <td>0</td>\n",
       "      <td>1</td>\n",
       "      <td>1</td>\n",
       "      <td>1</td>\n",
       "      <td>0</td>\n",
       "      <td>0</td>\n",
       "      <td>1</td>\n",
       "      <td>1</td>\n",
       "      <td>0</td>\n",
       "      <td>0</td>\n",
       "      <td>0</td>\n",
       "      <td>0</td>\n",
       "      <td>0</td>\n",
       "      <td>0</td>\n",
       "      <td>1</td>\n",
       "      <td>1</td>\n",
       "      <td>0</td>\n",
       "      <td>0</td>\n",
       "    </tr>\n",
       "    <tr>\n",
       "      <th>516-2441570-6696110</th>\n",
       "      <td>0</td>\n",
       "      <td>0</td>\n",
       "      <td>0</td>\n",
       "      <td>0</td>\n",
       "      <td>0</td>\n",
       "      <td>0</td>\n",
       "      <td>0</td>\n",
       "      <td>0</td>\n",
       "      <td>0</td>\n",
       "      <td>0</td>\n",
       "      <td>0</td>\n",
       "      <td>0</td>\n",
       "      <td>0</td>\n",
       "      <td>0</td>\n",
       "      <td>0</td>\n",
       "      <td>0</td>\n",
       "      <td>0</td>\n",
       "      <td>0</td>\n",
       "      <td>0</td>\n",
       "    </tr>\n",
       "    <tr>\n",
       "      <th>475-5982298-4197297</th>\n",
       "      <td>0</td>\n",
       "      <td>0</td>\n",
       "      <td>0</td>\n",
       "      <td>0</td>\n",
       "      <td>0</td>\n",
       "      <td>0</td>\n",
       "      <td>0</td>\n",
       "      <td>0</td>\n",
       "      <td>0</td>\n",
       "      <td>0</td>\n",
       "      <td>0</td>\n",
       "      <td>0</td>\n",
       "      <td>0</td>\n",
       "      <td>0</td>\n",
       "      <td>0</td>\n",
       "      <td>0</td>\n",
       "      <td>0</td>\n",
       "      <td>0</td>\n",
       "      <td>0</td>\n",
       "    </tr>\n",
       "    <tr>\n",
       "      <th>935-3613661-7862154</th>\n",
       "      <td>0</td>\n",
       "      <td>0</td>\n",
       "      <td>0</td>\n",
       "      <td>0</td>\n",
       "      <td>0</td>\n",
       "      <td>0</td>\n",
       "      <td>0</td>\n",
       "      <td>0</td>\n",
       "      <td>0</td>\n",
       "      <td>0</td>\n",
       "      <td>0</td>\n",
       "      <td>0</td>\n",
       "      <td>0</td>\n",
       "      <td>0</td>\n",
       "      <td>0</td>\n",
       "      <td>0</td>\n",
       "      <td>0</td>\n",
       "      <td>0</td>\n",
       "      <td>0</td>\n",
       "    </tr>\n",
       "    <tr>\n",
       "      <th>936-1684183-4550418</th>\n",
       "      <td>0</td>\n",
       "      <td>0</td>\n",
       "      <td>0</td>\n",
       "      <td>0</td>\n",
       "      <td>0</td>\n",
       "      <td>0</td>\n",
       "      <td>0</td>\n",
       "      <td>0</td>\n",
       "      <td>0</td>\n",
       "      <td>0</td>\n",
       "      <td>0</td>\n",
       "      <td>0</td>\n",
       "      <td>0</td>\n",
       "      <td>0</td>\n",
       "      <td>0</td>\n",
       "      <td>0</td>\n",
       "      <td>0</td>\n",
       "      <td>0</td>\n",
       "      <td>0</td>\n",
       "    </tr>\n",
       "  </tbody>\n",
       "</table>\n",
       "</div>"
      ],
      "text/plain": [
       "Rule                 ComplicatedRule  RGDT_Rule24  RGDT_Rule162  RGDT_Rule45  \\\n",
       "eid                                                                            \n",
       "503-0182982-0226911                0            0             1            1   \n",
       "516-2441570-6696110                0            0             0            0   \n",
       "475-5982298-4197297                0            0             0            0   \n",
       "935-3613661-7862154                0            0             0            0   \n",
       "936-1684183-4550418                0            0             0            0   \n",
       "\n",
       "Rule                 RGDT_Rule241  RGDT_Rule65  RGDT_Rule153  RGDT_Rule81  \\\n",
       "eid                                                                         \n",
       "503-0182982-0226911             1            0             0            1   \n",
       "516-2441570-6696110             0            0             0            0   \n",
       "475-5982298-4197297             0            0             0            0   \n",
       "935-3613661-7862154             0            0             0            0   \n",
       "936-1684183-4550418             0            0             0            0   \n",
       "\n",
       "Rule                 RGDT_Rule313  RGDT_Rule195  RGDT_Rule263  \\\n",
       "eid                                                             \n",
       "503-0182982-0226911             1             0             0   \n",
       "516-2441570-6696110             0             0             0   \n",
       "475-5982298-4197297             0             0             0   \n",
       "935-3613661-7862154             0             0             0   \n",
       "936-1684183-4550418             0             0             0   \n",
       "\n",
       "Rule                 HighFraudTxnPerAccountNum  RGDT_Rule193  RGDT_Rule112  \\\n",
       "eid                                                                          \n",
       "503-0182982-0226911                          0             0             0   \n",
       "516-2441570-6696110                          0             0             0   \n",
       "475-5982298-4197297                          0             0             0   \n",
       "935-3613661-7862154                          0             0             0   \n",
       "936-1684183-4550418                          0             0             0   \n",
       "\n",
       "Rule                 RGDT_Rule272  RGDT_Rule2  RGDT_Rule35  RGDT_Rule256  \\\n",
       "eid                                                                        \n",
       "503-0182982-0226911             0           1            1             0   \n",
       "516-2441570-6696110             0           0            0             0   \n",
       "475-5982298-4197297             0           0            0             0   \n",
       "935-3613661-7862154             0           0            0             0   \n",
       "936-1684183-4550418             0           0            0             0   \n",
       "\n",
       "Rule                 RGDT_Rule137  \n",
       "eid                                \n",
       "503-0182982-0226911             0  \n",
       "516-2441570-6696110             0  \n",
       "475-5982298-4197297             0  \n",
       "935-3613661-7862154             0  \n",
       "936-1684183-4550418             0  "
      ]
     },
     "execution_count": 11,
     "metadata": {},
     "output_type": "execute_result"
    }
   ],
   "source": [
    "X_rules.head()"
   ]
  },
  {
   "cell_type": "code",
   "execution_count": 12,
   "metadata": {},
   "outputs": [
    {
     "data": {
      "text/plain": [
       "{'RGDT_Rule137': \"((X['account_number_avg_order_total_per_account_number_7day']<=317.69)|(X['account_number_avg_order_total_per_account_number_7day'].isna()))&(X['account_number_num_fraud_transactions_per_account_number_1day']>=1.0)&(X['account_number_num_fraud_transactions_per_account_number_90day']>=1.0)&((X['account_number_sum_order_total_per_account_number_1day']<=782.375)|(X['account_number_sum_order_total_per_account_number_1day'].isna()))\",\n",
       " 'RGDT_Rule81': \"(X['account_number_avg_order_total_per_account_number_1day']>738.732981198933)&(X['account_number_num_fraud_transactions_per_account_number_lifetime']>=-4.163015047088265)&((X['account_number_num_order_items_per_account_number_30day']<=6.128187007270753)|(X['account_number_num_order_items_per_account_number_30day'].isna()))&((X['account_number_sum_order_total_per_account_number_1day']<=1373.4543524413368)|(X['account_number_sum_order_total_per_account_number_1day'].isna()))\",\n",
       " 'HighFraudTxnPerAccountNum': \"(X['account_number_num_fraud_transactions_per_account_number_1day']>=1.75)\",\n",
       " 'RGDT_Rule256': \"(X['account_number_num_fraud_transactions_per_account_number_1day']>=1.0)&((X['account_number_sum_order_total_per_account_number_90day']<=950.89999)|(X['account_number_sum_order_total_per_account_number_90day'].isna()))&(X['is_billing_shipping_city_same']==False)\",\n",
       " 'RGDT_Rule35': \"(X['account_number_num_fraud_transactions_per_account_number_7day']>=1.0)&(X['account_number_num_fraud_transactions_per_account_number_lifetime']>=1.0)&((X['account_number_num_order_items_per_account_number_lifetime']<=5.0)|(X['account_number_num_order_items_per_account_number_lifetime'].isna()))&(X['is_existing_user']==True)\",\n",
       " 'RGDT_Rule193': \"(X['account_number_num_distinct_transaction_per_account_number_30day']>=2.0)&(X['account_number_num_fraud_transactions_per_account_number_lifetime']>=2.0)\",\n",
       " 'RGDT_Rule241': \"(X['account_number_avg_order_total_per_account_number_90day']>372.08092163085934)&(X['account_number_num_fraud_transactions_per_account_number_1day']>=0.48236083984375)&((X['account_number_sum_order_total_per_account_number_1day']<=1675.1407470703125)|(X['account_number_sum_order_total_per_account_number_1day'].isna()))&(X['account_number_sum_order_total_per_account_number_30day']>279.26189575195326)\",\n",
       " 'RGDT_Rule263': \"(X['account_number_num_fraud_transactions_per_account_number_30day']>=1.8207588855320864)&((X['account_number_sum_order_total_per_account_number_1day']<=3132.383938328854)|(X['account_number_sum_order_total_per_account_number_1day'].isna()))&(X['account_number_sum_order_total_per_account_number_7day']>-1254.7089763169802)&((X['account_number_sum_order_total_per_account_number_90day']<=3722.8056488471575)|(X['account_number_sum_order_total_per_account_number_90day'].isna()))\",\n",
       " 'RGDT_Rule313': \"(X['account_number_num_fraud_transactions_per_account_number_1day']>=-0.8894707830305035)&(X['account_number_sum_order_total_per_account_number_30day']>112.08837892750427)&(X['account_number_sum_order_total_per_account_number_90day']>724.723801522922)&(X['is_existing_user']==True)\",\n",
       " 'RGDT_Rule195': \"(X['account_number_num_fraud_transactions_per_account_number_1day']>=0.2994370311498642)&(X['account_number_num_fraud_transactions_per_account_number_30day']>=0.05196182429790497)&(X['account_number_num_fraud_transactions_per_account_number_lifetime']>=1.2668327540159225)&(X['account_number_num_order_items_per_account_number_7day']>=-6.78845040500164)\",\n",
       " 'RGDT_Rule153': \"(X['account_number_avg_order_total_per_account_number_90day']>189.93562499999996)&(X['account_number_num_fraud_transactions_per_account_number_1day']>=0.65625)&(X['account_number_num_order_items_per_account_number_lifetime']>=1.40625)&((X['order_total']<=762.8675000000001)|(X['order_total'].isna()))\",\n",
       " 'RGDT_Rule112': \"(X['account_number_num_distinct_transaction_per_account_number_90day']>=2.0)&(X['account_number_num_fraud_transactions_per_account_number_30day']>=1.0)&(X['account_number_num_fraud_transactions_per_account_number_lifetime']>=2.0)&((X['account_number_num_order_items_per_account_number_90day']<=3.0)|(X['account_number_num_order_items_per_account_number_90day'].isna()))\",\n",
       " 'RGDT_Rule2': \"((X['account_number_num_distinct_transaction_per_account_number_1day']<=2.0)|(X['account_number_num_distinct_transaction_per_account_number_1day'].isna()))&(X['account_number_num_fraud_transactions_per_account_number_7day']>=1.0)&((X['account_number_num_fraud_transactions_per_account_number_lifetime']<=1.0)|(X['account_number_num_fraud_transactions_per_account_number_lifetime'].isna()))&(X['is_existing_user']==True)\",\n",
       " 'RGDT_Rule65': \"(X['account_number_num_fraud_transactions_per_account_number_1day']>=-0.49147483710562434)&((X['account_number_sum_order_total_per_account_number_1day']<=774.8033227237656)|(X['account_number_sum_order_total_per_account_number_1day'].isna()))&(X['account_number_sum_order_total_per_account_number_30day']>269.9496511702673)&(X['is_billing_shipping_city_same']==False)\",\n",
       " 'RGDT_Rule45': \"((X['account_number_avg_order_total_per_account_number_1day']<=1047.655216027734)|(X['account_number_avg_order_total_per_account_number_1day'].isna()))&(X['account_number_num_fraud_transactions_per_account_number_90day']>=0.8532665608288262)&(X['account_number_num_fraud_transactions_per_account_number_lifetime']>=0.7877466345736625)&(X['account_number_sum_order_total_per_account_number_90day']>507.2614665028917)\",\n",
       " 'RGDT_Rule162': \"(X['account_number_num_fraud_transactions_per_account_number_90day']>=0.5539376096811541)&(X['num_order_items']>=-0.520029032429635)&(X['order_total']>419.57446715300784)\",\n",
       " 'RGDT_Rule272': \"((X['account_number_avg_order_total_per_account_number_90day']<=5.5)|(X['account_number_avg_order_total_per_account_number_90day'].isna()))&(X['account_number_num_distinct_transaction_per_account_number_30day']>=2.0)&(X['account_number_num_fraud_transactions_per_account_number_30day']>=1.0)&(X['account_number_num_fraud_transactions_per_account_number_lifetime']>=2.0)\",\n",
       " 'RGDT_Rule24': \"(X['account_number_avg_order_total_per_account_number_90day']>-99.96428798675537)&(X['account_number_num_fraud_transactions_per_account_number_lifetime']>=0.6391334533691406)&((X['account_number_num_order_items_per_account_number_lifetime']<=13.066034317016602)|(X['account_number_num_order_items_per_account_number_lifetime'].isna()))&((X['account_number_sum_order_total_per_account_number_7day']<=210.42206211090092)|(X['account_number_sum_order_total_per_account_number_7day'].isna()))\",\n",
       " 'ComplicatedRule': \"(X['num_order_items']>2.7158826779454355)&(((X['order_total']>589.7197587067517)&(X['is_existing_user']==True))|((X['order_total']>403.7855943263223)&(X['is_existing_user']==False))|(X['billing_city'].str.startswith('B', na=False)))\"}"
      ]
     },
     "execution_count": 12,
     "metadata": {},
     "output_type": "execute_result"
    }
   ],
   "source": [
    "ro.rule_strings"
   ]
  },
  {
   "cell_type": "code",
   "execution_count": 13,
   "metadata": {},
   "outputs": [
    {
     "data": {
      "text/html": [
       "<div>\n",
       "<style scoped>\n",
       "    .dataframe tbody tr th:only-of-type {\n",
       "        vertical-align: middle;\n",
       "    }\n",
       "\n",
       "    .dataframe tbody tr th {\n",
       "        vertical-align: top;\n",
       "    }\n",
       "\n",
       "    .dataframe thead th {\n",
       "        text-align: right;\n",
       "    }\n",
       "</style>\n",
       "<table border=\"1\" class=\"dataframe\">\n",
       "  <thead>\n",
       "    <tr style=\"text-align: right;\">\n",
       "      <th></th>\n",
       "      <th>PercDataFlagged</th>\n",
       "      <th>OptMetric</th>\n",
       "      <th>Logic</th>\n",
       "      <th>nConditions</th>\n",
       "    </tr>\n",
       "    <tr>\n",
       "      <th>Rule</th>\n",
       "      <th></th>\n",
       "      <th></th>\n",
       "      <th></th>\n",
       "      <th></th>\n",
       "    </tr>\n",
       "  </thead>\n",
       "  <tbody>\n",
       "    <tr>\n",
       "      <th>ComplicatedRule</th>\n",
       "      <td>0.011244</td>\n",
       "      <td>-0.0</td>\n",
       "      <td>(X['num_order_items']&gt;2.7158826779454355)&amp;(((X...</td>\n",
       "      <td>6</td>\n",
       "    </tr>\n",
       "    <tr>\n",
       "      <th>RGDT_Rule24</th>\n",
       "      <td>0.011244</td>\n",
       "      <td>-0.0</td>\n",
       "      <td>(X['account_number_avg_order_total_per_account...</td>\n",
       "      <td>6</td>\n",
       "    </tr>\n",
       "    <tr>\n",
       "      <th>RGDT_Rule162</th>\n",
       "      <td>0.011244</td>\n",
       "      <td>-0.0</td>\n",
       "      <td>(X['account_number_num_fraud_transactions_per_...</td>\n",
       "      <td>3</td>\n",
       "    </tr>\n",
       "    <tr>\n",
       "      <th>RGDT_Rule45</th>\n",
       "      <td>0.011244</td>\n",
       "      <td>-0.0</td>\n",
       "      <td>((X['account_number_avg_order_total_per_accoun...</td>\n",
       "      <td>5</td>\n",
       "    </tr>\n",
       "    <tr>\n",
       "      <th>RGDT_Rule241</th>\n",
       "      <td>0.011244</td>\n",
       "      <td>-0.0</td>\n",
       "      <td>(X['account_number_avg_order_total_per_account...</td>\n",
       "      <td>5</td>\n",
       "    </tr>\n",
       "  </tbody>\n",
       "</table>\n",
       "</div>"
      ],
      "text/plain": [
       "                 PercDataFlagged  OptMetric  \\\n",
       "Rule                                          \n",
       "ComplicatedRule         0.011244       -0.0   \n",
       "RGDT_Rule24             0.011244       -0.0   \n",
       "RGDT_Rule162            0.011244       -0.0   \n",
       "RGDT_Rule45             0.011244       -0.0   \n",
       "RGDT_Rule241            0.011244       -0.0   \n",
       "\n",
       "                                                             Logic  \\\n",
       "Rule                                                                 \n",
       "ComplicatedRule  (X['num_order_items']>2.7158826779454355)&(((X...   \n",
       "RGDT_Rule24      (X['account_number_avg_order_total_per_account...   \n",
       "RGDT_Rule162     (X['account_number_num_fraud_transactions_per_...   \n",
       "RGDT_Rule45      ((X['account_number_avg_order_total_per_accoun...   \n",
       "RGDT_Rule241     (X['account_number_avg_order_total_per_account...   \n",
       "\n",
       "                 nConditions  \n",
       "Rule                          \n",
       "ComplicatedRule            6  \n",
       "RGDT_Rule24                6  \n",
       "RGDT_Rule162               3  \n",
       "RGDT_Rule45                5  \n",
       "RGDT_Rule241               5  "
      ]
     },
     "execution_count": 13,
     "metadata": {},
     "output_type": "execute_result"
    }
   ],
   "source": [
    "ro.rule_descriptions.head()"
   ]
  },
  {
   "cell_type": "code",
   "execution_count": 14,
   "metadata": {},
   "outputs": [
    {
     "data": {
      "text/plain": [
       "{'ComplicatedRule': -0.0,\n",
       " 'RGDT_Rule24': -0.0,\n",
       " 'RGDT_Rule162': -0.0,\n",
       " 'RGDT_Rule45': -0.0,\n",
       " 'RGDT_Rule241': -0.0,\n",
       " 'RGDT_Rule65': -0.009999999999999929,\n",
       " 'RGDT_Rule153': -0.009999999999999929,\n",
       " 'RGDT_Rule81': -0.039999999999999716,\n",
       " 'RGDT_Rule313': -0.6400000000000011,\n",
       " 'RGDT_Rule195': -25.0,\n",
       " 'RGDT_Rule263': -30.25,\n",
       " 'HighFraudTxnPerAccountNum': -57.76,\n",
       " 'RGDT_Rule193': -25.0,\n",
       " 'RGDT_Rule112': -67.24,\n",
       " 'RGDT_Rule272': -84.63999999999999,\n",
       " 'RGDT_Rule2': -70.56,\n",
       " 'RGDT_Rule35': -24.010000000000005,\n",
       " 'RGDT_Rule256': -13.690000000000001,\n",
       " 'RGDT_Rule137': -6.759999999999998}"
      ]
     },
     "execution_count": 14,
     "metadata": {},
     "output_type": "execute_result"
    }
   ],
   "source": [
    "ro.opt_rule_performances"
   ]
  },
  {
   "cell_type": "markdown",
   "metadata": {},
   "source": [
    "---"
   ]
  },
  {
   "cell_type": "markdown",
   "metadata": {},
   "source": [
    "## Apply rules to a separate dataset"
   ]
  },
  {
   "cell_type": "markdown",
   "metadata": {},
   "source": [
    "Use the *.apply()* method to apply the optimised rules to a separate dataset:"
   ]
  },
  {
   "cell_type": "code",
   "execution_count": 15,
   "metadata": {},
   "outputs": [],
   "source": [
    "X_rules_applied = ro.apply(X=X_test)"
   ]
  },
  {
   "cell_type": "markdown",
   "metadata": {},
   "source": [
    "### Outputs"
   ]
  },
  {
   "cell_type": "markdown",
   "metadata": {},
   "source": [
    "The *.apply()* method returns a dataframe giving the binary columns of the rules as applied to the given dataset.\n",
    "\n",
    "A useful attribute created by running the *.apply()* method is:\n",
    "\n",
    "* rule_descriptions: A dataframe showing the logic of the optimised rules and their performance metrics as applied to the given dataset."
   ]
  },
  {
   "cell_type": "code",
   "execution_count": 16,
   "metadata": {},
   "outputs": [
    {
     "data": {
      "text/html": [
       "<div>\n",
       "<style scoped>\n",
       "    .dataframe tbody tr th:only-of-type {\n",
       "        vertical-align: middle;\n",
       "    }\n",
       "\n",
       "    .dataframe tbody tr th {\n",
       "        vertical-align: top;\n",
       "    }\n",
       "\n",
       "    .dataframe thead th {\n",
       "        text-align: right;\n",
       "    }\n",
       "</style>\n",
       "<table border=\"1\" class=\"dataframe\">\n",
       "  <thead>\n",
       "    <tr style=\"text-align: right;\">\n",
       "      <th></th>\n",
       "      <th>PercDataFlagged</th>\n",
       "      <th>OptMetric</th>\n",
       "      <th>Logic</th>\n",
       "      <th>nConditions</th>\n",
       "    </tr>\n",
       "    <tr>\n",
       "      <th>Rule</th>\n",
       "      <th></th>\n",
       "      <th></th>\n",
       "      <th></th>\n",
       "      <th></th>\n",
       "    </tr>\n",
       "  </thead>\n",
       "  <tbody>\n",
       "    <tr>\n",
       "      <th>RGDT_Rule137</th>\n",
       "      <td>0.014833</td>\n",
       "      <td>-12.25</td>\n",
       "      <td>((X['account_number_avg_order_total_per_accoun...</td>\n",
       "      <td>6</td>\n",
       "    </tr>\n",
       "    <tr>\n",
       "      <th>RGDT_Rule313</th>\n",
       "      <td>0.012551</td>\n",
       "      <td>-20.25</td>\n",
       "      <td>(X['account_number_num_fraud_transactions_per_...</td>\n",
       "      <td>4</td>\n",
       "    </tr>\n",
       "    <tr>\n",
       "      <th>RGDT_Rule153</th>\n",
       "      <td>0.012323</td>\n",
       "      <td>-21.16</td>\n",
       "      <td>(X['account_number_avg_order_total_per_account...</td>\n",
       "      <td>5</td>\n",
       "    </tr>\n",
       "    <tr>\n",
       "      <th>RGDT_Rule65</th>\n",
       "      <td>0.011639</td>\n",
       "      <td>-24.01</td>\n",
       "      <td>(X['account_number_num_fraud_transactions_per_...</td>\n",
       "      <td>5</td>\n",
       "    </tr>\n",
       "    <tr>\n",
       "      <th>RGDT_Rule81</th>\n",
       "      <td>0.011410</td>\n",
       "      <td>-25.00</td>\n",
       "      <td>(X['account_number_avg_order_total_per_account...</td>\n",
       "      <td>6</td>\n",
       "    </tr>\n",
       "  </tbody>\n",
       "</table>\n",
       "</div>"
      ],
      "text/plain": [
       "              PercDataFlagged  OptMetric  \\\n",
       "Rule                                       \n",
       "RGDT_Rule137         0.014833     -12.25   \n",
       "RGDT_Rule313         0.012551     -20.25   \n",
       "RGDT_Rule153         0.012323     -21.16   \n",
       "RGDT_Rule65          0.011639     -24.01   \n",
       "RGDT_Rule81          0.011410     -25.00   \n",
       "\n",
       "                                                          Logic  nConditions  \n",
       "Rule                                                                          \n",
       "RGDT_Rule137  ((X['account_number_avg_order_total_per_accoun...            6  \n",
       "RGDT_Rule313  (X['account_number_num_fraud_transactions_per_...            4  \n",
       "RGDT_Rule153  (X['account_number_avg_order_total_per_account...            5  \n",
       "RGDT_Rule65   (X['account_number_num_fraud_transactions_per_...            5  \n",
       "RGDT_Rule81   (X['account_number_avg_order_total_per_account...            6  "
      ]
     },
     "execution_count": 16,
     "metadata": {},
     "output_type": "execute_result"
    }
   ],
   "source": [
    "ro.rule_descriptions.head()"
   ]
  },
  {
   "cell_type": "code",
   "execution_count": 17,
   "metadata": {},
   "outputs": [
    {
     "data": {
      "text/html": [
       "<div>\n",
       "<style scoped>\n",
       "    .dataframe tbody tr th:only-of-type {\n",
       "        vertical-align: middle;\n",
       "    }\n",
       "\n",
       "    .dataframe tbody tr th {\n",
       "        vertical-align: top;\n",
       "    }\n",
       "\n",
       "    .dataframe thead th {\n",
       "        text-align: right;\n",
       "    }\n",
       "</style>\n",
       "<table border=\"1\" class=\"dataframe\">\n",
       "  <thead>\n",
       "    <tr style=\"text-align: right;\">\n",
       "      <th>Rule</th>\n",
       "      <th>RGDT_Rule137</th>\n",
       "      <th>RGDT_Rule313</th>\n",
       "      <th>RGDT_Rule153</th>\n",
       "      <th>RGDT_Rule65</th>\n",
       "      <th>RGDT_Rule81</th>\n",
       "      <th>RGDT_Rule24</th>\n",
       "      <th>RGDT_Rule45</th>\n",
       "      <th>RGDT_Rule241</th>\n",
       "      <th>RGDT_Rule162</th>\n",
       "      <th>ComplicatedRule</th>\n",
       "      <th>RGDT_Rule256</th>\n",
       "      <th>RGDT_Rule35</th>\n",
       "      <th>RGDT_Rule263</th>\n",
       "      <th>RGDT_Rule193</th>\n",
       "      <th>RGDT_Rule195</th>\n",
       "      <th>RGDT_Rule2</th>\n",
       "      <th>HighFraudTxnPerAccountNum</th>\n",
       "      <th>RGDT_Rule112</th>\n",
       "      <th>RGDT_Rule272</th>\n",
       "    </tr>\n",
       "    <tr>\n",
       "      <th>eid</th>\n",
       "      <th></th>\n",
       "      <th></th>\n",
       "      <th></th>\n",
       "      <th></th>\n",
       "      <th></th>\n",
       "      <th></th>\n",
       "      <th></th>\n",
       "      <th></th>\n",
       "      <th></th>\n",
       "      <th></th>\n",
       "      <th></th>\n",
       "      <th></th>\n",
       "      <th></th>\n",
       "      <th></th>\n",
       "      <th></th>\n",
       "      <th></th>\n",
       "      <th></th>\n",
       "      <th></th>\n",
       "      <th></th>\n",
       "    </tr>\n",
       "  </thead>\n",
       "  <tbody>\n",
       "    <tr>\n",
       "      <th>533-3553708-0918604</th>\n",
       "      <td>0</td>\n",
       "      <td>0</td>\n",
       "      <td>0</td>\n",
       "      <td>0</td>\n",
       "      <td>0</td>\n",
       "      <td>0</td>\n",
       "      <td>0</td>\n",
       "      <td>0</td>\n",
       "      <td>0</td>\n",
       "      <td>0</td>\n",
       "      <td>0</td>\n",
       "      <td>0</td>\n",
       "      <td>0</td>\n",
       "      <td>0</td>\n",
       "      <td>0</td>\n",
       "      <td>0</td>\n",
       "      <td>0</td>\n",
       "      <td>0</td>\n",
       "      <td>0</td>\n",
       "    </tr>\n",
       "    <tr>\n",
       "      <th>455-3498977-3144749</th>\n",
       "      <td>0</td>\n",
       "      <td>0</td>\n",
       "      <td>0</td>\n",
       "      <td>0</td>\n",
       "      <td>0</td>\n",
       "      <td>0</td>\n",
       "      <td>0</td>\n",
       "      <td>0</td>\n",
       "      <td>0</td>\n",
       "      <td>0</td>\n",
       "      <td>0</td>\n",
       "      <td>0</td>\n",
       "      <td>0</td>\n",
       "      <td>0</td>\n",
       "      <td>0</td>\n",
       "      <td>0</td>\n",
       "      <td>0</td>\n",
       "      <td>0</td>\n",
       "      <td>0</td>\n",
       "    </tr>\n",
       "    <tr>\n",
       "      <th>585-6596459-3918216</th>\n",
       "      <td>0</td>\n",
       "      <td>0</td>\n",
       "      <td>0</td>\n",
       "      <td>0</td>\n",
       "      <td>0</td>\n",
       "      <td>0</td>\n",
       "      <td>0</td>\n",
       "      <td>0</td>\n",
       "      <td>0</td>\n",
       "      <td>0</td>\n",
       "      <td>0</td>\n",
       "      <td>0</td>\n",
       "      <td>0</td>\n",
       "      <td>0</td>\n",
       "      <td>0</td>\n",
       "      <td>0</td>\n",
       "      <td>0</td>\n",
       "      <td>0</td>\n",
       "      <td>0</td>\n",
       "    </tr>\n",
       "    <tr>\n",
       "      <th>685-6642742-5806657</th>\n",
       "      <td>0</td>\n",
       "      <td>0</td>\n",
       "      <td>0</td>\n",
       "      <td>0</td>\n",
       "      <td>0</td>\n",
       "      <td>0</td>\n",
       "      <td>0</td>\n",
       "      <td>0</td>\n",
       "      <td>0</td>\n",
       "      <td>0</td>\n",
       "      <td>0</td>\n",
       "      <td>0</td>\n",
       "      <td>0</td>\n",
       "      <td>0</td>\n",
       "      <td>0</td>\n",
       "      <td>0</td>\n",
       "      <td>0</td>\n",
       "      <td>0</td>\n",
       "      <td>0</td>\n",
       "    </tr>\n",
       "    <tr>\n",
       "      <th>956-2823525-9957253</th>\n",
       "      <td>0</td>\n",
       "      <td>0</td>\n",
       "      <td>0</td>\n",
       "      <td>0</td>\n",
       "      <td>0</td>\n",
       "      <td>0</td>\n",
       "      <td>0</td>\n",
       "      <td>0</td>\n",
       "      <td>0</td>\n",
       "      <td>0</td>\n",
       "      <td>0</td>\n",
       "      <td>0</td>\n",
       "      <td>0</td>\n",
       "      <td>0</td>\n",
       "      <td>0</td>\n",
       "      <td>0</td>\n",
       "      <td>0</td>\n",
       "      <td>0</td>\n",
       "      <td>0</td>\n",
       "    </tr>\n",
       "  </tbody>\n",
       "</table>\n",
       "</div>"
      ],
      "text/plain": [
       "Rule                 RGDT_Rule137  RGDT_Rule313  RGDT_Rule153  RGDT_Rule65  \\\n",
       "eid                                                                          \n",
       "533-3553708-0918604             0             0             0            0   \n",
       "455-3498977-3144749             0             0             0            0   \n",
       "585-6596459-3918216             0             0             0            0   \n",
       "685-6642742-5806657             0             0             0            0   \n",
       "956-2823525-9957253             0             0             0            0   \n",
       "\n",
       "Rule                 RGDT_Rule81  RGDT_Rule24  RGDT_Rule45  RGDT_Rule241  \\\n",
       "eid                                                                        \n",
       "533-3553708-0918604            0            0            0             0   \n",
       "455-3498977-3144749            0            0            0             0   \n",
       "585-6596459-3918216            0            0            0             0   \n",
       "685-6642742-5806657            0            0            0             0   \n",
       "956-2823525-9957253            0            0            0             0   \n",
       "\n",
       "Rule                 RGDT_Rule162  ComplicatedRule  RGDT_Rule256  RGDT_Rule35  \\\n",
       "eid                                                                             \n",
       "533-3553708-0918604             0                0             0            0   \n",
       "455-3498977-3144749             0                0             0            0   \n",
       "585-6596459-3918216             0                0             0            0   \n",
       "685-6642742-5806657             0                0             0            0   \n",
       "956-2823525-9957253             0                0             0            0   \n",
       "\n",
       "Rule                 RGDT_Rule263  RGDT_Rule193  RGDT_Rule195  RGDT_Rule2  \\\n",
       "eid                                                                         \n",
       "533-3553708-0918604             0             0             0           0   \n",
       "455-3498977-3144749             0             0             0           0   \n",
       "585-6596459-3918216             0             0             0           0   \n",
       "685-6642742-5806657             0             0             0           0   \n",
       "956-2823525-9957253             0             0             0           0   \n",
       "\n",
       "Rule                 HighFraudTxnPerAccountNum  RGDT_Rule112  RGDT_Rule272  \n",
       "eid                                                                         \n",
       "533-3553708-0918604                          0             0             0  \n",
       "455-3498977-3144749                          0             0             0  \n",
       "585-6596459-3918216                          0             0             0  \n",
       "685-6642742-5806657                          0             0             0  \n",
       "956-2823525-9957253                          0             0             0  "
      ]
     },
     "execution_count": 17,
     "metadata": {},
     "output_type": "execute_result"
    }
   ],
   "source": [
    "X_rules_applied.head()"
   ]
  },
  {
   "cell_type": "markdown",
   "metadata": {},
   "source": [
    "---"
   ]
  },
  {
   "cell_type": "markdown",
   "metadata": {},
   "source": [
    "## Plotting the performance uplift"
   ]
  },
  {
   "cell_type": "markdown",
   "metadata": {},
   "source": [
    "We can visualise the performance uplift of the optimised rules using the *.plot_performance_uplift()* and *.plot_performance_uplift_distribution()* methods:\n",
    "\n",
    "* *.plot_performance_uplift()*: Generates a scatterplot showing the performance of each rule before and after optimisation.\n",
    "* *.plot_performance_uplift_distribution()*: Generates a boxplot showing the distribution of performance uplifts (original rules vs optimised rules)."
   ]
  },
  {
   "cell_type": "markdown",
   "metadata": {},
   "source": [
    "### On the training set"
   ]
  },
  {
   "cell_type": "markdown",
   "metadata": {},
   "source": [
    "To visualise the uplift on the training set, we can use the class attributes *orig_rule_performances* and *opt_rule_performances* in the plotting methods, as these were generated as part of the optimisation process:"
   ]
  },
  {
   "cell_type": "code",
   "execution_count": 18,
   "metadata": {},
   "outputs": [
    {
     "data": {
      "image/png": "[encoded data removed]",
      "text/plain": [
       "<Figure size 720x360 with 1 Axes>"
      ]
     },
     "metadata": {},
     "output_type": "display_data"
    }
   ],
   "source": [
    "ro.plot_performance_uplift(\n",
    "    orig_rule_performances=ro.orig_rule_performances,\n",
    "    opt_rule_performances=ro.opt_rule_performances,\n",
    "    figsize=(10, 5)\n",
    ")"
   ]
  },
  {
   "cell_type": "code",
   "execution_count": 19,
   "metadata": {},
   "outputs": [
    {
     "data": {
      "image/png": "[encoded data removed]",
      "text/plain": [
       "<Figure size 216x504 with 1 Axes>"
      ]
     },
     "metadata": {},
     "output_type": "display_data"
    }
   ],
   "source": [
    "ro.plot_performance_uplift_distribution(\n",
    "    orig_rule_performances=ro.orig_rule_performances,\n",
    "    opt_rule_performances=ro.opt_rule_performances,\n",
    "    figsize=(3, 7)\n",
    ")"
   ]
  },
  {
   "cell_type": "markdown",
   "metadata": {},
   "source": [
    "### On the test set"
   ]
  },
  {
   "cell_type": "markdown",
   "metadata": {},
   "source": [
    "To visualise the uplift on the test set, we first need to generate the *orig_rule_performances* and *opt_rule_performances* parameters used in the plotting methods as these aren't created as part of the optimisation process. To do this, we need to apply both the original rules and the optimised rules to the test set. **Note that before we apply the original rules, we need to remove those that either have no optimisable conditions, have zero variance features or have features that are missing in *X_train*:**"
   ]
  },
  {
   "cell_type": "code",
   "execution_count": 20,
   "metadata": {},
   "outputs": [],
   "source": [
    "# Original rules\n",
    "rules_to_exclude = ro.rule_names_missing_features + ro.rule_names_no_opt_conditions + ro.rule_names_zero_var_features\n",
    "rules.filter_rules(exclude=rules_to_exclude)\n",
    "orig_sys_rule_strings = rules.as_rule_strings(as_numpy=False)\n",
    "orig_ra = RuleApplier(\n",
    "    rule_strings=orig_sys_rule_strings, \n",
    "    opt_func=apd.fit\n",
    ")\n",
    "_ = orig_ra.apply(X=X_test)\n",
    "orig_rule_performances_test = orig_ra.rule_descriptions['OptMetric']"
   ]
  },
  {
   "cell_type": "code",
   "execution_count": 21,
   "metadata": {},
   "outputs": [],
   "source": [
    "# Optimised rules\n",
    "_ = ro.apply(X=X_test)\n",
    "opt_rule_performances_test = ro.rule_descriptions['OptMetric']"
   ]
  },
  {
   "cell_type": "code",
   "execution_count": 22,
   "metadata": {},
   "outputs": [
    {
     "data": {
      "image/png": "[encoded data removed]",
      "text/plain": [
       "<Figure size 720x360 with 1 Axes>"
      ]
     },
     "metadata": {},
     "output_type": "display_data"
    }
   ],
   "source": [
    "ro.plot_performance_uplift(\n",
    "    orig_rule_performances=orig_rule_performances_test,\n",
    "    opt_rule_performances=opt_rule_performances_test,\n",
    "    figsize=(10, 5)\n",
    ")"
   ]
  },
  {
   "cell_type": "code",
   "execution_count": 23,
   "metadata": {},
   "outputs": [
    {
     "data": {
      "image/png": "[encoded data removed]",
      "text/plain": [
       "<Figure size 216x504 with 1 Axes>"
      ]
     },
     "metadata": {},
     "output_type": "display_data"
    }
   ],
   "source": [
    "ro.plot_performance_uplift_distribution(\n",
    "    orig_rule_performances=orig_rule_performances_test,\n",
    "    opt_rule_performances=opt_rule_performances_test,\n",
    "    figsize=(3, 7)\n",
    ")"
   ]
  },
  {
   "cell_type": "markdown",
   "metadata": {},
   "source": [
    "----"
   ]
  }
 ],
 "metadata": {
  "kernelspec": {
   "display_name": "iguanas_os_dev",
   "language": "python",
   "name": "iguanas_os_dev"
  },
  "language_info": {
   "codemirror_mode": {
    "name": "ipython",
    "version": 3
   },
   "file_extension": ".py",
   "mimetype": "text/x-python",
   "name": "python",
   "nbconvert_exporter": "python",
   "pygments_lexer": "ipython3",
   "version": "3.8.9"
  }
 },
 "nbformat": 4,
 "nbformat_minor": 4
}
