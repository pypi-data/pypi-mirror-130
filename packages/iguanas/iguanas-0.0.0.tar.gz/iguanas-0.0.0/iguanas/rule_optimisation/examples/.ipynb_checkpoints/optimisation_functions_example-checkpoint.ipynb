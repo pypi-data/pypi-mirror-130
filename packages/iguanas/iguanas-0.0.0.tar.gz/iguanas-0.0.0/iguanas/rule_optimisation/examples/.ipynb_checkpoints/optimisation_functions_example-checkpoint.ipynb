{
 "cells": [
  {
   "cell_type": "markdown",
   "metadata": {},
   "source": [
    "# Optimisation Functions Example"
   ]
  },
  {
   "cell_type": "markdown",
   "metadata": {},
   "source": [
    "This notebook contains an example of how optimisation functions can be applied to a dataset, how they can be used in other Iguanas modules and how to create your own."
   ]
  },
  {
   "cell_type": "markdown",
   "metadata": {},
   "source": [
    "## Requirements"
   ]
  },
  {
   "cell_type": "markdown",
   "metadata": {},
   "source": [
    "To run, you'll need the following:\n",
    "\n",
    "* A dataset containing binary predictor columns and a binary target column."
   ]
  },
  {
   "cell_type": "markdown",
   "metadata": {},
   "source": [
    "----"
   ]
  },
  {
   "cell_type": "markdown",
   "metadata": {},
   "source": [
    "## Import packages"
   ]
  },
  {
   "cell_type": "code",
   "execution_count": 2,
   "metadata": {},
   "outputs": [],
   "source": [
    "from iguanas.rule_optimisation.optimisation_functions import Precision, Recall, FScore, Revenue, AlertsPerDay, \\\n",
    "PercVolume\n",
    "\n",
    "import pandas as pd\n",
    "import numpy as np\n",
    "import databricks.koalas as ks\n",
    "from typing import Union"
   ]
  },
  {
   "cell_type": "markdown",
   "metadata": {},
   "source": [
    "## Create data"
   ]
  },
  {
   "cell_type": "markdown",
   "metadata": {},
   "source": [
    "Let's create some dummy predictor columns and a binary target column. For this example, let's assume the dummy predictor columns represent rules that have been applied to a dataset."
   ]
  },
  {
   "cell_type": "code",
   "execution_count": 3,
   "metadata": {},
   "outputs": [
    {
     "name": "stderr",
     "output_type": "stream",
     "text": [
      "21/11/23 17:55:58 WARN NativeCodeLoader: Unable to load native-hadoop library for your platform... using builtin-java classes where applicable\n",
      "Using Spark's default log4j profile: org/apache/spark/log4j-defaults.properties\n",
      "Setting default log level to \"WARN\".\n",
      "To adjust logging level use sc.setLogLevel(newLevel). For SparkR, use setLogLevel(newLevel).\n",
      "21/11/23 17:55:59 WARN Utils: Service 'SparkUI' could not bind on port 4040. Attempting port 4041.\n",
      "21/11/23 17:55:59 WARN Utils: Service 'SparkUI' could not bind on port 4041. Attempting port 4042.\n"
     ]
    }
   ],
   "source": [
    "np.random.seed(0)\n",
    "\n",
    "y_pred = pd.Series(np.random.randint(0, 2, 1000), name = 'A')\n",
    "y_preds = pd.DataFrame(np.random.randint(0, 2, (1000, 5)), columns=[i for i in 'ABCDE'])\n",
    "y = pd.Series(np.random.randint(0, 2, 1000), name = 'label')\n",
    "amounts = pd.Series(np.random.randint(0, 1000, 1000), name = 'amounts')\n",
    "\n",
    "y_pred_ks = ks.from_pandas(y_pred)\n",
    "y_preds_ks = ks.from_pandas(y_preds)\n",
    "y_ks = ks.from_pandas(y)\n",
    "amounts_ks = ks.from_pandas(amounts)"
   ]
  },
  {
   "cell_type": "markdown",
   "metadata": {},
   "source": [
    "----"
   ]
  },
  {
   "cell_type": "markdown",
   "metadata": {},
   "source": [
    "## Apply optimisation functions"
   ]
  },
  {
   "cell_type": "markdown",
   "metadata": {},
   "source": [
    "The example applies four supervised optimisation functions and two unsupervised optimisation function:\n",
    "\n",
    "**Supervised optimisation functions**\n",
    "\n",
    "* Precision score\n",
    "* Recall score\n",
    "* Fbeta score\n",
    "* Revenue\n",
    "\n",
    "**Unsupervised optimisation functions**\n",
    "\n",
    "* Alerts per day (calculates the negative squared difference between the daily number of records a rule flags vs the targetted daily number of records flagged)\n",
    "* Percentage of volume (calculates the negative squared difference between the percentage of the overall volume that the rule flags vs the targetted percentage of volume flagged)\n",
    "\n",
    "**Note that the *FScore*, *Precision* or *Recall* classes are ~100 times faster on larger datasets compared to the same functions from Sklearn's *metrics* module. They also work with Koalas DataFrames, whereas the Sklearn functions do not.**"
   ]
  },
  {
   "cell_type": "markdown",
   "metadata": {},
   "source": [
    "### Instantiate class and run fit method"
   ]
  },
  {
   "cell_type": "markdown",
   "metadata": {},
   "source": [
    "We can run the *.fit()* method to calculate the optimisation metric for each column in the dataset."
   ]
  },
  {
   "cell_type": "markdown",
   "metadata": {},
   "source": [
    "#### Supervised optimisation functions"
   ]
  },
  {
   "cell_type": "markdown",
   "metadata": {},
   "source": [
    "##### Precision score"
   ]
  },
  {
   "cell_type": "code",
   "execution_count": 4,
   "metadata": {},
   "outputs": [
    {
     "name": "stderr",
     "output_type": "stream",
     "text": [
      "                                                                                \r"
     ]
    }
   ],
   "source": [
    "precision = Precision()\n",
    "# With Pandas (single predictor)\n",
    "rule_precision = precision.fit(y_true=y, y_preds=y_pred, sample_weight=None)\n",
    "# With Koalas (single predictor)\n",
    "rule_precision_ks = precision.fit(y_true=y_ks, y_preds=y_pred_ks, sample_weight=None)\n",
    "# With Pandas (multiple predictors)\n",
    "rule_precisions = precision.fit(y_true=y, y_preds=y_preds, sample_weight=None)\n",
    "# With Koalas (multiple predictors)\n",
    "rule_precisions_ks = precision.fit(y_true=y_ks, y_preds=y_preds_ks, sample_weight=None)"
   ]
  },
  {
   "cell_type": "markdown",
   "metadata": {},
   "source": [
    "##### Recall score"
   ]
  },
  {
   "cell_type": "code",
   "execution_count": 5,
   "metadata": {},
   "outputs": [],
   "source": [
    "recall = Recall()\n",
    "# With Pandas (single predictor)\n",
    "rule_recall = recall.fit(y_true=y, y_preds=y_pred, sample_weight=None)\n",
    "# With Koalas (single predictor)\n",
    "rule_recall_ks = recall.fit(y_true=y_ks, y_preds=y_pred_ks, sample_weight=None)\n",
    "# With Pandas (multiple predictors)\n",
    "rule_recalls = recall.fit(y_true=y, y_preds=y_preds, sample_weight=None)\n",
    "# With Koalas (multiple predictors)\n",
    "rule_recalls_ks = recall.fit(y_true=y_ks, y_preds=y_preds_ks, sample_weight=None)"
   ]
  },
  {
   "cell_type": "markdown",
   "metadata": {},
   "source": [
    "##### Fbeta score (beta=1)"
   ]
  },
  {
   "cell_type": "code",
   "execution_count": 6,
   "metadata": {},
   "outputs": [],
   "source": [
    "f1 = FScore(beta=1)\n",
    "# With Pandas (single predictor)\n",
    "rule_f1 = f1.fit(y_true=y, y_preds=y_pred, sample_weight=None)\n",
    "# With Koalas (single predictor)\n",
    "rule_f1_ks = f1.fit(y_true=y_ks, y_preds=y_pred_ks, sample_weight=None)\n",
    "# With Pandas (multiple predictors)\n",
    "rule_f1s = f1.fit(y_true=y, y_preds=y_preds, sample_weight=None)\n",
    "# With Koalas (multiple predictors)\n",
    "rule_f1s_ks = f1.fit(y_true=y_ks, y_preds=y_preds_ks, sample_weight=None)"
   ]
  },
  {
   "cell_type": "markdown",
   "metadata": {},
   "source": [
    "##### Revenue"
   ]
  },
  {
   "cell_type": "code",
   "execution_count": 7,
   "metadata": {},
   "outputs": [
    {
     "name": "stderr",
     "output_type": "stream",
     "text": [
      "\r",
      "[Stage 27:=====================================================>(198 + 2) / 200]\r",
      "\r",
      "                                                                                \r"
     ]
    }
   ],
   "source": [
    "rev = Revenue(y_type='Fraud', chargeback_multiplier=2)\n",
    "# With Pandas (single predictor)\n",
    "rule_rev = rev.fit(y_true=y, y_preds=y_pred, sample_weight=amounts)\n",
    "# With Koalas (single predictor)\n",
    "rule_rev_ks = rev.fit(y_true=y_ks, y_preds=y_pred_ks, sample_weight=amounts_ks)\n",
    "# With Pandas (multiple predictors)\n",
    "rule_revs = rev.fit(y_true=y, y_preds=y_preds, sample_weight=amounts)\n",
    "# With Koalas (multiple predictors)\n",
    "rule_revs_ks = rev.fit(y_true=y_ks, y_preds=y_preds_ks, sample_weight=amounts_ks)"
   ]
  },
  {
   "cell_type": "markdown",
   "metadata": {},
   "source": [
    "#### Unsupervised optimisation functions"
   ]
  },
  {
   "cell_type": "markdown",
   "metadata": {},
   "source": [
    "##### Alerts per day"
   ]
  },
  {
   "cell_type": "code",
   "execution_count": 8,
   "metadata": {},
   "outputs": [],
   "source": [
    "apd = AlertsPerDay(n_alerts_expected_per_day=5, no_of_days_in_file=10)\n",
    "# With Pandas (single predictor)\n",
    "rule_apd = apd.fit(y_preds=y_pred)\n",
    "# With Koalas (single predictor)\n",
    "rule_apd_ks = apd.fit(y_preds=y_pred_ks)\n",
    "# With Pandas (multiple predictors)\n",
    "rule_apds = apd.fit(y_preds,)\n",
    "# With Koalas (multiple predictors)\n",
    "rule_apds_ks = apd.fit(y_preds_ks,)"
   ]
  },
  {
   "cell_type": "markdown",
   "metadata": {},
   "source": [
    "##### Percentage of volume"
   ]
  },
  {
   "cell_type": "code",
   "execution_count": 9,
   "metadata": {},
   "outputs": [],
   "source": [
    "pv = PercVolume(perc_vol_expected=0.02)\n",
    "# With Pandas (single predictor)\n",
    "rule_pv = pv.fit(y_preds=y_pred)\n",
    "# With Koalas (single predictor)\n",
    "rule_pv_ks = pv.fit(y_preds=y_pred_ks)\n",
    "# With Pandas (multiple predictors)\n",
    "rule_pvs = pv.fit(y_preds,)\n",
    "# With Koalas (multiple predictors)\n",
    "rule_pvs_ks = pv.fit(y_preds_ks,)"
   ]
  },
  {
   "cell_type": "markdown",
   "metadata": {},
   "source": [
    "### Outputs"
   ]
  },
  {
   "cell_type": "markdown",
   "metadata": {},
   "source": [
    "The *.fit()* method returns the optimisation metric defined by the class:"
   ]
  },
  {
   "cell_type": "code",
   "execution_count": 10,
   "metadata": {},
   "outputs": [
    {
     "data": {
      "text/plain": [
       "(0.48214285714285715,\n",
       " 0.48214285714285715,\n",
       " array([0.4875717 , 0.47109208, 0.47645951, 0.48850575, 0.4251497 ]),\n",
       " array([0.4875717 , 0.47109208, 0.47645951, 0.48850575, 0.4251497 ]))"
      ]
     },
     "execution_count": 10,
     "metadata": {},
     "output_type": "execute_result"
    }
   ],
   "source": [
    "rule_precision, rule_precision_ks, rule_precisions, rule_precisions_ks"
   ]
  },
  {
   "cell_type": "code",
   "execution_count": 11,
   "metadata": {},
   "outputs": [
    {
     "data": {
      "text/plain": [
       "(0.5051975051975052,\n",
       " 0.5051975051975052,\n",
       " array([0.53014553, 0.45738046, 0.52598753, 0.53014553, 0.44282744]),\n",
       " array([0.53014553, 0.45738046, 0.52598753, 0.53014553, 0.44282744]))"
      ]
     },
     "execution_count": 11,
     "metadata": {},
     "output_type": "execute_result"
    }
   ],
   "source": [
    "rule_recall, rule_recall_ks, rule_recalls, rule_recalls_ks"
   ]
  },
  {
   "cell_type": "code",
   "execution_count": 12,
   "metadata": {},
   "outputs": [
    {
     "data": {
      "text/plain": [
       "(0.4934010152284264,\n",
       " 0.4934010152284264,\n",
       " array([0.50796813, 0.46413502, 0.5       , 0.50847458, 0.43380855]),\n",
       " array([0.50796813, 0.46413502, 0.5       , 0.50847458, 0.43380855]))"
      ]
     },
     "execution_count": 12,
     "metadata": {},
     "output_type": "execute_result"
    }
   ],
   "source": [
    "rule_f1, rule_f1_ks, rule_f1s, rule_f1s_ks"
   ]
  },
  {
   "cell_type": "code",
   "execution_count": 13,
   "metadata": {},
   "outputs": [
    {
     "data": {
      "text/plain": [
       "(1991,\n",
       " 1991,\n",
       " array([ 15119, -14481,  11721,  25063, -74931]),\n",
       " array([ 15119, -14481,  11721,  25063, -74931]))"
      ]
     },
     "execution_count": 13,
     "metadata": {},
     "output_type": "execute_result"
    }
   ],
   "source": [
    "rule_rev, rule_rev_ks, rule_revs, rule_revs_ks"
   ]
  },
  {
   "cell_type": "code",
   "execution_count": 14,
   "metadata": {},
   "outputs": [
    {
     "data": {
      "text/plain": [
       "(-2061.16,\n",
       " -2061.16,\n",
       " array([-2237.29, -1738.89, -2313.61, -2227.84, -2034.01]),\n",
       " array([-2237.29, -1738.89, -2313.61, -2227.84, -2034.01]))"
      ]
     },
     "execution_count": 14,
     "metadata": {},
     "output_type": "execute_result"
    }
   ],
   "source": [
    "rule_apd, rule_apd_ks, rule_apds, rule_apds_ks"
   ]
  },
  {
   "cell_type": "code",
   "execution_count": 15,
   "metadata": {},
   "outputs": [
    {
     "data": {
      "text/plain": [
       "(-0.234256,\n",
       " -0.234256,\n",
       " array([-0.253009, -0.199809, -0.261121, -0.252004, -0.231361]),\n",
       " array([-0.253009, -0.199809, -0.261121, -0.252004, -0.231361]))"
      ]
     },
     "execution_count": 15,
     "metadata": {},
     "output_type": "execute_result"
    }
   ],
   "source": [
    "rule_pv, rule_pv_ks, rule_pvs, rule_pvs_ks"
   ]
  },
  {
   "cell_type": "markdown",
   "metadata": {},
   "source": [
    "The *.fit()* method can be fed into various Iguanas modules as an argument (wherever the `opt_func` parameter appears). For example, in the RuleGeneratorOpt module, you can set the metric used to optimise the rules using this methodology."
   ]
  },
  {
   "cell_type": "markdown",
   "metadata": {},
   "source": [
    "----"
   ]
  },
  {
   "cell_type": "markdown",
   "metadata": {},
   "source": [
    "## Creating your own optimisation function"
   ]
  },
  {
   "cell_type": "markdown",
   "metadata": {},
   "source": [
    "Say we want to create a class which calculates the Positive likelihood ratio (TP rate/FP rate)."
   ]
  },
  {
   "cell_type": "markdown",
   "metadata": {},
   "source": [
    "The main class structure involves having a *.fit()* method which has three arguments - the binary predictor(s), the binary target and any event specific weights to apply. This method should return a single numeric value."
   ]
  },
  {
   "cell_type": "code",
   "execution_count": 16,
   "metadata": {},
   "outputs": [],
   "source": [
    "class PositiveLikelihoodRatio:\n",
    "    \n",
    "    def fit(self, \n",
    "            y_true: Union[np.array, pd.Series, ks.Series], \n",
    "            y_preds: Union[np.array, pd.Series, ks.Series, pd.DataFrame, ks.DataFrame], \n",
    "            sample_weight: Union[np.array, pd.Series, ks.Series]) -> float:\n",
    "        \n",
    "        def _calc_plr(y_true, y_preds):\n",
    "            # Calculate TPR\n",
    "            tpr = (y_true * y_preds).sum() / y_true.sum()\n",
    "            # Calculate FPR\n",
    "            fpr = ((1 - y_true) * y_preds).sum()/(1 - y_true).sum()\n",
    "            return 0 if tpr == 0 or fpr == 0 else tpr/fpr\n",
    "        \n",
    "        # Set this option to allow calc of TPR/FPR on Koalas dataframes\n",
    "        with ks.option_context(\"compute.ops_on_diff_frames\", True):\n",
    "            if y_preds.ndim == 1:            \n",
    "                return _calc_plr(y_true, y_preds)\n",
    "            else:\n",
    "                plrs = np.empty(y_preds.shape[1])\n",
    "                for i, col in enumerate(y_preds.columns):                        \n",
    "                    plrs[i] = _calc_plr(y_true, y_preds[col])\n",
    "                return plrs"
   ]
  },
  {
   "cell_type": "markdown",
   "metadata": {},
   "source": [
    "We can then apply the *.fit()* method to the dataset to check it works:"
   ]
  },
  {
   "cell_type": "code",
   "execution_count": 17,
   "metadata": {
    "tags": []
   },
   "outputs": [],
   "source": [
    "plr = PositiveLikelihoodRatio()\n",
    "# With Pandas (single predictor)\n",
    "rule_plr = plr.fit(y_true=y, y_preds=y_pred, sample_weight=None)\n",
    "# With Koalas (single predictor)\n",
    "rule_plr_ks = plr.fit(y_true=y_ks, y_preds=y_pred_ks, sample_weight=None)\n",
    "# With Pandas (multiple predictors)\n",
    "rule_plrs = plr.fit(y_true=y, y_preds=y_preds, sample_weight=None)\n",
    "# With Koalas (multiple predictors)\n",
    "rule_plrs_ks = plr.fit(y_true=y_ks, y_preds=y_preds_ks, sample_weight=None)"
   ]
  },
  {
   "cell_type": "code",
   "execution_count": 18,
   "metadata": {},
   "outputs": [
    {
     "data": {
      "text/plain": [
       "(1.004588142519177,\n",
       " 1.004588142519177,\n",
       " array([1.02666243, 0.96105448, 0.98196952, 1.0305076 , 0.79801195]),\n",
       " array([1.02666243, 0.96105448, 0.98196952, 1.0305076 , 0.79801195]))"
      ]
     },
     "execution_count": 18,
     "metadata": {},
     "output_type": "execute_result"
    }
   ],
   "source": [
    "rule_plr, rule_plr_ks, rule_plrs, rule_plrs_ks"
   ]
  },
  {
   "cell_type": "markdown",
   "metadata": {},
   "source": [
    "Finally, after instantiating the class, we can feed the *.fit* method to a relevant Iguanas module (for example, we can feed the *.fit()* method to the *opt_func* parameter in the *BayesianOptimiser* class so that rules are generated which maximise the Positive Likelihood Ratio)."
   ]
  },
  {
   "cell_type": "markdown",
   "metadata": {},
   "source": [
    "----"
   ]
  }
 ],
 "metadata": {
  "kernelspec": {
   "display_name": "iguanas_os_dev",
   "language": "python",
   "name": "iguanas_os_dev"
  },
  "language_info": {
   "codemirror_mode": {
    "name": "ipython",
    "version": 3
   },
   "file_extension": ".py",
   "mimetype": "text/x-python",
   "name": "python",
   "nbconvert_exporter": "python",
   "pygments_lexer": "ipython3",
   "version": "3.8.9"
  }
 },
 "nbformat": 4,
 "nbformat_minor": 4
}
