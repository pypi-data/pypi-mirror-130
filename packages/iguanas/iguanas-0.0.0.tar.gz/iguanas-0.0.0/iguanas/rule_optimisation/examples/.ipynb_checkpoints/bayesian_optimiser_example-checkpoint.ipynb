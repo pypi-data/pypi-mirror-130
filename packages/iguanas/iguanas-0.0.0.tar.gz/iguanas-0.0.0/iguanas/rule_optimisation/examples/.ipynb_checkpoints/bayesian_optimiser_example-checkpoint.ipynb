{
 "cells": [
  {
   "cell_type": "markdown",
   "metadata": {},
   "source": [
    "# Bayesian Optimiser Example"
   ]
  },
  {
   "cell_type": "markdown",
   "metadata": {},
   "source": [
    "This notebook contains an example of how the Bayesian Optimiser module can be used to optimise the thresholds of an existing set of rules, given a labelled dataset, using Bayesian Optimisation."
   ]
  },
  {
   "cell_type": "markdown",
   "metadata": {},
   "source": [
    "## Requirements"
   ]
  },
  {
   "cell_type": "markdown",
   "metadata": {},
   "source": [
    "To run, you'll need the following:\n",
    "\n",
    "* A rule set stored in the standard Iguanas lambda expression format, along with the keyword arguments for each lambda expression (more information on how to do this later)\n",
    "* A labelled dataset containing the features present in the rule set."
   ]
  },
  {
   "cell_type": "markdown",
   "metadata": {},
   "source": [
    "----"
   ]
  },
  {
   "cell_type": "markdown",
   "metadata": {},
   "source": [
    "### Import packages"
   ]
  },
  {
   "cell_type": "code",
   "execution_count": 52,
   "metadata": {},
   "outputs": [],
   "source": [
    "from iguanas.rule_optimisation import BayesianOptimiser\n",
    "from iguanas.rules import Rules\n",
    "from iguanas.rule_application import RuleApplier\n",
    "from iguanas.rule_optimisation.optimisation_functions import FScore\n",
    "\n",
    "import pandas as pd\n",
    "import numpy as np\n",
    "from sklearn.model_selection import train_test_split\n",
    "from hyperopt import tpe"
   ]
  },
  {
   "cell_type": "markdown",
   "metadata": {},
   "source": [
    "### Read in data"
   ]
  },
  {
   "cell_type": "markdown",
   "metadata": {},
   "source": [
    "Firstly, we need to read in the raw data containing the features and the fraud label:"
   ]
  },
  {
   "cell_type": "code",
   "execution_count": 26,
   "metadata": {},
   "outputs": [],
   "source": [
    "data = pd.read_csv(\n",
    "    'dummy_data/dummy_pipeline_output_data.csv', \n",
    "    index_col='eid'\n",
    ")"
   ]
  },
  {
   "cell_type": "markdown",
   "metadata": {},
   "source": [
    "Then we need to split out the dataset into the features (*X*) and the target column (*y*):"
   ]
  },
  {
   "cell_type": "code",
   "execution_count": 27,
   "metadata": {},
   "outputs": [],
   "source": [
    "fraud_column = 'sim_is_fraud'\n",
    "X = data.drop(fraud_column, axis=1)\n",
    "y = data[fraud_column]"
   ]
  },
  {
   "cell_type": "markdown",
   "metadata": {},
   "source": [
    "Finally, we can split the features and target column into training and test sets:"
   ]
  },
  {
   "cell_type": "code",
   "execution_count": 28,
   "metadata": {},
   "outputs": [],
   "source": [
    "X_train, X_test, y_train, y_test = train_test_split(\n",
    "    X, \n",
    "    y, \n",
    "    test_size=0.33, \n",
    "    random_state=0\n",
    ")"
   ]
  },
  {
   "cell_type": "markdown",
   "metadata": {},
   "source": [
    "## Read in the rules"
   ]
  },
  {
   "cell_type": "markdown",
   "metadata": {},
   "source": [
    "In this example, we'll read in the rule conditions from a pickle file, where they are stored in the standard Iguanas string format. **However, you can use any Iguanas-ready rule format - see the example notebook in the *rules* module.**"
   ]
  },
  {
   "cell_type": "code",
   "execution_count": 29,
   "metadata": {},
   "outputs": [],
   "source": [
    "import pickle\n",
    "with open('dummy_data/rule_strings.pkl', 'rb') as f:\n",
    "    rule_strings = pickle.load(f)"
   ]
  },
  {
   "cell_type": "markdown",
   "metadata": {},
   "source": [
    "Now we can instantiate the *Rules* class with these rules:"
   ]
  },
  {
   "cell_type": "code",
   "execution_count": 30,
   "metadata": {},
   "outputs": [],
   "source": [
    "rules = Rules(rule_strings=rule_strings)"
   ]
  },
  {
   "cell_type": "markdown",
   "metadata": {},
   "source": [
    "We now need to convert the rules into the standard Iguanas lambda expression format. This format allows new threshold values to be injected into the rule condition before being evaluated - this is how the Bayesian Optimiser finds the optimal threshold values:"
   ]
  },
  {
   "cell_type": "code",
   "execution_count": 31,
   "metadata": {},
   "outputs": [],
   "source": [
    "rule_lambdas = rules.as_rule_lambdas(\n",
    "    as_numpy=False, \n",
    "    with_kwargs=True\n",
    ")"
   ]
  },
  {
   "cell_type": "markdown",
   "metadata": {},
   "source": [
    "By converting the rule conditions to the standard Iguanas lambda expression format, we also generate a dictionary which gives the keyword arguments to each lambda expression (this dictionary is saved as the class attribute *lambda_kwargs*). Using these keyword arguments as inputs to the lambda expressions will convert them into the standard Iguanas string format."
   ]
  },
  {
   "cell_type": "markdown",
   "metadata": {},
   "source": [
    "----"
   ]
  },
  {
   "cell_type": "markdown",
   "metadata": {},
   "source": [
    "## Optimise rules"
   ]
  },
  {
   "cell_type": "markdown",
   "metadata": {},
   "source": [
    "### Set up class parameters"
   ]
  },
  {
   "cell_type": "markdown",
   "metadata": {},
   "source": [
    "Now we can set our class parameters for the Bayesian Optimiser. Here we're using the F1 score as the optimisation function (you can choose a different function from the optimisation_functions module or create your own - see the *optimisation_functions_example* example notebook in this module).\n",
    "\n",
    "**Note that if you're using the FScore, Precision or Recall score as the optimisation function, use the *FScore*, *Precision* or *Recall* classes in the *optimisation_functions* module rather than the same functions from Sklearn's *metrics* module, as the former are ~100 times faster on larger datasets.**\n",
    "\n",
    "**Please see the class docstring for more information on each parameter.**"
   ]
  },
  {
   "cell_type": "code",
   "execution_count": 32,
   "metadata": {},
   "outputs": [],
   "source": [
    "f1 = FScore(beta=1)"
   ]
  },
  {
   "cell_type": "code",
   "execution_count": 33,
   "metadata": {},
   "outputs": [],
   "source": [
    "params = {\n",
    "    'rule_lambdas': rule_lambdas,\n",
    "    'lambda_kwargs': rules.lambda_kwargs,\n",
    "    'opt_func': f1.fit,\n",
    "    'n_iter': 50,\n",
    "    'algorithm': tpe.suggest,\n",
    "    'num_cores': 1,\n",
    "    'verbose': 1,\n",
    "}"
   ]
  },
  {
   "cell_type": "markdown",
   "metadata": {},
   "source": [
    "### Instantiate class and run fit method"
   ]
  },
  {
   "cell_type": "markdown",
   "metadata": {},
   "source": [
    "Once the parameters have been set, we can run the *.fit()* method to optimise the rules."
   ]
  },
  {
   "cell_type": "code",
   "execution_count": 34,
   "metadata": {},
   "outputs": [],
   "source": [
    "ro = BayesianOptimiser(**params)"
   ]
  },
  {
   "cell_type": "code",
   "execution_count": 35,
   "metadata": {
    "tags": []
   },
   "outputs": [
    {
     "name": "stdout",
     "output_type": "stream",
     "text": [
      "--- Checking for rules with features that are missing in `X` ---\n",
      "100%|███████████████████████████████████████████████████████████████████████████████████████████████████████████████████████████████████████████████████| 19/19 [00:00<00:00, 135761.12it/s]\n",
      "--- Checking for rules that exclusively contain non-optimisable conditions ---\n",
      "100%|███████████████████████████████████████████████████████████████████████████████████████████████████████████████████████████████████████████████████| 19/19 [00:00<00:00, 202263.39it/s]\n",
      "--- Checking for rules that exclusively contain zero-variance features ---\n",
      "100%|███████████████████████████████████████████████████████████████████████████████████████████████████████████████████████████████████████████████████| 19/19 [00:00<00:00, 162305.04it/s]\n",
      "--- Optimising rules ---\n",
      "100%|███████████████████████████████████████████████████████████████████████████████████████████████████████████████████████████████████████████████████████| 19/19 [00:05<00:00,  3.30it/s]\n"
     ]
    }
   ],
   "source": [
    "X_rules = ro.fit(\n",
    "    X=X_train, \n",
    "    y=y_train,\n",
    "    sample_weight=None\n",
    ")"
   ]
  },
  {
   "cell_type": "markdown",
   "metadata": {},
   "source": [
    "### Outputs"
   ]
  },
  {
   "cell_type": "markdown",
   "metadata": {},
   "source": [
    "The *.fit()* method returns a dataframe giving the binary columns of the optimised rules as applied to the training dataset. It also creates the following attributes:\n",
    "\n",
    "* rule_strings (dict): The optimised rules stored in the standard Iguanas string format (values) and their names (keys).\n",
    "* rule_descriptions (pd.Dataframe): A dataframe showing the logic of the rules and their performance metrics on the training dataset.\n",
    "* rule_names_missing_features (list): Names of rules which use features that are not present in the dataset (and therefore can't be optimised or applied).\n",
    "* rule_names_no_opt_conditions (list): Names of rules which have no optimisable conditions (e.g.rules that only contain string-based conditions).\n",
    "* rule_names_zero_var_features (list): Names of rules which exclusively contain zero variance features (based on `X`), so cannot be optimised.\n",
    "* opt_rule_performances (dict): The optimisation metric (values) calculated for each optimised rule (keys) on the training set.\n",
    "* orig_rule_performances (dict): The optimisation metric (values) calculated for each original rule (keys) on the training set.\n",
    "* non_optimisable_rules (Rules): A `Rules` object containing the rules which could not be optimised."
   ]
  },
  {
   "cell_type": "code",
   "execution_count": 36,
   "metadata": {},
   "outputs": [
    {
     "data": {
      "text/html": [
       "<div>\n",
       "<style scoped>\n",
       "    .dataframe tbody tr th:only-of-type {\n",
       "        vertical-align: middle;\n",
       "    }\n",
       "\n",
       "    .dataframe tbody tr th {\n",
       "        vertical-align: top;\n",
       "    }\n",
       "\n",
       "    .dataframe thead th {\n",
       "        text-align: right;\n",
       "    }\n",
       "</style>\n",
       "<table border=\"1\" class=\"dataframe\">\n",
       "  <thead>\n",
       "    <tr style=\"text-align: right;\">\n",
       "      <th>Rule</th>\n",
       "      <th>HighFraudTxnPerAccountNum</th>\n",
       "      <th>RGDT_Rule137</th>\n",
       "      <th>RGDT_Rule112</th>\n",
       "      <th>RGDT_Rule272</th>\n",
       "      <th>RGDT_Rule195</th>\n",
       "      <th>RGDT_Rule153</th>\n",
       "      <th>RGDT_Rule162</th>\n",
       "      <th>RGDT_Rule24</th>\n",
       "      <th>RGDT_Rule81</th>\n",
       "      <th>RGDT_Rule263</th>\n",
       "      <th>RGDT_Rule241</th>\n",
       "      <th>RGDT_Rule256</th>\n",
       "      <th>RGDT_Rule45</th>\n",
       "      <th>RGDT_Rule2</th>\n",
       "      <th>RGDT_Rule35</th>\n",
       "      <th>RGDT_Rule193</th>\n",
       "      <th>ComplicatedRule</th>\n",
       "      <th>RGDT_Rule65</th>\n",
       "      <th>RGDT_Rule313</th>\n",
       "    </tr>\n",
       "    <tr>\n",
       "      <th>eid</th>\n",
       "      <th></th>\n",
       "      <th></th>\n",
       "      <th></th>\n",
       "      <th></th>\n",
       "      <th></th>\n",
       "      <th></th>\n",
       "      <th></th>\n",
       "      <th></th>\n",
       "      <th></th>\n",
       "      <th></th>\n",
       "      <th></th>\n",
       "      <th></th>\n",
       "      <th></th>\n",
       "      <th></th>\n",
       "      <th></th>\n",
       "      <th></th>\n",
       "      <th></th>\n",
       "      <th></th>\n",
       "      <th></th>\n",
       "    </tr>\n",
       "  </thead>\n",
       "  <tbody>\n",
       "    <tr>\n",
       "      <th>503-0182982-0226911</th>\n",
       "      <td>1</td>\n",
       "      <td>1</td>\n",
       "      <td>1</td>\n",
       "      <td>1</td>\n",
       "      <td>1</td>\n",
       "      <td>1</td>\n",
       "      <td>1</td>\n",
       "      <td>1</td>\n",
       "      <td>1</td>\n",
       "      <td>1</td>\n",
       "      <td>1</td>\n",
       "      <td>1</td>\n",
       "      <td>0</td>\n",
       "      <td>1</td>\n",
       "      <td>1</td>\n",
       "      <td>0</td>\n",
       "      <td>1</td>\n",
       "      <td>1</td>\n",
       "      <td>1</td>\n",
       "    </tr>\n",
       "    <tr>\n",
       "      <th>516-2441570-6696110</th>\n",
       "      <td>0</td>\n",
       "      <td>0</td>\n",
       "      <td>0</td>\n",
       "      <td>0</td>\n",
       "      <td>0</td>\n",
       "      <td>0</td>\n",
       "      <td>0</td>\n",
       "      <td>0</td>\n",
       "      <td>0</td>\n",
       "      <td>0</td>\n",
       "      <td>0</td>\n",
       "      <td>0</td>\n",
       "      <td>0</td>\n",
       "      <td>0</td>\n",
       "      <td>0</td>\n",
       "      <td>0</td>\n",
       "      <td>0</td>\n",
       "      <td>0</td>\n",
       "      <td>0</td>\n",
       "    </tr>\n",
       "    <tr>\n",
       "      <th>475-5982298-4197297</th>\n",
       "      <td>0</td>\n",
       "      <td>0</td>\n",
       "      <td>0</td>\n",
       "      <td>0</td>\n",
       "      <td>0</td>\n",
       "      <td>0</td>\n",
       "      <td>0</td>\n",
       "      <td>0</td>\n",
       "      <td>0</td>\n",
       "      <td>0</td>\n",
       "      <td>0</td>\n",
       "      <td>0</td>\n",
       "      <td>0</td>\n",
       "      <td>0</td>\n",
       "      <td>0</td>\n",
       "      <td>0</td>\n",
       "      <td>0</td>\n",
       "      <td>1</td>\n",
       "      <td>0</td>\n",
       "    </tr>\n",
       "    <tr>\n",
       "      <th>935-3613661-7862154</th>\n",
       "      <td>0</td>\n",
       "      <td>0</td>\n",
       "      <td>0</td>\n",
       "      <td>0</td>\n",
       "      <td>0</td>\n",
       "      <td>0</td>\n",
       "      <td>0</td>\n",
       "      <td>0</td>\n",
       "      <td>0</td>\n",
       "      <td>0</td>\n",
       "      <td>0</td>\n",
       "      <td>0</td>\n",
       "      <td>0</td>\n",
       "      <td>0</td>\n",
       "      <td>0</td>\n",
       "      <td>0</td>\n",
       "      <td>0</td>\n",
       "      <td>0</td>\n",
       "      <td>0</td>\n",
       "    </tr>\n",
       "    <tr>\n",
       "      <th>936-1684183-4550418</th>\n",
       "      <td>0</td>\n",
       "      <td>0</td>\n",
       "      <td>0</td>\n",
       "      <td>0</td>\n",
       "      <td>0</td>\n",
       "      <td>0</td>\n",
       "      <td>0</td>\n",
       "      <td>0</td>\n",
       "      <td>0</td>\n",
       "      <td>0</td>\n",
       "      <td>0</td>\n",
       "      <td>0</td>\n",
       "      <td>0</td>\n",
       "      <td>0</td>\n",
       "      <td>0</td>\n",
       "      <td>0</td>\n",
       "      <td>0</td>\n",
       "      <td>0</td>\n",
       "      <td>0</td>\n",
       "    </tr>\n",
       "  </tbody>\n",
       "</table>\n",
       "</div>"
      ],
      "text/plain": [
       "Rule                 HighFraudTxnPerAccountNum  RGDT_Rule137  RGDT_Rule112  \\\n",
       "eid                                                                          \n",
       "503-0182982-0226911                          1             1             1   \n",
       "516-2441570-6696110                          0             0             0   \n",
       "475-5982298-4197297                          0             0             0   \n",
       "935-3613661-7862154                          0             0             0   \n",
       "936-1684183-4550418                          0             0             0   \n",
       "\n",
       "Rule                 RGDT_Rule272  RGDT_Rule195  RGDT_Rule153  RGDT_Rule162  \\\n",
       "eid                                                                           \n",
       "503-0182982-0226911             1             1             1             1   \n",
       "516-2441570-6696110             0             0             0             0   \n",
       "475-5982298-4197297             0             0             0             0   \n",
       "935-3613661-7862154             0             0             0             0   \n",
       "936-1684183-4550418             0             0             0             0   \n",
       "\n",
       "Rule                 RGDT_Rule24  RGDT_Rule81  RGDT_Rule263  RGDT_Rule241  \\\n",
       "eid                                                                         \n",
       "503-0182982-0226911            1            1             1             1   \n",
       "516-2441570-6696110            0            0             0             0   \n",
       "475-5982298-4197297            0            0             0             0   \n",
       "935-3613661-7862154            0            0             0             0   \n",
       "936-1684183-4550418            0            0             0             0   \n",
       "\n",
       "Rule                 RGDT_Rule256  RGDT_Rule45  RGDT_Rule2  RGDT_Rule35  \\\n",
       "eid                                                                       \n",
       "503-0182982-0226911             1            0           1            1   \n",
       "516-2441570-6696110             0            0           0            0   \n",
       "475-5982298-4197297             0            0           0            0   \n",
       "935-3613661-7862154             0            0           0            0   \n",
       "936-1684183-4550418             0            0           0            0   \n",
       "\n",
       "Rule                 RGDT_Rule193  ComplicatedRule  RGDT_Rule65  RGDT_Rule313  \n",
       "eid                                                                            \n",
       "503-0182982-0226911             0                1            1             1  \n",
       "516-2441570-6696110             0                0            0             0  \n",
       "475-5982298-4197297             0                0            1             0  \n",
       "935-3613661-7862154             0                0            0             0  \n",
       "936-1684183-4550418             0                0            0             0  "
      ]
     },
     "execution_count": 36,
     "metadata": {},
     "output_type": "execute_result"
    }
   ],
   "source": [
    "X_rules.head()"
   ]
  },
  {
   "cell_type": "code",
   "execution_count": 37,
   "metadata": {},
   "outputs": [
    {
     "data": {
      "text/plain": [
       "{'RGDT_Rule137': \"((X['account_number_avg_order_total_per_account_number_7day']<=1525.055316619635)|(X['account_number_avg_order_total_per_account_number_7day'].isna()))&(X['account_number_num_fraud_transactions_per_account_number_1day']>=1)&(X['account_number_num_fraud_transactions_per_account_number_90day']>=1)&((X['account_number_sum_order_total_per_account_number_1day']<=2646.7405212829626)|(X['account_number_sum_order_total_per_account_number_1day'].isna()))\",\n",
       " 'RGDT_Rule81': \"(X['account_number_avg_order_total_per_account_number_1day']>125.98123800640575)&(X['account_number_num_fraud_transactions_per_account_number_lifetime']>=1)&((X['account_number_num_order_items_per_account_number_30day']<=11)|(X['account_number_num_order_items_per_account_number_30day'].isna()))&((X['account_number_sum_order_total_per_account_number_1day']<=2641.414364067228)|(X['account_number_sum_order_total_per_account_number_1day'].isna()))\",\n",
       " 'HighFraudTxnPerAccountNum': \"(X['account_number_num_fraud_transactions_per_account_number_1day']>=1.0)\",\n",
       " 'RGDT_Rule256': \"(X['account_number_num_fraud_transactions_per_account_number_1day']>=1)&((X['account_number_sum_order_total_per_account_number_90day']<=3263.541584117546)|(X['account_number_sum_order_total_per_account_number_90day'].isna()))&(X['is_billing_shipping_city_same']==False)\",\n",
       " 'RGDT_Rule35': \"(X['account_number_num_fraud_transactions_per_account_number_7day']>=1)&(X['account_number_num_fraud_transactions_per_account_number_lifetime']>=0)&((X['account_number_num_order_items_per_account_number_lifetime']<=8)|(X['account_number_num_order_items_per_account_number_lifetime'].isna()))&(X['is_existing_user']==True)\",\n",
       " 'RGDT_Rule193': \"(X['account_number_num_distinct_transaction_per_account_number_30day']>=2)&(X['account_number_num_fraud_transactions_per_account_number_lifetime']>=1)\",\n",
       " 'RGDT_Rule241': \"(X['account_number_avg_order_total_per_account_number_90day']>446.2679839974919)&(X['account_number_num_fraud_transactions_per_account_number_1day']>=1)&((X['account_number_sum_order_total_per_account_number_1day']<=3495.0858703128933)|(X['account_number_sum_order_total_per_account_number_1day'].isna()))&(X['account_number_sum_order_total_per_account_number_30day']>547.439632557941)\",\n",
       " 'RGDT_Rule263': \"(X['account_number_num_fraud_transactions_per_account_number_30day']>=1)&((X['account_number_sum_order_total_per_account_number_1day']<=1207.4733236183067)|(X['account_number_sum_order_total_per_account_number_1day'].isna()))&(X['account_number_sum_order_total_per_account_number_7day']>204.2462231976666)&((X['account_number_sum_order_total_per_account_number_90day']<=1865.0658585195677)|(X['account_number_sum_order_total_per_account_number_90day'].isna()))\",\n",
       " 'RGDT_Rule313': \"(X['account_number_num_fraud_transactions_per_account_number_1day']>=1)&(X['account_number_sum_order_total_per_account_number_30day']>817.0883475066464)&(X['account_number_sum_order_total_per_account_number_90day']>480.92978337014483)&(X['is_existing_user']==True)\",\n",
       " 'RGDT_Rule195': \"(X['account_number_num_fraud_transactions_per_account_number_1day']>=0)&(X['account_number_num_fraud_transactions_per_account_number_30day']>=0)&(X['account_number_num_fraud_transactions_per_account_number_lifetime']>=1)&(X['account_number_num_order_items_per_account_number_7day']>=0)\",\n",
       " 'RGDT_Rule153': \"(X['account_number_avg_order_total_per_account_number_90day']>78.20900849989329)&(X['account_number_num_fraud_transactions_per_account_number_1day']>=1)&(X['account_number_num_order_items_per_account_number_lifetime']>=0)&((X['order_total']<=1704.2477376990894)|(X['order_total'].isna()))\",\n",
       " 'RGDT_Rule112': \"(X['account_number_num_distinct_transaction_per_account_number_90day']>=1)&(X['account_number_num_fraud_transactions_per_account_number_30day']>=1)&(X['account_number_num_fraud_transactions_per_account_number_lifetime']>=1)&((X['account_number_num_order_items_per_account_number_90day']<=13)|(X['account_number_num_order_items_per_account_number_90day'].isna()))\",\n",
       " 'RGDT_Rule2': \"((X['account_number_num_distinct_transaction_per_account_number_1day']<=8)|(X['account_number_num_distinct_transaction_per_account_number_1day'].isna()))&(X['account_number_num_fraud_transactions_per_account_number_7day']>=1)&((X['account_number_num_fraud_transactions_per_account_number_lifetime']<=6)|(X['account_number_num_fraud_transactions_per_account_number_lifetime'].isna()))&(X['is_existing_user']==True)\",\n",
       " 'RGDT_Rule65': \"(X['account_number_num_fraud_transactions_per_account_number_1day']>=0)&((X['account_number_sum_order_total_per_account_number_1day']<=2178.5781949843504)|(X['account_number_sum_order_total_per_account_number_1day'].isna()))&(X['account_number_sum_order_total_per_account_number_30day']>248.83541296390126)&(X['is_billing_shipping_city_same']==False)\",\n",
       " 'RGDT_Rule45': \"((X['account_number_avg_order_total_per_account_number_1day']<=466.8331110654631)|(X['account_number_avg_order_total_per_account_number_1day'].isna()))&(X['account_number_num_fraud_transactions_per_account_number_90day']>=1)&(X['account_number_num_fraud_transactions_per_account_number_lifetime']>=1)&(X['account_number_sum_order_total_per_account_number_90day']>182.259321850408)\",\n",
       " 'RGDT_Rule162': \"(X['account_number_num_fraud_transactions_per_account_number_90day']>=1)&(X['num_order_items']>=2)&(X['order_total']>22.247493620968257)\",\n",
       " 'RGDT_Rule272': \"((X['account_number_avg_order_total_per_account_number_90day']<=1440.785560491801)|(X['account_number_avg_order_total_per_account_number_90day'].isna()))&(X['account_number_num_distinct_transaction_per_account_number_30day']>=1)&(X['account_number_num_fraud_transactions_per_account_number_30day']>=1)&(X['account_number_num_fraud_transactions_per_account_number_lifetime']>=1)\",\n",
       " 'RGDT_Rule24': \"(X['account_number_avg_order_total_per_account_number_90day']>125.98123800640575)&(X['account_number_num_fraud_transactions_per_account_number_lifetime']>=1)&((X['account_number_num_order_items_per_account_number_lifetime']<=11)|(X['account_number_num_order_items_per_account_number_lifetime'].isna()))&((X['account_number_sum_order_total_per_account_number_7day']<=2641.414364067228)|(X['account_number_sum_order_total_per_account_number_7day'].isna()))\",\n",
       " 'ComplicatedRule': \"(X['num_order_items']>1)&(((X['order_total']>922.1795977777178)&(X['is_existing_user']==True))|((X['order_total']>173.23112744907752)&(X['is_existing_user']==False))|(X['billing_city'].str.startswith('B', na=False)))\"}"
      ]
     },
     "execution_count": 37,
     "metadata": {},
     "output_type": "execute_result"
    }
   ],
   "source": [
    "ro.rule_strings"
   ]
  },
  {
   "cell_type": "code",
   "execution_count": 38,
   "metadata": {},
   "outputs": [
    {
     "data": {
      "text/html": [
       "<div>\n",
       "<style scoped>\n",
       "    .dataframe tbody tr th:only-of-type {\n",
       "        vertical-align: middle;\n",
       "    }\n",
       "\n",
       "    .dataframe tbody tr th {\n",
       "        vertical-align: top;\n",
       "    }\n",
       "\n",
       "    .dataframe thead th {\n",
       "        text-align: right;\n",
       "    }\n",
       "</style>\n",
       "<table border=\"1\" class=\"dataframe\">\n",
       "  <thead>\n",
       "    <tr style=\"text-align: right;\">\n",
       "      <th></th>\n",
       "      <th>Precision</th>\n",
       "      <th>Recall</th>\n",
       "      <th>PercDataFlagged</th>\n",
       "      <th>OptMetric</th>\n",
       "      <th>Logic</th>\n",
       "      <th>nConditions</th>\n",
       "    </tr>\n",
       "    <tr>\n",
       "      <th>Rule</th>\n",
       "      <th></th>\n",
       "      <th></th>\n",
       "      <th></th>\n",
       "      <th></th>\n",
       "      <th></th>\n",
       "      <th></th>\n",
       "    </tr>\n",
       "  </thead>\n",
       "  <tbody>\n",
       "    <tr>\n",
       "      <th>HighFraudTxnPerAccountNum</th>\n",
       "      <td>0.991903</td>\n",
       "      <td>1.000000</td>\n",
       "      <td>0.027772</td>\n",
       "      <td>0.995935</td>\n",
       "      <td>(X['account_number_num_fraud_transactions_per_...</td>\n",
       "      <td>1</td>\n",
       "    </tr>\n",
       "    <tr>\n",
       "      <th>RGDT_Rule137</th>\n",
       "      <td>0.991736</td>\n",
       "      <td>0.979592</td>\n",
       "      <td>0.027209</td>\n",
       "      <td>0.985626</td>\n",
       "      <td>((X['account_number_avg_order_total_per_accoun...</td>\n",
       "      <td>6</td>\n",
       "    </tr>\n",
       "    <tr>\n",
       "      <th>RGDT_Rule112</th>\n",
       "      <td>0.968127</td>\n",
       "      <td>0.991837</td>\n",
       "      <td>0.028221</td>\n",
       "      <td>0.979839</td>\n",
       "      <td>(X['account_number_num_distinct_transaction_pe...</td>\n",
       "      <td>5</td>\n",
       "    </tr>\n",
       "    <tr>\n",
       "      <th>RGDT_Rule272</th>\n",
       "      <td>0.968127</td>\n",
       "      <td>0.991837</td>\n",
       "      <td>0.028221</td>\n",
       "      <td>0.979839</td>\n",
       "      <td>((X['account_number_avg_order_total_per_accoun...</td>\n",
       "      <td>5</td>\n",
       "    </tr>\n",
       "    <tr>\n",
       "      <th>RGDT_Rule195</th>\n",
       "      <td>0.953125</td>\n",
       "      <td>0.995918</td>\n",
       "      <td>0.028783</td>\n",
       "      <td>0.974052</td>\n",
       "      <td>(X['account_number_num_fraud_transactions_per_...</td>\n",
       "      <td>4</td>\n",
       "    </tr>\n",
       "  </tbody>\n",
       "</table>\n",
       "</div>"
      ],
      "text/plain": [
       "                           Precision    Recall  PercDataFlagged  OptMetric  \\\n",
       "Rule                                                                         \n",
       "HighFraudTxnPerAccountNum   0.991903  1.000000         0.027772   0.995935   \n",
       "RGDT_Rule137                0.991736  0.979592         0.027209   0.985626   \n",
       "RGDT_Rule112                0.968127  0.991837         0.028221   0.979839   \n",
       "RGDT_Rule272                0.968127  0.991837         0.028221   0.979839   \n",
       "RGDT_Rule195                0.953125  0.995918         0.028783   0.974052   \n",
       "\n",
       "                                                                       Logic  \\\n",
       "Rule                                                                           \n",
       "HighFraudTxnPerAccountNum  (X['account_number_num_fraud_transactions_per_...   \n",
       "RGDT_Rule137               ((X['account_number_avg_order_total_per_accoun...   \n",
       "RGDT_Rule112               (X['account_number_num_distinct_transaction_pe...   \n",
       "RGDT_Rule272               ((X['account_number_avg_order_total_per_accoun...   \n",
       "RGDT_Rule195               (X['account_number_num_fraud_transactions_per_...   \n",
       "\n",
       "                           nConditions  \n",
       "Rule                                    \n",
       "HighFraudTxnPerAccountNum            1  \n",
       "RGDT_Rule137                         6  \n",
       "RGDT_Rule112                         5  \n",
       "RGDT_Rule272                         5  \n",
       "RGDT_Rule195                         4  "
      ]
     },
     "execution_count": 38,
     "metadata": {},
     "output_type": "execute_result"
    }
   ],
   "source": [
    "ro.rule_descriptions.head()"
   ]
  },
  {
   "cell_type": "code",
   "execution_count": 39,
   "metadata": {},
   "outputs": [
    {
     "data": {
      "text/plain": [
       "{'HighFraudTxnPerAccountNum': 0.9959349593495934,\n",
       " 'RGDT_Rule137': 0.9856262833675565,\n",
       " 'RGDT_Rule112': 0.9798387096774194,\n",
       " 'RGDT_Rule272': 0.9798387096774194,\n",
       " 'RGDT_Rule195': 0.9740518962075848,\n",
       " 'RGDT_Rule153': 0.8173076923076923,\n",
       " 'RGDT_Rule162': 0.8038740920096853,\n",
       " 'RGDT_Rule24': 0.7902439024390244,\n",
       " 'RGDT_Rule81': 0.7741935483870968,\n",
       " 'RGDT_Rule263': 0.7197943444730077,\n",
       " 'RGDT_Rule241': 0.5459940652818991,\n",
       " 'RGDT_Rule256': 0.5416666666666666,\n",
       " 'RGDT_Rule45': 0.45000000000000007,\n",
       " 'RGDT_Rule2': 0.40645161290322573,\n",
       " 'RGDT_Rule35': 0.38688524590163936,\n",
       " 'RGDT_Rule193': 0.3472668810289389,\n",
       " 'ComplicatedRule': 0.34386852085967134,\n",
       " 'RGDT_Rule65': 0.3230403800475059,\n",
       " 'RGDT_Rule313': 0.2109090909090909}"
      ]
     },
     "execution_count": 39,
     "metadata": {},
     "output_type": "execute_result"
    }
   ],
   "source": [
    "ro.opt_rule_performances"
   ]
  },
  {
   "cell_type": "markdown",
   "metadata": {},
   "source": [
    "----"
   ]
  },
  {
   "cell_type": "markdown",
   "metadata": {
    "tags": []
   },
   "source": [
    "## Apply rules to a separate dataset"
   ]
  },
  {
   "cell_type": "markdown",
   "metadata": {},
   "source": [
    "Use the *.apply()* method to apply the optimised rules to a separate dataset:"
   ]
  },
  {
   "cell_type": "code",
   "execution_count": 40,
   "metadata": {},
   "outputs": [],
   "source": [
    "X_rules_test = ro.apply(\n",
    "    X=X_test, \n",
    "    y=y_test, \n",
    "    sample_weight=None\n",
    ")"
   ]
  },
  {
   "cell_type": "markdown",
   "metadata": {},
   "source": [
    "### Outputs"
   ]
  },
  {
   "cell_type": "markdown",
   "metadata": {},
   "source": [
    "The *.apply()* method returns a dataframe giving the binary columns of the rules as applied to the given dataset.\n",
    "\n",
    "A useful attribute created by running the *.apply()* method is:\n",
    "\n",
    "* rule_descriptions: A dataframe showing the logic of the optimised rules and their performance metrics as applied to the given dataset."
   ]
  },
  {
   "cell_type": "code",
   "execution_count": 41,
   "metadata": {},
   "outputs": [
    {
     "data": {
      "text/html": [
       "<div>\n",
       "<style scoped>\n",
       "    .dataframe tbody tr th:only-of-type {\n",
       "        vertical-align: middle;\n",
       "    }\n",
       "\n",
       "    .dataframe tbody tr th {\n",
       "        vertical-align: top;\n",
       "    }\n",
       "\n",
       "    .dataframe thead th {\n",
       "        text-align: right;\n",
       "    }\n",
       "</style>\n",
       "<table border=\"1\" class=\"dataframe\">\n",
       "  <thead>\n",
       "    <tr style=\"text-align: right;\">\n",
       "      <th></th>\n",
       "      <th>Precision</th>\n",
       "      <th>Recall</th>\n",
       "      <th>PercDataFlagged</th>\n",
       "      <th>OptMetric</th>\n",
       "      <th>Logic</th>\n",
       "      <th>nConditions</th>\n",
       "    </tr>\n",
       "    <tr>\n",
       "      <th>Rule</th>\n",
       "      <th></th>\n",
       "      <th></th>\n",
       "      <th></th>\n",
       "      <th></th>\n",
       "      <th></th>\n",
       "      <th></th>\n",
       "    </tr>\n",
       "  </thead>\n",
       "  <tbody>\n",
       "    <tr>\n",
       "      <th>HighFraudTxnPerAccountNum</th>\n",
       "      <td>0.991304</td>\n",
       "      <td>1.000000</td>\n",
       "      <td>0.026244</td>\n",
       "      <td>0.995633</td>\n",
       "      <td>(X['account_number_num_fraud_transactions_per_...</td>\n",
       "      <td>1</td>\n",
       "    </tr>\n",
       "    <tr>\n",
       "      <th>RGDT_Rule137</th>\n",
       "      <td>0.991228</td>\n",
       "      <td>0.991228</td>\n",
       "      <td>0.026016</td>\n",
       "      <td>0.991228</td>\n",
       "      <td>((X['account_number_avg_order_total_per_accoun...</td>\n",
       "      <td>6</td>\n",
       "    </tr>\n",
       "    <tr>\n",
       "      <th>RGDT_Rule112</th>\n",
       "      <td>0.965812</td>\n",
       "      <td>0.991228</td>\n",
       "      <td>0.026700</td>\n",
       "      <td>0.978355</td>\n",
       "      <td>(X['account_number_num_distinct_transaction_pe...</td>\n",
       "      <td>5</td>\n",
       "    </tr>\n",
       "    <tr>\n",
       "      <th>RGDT_Rule272</th>\n",
       "      <td>0.965812</td>\n",
       "      <td>0.991228</td>\n",
       "      <td>0.026700</td>\n",
       "      <td>0.978355</td>\n",
       "      <td>((X['account_number_avg_order_total_per_accoun...</td>\n",
       "      <td>5</td>\n",
       "    </tr>\n",
       "    <tr>\n",
       "      <th>RGDT_Rule195</th>\n",
       "      <td>0.957627</td>\n",
       "      <td>0.991228</td>\n",
       "      <td>0.026928</td>\n",
       "      <td>0.974138</td>\n",
       "      <td>(X['account_number_num_fraud_transactions_per_...</td>\n",
       "      <td>4</td>\n",
       "    </tr>\n",
       "  </tbody>\n",
       "</table>\n",
       "</div>"
      ],
      "text/plain": [
       "                           Precision    Recall  PercDataFlagged  OptMetric  \\\n",
       "Rule                                                                         \n",
       "HighFraudTxnPerAccountNum   0.991304  1.000000         0.026244   0.995633   \n",
       "RGDT_Rule137                0.991228  0.991228         0.026016   0.991228   \n",
       "RGDT_Rule112                0.965812  0.991228         0.026700   0.978355   \n",
       "RGDT_Rule272                0.965812  0.991228         0.026700   0.978355   \n",
       "RGDT_Rule195                0.957627  0.991228         0.026928   0.974138   \n",
       "\n",
       "                                                                       Logic  \\\n",
       "Rule                                                                           \n",
       "HighFraudTxnPerAccountNum  (X['account_number_num_fraud_transactions_per_...   \n",
       "RGDT_Rule137               ((X['account_number_avg_order_total_per_accoun...   \n",
       "RGDT_Rule112               (X['account_number_num_distinct_transaction_pe...   \n",
       "RGDT_Rule272               ((X['account_number_avg_order_total_per_accoun...   \n",
       "RGDT_Rule195               (X['account_number_num_fraud_transactions_per_...   \n",
       "\n",
       "                           nConditions  \n",
       "Rule                                    \n",
       "HighFraudTxnPerAccountNum            1  \n",
       "RGDT_Rule137                         6  \n",
       "RGDT_Rule112                         5  \n",
       "RGDT_Rule272                         5  \n",
       "RGDT_Rule195                         4  "
      ]
     },
     "execution_count": 41,
     "metadata": {},
     "output_type": "execute_result"
    }
   ],
   "source": [
    "ro.rule_descriptions.head()"
   ]
  },
  {
   "cell_type": "code",
   "execution_count": 42,
   "metadata": {},
   "outputs": [
    {
     "data": {
      "text/html": [
       "<div>\n",
       "<style scoped>\n",
       "    .dataframe tbody tr th:only-of-type {\n",
       "        vertical-align: middle;\n",
       "    }\n",
       "\n",
       "    .dataframe tbody tr th {\n",
       "        vertical-align: top;\n",
       "    }\n",
       "\n",
       "    .dataframe thead th {\n",
       "        text-align: right;\n",
       "    }\n",
       "</style>\n",
       "<table border=\"1\" class=\"dataframe\">\n",
       "  <thead>\n",
       "    <tr style=\"text-align: right;\">\n",
       "      <th>Rule</th>\n",
       "      <th>HighFraudTxnPerAccountNum</th>\n",
       "      <th>RGDT_Rule137</th>\n",
       "      <th>RGDT_Rule112</th>\n",
       "      <th>RGDT_Rule272</th>\n",
       "      <th>RGDT_Rule195</th>\n",
       "      <th>RGDT_Rule153</th>\n",
       "      <th>RGDT_Rule24</th>\n",
       "      <th>RGDT_Rule81</th>\n",
       "      <th>RGDT_Rule162</th>\n",
       "      <th>RGDT_Rule263</th>\n",
       "      <th>RGDT_Rule256</th>\n",
       "      <th>RGDT_Rule45</th>\n",
       "      <th>RGDT_Rule2</th>\n",
       "      <th>RGDT_Rule241</th>\n",
       "      <th>RGDT_Rule35</th>\n",
       "      <th>RGDT_Rule193</th>\n",
       "      <th>RGDT_Rule65</th>\n",
       "      <th>ComplicatedRule</th>\n",
       "      <th>RGDT_Rule313</th>\n",
       "    </tr>\n",
       "    <tr>\n",
       "      <th>eid</th>\n",
       "      <th></th>\n",
       "      <th></th>\n",
       "      <th></th>\n",
       "      <th></th>\n",
       "      <th></th>\n",
       "      <th></th>\n",
       "      <th></th>\n",
       "      <th></th>\n",
       "      <th></th>\n",
       "      <th></th>\n",
       "      <th></th>\n",
       "      <th></th>\n",
       "      <th></th>\n",
       "      <th></th>\n",
       "      <th></th>\n",
       "      <th></th>\n",
       "      <th></th>\n",
       "      <th></th>\n",
       "      <th></th>\n",
       "    </tr>\n",
       "  </thead>\n",
       "  <tbody>\n",
       "    <tr>\n",
       "      <th>533-3553708-0918604</th>\n",
       "      <td>0</td>\n",
       "      <td>0</td>\n",
       "      <td>0</td>\n",
       "      <td>0</td>\n",
       "      <td>0</td>\n",
       "      <td>0</td>\n",
       "      <td>0</td>\n",
       "      <td>0</td>\n",
       "      <td>0</td>\n",
       "      <td>0</td>\n",
       "      <td>0</td>\n",
       "      <td>0</td>\n",
       "      <td>0</td>\n",
       "      <td>0</td>\n",
       "      <td>0</td>\n",
       "      <td>0</td>\n",
       "      <td>0</td>\n",
       "      <td>0</td>\n",
       "      <td>0</td>\n",
       "    </tr>\n",
       "    <tr>\n",
       "      <th>455-3498977-3144749</th>\n",
       "      <td>0</td>\n",
       "      <td>0</td>\n",
       "      <td>0</td>\n",
       "      <td>0</td>\n",
       "      <td>0</td>\n",
       "      <td>0</td>\n",
       "      <td>0</td>\n",
       "      <td>0</td>\n",
       "      <td>0</td>\n",
       "      <td>0</td>\n",
       "      <td>0</td>\n",
       "      <td>0</td>\n",
       "      <td>0</td>\n",
       "      <td>0</td>\n",
       "      <td>0</td>\n",
       "      <td>0</td>\n",
       "      <td>0</td>\n",
       "      <td>0</td>\n",
       "      <td>0</td>\n",
       "    </tr>\n",
       "    <tr>\n",
       "      <th>585-6596459-3918216</th>\n",
       "      <td>0</td>\n",
       "      <td>0</td>\n",
       "      <td>0</td>\n",
       "      <td>0</td>\n",
       "      <td>0</td>\n",
       "      <td>0</td>\n",
       "      <td>0</td>\n",
       "      <td>0</td>\n",
       "      <td>0</td>\n",
       "      <td>0</td>\n",
       "      <td>0</td>\n",
       "      <td>0</td>\n",
       "      <td>0</td>\n",
       "      <td>0</td>\n",
       "      <td>0</td>\n",
       "      <td>0</td>\n",
       "      <td>0</td>\n",
       "      <td>0</td>\n",
       "      <td>0</td>\n",
       "    </tr>\n",
       "    <tr>\n",
       "      <th>685-6642742-5806657</th>\n",
       "      <td>0</td>\n",
       "      <td>0</td>\n",
       "      <td>0</td>\n",
       "      <td>0</td>\n",
       "      <td>0</td>\n",
       "      <td>0</td>\n",
       "      <td>0</td>\n",
       "      <td>0</td>\n",
       "      <td>0</td>\n",
       "      <td>0</td>\n",
       "      <td>0</td>\n",
       "      <td>0</td>\n",
       "      <td>0</td>\n",
       "      <td>0</td>\n",
       "      <td>0</td>\n",
       "      <td>0</td>\n",
       "      <td>0</td>\n",
       "      <td>0</td>\n",
       "      <td>0</td>\n",
       "    </tr>\n",
       "    <tr>\n",
       "      <th>956-2823525-9957253</th>\n",
       "      <td>0</td>\n",
       "      <td>0</td>\n",
       "      <td>0</td>\n",
       "      <td>0</td>\n",
       "      <td>0</td>\n",
       "      <td>0</td>\n",
       "      <td>0</td>\n",
       "      <td>0</td>\n",
       "      <td>0</td>\n",
       "      <td>0</td>\n",
       "      <td>0</td>\n",
       "      <td>0</td>\n",
       "      <td>0</td>\n",
       "      <td>0</td>\n",
       "      <td>0</td>\n",
       "      <td>0</td>\n",
       "      <td>0</td>\n",
       "      <td>0</td>\n",
       "      <td>0</td>\n",
       "    </tr>\n",
       "  </tbody>\n",
       "</table>\n",
       "</div>"
      ],
      "text/plain": [
       "Rule                 HighFraudTxnPerAccountNum  RGDT_Rule137  RGDT_Rule112  \\\n",
       "eid                                                                          \n",
       "533-3553708-0918604                          0             0             0   \n",
       "455-3498977-3144749                          0             0             0   \n",
       "585-6596459-3918216                          0             0             0   \n",
       "685-6642742-5806657                          0             0             0   \n",
       "956-2823525-9957253                          0             0             0   \n",
       "\n",
       "Rule                 RGDT_Rule272  RGDT_Rule195  RGDT_Rule153  RGDT_Rule24  \\\n",
       "eid                                                                          \n",
       "533-3553708-0918604             0             0             0            0   \n",
       "455-3498977-3144749             0             0             0            0   \n",
       "585-6596459-3918216             0             0             0            0   \n",
       "685-6642742-5806657             0             0             0            0   \n",
       "956-2823525-9957253             0             0             0            0   \n",
       "\n",
       "Rule                 RGDT_Rule81  RGDT_Rule162  RGDT_Rule263  RGDT_Rule256  \\\n",
       "eid                                                                          \n",
       "533-3553708-0918604            0             0             0             0   \n",
       "455-3498977-3144749            0             0             0             0   \n",
       "585-6596459-3918216            0             0             0             0   \n",
       "685-6642742-5806657            0             0             0             0   \n",
       "956-2823525-9957253            0             0             0             0   \n",
       "\n",
       "Rule                 RGDT_Rule45  RGDT_Rule2  RGDT_Rule241  RGDT_Rule35  \\\n",
       "eid                                                                       \n",
       "533-3553708-0918604            0           0             0            0   \n",
       "455-3498977-3144749            0           0             0            0   \n",
       "585-6596459-3918216            0           0             0            0   \n",
       "685-6642742-5806657            0           0             0            0   \n",
       "956-2823525-9957253            0           0             0            0   \n",
       "\n",
       "Rule                 RGDT_Rule193  RGDT_Rule65  ComplicatedRule  RGDT_Rule313  \n",
       "eid                                                                            \n",
       "533-3553708-0918604             0            0                0             0  \n",
       "455-3498977-3144749             0            0                0             0  \n",
       "585-6596459-3918216             0            0                0             0  \n",
       "685-6642742-5806657             0            0                0             0  \n",
       "956-2823525-9957253             0            0                0             0  "
      ]
     },
     "execution_count": 42,
     "metadata": {},
     "output_type": "execute_result"
    }
   ],
   "source": [
    "X_rules_test.head()"
   ]
  },
  {
   "cell_type": "markdown",
   "metadata": {},
   "source": [
    "---"
   ]
  },
  {
   "cell_type": "markdown",
   "metadata": {},
   "source": [
    "## Plotting the performance uplift"
   ]
  },
  {
   "cell_type": "markdown",
   "metadata": {},
   "source": [
    "We can visualise the performance uplift of the optimised rules using the *.plot_performance_uplift()* and *.plot_performance_uplift_distribution()* methods:\n",
    "\n",
    "* *.plot_performance_uplift()*: Generates a scatterplot showing the performance of each rule before and after optimisation.\n",
    "* *.plot_performance_uplift_distribution()*: Generates a boxplot showing the distribution of performance uplifts (original rules vs optimised rules)."
   ]
  },
  {
   "cell_type": "markdown",
   "metadata": {},
   "source": [
    "### On the training set"
   ]
  },
  {
   "cell_type": "markdown",
   "metadata": {},
   "source": [
    "To visualise the uplift on the training set, we can use the class attributes *orig_rule_performances* and *opt_rule_performances* in the plotting methods, as these were generated as part of the optimisation process:"
   ]
  },
  {
   "cell_type": "code",
   "execution_count": 43,
   "metadata": {},
   "outputs": [
    {
     "data": {
      "image/png": "[encoded data removed]",
      "text/plain": [
       "<Figure size 720x360 with 1 Axes>"
      ]
     },
     "metadata": {},
     "output_type": "display_data"
    }
   ],
   "source": [
    "ro.plot_performance_uplift(\n",
    "    orig_rule_performances=ro.orig_rule_performances,\n",
    "    opt_rule_performances=ro.opt_rule_performances,\n",
    "    figsize=(10, 5)\n",
    ")"
   ]
  },
  {
   "cell_type": "code",
   "execution_count": 44,
   "metadata": {},
   "outputs": [
    {
     "data": {
      "image/png": "[encoded data removed]",
      "text/plain": [
       "<Figure size 216x504 with 1 Axes>"
      ]
     },
     "metadata": {},
     "output_type": "display_data"
    }
   ],
   "source": [
    "ro.plot_performance_uplift_distribution(\n",
    "    orig_rule_performances=ro.orig_rule_performances,\n",
    "    opt_rule_performances=ro.opt_rule_performances,\n",
    "    figsize=(3, 7)\n",
    ")"
   ]
  },
  {
   "cell_type": "markdown",
   "metadata": {},
   "source": [
    "### On the test set"
   ]
  },
  {
   "cell_type": "markdown",
   "metadata": {},
   "source": [
    "To visualise the uplift on the test set, we first need to generate the *orig_rule_performances* and *opt_rule_performances* parameters used in the plotting methods as these aren't created as part of the optimisation process. To do this, we need to apply both the original rules and the optimised rules to the test set. **Note that before we apply the original rules, we need to remove those that either have no optimisable conditions, have zero variance features or have features that are missing in *X_train*:**"
   ]
  },
  {
   "cell_type": "code",
   "execution_count": 51,
   "metadata": {},
   "outputs": [],
   "source": [
    "# Original rules\n",
    "rules_to_exclude = ro.rule_names_missing_features + ro.rule_names_no_opt_conditions + ro.rule_names_zero_var_features\n",
    "rules.filter_rules(exclude=rules_to_exclude)\n",
    "orig_sys_rule_strings = rules.as_rule_strings(as_numpy=False)\n",
    "orig_ra = RuleApplier(\n",
    "    rule_strings=orig_sys_rule_strings, \n",
    "    opt_func=f1.fit\n",
    ")\n",
    "_ = orig_ra.apply(X=X_test, y=y_test)\n",
    "orig_rule_performances_test = orig_ra.rule_descriptions['OptMetric']"
   ]
  },
  {
   "cell_type": "code",
   "execution_count": 46,
   "metadata": {},
   "outputs": [],
   "source": [
    "# Optimised rules\n",
    "_ = ro.apply(X=X_test, y=y_test)\n",
    "opt_rule_performances_test = ro.rule_descriptions['OptMetric']"
   ]
  },
  {
   "cell_type": "code",
   "execution_count": 47,
   "metadata": {},
   "outputs": [
    {
     "data": {
      "image/png": "[encoded data removed]",
      "text/plain": [
       "<Figure size 720x360 with 1 Axes>"
      ]
     },
     "metadata": {},
     "output_type": "display_data"
    }
   ],
   "source": [
    "ro.plot_performance_uplift(\n",
    "    orig_rule_performances=orig_rule_performances_test,\n",
    "    opt_rule_performances=opt_rule_performances_test,\n",
    "    figsize=(10, 5)\n",
    ")"
   ]
  },
  {
   "cell_type": "code",
   "execution_count": 48,
   "metadata": {},
   "outputs": [
    {
     "data": {
      "image/png": "[encoded data removed]",
      "text/plain": [
       "<Figure size 216x504 with 1 Axes>"
      ]
     },
     "metadata": {},
     "output_type": "display_data"
    }
   ],
   "source": [
    "ro.plot_performance_uplift_distribution(\n",
    "    orig_rule_performances=orig_rule_performances_test,\n",
    "    opt_rule_performances=opt_rule_performances_test,\n",
    "    figsize=(3, 7)\n",
    ")"
   ]
  },
  {
   "cell_type": "markdown",
   "metadata": {},
   "source": [
    "----"
   ]
  }
 ],
 "metadata": {
  "kernelspec": {
   "display_name": "iguanas_os_dev",
   "language": "python",
   "name": "iguanas_os_dev"
  },
  "language_info": {
   "codemirror_mode": {
    "name": "ipython",
    "version": 3
   },
   "file_extension": ".py",
   "mimetype": "text/x-python",
   "name": "python",
   "nbconvert_exporter": "python",
   "pygments_lexer": "ipython3",
   "version": "3.8.9"
  }
 },
 "nbformat": 4,
 "nbformat_minor": 4
}
