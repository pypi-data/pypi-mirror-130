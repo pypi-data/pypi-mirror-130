{
 "cells": [
  {
   "cell_type": "markdown",
   "source": [
    "# Rule-Based System (RBS) Pipeline Example"
   ],
   "metadata": {}
  },
  {
   "cell_type": "markdown",
   "source": [
    "This notebook contains an example of how to create an RBS Pipeline. \n",
    "\n",
    "An RBS Pipeline allows a user to configure a logical flow for decisioning events. Each stage in the pipeline consists of a set of rules which are linked to a decision. The decision that is applied to each event is dictated by the rule(s) that trigger first.\n",
    "\n",
    "For example, in the case of approving and rejecting transactions for a e-commerce transaction use case, you might have 3 approve rules and 3 reject rules. These rules could be used in an RBS Pipeline to approve and reject transactions like so:\n",
    "\n",
    "1. If any approve rules trigger, approve the transaction.\n",
    "2. If no approve rules trigger, but any reject rules trigger, reject the transaction.\n",
    "3. If no rules trigger, approve any remaining transactions.\n",
    "\n",
    "**In this notebook, we'll see how we can create this RBS Pipeline.**"
   ],
   "metadata": {}
  },
  {
   "cell_type": "markdown",
   "source": [
    "## Requirements"
   ],
   "metadata": {}
  },
  {
   "cell_type": "markdown",
   "source": [
    "To run, you'll need the following:\n",
    "\n",
    "* A set of rules that you want to use in the RBS (in this example, we'll generate these).\n",
    "* A labelled, processed dataset (nulls imputed, categorical features encoded)."
   ],
   "metadata": {}
  },
  {
   "cell_type": "markdown",
   "source": [
    "----"
   ],
   "metadata": {}
  },
  {
   "cell_type": "markdown",
   "source": [
    "## Import packages"
   ],
   "metadata": {}
  },
  {
   "cell_type": "code",
   "execution_count": 1,
   "source": [
    "from iguanas.rule_generation import RuleGeneratorDT\n",
    "from iguanas.rbs import RBSPipeline\n",
    "from iguanas.metrics.classification import FScore\n",
    "\n",
    "import pandas as pd\n",
    "from sklearn.ensemble import RandomForestClassifier"
   ],
   "outputs": [],
   "metadata": {}
  },
  {
   "cell_type": "markdown",
   "source": [
    "## Read in data"
   ],
   "metadata": {}
  },
  {
   "cell_type": "markdown",
   "source": [
    "Let's read in some labelled, processed dummy data:"
   ],
   "metadata": {}
  },
  {
   "cell_type": "code",
   "execution_count": 2,
   "source": [
    "X_train = pd.read_csv(\n",
    "    'dummy_data/X_train.csv', \n",
    "    index_col='eid'\n",
    ")\n",
    "y_train = pd.read_csv(\n",
    "    'dummy_data/y_train.csv', \n",
    "    index_col='eid'\n",
    ").squeeze()\n",
    "X_test = pd.read_csv(\n",
    "    'dummy_data/X_test.csv', \n",
    "    index_col='eid'\n",
    ")\n",
    "y_test = pd.read_csv(\n",
    "    'dummy_data/y_test.csv', \n",
    "    index_col='eid'\n",
    ").squeeze()"
   ],
   "outputs": [],
   "metadata": {}
  },
  {
   "cell_type": "markdown",
   "source": [
    "----"
   ],
   "metadata": {}
  },
  {
   "cell_type": "markdown",
   "source": [
    "## Generate rules"
   ],
   "metadata": {}
  },
  {
   "cell_type": "markdown",
   "source": [
    "Let's first generate some rules (both for approving and rejecting transactions) that we'll use later in our RBS Pipeline.\n",
    "\n",
    "**Note that in this dataset, positive cases in the target column refers to a fraudulent transaction, so we'll need to flip *y* when generating approve rules.**"
   ],
   "metadata": {}
  },
  {
   "cell_type": "markdown",
   "source": [
    "### Reject rules"
   ],
   "metadata": {}
  },
  {
   "cell_type": "code",
   "execution_count": 3,
   "source": [
    "fs = FScore(beta=1)"
   ],
   "outputs": [],
   "metadata": {}
  },
  {
   "cell_type": "code",
   "execution_count": 4,
   "source": [
    "params = {\n",
    "    'n_total_conditions': 4,\n",
    "    'metric': fs.fit,\n",
    "    'tree_ensemble': RandomForestClassifier(n_estimators=5, random_state=0, bootstrap=False),\n",
    "    'precision_threshold': 0,\n",
    "    'num_cores': 1,\n",
    "    'target_feat_corr_types': 'Infer',\n",
    "    'verbose': 0,\n",
    "    'rule_name_prefix': 'RejectRule'\n",
    "}"
   ],
   "outputs": [],
   "metadata": {}
  },
  {
   "cell_type": "code",
   "execution_count": 5,
   "source": [
    "rg_reject = RuleGeneratorDT(**params)"
   ],
   "outputs": [],
   "metadata": {}
  },
  {
   "cell_type": "code",
   "execution_count": 6,
   "source": [
    "X_rules_reject = rg_reject.fit(\n",
    "    X=X_train, \n",
    "    y=y_train, \n",
    "    sample_weight=None\n",
    ")"
   ],
   "outputs": [],
   "metadata": {
    "scrolled": true
   }
  },
  {
   "cell_type": "markdown",
   "source": [
    "### Approve rules"
   ],
   "metadata": {}
  },
  {
   "cell_type": "code",
   "execution_count": 7,
   "source": [
    "params = {\n",
    "    'n_total_conditions': 4,\n",
    "    'metric': fs.fit,\n",
    "    'tree_ensemble': RandomForestClassifier(n_estimators=2, random_state=0, bootstrap=False),\n",
    "    'precision_threshold': 0,\n",
    "    'num_cores': 1,\n",
    "    'target_feat_corr_types': 'Infer',\n",
    "    'verbose': 0,\n",
    "    'rule_name_prefix': 'ApproveRule'\n",
    "}"
   ],
   "outputs": [],
   "metadata": {}
  },
  {
   "cell_type": "code",
   "execution_count": 8,
   "source": [
    "rg_approve = RuleGeneratorDT(**params)"
   ],
   "outputs": [],
   "metadata": {}
  },
  {
   "cell_type": "code",
   "execution_count": 9,
   "source": [
    "X_rules_approve = rg_approve.fit(\n",
    "    X=X_train, \n",
    "    y=(1-y_train), # We flip y here so non-fraudulent transactions become the target\n",
    "    sample_weight=None\n",
    ")"
   ],
   "outputs": [],
   "metadata": {}
  },
  {
   "cell_type": "markdown",
   "source": [
    "Now let's combine the binary columns of the approve and reject rules into one dataframe:"
   ],
   "metadata": {}
  },
  {
   "cell_type": "code",
   "execution_count": 10,
   "source": [
    "X_rules = pd.concat([X_rules_reject, X_rules_approve], axis=1)"
   ],
   "outputs": [],
   "metadata": {}
  },
  {
   "cell_type": "code",
   "execution_count": 11,
   "source": [
    "X_rules.head()"
   ],
   "outputs": [
    {
     "output_type": "execute_result",
     "data": {
      "text/plain": [
       "Rule                 RejectRule_6  RejectRule_13  RejectRule_12  \\\n",
       "eid                                                               \n",
       "867-8837095-9305559             0              0              0   \n",
       "974-5306287-3527394             0              0              0   \n",
       "584-0112844-9158928             0              0              0   \n",
       "956-4190732-7014837             0              0              0   \n",
       "349-7005645-8862067             0              0              0   \n",
       "\n",
       "Rule                 RejectRule_10  RejectRule_9  RejectRule_4  RejectRule_0  \\\n",
       "eid                                                                            \n",
       "867-8837095-9305559              0             0             0             0   \n",
       "974-5306287-3527394              0             0             0             0   \n",
       "584-0112844-9158928              0             0             0             0   \n",
       "956-4190732-7014837              0             0             0             0   \n",
       "349-7005645-8862067              0             0             0             0   \n",
       "\n",
       "Rule                 RejectRule_7  RejectRule_8  RejectRule_5  ...  \\\n",
       "eid                                                            ...   \n",
       "867-8837095-9305559             0             0             0  ...   \n",
       "974-5306287-3527394             0             0             0  ...   \n",
       "584-0112844-9158928             0             0             0  ...   \n",
       "956-4190732-7014837             0             0             0  ...   \n",
       "349-7005645-8862067             0             0             0  ...   \n",
       "\n",
       "Rule                 RejectRule_11  RejectRule_1  RejectRule_3  RejectRule_2  \\\n",
       "eid                                                                            \n",
       "867-8837095-9305559              0             0             0             0   \n",
       "974-5306287-3527394              0             0             0             0   \n",
       "584-0112844-9158928              0             0             0             0   \n",
       "956-4190732-7014837              0             0             0             0   \n",
       "349-7005645-8862067              0             0             0             0   \n",
       "\n",
       "Rule                 ApproveRule_0  ApproveRule_1  ApproveRule_2  \\\n",
       "eid                                                                \n",
       "867-8837095-9305559              1              1              1   \n",
       "974-5306287-3527394              1              1              1   \n",
       "584-0112844-9158928              1              1              1   \n",
       "956-4190732-7014837              1              1              1   \n",
       "349-7005645-8862067              1              1              1   \n",
       "\n",
       "Rule                 ApproveRule_4  ApproveRule_5  ApproveRule_3  \n",
       "eid                                                               \n",
       "867-8837095-9305559              1              1              1  \n",
       "974-5306287-3527394              1              1              1  \n",
       "584-0112844-9158928              1              1              1  \n",
       "956-4190732-7014837              1              1              1  \n",
       "349-7005645-8862067              1              1              1  \n",
       "\n",
       "[5 rows x 21 columns]"
      ],
      "text/html": [
       "<div>\n",
       "<style scoped>\n",
       "    .dataframe tbody tr th:only-of-type {\n",
       "        vertical-align: middle;\n",
       "    }\n",
       "\n",
       "    .dataframe tbody tr th {\n",
       "        vertical-align: top;\n",
       "    }\n",
       "\n",
       "    .dataframe thead th {\n",
       "        text-align: right;\n",
       "    }\n",
       "</style>\n",
       "<table border=\"1\" class=\"dataframe\">\n",
       "  <thead>\n",
       "    <tr style=\"text-align: right;\">\n",
       "      <th>Rule</th>\n",
       "      <th>RejectRule_6</th>\n",
       "      <th>RejectRule_13</th>\n",
       "      <th>RejectRule_12</th>\n",
       "      <th>RejectRule_10</th>\n",
       "      <th>RejectRule_9</th>\n",
       "      <th>RejectRule_4</th>\n",
       "      <th>RejectRule_0</th>\n",
       "      <th>RejectRule_7</th>\n",
       "      <th>RejectRule_8</th>\n",
       "      <th>RejectRule_5</th>\n",
       "      <th>...</th>\n",
       "      <th>RejectRule_11</th>\n",
       "      <th>RejectRule_1</th>\n",
       "      <th>RejectRule_3</th>\n",
       "      <th>RejectRule_2</th>\n",
       "      <th>ApproveRule_0</th>\n",
       "      <th>ApproveRule_1</th>\n",
       "      <th>ApproveRule_2</th>\n",
       "      <th>ApproveRule_4</th>\n",
       "      <th>ApproveRule_5</th>\n",
       "      <th>ApproveRule_3</th>\n",
       "    </tr>\n",
       "    <tr>\n",
       "      <th>eid</th>\n",
       "      <th></th>\n",
       "      <th></th>\n",
       "      <th></th>\n",
       "      <th></th>\n",
       "      <th></th>\n",
       "      <th></th>\n",
       "      <th></th>\n",
       "      <th></th>\n",
       "      <th></th>\n",
       "      <th></th>\n",
       "      <th></th>\n",
       "      <th></th>\n",
       "      <th></th>\n",
       "      <th></th>\n",
       "      <th></th>\n",
       "      <th></th>\n",
       "      <th></th>\n",
       "      <th></th>\n",
       "      <th></th>\n",
       "      <th></th>\n",
       "      <th></th>\n",
       "    </tr>\n",
       "  </thead>\n",
       "  <tbody>\n",
       "    <tr>\n",
       "      <th>867-8837095-9305559</th>\n",
       "      <td>0</td>\n",
       "      <td>0</td>\n",
       "      <td>0</td>\n",
       "      <td>0</td>\n",
       "      <td>0</td>\n",
       "      <td>0</td>\n",
       "      <td>0</td>\n",
       "      <td>0</td>\n",
       "      <td>0</td>\n",
       "      <td>0</td>\n",
       "      <td>...</td>\n",
       "      <td>0</td>\n",
       "      <td>0</td>\n",
       "      <td>0</td>\n",
       "      <td>0</td>\n",
       "      <td>1</td>\n",
       "      <td>1</td>\n",
       "      <td>1</td>\n",
       "      <td>1</td>\n",
       "      <td>1</td>\n",
       "      <td>1</td>\n",
       "    </tr>\n",
       "    <tr>\n",
       "      <th>974-5306287-3527394</th>\n",
       "      <td>0</td>\n",
       "      <td>0</td>\n",
       "      <td>0</td>\n",
       "      <td>0</td>\n",
       "      <td>0</td>\n",
       "      <td>0</td>\n",
       "      <td>0</td>\n",
       "      <td>0</td>\n",
       "      <td>0</td>\n",
       "      <td>0</td>\n",
       "      <td>...</td>\n",
       "      <td>0</td>\n",
       "      <td>0</td>\n",
       "      <td>0</td>\n",
       "      <td>0</td>\n",
       "      <td>1</td>\n",
       "      <td>1</td>\n",
       "      <td>1</td>\n",
       "      <td>1</td>\n",
       "      <td>1</td>\n",
       "      <td>1</td>\n",
       "    </tr>\n",
       "    <tr>\n",
       "      <th>584-0112844-9158928</th>\n",
       "      <td>0</td>\n",
       "      <td>0</td>\n",
       "      <td>0</td>\n",
       "      <td>0</td>\n",
       "      <td>0</td>\n",
       "      <td>0</td>\n",
       "      <td>0</td>\n",
       "      <td>0</td>\n",
       "      <td>0</td>\n",
       "      <td>0</td>\n",
       "      <td>...</td>\n",
       "      <td>0</td>\n",
       "      <td>0</td>\n",
       "      <td>0</td>\n",
       "      <td>0</td>\n",
       "      <td>1</td>\n",
       "      <td>1</td>\n",
       "      <td>1</td>\n",
       "      <td>1</td>\n",
       "      <td>1</td>\n",
       "      <td>1</td>\n",
       "    </tr>\n",
       "    <tr>\n",
       "      <th>956-4190732-7014837</th>\n",
       "      <td>0</td>\n",
       "      <td>0</td>\n",
       "      <td>0</td>\n",
       "      <td>0</td>\n",
       "      <td>0</td>\n",
       "      <td>0</td>\n",
       "      <td>0</td>\n",
       "      <td>0</td>\n",
       "      <td>0</td>\n",
       "      <td>0</td>\n",
       "      <td>...</td>\n",
       "      <td>0</td>\n",
       "      <td>0</td>\n",
       "      <td>0</td>\n",
       "      <td>0</td>\n",
       "      <td>1</td>\n",
       "      <td>1</td>\n",
       "      <td>1</td>\n",
       "      <td>1</td>\n",
       "      <td>1</td>\n",
       "      <td>1</td>\n",
       "    </tr>\n",
       "    <tr>\n",
       "      <th>349-7005645-8862067</th>\n",
       "      <td>0</td>\n",
       "      <td>0</td>\n",
       "      <td>0</td>\n",
       "      <td>0</td>\n",
       "      <td>0</td>\n",
       "      <td>0</td>\n",
       "      <td>0</td>\n",
       "      <td>0</td>\n",
       "      <td>0</td>\n",
       "      <td>0</td>\n",
       "      <td>...</td>\n",
       "      <td>0</td>\n",
       "      <td>0</td>\n",
       "      <td>0</td>\n",
       "      <td>0</td>\n",
       "      <td>1</td>\n",
       "      <td>1</td>\n",
       "      <td>1</td>\n",
       "      <td>1</td>\n",
       "      <td>1</td>\n",
       "      <td>1</td>\n",
       "    </tr>\n",
       "  </tbody>\n",
       "</table>\n",
       "<p>5 rows × 21 columns</p>\n",
       "</div>"
      ]
     },
     "metadata": {},
     "execution_count": 11
    }
   ],
   "metadata": {}
  },
  {
   "cell_type": "code",
   "execution_count": 12,
   "source": [
    "X_rules_reject.shape[1], X_rules_approve.shape[1]"
   ],
   "outputs": [
    {
     "output_type": "execute_result",
     "data": {
      "text/plain": [
       "(15, 6)"
      ]
     },
     "metadata": {},
     "execution_count": 12
    }
   ],
   "metadata": {}
  },
  {
   "cell_type": "markdown",
   "source": [
    "## Setting up the RBS Pipeline"
   ],
   "metadata": {}
  },
  {
   "cell_type": "markdown",
   "source": [
    "Now, let's set up our RBS Pipeline using the rules we've generated. To reiterate our approach:\n",
    "\n",
    "1. If any approve rules trigger, approve the transaction.\n",
    "2. If no approve rules trigger, but any reject rules trigger, reject the transaction.\n",
    "3. If no rules trigger, approve any remaining transactions.\n",
    "\n",
    "To set up the pipeline using the logic above, we first need to create the *config* parameter. This is just a list which outlines the stages of the pipeline. Each stage should be defined using a single-element dictionary, where the key corresponds to the decision at that stage (either *0* or *1*), and the value is a list that dictates which rules should trigger for that decision to be made.\n",
    "\n",
    "In our example, the config will be:"
   ],
   "metadata": {}
  },
  {
   "cell_type": "code",
   "execution_count": 13,
   "source": [
    "config = [\n",
    "    {0: X_rules_approve.columns.tolist()},\n",
    "    {1: X_rules_reject.columns.tolist()},    \n",
    "]"
   ],
   "outputs": [],
   "metadata": {}
  },
  {
   "cell_type": "markdown",
   "source": [
    "Here, the first stage is configured via the dictionary in the first element of the list. This says to apply a decision of *0* (i.e. approve) to transactions where the approve rules have triggered. The second stage is configured via the dictionary in the second element of the list. This says to apply a decision of *1* (i.e. reject) to transactions where the reject rules have triggered (**and no approve rules have triggered**).\n",
    "\n",
    "We also need to specify the final decision to be made if no rules are triggered - this is set via the *final_decision* parameter. In our case this should be *0*, as we want to approve any remaining transactions:"
   ],
   "metadata": {}
  },
  {
   "cell_type": "code",
   "execution_count": 14,
   "source": [
    "final_decision = 0"
   ],
   "outputs": [],
   "metadata": {}
  },
  {
   "cell_type": "markdown",
   "source": [
    "With these parameters configured, we can now create our RBS Pipeline by instantiating the *RBSPipeline* class:"
   ],
   "metadata": {}
  },
  {
   "cell_type": "code",
   "execution_count": 15,
   "source": [
    "rbsp = RBSPipeline(\n",
    "    config=config,\n",
    "    final_decision=final_decision,\n",
    "    metric=fs.fit\n",
    ")"
   ],
   "outputs": [],
   "metadata": {}
  },
  {
   "cell_type": "markdown",
   "source": [
    "We can then apply the pipeline to the dataset using the *.predict()* method:"
   ],
   "metadata": {}
  },
  {
   "cell_type": "code",
   "execution_count": 16,
   "source": [
    "y_pred = rbsp.predict(\n",
    "    X_rules=X_rules, \n",
    "    y=y_train\n",
    ")"
   ],
   "outputs": [],
   "metadata": {}
  },
  {
   "cell_type": "markdown",
   "source": [
    "### Outputs"
   ],
   "metadata": {}
  },
  {
   "cell_type": "markdown",
   "source": [
    "The *.predict()* method returns the prediction of the pipeline by applying the pipeline to the given dataset.\n",
    "\n",
    "Useful attributes created by running the *.predict()* method are:\n",
    "\n",
    "* score (float): The result of the `metric` function when the pipeline is applied."
   ],
   "metadata": {}
  },
  {
   "cell_type": "code",
   "execution_count": 17,
   "source": [
    "rbsp.score"
   ],
   "outputs": [
    {
     "output_type": "execute_result",
     "data": {
      "text/plain": [
       "0.14503816793893132"
      ]
     },
     "metadata": {},
     "execution_count": 17
    }
   ],
   "metadata": {}
  },
  {
   "cell_type": "markdown",
   "source": [
    "We can also use the *.calc_performance()* method to generate some performance metrics for the pipeline:"
   ],
   "metadata": {}
  },
  {
   "cell_type": "code",
   "execution_count": 18,
   "source": [
    "rbsp.calc_performance(\n",
    "    y_true=y_train, \n",
    "    y_pred=y_pred\n",
    ")"
   ],
   "outputs": [],
   "metadata": {}
  },
  {
   "cell_type": "code",
   "execution_count": 19,
   "source": [
    "rbsp.pipeline_perf"
   ],
   "outputs": [
    {
     "output_type": "execute_result",
     "data": {
      "text/plain": [
       "   Precision    Recall  PercDataFlagged\n",
       "1   1.000000  0.078189         0.002136\n",
       "0   0.974761  1.000000         0.997864"
      ],
      "text/html": [
       "<div>\n",
       "<style scoped>\n",
       "    .dataframe tbody tr th:only-of-type {\n",
       "        vertical-align: middle;\n",
       "    }\n",
       "\n",
       "    .dataframe tbody tr th {\n",
       "        vertical-align: top;\n",
       "    }\n",
       "\n",
       "    .dataframe thead th {\n",
       "        text-align: right;\n",
       "    }\n",
       "</style>\n",
       "<table border=\"1\" class=\"dataframe\">\n",
       "  <thead>\n",
       "    <tr style=\"text-align: right;\">\n",
       "      <th></th>\n",
       "      <th>Precision</th>\n",
       "      <th>Recall</th>\n",
       "      <th>PercDataFlagged</th>\n",
       "    </tr>\n",
       "  </thead>\n",
       "  <tbody>\n",
       "    <tr>\n",
       "      <th>1</th>\n",
       "      <td>1.000000</td>\n",
       "      <td>0.078189</td>\n",
       "      <td>0.002136</td>\n",
       "    </tr>\n",
       "    <tr>\n",
       "      <th>0</th>\n",
       "      <td>0.974761</td>\n",
       "      <td>1.000000</td>\n",
       "      <td>0.997864</td>\n",
       "    </tr>\n",
       "  </tbody>\n",
       "</table>\n",
       "</div>"
      ]
     },
     "metadata": {},
     "execution_count": 19
    }
   ],
   "metadata": {}
  },
  {
   "cell_type": "code",
   "execution_count": 20,
   "source": [
    "rbsp.conf_matrix"
   ],
   "outputs": [
    {
     "output_type": "execute_result",
     "data": {
      "text/plain": [
       "       1       0\n",
       "1   19.0     0.0\n",
       "0  224.0  8651.0"
      ],
      "text/html": [
       "<div>\n",
       "<style scoped>\n",
       "    .dataframe tbody tr th:only-of-type {\n",
       "        vertical-align: middle;\n",
       "    }\n",
       "\n",
       "    .dataframe tbody tr th {\n",
       "        vertical-align: top;\n",
       "    }\n",
       "\n",
       "    .dataframe thead th {\n",
       "        text-align: right;\n",
       "    }\n",
       "</style>\n",
       "<table border=\"1\" class=\"dataframe\">\n",
       "  <thead>\n",
       "    <tr style=\"text-align: right;\">\n",
       "      <th></th>\n",
       "      <th>1</th>\n",
       "      <th>0</th>\n",
       "    </tr>\n",
       "  </thead>\n",
       "  <tbody>\n",
       "    <tr>\n",
       "      <th>1</th>\n",
       "      <td>19.0</td>\n",
       "      <td>0.0</td>\n",
       "    </tr>\n",
       "    <tr>\n",
       "      <th>0</th>\n",
       "      <td>224.0</td>\n",
       "      <td>8651.0</td>\n",
       "    </tr>\n",
       "  </tbody>\n",
       "</table>\n",
       "</div>"
      ]
     },
     "metadata": {},
     "execution_count": 20
    }
   ],
   "metadata": {}
  }
 ],
 "metadata": {
  "kernelspec": {
   "name": "python3",
   "display_name": "Python 3.8.9 64-bit ('iguanas_os_dev': venv)"
  },
  "language_info": {
   "codemirror_mode": {
    "name": "ipython",
    "version": 3
   },
   "file_extension": ".py",
   "mimetype": "text/x-python",
   "name": "python",
   "nbconvert_exporter": "python",
   "pygments_lexer": "ipython3",
   "version": "3.8.9"
  },
  "interpreter": {
   "hash": "6a5a22224d030f6805b27da964f50b3905be89918ca593f843e32c3b2a80fa84"
  }
 },
 "nbformat": 4,
 "nbformat_minor": 4
}