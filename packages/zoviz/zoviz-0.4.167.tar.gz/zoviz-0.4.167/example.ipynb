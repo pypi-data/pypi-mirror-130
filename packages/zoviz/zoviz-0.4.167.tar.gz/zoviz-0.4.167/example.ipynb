{
 "cells": [
  {
   "cell_type": "code",
   "execution_count": null,
   "metadata": {},
   "outputs": [],
   "source": [
    "# %load_ext autoreload\n",
    "# %autoreload 2\n",
    "import zoviz"
   ]
  },
  {
   "cell_type": "code",
   "execution_count": null,
   "metadata": {},
   "outputs": [],
   "source": [
    "with zoviz.DB() as db:\n",
    "    example_query = \\\n",
    "    \"\"\"\n",
    "    SELECT value FROM itemDataValues WHERE valueID IN ( \n",
    "    SELECT valueID FROM itemData WHERE itemID IN ( \n",
    "    SELECT itemID FROM items WHERE itemTypeID IN ( \n",
    "    SELECT itemTypeID FROM itemTypes WHERE typeName IN \n",
    "    ( 'journalArticle' ) ) ) )\n",
    "    \"\"\"\n",
    "\n",
    "    df = db.query_df(example_query)\n",
    "\n",
    "df[\"value\"]"
   ]
  },
  {
   "cell_type": "code",
   "execution_count": null,
   "metadata": {},
   "outputs": [],
   "source": [
    "with zoviz.DB() as db:\n",
    "    # The shortest way\n",
    "    itemData = db.itemData\n",
    "    # The short way\n",
    "    itemData = db[\"itemData\"]\n",
    "    # The long way\n",
    "    itemData = db.query_df(\"SELECT * FROM itemData\")"
   ]
  },
  {
   "cell_type": "code",
   "execution_count": null,
   "metadata": {},
   "outputs": [],
   "source": [
    "with zoviz.DB() as db:\n",
    "    print(f\"Collections: {db.collection_names}\")\n",
    "    collection = db.collection_names[0]\n",
    "    g = db.build_creator_graph(collection)\n",
    "    zoviz.draw_community_graph(g, radius_mult=.1)"
   ]
  },
  {
   "cell_type": "code",
   "execution_count": null,
   "metadata": {},
   "outputs": [],
   "source": []
  }
 ],
 "metadata": {
  "kernelspec": {
   "display_name": "Python 3",
   "language": "python",
   "name": "python3"
  },
  "language_info": {
   "codemirror_mode": {
    "name": "ipython",
    "version": 3
   },
   "file_extension": ".py",
   "mimetype": "text/x-python",
   "name": "python",
   "nbconvert_exporter": "python",
   "pygments_lexer": "ipython3",
   "version": "3.8.6"
  }
 },
 "nbformat": 4,
 "nbformat_minor": 4
}
