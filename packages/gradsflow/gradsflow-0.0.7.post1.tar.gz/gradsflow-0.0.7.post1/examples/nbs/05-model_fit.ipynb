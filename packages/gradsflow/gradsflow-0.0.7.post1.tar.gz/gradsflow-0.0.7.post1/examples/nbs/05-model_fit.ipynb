{
 "cells": [
  {
   "cell_type": "markdown",
   "id": "eb3a591f",
   "metadata": {},
   "source": [
    "<!--<badge>--><a href=\"https://colab.research.google.com/github/gradsflow/gradsflow/blob/main/examples/nbs/05-model_fit.ipynb\" target=\"_parent\"><img src=\"https://colab.research.google.com/assets/colab-badge.svg\" alt=\"Open In Colab\"/></a><!--</badge>-->"
   ]
  },
  {
   "cell_type": "code",
   "execution_count": null,
   "id": "62f766aa",
   "metadata": {},
   "outputs": [],
   "source": [
    "import os\n",
    "import sys\n",
    "import warnings\n",
    "from pathlib import Path\n",
    "\n",
    "warnings.filterwarnings(\"ignore\")\n",
    "\n",
    "os.chdir(\"../../\")\n",
    "# sys.path.append()"
   ]
  },
  {
   "cell_type": "code",
   "execution_count": null,
   "id": "5794bc62",
   "metadata": {},
   "outputs": [],
   "source": [
    "from gradsflow.data.image import image_dataset_from_directory\n",
    "from gradsflow.core.data import AutoDataset\n",
    "from gradsflow import Model\n",
    "import timm\n",
    "\n",
    "import torch\n",
    "import torchvision"
   ]
  },
  {
   "cell_type": "code",
   "execution_count": null,
   "id": "fa61d539",
   "metadata": {},
   "outputs": [],
   "source": [
    "data_dir = \"/Users/aniket/personal/gradsflow/gradsflow/data\"  # replace with your filepath"
   ]
  },
  {
   "cell_type": "code",
   "execution_count": null,
   "id": "c4be173e",
   "metadata": {},
   "outputs": [],
   "source": [
    "train_data = image_dataset_from_directory(\n",
    "    f\"{data_dir}/hymenoptera_data/train/\",\n",
    "    image_size=(96, 96),\n",
    "    num_workers=None,\n",
    "    transform=True,\n",
    "    batch_size=1,\n",
    "    shuffle=True,\n",
    ")\n",
    "\n",
    "val_data = image_dataset_from_directory(\n",
    "    f\"{data_dir}/hymenoptera_data/val/\",\n",
    "    image_size=(96, 96),\n",
    "    num_workers=None,\n",
    "    transform=True,\n",
    ")\n",
    "\n",
    "train_dataset = train_data.dataset\n",
    "train_dl = train_data.dataloader\n",
    "val_dl = val_data.dataloader\n",
    "num_classes = len(train_dataset.classes)\n",
    "autodataset = AutoDataset(train_dl, val_dl, num_classes=num_classes)"
   ]
  },
  {
   "cell_type": "code",
   "execution_count": null,
   "id": "e6fae2ec",
   "metadata": {},
   "outputs": [],
   "source": [
    "cnn = timm.create_model(\"resnet18\", pretrained=False, num_classes=num_classes)\n",
    "\n",
    "model = Model(cnn)\n",
    "model.compile(\"crossentropyloss\", \"adam\", metrics=\"accuracy\")"
   ]
  },
  {
   "cell_type": "code",
   "execution_count": null,
   "id": "4c1f40b6",
   "metadata": {},
   "outputs": [
    {
     "data": {
      "text/html": [
       "<pre style=\"white-space:pre;overflow-x:auto;line-height:normal;font-family:Menlo,'DejaVu Sans Mono',consolas,'Courier New',monospace\"><span style=\"color: #800000; text-decoration-color: #800000\">Progress...</span>   <span style=\"color: #3a3a3a; text-decoration-color: #3a3a3a\">━━━━━━━━━━━━━━━━━━━━━━━━━━━━━━━━</span> <span style=\"color: #800080; text-decoration-color: #800080\">  0%</span> <span style=\"color: #008080; text-decoration-color: #008080\">-:--:--</span> ┏━━━━━━━┳━━━━━━━┳━━━━━━━┳━━━━━━━┓\n",
       "                                                            ┃<span style=\"font-weight: bold\"> curr… </span>┃<span style=\"font-weight: bold\"> loss  </span>┃<span style=\"font-weight: bold\"> trai… </span>┃<span style=\"font-weight: bold\"> trai… </span>┃\n",
       "                                                            ┡━━━━━━━╇━━━━━━━╇━━━━━━━╇━━━━━━━┩\n",
       "                                                            │ 0     │  0.6… │  0.7… │ 0.45… │\n",
       "                                                            └───────┴───────┴───────┴───────┘\n",
       "<span style=\"color: #800000; text-decoration-color: #800000\">Progress...</span>   <span style=\"color: #3a3a3a; text-decoration-color: #3a3a3a\">━━━━━━━━━━━━━━━━━━━━━━━━━━━━━━━━</span> <span style=\"color: #800080; text-decoration-color: #800080\">  0%</span> <span style=\"color: #008080; text-decoration-color: #008080\">-:--:--</span> ┏━━━━━━━┳━━━━━━━┳━━━━━━━┳━━━━━━━┓\n",
       "                                                            ┃<span style=\"font-weight: bold\"> curr… </span>┃<span style=\"font-weight: bold\"> loss  </span>┃<span style=\"font-weight: bold\"> trai… </span>┃<span style=\"font-weight: bold\"> trai… </span>┃\n",
       "                                                            ┡━━━━━━━╇━━━━━━━╇━━━━━━━╇━━━━━━━┩\n",
       "                                                            │ 0     │  0.6… │  0.7… │ 0.45… │\n",
       "                                                            └───────┴───────┴───────┴───────┘\n",
       "<span style=\"color: #008000; text-decoration-color: #008000\">Validating...</span> <span style=\"color: #f92672; text-decoration-color: #f92672\">━━━━━━━━━━━━━━━━━━━━━━━━━━╸</span><span style=\"color: #3a3a3a; text-decoration-color: #3a3a3a\">━━━━━</span> <span style=\"color: #800080; text-decoration-color: #800080\"> 84%</span> <span style=\"color: #008080; text-decoration-color: #008080\">0:00:01</span> ┏━━━━━━━┳━━━━━━━┳━━━━━━━┳━━━━━━━┓\n",
       "                                                            ┃<span style=\"font-weight: bold\"> curr… </span>┃<span style=\"font-weight: bold\"> loss  </span>┃<span style=\"font-weight: bold\"> trai… </span>┃<span style=\"font-weight: bold\"> trai… </span>┃\n",
       "                                                            ┡━━━━━━━╇━━━━━━━╇━━━━━━━╇━━━━━━━┩\n",
       "                                                            │ 0     │  0.6… │  0.7… │ 0.45… │\n",
       "                                                            └───────┴───────┴───────┴───────┘\n",
       "</pre>\n"
      ],
      "text/plain": [
       "\u001b[31mProgress...\u001b[0m   \u001b[38;5;237m━━━━━━━━━━━━━━━━━━━━━━━━━━━━━━━━\u001b[0m \u001b[35m  0%\u001b[0m \u001b[36m-:--:--\u001b[0m ┏━━━━━━━┳━━━━━━━┳━━━━━━━┳━━━━━━━┓\n",
       "                                                            ┃\u001b[1m \u001b[0m\u001b[1mcurr…\u001b[0m\u001b[1m \u001b[0m┃\u001b[1m \u001b[0m\u001b[1mloss \u001b[0m\u001b[1m \u001b[0m┃\u001b[1m \u001b[0m\u001b[1mtrai…\u001b[0m\u001b[1m \u001b[0m┃\u001b[1m \u001b[0m\u001b[1mtrai…\u001b[0m\u001b[1m \u001b[0m┃\n",
       "                                                            ┡━━━━━━━╇━━━━━━━╇━━━━━━━╇━━━━━━━┩\n",
       "                                                            │ 0     │  0.6… │  0.7… │ 0.45… │\n",
       "                                                            └───────┴───────┴───────┴───────┘\n",
       "\u001b[31mProgress...\u001b[0m   \u001b[38;5;237m━━━━━━━━━━━━━━━━━━━━━━━━━━━━━━━━\u001b[0m \u001b[35m  0%\u001b[0m \u001b[36m-:--:--\u001b[0m ┏━━━━━━━┳━━━━━━━┳━━━━━━━┳━━━━━━━┓\n",
       "                                                            ┃\u001b[1m \u001b[0m\u001b[1mcurr…\u001b[0m\u001b[1m \u001b[0m┃\u001b[1m \u001b[0m\u001b[1mloss \u001b[0m\u001b[1m \u001b[0m┃\u001b[1m \u001b[0m\u001b[1mtrai…\u001b[0m\u001b[1m \u001b[0m┃\u001b[1m \u001b[0m\u001b[1mtrai…\u001b[0m\u001b[1m \u001b[0m┃\n",
       "                                                            ┡━━━━━━━╇━━━━━━━╇━━━━━━━╇━━━━━━━┩\n",
       "                                                            │ 0     │  0.6… │  0.7… │ 0.45… │\n",
       "                                                            └───────┴───────┴───────┴───────┘\n",
       "\u001b[32mValidating...\u001b[0m \u001b[38;2;249;38;114m━━━━━━━━━━━━━━━━━━━━━━━━━━\u001b[0m\u001b[38;2;249;38;114m╸\u001b[0m\u001b[38;5;237m━━━━━\u001b[0m \u001b[35m 84%\u001b[0m \u001b[36m0:00:01\u001b[0m ┏━━━━━━━┳━━━━━━━┳━━━━━━━┳━━━━━━━┓\n",
       "                                                            ┃\u001b[1m \u001b[0m\u001b[1mcurr…\u001b[0m\u001b[1m \u001b[0m┃\u001b[1m \u001b[0m\u001b[1mloss \u001b[0m\u001b[1m \u001b[0m┃\u001b[1m \u001b[0m\u001b[1mtrai…\u001b[0m\u001b[1m \u001b[0m┃\u001b[1m \u001b[0m\u001b[1mtrai…\u001b[0m\u001b[1m \u001b[0m┃\n",
       "                                                            ┡━━━━━━━╇━━━━━━━╇━━━━━━━╇━━━━━━━┩\n",
       "                                                            │ 0     │  0.6… │  0.7… │ 0.45… │\n",
       "                                                            └───────┴───────┴───────┴───────┘\n"
      ]
     },
     "metadata": {},
     "output_type": "display_data"
    },
    {
     "name": "stdout",
     "output_type": "stream",
     "text": [
      "Tracker(max_epochs=2, current_epoch=0, current_step=11, steps_per_epoch=10, train=TrackingValues(loss=0.7080050922963925, steps=11, step_loss=0.6093937158584595, metrics={'Accuracy': tensor(0.4545)}), val=TrackingValues(loss=None, steps=129, step_loss=0.8445609211921692, metrics={'Accuracy': tensor(0.5426)}))\n"
     ]
    },
    {
     "data": {
      "text/plain": [
       "Tracker(max_epochs=2, current_epoch=0, current_step=11, steps_per_epoch=10, train=TrackingValues(loss=0.7080050922963925, steps=11, step_loss=0.6093937158584595, metrics={'Accuracy': tensor(0.4545)}), val=TrackingValues(loss=None, steps=129, step_loss=0.8445609211921692, metrics={'Accuracy': tensor(0.5426)}))"
      ]
     },
     "execution_count": null,
     "metadata": {},
     "output_type": "execute_result"
    }
   ],
   "source": [
    "model.fit(\n",
    "    autodataset,\n",
    "    max_epochs=2,\n",
    "    steps_per_epoch=10,\n",
    ")"
   ]
  },
  {
   "cell_type": "code",
   "execution_count": null,
   "id": "5aed951d",
   "metadata": {},
   "outputs": [
    {
     "data": {
      "text/plain": [
       "{'Accuracy': tensor(0.4545)}"
      ]
     },
     "execution_count": null,
     "metadata": {},
     "output_type": "execute_result"
    }
   ],
   "source": [
    "model.tracker.train.metrics"
   ]
  }
 ],
 "metadata": {
  "interpreter": {
   "hash": "e2d961b663a5ae03743cd178a74853be9b21def56a249d21ac1502fcfb05a9ce"
  },
  "kernelspec": {
   "display_name": "Python 3 (ipykernel)",
   "language": "python",
   "name": "python3"
  },
  "language_info": {
   "codemirror_mode": {
    "name": "ipython",
    "version": 3
   },
   "file_extension": ".py",
   "mimetype": "text/x-python",
   "name": "python",
   "nbconvert_exporter": "python",
   "pygments_lexer": "ipython3",
   "version": "3.8.11"
  },
  "toc": {
   "base_numbering": 1,
   "nav_menu": {},
   "number_sections": true,
   "sideBar": true,
   "skip_h1_title": false,
   "title_cell": "Table of Contents",
   "title_sidebar": "Contents",
   "toc_cell": false,
   "toc_position": {},
   "toc_section_display": true,
   "toc_window_display": false
  }
 },
 "nbformat": 4,
 "nbformat_minor": 5
}
