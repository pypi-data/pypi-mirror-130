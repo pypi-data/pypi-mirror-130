{
 "cells": [
  {
   "cell_type": "markdown",
   "metadata": {},
   "source": [
    "<!--<badge>--><a href=\"https://colab.research.google.com/github/gradsflow/gradsflow/blob/main/examples/nbs/01-ImageClassification.ipynb\" target=\"_parent\"><img src=\"https://colab.research.google.com/assets/colab-badge.svg\" alt=\"Open In Colab\"/></a><!--</badge>-->\n",
    "\n",
    "First, install gradsflow\n",
    "\n",
    "`pip install git+https://github.com/gradsflow/gradsflow@main`"
   ]
  },
  {
   "cell_type": "code",
   "execution_count": null,
   "metadata": {
    "tags": []
   },
   "outputs": [],
   "source": [
    "import os\n",
    "import sys\n",
    "import warnings\n",
    "from pathlib import Path\n",
    "\n",
    "warnings.filterwarnings(\"ignore\")\n",
    "\n",
    "os.chdir(\"../../\")"
   ]
  },
  {
   "cell_type": "code",
   "execution_count": null,
   "metadata": {},
   "outputs": [],
   "source": [
    "import ray\n",
    "from flash.core.data.utils import download_data\n",
    "from gradsflow import AutoImageClassifier\n",
    "from gradsflow.data.image import image_dataset_from_directory"
   ]
  },
  {
   "cell_type": "markdown",
   "metadata": {},
   "source": [
    "Let's use `Hymenoptera` dataset provided by Flash which contain images of Ants and Bees for creating Image Classication Model."
   ]
  },
  {
   "cell_type": "code",
   "execution_count": null,
   "metadata": {},
   "outputs": [],
   "source": [
    "data_dir = \"/Users/aniket/personal/gradsflow/gradsflow/data/\"  # replace with your filepath\n",
    "# download_data(\"https://pl-flash-data.s3.amazonaws.com/hymenoptera_data.zip\", data_dir)"
   ]
  },
  {
   "cell_type": "code",
   "execution_count": null,
   "metadata": {},
   "outputs": [],
   "source": [
    "train_data = image_dataset_from_directory(f\"{data_dir}/hymenoptera_data/train/\", transform=True)\n",
    "train_dl = train_data.dataloader\n",
    "\n",
    "val_data = image_dataset_from_directory(f\"{data_dir}/hymenoptera_data/val/\", transform=True)\n",
    "val_dl = val_data.dataloader"
   ]
  },
  {
   "cell_type": "markdown",
   "metadata": {},
   "source": [
    "If you want to run Gradsflow on a remote server then first setup [ray cluster](https://docs.ray.io/en/master/cluster/index.html) and initialize ray with the remote address."
   ]
  },
  {
   "cell_type": "code",
   "execution_count": null,
   "metadata": {},
   "outputs": [],
   "source": [
    "# ray.init(address=\"REMOTE_IP_ADDR\")\n",
    "# ray.init(local_mode=True)"
   ]
  },
  {
   "cell_type": "markdown",
   "metadata": {},
   "source": [
    "To train an image classifier create an object of `AutoImageClassifier` and provide number of trials and timeout."
   ]
  },
  {
   "cell_type": "code",
   "execution_count": null,
   "metadata": {},
   "outputs": [
    {
     "name": "stdout",
     "output_type": "stream",
     "text": [
      "AutoImageClassifier initialised!\n"
     ]
    }
   ],
   "source": [
    "model = AutoImageClassifier(\n",
    "    train_dataloader=train_dl,\n",
    "    val_dataloader=val_dl,\n",
    "    num_classes=2,\n",
    "    n_trials=1,\n",
    "    optimization_metric=\"train_loss\",\n",
    "    timeout=50,\n",
    ")\n",
    "print(\"AutoImageClassifier initialised!\")"
   ]
  },
  {
   "cell_type": "code",
   "execution_count": null,
   "metadata": {},
   "outputs": [
    {
     "name": "stderr",
     "output_type": "stream",
     "text": [
      "2021-10-08 11:48:37,675\tINFO services.py:1263 -- View the Ray dashboard at \u001b[1m\u001b[32mhttp://127.0.0.1:8265\u001b[39m\u001b[22m\n",
      "2021-10-08 11:48:40,110\tWARNING function_runner.py:558 -- Function checkpointing is disabled. This may result in unexpected behavior when using checkpointing features or certain schedulers. To enable, set the train function arguments to be `func(config, checkpoint_dir=None)`.\n"
     ]
    },
    {
     "data": {
      "text/html": [
       "== Status ==<br>Memory usage on this node: 10.4/16.0 GiB<br>Using FIFO scheduling algorithm.<br>Resources requested: 0/8 CPUs, 0/0 GPUs, 0.0/4.54 GiB heap, 0.0/2.27 GiB objects<br>Result logdir: /Users/aniket/ray_results/optimization_objective_2021-10-08_11-48-40<br>Number of trials: 1/1 (1 PENDING)<br><table>\n",
       "<thead>\n",
       "<tr><th>Trial name                        </th><th>status  </th><th>loc  </th><th>backbone    </th><th style=\"text-align: right;\">        lr</th><th>optimizer  </th></tr>\n",
       "</thead>\n",
       "<tbody>\n",
       "<tr><td>optimization_objective_94628_00000</td><td>PENDING </td><td>     </td><td>ssl_resnet50</td><td style=\"text-align: right;\">0.00387828</td><td>sgd        </td></tr>\n",
       "</tbody>\n",
       "</table><br><br>"
      ],
      "text/plain": [
       "<IPython.core.display.HTML object>"
      ]
     },
     "metadata": {},
     "output_type": "display_data"
    },
    {
     "name": "stderr",
     "output_type": "stream",
     "text": [
      "2021-10-08 11:52:31,654\tWARNING tune.py:518 -- SIGINT received (e.g. via Ctrl+C), ending Ray Tune run. This will try to checkpoint the experiment state one last time. Press CTRL+C one more time (or send SIGINT/SIGKILL/SIGTERM) to skip. \n",
      "2021-10-08 11:52:31,665\tERROR trial_runner.py:773 -- Trial optimization_objective_94628_00000: Error processing event.\n",
      "Traceback (most recent call last):\n",
      "  File \"/Users/aniket/miniconda3/envs/am/lib/python3.8/site-packages/ray/tune/trial_runner.py\", line 739, in _process_trial\n",
      "    results = self.trial_executor.fetch_result(trial)\n",
      "  File \"/Users/aniket/miniconda3/envs/am/lib/python3.8/site-packages/ray/tune/ray_trial_executor.py\", line 746, in fetch_result\n",
      "    result = ray.get(trial_future[0], timeout=DEFAULT_GET_TIMEOUT)\n",
      "  File \"/Users/aniket/miniconda3/envs/am/lib/python3.8/site-packages/ray/_private/client_mode_hook.py\", line 82, in wrapper\n",
      "    return func(*args, **kwargs)\n",
      "  File \"/Users/aniket/miniconda3/envs/am/lib/python3.8/site-packages/ray/worker.py\", line 1621, in get\n",
      "    raise value.as_instanceof_cause()\n",
      "ray.exceptions.RayTaskError: \u001b[36mray::ImplicitFunc.train_buffered()\u001b[39m (pid=80657, ip=192.168.40.84, repr=<ray.tune.function_runner.ImplicitFunc object at 0x7fbb0274f4f0>)\n",
      "  File \"/Users/aniket/miniconda3/envs/am/lib/python3.8/site-packages/ray/tune/trainable.py\", line 178, in train_buffered\n",
      "    result = self.train()\n",
      "  File \"/Users/aniket/miniconda3/envs/am/lib/python3.8/site-packages/ray/tune/trainable.py\", line 237, in train\n",
      "    result = self.step()\n",
      "  File \"/Users/aniket/miniconda3/envs/am/lib/python3.8/site-packages/ray/tune/function_runner.py\", line 361, in step\n",
      "    result = self._results_queue.get(\n",
      "  File \"/Users/aniket/miniconda3/envs/am/lib/python3.8/queue.py\", line 179, in get\n",
      "    self.not_empty.wait(remaining)\n",
      "  File \"/Users/aniket/miniconda3/envs/am/lib/python3.8/threading.py\", line 306, in wait\n",
      "    gotit = waiter.acquire(True, timeout)\n",
      "KeyboardInterrupt\n",
      "\n",
      "During handling of the above exception, another exception occurred:\n",
      "\n",
      "\u001b[36mray::ImplicitFunc.train_buffered()\u001b[39m (pid=80657, ip=192.168.40.84, repr=<ray.tune.function_runner.ImplicitFunc object at 0x7fbb0274f4f0>)\n",
      "ray.exceptions.TaskCancelledError: Task: TaskID(69a6825d641b46131cef336a2abb8d3ef89d181901000000) was cancelled\n",
      "2021-10-08 11:52:31,685\tINFO stopper.py:348 -- Reached timeout of 50 seconds. Stopping all trials.\n"
     ]
    },
    {
     "name": "stdout",
     "output_type": "stream",
     "text": [
      "Result for optimization_objective_94628_00000:\n",
      "  {}\n",
      "  \n"
     ]
    },
    {
     "data": {
      "text/html": [
       "== Status ==<br>Memory usage on this node: 9.3/16.0 GiB<br>Using FIFO scheduling algorithm.<br>Resources requested: 0/8 CPUs, 0/0 GPUs, 0.0/4.54 GiB heap, 0.0/2.27 GiB objects<br>Result logdir: /Users/aniket/ray_results/optimization_objective_2021-10-08_11-48-40<br>Number of trials: 1/1 (1 ERROR)<br><table>\n",
       "<thead>\n",
       "<tr><th>Trial name                        </th><th>status  </th><th>loc  </th><th>backbone    </th><th style=\"text-align: right;\">        lr</th><th>optimizer  </th></tr>\n",
       "</thead>\n",
       "<tbody>\n",
       "<tr><td>optimization_objective_94628_00000</td><td>ERROR   </td><td>     </td><td>ssl_resnet50</td><td style=\"text-align: right;\">0.00387828</td><td>sgd        </td></tr>\n",
       "</tbody>\n",
       "</table><br>Number of errored trials: 1<br><table>\n",
       "<thead>\n",
       "<tr><th>Trial name                        </th><th style=\"text-align: right;\">  # failures</th><th>error file                                                                                                                                                                              </th></tr>\n",
       "</thead>\n",
       "<tbody>\n",
       "<tr><td>optimization_objective_94628_00000</td><td style=\"text-align: right;\">           1</td><td>/Users/aniket/ray_results/optimization_objective_2021-10-08_11-48-40/optimization_objective_94628_00000_0_backbone=ssl_resnet50,lr=0.0038783,optimizer=sgd_2021-10-08_11-48-40/error.txt</td></tr>\n",
       "</tbody>\n",
       "</table><br>"
      ],
      "text/plain": [
       "<IPython.core.display.HTML object>"
      ]
     },
     "metadata": {},
     "output_type": "display_data"
    },
    {
     "data": {
      "text/html": [
       "== Status ==<br>Memory usage on this node: 9.2/16.0 GiB<br>Using FIFO scheduling algorithm.<br>Resources requested: 0/8 CPUs, 0/0 GPUs, 0.0/4.54 GiB heap, 0.0/2.27 GiB objects<br>Result logdir: /Users/aniket/ray_results/optimization_objective_2021-10-08_11-48-40<br>Number of trials: 1/1 (1 ERROR)<br><table>\n",
       "<thead>\n",
       "<tr><th>Trial name                        </th><th>status  </th><th>loc  </th><th>backbone    </th><th style=\"text-align: right;\">        lr</th><th>optimizer  </th></tr>\n",
       "</thead>\n",
       "<tbody>\n",
       "<tr><td>optimization_objective_94628_00000</td><td>ERROR   </td><td>     </td><td>ssl_resnet50</td><td style=\"text-align: right;\">0.00387828</td><td>sgd        </td></tr>\n",
       "</tbody>\n",
       "</table><br>Number of errored trials: 1<br><table>\n",
       "<thead>\n",
       "<tr><th>Trial name                        </th><th style=\"text-align: right;\">  # failures</th><th>error file                                                                                                                                                                              </th></tr>\n",
       "</thead>\n",
       "<tbody>\n",
       "<tr><td>optimization_objective_94628_00000</td><td style=\"text-align: right;\">           1</td><td>/Users/aniket/ray_results/optimization_objective_2021-10-08_11-48-40/optimization_objective_94628_00000_0_backbone=ssl_resnet50,lr=0.0038783,optimizer=sgd_2021-10-08_11-48-40/error.txt</td></tr>\n",
       "</tbody>\n",
       "</table><br>"
      ],
      "text/plain": [
       "<IPython.core.display.HTML object>"
      ]
     },
     "metadata": {},
     "output_type": "display_data"
    },
    {
     "name": "stderr",
     "output_type": "stream",
     "text": [
      "2021-10-08 11:52:31,819\tERROR tune.py:557 -- Trials did not complete: [optimization_objective_94628_00000]\n",
      "2021-10-08 11:52:31,822\tINFO tune.py:561 -- Total run time: 231.72 seconds (231.52 seconds for the tuning loop).\n",
      "2021-10-08 11:52:31,824\tWARNING tune.py:565 -- Experiment has been interrupted, but the most recent state was saved. You can continue running this experiment by passing `resume=True` to `tune.run()`\n",
      "2021-10-08 11:52:31,837\tWARNING experiment_analysis.py:644 -- Could not find best trial. Did you pass the correct `metric` parameter?\n"
     ]
    },
    {
     "name": "stdout",
     "output_type": "stream",
     "text": [
      "completed!\n"
     ]
    }
   ],
   "source": [
    "analysis = model.hp_tune()\n",
    "print(\"completed!\")"
   ]
  },
  {
   "cell_type": "code",
   "execution_count": null,
   "metadata": {},
   "outputs": [
    {
     "name": "stderr",
     "output_type": "stream",
     "text": [
      "\u001b[2m\u001b[36m(pid=80657)\u001b[0m /Users/aniket/miniconda3/envs/am/lib/python3.8/multiprocessing/resource_tracker.py:216: UserWarning: resource_tracker: There appear to be 32 leaked semaphore objects to clean up at shutdown\n",
      "\u001b[2m\u001b[36m(pid=80657)\u001b[0m   warnings.warn('resource_tracker: There appear to be %d '\n"
     ]
    }
   ],
   "source": [
    "# ray.shutdown()"
   ]
  }
 ],
 "metadata": {
  "interpreter": {
   "hash": "e17e8ddb8e7e3d1a1a4bbb9c7550f3ca117d116d32699553134de11279a06996"
  },
  "kernelspec": {
   "display_name": "Python 3 (ipykernel)",
   "language": "python",
   "name": "python3"
  },
  "language_info": {
   "codemirror_mode": {
    "name": "ipython",
    "version": 3
   },
   "file_extension": ".py",
   "mimetype": "text/x-python",
   "name": "python",
   "nbconvert_exporter": "python",
   "pygments_lexer": "ipython3",
   "version": "3.8.11"
  },
  "toc": {
   "base_numbering": 1,
   "nav_menu": {},
   "number_sections": true,
   "sideBar": true,
   "skip_h1_title": false,
   "title_cell": "Table of Contents",
   "title_sidebar": "Contents",
   "toc_cell": false,
   "toc_position": {},
   "toc_section_display": true,
   "toc_window_display": false
  }
 },
 "nbformat": 4,
 "nbformat_minor": 4
}
