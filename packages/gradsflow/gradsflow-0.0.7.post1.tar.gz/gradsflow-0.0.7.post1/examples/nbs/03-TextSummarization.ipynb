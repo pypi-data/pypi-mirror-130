{
 "cells": [
  {
   "cell_type": "markdown",
   "metadata": {
    "id": "xYgiH2TkkX7x"
   },
   "source": [
    "<!--<badge>--><a href=\"https://colab.research.google.com/github/gradsflow/gradsflow/blob/main/examples/nbs/03-TextSummarization.ipynb\" target=\"_parent\"><img src=\"https://colab.research.google.com/assets/colab-badge.svg\" alt=\"Open In Colab\"/></a><!--</badge>-->\n",
    "\n",
    "`!pip install lightning-flash`\n",
    "\n",
    "`!pip install -U gradsflow`"
   ]
  },
  {
   "cell_type": "code",
   "execution_count": null,
   "metadata": {
    "id": "2_posF7Rj8sH"
   },
   "outputs": [],
   "source": [
    "from flash.core.data.utils import download_data\n",
    "from flash.text import SummarizationData, SummarizationTask\n",
    "\n",
    "# 1. Download the data\n",
    "download_data(\"https://pl-flash-data.s3.amazonaws.com/xsum.zip\", \"data/\")\n",
    "\n",
    "# 2. Load the data\n",
    "datamodule = SummarizationData.from_csv(\n",
    "    \"input\",\n",
    "    \"target\",\n",
    "    train_file=\"data/xsum/train.csv\",\n",
    "    val_file=\"data/xsum/valid.csv\",\n",
    "    test_file=\"data/xsum/test.csv\",\n",
    ")"
   ]
  },
  {
   "cell_type": "code",
   "execution_count": null,
   "metadata": {
    "id": "YCYFfKhDkVVK"
   },
   "outputs": [],
   "source": [
    "from gradsflow import AutoSummarization\n",
    "\n",
    "suggested_conf = dict(\n",
    "    optimizers=[\"adam\"],\n",
    "    lr=(5e-4, 1e-3),\n",
    ")\n",
    "\n",
    "model = AutoSummarization(\n",
    "    datamodule,\n",
    "    suggested_backbones=\"sshleifer/distilbart-cnn-12-6\",\n",
    "    suggested_conf=suggested_conf,\n",
    "    max_epochs=1,\n",
    "    optimization_metric=\"train_loss\",\n",
    "    timeout=5,\n",
    ")\n",
    "\n",
    "print(\"AutoSummarization initialised!\")\n",
    "model.hp_tune()"
   ]
  }
 ],
 "metadata": {
  "colab": {
   "name": "03-TextSummarization.ipynb",
   "provenance": []
  },
  "kernelspec": {
   "display_name": "Python 3",
   "language": "python",
   "name": "python3"
  },
  "language_info": {
   "codemirror_mode": {
    "name": "ipython",
    "version": 3
   },
   "file_extension": ".py",
   "mimetype": "text/x-python",
   "name": "python",
   "nbconvert_exporter": "python",
   "pygments_lexer": "ipython3",
   "version": "3.7.10"
  }
 },
 "nbformat": 4,
 "nbformat_minor": 4
}
