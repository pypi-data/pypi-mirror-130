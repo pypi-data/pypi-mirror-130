{
 "cells": [
  {
   "cell_type": "markdown",
   "id": "52697382",
   "metadata": {},
   "source": [
    "<!--<badge>--><a href=\"https://colab.research.google.com/github/gradsflow/gradsflow/blob/main/examples/nbs/02-TextClassification.ipynb\" target=\"_parent\"><img src=\"https://colab.research.google.com/assets/colab-badge.svg\" alt=\"Open In Colab\"/></a><!--</badge>-->"
   ]
  },
  {
   "cell_type": "code",
   "execution_count": null,
   "id": "e130bd40",
   "metadata": {},
   "outputs": [],
   "source": [
    "import os\n",
    "import sys\n",
    "\n",
    "os.chdir(\"../../\")"
   ]
  },
  {
   "cell_type": "code",
   "execution_count": null,
   "id": "592802fe",
   "metadata": {},
   "outputs": [],
   "source": [
    "import warnings\n",
    "\n",
    "warnings.filterwarnings(\"ignore\")"
   ]
  },
  {
   "cell_type": "code",
   "execution_count": null,
   "id": "bf38e2b8",
   "metadata": {},
   "outputs": [],
   "source": [
    "from flash.core.data.utils import download_data\n",
    "from flash.text import TextClassificationData\n",
    "from gradsflow import AutoTextClassifier"
   ]
  },
  {
   "cell_type": "code",
   "execution_count": null,
   "id": "5fc8603f",
   "metadata": {},
   "outputs": [],
   "source": [
    "# download_data(\"https://pl-flash-data.s3.amazonaws.com/imdb.zip\", \"./data/\")\n",
    "\n",
    "datamodule = TextClassificationData.from_csv(\n",
    "    \"review\",\n",
    "    \"sentiment\",\n",
    "    train_file=\"data/imdb/train.csv\",\n",
    "    val_file=\"data/imdb/valid.csv\",\n",
    ")"
   ]
  },
  {
   "cell_type": "code",
   "execution_count": null,
   "id": "9f5d0474",
   "metadata": {},
   "outputs": [],
   "source": [
    "suggested_conf = dict(\n",
    "    optimizers=[\"adam\"],\n",
    "    lr=(5e-4, 1e-3),\n",
    ")\n",
    "\n",
    "model = AutoTextClassifier(\n",
    "    datamodule,\n",
    "    suggested_backbones=[\"sgugger/tiny-distilbert-classification\"],\n",
    "    suggested_conf=suggested_conf,\n",
    "    max_epochs=1,\n",
    "    optimization_metric=\"val_accuracy\",\n",
    "    timeout=5,\n",
    ")\n",
    "\n",
    "print(\"AutoTextClassifier initialised!\")\n",
    "model.hp_tune()"
   ]
  }
 ],
 "metadata": {
  "kernelspec": {
   "display_name": "Python 3",
   "language": "python",
   "name": "python3"
  },
  "language_info": {
   "codemirror_mode": {
    "name": "ipython",
    "version": 3
   },
   "file_extension": ".py",
   "mimetype": "text/x-python",
   "name": "python",
   "nbconvert_exporter": "python",
   "pygments_lexer": "ipython3",
   "version": "3.7.10"
  }
 },
 "nbformat": 4,
 "nbformat_minor": 5
}
