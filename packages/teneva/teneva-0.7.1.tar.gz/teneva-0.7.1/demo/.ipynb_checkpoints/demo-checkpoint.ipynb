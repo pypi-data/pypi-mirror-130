{
 "cells": [
  {
   "cell_type": "markdown",
   "id": "4ea27a8a-76b7-4885-9881-9570f7f358dc",
   "metadata": {},
   "source": [
    "**teneva**\n",
    "\n",
    "This python package, named teneva (**ten**sor **eva**luation), provides very compact implementation for the multidimensional cross approximation algorithm in the tensor-train (TT) format. This package also contains a function for quickly calculating the values of the constructed low-rank tensor approximation, as well as a number of auxiliary useful utilities.\n",
    "\n",
    "> See [github repo](https://github.com/AndreiChertkov/teneva) for more details.\n",
    "\n",
    "---"
   ]
  },
  {
   "cell_type": "markdown",
   "id": "c86a292a-ec7c-4922-b530-d762f1ef1fbc",
   "metadata": {},
   "source": [
    "# Loading and importing modules"
   ]
  },
  {
   "cell_type": "code",
   "execution_count": null,
   "id": "a4906ed5-76bb-4eb9-8ca6-eeff53e8ec60",
   "metadata": {},
   "outputs": [],
   "source": [
    "import numpy as np\n",
    "from time import perf_counter as tpc"
   ]
  },
  {
   "cell_type": "code",
   "execution_count": 3,
   "id": "132484ab-37c0-4cb7-bc75-ea0b013d85ac",
   "metadata": {},
   "outputs": [],
   "source": [
    "import teneva"
   ]
  },
  {
   "cell_type": "code",
   "execution_count": null,
   "id": "a1b0d047-dc17-4288-bd62-4cf82e0d4d2d",
   "metadata": {},
   "outputs": [],
   "source": [
    "np.random.seed(42)"
   ]
  },
  {
   "cell_type": "markdown",
   "id": "97247acc-0b0d-4f84-9f46-b6a2e6cee7b6",
   "metadata": {},
   "source": [
    "# Demo for all functions from all modules"
   ]
  },
  {
   "cell_type": "markdown",
   "id": "205cc63d-a0ec-42b8-832b-da10010d97c9",
   "metadata": {},
   "source": [
    "In this section, we provide a brief description and demonstration of the capabilities of each function from the `teneva` package.\n",
    "\n",
    "> The program code is organized within a functional paradigm. Most functions take $Y$ - a list of the TT-cores $G_1, G_2, \\ldots, G_d$ (3D numpy arrays) - as an input argument and return its updated representation as a new list of TT-cores or some related scalar values (mean, norm, etc.).\n",
    "\n",
    "> Sometimes to demonstrate a specific function, it is also necessary to use some other functions from the package, in this case we do not provide comments for the auxiliary function, however all relevant information can be found in the relevant subsection."
   ]
  },
  {
   "cell_type": "markdown",
   "id": "2a4f092c-2935-485b-9371-262c7942b632",
   "metadata": {},
   "source": [
    "## `als`"
   ]
  },
  {
   "cell_type": "markdown",
   "id": "d4b15db8-b8e5-44b9-8183-8774087c3d09",
   "metadata": {},
   "source": [
    "### `als`"
   ]
  },
  {
   "cell_type": "code",
   "execution_count": 72,
   "id": "f32d70d8-920e-48fa-a423-2fd49afde310",
   "metadata": {},
   "outputs": [],
   "source": [
    "d         = 100         # Dimension of the function\n",
    "A         = [-5.] * d   # Lower bound for spatial grid\n",
    "B         = [+5.] * d   # Upper bound for spatial grid\n",
    "N         = [10] * d    # Shape of the tensor (it may be non-uniform)\n",
    "M_tst     = 10000       # Number of test points"
   ]
  },
  {
   "cell_type": "code",
   "execution_count": 73,
   "id": "827453cf-47ec-4826-a731-6e27d089641b",
   "metadata": {},
   "outputs": [],
   "source": [
    "evals     = 10000       # Number of calls to target function\n",
    "nswp      = 50          # Sweep number\n",
    "r         = 3           # TT-rank of the initial tensor"
   ]
  },
  {
   "cell_type": "code",
   "execution_count": 74,
   "id": "287ff5fc-18f1-49ea-91a5-ba0c92d329db",
   "metadata": {},
   "outputs": [],
   "source": [
    "# Target function:\n",
    "\n",
    "from scipy.optimize import rosen\n",
    "def func(I): \n",
    "    X = teneva.ind2poi(I, A, B, N)\n",
    "    return rosen(X.T)"
   ]
  },
  {
   "cell_type": "code",
   "execution_count": 75,
   "id": "faab04be-8554-4552-b912-8bd3076f3c53",
   "metadata": {},
   "outputs": [],
   "source": [
    "# Train data:\n",
    "\n",
    "I_trn = teneva.lhs(N, evals) \n",
    "Y_trn = func(I_trn)"
   ]
  },
  {
   "cell_type": "code",
   "execution_count": 76,
   "id": "b176c329-f9b9-4d06-ad66-6421688e4fde",
   "metadata": {},
   "outputs": [],
   "source": [
    "# Test data:\n",
    "\n",
    "I_tst = np.vstack([np.random.choice(N[i], M_tst) for i in range(d)]).T\n",
    "Y_tst = func(I_tst)"
   ]
  },
  {
   "cell_type": "code",
   "execution_count": 77,
   "id": "ba1be68f-61b6-43ab-b837-455a65bf1a25",
   "metadata": {},
   "outputs": [
    {
     "name": "stdout",
     "output_type": "stream",
     "text": [
      "Build time     :      38.14\n"
     ]
    }
   ],
   "source": [
    "# Build tensor:\n",
    "\n",
    "t = tpc()\n",
    "Y = teneva.rand(N, r)\n",
    "Y = teneva.als(I_trn, Y_trn, Y, nswp)\n",
    "t = tpc() - t\n",
    "\n",
    "print(f'Build time     : {t:-10.2f}')"
   ]
  },
  {
   "cell_type": "code",
   "execution_count": 78,
   "id": "90ead4b4-b3bf-4dcd-a6ad-9abf25ad881c",
   "metadata": {},
   "outputs": [
    {
     "name": "stdout",
     "output_type": "stream",
     "text": [
      "Error on train :   7.64e-01\n",
      "Error on test  :   2.56e+03\n"
     ]
    }
   ],
   "source": [
    "# Check result:\n",
    "\n",
    "get = teneva.getter(Y)\n",
    "\n",
    "Z = np.array([get(i) for i in I_trn])\n",
    "e_trn = np.linalg.norm(Z - Y_trn) / np.linalg.norm(Y_trn)\n",
    "\n",
    "Z = np.array([get(i) for i in I_tst])\n",
    "e_tst = np.linalg.norm(Z - Y_tst) / np.linalg.norm(Y_tst)\n",
    "\n",
    "print(f'Error on train : {e_trn:-10.2e}')\n",
    "print(f'Error on test  : {e_tst:-10.2e}')"
   ]
  },
  {
   "cell_type": "markdown",
   "id": "4f820318-3154-4e4f-b9d8-5a31a8ec1006",
   "metadata": {},
   "source": [
    "## `anova`"
   ]
  },
  {
   "cell_type": "markdown",
   "id": "50f10c3b-1b3f-4576-b948-edf15a51fc23",
   "metadata": {},
   "source": [
    "### `anova`"
   ]
  },
  {
   "cell_type": "code",
   "execution_count": 79,
   "id": "773bb162-b69b-4eec-815b-deb31f0bf173",
   "metadata": {},
   "outputs": [],
   "source": [
    "d         = 100         # Dimension of the function\n",
    "A         = [-5.] * d   # Lower bound for spatial grid\n",
    "B         = [+5.] * d   # Upper bound for spatial grid\n",
    "N         = [10] * d    # Shape of the tensor (it may be non-uniform)\n",
    "M_tst     = 10000       # Number of test points"
   ]
  },
  {
   "cell_type": "code",
   "execution_count": 80,
   "id": "88fd28fe-e472-4000-8f77-edc14e1c8727",
   "metadata": {},
   "outputs": [],
   "source": [
    "evals     = 10000       # Number of calls to target function\n",
    "order     = 1           # Order of ANOVA decomposition (1 or 2)\n",
    "r         = 3           # TT-rank of the resulting tensor"
   ]
  },
  {
   "cell_type": "code",
   "execution_count": 81,
   "id": "8a38f9d3-c994-4896-abff-8bf9626bd2cc",
   "metadata": {},
   "outputs": [],
   "source": [
    "# Target function:\n",
    "\n",
    "from scipy.optimize import rosen\n",
    "def func(I): \n",
    "    X = teneva.ind2poi(I, A, B, N)\n",
    "    return rosen(X.T)"
   ]
  },
  {
   "cell_type": "code",
   "execution_count": 82,
   "id": "a6cc8b85-f403-4068-b2d1-2f247a4cec60",
   "metadata": {},
   "outputs": [],
   "source": [
    "# Train data:\n",
    "\n",
    "I_trn = teneva.lhs(N, evals) \n",
    "Y_trn = func(I_trn)"
   ]
  },
  {
   "cell_type": "code",
   "execution_count": 83,
   "id": "40ff7216-f166-4975-88df-8dc3699c99c2",
   "metadata": {},
   "outputs": [],
   "source": [
    "# Test data:\n",
    "\n",
    "I_tst = np.vstack([np.random.choice(N[i], M_tst) for i in range(d)]).T\n",
    "Y_tst = func(I_tst)"
   ]
  },
  {
   "cell_type": "code",
   "execution_count": 84,
   "id": "a9846ffc-98fa-4dd0-83f1-a3c3fe57dd01",
   "metadata": {},
   "outputs": [
    {
     "name": "stdout",
     "output_type": "stream",
     "text": [
      "Build time     :       0.09\n"
     ]
    }
   ],
   "source": [
    "# Build tensor:\n",
    "\n",
    "t = tpc()\n",
    "Y = teneva.anova(I_trn, Y_trn, r, order)\n",
    "t = tpc() - t\n",
    "\n",
    "print(f'Build time     : {t:-10.2f}')"
   ]
  },
  {
   "cell_type": "code",
   "execution_count": 85,
   "id": "5d99c4b8-e6df-4e5a-bf5c-84a3903653de",
   "metadata": {},
   "outputs": [
    {
     "name": "stdout",
     "output_type": "stream",
     "text": [
      "Error on train :   4.76e-02\n",
      "Error on test  :   4.75e-02\n"
     ]
    }
   ],
   "source": [
    "# Check result:\n",
    "\n",
    "get = teneva.getter(Y)\n",
    "\n",
    "Z = np.array([get(i) for i in I_trn])\n",
    "e_trn = np.linalg.norm(Z - Y_trn) / np.linalg.norm(Y_trn)\n",
    "\n",
    "Z = np.array([get(i) for i in I_tst])\n",
    "e_tst = np.linalg.norm(Z - Y_tst) / np.linalg.norm(Y_tst)\n",
    "\n",
    "print(f'Error on train : {e_trn:-10.2e}')\n",
    "print(f'Error on test  : {e_tst:-10.2e}')"
   ]
  },
  {
   "cell_type": "markdown",
   "id": "177047af-7444-4e64-82fc-87832a1dde3d",
   "metadata": {},
   "source": [
    "## `cross`"
   ]
  },
  {
   "cell_type": "markdown",
   "id": "4f4371b3-3864-45de-94af-965e4dec1237",
   "metadata": {},
   "source": [
    "### `cross`"
   ]
  },
  {
   "cell_type": "code",
   "execution_count": 98,
   "id": "3aee279a-54d2-4a83-95c0-e90579537cb1",
   "metadata": {},
   "outputs": [],
   "source": [
    "d         = 100         # Dimension of the function\n",
    "A         = [-5.] * d   # Lower bound for spatial grid\n",
    "B         = [+5.] * d   # Upper bound for spatial grid\n",
    "N         = [10] * d    # Shape of the tensor (it may be non-uniform)\n",
    "M_tst     = 10000       # Number of test points"
   ]
  },
  {
   "cell_type": "code",
   "execution_count": 104,
   "id": "6d0b30c8-04c9-47af-afaf-7c4c15c9e30c",
   "metadata": {},
   "outputs": [],
   "source": [
    "evals     = 10000       # Number of calls to target function\n",
    "nswp      = 5           # Sweep number\n",
    "kr        = 0           # Cross parameter (kickrank)\n",
    "rf        = 2           # Cross parameter\n",
    "r         = 3           # TT-rank of the initial tensor\n",
    "e         = 1.E-4       # Desired accuracy"
   ]
  },
  {
   "cell_type": "code",
   "execution_count": 105,
   "id": "1dea74c3-0fb4-4a88-8c1c-05c162316dbb",
   "metadata": {},
   "outputs": [],
   "source": [
    "# Target function:\n",
    "\n",
    "from scipy.optimize import rosen\n",
    "def func(I): \n",
    "    X = teneva.ind2poi(I, A, B, N)\n",
    "    return rosen(X.T)"
   ]
  },
  {
   "cell_type": "code",
   "execution_count": 106,
   "id": "97a50a92-2f64-48bd-93ec-22b97516fc02",
   "metadata": {},
   "outputs": [],
   "source": [
    "# Test data:\n",
    "\n",
    "I_tst = np.vstack([np.random.choice(N[i], M_tst) for i in range(d)]).T\n",
    "Y_tst = func(I_tst)"
   ]
  },
  {
   "cell_type": "code",
   "execution_count": 107,
   "id": "447dfbe4-b187-4005-969f-0c366d20490f",
   "metadata": {},
   "outputs": [
    {
     "ename": "KeyboardInterrupt",
     "evalue": "",
     "output_type": "error",
     "traceback": [
      "\u001b[0;31m---------------------------------------------------------------------------\u001b[0m",
      "\u001b[0;31mKeyboardInterrupt\u001b[0m                         Traceback (most recent call last)",
      "\u001b[0;32m<ipython-input-107-bf391b1d9eb8>\u001b[0m in \u001b[0;36m<module>\u001b[0;34m\u001b[0m\n\u001b[1;32m      6\u001b[0m \u001b[0mcache\u001b[0m\u001b[0;34m,\u001b[0m \u001b[0minfo\u001b[0m \u001b[0;34m=\u001b[0m \u001b[0;34m{\u001b[0m\u001b[0;34m}\u001b[0m\u001b[0;34m,\u001b[0m \u001b[0;34m{\u001b[0m\u001b[0;34m}\u001b[0m\u001b[0;34m\u001b[0m\u001b[0;34m\u001b[0m\u001b[0m\n\u001b[1;32m      7\u001b[0m \u001b[0mY\u001b[0m \u001b[0;34m=\u001b[0m \u001b[0mteneva\u001b[0m\u001b[0;34m.\u001b[0m\u001b[0mrand\u001b[0m\u001b[0;34m(\u001b[0m\u001b[0mN\u001b[0m\u001b[0;34m,\u001b[0m \u001b[0mr\u001b[0m\u001b[0;34m)\u001b[0m\u001b[0;34m\u001b[0m\u001b[0;34m\u001b[0m\u001b[0m\n\u001b[0;32m----> 8\u001b[0;31m \u001b[0mY\u001b[0m \u001b[0;34m=\u001b[0m \u001b[0mteneva\u001b[0m\u001b[0;34m.\u001b[0m\u001b[0mcross\u001b[0m\u001b[0;34m(\u001b[0m\u001b[0mfunc\u001b[0m\u001b[0;34m,\u001b[0m \u001b[0mY\u001b[0m\u001b[0;34m,\u001b[0m \u001b[0mnswp\u001b[0m\u001b[0;34m,\u001b[0m \u001b[0mkr\u001b[0m\u001b[0;34m,\u001b[0m \u001b[0mrf\u001b[0m\u001b[0;34m,\u001b[0m \u001b[0mcache\u001b[0m\u001b[0;34m,\u001b[0m \u001b[0minfo\u001b[0m\u001b[0;34m)\u001b[0m\u001b[0;34m\u001b[0m\u001b[0;34m\u001b[0m\u001b[0m\n\u001b[0m\u001b[1;32m      9\u001b[0m \u001b[0mY\u001b[0m \u001b[0;34m=\u001b[0m \u001b[0mteneva\u001b[0m\u001b[0;34m.\u001b[0m\u001b[0mtruncate\u001b[0m\u001b[0;34m(\u001b[0m\u001b[0mY\u001b[0m\u001b[0;34m,\u001b[0m \u001b[0me\u001b[0m\u001b[0;34m)\u001b[0m\u001b[0;34m\u001b[0m\u001b[0;34m\u001b[0m\u001b[0m\n\u001b[1;32m     10\u001b[0m \u001b[0mt\u001b[0m \u001b[0;34m=\u001b[0m \u001b[0mtpc\u001b[0m\u001b[0;34m(\u001b[0m\u001b[0;34m)\u001b[0m \u001b[0;34m-\u001b[0m \u001b[0mt\u001b[0m\u001b[0;34m\u001b[0m\u001b[0;34m\u001b[0m\u001b[0m\n",
      "\u001b[0;32m~/opt/anaconda3/lib/python3.8/site-packages/teneva-0.7.0-py3.8.egg/teneva/cross.py\u001b[0m in \u001b[0;36mcross\u001b[0;34m(f, Y0, nswp, kr, rf, cache, info)\u001b[0m\n\u001b[1;32m     48\u001b[0m         \u001b[0;32mfor\u001b[0m \u001b[0mi\u001b[0m \u001b[0;32min\u001b[0m \u001b[0mrange\u001b[0m\u001b[0;34m(\u001b[0m\u001b[0md\u001b[0m\u001b[0;34m)\u001b[0m\u001b[0;34m:\u001b[0m\u001b[0;34m\u001b[0m\u001b[0;34m\u001b[0m\u001b[0m\n\u001b[1;32m     49\u001b[0m             \u001b[0mG\u001b[0m \u001b[0;34m=\u001b[0m \u001b[0mnp\u001b[0m\u001b[0;34m.\u001b[0m\u001b[0mtensordot\u001b[0m\u001b[0;34m(\u001b[0m\u001b[0mR\u001b[0m\u001b[0;34m,\u001b[0m \u001b[0mY\u001b[0m\u001b[0;34m[\u001b[0m\u001b[0mi\u001b[0m\u001b[0;34m]\u001b[0m\u001b[0;34m,\u001b[0m \u001b[0;36m1\u001b[0m\u001b[0;34m)\u001b[0m\u001b[0;34m\u001b[0m\u001b[0;34m\u001b[0m\u001b[0m\n\u001b[0;32m---> 50\u001b[0;31m             \u001b[0my\u001b[0m \u001b[0;34m=\u001b[0m \u001b[0mfunc\u001b[0m\u001b[0;34m(\u001b[0m\u001b[0mcross_index_merge\u001b[0m\u001b[0;34m(\u001b[0m\u001b[0mIl\u001b[0m\u001b[0;34m[\u001b[0m\u001b[0mi\u001b[0m\u001b[0;34m]\u001b[0m\u001b[0;34m,\u001b[0m \u001b[0mIg\u001b[0m\u001b[0;34m[\u001b[0m\u001b[0mi\u001b[0m\u001b[0;34m]\u001b[0m\u001b[0;34m,\u001b[0m \u001b[0mIr\u001b[0m\u001b[0;34m[\u001b[0m\u001b[0mi\u001b[0m\u001b[0;34m+\u001b[0m\u001b[0;36m1\u001b[0m\u001b[0;34m]\u001b[0m\u001b[0;34m)\u001b[0m\u001b[0;34m)\u001b[0m\u001b[0;34m\u001b[0m\u001b[0;34m\u001b[0m\u001b[0m\n\u001b[0m\u001b[1;32m     51\u001b[0m             Y[i], Il[i+1], R = cross_build_l2r(\n\u001b[1;32m     52\u001b[0m                 *G.shape, y, Ig[i], Il[i], kr, rf)\n",
      "\u001b[0;32m~/opt/anaconda3/lib/python3.8/site-packages/teneva-0.7.0-py3.8.egg/teneva/cross.py\u001b[0m in \u001b[0;36mfunc\u001b[0;34m(I)\u001b[0m\n\u001b[1;32m     31\u001b[0m             \u001b[0;32mreturn\u001b[0m \u001b[0mf\u001b[0m\u001b[0;34m(\u001b[0m\u001b[0mI\u001b[0m\u001b[0;34m)\u001b[0m\u001b[0;34m\u001b[0m\u001b[0;34m\u001b[0m\u001b[0m\n\u001b[1;32m     32\u001b[0m \u001b[0;34m\u001b[0m\u001b[0m\n\u001b[0;32m---> 33\u001b[0;31m         \u001b[0mI_new\u001b[0m \u001b[0;34m=\u001b[0m \u001b[0mnp\u001b[0m\u001b[0;34m.\u001b[0m\u001b[0marray\u001b[0m\u001b[0;34m(\u001b[0m\u001b[0;34m[\u001b[0m\u001b[0mi\u001b[0m \u001b[0;32mfor\u001b[0m \u001b[0mi\u001b[0m \u001b[0;32min\u001b[0m \u001b[0mI\u001b[0m \u001b[0;32mif\u001b[0m \u001b[0mind2str\u001b[0m\u001b[0;34m(\u001b[0m\u001b[0mi\u001b[0m\u001b[0;34m)\u001b[0m \u001b[0;32mnot\u001b[0m \u001b[0;32min\u001b[0m \u001b[0mcache\u001b[0m\u001b[0;34m]\u001b[0m\u001b[0;34m)\u001b[0m\u001b[0;34m\u001b[0m\u001b[0;34m\u001b[0m\u001b[0m\n\u001b[0m\u001b[1;32m     34\u001b[0m         \u001b[0;32mif\u001b[0m \u001b[0mlen\u001b[0m\u001b[0;34m(\u001b[0m\u001b[0mI_new\u001b[0m\u001b[0;34m)\u001b[0m\u001b[0;34m:\u001b[0m\u001b[0;34m\u001b[0m\u001b[0;34m\u001b[0m\u001b[0m\n\u001b[1;32m     35\u001b[0m             \u001b[0mY_new\u001b[0m \u001b[0;34m=\u001b[0m \u001b[0mf\u001b[0m\u001b[0;34m(\u001b[0m\u001b[0mI_new\u001b[0m\u001b[0;34m)\u001b[0m\u001b[0;34m\u001b[0m\u001b[0;34m\u001b[0m\u001b[0m\n",
      "\u001b[0;32m~/opt/anaconda3/lib/python3.8/site-packages/teneva-0.7.0-py3.8.egg/teneva/cross.py\u001b[0m in \u001b[0;36m<listcomp>\u001b[0;34m(.0)\u001b[0m\n\u001b[1;32m     31\u001b[0m             \u001b[0;32mreturn\u001b[0m \u001b[0mf\u001b[0m\u001b[0;34m(\u001b[0m\u001b[0mI\u001b[0m\u001b[0;34m)\u001b[0m\u001b[0;34m\u001b[0m\u001b[0;34m\u001b[0m\u001b[0m\n\u001b[1;32m     32\u001b[0m \u001b[0;34m\u001b[0m\u001b[0m\n\u001b[0;32m---> 33\u001b[0;31m         \u001b[0mI_new\u001b[0m \u001b[0;34m=\u001b[0m \u001b[0mnp\u001b[0m\u001b[0;34m.\u001b[0m\u001b[0marray\u001b[0m\u001b[0;34m(\u001b[0m\u001b[0;34m[\u001b[0m\u001b[0mi\u001b[0m \u001b[0;32mfor\u001b[0m \u001b[0mi\u001b[0m \u001b[0;32min\u001b[0m \u001b[0mI\u001b[0m \u001b[0;32mif\u001b[0m \u001b[0mind2str\u001b[0m\u001b[0;34m(\u001b[0m\u001b[0mi\u001b[0m\u001b[0;34m)\u001b[0m \u001b[0;32mnot\u001b[0m \u001b[0;32min\u001b[0m \u001b[0mcache\u001b[0m\u001b[0;34m]\u001b[0m\u001b[0;34m)\u001b[0m\u001b[0;34m\u001b[0m\u001b[0;34m\u001b[0m\u001b[0m\n\u001b[0m\u001b[1;32m     34\u001b[0m         \u001b[0;32mif\u001b[0m \u001b[0mlen\u001b[0m\u001b[0;34m(\u001b[0m\u001b[0mI_new\u001b[0m\u001b[0;34m)\u001b[0m\u001b[0;34m:\u001b[0m\u001b[0;34m\u001b[0m\u001b[0;34m\u001b[0m\u001b[0m\n\u001b[1;32m     35\u001b[0m             \u001b[0mY_new\u001b[0m \u001b[0;34m=\u001b[0m \u001b[0mf\u001b[0m\u001b[0;34m(\u001b[0m\u001b[0mI_new\u001b[0m\u001b[0;34m)\u001b[0m\u001b[0;34m\u001b[0m\u001b[0;34m\u001b[0m\u001b[0m\n",
      "\u001b[0;32m~/opt/anaconda3/lib/python3.8/site-packages/teneva-0.7.0-py3.8.egg/teneva/grid.py\u001b[0m in \u001b[0;36mind2str\u001b[0;34m(i)\u001b[0m\n\u001b[1;32m     25\u001b[0m \u001b[0;32mdef\u001b[0m \u001b[0mind2str\u001b[0m\u001b[0;34m(\u001b[0m\u001b[0mi\u001b[0m\u001b[0;34m)\u001b[0m\u001b[0;34m:\u001b[0m\u001b[0;34m\u001b[0m\u001b[0;34m\u001b[0m\u001b[0m\n\u001b[1;32m     26\u001b[0m     \u001b[0;34m\"\"\"Transforms array of int like [1, 2, 3] into string like '1-2-3'.\"\"\"\u001b[0m\u001b[0;34m\u001b[0m\u001b[0;34m\u001b[0m\u001b[0m\n\u001b[0;32m---> 27\u001b[0;31m     \u001b[0;32mreturn\u001b[0m \u001b[0;34m'-'\u001b[0m\u001b[0;34m.\u001b[0m\u001b[0mjoin\u001b[0m\u001b[0;34m(\u001b[0m\u001b[0;34m[\u001b[0m\u001b[0mstr\u001b[0m\u001b[0;34m(\u001b[0m\u001b[0mint\u001b[0m\u001b[0;34m(\u001b[0m\u001b[0mv\u001b[0m\u001b[0;34m)\u001b[0m\u001b[0;34m)\u001b[0m \u001b[0;32mfor\u001b[0m \u001b[0mv\u001b[0m \u001b[0;32min\u001b[0m \u001b[0mi\u001b[0m\u001b[0;34m]\u001b[0m\u001b[0;34m)\u001b[0m\u001b[0;34m\u001b[0m\u001b[0;34m\u001b[0m\u001b[0m\n\u001b[0m\u001b[1;32m     28\u001b[0m \u001b[0;34m\u001b[0m\u001b[0m\n\u001b[1;32m     29\u001b[0m \u001b[0;34m\u001b[0m\u001b[0m\n",
      "\u001b[0;32m~/opt/anaconda3/lib/python3.8/site-packages/teneva-0.7.0-py3.8.egg/teneva/grid.py\u001b[0m in \u001b[0;36m<listcomp>\u001b[0;34m(.0)\u001b[0m\n\u001b[1;32m     25\u001b[0m \u001b[0;32mdef\u001b[0m \u001b[0mind2str\u001b[0m\u001b[0;34m(\u001b[0m\u001b[0mi\u001b[0m\u001b[0;34m)\u001b[0m\u001b[0;34m:\u001b[0m\u001b[0;34m\u001b[0m\u001b[0;34m\u001b[0m\u001b[0m\n\u001b[1;32m     26\u001b[0m     \u001b[0;34m\"\"\"Transforms array of int like [1, 2, 3] into string like '1-2-3'.\"\"\"\u001b[0m\u001b[0;34m\u001b[0m\u001b[0;34m\u001b[0m\u001b[0m\n\u001b[0;32m---> 27\u001b[0;31m     \u001b[0;32mreturn\u001b[0m \u001b[0;34m'-'\u001b[0m\u001b[0;34m.\u001b[0m\u001b[0mjoin\u001b[0m\u001b[0;34m(\u001b[0m\u001b[0;34m[\u001b[0m\u001b[0mstr\u001b[0m\u001b[0;34m(\u001b[0m\u001b[0mint\u001b[0m\u001b[0;34m(\u001b[0m\u001b[0mv\u001b[0m\u001b[0;34m)\u001b[0m\u001b[0;34m)\u001b[0m \u001b[0;32mfor\u001b[0m \u001b[0mv\u001b[0m \u001b[0;32min\u001b[0m \u001b[0mi\u001b[0m\u001b[0;34m]\u001b[0m\u001b[0;34m)\u001b[0m\u001b[0;34m\u001b[0m\u001b[0;34m\u001b[0m\u001b[0m\n\u001b[0m\u001b[1;32m     28\u001b[0m \u001b[0;34m\u001b[0m\u001b[0m\n\u001b[1;32m     29\u001b[0m \u001b[0;34m\u001b[0m\u001b[0m\n",
      "\u001b[0;31mKeyboardInterrupt\u001b[0m: "
     ]
    }
   ],
   "source": [
    "# Build tensor:\n",
    "# (note: cache is optional (it may be None) and it is effictive only for\n",
    "# complex functions with long computing time for one call)\n",
    "\n",
    "t = tpc()\n",
    "cache, info = {}, {}\n",
    "Y = teneva.rand(N, r)\n",
    "Y = teneva.cross(func, Y, nswp, kr, rf, cache, info)\n",
    "Y = teneva.truncate(Y, e)\n",
    "t = tpc() - t\n",
    "\n",
    "print(f'Build time     : {t:-10.2f}')\n",
    "print(f'Evals func     : {info[\"k_evals\"]:-10d}')\n",
    "print(f'Cache uses     : {info[\"k_cache\"]:-10d}')\n",
    "print(f'TT-rank of res : {teneva.erank(Y):-10.1f}')"
   ]
  },
  {
   "cell_type": "code",
   "execution_count": null,
   "id": "a4f1e9e4-59f3-4d55-a5d3-42e9a8e4d875",
   "metadata": {},
   "outputs": [],
   "source": [
    "# Check result:\n",
    "\n",
    "get = teneva.getter(Y)\n",
    "\n",
    "Z = np.array([get(i) for i in I_trn])\n",
    "e_trn = np.linalg.norm(Z - Y_trn) / np.linalg.norm(Y_trn)\n",
    "\n",
    "Z = np.array([get(i) for i in I_tst])\n",
    "e_tst = np.linalg.norm(Z - Y_tst) / np.linalg.norm(Y_tst)\n",
    "\n",
    "print(f'Error on train : {e_trn:-10.2e}')\n",
    "print(f'Error on test  : {e_tst:-10.2e}')"
   ]
  },
  {
   "cell_type": "markdown",
   "id": "974628c1-009f-4164-bb08-908c40d125eb",
   "metadata": {},
   "source": [
    "## `grid`"
   ]
  },
  {
   "cell_type": "markdown",
   "id": "e8f186af-1efe-4574-81e4-22766c497946",
   "metadata": {},
   "source": [
    "### `ind2poi`"
   ]
  },
  {
   "cell_type": "markdown",
   "id": "3e0d5869-e686-4e81-873a-02ed068cbb69",
   "metadata": {},
   "source": [
    "Transforms multiindices (samples) into points of the uniform grid"
   ]
  },
  {
   "cell_type": "code",
   "execution_count": null,
   "id": "d5ea686f-21c5-4589-9e4e-2e0f5fb9277a",
   "metadata": {},
   "outputs": [],
   "source": [
    "d = 10          # Dimension of the grid\n",
    "A = [-5.] * d   # Lower bound for grid\n",
    "B = [+5.] * d   # Upper bound for grid\n",
    "N = [100] * d   # Shape of the grid\n",
    "\n",
    "X = teneva.ind2poi(I, a, b, n)"
   ]
  },
  {
   "cell_type": "code",
   "execution_count": null,
   "id": "d84155d5-1c6d-42bc-88ea-dc6462eb4afb",
   "metadata": {},
   "outputs": [],
   "source": []
  },
  {
   "cell_type": "markdown",
   "id": "176c6203-877a-457c-933b-fb99a1e4d183",
   "metadata": {},
   "source": [
    "## `tensor`"
   ]
  },
  {
   "cell_type": "markdown",
   "id": "7b27165c-6912-42eb-b9c1-e5800b8236bd",
   "metadata": {},
   "source": [
    "### `add`"
   ]
  },
  {
   "cell_type": "markdown",
   "id": "396c334a-9b4f-472c-93cc-d4af4cd7c5b3",
   "metadata": {},
   "source": [
    "Compute element wise sum $Y = Y_1 + Y_2$ for the given TT-tensors $Y_1$ and $Y_2$ presented as lists of TT-cores."
   ]
  },
  {
   "cell_type": "code",
   "execution_count": 18,
   "id": "0bc6741d-d398-475e-8672-212926ff6046",
   "metadata": {},
   "outputs": [
    {
     "name": "stdout",
     "output_type": "stream",
     "text": [
      "  5  5  5  5  5  5  5  5  5  5 \n",
      " / \\/ \\/ \\/ \\/ \\/ \\/ \\/ \\/ \\/ \\\n",
      " 1  5  5  5  5  5  5  5  5  5  1 \n",
      "\n"
     ]
    }
   ],
   "source": [
    "Y1 = teneva.rand([5]*10, 2) # 10-dim random TT-tensor with TT-rank 2\n",
    "Y2 = teneva.rand([5]*10, 3) # 10-dim random TT-tensor with TT-rank 3\n",
    "Y = teneva.add(Y1, Y2)      # Compute the sum of Y1 and Y2\n",
    "teneva.show(Y)              # Print the resulting TT-tensor (note that it has TT-rank 2 + 3 = 5)"
   ]
  },
  {
   "cell_type": "markdown",
   "id": "3928f129-9c84-40e0-b67c-20445b211d48",
   "metadata": {},
   "source": [
    "### `add_many`"
   ]
  },
  {
   "cell_type": "markdown",
   "id": "39dc4199-f696-40c1-94f3-fbe64175e764",
   "metadata": {},
   "source": [
    "Compute element wise sum $Y = Y_1 + Y_2 + \\ldots + Y_m$ for the given TT-tensors given as lists of TT-cores. The result is truncated to the given accuracy `e` and/or maximum TT-rank `r`. Additionally, the intermediate result is truncated with a frequency `trunc_freq`. See function `tensor.add` for more details."
   ]
  },
  {
   "cell_type": "code",
   "execution_count": 7,
   "id": "0526ad10-b30d-4b77-9d5d-52883dc25235",
   "metadata": {},
   "outputs": [
    {
     "name": "stdout",
     "output_type": "stream",
     "text": [
      "  5  5  5  5  5  5  5  5  5  5 \n",
      " / \\/ \\/ \\/ \\/ \\/ \\/ \\/ \\/ \\/ \\\n",
      " 1  5 20 20 20 20 20 20 20  5  1 \n",
      "\n"
     ]
    }
   ],
   "source": [
    "Y_all = [teneva.rand([5]*10, 2) for _ in range(10)]\n",
    "Y = teneva.add_many(Y_all, e=1.E-4, r=50, trunc_freq=2)\n",
    "teneva.show(Y)"
   ]
  },
  {
   "cell_type": "markdown",
   "id": "7ac92913-9526-47ed-a44a-2fe4bd96b646",
   "metadata": {},
   "source": [
    "### `erank`"
   ]
  },
  {
   "cell_type": "markdown",
   "id": "c78b83bd-b02a-49b0-bdc1-ce9db56a50a0",
   "metadata": {},
   "source": [
    "Compute the effective TT-rank of the given TT-tensor, i.e. constant rank of TT-tensor, which would have the same number of parameters as the given TT-tensor."
   ]
  },
  {
   "cell_type": "code",
   "execution_count": 8,
   "id": "de8bf966-aded-4819-a193-988a8f08613e",
   "metadata": {},
   "outputs": [
    {
     "data": {
      "text/plain": [
       "2.0"
      ]
     },
     "execution_count": 8,
     "metadata": {},
     "output_type": "execute_result"
    }
   ],
   "source": [
    "Y = teneva.rand([5]*10, 2) # 10-dim random TT-tensor with TT-rank 2\n",
    "teneva.erank(Y)            # The effective TT-rank"
   ]
  },
  {
   "cell_type": "markdown",
   "id": "67a27aaa-67fd-4c3b-b6f6-ac21fdee9305",
   "metadata": {},
   "source": [
    "### `full`"
   ]
  },
  {
   "cell_type": "markdown",
   "id": "353d1b34-fb76-44d1-8dcd-0dba678fe5f5",
   "metadata": {},
   "source": [
    "For a given TT-tensor (list of TT-cores), calculates the tensor in full format (this function can only be used for relatively small tensors)."
   ]
  },
  {
   "cell_type": "code",
   "execution_count": 9,
   "id": "0f98b3a6-2f46-4200-b2ea-b86de55ae6e2",
   "metadata": {},
   "outputs": [
    {
     "name": "stdout",
     "output_type": "stream",
     "text": [
      "   10  10  10  10  10 \n",
      "  / \\ / \\ / \\ / \\ / \\ \n",
      " 1   10 100 100  10  1  \n",
      "\n"
     ]
    },
    {
     "data": {
      "text/plain": [
       "2.4424906541753444e-14"
      ]
     },
     "execution_count": 9,
     "metadata": {},
     "output_type": "execute_result"
    }
   ],
   "source": [
    "N = [10] * 5              # Shape of the tensor      \n",
    "Y0 = np.random.randn(*N)  # Create 5-dim random numpy tensor\n",
    "Y1 = teneva.svd(Y0)       # Compute TT-tensor from Y0 by TT-SVD\n",
    "teneva.show(Y1)           # Print the TT-tensor\n",
    "Y2 = teneva.full(Y1)      # Compute full tensor from the TT-tensor\n",
    "abs(np.max(Y2-Y0))        # Compare original tensor and reconstructed tensor"
   ]
  },
  {
   "cell_type": "markdown",
   "id": "8bab5a0e-8111-4234-b42a-5221861fc11e",
   "metadata": {},
   "source": [
    "### `get`"
   ]
  },
  {
   "cell_type": "markdown",
   "id": "7f224529-9633-4e3f-875d-71d472a13377",
   "metadata": {},
   "source": [
    "Compute the element with multiindex $n$ for the TT-tensor $Y$.See also a function `tensor.getter` that performs the same operation, but with an acceleration."
   ]
  },
  {
   "cell_type": "code",
   "execution_count": 15,
   "id": "96de9c2c-661b-450d-8236-a7d0676d83cc",
   "metadata": {},
   "outputs": [
    {
     "name": "stdout",
     "output_type": "stream",
     "text": [
      "   10  10  10  10  10 \n",
      "  / \\ / \\ / \\ / \\ / \\ \n",
      " 1   10 100 100  10  1  \n",
      "\n"
     ]
    },
    {
     "data": {
      "text/plain": [
       "5.551115123125783e-15"
      ]
     },
     "execution_count": 15,
     "metadata": {},
     "output_type": "execute_result"
    }
   ],
   "source": [
    "N = [10] * 5              # Shape of the tensor      \n",
    "Y0 = np.random.randn(*N)  # Create 5-dim random numpy tensor\n",
    "Y1 = teneva.svd(Y0)       # Compute TT-tensor from Y0 by TT-SVD\n",
    "teneva.show(Y1)           # Print the TT-tensor\n",
    "n = [1, 2, 3, 4, 5]       # Select some tensor element\n",
    "y1 = teneva.get(Y1, n)    # Compute the element of the TT-tensor\n",
    "y0 = Y0[tuple(n)]         # Compute the same element of the original tensor\n",
    "abs(np.max(y1-y0))        # Compare original tensor and reconstructed tensor"
   ]
  },
  {
   "cell_type": "markdown",
   "id": "4abd806e-48f9-405c-902d-d808c854ab42",
   "metadata": {},
   "source": [
    "### `getter`"
   ]
  },
  {
   "cell_type": "markdown",
   "id": "5af1f65d-4874-47f9-9393-14dd390df648",
   "metadata": {},
   "source": [
    "Build fast (accelerated by numba) function that computes the element with multiindex $n$ for the TT-tensor $Y$. See also a function `tensor.get` for more details."
   ]
  },
  {
   "cell_type": "code",
   "execution_count": 16,
   "id": "c9109d28-8370-4c6b-a4d5-7b59960c496d",
   "metadata": {},
   "outputs": [
    {
     "name": "stderr",
     "output_type": "stream",
     "text": [
      "/Users/andrei/opt/anaconda3/lib/python3.8/site-packages/numba/core/ir_utils.py:2119: NumbaPendingDeprecationWarning: \u001b[1m\n",
      "Encountered the use of a type that is scheduled for deprecation: type 'reflected list' found for argument 'n' of function 'getter.<locals>.get'.\n",
      "\n",
      "For more information visit https://numba.pydata.org/numba-doc/latest/reference/deprecation.html#deprecation-of-reflection-for-list-and-set-types\n",
      "\u001b[1m\n",
      "File \"../../../opt/anaconda3/lib/python3.8/site-packages/teneva-0.7.0-py3.8.egg/teneva/tensor.py\", line 69:\u001b[0m\n",
      "\u001b[1m<source missing, REPL/exec in use?>\u001b[0m\n",
      "\u001b[0m\n",
      "  warnings.warn(NumbaPendingDeprecationWarning(msg, loc=loc))\n"
     ]
    },
    {
     "data": {
      "text/plain": [
       "4.829470157119431e-15"
      ]
     },
     "execution_count": 16,
     "metadata": {},
     "output_type": "execute_result"
    }
   ],
   "source": [
    "N = [10] * 5              # Shape of the tensor      \n",
    "Y0 = np.random.randn(*N)  # Create 5-dim random numpy tensor\n",
    "Y1 = teneva.svd(Y0)       # Compute TT-tensor from Y0 by TT-SVD\n",
    "get = teneva.getter(Y1)   # Build (compile) function to compute the element of the TT-tensor\n",
    "n = [1, 2, 3, 4, 5]       # Select some tensor element\n",
    "y1 = get(n)               # Compute the element of the TT-tensor\n",
    "y0 = Y0[tuple(n)]         # Compute the same element of the original tensor\n",
    "abs(np.max(y1-y0))        # Compare original tensor and reconstructed tensor"
   ]
  },
  {
   "cell_type": "code",
   "execution_count": null,
   "id": "19dff361-ca2a-4222-84b7-575c94c5d371",
   "metadata": {},
   "outputs": [],
   "source": []
  },
  {
   "cell_type": "code",
   "execution_count": null,
   "id": "adebacaa-e66e-4e38-a39b-940973b9f2d0",
   "metadata": {},
   "outputs": [],
   "source": []
  },
  {
   "cell_type": "markdown",
   "id": "ba160f63-c92d-4631-b389-d4093fceb6e0",
   "metadata": {},
   "source": [
    "### `mul`"
   ]
  },
  {
   "cell_type": "markdown",
   "id": "78e5dba1-a971-4e33-8d3a-a8d7289611d7",
   "metadata": {},
   "source": [
    "Compute element wise product $Y = Y_1 + Y_2$ for the given TT-tensors $Y_1$ and $Y_2$ presented as lists of TT-cores."
   ]
  },
  {
   "cell_type": "code",
   "execution_count": 17,
   "id": "1ad97d50-76ef-46b2-86c4-720339c6a542",
   "metadata": {},
   "outputs": [
    {
     "name": "stdout",
     "output_type": "stream",
     "text": [
      "  5  5  5  5  5  5  5  5  5  5 \n",
      " / \\/ \\/ \\/ \\/ \\/ \\/ \\/ \\/ \\/ \\\n",
      " 1  6  6  6  6  6  6  6  6  6  1 \n",
      "\n"
     ]
    }
   ],
   "source": [
    "Y1 = teneva.rand([5]*10, 2) # 10-dim random TT-tensor with TT-rank 2\n",
    "Y2 = teneva.rand([5]*10, 3) # 10-dim random TT-tensor with TT-rank 3\n",
    "Y = teneva.mul(Y1, Y2)      # Compute the product of Y1 and Y2\n",
    "teneva.show(Y)              # Print the resulting TT-tensor (note that it has TT-rank 2 x 3 = 6)"
   ]
  },
  {
   "cell_type": "markdown",
   "id": "fa32d566-3b8c-4c0d-911a-7244635e50d6",
   "metadata": {},
   "source": [
    "### `show`"
   ]
  },
  {
   "cell_type": "markdown",
   "id": "04b10909-53d5-4bc4-a118-ffd30601b682",
   "metadata": {},
   "source": [
    "Displays mode sizes and TT-ranks of the given TT-tensor `Y` in a compact and clear form."
   ]
  },
  {
   "cell_type": "code",
   "execution_count": 20,
   "id": "b08ae353-d8de-49b7-b29a-e32cdba9342a",
   "metadata": {},
   "outputs": [
    {
     "name": "stdout",
     "output_type": "stream",
     "text": [
      " 10 12  8  8 30 \n",
      " / \\/ \\/ \\/ \\/ \\\n",
      " 1  2  2  2  2  1 \n",
      "\n"
     ]
    }
   ],
   "source": [
    "Y = teneva.rand([10, 12, 8, 8, 30], 2) # 5-dim random TT-tensor with TT-rank 2\n",
    "teneva.show(Y)                         # Print the resulting TT-tensor"
   ]
  },
  {
   "cell_type": "code",
   "execution_count": 21,
   "id": "621ea92b-c2af-4969-93e9-24c7bd957e15",
   "metadata": {},
   "outputs": [],
   "source": []
  },
  {
   "cell_type": "code",
   "execution_count": null,
   "id": "2e05b09e-16bd-45b2-800d-514b8b68ee9d",
   "metadata": {},
   "outputs": [],
   "source": []
  },
  {
   "cell_type": "code",
   "execution_count": null,
   "id": "ac607ffd-06d1-42bd-9384-ad3681b2ea04",
   "metadata": {},
   "outputs": [],
   "source": []
  }
 ],
 "metadata": {
  "kernelspec": {
   "display_name": "Python 3",
   "language": "python",
   "name": "python3"
  },
  "language_info": {
   "codemirror_mode": {
    "name": "ipython",
    "version": 3
   },
   "file_extension": ".py",
   "mimetype": "text/x-python",
   "name": "python",
   "nbconvert_exporter": "python",
   "pygments_lexer": "ipython3",
   "version": "3.8.8"
  }
 },
 "nbformat": 4,
 "nbformat_minor": 5
}
