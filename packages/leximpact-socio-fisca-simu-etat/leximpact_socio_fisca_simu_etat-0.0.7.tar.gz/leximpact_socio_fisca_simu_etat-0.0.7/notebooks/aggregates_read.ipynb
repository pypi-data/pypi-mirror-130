{
 "cells": [
  {
   "cell_type": "markdown",
   "id": "d849e03c-6046-4fd2-863a-81a82c4bcb96",
   "metadata": {},
   "source": [
    "# Création d'une base de référence d'agregats"
   ]
  },
  {
   "cell_type": "code",
   "execution_count": 1,
   "id": "3b43681c-83c4-4f92-be7e-333f7de5ca8a",
   "metadata": {},
   "outputs": [],
   "source": [
    "# default_exp aggregates_read"
   ]
  },
  {
   "cell_type": "code",
   "execution_count": 2,
   "id": "2b8d0519-2e9e-4dd5-a40f-c485906e5910",
   "metadata": {},
   "outputs": [],
   "source": [
    "# Activate multi-output in notebook\n",
    "from IPython.core.interactiveshell import InteractiveShell\n",
    "\n",
    "InteractiveShell.ast_node_interactivity = \"all\""
   ]
  },
  {
   "cell_type": "code",
   "execution_count": 3,
   "id": "2ce11aec-0b0d-4399-9b85-920921959ba5",
   "metadata": {},
   "outputs": [],
   "source": [
    "# export\n",
    "import unittest\n",
    "\n",
    "import yaml\n",
    "\n",
    "from leximpact_socio_fisca_simu_etat.config import Configuration\n",
    "from leximpact_socio_fisca_simu_etat.logger import logger\n",
    "\n",
    "config = Configuration()\n",
    "tc = unittest.TestCase()"
   ]
  },
  {
   "cell_type": "markdown",
   "id": "48b8d8f0-3ab3-42a9-ba63-af03d02759fb",
   "metadata": {},
   "source": [
    "## Lecture des agregats"
   ]
  },
  {
   "cell_type": "code",
   "execution_count": 4,
   "id": "4f9d8edc-d51e-4bf6-98d9-c9669f30c0c1",
   "metadata": {},
   "outputs": [],
   "source": [
    "# export\n",
    "\n",
    "with open(config.get(\"AGREGATS\")) as file:\n",
    "    try:\n",
    "        agregats = yaml.safe_load(file)\n",
    "    except yaml.YAMLError as exc:\n",
    "        msg = f\"Error reading yaml file: {exc}\"\n",
    "        logger.error(msg)\n",
    "        raise exc"
   ]
  },
  {
   "cell_type": "code",
   "execution_count": 5,
   "id": "46b9a3de-fc66-4daf-9a49-947dcf9baef3",
   "metadata": {},
   "outputs": [
    {
     "data": {
      "text/plain": [
       "{'ERFS': {'factor_to_2020': 1.1326784664772125,\n",
       "  'factor_to_2021': 1.185625946449572,\n",
       "  'factor_to_2022': 1.185625946449572}}"
      ]
     },
     "execution_count": 5,
     "metadata": {},
     "output_type": "execute_result"
    }
   ],
   "source": [
    "agregats[\"2018\"][\"csg_deductible_salaire\"]"
   ]
  },
  {
   "cell_type": "code",
   "execution_count": 6,
   "id": "011d7be9-3591-4f98-ae70-9fc85e369793",
   "metadata": {},
   "outputs": [],
   "source": [
    "# export\n",
    "\n",
    "\n",
    "def get_aggregate(year, variable_name, source, variable_type):\n",
    "    try:\n",
    "        return agregats[year][variable_name][source][variable_type]\n",
    "    except Exception:\n",
    "        # logger.debug(f\"Error reading {year}.{variable_name}.{variable_type}: {e}\") #  as e\n",
    "        return None"
   ]
  },
  {
   "cell_type": "code",
   "execution_count": 7,
   "id": "1ca58474-7544-4502-9c70-2c458eaa1cd5",
   "metadata": {},
   "outputs": [],
   "source": [
    "tc.assertEqual(get_aggregate(\"2020\", \"csg_salaire\", \"ccss\", \"sum\"), 72628000000)\n",
    "tc.assertAlmostEqual(\n",
    "    get_aggregate(\"2018\", \"csg_deductible_salaire\", \"ERFS\", \"factor_to_2022\"),\n",
    "    1.1856,\n",
    "    places=2,\n",
    ")\n",
    "tc.assertAlmostEqual(\n",
    "    get_aggregate(\"2018\", \"csg_imposable_salaire\", \"ERFS\", \"factor_to_2022\"),\n",
    "    1.1856,\n",
    "    places=2,\n",
    ")"
   ]
  },
  {
   "cell_type": "code",
   "execution_count": 8,
   "id": "32480ca5-884a-4769-802c-bc3d96bd6560",
   "metadata": {},
   "outputs": [],
   "source": [
    "tc.assertEqual(get_aggregate(\"2018\", \"retraites\", \"POTE\", \"sum\"), 299949516289)\n",
    "tc.assertEqual(get_aggregate(\"2018\", \"retraites\", \"POTE\", \"nexistepas\"), None)\n",
    "tc.assertEqual(get_aggregate(\"2018\", \"nexistepas\", \"POTE\", \"sum\"), None)\n",
    "tc.assertEqual(get_aggregate(\"nexistepas\", \"retraites\", \"POTE\", \"sum\"), None)"
   ]
  },
  {
   "cell_type": "code",
   "execution_count": null,
   "id": "db0c5662-93a3-4e13-ab51-18825a93e725",
   "metadata": {},
   "outputs": [],
   "source": []
  }
 ],
 "metadata": {
  "kernelspec": {
   "display_name": "leximpact-socio-fiscal-simu-etat-kernel",
   "language": "python",
   "name": "leximpact-socio-fiscal-simu-etat-kernel"
  },
  "language_info": {
   "codemirror_mode": {
    "name": "ipython",
    "version": 3
   },
   "file_extension": ".py",
   "mimetype": "text/x-python",
   "name": "python",
   "nbconvert_exporter": "python",
   "pygments_lexer": "ipython3",
   "version": "3.8.10"
  }
 },
 "nbformat": 4,
 "nbformat_minor": 5
}
