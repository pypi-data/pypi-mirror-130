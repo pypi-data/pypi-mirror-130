{
 "cells": [
  {
   "cell_type": "code",
   "execution_count": null,
   "id": "9bfdea3f",
   "metadata": {},
   "outputs": [],
   "source": [
    "# default_exp logger"
   ]
  },
  {
   "cell_type": "markdown",
   "id": "7f0781f7",
   "metadata": {},
   "source": [
    "# Système de trace centralisée"
   ]
  },
  {
   "cell_type": "markdown",
   "id": "5a5922c8",
   "metadata": {},
   "source": [
    "Ce fichier permet de déclarer un logger centralisée.\n",
    "\n",
    "Le niveau de log peut être réglé par la configuration LEXIMPACT_LOG_LEVEL."
   ]
  },
  {
   "cell_type": "code",
   "execution_count": null,
   "id": "5715be3a",
   "metadata": {},
   "outputs": [],
   "source": [
    "# export\n",
    "import logging\n",
    "\n",
    "from leximpact_socio_fisca_simu_etat.config import Configuration\n",
    "\n",
    "config = Configuration()\n",
    "logger = logging.getLogger(\"leximpact_socio-fisca-simu-etat\")\n",
    "# Clear logger to be sure to define it like we want\n",
    "logger.handlers.clear()\n",
    "formatter = logging.Formatter(\n",
    "    \"[%(name)s %(levelname)s @ %(asctime)s] %(message)s\",\n",
    "    datefmt=\"%H:%M:%S\",\n",
    ")\n",
    "handler = logging.StreamHandler()\n",
    "handler.setFormatter(formatter)\n",
    "\n",
    "\n",
    "if not logger.handlers:\n",
    "    logger.addHandler(handler)\n",
    "env_level = config.get(\"LEXIMPACT_LOG_LEVEL\", fail_on_missing=False)\n",
    "if env_level is None:\n",
    "    env_level = \"DEBUG\"\n",
    "logger.setLevel(level=env_level)"
   ]
  },
  {
   "cell_type": "code",
   "execution_count": null,
   "id": "a4cc861a",
   "metadata": {},
   "outputs": [
    {
     "data": {
      "text/plain": [
       "10"
      ]
     },
     "execution_count": null,
     "metadata": {},
     "output_type": "execute_result"
    }
   ],
   "source": [
    "logger.level"
   ]
  },
  {
   "cell_type": "code",
   "execution_count": null,
   "id": "7e5ff233",
   "metadata": {},
   "outputs": [
    {
     "name": "stderr",
     "output_type": "stream",
     "text": [
      "[leximpact_socio-fisca-simu-etat DEBUG @ 05:55:45] You will see DEBUG messages.\n",
      "[leximpact_socio-fisca-simu-etat INFO @ 05:55:45] You will see INFO messages.\n",
      "[leximpact_socio-fisca-simu-etat WARNING @ 05:55:45] You will see WARNING messages.\n",
      "[leximpact_socio-fisca-simu-etat ERROR @ 05:55:45] You will see ERROR messages.\n"
     ]
    }
   ],
   "source": [
    "logger.debug(\"You will see DEBUG messages.\")\n",
    "logger.info(\"You will see INFO messages.\")\n",
    "logger.warning(\"You will see WARNING messages.\")\n",
    "logger.error(\"You will see ERROR messages.\")"
   ]
  },
  {
   "cell_type": "code",
   "execution_count": null,
   "id": "75891010",
   "metadata": {},
   "outputs": [],
   "source": []
  }
 ],
 "metadata": {
  "kernelspec": {
   "display_name": "leximpact-socio-fiscal-simu-etat-kernel",
   "language": "python",
   "name": "leximpact-socio-fiscal-simu-etat-kernel"
  }
 },
 "nbformat": 4,
 "nbformat_minor": 5
}
