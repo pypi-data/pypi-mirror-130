{
 "cells": [
  {
   "cell_type": "markdown",
   "id": "experienced-coverage",
   "metadata": {},
   "source": [
    "# Méthodes de simulation de l'impact d'une réforme sur le budget de l'Etat"
   ]
  },
  {
   "cell_type": "code",
   "execution_count": 1,
   "id": "superb-scanning",
   "metadata": {},
   "outputs": [],
   "source": [
    "# default_exp csg_simu"
   ]
  },
  {
   "cell_type": "code",
   "execution_count": 2,
   "id": "immediate-psychology",
   "metadata": {},
   "outputs": [],
   "source": [
    "#!poetry run pip list | grep -i open"
   ]
  },
  {
   "cell_type": "code",
   "execution_count": 3,
   "id": "exceptional-binding",
   "metadata": {},
   "outputs": [],
   "source": [
    "# Activate multi-output in notebook\n",
    "from IPython.core.interactiveshell import InteractiveShell\n",
    "\n",
    "InteractiveShell.ast_node_interactivity = \"all\""
   ]
  },
  {
   "cell_type": "code",
   "execution_count": 4,
   "id": "complicated-transportation",
   "metadata": {},
   "outputs": [],
   "source": [
    "# export\n",
    "# For profiling of code\n",
    "import timeit"
   ]
  },
  {
   "cell_type": "code",
   "execution_count": 5,
   "id": "neither-cleveland",
   "metadata": {},
   "outputs": [],
   "source": [
    "log_run = False\n",
    "debut_global = timeit.default_timer()"
   ]
  },
  {
   "cell_type": "code",
   "execution_count": null,
   "id": "f4ae7c11-940b-42b0-bab1-5adb77d37dec",
   "metadata": {},
   "outputs": [],
   "source": []
  },
  {
   "cell_type": "code",
   "execution_count": 6,
   "id": "quarterly-gentleman",
   "metadata": {},
   "outputs": [
    {
     "name": "stderr",
     "output_type": "stream",
     "text": [
      "[leximpact_socio-fisca-simu-etat DEBUG @ 15:09:22] Connecting to Redis 10.0.0.131:6377\n"
     ]
    }
   ],
   "source": [
    "# export\n",
    "\n",
    "import hashlib\n",
    "import json\n",
    "import unittest\n",
    "\n",
    "# import warnings\n",
    "from typing import Dict, List\n",
    "\n",
    "import numpy as np\n",
    "import pandas as pd\n",
    "from openfisca_core import periods\n",
    "\n",
    "# from openfisca_core.memory_config import MemoryConfig\n",
    "from openfisca_core.parameters import ParameterNode, ParameterScaleBracket, helpers\n",
    "from openfisca_core.periods import instant\n",
    "from openfisca_core.simulation_builder import SimulationBuilder\n",
    "from openfisca_core.taxbenefitsystems import TaxBenefitSystem  # For typing\n",
    "\n",
    "# from openfisca_core.warnings import MemoryConfigWarning, TempfileWarning\n",
    "from openfisca_france import FranceTaxBenefitSystem\n",
    "from openfisca_france.model.base import Reform\n",
    "from openfisca_france_reforms.plf_2022 import Plf2022\n",
    "\n",
    "from leximpact_socio_fisca_simu_etat.aggregates_read import get_aggregate\n",
    "from leximpact_socio_fisca_simu_etat.cache import Cache\n",
    "from leximpact_socio_fisca_simu_etat.config import Configuration\n",
    "from leximpact_socio_fisca_simu_etat.logger import logger\n",
    "from leximpact_socio_fisca_simu_etat.schema import (\n",
    "    AllSimulationResult,\n",
    "    OneSimulationResult,\n",
    "    ReformeSocioFiscale,\n",
    ")\n",
    "\n",
    "plf_2022 = Plf2022(FranceTaxBenefitSystem())\n",
    "\n",
    "config = Configuration()\n",
    "cache = Cache()\n",
    "tc = unittest.TestCase()"
   ]
  },
  {
   "cell_type": "code",
   "execution_count": 7,
   "id": "waiting-virgin",
   "metadata": {},
   "outputs": [],
   "source": [
    "import os\n",
    "\n",
    "import matplotlib as mpl\n",
    "import psutil\n",
    "import seaborn as sns\n",
    "\n",
    "# from memory_profiler import memory_usage\n",
    "# import tracemalloc\n",
    "# tracemalloc.start(10)"
   ]
  },
  {
   "cell_type": "code",
   "execution_count": 8,
   "id": "brief-minnesota",
   "metadata": {},
   "outputs": [],
   "source": [
    "pd.options.display.float_format = \"{:,.7f}\".format\n",
    "sns.set(rc={\"figure.figsize\": (20, 8)})"
   ]
  },
  {
   "cell_type": "code",
   "execution_count": 9,
   "id": "built-insured",
   "metadata": {},
   "outputs": [
    {
     "name": "stderr",
     "output_type": "stream",
     "text": [
      "[leximpact_socio-fisca-simu-etat DEBUG @ 15:09:22] Redis cache cleared successfully.\n"
     ]
    },
    {
     "data": {
      "text/plain": [
       "True"
      ]
     },
     "execution_count": 9,
     "metadata": {},
     "output_type": "execute_result"
    }
   ],
   "source": [
    "# hide\n",
    "cache.clear_cache()"
   ]
  },
  {
   "cell_type": "code",
   "execution_count": 10,
   "id": "bcf087fb-6820-4f5d-81d3-8098e1d95ed5",
   "metadata": {},
   "outputs": [],
   "source": [
    "# export\n",
    "\n",
    "\n",
    "class SimulationError(Exception):\n",
    "    \"\"\"Custom error\"\"\"\n",
    "\n",
    "    pass"
   ]
  },
  {
   "cell_type": "markdown",
   "id": "blind-primary",
   "metadata": {},
   "source": [
    "## Chargement du fichier d'individus OpenFisca\n",
    "Préparé à partir de l'ERFS-FPR 2018 et des copules POTE"
   ]
  },
  {
   "cell_type": "code",
   "execution_count": 11,
   "id": "handmade-theorem",
   "metadata": {},
   "outputs": [],
   "source": [
    "# config.get(\"ERFS_FINAL_FOR_SIMU\")"
   ]
  },
  {
   "cell_type": "code",
   "execution_count": 12,
   "id": "accepting-stable",
   "metadata": {},
   "outputs": [],
   "source": [
    "# export\n",
    "\n",
    "inputfile_path = config.get(\"ERFS_FINAL_FOR_SIMU\")\n",
    "# inputfile_path = config.get(\"ERFS_FINAL_FOR_SIMU_PLF_2022\")\n",
    "sample_pop = pd.read_hdf(inputfile_path)"
   ]
  },
  {
   "cell_type": "code",
   "execution_count": 13,
   "id": "judicial-knowing",
   "metadata": {},
   "outputs": [
    {
     "data": {
      "text/plain": [
       "Index(['idfoy', 'age', 'categorie_salarie', 'contrat_de_travail',\n",
       "       'date_naissance', 'quifam', 'quifoy', 'statut_marital', 'quimenof',\n",
       "       'quifoyof', 'quifamof', 'wprm', 'fake_id', 'activite', 'chomage_brut',\n",
       "       'effectif_entreprise', 'heures_remunerees_volume', 'idfam', 'idmen',\n",
       "       'noindiv', 'pensions_alimentaires_percues', 'quimen', 'rag',\n",
       "       'retraite_brute', 'ric', 'rnc', 'salaire_de_base', 'f4ba',\n",
       "       'idmen_original', 'idfoy_original', 'idfam_original', 'idmen_x',\n",
       "       'loyer', 'statut_occupation_logement', 'taxe_habitation', 'zone_apl',\n",
       "       'rfr', 'revenus_capitaux_prelevement_bareme',\n",
       "       'revenus_capitaux_prelevement_liberatoire',\n",
       "       'revenus_capitaux_prelevement_forfaitaire_unique_ir',\n",
       "       'salaire_imposable'],\n",
       "      dtype='object')"
      ]
     },
     "execution_count": 13,
     "metadata": {},
     "output_type": "execute_result"
    }
   ],
   "source": [
    "sample_pop.columns"
   ]
  },
  {
   "cell_type": "code",
   "execution_count": 14,
   "id": "4fae59bb-b66e-49bc-aee9-f35de63333af",
   "metadata": {},
   "outputs": [],
   "source": [
    "# export\n",
    "for v in [\n",
    "    \"assiette_csg_abattue\",\n",
    "    \"assiette_csg_non_abattue\",\n",
    "    \"csg_imposable_salaire\",\n",
    "    \"csg_deductible_salaire\",\n",
    "    \"csg_imposable_retraite\",\n",
    "    \"csg_deductible_retraite\",\n",
    "    \"csg_imposable_chomage\",\n",
    "    \"csg_deductible_chomage\",\n",
    "    \"csg_revenus_capital\",\n",
    "    \"crds_salaire\",\n",
    "    \"crds_retraite\",\n",
    "    \"crds_chomage\",\n",
    "    \"crds_revenus_capital\",\n",
    "    \"irpp\",\n",
    "]:\n",
    "    tc.assertFalse(\n",
    "        v in sample_pop.columns,\n",
    "        f\"FATAL : {v} is in the input dataset, please remove output variables from the input dataset !\",\n",
    "    )"
   ]
  },
  {
   "cell_type": "code",
   "execution_count": 15,
   "id": "personal-meditation",
   "metadata": {},
   "outputs": [],
   "source": [
    "# sample_pop.query(\"salaire_de_base == 9_999_998\")  # Pour vérifier les codes erreurs INSEE"
   ]
  },
  {
   "cell_type": "code",
   "execution_count": 16,
   "id": "monetary-massage",
   "metadata": {},
   "outputs": [],
   "source": [
    "# df_tmp = pd.read_hdf(\"/mnt/data-out/leximpact/erfs-fpr/erfs_flat_2018.h5\")\n",
    "# nb_sans_salaire = df_tmp.query(\"salaire_de_base < 1\").wprm.sum()\n",
    "# nb_avec_salaire = df_tmp.query(\"salaire_de_base >= 1\").wprm.sum()\n",
    "# print(\n",
    "#     f\"Il y a {nb_sans_salaire:,.0f} personnes sur {df_tmp.wprm.sum():,.0f} qui n'ont pas de salaire, soit {nb_sans_salaire/(nb_sans_salaire+nb_avec_salaire)*100:.0f}%.\"\n",
    "# )\n",
    "# nb_avec_salaire"
   ]
  },
  {
   "cell_type": "code",
   "execution_count": 17,
   "id": "weighted-engagement",
   "metadata": {},
   "outputs": [],
   "source": [
    "# # POTE\n",
    "# 15592390 / (15592390 + 22895547) * 100"
   ]
  },
  {
   "cell_type": "code",
   "execution_count": 18,
   "id": "charitable-spanish",
   "metadata": {},
   "outputs": [],
   "source": [
    "# nb_sans_salaire = sample_pop.query(\"salaire_de_base < 1\").wprm.sum()\n",
    "# nb_avec_salaire = sample_pop.query(\"salaire_de_base >= 1\").wprm.sum()\n",
    "# print(\n",
    "#     f\"Il y a {nb_sans_salaire:,.0f} personnes sur {sample_pop.wprm.sum():,.0f} qui n'ont pas de salaire, soit {nb_sans_salaire/(nb_sans_salaire+nb_avec_salaire)*100:.0f}%.\"\n",
    "# )\n",
    "# nb_avec_salaire"
   ]
  },
  {
   "cell_type": "code",
   "execution_count": 19,
   "id": "atmospheric-harbor",
   "metadata": {},
   "outputs": [],
   "source": [
    "# export\n",
    "\n",
    "\n",
    "def convert_erfr_to_openfisca(data):\n",
    "    \"\"\"\n",
    "    # Conversion des noms ERFS en noms  OpenFisca\n",
    "    Traduction des roles attribués au format openfisca\n",
    "    ::data:: Le dataset à convertir\n",
    "    \"\"\"\n",
    "    data[\"quimenof\"] = \"enfant\"\n",
    "    data.loc[data[\"quifoy\"] == 1, \"quimenof\"] = \"conjoint\"\n",
    "    data.loc[data[\"quifoy\"] == 0, \"quimenof\"] = \"personne_de_reference\"\n",
    "\n",
    "    data[\"quifoyof\"] = \"personne_a_charge\"\n",
    "    data.loc[data[\"quifoy\"] == 1, \"quifoyof\"] = \"conjoint\"\n",
    "    data.loc[data[\"quifoy\"] == 0, \"quifoyof\"] = \"declarant_principal\"\n",
    "\n",
    "    data[\"quifamof\"] = \"enfant\"\n",
    "    data.loc[data[\"quifam\"] == 1, \"quifamof\"] = \"conjoint\"\n",
    "    data.loc[data[\"quifam\"] == 0, \"quifamof\"] = \"demandeur\"\n",
    "    return data"
   ]
  },
  {
   "cell_type": "code",
   "execution_count": 20,
   "id": "modern-toddler",
   "metadata": {},
   "outputs": [],
   "source": [
    "# export\n",
    "\n",
    "sample_pop = convert_erfr_to_openfisca(sample_pop)"
   ]
  },
  {
   "cell_type": "code",
   "execution_count": 21,
   "id": "documentary-warrior",
   "metadata": {},
   "outputs": [],
   "source": [
    "# export\n",
    "\n",
    "\n",
    "def individus_to_foyer_fiscaux(sample_individus):\n",
    "    \"\"\"\n",
    "    Regroupe un échantillon par individus en échantillon par foyers fiscaux\n",
    "    \"\"\"\n",
    "    # On regroupe les individus de sample_pop_individus en foyers fiscaux par leur idfoy\n",
    "    sample_foyers_fiscaux = sample_individus.groupby(\n",
    "        [\"idfoy\", \"wprm\"], as_index=False\n",
    "    ).sum()\n",
    "    # On supprime les colonnes qui n'ont plus de sens au niveau foyer\n",
    "    sample_foyers_fiscaux.drop(\n",
    "        [\n",
    "            \"quifoy\",\n",
    "            \"quifam\",\n",
    "            \"age\",\n",
    "            \"categorie_salarie\",\n",
    "            \"contrat_de_travail\",\n",
    "            \"statut_marital\",\n",
    "        ],\n",
    "        axis=1,\n",
    "        inplace=True,\n",
    "    )\n",
    "\n",
    "    return sample_foyers_fiscaux"
   ]
  },
  {
   "cell_type": "code",
   "execution_count": 22,
   "id": "romantic-example",
   "metadata": {},
   "outputs": [],
   "source": [
    "# export\n",
    "\n",
    "sample_pop_foyer = individus_to_foyer_fiscaux(sample_pop)"
   ]
  },
  {
   "cell_type": "code",
   "execution_count": 23,
   "id": "addressed-somerset",
   "metadata": {},
   "outputs": [
    {
     "data": {
      "text/html": [
       "<div>\n",
       "<style scoped>\n",
       "    .dataframe tbody tr th:only-of-type {\n",
       "        vertical-align: middle;\n",
       "    }\n",
       "\n",
       "    .dataframe tbody tr th {\n",
       "        vertical-align: top;\n",
       "    }\n",
       "\n",
       "    .dataframe thead th {\n",
       "        text-align: right;\n",
       "    }\n",
       "</style>\n",
       "<table border=\"1\" class=\"dataframe\">\n",
       "  <thead>\n",
       "    <tr style=\"text-align: right;\">\n",
       "      <th></th>\n",
       "      <th>idfoy</th>\n",
       "      <th>age</th>\n",
       "      <th>categorie_salarie</th>\n",
       "      <th>contrat_de_travail</th>\n",
       "      <th>quifam</th>\n",
       "      <th>quifoy</th>\n",
       "      <th>statut_marital</th>\n",
       "      <th>wprm</th>\n",
       "      <th>fake_id</th>\n",
       "      <th>activite</th>\n",
       "      <th>...</th>\n",
       "      <th>idmen_x</th>\n",
       "      <th>loyer</th>\n",
       "      <th>statut_occupation_logement</th>\n",
       "      <th>taxe_habitation</th>\n",
       "      <th>zone_apl</th>\n",
       "      <th>rfr</th>\n",
       "      <th>revenus_capitaux_prelevement_bareme</th>\n",
       "      <th>revenus_capitaux_prelevement_liberatoire</th>\n",
       "      <th>revenus_capitaux_prelevement_forfaitaire_unique_ir</th>\n",
       "      <th>salaire_imposable</th>\n",
       "    </tr>\n",
       "  </thead>\n",
       "  <tbody>\n",
       "    <tr>\n",
       "      <th>count</th>\n",
       "      <td>336,402.0000000</td>\n",
       "      <td>336,402.0000000</td>\n",
       "      <td>336,402.0000000</td>\n",
       "      <td>336,402.0000000</td>\n",
       "      <td>336,402.0000000</td>\n",
       "      <td>336,402.0000000</td>\n",
       "      <td>336,402.0000000</td>\n",
       "      <td>336,402.0000000</td>\n",
       "      <td>336,402.0000000</td>\n",
       "      <td>336,402.0000000</td>\n",
       "      <td>...</td>\n",
       "      <td>336,402.0000000</td>\n",
       "      <td>336,402.0000000</td>\n",
       "      <td>336,402.0000000</td>\n",
       "      <td>336,402.0000000</td>\n",
       "      <td>336,402.0000000</td>\n",
       "      <td>336,402.0000000</td>\n",
       "      <td>336,402.0000000</td>\n",
       "      <td>336,402.0000000</td>\n",
       "      <td>336,402.0000000</td>\n",
       "      <td>336,402.0000000</td>\n",
       "    </tr>\n",
       "    <tr>\n",
       "      <th>mean</th>\n",
       "      <td>85,397.8407709</td>\n",
       "      <td>42.3438743</td>\n",
       "      <td>4.3804644</td>\n",
       "      <td>3.6372911</td>\n",
       "      <td>0.7331140</td>\n",
       "      <td>0.7331140</td>\n",
       "      <td>1.7978133</td>\n",
       "      <td>199.6306230</td>\n",
       "      <td>0.6666667</td>\n",
       "      <td>3.9169476</td>\n",
       "      <td>...</td>\n",
       "      <td>48,026,923.8539158</td>\n",
       "      <td>0.0000000</td>\n",
       "      <td>0.0000000</td>\n",
       "      <td>0.0000000</td>\n",
       "      <td>5.3286604</td>\n",
       "      <td>14,478.2705078</td>\n",
       "      <td>112.2462897</td>\n",
       "      <td>167.8192584</td>\n",
       "      <td>1,550.2641816</td>\n",
       "      <td>8,591.7177734</td>\n",
       "    </tr>\n",
       "    <tr>\n",
       "      <th>std</th>\n",
       "      <td>49,294.7910630</td>\n",
       "      <td>24.4341202</td>\n",
       "      <td>3.2467432</td>\n",
       "      <td>2.7982572</td>\n",
       "      <td>0.8229703</td>\n",
       "      <td>0.8229703</td>\n",
       "      <td>0.8115791</td>\n",
       "      <td>140.6775240</td>\n",
       "      <td>0.4714052</td>\n",
       "      <td>2.8594901</td>\n",
       "      <td>...</td>\n",
       "      <td>25,547,146.0209368</td>\n",
       "      <td>0.0000000</td>\n",
       "      <td>0.0000000</td>\n",
       "      <td>0.0000000</td>\n",
       "      <td>2.8345250</td>\n",
       "      <td>44,364.4726562</td>\n",
       "      <td>3,888.9626460</td>\n",
       "      <td>5,814.3821864</td>\n",
       "      <td>53,711.5258713</td>\n",
       "      <td>23,242.1875000</td>\n",
       "    </tr>\n",
       "    <tr>\n",
       "      <th>min</th>\n",
       "      <td>0.0000000</td>\n",
       "      <td>-1.0000000</td>\n",
       "      <td>0.0000000</td>\n",
       "      <td>0.0000000</td>\n",
       "      <td>0.0000000</td>\n",
       "      <td>0.0000000</td>\n",
       "      <td>1.0000000</td>\n",
       "      <td>11.1806653</td>\n",
       "      <td>0.0000000</td>\n",
       "      <td>0.0000000</td>\n",
       "      <td>...</td>\n",
       "      <td>18,000,001.0000000</td>\n",
       "      <td>0.0000000</td>\n",
       "      <td>0.0000000</td>\n",
       "      <td>0.0000000</td>\n",
       "      <td>2.0000000</td>\n",
       "      <td>0.0000000</td>\n",
       "      <td>0.0000000</td>\n",
       "      <td>0.0000000</td>\n",
       "      <td>0.0000000</td>\n",
       "      <td>0.0000000</td>\n",
       "    </tr>\n",
       "    <tr>\n",
       "      <th>25%</th>\n",
       "      <td>42,651.0000000</td>\n",
       "      <td>20.0000000</td>\n",
       "      <td>0.0000000</td>\n",
       "      <td>0.0000000</td>\n",
       "      <td>0.0000000</td>\n",
       "      <td>0.0000000</td>\n",
       "      <td>1.0000000</td>\n",
       "      <td>136.1408387</td>\n",
       "      <td>0.0000000</td>\n",
       "      <td>2.0000000</td>\n",
       "      <td>...</td>\n",
       "      <td>36,007,780.0000000</td>\n",
       "      <td>0.0000000</td>\n",
       "      <td>0.0000000</td>\n",
       "      <td>0.0000000</td>\n",
       "      <td>4.0000000</td>\n",
       "      <td>0.0000000</td>\n",
       "      <td>0.0000000</td>\n",
       "      <td>0.0000000</td>\n",
       "      <td>0.0000000</td>\n",
       "      <td>0.0000000</td>\n",
       "    </tr>\n",
       "    <tr>\n",
       "      <th>50%</th>\n",
       "      <td>85,376.0000000</td>\n",
       "      <td>44.0000000</td>\n",
       "      <td>7.0000000</td>\n",
       "      <td>6.0000000</td>\n",
       "      <td>0.0000000</td>\n",
       "      <td>0.0000000</td>\n",
       "      <td>2.0000000</td>\n",
       "      <td>172.2093207</td>\n",
       "      <td>1.0000000</td>\n",
       "      <td>4.0000000</td>\n",
       "      <td>...</td>\n",
       "      <td>36,084,898.0000000</td>\n",
       "      <td>0.0000000</td>\n",
       "      <td>0.0000000</td>\n",
       "      <td>0.0000000</td>\n",
       "      <td>4.0000000</td>\n",
       "      <td>0.0000000</td>\n",
       "      <td>0.0000000</td>\n",
       "      <td>0.0000000</td>\n",
       "      <td>0.0000000</td>\n",
       "      <td>0.0000000</td>\n",
       "    </tr>\n",
       "    <tr>\n",
       "      <th>75%</th>\n",
       "      <td>128,138.0000000</td>\n",
       "      <td>62.0000000</td>\n",
       "      <td>7.0000000</td>\n",
       "      <td>6.0000000</td>\n",
       "      <td>1.0000000</td>\n",
       "      <td>1.0000000</td>\n",
       "      <td>2.0000000</td>\n",
       "      <td>221.7150802</td>\n",
       "      <td>1.0000000</td>\n",
       "      <td>6.0000000</td>\n",
       "      <td>...</td>\n",
       "      <td>72,048,964.0000000</td>\n",
       "      <td>0.0000000</td>\n",
       "      <td>0.0000000</td>\n",
       "      <td>0.0000000</td>\n",
       "      <td>8.0000000</td>\n",
       "      <td>21,252.7871094</td>\n",
       "      <td>0.0000000</td>\n",
       "      <td>0.0000000</td>\n",
       "      <td>0.0000000</td>\n",
       "      <td>2,897.3546143</td>\n",
       "    </tr>\n",
       "    <tr>\n",
       "      <th>max</th>\n",
       "      <td>170,804.0000000</td>\n",
       "      <td>106.0000000</td>\n",
       "      <td>7.0000000</td>\n",
       "      <td>6.0000000</td>\n",
       "      <td>2.0000000</td>\n",
       "      <td>2.0000000</td>\n",
       "      <td>4.0000000</td>\n",
       "      <td>3,884.7876733</td>\n",
       "      <td>1.0000000</td>\n",
       "      <td>27.0000000</td>\n",
       "      <td>...</td>\n",
       "      <td>216,377,964.0000000</td>\n",
       "      <td>0.0000000</td>\n",
       "      <td>0.0000000</td>\n",
       "      <td>0.0000000</td>\n",
       "      <td>24.0000000</td>\n",
       "      <td>10,002,557.0000000</td>\n",
       "      <td>1,518,597.5999320</td>\n",
       "      <td>2,270,452.9811851</td>\n",
       "      <td>20,973,766.4517848</td>\n",
       "      <td>2,275,579.7500000</td>\n",
       "    </tr>\n",
       "  </tbody>\n",
       "</table>\n",
       "<p>8 rows × 37 columns</p>\n",
       "</div>"
      ],
      "text/plain": [
       "                idfoy             age  categorie_salarie  contrat_de_travail  \\\n",
       "count 336,402.0000000 336,402.0000000    336,402.0000000     336,402.0000000   \n",
       "mean   85,397.8407709      42.3438743          4.3804644           3.6372911   \n",
       "std    49,294.7910630      24.4341202          3.2467432           2.7982572   \n",
       "min         0.0000000      -1.0000000          0.0000000           0.0000000   \n",
       "25%    42,651.0000000      20.0000000          0.0000000           0.0000000   \n",
       "50%    85,376.0000000      44.0000000          7.0000000           6.0000000   \n",
       "75%   128,138.0000000      62.0000000          7.0000000           6.0000000   \n",
       "max   170,804.0000000     106.0000000          7.0000000           6.0000000   \n",
       "\n",
       "               quifam          quifoy  statut_marital            wprm  \\\n",
       "count 336,402.0000000 336,402.0000000 336,402.0000000 336,402.0000000   \n",
       "mean        0.7331140       0.7331140       1.7978133     199.6306230   \n",
       "std         0.8229703       0.8229703       0.8115791     140.6775240   \n",
       "min         0.0000000       0.0000000       1.0000000      11.1806653   \n",
       "25%         0.0000000       0.0000000       1.0000000     136.1408387   \n",
       "50%         0.0000000       0.0000000       2.0000000     172.2093207   \n",
       "75%         1.0000000       1.0000000       2.0000000     221.7150802   \n",
       "max         2.0000000       2.0000000       4.0000000   3,884.7876733   \n",
       "\n",
       "              fake_id        activite  ...             idmen_x  \\\n",
       "count 336,402.0000000 336,402.0000000  ...     336,402.0000000   \n",
       "mean        0.6666667       3.9169476  ...  48,026,923.8539158   \n",
       "std         0.4714052       2.8594901  ...  25,547,146.0209368   \n",
       "min         0.0000000       0.0000000  ...  18,000,001.0000000   \n",
       "25%         0.0000000       2.0000000  ...  36,007,780.0000000   \n",
       "50%         1.0000000       4.0000000  ...  36,084,898.0000000   \n",
       "75%         1.0000000       6.0000000  ...  72,048,964.0000000   \n",
       "max         1.0000000      27.0000000  ... 216,377,964.0000000   \n",
       "\n",
       "                loyer  statut_occupation_logement  taxe_habitation  \\\n",
       "count 336,402.0000000             336,402.0000000  336,402.0000000   \n",
       "mean        0.0000000                   0.0000000        0.0000000   \n",
       "std         0.0000000                   0.0000000        0.0000000   \n",
       "min         0.0000000                   0.0000000        0.0000000   \n",
       "25%         0.0000000                   0.0000000        0.0000000   \n",
       "50%         0.0000000                   0.0000000        0.0000000   \n",
       "75%         0.0000000                   0.0000000        0.0000000   \n",
       "max         0.0000000                   0.0000000        0.0000000   \n",
       "\n",
       "             zone_apl                rfr  revenus_capitaux_prelevement_bareme  \\\n",
       "count 336,402.0000000    336,402.0000000                      336,402.0000000   \n",
       "mean        5.3286604     14,478.2705078                          112.2462897   \n",
       "std         2.8345250     44,364.4726562                        3,888.9626460   \n",
       "min         2.0000000          0.0000000                            0.0000000   \n",
       "25%         4.0000000          0.0000000                            0.0000000   \n",
       "50%         4.0000000          0.0000000                            0.0000000   \n",
       "75%         8.0000000     21,252.7871094                            0.0000000   \n",
       "max        24.0000000 10,002,557.0000000                    1,518,597.5999320   \n",
       "\n",
       "       revenus_capitaux_prelevement_liberatoire  \\\n",
       "count                           336,402.0000000   \n",
       "mean                                167.8192584   \n",
       "std                               5,814.3821864   \n",
       "min                                   0.0000000   \n",
       "25%                                   0.0000000   \n",
       "50%                                   0.0000000   \n",
       "75%                                   0.0000000   \n",
       "max                           2,270,452.9811851   \n",
       "\n",
       "       revenus_capitaux_prelevement_forfaitaire_unique_ir  salaire_imposable  \n",
       "count                                    336,402.0000000     336,402.0000000  \n",
       "mean                                       1,550.2641816       8,591.7177734  \n",
       "std                                       53,711.5258713      23,242.1875000  \n",
       "min                                            0.0000000           0.0000000  \n",
       "25%                                            0.0000000           0.0000000  \n",
       "50%                                            0.0000000           0.0000000  \n",
       "75%                                            0.0000000       2,897.3546143  \n",
       "max                                   20,973,766.4517848   2,275,579.7500000  \n",
       "\n",
       "[8 rows x 37 columns]"
      ]
     },
     "execution_count": 23,
     "metadata": {},
     "output_type": "execute_result"
    }
   ],
   "source": [
    "sample_pop.describe()"
   ]
  },
  {
   "cell_type": "code",
   "execution_count": 24,
   "id": "enabling-validation",
   "metadata": {},
   "outputs": [
    {
     "data": {
      "text/plain": [
       "Index(['idfoy', 'age', 'categorie_salarie', 'contrat_de_travail',\n",
       "       'date_naissance', 'quifam', 'quifoy', 'statut_marital', 'quimenof',\n",
       "       'quifoyof', 'quifamof', 'wprm', 'fake_id', 'activite', 'chomage_brut',\n",
       "       'effectif_entreprise', 'heures_remunerees_volume', 'idfam', 'idmen',\n",
       "       'noindiv', 'pensions_alimentaires_percues', 'quimen', 'rag',\n",
       "       'retraite_brute', 'ric', 'rnc', 'salaire_de_base', 'f4ba',\n",
       "       'idmen_original', 'idfoy_original', 'idfam_original', 'idmen_x',\n",
       "       'loyer', 'statut_occupation_logement', 'taxe_habitation', 'zone_apl',\n",
       "       'rfr', 'revenus_capitaux_prelevement_bareme',\n",
       "       'revenus_capitaux_prelevement_liberatoire',\n",
       "       'revenus_capitaux_prelevement_forfaitaire_unique_ir',\n",
       "       'salaire_imposable'],\n",
       "      dtype='object')"
      ]
     },
     "execution_count": 24,
     "metadata": {},
     "output_type": "execute_result"
    }
   ],
   "source": [
    "sample_pop.columns"
   ]
  },
  {
   "cell_type": "markdown",
   "id": "static-bridge",
   "metadata": {},
   "source": [
    "## Vérifications"
   ]
  },
  {
   "cell_type": "code",
   "execution_count": 25,
   "id": "decimal-filing",
   "metadata": {},
   "outputs": [
    {
     "name": "stdout",
     "output_type": "stream",
     "text": [
      "somme_des_rfr = 992,379,535,371 €\n"
     ]
    }
   ],
   "source": [
    "somme_des_rfr = (sample_pop[\"rfr\"] * sample_pop[\"wprm\"]).sum()\n",
    "print(f\"somme_des_rfr = {somme_des_rfr:,.0f} €\")\n",
    "tc.assertGreater(abs(somme_des_rfr), 600_000_000_000)\n",
    "tc.assertLess(abs(somme_des_rfr), 1_500_000_000_000)\n",
    "tc.assertGreater(len(sample_pop), 116_861)"
   ]
  },
  {
   "cell_type": "code",
   "execution_count": 26,
   "id": "violent-update",
   "metadata": {},
   "outputs": [],
   "source": [
    "# export\n",
    "# sample_pop_foyer = pd.read_csv(config[\"DATA_OUT\"] + \"sample_pop_ff_csg.csv\")\n",
    "# annee_de_calcul = \"2021\""
   ]
  },
  {
   "cell_type": "code",
   "execution_count": 27,
   "id": "martial-breeding",
   "metadata": {},
   "outputs": [],
   "source": [
    "# tc.assertLess( abs(sample_pop_foyer[\"rfr\"].mean() - 26_897) , 10 )"
   ]
  },
  {
   "cell_type": "markdown",
   "id": "sweet-negative",
   "metadata": {},
   "source": [
    "## Prépare la simulation\n",
    "\n",
    "**TODO:** Le faire une fois pour toute au démarrage.\n",
    "Attention, ce n'est pas simple car il y a à l'intérieur la création du SimulationBuilder"
   ]
  },
  {
   "cell_type": "code",
   "execution_count": 28,
   "id": "blocked-foster",
   "metadata": {},
   "outputs": [],
   "source": [
    "# export\n",
    "\n",
    "# Remove warnings about using disk cache in case of Out of Memory\n",
    "# warnings.simplefilter(action=\"ignore\", category=MemoryConfigWarning)\n",
    "# warnings.simplefilter(action=\"ignore\", category=TempfileWarning)\n",
    "\n",
    "\n",
    "def create_simulation(period: str, data: pd.DataFrame, tbs: TaxBenefitSystem):\n",
    "    # Vient de LexImpact Server simulate_pop_from_reform-> simulation\n",
    "    sb = SimulationBuilder()\n",
    "    sb.create_entities(tbs)\n",
    "\n",
    "    sb.declare_person_entity(\"individu\", data.index)\n",
    "\n",
    "    # Creates openfisca entities and generates grouped\n",
    "\n",
    "    listentities = {\"foy\": \"foyer_fiscal\", \"men\": \"menage\", \"fam\": \"famille\"}\n",
    "\n",
    "    instances = {}\n",
    "    dictionnaire_datagrouped = {\"individu\": data}\n",
    "\n",
    "    for ent, ofent in listentities.items():\n",
    "        persons_ent = data[\"id\" + ent].values\n",
    "        persons_ent_roles = data[\"qui\" + ent + \"of\"].values\n",
    "        ent_ids = data[\"id\" + ent].unique()\n",
    "        instances[ofent] = sb.declare_entity(ofent, ent_ids)\n",
    "        sb.join_with_persons(instances[ofent], persons_ent, roles=persons_ent_roles)\n",
    "\n",
    "        # The following ssumes data defined for an entity are the same for all rows in\n",
    "        # the same entity. Or at least that the first non null value found for an\n",
    "        # entity will always be the total value for an entity (which is the case for\n",
    "        # f4ba). These checks are performed in the checkdata function defined below.\n",
    "        dictionnaire_datagrouped[ofent] = (\n",
    "            data.groupby(\"id\" + ent, as_index=False).first().sort_values(by=\"id\" + ent)\n",
    "        )\n",
    "\n",
    "    # These variables should not be attributed to any OpenFisca Entity\n",
    "    columns_not_OF_variables = {\n",
    "        \"idmen\",\n",
    "        \"idfoy\",\n",
    "        \"idfam\",\n",
    "        \"noindiv\",\n",
    "        \"level_0\",\n",
    "        \"quifam\",\n",
    "        \"quifoy\",\n",
    "        \"quimen\",\n",
    "        \"idmen_x\",\n",
    "        \"idmen_y\",\n",
    "        \"wprm\",\n",
    "        \"index\",\n",
    "        \"idmen_original\",\n",
    "        \"idfoy_original\",\n",
    "        \"idfam_original\",\n",
    "        \"quifamof\",\n",
    "        \"quifoyof\",\n",
    "        \"quimenof\",\n",
    "        \"assiette_csg_plus_values\",\n",
    "        \"csg_deductible_chomage\",\n",
    "        \"csg_imposable_chomage\",\n",
    "        \"csg_chomage\",\n",
    "        \"csg_deductible_retraite\",\n",
    "        \"csg_imposable_retraite\",\n",
    "        \"csg_retraite\",\n",
    "        \"pote_rev_capital\",\n",
    "        \"pote_rente_viagere\",\n",
    "        \"pote_rev_categ_foncier\",\n",
    "        \"pote_plus_values\",\n",
    "        \"pote_chomage\",\n",
    "        \"pote_retraite\",\n",
    "        \"pote_pre-retraite\",\n",
    "        \"fake_id\",\n",
    "        \"taux_csg_remplacement\",\n",
    "    }\n",
    "\n",
    "    simulation = sb.build(tbs)\n",
    "    #     memory_config = MemoryConfig(\n",
    "    #         max_memory_occupation=0.95,  # When 95% of the virtual memory is full, switch to disk storage\n",
    "    #         priority_variables=[\"salary\", \"age\"],  # Always store these variables in memory\n",
    "    #         # variables_to_drop=non_cached_variables,\n",
    "    #     )\n",
    "    #     simulation.memory_config = memory_config\n",
    "\n",
    "    # Attribution des variables à la bonne entité OpenFisca\n",
    "    for colonne in data.columns:\n",
    "        # On entre les valeurs sur les 3 dernieres annees (par exemple pour calculer la retraite)\n",
    "        for year in range(int(period) - 2, int(period) + 1):\n",
    "            if colonne not in columns_not_OF_variables:\n",
    "                try:\n",
    "                    # print(\"colonne\", colonne)\n",
    "                    simulation.set_input(\n",
    "                        colonne,\n",
    "                        str(year),\n",
    "                        dictionnaire_datagrouped[tbs.get_variable(colonne).entity.key][\n",
    "                            colonne\n",
    "                        ],\n",
    "                    )\n",
    "                except AttributeError as e:\n",
    "                    print(\n",
    "                        f\"AttributeError, are you sure {colonne} is known by your OpenFisca TaxBenefitSystem ? {e}\"\n",
    "                    )\n",
    "                    raise e\n",
    "\n",
    "    return simulation, dictionnaire_datagrouped"
   ]
  },
  {
   "cell_type": "markdown",
   "id": "dimensional-piece",
   "metadata": {},
   "source": [
    "## Prépare la réforme\n",
    "\n",
    "On utilise OpenFisca pour appliquer une réforme.\n",
    "\n",
    "Ici on hérite de la class Reform et on lui applique la réforme souhaitée."
   ]
  },
  {
   "cell_type": "code",
   "execution_count": 29,
   "id": "perceived-pakistan",
   "metadata": {},
   "outputs": [],
   "source": [
    "# export\n",
    "class CustomReform(Reform):\n",
    "    \"\"\"\n",
    "    Override the OpenFisca Reform class\n",
    "    \"\"\"\n",
    "\n",
    "    def __init__(\n",
    "        self, tbs: TaxBenefitSystem, payload: ReformeSocioFiscale, period: str\n",
    "    ) -> None:\n",
    "        self.payload = payload\n",
    "        self.instant = periods.instant(period)\n",
    "        self.period = periods.period(\"year:1900:200\")\n",
    "        super().__init__(tbs)\n",
    "\n",
    "    def modifier(self, parameters: ParameterNode) -> ParameterNode:\n",
    "        # openfisca-france/openfisca_france/parameters/prelevements_sociaux/contributions_sociales/csg/\n",
    "        if self.payload.amendement is None:\n",
    "            return parameters\n",
    "        for parameter_name, change in self.payload.amendement.items():\n",
    "            # On itère sur chaque partie du nom du paramètre en str pour en faire un ParameterNode conforme\n",
    "            parameter = parameters\n",
    "            for sub_name in parameter_name.split(\".\"):\n",
    "                parameter = parameter.children[sub_name]\n",
    "            # Si la valeur est un dictionnaire, alors on a affaire à un barème\n",
    "            if isinstance(change, Dict):\n",
    "                if change[\"type\"] == \"parameter\":\n",
    "                    taux = change[\"value\"]\n",
    "                    parameter.update(\n",
    "                        start=instant(change.get(\"start\")),\n",
    "                        stop=instant(change.get(\"stop\")),\n",
    "                        value=taux,\n",
    "                    )\n",
    "                elif change[\"type\"] == \"scale\":\n",
    "                    # ### Debut du copier-coller de https://git.leximpact.dev/leximpact/leximpact-socio-fiscal-api/-/blob/master/leximpact_socio_fiscal_api/routers/simulations.py#L62\n",
    "                    # TODO: handle stop?.\n",
    "                    if change.get(\"stop\") is not None:\n",
    "                        print(\"Scale change can't contain a 'stop'\")\n",
    "                        break\n",
    "                    # Note: change has the form:\n",
    "                    # {\n",
    "                    #     'scale': [\n",
    "                    #         {'rate': {'value': 0.5}, 'threshold': {'value': 0}},\n",
    "                    #         {'rate': {'value': 0}, 'threshold': {'value': 4}},\n",
    "                    #     ],\n",
    "                    #     'start': '2021-01-01',\n",
    "                    #     'type': 'scale',\n",
    "                    # }\n",
    "                    # This is not the same structure as OpenFisca brackets\n",
    "                    # => Convert it.\n",
    "                    brackets = parameter.brackets\n",
    "                    value_key = (\n",
    "                        \"amount\"\n",
    "                        if any(\"amount\" in bracket.children for bracket in brackets)\n",
    "                        else \"average_rate\"\n",
    "                        if any(\n",
    "                            \"average_rate\" in bracket.children for bracket in brackets\n",
    "                        )\n",
    "                        else \"rate\"\n",
    "                    )\n",
    "\n",
    "                    brackets_change = []\n",
    "                    for bracket in change[\"scale\"]:\n",
    "                        bracket_change = {}\n",
    "\n",
    "                        threshold = bracket[\"threshold\"]\n",
    "                        if threshold == \"expected\":\n",
    "                            logger.error(\n",
    "                                \"Brackets with 'expected' values are not supported.\"\n",
    "                            )\n",
    "                            break\n",
    "                        value = threshold[\"value\"]\n",
    "                        if value is None:\n",
    "                            # Ignore brackets with a null threshold.\n",
    "                            continue\n",
    "                        bracket_change[\"threshold\"] = value\n",
    "\n",
    "                        if value_key == \"amount\":\n",
    "                            amount = bracket[\"amount\"]\n",
    "                            if amount == \"expected\":\n",
    "                                logger.error(\n",
    "                                    \"Brackets with 'expected' values are not supported.\"\n",
    "                                )\n",
    "                                break\n",
    "                            bracket_change[\"amount\"] = amount[\"value\"]\n",
    "                        elif value_key == \"average_rate\":\n",
    "                            rate = bracket[\"rate\"]\n",
    "                            if rate == \"expected\":\n",
    "                                logger.error(\n",
    "                                    \"Brackets with 'expected' values are not supported.\"\n",
    "                                )\n",
    "                                break\n",
    "                            bracket_change[\"average_rate\"] = rate[\"value\"]\n",
    "                        else:\n",
    "                            base = bracket.get(\"base\")\n",
    "                            if base is not None:\n",
    "                                if base == \"expected\":\n",
    "                                    logger.error(\n",
    "                                        \"Brackets with 'expected' values are not supported.\"\n",
    "                                    )\n",
    "                                    break\n",
    "                                bracket_change[\"base\"] = base[\"value\"]\n",
    "                            rate = bracket[\"rate\"]\n",
    "                            if rate == \"expected\":\n",
    "                                logger.error(\n",
    "                                    \"Brackets with 'expected' values are not supported.\"\n",
    "                                )\n",
    "                                break\n",
    "                            bracket_change[\"rate\"] = rate[\"value\"]\n",
    "                        brackets_change.append(bracket_change)\n",
    "                    else:\n",
    "                        # Brackets change contains no error.\n",
    "                        brackets_change.sort(\n",
    "                            key=lambda bracket_change: bracket_change[\"threshold\"]\n",
    "                        )\n",
    "                        start = change[\"start\"]\n",
    "                        for index, bracket_change in enumerate(brackets_change):\n",
    "                            if len(brackets) <= index:\n",
    "                                brackets.append(\n",
    "                                    ParameterScaleBracket(\n",
    "                                        name=helpers._compose_name(\n",
    "                                            parameter.name, item_name=index\n",
    "                                        ),\n",
    "                                        data={\n",
    "                                            key: {start: value_change}\n",
    "                                            for key, value_change in bracket_change.items()\n",
    "                                        },\n",
    "                                    )\n",
    "                                )\n",
    "                            else:\n",
    "                                bracket_dict = brackets[index].children\n",
    "                                for key, value_change in bracket_change.items():\n",
    "                                    value = bracket_dict.get(key)\n",
    "                                    if value is None:\n",
    "                                        bracket_dict[key] = dict(\n",
    "                                            start=instant(start),\n",
    "                                            value=value_change,\n",
    "                                        )\n",
    "                                    else:\n",
    "                                        value.update(\n",
    "                                            start=instant(start),\n",
    "                                            value=value_change,\n",
    "                                        )\n",
    "                        if len(brackets) > len(brackets_change):\n",
    "                            del brackets[len(brackets_change) :]\n",
    "                # #### Fin du copier-coller\n",
    "                else:\n",
    "                    logger.error(\n",
    "                        f'Parameter type {value[\"type\"]} not yet implemented in our API.'\n",
    "                    )\n",
    "                    # TODO : raise exception ?\n",
    "                # print(parameter.brackets[0].children['rate'].__dict__)\n",
    "            else:\n",
    "                # Si ce n'est pas un barème, on update la valeur du paramètre\n",
    "                parameter.update(period=self.period, value=change)\n",
    "            # logger.debug(f\"CustomReform.modifier parameter {parameter_name} for {self.period} after update : {parameter}\",)\n",
    "        return parameters\n",
    "\n",
    "    def apply(self) -> None:\n",
    "        self.modify_parameters(modifier_function=self.modifier)"
   ]
  },
  {
   "cell_type": "markdown",
   "id": "major-definition",
   "metadata": {},
   "source": [
    "## Applique la réforme sur nos individus\n",
    "\n",
    "OpenFisca va appliquer la réforme à nos individus provenant de l'ERFS-FPR."
   ]
  },
  {
   "cell_type": "code",
   "execution_count": 30,
   "id": "integrated-tuesday",
   "metadata": {},
   "outputs": [],
   "source": [
    "# VERSION QUI CONSERVE le create_simulation,\n",
    "# on ne l'exporte pas dans le module car elle plante plus souvent d'après les tests de charge\n",
    "# Voir tests/load_testing/README.md\n",
    "# simulation, dictionnaire_datagrouped, previous_tax_benefit_system = (None, None, None)\n",
    "\n",
    "\n",
    "# def compute_variable(\n",
    "#     tax_benefit_system: FranceTaxBenefitSystem(), annee_de_calcul: str, variable: str\n",
    "# ):\n",
    "#     global simulation, dictionnaire_datagrouped, previous_tax_benefit_system\n",
    "#     if simulation is None or previous_tax_benefit_system != tax_benefit_system:\n",
    "#         # Call create_simulation only the first time\n",
    "#         simulation, dictionnaire_datagrouped = create_simulation(\n",
    "#             period=annee_de_calcul, data=sample_pop, tbs=tax_benefit_system\n",
    "#         )\n",
    "#         previous_tax_benefit_system = tax_benefit_system\n",
    "#     # activate the OpenFisca trace\n",
    "#     # simulation.trace = True\n",
    "#     # Calcul de la csg\n",
    "#     res_simu = simulation.calculate_add(variable, annee_de_calcul)\n",
    "\n",
    "#     # print OpenFisca calculation steps\n",
    "#     # simulation.tracer.print_computation_log()\n",
    "#     return res_simu"
   ]
  },
  {
   "cell_type": "markdown",
   "id": "ultimate-queens",
   "metadata": {},
   "source": [
    "## Réduit la précision des données"
   ]
  },
  {
   "cell_type": "code",
   "execution_count": 31,
   "id": "challenging-secretariat",
   "metadata": {},
   "outputs": [],
   "source": [
    "# export\n",
    "def rounddown(number):\n",
    "    \"\"\"\n",
    "    Met à 0 60% des chiffres pour ne pas remonter de valeurs personnelles\n",
    "    \"\"\"\n",
    "    number = int(number)\n",
    "    s = list(str(number))\n",
    "    for i in range(len(s)):\n",
    "        if i < 2 or i < len(s) * 0.4:\n",
    "            continue\n",
    "        s[i - len(s)] = \"0\"\n",
    "    return int(\"\".join(s))"
   ]
  },
  {
   "cell_type": "code",
   "execution_count": 32,
   "id": "worth-rescue",
   "metadata": {},
   "outputs": [
    {
     "data": {
      "text/plain": [
       "3"
      ]
     },
     "execution_count": 32,
     "metadata": {},
     "output_type": "execute_result"
    },
    {
     "data": {
      "text/plain": [
       "35"
      ]
     },
     "execution_count": 32,
     "metadata": {},
     "output_type": "execute_result"
    },
    {
     "data": {
      "text/plain": [
       "350"
      ]
     },
     "execution_count": 32,
     "metadata": {},
     "output_type": "execute_result"
    },
    {
     "data": {
      "text/plain": [
       "3500"
      ]
     },
     "execution_count": 32,
     "metadata": {},
     "output_type": "execute_result"
    },
    {
     "data": {
      "text/plain": [
       "35000"
      ]
     },
     "execution_count": 32,
     "metadata": {},
     "output_type": "execute_result"
    },
    {
     "data": {
      "text/plain": [
       "3550000"
      ]
     },
     "execution_count": 32,
     "metadata": {},
     "output_type": "execute_result"
    },
    {
     "data": {
      "text/plain": [
       "355500000"
      ]
     },
     "execution_count": 32,
     "metadata": {},
     "output_type": "execute_result"
    }
   ],
   "source": [
    "rounddown(3.14)\n",
    "rounddown(35.14)\n",
    "rounddown(355.14)\n",
    "rounddown(3555.14)\n",
    "rounddown(35555.14)\n",
    "rounddown(3_555_555.14)\n",
    "rounddown(355_555_555.14)\n",
    "tc.assertEqual(rounddown(355_555_555.14), 355_500_000)"
   ]
  },
  {
   "cell_type": "markdown",
   "id": "saving-voltage",
   "metadata": {},
   "source": [
    "## Calcul des quantiles\n",
    "\n",
    "Les quantiles que l'on souhaite sont particuliers : nous voulons observer la somme d'une variable par quantile d'une autre variable.\n",
    "Par exemple la contribution à la CSG des salariés en fonction des quantiles de salaire.\n",
    "\n",
    "Cela nécessite de trier les données par la variable à découper en quantile (salaire individuel), puis de faire la somme de la variable à étudier (CSG) sur la tranche de quantile.\n",
    "\n",
    "Difficulté supplémentaire : la variable à découper en quantile devra utiliser les données individuelles non corrigée par le poids, pour avoir des montants réalistes, alors que la variable à étudier devra être corrigée pour que la somme corresponde à la population.\n",
    "\n",
    "De plus la variable sur laquelle faire ces quantiles peut être composée de plusieurs variables qu'il va falloir sommer.\n",
    "De même il peut y avoir plusieurs variables à étudier.\n",
    "\n",
    "Description de l'algorithme :\n",
    "- On applique les poids sur les variables à étudier mais pas sur les variables à découper en quantile\n",
    "- On somme les colonnes des variables à découper en quantile\n",
    "- On tri les données sur cette somme\n",
    "- Pour chaque quantile  :\n",
    "  - La frontière suppérieure est le nombre de lignes multiplié par la fraction de quantile.\n",
    "  - On extrait les données correspondantes\n",
    "  - On enregistre la valeur du dernier individu de la tranche.\n",
    "  - On enregistre la somme de chaque variable à étudier.\n",
    "  - La frontière suppérieure devient la frontière inférieure et on passe au quantile suivant\n",
    "- On retourne le résultat sous forme de dictionnaire qui sera converti en JSON par l'API."
   ]
  },
  {
   "cell_type": "code",
   "execution_count": 33,
   "id": "czech-retail",
   "metadata": {},
   "outputs": [],
   "source": [
    "# export\n",
    "def compute_quantile(\n",
    "    df: pd.DataFrame(),\n",
    "    quantile_base_variable: List[str],\n",
    "    col_values: List[str],\n",
    "    nb_quantiles=10,\n",
    "    do_rounddown=True,\n",
    "    only_above_zero=False,\n",
    ") -> List[Dict[str, float]]:\n",
    "    max_quantiles = 20\n",
    "    if nb_quantiles > max_quantiles:\n",
    "        msg = f\"Sorry, we need to protect the secret of the data. Only {max_quantiles} quantiles maximum allowed.\"\n",
    "        logger.error(msg)\n",
    "        raise SimulationError(msg)\n",
    "    if nb_quantiles >= len(df):\n",
    "        msg = \"Sorry, not enougth data.\"\n",
    "        logger.error(msg)\n",
    "        raise SimulationError(msg)\n",
    "    if quantile_base_variable is None:\n",
    "        msg = \"quantile_base_variable is mandatory for quantile.\"\n",
    "        logger.warning(msg)\n",
    "        raise SimulationError(msg)\n",
    "    for c in quantile_base_variable:\n",
    "        if c in col_values:\n",
    "            msg = \"Columns in quantile_base_variable and col_values must be distinct\"\n",
    "            logger.warning(msg)\n",
    "            raise SimulationError(msg)\n",
    "    # print(\"avant\\n\",df)\n",
    "    # Add columns of quantile_base_variable\n",
    "    df_for_quantile = df\n",
    "\n",
    "    # If we have weighted data\n",
    "    if \"wprm\" in df_for_quantile.columns:\n",
    "        for col in col_values:\n",
    "            df_for_quantile[col + \"_wprm\"] = (\n",
    "                df_for_quantile[\"wprm\"] * df_for_quantile[col]\n",
    "            )\n",
    "    quantile_base_column_name = \"+\".join(quantile_base_variable)\n",
    "    quantile_base_col_name = \"new_temp_column_to_compute_qsgf654e6gq\"\n",
    "    df_for_quantile[quantile_base_col_name] = 0.0\n",
    "    for col in quantile_base_variable:\n",
    "        df_for_quantile[quantile_base_col_name] = (\n",
    "            df_for_quantile[quantile_base_col_name] + df_for_quantile[col]\n",
    "        )\n",
    "    if only_above_zero:\n",
    "        df_for_quantile = df_for_quantile.query(quantile_base_col_name + \" > 0\")\n",
    "    # Compute quantile base\n",
    "    # df_for_quantile = df_for_quantile[[quantile_base_col_name] + col_values]\n",
    "    df_for_quantile = df_for_quantile.sort_values(\n",
    "        [quantile_base_col_name], ascending=True\n",
    "    )\n",
    "    df_for_quantile.reset_index(inplace=True)\n",
    "    # print(\"apres ajout colonne\\n\", df_for_quantile)\n",
    "    nb_lignes = len(df_for_quantile)\n",
    "    quantile_fraction = [(1 / nb_quantiles) * (i + 1) for i in range(nb_quantiles)]\n",
    "    seuil_inf = 0\n",
    "    quantiles_list = []\n",
    "    for f in quantile_fraction:\n",
    "        seuil_supp = (\n",
    "            int(nb_lignes * f)\n",
    "            if nb_lignes - int(nb_lignes * f) >= nb_lignes * quantile_fraction[0]\n",
    "            else nb_lignes\n",
    "        )\n",
    "        df_tranche = df_for_quantile.loc[seuil_inf:seuil_supp]\n",
    "        # print(f\"{f*100:.0f} percentile {seuil_inf=} {seuil_supp=} {len(df_tmp)=} {df_tmp[quantile_base_col_name].sum():,=} {df_tmp.csg.sum():,=}\")\n",
    "        # print(df_tmp)\n",
    "        upper_value = (\n",
    "            rounddown(df_tranche.iloc[-1][quantile_base_col_name])\n",
    "            if do_rounddown\n",
    "            else df_tranche.iloc[-1][quantile_base_col_name]\n",
    "        )\n",
    "\n",
    "        count = (\n",
    "            df_tranche.wprm.sum() if \"wprm\" in df_tranche.columns else len(df_tranche)\n",
    "        )\n",
    "        un_quantile = {\n",
    "            \"fraction\": f,\n",
    "            \"count\": count,\n",
    "            quantile_base_column_name: upper_value,\n",
    "        }\n",
    "        # print(\"quantile_base_column_name\", un_quantile.get(quantile_base_column_name))\n",
    "        sum_tmp = 0\n",
    "        for v in col_values:\n",
    "            un_quantile[v] = (\n",
    "                df_tranche[v + \"_wprm\"].sum()\n",
    "                if \"wprm\" in df_tranche.columns\n",
    "                else df_tranche[v].sum()\n",
    "            )\n",
    "            sum_tmp += un_quantile[v]\n",
    "        if len(col_values) > 1:\n",
    "            un_quantile[\"+\".join(col_values)] = sum_tmp\n",
    "        quantiles_list.append(un_quantile)\n",
    "        seuil_inf = seuil_supp + 1  # if seuil_inf != 0 else seuil_supp\n",
    "\n",
    "    return quantiles_list"
   ]
  },
  {
   "cell_type": "code",
   "execution_count": 34,
   "id": "powered-original",
   "metadata": {},
   "outputs": [
    {
     "data": {
      "text/html": [
       "<div>\n",
       "<style scoped>\n",
       "    .dataframe tbody tr th:only-of-type {\n",
       "        vertical-align: middle;\n",
       "    }\n",
       "\n",
       "    .dataframe tbody tr th {\n",
       "        vertical-align: top;\n",
       "    }\n",
       "\n",
       "    .dataframe thead th {\n",
       "        text-align: right;\n",
       "    }\n",
       "</style>\n",
       "<table border=\"1\" class=\"dataframe\">\n",
       "  <thead>\n",
       "    <tr style=\"text-align: right;\">\n",
       "      <th></th>\n",
       "      <th>fraction</th>\n",
       "      <th>count</th>\n",
       "      <th>rfr</th>\n",
       "      <th>csg</th>\n",
       "    </tr>\n",
       "  </thead>\n",
       "  <tbody>\n",
       "    <tr>\n",
       "      <th>0</th>\n",
       "      <td>0.3333333</td>\n",
       "      <td>4</td>\n",
       "      <td>3.3000000</td>\n",
       "      <td>34</td>\n",
       "    </tr>\n",
       "    <tr>\n",
       "      <th>1</th>\n",
       "      <td>0.6666667</td>\n",
       "      <td>3</td>\n",
       "      <td>6.6000000</td>\n",
       "      <td>15</td>\n",
       "    </tr>\n",
       "    <tr>\n",
       "      <th>2</th>\n",
       "      <td>1.0000000</td>\n",
       "      <td>3</td>\n",
       "      <td>9.9000000</td>\n",
       "      <td>6</td>\n",
       "    </tr>\n",
       "  </tbody>\n",
       "</table>\n",
       "</div>"
      ],
      "text/plain": [
       "   fraction  count       rfr  csg\n",
       "0 0.3333333      4 3.3000000   34\n",
       "1 0.6666667      3 6.6000000   15\n",
       "2 1.0000000      3 9.9000000    6"
      ]
     },
     "execution_count": 34,
     "metadata": {},
     "output_type": "execute_result"
    }
   ],
   "source": [
    "df_small = pd.DataFrame(\n",
    "    {\"rfr\": [i * 1.1 for i in range(10)], \"csg\": [10 - i for i in range(10)]}\n",
    ")\n",
    "res_small = compute_quantile(\n",
    "    df_small, [\"rfr\"], [\"csg\"], nb_quantiles=3, do_rounddown=False\n",
    ")\n",
    "df_res_small = pd.DataFrame(res_small)\n",
    "df_res_small\n",
    "tc.assertEqual(df_small.csg.sum(), df_res_small.csg.sum())\n",
    "tc.assertEqual(df_small.iloc[-1].rfr, df_res_small.iloc[-1].rfr)"
   ]
  },
  {
   "cell_type": "code",
   "execution_count": 35,
   "id": "dc01b7e8-684c-429f-a093-eb0f192a294d",
   "metadata": {},
   "outputs": [],
   "source": [
    "# export\n",
    "\n",
    "\n",
    "def quantile_to_df(resultat_quantile, variable):\n",
    "    df_base = pd.DataFrame(resultat_quantile.result[\"base\"].quantiles)\n",
    "    df_plf = pd.DataFrame(resultat_quantile.result[\"plf\"].quantiles)\n",
    "    df_amendement = pd.DataFrame(resultat_quantile.result[\"amendement\"].quantiles)\n",
    "    df_base[\"plf\"] = df_plf[variable]\n",
    "    df_base[\"amendement\"] = df_amendement[variable]\n",
    "    df_base[\"avant\"] = df_base[variable]\n",
    "    return df_base"
   ]
  },
  {
   "cell_type": "markdown",
   "id": "other-person",
   "metadata": {},
   "source": [
    "## Calcul une réforme\n",
    "\n",
    "Ici on combine les méthodes ci-dessus pour obtenir le résultat.\n",
    "Le montant de la réforme est extrapolé à la france entière en utilisant le \"poids\" \n",
    "de l'individus dans la population française pour obtenir le montant global pour l'Etat."
   ]
  },
  {
   "cell_type": "code",
   "execution_count": 81,
   "id": "educated-copying",
   "metadata": {},
   "outputs": [],
   "source": [
    "# export\n",
    "\n",
    "\n",
    "def compute_reform(\n",
    "    reformParameters: ReformeSocioFiscale,\n",
    "    annee_de_calcul: str,\n",
    "    ignore_recallage=False,\n",
    "    tax_benefit_system=FranceTaxBenefitSystem(),\n",
    "    only_above_zero=True,\n",
    ") -> (OneSimulationResult, List[str]):\n",
    "    \"\"\"\n",
    "    ::reformOpenFisca:: OpenFisca Reform class to use\n",
    "    ::reformParameters:: OpenFisca parameters to apply.\n",
    "    ::annee_de_calcul:: Année de calcul pour OpenFisca\n",
    "    ::ignore_recallage:: Si on ne souhaite pas recaller les données\n",
    "    \"\"\"\n",
    "    errors = []\n",
    "    simu_out = OneSimulationResult(state_budget={\"error\": 1.0})\n",
    "    # logger.debug(f\"reformParameters.amendement : {reformParameters.amendement}\")\n",
    "    logger.debug(f\"reformParameters : {reformParameters}\")\n",
    "    # Is result cached ?\n",
    "    if cache.is_available():\n",
    "        reform_hash = str(\n",
    "            hashlib.sha224(reformParameters.json().encode(\"utf-8\")).hexdigest()\n",
    "        ) + str(annee_de_calcul)\n",
    "        cached_result = cache.get(reform_hash)\n",
    "        if cached_result is None:\n",
    "            logger.debug(f\"No cache for {reform_hash}, compute it.\")\n",
    "        else:\n",
    "            logger.debug(f\"Cache found for reformParameters {reform_hash}, return it.\")\n",
    "            # logger.debug(f\"Cache for {reform_hash} : {cached_result}\")\n",
    "            return OneSimulationResult.parse_obj(json.loads(cached_result)), []\n",
    "    # else:\n",
    "    #    logger.warning(\"Redis not found : we do not use cache to speed up calculation\")\n",
    "\n",
    "    #     debut = timeit.default_timer()\n",
    "    tbs_custom = CustomReform(tax_benefit_system, reformParameters, annee_de_calcul)\n",
    "    # logger.debug(f\"compute_reform for {annee_de_calcul} prelevements_sociaux.contributions_sociales.csg.activite.imposable.taux={tbs_custom.parameters(annee_de_calcul).prelevements_sociaux.contributions_sociales.csg.activite.imposable.taux}\")\n",
    "    #     logger.debug(\n",
    "    #         f\"Temps de création de la réforme : {timeit.default_timer() - debut} secondes\"\n",
    "    #     )\n",
    "    #     debut_compute = timeit.default_timer()\n",
    "    state_budget = {}\n",
    "    data_for_quantile = {}\n",
    "    variables_computed = []\n",
    "\n",
    "    # Prepare simulation\n",
    "    simulation, dictionnaire_datagrouped = create_simulation(\n",
    "        period=annee_de_calcul, data=sample_pop, tbs=tbs_custom\n",
    "    )\n",
    "\n",
    "    for variable in reformParameters.output_variables:\n",
    "        # Check if the variable are not already in the input dataset\n",
    "        # only if not a base variable we use for quantile computation\n",
    "        if (\n",
    "            reformParameters.quantile_base_variable\n",
    "            and variable not in [\"rfr\"] + reformParameters.quantile_base_variable\n",
    "            and variable in dictionnaire_datagrouped[\"individu\"].columns\n",
    "        ):\n",
    "            msg = f\"The variable {variable} already exist in input data !\"\n",
    "            logger.warning(msg)\n",
    "            errors.append(msg)\n",
    "            return simu_out, errors\n",
    "        resultat = simulation.calculate_add(variable, annee_de_calcul)\n",
    "        # logger.debug(f\"calculate_add : La somme de {variable} pour {annee_de_calcul} est {resultat.sum():,.0f}\")\n",
    "        if len(resultat) > len(sample_pop_foyer):\n",
    "            # logger.debug(\"OpenFisca a retourné des individus\")\n",
    "            df_pop = sample_pop\n",
    "        else:\n",
    "            df_pop = sample_pop_foyer\n",
    "        variable_result = np.absolute(resultat)\n",
    "        if ignore_recallage:\n",
    "            state_budget[variable] = (df_pop[\"wprm\"] * variable_result).sum()\n",
    "        else:\n",
    "            # Do we have an aggregate for this variable ?\n",
    "            factor_name = \"factor_to_\" + str(annee_de_calcul)\n",
    "            factor = get_aggregate(\n",
    "                config.get(\"YEAR_ERFS\"), variable, \"ERFS\", factor_name\n",
    "            )\n",
    "            if factor and not ignore_recallage:\n",
    "                variable_result = variable_result * factor\n",
    "                state_budget[variable] = (df_pop[\"wprm\"] * variable_result).sum()\n",
    "            else:\n",
    "                state_budget[variable] = (df_pop[\"wprm\"] * variable_result).sum()\n",
    "                if variable not in [\"assiette_csg_abattue\"]:\n",
    "                    msg = f\"We do not have a correction factor for {config.get('YEAR_ERFS')}-{variable}-{factor_name}\"\n",
    "                    logger.warning(msg)\n",
    "                    errors.append(msg)\n",
    "        #             logger.debug(\n",
    "        #                 f\"compute_reform - result for {variable} : {state_budget[variable]:,.0f} \"\n",
    "        #             )\n",
    "        if reformParameters.quantile_nb > 1:\n",
    "            # TODO : Il faudrait harmoniser les sorties pour avoir le même nombre de lignes pour le calcul des quantiles\n",
    "            data_for_quantile[variable] = variable_result\n",
    "        variables_computed.append(variable)\n",
    "    #         logger.debug(\n",
    "    #             f\"Temps de calcul sur la population de la variable {variable}: {timeit.default_timer() - debut_compute} secondes\"\n",
    "    #         )\n",
    "    if reformParameters.quantile_nb > 1:\n",
    "        # debut_quantiles = timeit.default_timer()\n",
    "        # Remove variables that we do not have computed\n",
    "        quantile_compare_variables = []\n",
    "        for v in reformParameters.quantile_compare_variables:\n",
    "            if v in variables_computed:\n",
    "                quantile_compare_variables.append(v)\n",
    "            else:\n",
    "                if v in df_pop.columns:\n",
    "                    data_for_quantile[v] = df_pop[v]\n",
    "                else:\n",
    "                    msg = f\"Unable to find variable {v} in dataset !\"\n",
    "                    logger.error(msg)\n",
    "                    raise SimulationError(msg)\n",
    "        # Check length of data\n",
    "        nb_lignes_quantile = None\n",
    "        for col, val in data_for_quantile.items():\n",
    "            if nb_lignes_quantile:\n",
    "                if nb_lignes_quantile != len(val):\n",
    "                    msg = f\"Variable {v} has {len(val)} rows versus {nb_lignes_quantile} for previous variables. We can only compute quantiles on variables of same entity/lenght.\"\n",
    "                    logger.error(msg)\n",
    "                    raise SimulationError(msg)\n",
    "            else:\n",
    "                nb_lignes_quantile = len(val)\n",
    "\n",
    "        data_for_quantile[\"wprm\"] = df_pop[\"wprm\"]\n",
    "        sample_pop_new = pd.DataFrame(data_for_quantile)\n",
    "        quantiles = compute_quantile(\n",
    "            sample_pop_new,\n",
    "            quantile_base_variable=reformParameters.quantile_base_variable,\n",
    "            col_values=quantile_compare_variables,\n",
    "            nb_quantiles=reformParameters.quantile_nb,\n",
    "            only_above_zero=only_above_zero,\n",
    "        )\n",
    "        simu_out = OneSimulationResult(state_budget=state_budget, quantiles=quantiles)\n",
    "    #         logger.debug(\n",
    "    #             f\"Temps de calcul des déciles : {timeit.default_timer() - debut_quantiles} secondes\"\n",
    "    #         )\n",
    "    else:\n",
    "        simu_out = OneSimulationResult(state_budget=state_budget)\n",
    "\n",
    "    if cache.is_available():\n",
    "        cache.set(reform_hash, simu_out.json())\n",
    "    #     logger.debug(\n",
    "    #         f\"Temps de traitement total pour un échantillon de {len(df_pop)} : {timeit.default_timer() - debut} secondes\"\n",
    "    #     )\n",
    "\n",
    "    return simu_out, errors"
   ]
  },
  {
   "cell_type": "markdown",
   "id": "historical-vegetation",
   "metadata": {},
   "source": [
    "## Assemble les différents calculs"
   ]
  },
  {
   "cell_type": "code",
   "execution_count": 37,
   "id": "funded-canal",
   "metadata": {},
   "outputs": [],
   "source": [
    "# export\n",
    "def compute_all_simulation(\n",
    "    reform: ReformeSocioFiscale, ignore_recallage=False\n",
    ") -> AllSimulationResult:\n",
    "    \"\"\"\n",
    "    ::reform:: ReformeSocioFiscale\n",
    "    ::annee_de_calcul:: str\n",
    "    \"\"\"\n",
    "    debut = timeit.default_timer()\n",
    "    errors = []\n",
    "    result = None\n",
    "    try:\n",
    "        # Avant le PLF\n",
    "        reform_base = ReformeSocioFiscale(\n",
    "            base=reform.base,\n",
    "            amendement={},  # We want the base result\n",
    "            output_variables=reform.output_variables,\n",
    "            quantile_base_variable=reform.quantile_base_variable,\n",
    "            quantile_nb=reform.quantile_nb,\n",
    "            quantile_compare_variables=reform.quantile_compare_variables,\n",
    "        )\n",
    "        # Avec le PLF\n",
    "        if reform.plf:\n",
    "            reform_plf = ReformeSocioFiscale(\n",
    "                base=reform.base,\n",
    "                plf=reform.plf,\n",
    "                amendement={},  # The PLF is in plf_2022 tax_benefit_system\n",
    "                output_variables=reform.output_variables,\n",
    "                quantile_nb=reform.quantile_nb,\n",
    "                quantile_base_variable=reform.quantile_base_variable,\n",
    "                quantile_compare_variables=reform.quantile_compare_variables,\n",
    "            )\n",
    "            base_result, tmp_errors = compute_reform(\n",
    "                reform_base,\n",
    "                annee_de_calcul=reform.base,\n",
    "                ignore_recallage=ignore_recallage,\n",
    "            )\n",
    "            errors += tmp_errors\n",
    "            plf_result, tmp_errors = compute_reform(\n",
    "                reform_plf,\n",
    "                annee_de_calcul=reform.plf,\n",
    "                ignore_recallage=ignore_recallage,\n",
    "                tax_benefit_system=plf_2022,\n",
    "            )\n",
    "            errors += tmp_errors\n",
    "            amendement_result, tmp_errors = compute_reform(\n",
    "                reform,\n",
    "                annee_de_calcul=reform.plf,\n",
    "                ignore_recallage=ignore_recallage,\n",
    "                tax_benefit_system=plf_2022,\n",
    "            )\n",
    "            errors += tmp_errors\n",
    "            result = {\n",
    "                \"base\": base_result,\n",
    "                \"plf\": plf_result,\n",
    "                \"amendement\": amendement_result,\n",
    "            }\n",
    "        else:\n",
    "            base_result, tmp_errors = compute_reform(\n",
    "                reform_base,\n",
    "                annee_de_calcul=reform.base,\n",
    "                ignore_recallage=ignore_recallage,\n",
    "            )\n",
    "            errors += tmp_errors\n",
    "            if reform.amendement:\n",
    "                amendement_result, tmp_errors = compute_reform(\n",
    "                    reform,\n",
    "                    annee_de_calcul=reform.base,\n",
    "                    ignore_recallage=ignore_recallage,\n",
    "                )\n",
    "                errors += tmp_errors\n",
    "                result = {\n",
    "                    \"base\": base_result,\n",
    "                    \"amendement\": amendement_result,\n",
    "                }\n",
    "            else:\n",
    "                result = {\"base\": base_result}\n",
    "    except SimulationError as e:\n",
    "        errors += [str(e)]\n",
    "    logger.debug(\n",
    "        f\"Temps de traitement total pour la simulation {timeit.default_timer() - debut} secondes. Annee ERFS {config.get('YEAR_ERFS')} Annee TBS {reform.base}\"\n",
    "    )\n",
    "    # Deduplicate errors\n",
    "    errors = list(set(errors))\n",
    "    res = AllSimulationResult(result=result, errors=errors)\n",
    "    return res"
   ]
  },
  {
   "cell_type": "markdown",
   "id": "disabled-observer",
   "metadata": {},
   "source": [
    "# Tests"
   ]
  },
  {
   "cell_type": "markdown",
   "id": "worth-bankruptcy",
   "metadata": {},
   "source": [
    "## Sans réforme"
   ]
  },
  {
   "cell_type": "code",
   "execution_count": 38,
   "id": "immune-magazine",
   "metadata": {},
   "outputs": [],
   "source": [
    "reform_simple = ReformeSocioFiscale(\n",
    "    base=2021,\n",
    "    output_variables=[\"csg_imposable_salaire\"],\n",
    "    quantile_nb=0,\n",
    ")"
   ]
  },
  {
   "cell_type": "markdown",
   "id": "latter-boutique",
   "metadata": {},
   "source": [
    "### On lance la simulation"
   ]
  },
  {
   "cell_type": "code",
   "execution_count": 39,
   "id": "metric-eligibility",
   "metadata": {},
   "outputs": [],
   "source": [
    "# Add to leaky code within python_script_being_profiled.py\n",
    "# ATTENTION : très long\n",
    "# from pympler import muppy, summary\n",
    "# all_objects = muppy.get_objects()\n",
    "# sum1 = summary.summarize(all_objects)# Prints out a summary of the large objects\n",
    "# summary.print_(sum1)# Get references to certain types of objects such as dataframe\n",
    "# dataframes = [ao for ao in all_objects if isinstance(ao, pd.DataFrame)]\n",
    "\n",
    "# for d in dataframes:\n",
    "#     print(d.columns.values)\n",
    "#     print(len(d))\n",
    "\n",
    "#                                                               types |   # objects |   total size\n",
    "# =================================================================== | =========== | ============\n",
    "#                                         pandas.core.frame.DataFrame |           7 |    203.64 MB\n",
    "#                                                       numpy.ndarray |         132 |    144.35 MB\n",
    "#                                                                dict |      206599 |     44.54 MB\n",
    "#                                                                 str |      235228 |     34.76 MB\n",
    "#                                                                type |       12876 |     15.06 MB\n",
    "#                                           pandas.core.series.Series |           5 |     14.12 MB"
   ]
  },
  {
   "cell_type": "code",
   "execution_count": 40,
   "id": "explicit-wilderness",
   "metadata": {},
   "outputs": [],
   "source": [
    "def print_memory():\n",
    "    process = psutil.Process(os.getpid())\n",
    "    mi = process.memory_info()\n",
    "    print(\n",
    "        f\"rss={mi.rss//1_000_000:,}M, vms={mi.vms//1_000_000:,}M, shared={mi.shared//1_000_000:,}M\"\n",
    "    )"
   ]
  },
  {
   "cell_type": "code",
   "execution_count": 41,
   "id": "usual-providence",
   "metadata": {},
   "outputs": [
    {
     "name": "stdout",
     "output_type": "stream",
     "text": [
      "rss=494M, vms=2,157M, shared=40M\n"
     ]
    }
   ],
   "source": [
    "print_memory()"
   ]
  },
  {
   "cell_type": "code",
   "execution_count": 42,
   "id": "straight-controversy",
   "metadata": {},
   "outputs": [
    {
     "name": "stderr",
     "output_type": "stream",
     "text": [
      "[leximpact_socio-fisca-simu-etat DEBUG @ 15:09:25] reformParameters : base=2021 plf=None amendement={} output_variables=['csg_imposable_salaire'] quantile_nb=0 quantile_base_variable=None quantile_compare_variables=None\n",
      "[leximpact_socio-fisca-simu-etat DEBUG @ 15:09:25] No cache for 1e3941b2c54884948c3da2704ae6c6a62a3c49126f1bd509a9a541b92021, compute it.\n",
      "[leximpact_socio-fisca-simu-etat DEBUG @ 15:09:30] Temps de traitement total pour la simulation 5.132818594574928 secondes. Annee ERFS 2018 Annee TBS 2021\n"
     ]
    },
    {
     "name": "stdout",
     "output_type": "stream",
     "text": [
      "CPU times: user 3.94 s, sys: 1.17 s, total: 5.11 s\n",
      "Wall time: 5.13 s\n"
     ]
    }
   ],
   "source": [
    "%%time\n",
    "\n",
    "resultat_simple = compute_all_simulation(reform_simple)\n",
    "\n",
    "# mem_usage = memory_usage((compute_all_simulation, (reform_simple,)))\n",
    "# print('Memory usage (in chunks of .1 seconds): %s' % mem_usage)\n",
    "# print('Maximum memory usage: %s' % max(mem_usage))"
   ]
  },
  {
   "cell_type": "code",
   "execution_count": 43,
   "id": "b8d4cc8b-bc77-4098-8326-b1dcd5e202db",
   "metadata": {},
   "outputs": [
    {
     "data": {
      "text/plain": [
       "AllSimulationResult(result={'base': OneSimulationResult(state_budget={'csg_imposable_salaire': 19625057103.068016}, quantiles=None)}, errors=[])"
      ]
     },
     "execution_count": 43,
     "metadata": {},
     "output_type": "execute_result"
    }
   ],
   "source": [
    "resultat_simple"
   ]
  },
  {
   "cell_type": "code",
   "execution_count": 44,
   "id": "8ad40d24-65bf-4c1c-88bc-67994e590e65",
   "metadata": {},
   "outputs": [],
   "source": [
    "tc.assertLess(\n",
    "    resultat_simple.result[\"base\"].state_budget[\"csg_imposable_salaire\"], 20_000_000_000\n",
    ")\n",
    "tc.assertGreater(\n",
    "    resultat_simple.result[\"base\"].state_budget[\"csg_imposable_salaire\"], 18_000_000_000\n",
    ")"
   ]
  },
  {
   "cell_type": "code",
   "execution_count": 45,
   "id": "virgin-thesis",
   "metadata": {},
   "outputs": [
    {
     "name": "stdout",
     "output_type": "stream",
     "text": [
      "rss=1,711M, vms=3,374M, shared=40M\n"
     ]
    }
   ],
   "source": [
    "print_memory()"
   ]
  },
  {
   "cell_type": "code",
   "execution_count": 46,
   "id": "thousand-marble",
   "metadata": {},
   "outputs": [],
   "source": [
    "# Add to leaky code within python_script_being_profiled.py\n",
    "# ATTENTION : très long\n",
    "# from pympler import muppy, summary\n",
    "# all_objects = muppy.get_objects()\n",
    "# sum1 = summary.summarize(all_objects)# Prints out a summary of the large objects\n",
    "# summary.print_(sum1)\n",
    "\n",
    "# Get references to certain types of objects such as dataframe\n",
    "# dataframes = [ao for ao in all_objects if isinstance(ao, pd.DataFrame)]\n",
    "\n",
    "# for d in dataframes:\n",
    "#     print(d.columns.values)\n",
    "#     print(len(d))\n",
    "\n",
    "# =================================================================== | =========== | ============\n",
    "#                                                       numpy.ndarray |        1033 |      1.08 GB\n",
    "#                                         pandas.core.frame.DataFrame |          10 |    431.79 MB\n",
    "#                                           pandas.core.series.Series |         165 |    327.34 MB\n",
    "#                                                                dict |      268526 |     56.66 MB"
   ]
  },
  {
   "cell_type": "code",
   "execution_count": 47,
   "id": "local-aggregate",
   "metadata": {},
   "outputs": [
    {
     "data": {
      "text/plain": [
       "19625057103.068016"
      ]
     },
     "execution_count": 47,
     "metadata": {},
     "output_type": "execute_result"
    },
    {
     "name": "stdout",
     "output_type": "stream",
     "text": [
      "rss=1,711M, vms=3,374M, shared=40M\n"
     ]
    }
   ],
   "source": [
    "resultat_simple.result[\"base\"].state_budget[\"csg_imposable_salaire\"]\n",
    "del resultat_simple\n",
    "print_memory()"
   ]
  },
  {
   "cell_type": "code",
   "execution_count": 48,
   "id": "2acebb28-bc60-444f-a462-5aa7b3930569",
   "metadata": {},
   "outputs": [
    {
     "data": {
      "text/plain": [
       "'2018'"
      ]
     },
     "execution_count": 48,
     "metadata": {},
     "output_type": "execute_result"
    }
   ],
   "source": [
    "config.get(\"YEAR_ERFS\")"
   ]
  },
  {
   "cell_type": "code",
   "execution_count": 49,
   "id": "67c2c6af-f076-4341-a8b1-bc08c86d5ac7",
   "metadata": {},
   "outputs": [
    {
     "data": {
      "text/plain": [
       "1.173065725729275"
      ]
     },
     "execution_count": 49,
     "metadata": {},
     "output_type": "execute_result"
    }
   ],
   "source": [
    "get_aggregate(\n",
    "    config.get(\"YEAR_ERFS\"), \"csg_imposable_salaire\", \"ERFS\", \"factor_to_2022\"\n",
    ")"
   ]
  },
  {
   "cell_type": "markdown",
   "id": "another-wallpaper",
   "metadata": {},
   "source": [
    "## Réforme simple"
   ]
  },
  {
   "cell_type": "code",
   "execution_count": 50,
   "id": "through-waterproof",
   "metadata": {},
   "outputs": [],
   "source": [
    "reform_simple = ReformeSocioFiscale(\n",
    "    base=2021,\n",
    "    plf=2022,\n",
    "    amendement={\n",
    "        \"prelevements_sociaux.contributions_sociales.csg.activite.imposable.taux\": 0.0,\n",
    "        \"prelevements_sociaux.contributions_sociales.csg.activite.deductible.taux\": 0.0,\n",
    "    },\n",
    "    output_variables=[\n",
    "        \"csg_imposable_salaire\",\n",
    "        \"csg_deductible_salaire\",\n",
    "    ],\n",
    "    quantile_nb=0,\n",
    ")"
   ]
  },
  {
   "cell_type": "code",
   "execution_count": 51,
   "id": "demographic-jesus",
   "metadata": {},
   "outputs": [],
   "source": [
    "# from IPython.display import JSON\n",
    "\n",
    "# with open(config.get(\"PLF\")) as json_file:\n",
    "#     changement_plf = json.load(json_file)\n",
    "# JSON(changement_plf)"
   ]
  },
  {
   "cell_type": "markdown",
   "id": "nominated-venezuela",
   "metadata": {},
   "source": [
    "### On lance la simulation"
   ]
  },
  {
   "cell_type": "code",
   "execution_count": 52,
   "id": "bigger-lithuania",
   "metadata": {},
   "outputs": [
    {
     "name": "stderr",
     "output_type": "stream",
     "text": [
      "[leximpact_socio-fisca-simu-etat DEBUG @ 15:09:31] reformParameters : base=2021 plf=None amendement={} output_variables=['csg_imposable_salaire', 'csg_deductible_salaire'] quantile_nb=0 quantile_base_variable=None quantile_compare_variables=None\n",
      "[leximpact_socio-fisca-simu-etat DEBUG @ 15:09:31] No cache for 3ab448dddf78cc47e3c09e096ac8b3670fb85573c7e9052371f369fe2021, compute it.\n",
      "[leximpact_socio-fisca-simu-etat DEBUG @ 15:09:36] reformParameters : base=2021 plf=2022 amendement={} output_variables=['csg_imposable_salaire', 'csg_deductible_salaire'] quantile_nb=0 quantile_base_variable=None quantile_compare_variables=None\n",
      "[leximpact_socio-fisca-simu-etat DEBUG @ 15:09:36] No cache for 6b359ba822df9b76dec3813e19eb8dd7995342af16e995e419662c2b2022, compute it.\n",
      "[leximpact_socio-fisca-simu-etat DEBUG @ 15:09:40] reformParameters : base=2021 plf=2022 amendement={'prelevements_sociaux.contributions_sociales.csg.activite.imposable.taux': 0.0, 'prelevements_sociaux.contributions_sociales.csg.activite.deductible.taux': 0.0} output_variables=['csg_imposable_salaire', 'csg_deductible_salaire'] quantile_nb=0 quantile_base_variable=None quantile_compare_variables=None\n",
      "[leximpact_socio-fisca-simu-etat DEBUG @ 15:09:40] No cache for 146b7b6ba5fbfb82654422b24a6e7485eed5e4663289b014cf9c31882022, compute it.\n",
      "[leximpact_socio-fisca-simu-etat DEBUG @ 15:09:44] Temps de traitement total pour la simulation 13.775363557040691 secondes. Annee ERFS 2018 Annee TBS 2021\n"
     ]
    },
    {
     "name": "stdout",
     "output_type": "stream",
     "text": [
      "CPU times: user 12.4 s, sys: 1.3 s, total: 13.7 s\n",
      "Wall time: 13.8 s\n"
     ]
    }
   ],
   "source": [
    "%%time\n",
    "resultat_simple = compute_all_simulation(reform_simple)"
   ]
  },
  {
   "cell_type": "markdown",
   "id": "9f2b93a0-4233-414a-b840-5bbdf9110e60",
   "metadata": {},
   "source": [
    "Temps d'exécution sans aucun cache de `compute_all_simulation(reform_simple)` sur Jupyter Hub le 27/11/2021: 13 secondes."
   ]
  },
  {
   "cell_type": "code",
   "execution_count": 53,
   "id": "important-regression",
   "metadata": {},
   "outputs": [
    {
     "data": {
      "text/plain": [
       "AllSimulationResult(result={'base': OneSimulationResult(state_budget={'csg_imposable_salaire': 19625057103.068016, 'csg_deductible_salaire': 55604328529.90672}, quantiles=None), 'plf': OneSimulationResult(state_budget={'csg_imposable_salaire': 19625057103.068016, 'csg_deductible_salaire': 55604328529.90672}, quantiles=None), 'amendement': OneSimulationResult(state_budget={'csg_imposable_salaire': 0.0, 'csg_deductible_salaire': 0.0}, quantiles=None)}, errors=[])"
      ]
     },
     "execution_count": 53,
     "metadata": {},
     "output_type": "execute_result"
    }
   ],
   "source": [
    "resultat_simple"
   ]
  },
  {
   "cell_type": "code",
   "execution_count": 54,
   "id": "e3b1a5f9-fdfd-4e55-8d13-9b5f10951618",
   "metadata": {},
   "outputs": [],
   "source": [
    "tc.assertEqual(\n",
    "    resultat_simple.result[\"amendement\"].state_budget[\"csg_imposable_salaire\"], 0\n",
    ")"
   ]
  },
  {
   "cell_type": "code",
   "execution_count": 55,
   "id": "portable-utilization",
   "metadata": {},
   "outputs": [
    {
     "name": "stdout",
     "output_type": "stream",
     "text": [
      "Montant \"avant\" de la CSG prélevée sur les salaires 75,229,385,633 €\n",
      "Montant \"plf\" de la CSG prélevée sur les salaires 75,229,385,633 €\n",
      "Montant \"amendement\" de la CSG prélevée sur les salaires 0 €\n"
     ]
    }
   ],
   "source": [
    "csg_salaire_avant = (\n",
    "    resultat_simple.result[\"base\"].state_budget[\"csg_imposable_salaire\"]\n",
    "    + resultat_simple.result[\"base\"].state_budget[\"csg_deductible_salaire\"]\n",
    ")\n",
    "csg_salaire_plf = (\n",
    "    resultat_simple.result[\"plf\"].state_budget[\"csg_imposable_salaire\"]\n",
    "    + resultat_simple.result[\"plf\"].state_budget[\"csg_deductible_salaire\"]\n",
    ")\n",
    "csg_salaire_amendement = (\n",
    "    resultat_simple.result[\"amendement\"].state_budget[\"csg_imposable_salaire\"]\n",
    "    + resultat_simple.result[\"amendement\"].state_budget[\"csg_deductible_salaire\"]\n",
    ")\n",
    "print(f'Montant \"avant\" de la CSG prélevée sur les salaires {csg_salaire_avant:,.0f} €')\n",
    "print(f'Montant \"plf\" de la CSG prélevée sur les salaires {csg_salaire_plf:,.0f} €')\n",
    "print(\n",
    "    f'Montant \"amendement\" de la CSG prélevée sur les salaires {csg_salaire_amendement:,.0f} €'\n",
    ")"
   ]
  },
  {
   "cell_type": "code",
   "execution_count": 56,
   "id": "acoustic-quilt",
   "metadata": {},
   "outputs": [
    {
     "data": {
      "text/plain": [
       "[]"
      ]
     },
     "execution_count": 56,
     "metadata": {},
     "output_type": "execute_result"
    }
   ],
   "source": [
    "resultat_simple.errors"
   ]
  },
  {
   "cell_type": "markdown",
   "id": "f1d478c5-134f-49ed-b44d-3d83271e473a",
   "metadata": {},
   "source": [
    "## Simple reform"
   ]
  },
  {
   "cell_type": "code",
   "execution_count": 57,
   "id": "09126790-2ad1-4ed9-bdad-3d9228032be5",
   "metadata": {},
   "outputs": [],
   "source": [
    "small_reform = ReformeSocioFiscale(\n",
    "    base=2021,\n",
    "    plf=2022,\n",
    "    amendement={\n",
    "        \"prelevements_sociaux.contributions_sociales.csg.activite.deductible.taux\": 0.0,\n",
    "    },\n",
    "    output_variables=[\"csg_deductible_salaire\"],\n",
    ")\n",
    "period = str(small_reform.plf)\n",
    "my_small_reform = CustomReform(FranceTaxBenefitSystem(), small_reform, period)"
   ]
  },
  {
   "cell_type": "code",
   "execution_count": 58,
   "id": "b37b9699-d7ee-495f-ae55-7489c2d45e1b",
   "metadata": {},
   "outputs": [
    {
     "name": "stderr",
     "output_type": "stream",
     "text": [
      "[leximpact_socio-fisca-simu-etat DEBUG @ 15:09:47] Connecting to Redis 10.0.0.131:6377\n"
     ]
    }
   ],
   "source": [
    "import pandas as pd\n",
    "\n",
    "from leximpact_socio_fisca_simu_etat.config import Configuration\n",
    "from leximpact_socio_fisca_simu_etat.csg_simu import (\n",
    "    compute_all_simulation,\n",
    "    compute_reform,\n",
    "    create_simulation,\n",
    ")\n",
    "\n",
    "config = Configuration()\n",
    "# settings to display all columns\n",
    "pd.set_option(\"display.max_columns\", None)"
   ]
  },
  {
   "cell_type": "code",
   "execution_count": 59,
   "id": "471a9c7c-c2f6-42ec-b11c-f775a28af711",
   "metadata": {},
   "outputs": [],
   "source": [
    "df = pd.read_hdf(config.get(\"ERFS_FINAL_FOR_SIMU\"))\n",
    "df_ko = df\n",
    "df_ok = pd.read_hdf(\n",
    "    \"/mnt/data-out/leximpact/erfs-fpr/base_2021/prod/erfs_final_ind_2018_aged_to_2021_N_3_Old.h5\"\n",
    ")  # OK\n",
    "# df_ko = pd.read_hdf(\"/mnt/data-out/leximpact/erfs-fpr/base_2021/prod/erfs_final_ind_2018_aged_to_2021_N_3.h5\")  # KO"
   ]
  },
  {
   "cell_type": "code",
   "execution_count": 60,
   "id": "3aaed8a5-04e4-4601-81a2-8319b717001b",
   "metadata": {},
   "outputs": [
    {
     "data": {
      "text/plain": [
       "Index(['idfoy', 'age', 'categorie_salarie', 'contrat_de_travail',\n",
       "       'date_naissance', 'quifam', 'quifoy', 'statut_marital', 'quimenof',\n",
       "       'quifoyof', 'quifamof', 'wprm', 'fake_id', 'activite', 'chomage_brut',\n",
       "       'effectif_entreprise', 'heures_remunerees_volume', 'idfam', 'idmen',\n",
       "       'noindiv', 'pensions_alimentaires_percues', 'quimen', 'rag',\n",
       "       'retraite_brute', 'ric', 'rnc', 'salaire_de_base', 'f4ba',\n",
       "       'idmen_original', 'idfoy_original', 'idfam_original', 'idmen_x',\n",
       "       'loyer', 'statut_occupation_logement', 'taxe_habitation', 'zone_apl',\n",
       "       'rfr', 'revenus_capitaux_prelevement_bareme',\n",
       "       'revenus_capitaux_prelevement_liberatoire',\n",
       "       'revenus_capitaux_prelevement_forfaitaire_unique_ir',\n",
       "       'salaire_imposable'],\n",
       "      dtype='object')"
      ]
     },
     "execution_count": 60,
     "metadata": {},
     "output_type": "execute_result"
    }
   ],
   "source": [
    "df_ko.columns"
   ]
  },
  {
   "cell_type": "code",
   "execution_count": 61,
   "id": "9976a250-76bf-4b3d-9ca4-9a7240cd7d44",
   "metadata": {},
   "outputs": [],
   "source": [
    "data_ko = df_ko.drop(\n",
    "    [\n",
    "        \"csg_imposable_salaire\",\n",
    "        \"csg_deductible_salaire\",\n",
    "        \"csg_imposable_retraite\",\n",
    "        \"csg_deductible_retraite\",\n",
    "    ],\n",
    "    axis=1,\n",
    "    errors=\"ignore\",\n",
    ")\n",
    "data_ok = df_ok.query(\"idfoy == 2\")\n",
    "# data_ko=df_ko.query(\"idfoy == 2\")\n",
    "\n",
    "\n",
    "# data_ok.head(1) # [[\"idfoy\", \"salaire_de_base\"]]\n",
    "# data_ko.head(1)"
   ]
  },
  {
   "cell_type": "markdown",
   "id": "34fe4d69-6c4a-4c47-aad9-4b70eb47a63b",
   "metadata": {},
   "source": [
    "## Use create_simulation"
   ]
  },
  {
   "cell_type": "code",
   "execution_count": 62,
   "id": "f82a6dad-1402-4ce7-ba3d-4854647c1026",
   "metadata": {},
   "outputs": [
    {
     "name": "stdout",
     "output_type": "stream",
     "text": [
      "CPU times: user 5.62 s, sys: 74.7 ms, total: 5.69 s\n",
      "Wall time: 5.69 s\n"
     ]
    }
   ],
   "source": [
    "%%time\n",
    "simu_before, _ = create_simulation(\n",
    "    period=period, data=data_ko, tbs=FranceTaxBenefitSystem()\n",
    ")\n",
    "simu_after, dictionnaire_datagrouped = create_simulation(\n",
    "    period=period, data=data_ko, tbs=my_small_reform\n",
    ")"
   ]
  },
  {
   "cell_type": "code",
   "execution_count": 63,
   "id": "f46c83ca-8aae-4279-8994-9d90a6f42cce",
   "metadata": {},
   "outputs": [
    {
     "name": "stdout",
     "output_type": "stream",
     "text": [
      "Sum before : -233,010,912\n",
      "Sum after : 0\n",
      "CPU times: user 2.86 s, sys: 820 ms, total: 3.68 s\n",
      "Wall time: 3.69 s\n"
     ]
    }
   ],
   "source": [
    "%%time\n",
    "res_simu_before = simu_before.calculate_add(\"csg_deductible_salaire\", period)\n",
    "print(f\"Sum before : {res_simu_before.sum():,.0f}\")\n",
    "tc.assertGreater(abs(res_simu_before.sum()), 100_000_000)\n",
    "res_simu_after = simu_after.calculate_add(\"csg_deductible_salaire\", period)\n",
    "print(f\"Sum after : {res_simu_after.sum():,.0f}\")\n",
    "tc.assertEqual(res_simu_after.sum(), 0.0)"
   ]
  },
  {
   "cell_type": "markdown",
   "id": "ac6191b3-ac6a-4c11-858c-daff9c430122",
   "metadata": {},
   "source": [
    "## Use compute_reform"
   ]
  },
  {
   "cell_type": "code",
   "execution_count": 64,
   "id": "eda80d53-c818-4174-ae9e-73a35b5386f2",
   "metadata": {},
   "outputs": [
    {
     "name": "stderr",
     "output_type": "stream",
     "text": [
      "[leximpact_socio-fisca-simu-etat DEBUG @ 15:09:59] reformParameters : base=2021 plf=2022 amendement={'prelevements_sociaux.contributions_sociales.csg.activite.deductible.taux': 0.0} output_variables=['csg_deductible_salaire'] quantile_nb=0 quantile_base_variable=None quantile_compare_variables=None\n",
      "[leximpact_socio-fisca-simu-etat DEBUG @ 15:09:59] No cache for 4859c3aa22ce996a29b2fb8e68f9e308dbd22ced5d500a0b07899be12022, compute it.\n"
     ]
    },
    {
     "data": {
      "text/plain": [
       "[]"
      ]
     },
     "execution_count": 64,
     "metadata": {},
     "output_type": "execute_result"
    }
   ],
   "source": [
    "small_reform_res, errors = compute_reform(\n",
    "    small_reform,\n",
    "    period,\n",
    "    ignore_recallage=True,\n",
    "    tax_benefit_system=FranceTaxBenefitSystem(),\n",
    ")\n",
    "errors"
   ]
  },
  {
   "cell_type": "code",
   "execution_count": 65,
   "id": "d2700b40-f940-4504-8a41-a46b100393ab",
   "metadata": {},
   "outputs": [],
   "source": [
    "tc.assertEqual(small_reform_res.state_budget[\"csg_deductible_salaire\"], 0.0)"
   ]
  },
  {
   "cell_type": "markdown",
   "id": "090dc2bf-d74b-45b9-90cb-50b5b5294802",
   "metadata": {},
   "source": [
    "## Use compute_all_simulation"
   ]
  },
  {
   "cell_type": "code",
   "execution_count": 66,
   "id": "b9269425-9c60-4f75-b442-d123a1ddf85c",
   "metadata": {},
   "outputs": [
    {
     "name": "stderr",
     "output_type": "stream",
     "text": [
      "[leximpact_socio-fisca-simu-etat DEBUG @ 15:10:05] reformParameters : base=2021 plf=None amendement={} output_variables=['csg_deductible_salaire'] quantile_nb=0 quantile_base_variable=None quantile_compare_variables=None\n",
      "[leximpact_socio-fisca-simu-etat DEBUG @ 15:10:05] No cache for 7f79d8f06fa7ac2df969d36a248b6536f0c9f1333e5628c4eea8d9ff2021, compute it.\n",
      "[leximpact_socio-fisca-simu-etat DEBUG @ 15:10:11] reformParameters : base=2021 plf=2022 amendement={} output_variables=['csg_deductible_salaire'] quantile_nb=0 quantile_base_variable=None quantile_compare_variables=None\n",
      "[leximpact_socio-fisca-simu-etat DEBUG @ 15:10:11] No cache for bba2ec0a5c2e5c4e68aad4ab57c8ecfd4238829de99cdd78867c10f42022, compute it.\n",
      "[leximpact_socio-fisca-simu-etat DEBUG @ 15:10:15] reformParameters : base=2021 plf=2022 amendement={'prelevements_sociaux.contributions_sociales.csg.activite.deductible.taux': 0.0} output_variables=['csg_deductible_salaire'] quantile_nb=0 quantile_base_variable=None quantile_compare_variables=None\n",
      "[leximpact_socio-fisca-simu-etat DEBUG @ 15:10:15] Cache found for reformParameters 4859c3aa22ce996a29b2fb8e68f9e308dbd22ced5d500a0b07899be12022, return it.\n",
      "[leximpact_socio-fisca-simu-etat DEBUG @ 15:10:15] Temps de traitement total pour la simulation 9.714127127081156 secondes. Annee ERFS 2018 Annee TBS 2021\n"
     ]
    }
   ],
   "source": [
    "small_reform_all_res = compute_all_simulation(small_reform, ignore_recallage=True)"
   ]
  },
  {
   "cell_type": "code",
   "execution_count": 67,
   "id": "66bdba04-e158-47a5-aa5f-772e29708496",
   "metadata": {},
   "outputs": [],
   "source": [
    "tc.assertEqual(\n",
    "    small_reform_all_res.result[\"amendement\"].state_budget[\"csg_deductible_salaire\"],\n",
    "    0.0,\n",
    ")"
   ]
  },
  {
   "cell_type": "markdown",
   "id": "demographic-albuquerque",
   "metadata": {},
   "source": [
    "## Gestion d'erreur"
   ]
  },
  {
   "cell_type": "code",
   "execution_count": 68,
   "id": "fossil-reggae",
   "metadata": {},
   "outputs": [],
   "source": [
    "reform_error = ReformeSocioFiscale(\n",
    "    base=2021,\n",
    "    plf=2021,\n",
    "    amendement={\n",
    "        \"prelevements_sociaux.contributions_sociales.csg.activite.imposable.taux\": 0.064,\n",
    "    },\n",
    "    output_variables=[\n",
    "        \"rfr\",\n",
    "        \"csg\",\n",
    "        \"csg_imposable_salaire\",\n",
    "        \"assiette_csg_abattue\",\n",
    "    ],\n",
    "    quantile_nb=10,\n",
    "    quantile_base_variable=[\"assiette_csg_abattue\"],\n",
    "    quantile_compare_variables=[\"rfr\", \"csg\", \"csg_imposable_salaire\"],\n",
    ")"
   ]
  },
  {
   "cell_type": "code",
   "execution_count": 69,
   "id": "objective-breach",
   "metadata": {},
   "outputs": [
    {
     "name": "stderr",
     "output_type": "stream",
     "text": [
      "[leximpact_socio-fisca-simu-etat DEBUG @ 15:10:15] reformParameters : base=2021 plf=None amendement={} output_variables=['rfr', 'csg', 'csg_imposable_salaire', 'assiette_csg_abattue'] quantile_nb=10 quantile_base_variable=['assiette_csg_abattue'] quantile_compare_variables=['rfr', 'csg', 'csg_imposable_salaire']\n",
      "[leximpact_socio-fisca-simu-etat DEBUG @ 15:10:15] No cache for 0ce83e01a5a9356946bc93838ab1493ac9657cc6f503b9624cb1f4512021, compute it.\n",
      "[leximpact_socio-fisca-simu-etat WARNING @ 15:10:17] We do not have a correction factor for 2018-rfr-factor_to_2021\n",
      "[leximpact_socio-fisca-simu-etat WARNING @ 15:10:21] We do not have a correction factor for 2018-csg-factor_to_2021\n",
      "[leximpact_socio-fisca-simu-etat ERROR @ 15:10:21] Variable csg_imposable_salaire has 336402 rows versus 170790 for previous variables. We can only compute quantiles on variables of same entity/lenght.\n",
      "[leximpact_socio-fisca-simu-etat DEBUG @ 15:10:21] Temps de traitement total pour la simulation 6.615441240370274 secondes. Annee ERFS 2018 Annee TBS 2021\n"
     ]
    }
   ],
   "source": [
    "# %%time\n",
    "resultat_error = compute_all_simulation(reform_error)"
   ]
  },
  {
   "cell_type": "code",
   "execution_count": 70,
   "id": "caroline-member",
   "metadata": {},
   "outputs": [],
   "source": [
    "tc.assertIsNone(resultat_error.result)\n",
    "tc.assertTrue(\n",
    "    \"We can only compute quantiles on variables of same entity\"\n",
    "    in resultat_error.errors[0]\n",
    ")"
   ]
  },
  {
   "cell_type": "markdown",
   "id": "outstanding-issue",
   "metadata": {},
   "source": [
    "## Quantiles"
   ]
  },
  {
   "cell_type": "code",
   "execution_count": 71,
   "id": "ranging-gender",
   "metadata": {},
   "outputs": [],
   "source": [
    "df_small = pd.DataFrame(\n",
    "    {\n",
    "        \"rfr\": [i for i in range(10)],\n",
    "        \"csg\": [10 - i for i in range(10)],\n",
    "        \"wprm\": [2 * i * np.random.random() for i in range(10)],\n",
    "    }\n",
    ")\n",
    "res_small = compute_quantile(\n",
    "    df_small, [\"rfr\"], [\"csg\"], nb_quantiles=9, do_rounddown=False\n",
    ")\n",
    "df_res_small = pd.DataFrame(res_small)\n",
    "tc.assertAlmostEqual((df_small.csg * df_small.wprm).sum(), df_res_small.csg.sum())\n",
    "tc.assertEqual(df_small.iloc[-1].rfr, df_res_small.iloc[-1].rfr)\n",
    "tc.assertAlmostEqual(df_res_small[\"count\"].sum(), df_small.wprm.sum())"
   ]
  },
  {
   "cell_type": "code",
   "execution_count": 72,
   "id": "olive-warehouse",
   "metadata": {},
   "outputs": [],
   "source": [
    "def get_random_data(nb_values: int, nb_zeros: int):\n",
    "    zeros = np.zeros((nb_zeros,))\n",
    "    # Using numpy.random.pareto() method\n",
    "    # pareto = np.random.pareto(1245.0, nb_values) * 1e7\n",
    "    pareto = np.random.pareto(1.0, nb_values) * 1e7\n",
    "    pareto = np.sort(pareto)\n",
    "    return np.concatenate((zeros, pareto), axis=0)"
   ]
  },
  {
   "cell_type": "code",
   "execution_count": 73,
   "id": "narrow-delhi",
   "metadata": {},
   "outputs": [],
   "source": [
    "# nb_riche = 10_000\n",
    "# nb_moyen = 40_000\n",
    "# nb_pauvre = 20_000\n",
    "nb_pauvre = 10\n",
    "nb_moyen = 40\n",
    "nb_riche = 10\n",
    "csg_abattue = get_random_data(nb_riche + nb_moyen, nb_pauvre)\n",
    "csg_non_abattue = get_random_data(nb_riche + nb_moyen, nb_pauvre)\n",
    "csg = get_random_data(nb_riche + nb_moyen, nb_pauvre)\n",
    "crds = get_random_data(nb_riche + nb_moyen, nb_pauvre)\n",
    "\n",
    "df = pd.DataFrame(\n",
    "    {\n",
    "        \"csg_abattue\": csg_abattue,\n",
    "        \"csg_non_abattue\": csg_non_abattue,\n",
    "        \"csg\": csg,\n",
    "        \"crds\": crds,\n",
    "    }\n",
    ")\n",
    "# df"
   ]
  },
  {
   "cell_type": "code",
   "execution_count": 74,
   "id": "immediate-indonesian",
   "metadata": {},
   "outputs": [
    {
     "data": {
      "text/html": [
       "<div>\n",
       "<style scoped>\n",
       "    .dataframe tbody tr th:only-of-type {\n",
       "        vertical-align: middle;\n",
       "    }\n",
       "\n",
       "    .dataframe tbody tr th {\n",
       "        vertical-align: top;\n",
       "    }\n",
       "\n",
       "    .dataframe thead th {\n",
       "        text-align: right;\n",
       "    }\n",
       "</style>\n",
       "<table border=\"1\" class=\"dataframe\">\n",
       "  <thead>\n",
       "    <tr style=\"text-align: right;\">\n",
       "      <th></th>\n",
       "      <th>fraction</th>\n",
       "      <th>count</th>\n",
       "      <th>csg_abattue+csg_non_abattue</th>\n",
       "      <th>csg</th>\n",
       "      <th>crds</th>\n",
       "      <th>csg+crds</th>\n",
       "    </tr>\n",
       "  </thead>\n",
       "  <tbody>\n",
       "    <tr>\n",
       "      <th>0</th>\n",
       "      <td>0.1000000</td>\n",
       "      <td>7</td>\n",
       "      <td>0.0000000</td>\n",
       "      <td>0.0000000</td>\n",
       "      <td>0.0000000</td>\n",
       "      <td>0.0000000</td>\n",
       "    </tr>\n",
       "    <tr>\n",
       "      <th>1</th>\n",
       "      <td>0.2000000</td>\n",
       "      <td>6</td>\n",
       "      <td>592,424.8786093</td>\n",
       "      <td>763,972.9022894</td>\n",
       "      <td>695,548.4316522</td>\n",
       "      <td>1,459,521.3339416</td>\n",
       "    </tr>\n",
       "    <tr>\n",
       "      <th>2</th>\n",
       "      <td>0.3000000</td>\n",
       "      <td>6</td>\n",
       "      <td>3,718,432.5876581</td>\n",
       "      <td>6,692,545.8442662</td>\n",
       "      <td>5,422,436.3924012</td>\n",
       "      <td>12,114,982.2366673</td>\n",
       "    </tr>\n",
       "    <tr>\n",
       "      <th>3</th>\n",
       "      <td>0.4000000</td>\n",
       "      <td>6</td>\n",
       "      <td>8,360,505.4223790</td>\n",
       "      <td>13,888,030.5301545</td>\n",
       "      <td>12,982,509.0998165</td>\n",
       "      <td>26,870,539.6299709</td>\n",
       "    </tr>\n",
       "    <tr>\n",
       "      <th>4</th>\n",
       "      <td>0.5000000</td>\n",
       "      <td>6</td>\n",
       "      <td>17,492,684.9211106</td>\n",
       "      <td>27,982,321.8478255</td>\n",
       "      <td>30,340,203.9611344</td>\n",
       "      <td>58,322,525.8089599</td>\n",
       "    </tr>\n",
       "    <tr>\n",
       "      <th>5</th>\n",
       "      <td>0.6000000</td>\n",
       "      <td>6</td>\n",
       "      <td>35,552,813.3466377</td>\n",
       "      <td>45,686,493.1679717</td>\n",
       "      <td>60,249,991.5914489</td>\n",
       "      <td>105,936,484.7594206</td>\n",
       "    </tr>\n",
       "    <tr>\n",
       "      <th>6</th>\n",
       "      <td>0.7000000</td>\n",
       "      <td>6</td>\n",
       "      <td>54,423,362.9878307</td>\n",
       "      <td>83,798,230.7753132</td>\n",
       "      <td>96,148,357.9943199</td>\n",
       "      <td>179,946,588.7696331</td>\n",
       "    </tr>\n",
       "    <tr>\n",
       "      <th>7</th>\n",
       "      <td>0.8000000</td>\n",
       "      <td>6</td>\n",
       "      <td>142,472,476.4702401</td>\n",
       "      <td>135,050,553.7443502</td>\n",
       "      <td>181,055,791.3674911</td>\n",
       "      <td>316,106,345.1118413</td>\n",
       "    </tr>\n",
       "    <tr>\n",
       "      <th>8</th>\n",
       "      <td>0.9000000</td>\n",
       "      <td>6</td>\n",
       "      <td>232,604,265.4940606</td>\n",
       "      <td>230,216,006.5246032</td>\n",
       "      <td>482,931,204.8537947</td>\n",
       "      <td>713,147,211.3783979</td>\n",
       "    </tr>\n",
       "    <tr>\n",
       "      <th>9</th>\n",
       "      <td>1.0000000</td>\n",
       "      <td>5</td>\n",
       "      <td>903,555,750.2961320</td>\n",
       "      <td>663,949,437.2126495</td>\n",
       "      <td>1,539,887,822.8945837</td>\n",
       "      <td>2,203,837,260.1072330</td>\n",
       "    </tr>\n",
       "  </tbody>\n",
       "</table>\n",
       "</div>"
      ],
      "text/plain": [
       "   fraction  count  csg_abattue+csg_non_abattue                 csg  \\\n",
       "0 0.1000000      7                    0.0000000           0.0000000   \n",
       "1 0.2000000      6              592,424.8786093     763,972.9022894   \n",
       "2 0.3000000      6            3,718,432.5876581   6,692,545.8442662   \n",
       "3 0.4000000      6            8,360,505.4223790  13,888,030.5301545   \n",
       "4 0.5000000      6           17,492,684.9211106  27,982,321.8478255   \n",
       "5 0.6000000      6           35,552,813.3466377  45,686,493.1679717   \n",
       "6 0.7000000      6           54,423,362.9878307  83,798,230.7753132   \n",
       "7 0.8000000      6          142,472,476.4702401 135,050,553.7443502   \n",
       "8 0.9000000      6          232,604,265.4940606 230,216,006.5246032   \n",
       "9 1.0000000      5          903,555,750.2961320 663,949,437.2126495   \n",
       "\n",
       "                   crds              csg+crds  \n",
       "0             0.0000000             0.0000000  \n",
       "1       695,548.4316522     1,459,521.3339416  \n",
       "2     5,422,436.3924012    12,114,982.2366673  \n",
       "3    12,982,509.0998165    26,870,539.6299709  \n",
       "4    30,340,203.9611344    58,322,525.8089599  \n",
       "5    60,249,991.5914489   105,936,484.7594206  \n",
       "6    96,148,357.9943199   179,946,588.7696331  \n",
       "7   181,055,791.3674911   316,106,345.1118413  \n",
       "8   482,931,204.8537947   713,147,211.3783979  \n",
       "9 1,539,887,822.8945837 2,203,837,260.1072330  "
      ]
     },
     "execution_count": 74,
     "metadata": {},
     "output_type": "execute_result"
    }
   ],
   "source": [
    "resultat_quantile_test = compute_quantile(\n",
    "    df, [\"csg_abattue\", \"csg_non_abattue\"], [\"csg\", \"crds\"], do_rounddown=False\n",
    ")\n",
    "df_quantile_test = pd.DataFrame(resultat_quantile_test)\n",
    "df_quantile_test"
   ]
  },
  {
   "cell_type": "code",
   "execution_count": 75,
   "id": "ceramic-account",
   "metadata": {},
   "outputs": [],
   "source": [
    "tc.assertAlmostEqual(df_quantile_test.csg.sum(), df.csg.sum(), places=5)\n",
    "tc.assertEqual(df_quantile_test[\"count\"].sum(), len(df))"
   ]
  },
  {
   "cell_type": "markdown",
   "id": "agreed-english",
   "metadata": {},
   "source": [
    "### Le premier quantile doit être à 0"
   ]
  },
  {
   "cell_type": "code",
   "execution_count": 76,
   "id": "crude-compilation",
   "metadata": {},
   "outputs": [],
   "source": [
    "resultat_quantile_test = compute_quantile(\n",
    "    df,\n",
    "    [\"csg_abattue\", \"csg_non_abattue\"],\n",
    "    [\"csg\", \"crds\"],\n",
    "    do_rounddown=False,\n",
    ")\n",
    "df_quantile_test = pd.DataFrame(resultat_quantile_test)\n",
    "tc.assertEqual(resultat_quantile_test[0][\"csg_abattue+csg_non_abattue\"], 0)"
   ]
  },
  {
   "cell_type": "markdown",
   "id": "civil-tamil",
   "metadata": {},
   "source": [
    "### Le premier quantile ne doit pas être à 0"
   ]
  },
  {
   "cell_type": "code",
   "execution_count": 77,
   "id": "alike-fraction",
   "metadata": {},
   "outputs": [],
   "source": [
    "resultat_quantile_test = compute_quantile(\n",
    "    df,\n",
    "    [\"csg_abattue\", \"csg_non_abattue\"],\n",
    "    [\"csg\", \"crds\"],\n",
    "    do_rounddown=False,\n",
    "    only_above_zero=True,\n",
    ")\n",
    "df_quantile_test = pd.DataFrame(resultat_quantile_test)\n",
    "tc.assertGreater(resultat_quantile_test[0][\"csg_abattue+csg_non_abattue\"], 0)"
   ]
  },
  {
   "cell_type": "code",
   "execution_count": 78,
   "id": "opened-nutrition",
   "metadata": {},
   "outputs": [
    {
     "data": {
      "text/plain": [
       "<AxesSubplot:xlabel='fraction'>"
      ]
     },
     "execution_count": 78,
     "metadata": {},
     "output_type": "execute_result"
    },
    {
     "data": {
      "image/png": "[encoded data removed]",
      "text/plain": [
       "<Figure size 1440x576 with 1 Axes>"
      ]
     },
     "metadata": {},
     "output_type": "display_data"
    }
   ],
   "source": [
    "df_quantile_test.plot.bar(x=\"fraction\", y=[\"csg\", \"crds\"], rot=90, log=True)"
   ]
  },
  {
   "cell_type": "code",
   "execution_count": 79,
   "id": "developed-reaction",
   "metadata": {},
   "outputs": [
    {
     "name": "stderr",
     "output_type": "stream",
     "text": [
      "[leximpact_socio-fisca-simu-etat INFO @ 15:10:22] Temps d'exécution du Notebook, y compris les imports : 62.06860660016537 s\n"
     ]
    }
   ],
   "source": [
    "logger.info(\n",
    "    f\"Temps d'exécution du Notebook, y compris les imports : {timeit.default_timer() - debut_global} s\"\n",
    ")"
   ]
  },
  {
   "cell_type": "markdown",
   "id": "awful-google",
   "metadata": {},
   "source": [
    "- Temps d'exécution du Notebook, y compris les imports sur PC Benoît, sans MemoryConfig : 60 secondes\n",
    "- Temps d'exécution du Notebook, y compris les imports sur PC Benoît, avec MemoryConfig : 67 secondes \n",
    "- Temps d'exécution du Notebook, y compris les imports sur PC Benoît, sans MemoryConfig si on ne réutilise plus create_simulation s'il existe déjà, on le refait à chaque fois. : 93 secondes"
   ]
  },
  {
   "cell_type": "code",
   "execution_count": 80,
   "id": "becoming-ballot",
   "metadata": {},
   "outputs": [],
   "source": [
    "#!cd .. && make lib"
   ]
  }
 ],
 "metadata": {
  "kernelspec": {
   "display_name": "leximpact-socio-fiscal-simu-etat-kernel",
   "language": "python",
   "name": "leximpact-socio-fiscal-simu-etat-kernel"
  },
  "language_info": {
   "codemirror_mode": {
    "name": "ipython",
    "version": 3
   },
   "file_extension": ".py",
   "mimetype": "text/x-python",
   "name": "python",
   "nbconvert_exporter": "python",
   "pygments_lexer": "ipython3",
   "version": "3.8.10"
  }
 },
 "nbformat": 4,
 "nbformat_minor": 5
}
