{
 "cells": [
  {
   "cell_type": "markdown",
   "metadata": {},
   "source": [
    "# French State Budget Simulation API"
   ]
  },
  {
   "cell_type": "markdown",
   "metadata": {},
   "source": [
    "\n",
    "_Unofficial HTTP API for OpenFisca_\n",
    "\n",
    "Used by [LexImpact](https://leximpact.an.fr/), a simulator of the French tax-benefit system.\n",
    "\n",
    "Make use of [OpenFisca](https://openfisca.org/en/) a rules as code tax benefit system.\n",
    "\n",
    "L'API de calcul de CSG fait appel á différents éléments :\n",
    "- OpenFisca pour réaliser le calcul\n",
    "- Le projet de reforme du PLF ou PLFSS que l'on recupere de [Open-Fisca france reforme](https://git.leximpact.dev/openfisca/openfisca-france-reforms)\n",
    "- La reforme de l'utilisateur qu'il saisie sur le site web\n",
    "- Le fichier INSEE ERFS-FPR transformé, qui vient de leximpact-prepare-data.\n",
    "- Les agrégats de divers sources qui sont consolidées dans aggregates_build, qui sont utilisés pour calculer les facteurs de corrections á appliquer aux différentes simulations.\n",
    "- Une brique de sécurité pour vérifier que l'appel provient bien d'une personne autorisée\n",
    "- Un cache qui mémorise dynamiquement le résultat des calculs pour ne pas les refaire inutilement."
   ]
  },
  {
   "cell_type": "markdown",
   "metadata": {},
   "source": [
    "## Install"
   ]
  },
  {
   "cell_type": "markdown",
   "metadata": {},
   "source": [
    "`pip install leximpact_socio_fisca_simu_etat`"
   ]
  },
  {
   "cell_type": "markdown",
   "metadata": {},
   "source": [
    "## How to use"
   ]
  },
  {
   "cell_type": "markdown",
   "metadata": {},
   "source": [
    "- Import the package\n",
    "- Define your reform\n",
    "- Compute the result of your reform"
   ]
  },
  {
   "cell_type": "code",
   "execution_count": 1,
   "metadata": {},
   "outputs": [
    {
     "name": "stderr",
     "output_type": "stream",
     "text": [
      "[leximpact_socio-fisca-simu-etat DEBUG @ 15:26:20] Connecting to Redis None:6379\n",
      "[leximpact_socio-fisca-simu-etat WARNING @ 15:26:20] Unable to connect to Redis cache : Error 111 connecting to None:6379. Connection refused.\n",
      "[leximpact_socio-fisca-simu-etat DEBUG @ 15:26:23] reformParameters : base=2021 plf=None amendement={} output_variables=['csg_imposable_salaire'] quantile_nb=0 quantile_base_variable=None quantile_compare_variables=None\n",
      "[leximpact_socio-fisca-simu-etat WARNING @ 15:26:23] Cache().get(key) : No Redis connection.\n",
      "[leximpact_socio-fisca-simu-etat WARNING @ 15:26:23] Redis not found : we do not use cache to speed up calculation\n",
      "[leximpact_socio-fisca-simu-etat WARNING @ 15:26:26] Cache().get(key) : No Redis connection.\n",
      "[leximpact_socio-fisca-simu-etat DEBUG @ 15:26:26] reformParameters : base=2021 plf=None amendement={'prelevements_sociaux.contributions_sociales.csg.activite.imposable.taux': 0.0} output_variables=['csg_imposable_salaire'] quantile_nb=0 quantile_base_variable=None quantile_compare_variables=None\n",
      "[leximpact_socio-fisca-simu-etat WARNING @ 15:26:26] Cache().get(key) : No Redis connection.\n",
      "[leximpact_socio-fisca-simu-etat WARNING @ 15:26:26] Redis not found : we do not use cache to speed up calculation\n",
      "[leximpact_socio-fisca-simu-etat WARNING @ 15:26:30] Cache().get(key) : No Redis connection.\n",
      "[leximpact_socio-fisca-simu-etat DEBUG @ 15:26:30] Temps de traitement total pour la simulation 6.833802560344338 secondes. Annee ERFS 2018 Annee TBS 2021\n"
     ]
    }
   ],
   "source": [
    "from leximpact_socio_fisca_simu_etat.csg_simu import (\n",
    "    ReformeSocioFiscale,\n",
    "    compute_all_simulation,\n",
    ")\n",
    "\n",
    "reform = ReformeSocioFiscale(\n",
    "    base=2021,\n",
    "    amendement={\n",
    "        \"prelevements_sociaux.contributions_sociales.csg.activite.imposable.taux\": 0.0,\n",
    "    },\n",
    "    output_variables=[\"csg_imposable_salaire\"],\n",
    "    quantile_nb=0,\n",
    ")\n",
    "resultat = compute_all_simulation(reform)"
   ]
  },
  {
   "cell_type": "code",
   "execution_count": 3,
   "metadata": {},
   "outputs": [
    {
     "name": "stdout",
     "output_type": "stream",
     "text": [
      "Montant total de la csg : 19,836,886,832.353996 €\n"
     ]
    }
   ],
   "source": [
    "print(\n",
    "    f\"Montant total de la csg : {resultat.result['amendement'].state_budget['csg_imposable_salaire']:,} €\"\n",
    ")"
   ]
  },
  {
   "cell_type": "markdown",
   "metadata": {},
   "source": [
    "# How to develop\n",
    "\n",
    "Please see contributing."
   ]
  }
 ],
 "metadata": {
  "kernelspec": {
   "display_name": "leximpact-socio-fiscal-simu-etat-kernel",
   "language": "python",
   "name": "leximpact-socio-fiscal-simu-etat-kernel"
  },
  "language_info": {
   "codemirror_mode": {
    "name": "ipython",
    "version": 3
   },
   "file_extension": ".py",
   "mimetype": "text/x-python",
   "name": "python",
   "nbconvert_exporter": "python",
   "pygments_lexer": "ipython3",
   "version": "3.9.5"
  }
 },
 "nbformat": 4,
 "nbformat_minor": 4
}
