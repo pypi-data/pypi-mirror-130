{
 "cells": [
  {
   "cell_type": "markdown",
   "metadata": {},
   "source": [
    "# LexImpact Simu Etat"
   ]
  },
  {
   "cell_type": "markdown",
   "metadata": {},
   "source": [
    "## Pré-requis\n",
    "\n",
    "Sur Ubuntu il faut installer python3.8-venv avant Poetry :\n",
    "```\n",
    "sudo apt-get install python3.8-venv\n",
    "```\n",
    "\n",
    "\n",
    "### Poetry"
   ]
  },
  {
   "cell_type": "markdown",
   "metadata": {},
   "source": [
    "\n",
    "```bash\n",
    "curl -sSL https://raw.githubusercontent.com/python-poetry/poetry/master/install-poetry.py | python3 -\n",
    "```\n",
    "\n",
    "Ajouter la commande suivante dans le .bashrc :\n",
    "```bash\n",
    "export PATH=\"$HOME/.local/bin:$PATH\"\n",
    "```\n",
    "\n",
    "## Installation des dépendances\n",
    "\n",
    "```bash\n",
    "poetry install\n",
    "```\n"
   ]
  },
  {
   "cell_type": "markdown",
   "metadata": {},
   "source": [
    "### Specifier la version de Python à Poetry"
   ]
  },
  {
   "cell_type": "markdown",
   "metadata": {},
   "source": [
    "`poetry env use /usr/bin/python3.8`"
   ]
  },
  {
   "cell_type": "markdown",
   "metadata": {},
   "source": [
    "# How to develop"
   ]
  },
  {
   "cell_type": "markdown",
   "metadata": {},
   "source": [
    "## Create symlink"
   ]
  },
  {
   "cell_type": "code",
   "execution_count": null,
   "metadata": {},
   "outputs": [
    {
     "name": "stdout",
     "output_type": "stream",
     "text": [
      "ln: failed to create symbolic link './leximpact_prepare_data': File exists\n",
      "ln: failed to create symbolic link './leximpact_prepare_data': File exists\n"
     ]
    }
   ],
   "source": [
    "!ln -s ../leximpact-socio-fiscal-simu-etat"
   ]
  },
  {
   "cell_type": "markdown",
   "metadata": {},
   "source": [
    "## Update package to last version\n",
    "\n",
    "```bash\n",
    "poetry update\n",
    "```\n",
    "\n",
    "## Jupyter\n",
    "\n",
    "First time, and after adding a librairy :"
   ]
  },
  {
   "cell_type": "code",
   "execution_count": null,
   "metadata": {},
   "outputs": [
    {
     "name": "stdout",
     "output_type": "stream",
     "text": [
      "Installed kernelspec leximpact-socio-fiscal-simu-etat-kernel in /home/ben/.local/share/jupyter/kernels/leximpact-socio-fiscal-simu-etat-kernel\n"
     ]
    }
   ],
   "source": [
    "!poetry run python -m ipykernel install --name leximpact-socio-fiscal-simu-etat-kernel --user"
   ]
  },
  {
   "cell_type": "markdown",
   "metadata": {},
   "source": [
    "### Launch jupyter\n",
    "\n",
    "```bash\n",
    "poetry run jupyter lab\n",
    "\n",
    "```\n",
    "\n",
    "### Jupyter Plotly\n",
    "\n",
    "Pour voir les graph Plotly\n",
    "\n",
    "~~poetry run jupyter labextension install jupyterlab-plotly~~\n",
    "On ne l'utilise pas (encore ?)"
   ]
  },
  {
   "cell_type": "markdown",
   "metadata": {},
   "source": [
    "## Check style\n",
    "```bash\n",
    "poetry run pre-commit  run --all-files\n",
    "```"
   ]
  },
  {
   "cell_type": "markdown",
   "metadata": {},
   "source": [
    "\n",
    "## NBDev\n",
    "\n",
    "```bash\n",
    "make precommit\n",
    "```\n"
   ]
  },
  {
   "cell_type": "code",
   "execution_count": null,
   "metadata": {},
   "outputs": [
    {
     "name": "stdout",
     "output_type": "stream",
     "text": [
      "poetry run nbdev_build_lib\n",
      "#find ./notebooks/ -name '*.ipynb' -exec poetry run nbdev_build_lib --fname \\{\\} \\;\n",
      "Converted config.ipynb.\n",
      "Converted contributing.ipynb.\n",
      "Converted index.ipynb.\n",
      "Converted logger.ipynb.\n"
     ]
    }
   ],
   "source": [
    "# hide\n",
    "# Build lib from notebook\n",
    "#!poetry run nbdev_build_lib\n",
    "!cd .. && make lib"
   ]
  },
  {
   "cell_type": "code",
   "execution_count": null,
   "metadata": {},
   "outputs": [
    {
     "name": "stdout",
     "output_type": "stream",
     "text": [
      "poetry run nbdev_build_lib\n",
      "#find ./notebooks/ -name '*.ipynb' -exec poetry run nbdev_build_lib --fname \\{\\} \\;\n",
      "Converted config.ipynb.\n",
      "Converted contributing.ipynb.\n",
      "Converted index.ipynb.\n",
      "Converted logger.ipynb.\n",
      "poetry run nbdev_build_docs\n",
      "touch docs\n",
      "converting: /media/data/dev/src/LEXIMPACT/leximpact-prepare-data/notebooks/logger.ipynb\n",
      "converting: /media/data/dev/src/LEXIMPACT/leximpact-prepare-data/notebooks/index.ipynb\n",
      "converting: /media/data/dev/src/LEXIMPACT/leximpact-prepare-data/notebooks/contributing.ipynb\n",
      "converting: /media/data/dev/src/LEXIMPACT/leximpact-prepare-data/notebooks/config.ipynb\n"
     ]
    }
   ],
   "source": [
    "# Build docs from notebookµ\n",
    "#!poetry run nbdev_build_docs\n",
    "!cd .. && make docs"
   ]
  },
  {
   "cell_type": "code",
   "execution_count": null,
   "metadata": {},
   "outputs": [
    {
     "name": "stdout",
     "output_type": "stream",
     "text": [
      "isort (python)...........................................................\u001b[41mFailed\u001b[m\n",
      "\u001b[2m- hook id: isort\u001b[m\n",
      "\u001b[2m- files were modified by this hook\u001b[m\n",
      "\n",
      "Fixing /media/data-nvme/dev/src/LEXIMPACT/leximpact-socio-fiscal-simu-etat/leximpact_socio_fisca_simu_etat/csg_analyse.py\n",
      "Fixing /media/data-nvme/dev/src/LEXIMPACT/leximpact-socio-fiscal-simu-etat/leximpact_socio_fisca_simu_etat/csg_simu.py\n",
      "\n",
      "isort (cython).......................................(no files to check)\u001b[46;30mSkipped\u001b[m\n",
      "isort (pyi)..........................................(no files to check)\u001b[46;30mSkipped\u001b[m\n",
      "black....................................................................\u001b[41mFailed\u001b[m\n",
      "\u001b[2m- hook id: black\u001b[m\n",
      "\u001b[2m- files were modified by this hook\u001b[m\n",
      "\n",
      "\u001b[1mreformatted leximpact_socio_fisca_simu_etat/config.py\u001b[0m\n",
      "\u001b[1mreformatted leximpact_socio_fisca_simu_etat/logger.py\u001b[0m\n",
      "\u001b[1mreformatted leximpact_socio_fisca_simu_etat/_nbdev.py\u001b[0m\n",
      "\u001b[1mreformatted leximpact_socio_fisca_simu_etat/copule.py\u001b[0m\n",
      "\u001b[1mreformatted leximpact_socio_fisca_simu_etat/cache.py\u001b[0m\n",
      "\u001b[1mreformatted leximpact_socio_fisca_simu_etat/schema.py\u001b[0m\n",
      "\u001b[1mreformatted leximpact_socio_fisca_simu_etat/csg_analyse.py\u001b[0m\n",
      "\u001b[1mreformatted leximpact_socio_fisca_simu_etat/csg_preparation.py\u001b[0m\n",
      "\u001b[1mreformatted leximpact_socio_fisca_simu_etat/csg_simu.py\u001b[0m\n",
      "\u001b[1mAll done! ✨ 🍰 ✨\u001b[0m\n",
      "\u001b[1m9 files reformatted\u001b[0m, 18 files left unchanged.\u001b[0m\n",
      "\n",
      "flake8...................................................................\u001b[42mPassed\u001b[m\n",
      "nbqa-black...............................................................\u001b[42mPassed\u001b[m\n",
      "nbqa-pyupgrade...........................................................\u001b[42mPassed\u001b[m\n",
      "nbqa-isort...............................................................\u001b[42mPassed\u001b[m\n"
     ]
    }
   ],
   "source": [
    "# hide\n",
    "# Re-run pre-commit\n",
    "!poetry run pre-commit  run --all-files"
   ]
  },
  {
   "cell_type": "code",
   "execution_count": null,
   "metadata": {},
   "outputs": [
    {
     "name": "stdout",
     "output_type": "stream",
     "text": [
      "isort (python)...........................................................\u001b[42mPassed\u001b[m\n",
      "isort (cython).......................................(no files to check)\u001b[46;30mSkipped\u001b[m\n",
      "isort (pyi)..........................................(no files to check)\u001b[46;30mSkipped\u001b[m\n",
      "black....................................................................\u001b[42mPassed\u001b[m\n",
      "flake8...................................................................\u001b[42mPassed\u001b[m\n",
      "nbqa-black...............................................................\u001b[41mFailed\u001b[m\n",
      "\u001b[2m- hook id: nbqa-black\u001b[m\n",
      "\u001b[2m- exit code: 1\u001b[m\n",
      "\n",
      "\u001b[1mError parsing notebooks/csg_55_plot_distributions.ipynb: TokenError('EOF in multi-line statement', (6, 0))\n",
      "Please report a bug at https://github.com/nbQA-dev/nbQA/issues \u001b[0m\n",
      "\n",
      "nbqa-pyupgrade...........................................................\u001b[41mFailed\u001b[m\n",
      "\u001b[2m- hook id: nbqa-pyupgrade\u001b[m\n",
      "\u001b[2m- exit code: 1\u001b[m\n",
      "\n",
      "\u001b[1mError parsing notebooks/csg_55_plot_distributions.ipynb: TokenError('EOF in multi-line statement', (6, 0))\n",
      "Please report a bug at https://github.com/nbQA-dev/nbQA/issues \u001b[0m\n",
      "\n",
      "nbqa-isort...............................................................\u001b[41mFailed\u001b[m\n",
      "\u001b[2m- hook id: nbqa-isort\u001b[m\n",
      "\u001b[2m- exit code: 1\u001b[m\n",
      "\n",
      "\u001b[1mError parsing notebooks/csg_55_plot_distributions.ipynb: TokenError('EOF in multi-line statement', (5, 0))\n",
      "Please report a bug at https://github.com/nbQA-dev/nbQA/issues \u001b[0m\n",
      "\n"
     ]
    }
   ],
   "source": [
    "# hide\n",
    "# Re-run pre-commit\n",
    "!poetry run pre-commit  run --all-files"
   ]
  },
  {
   "cell_type": "markdown",
   "metadata": {},
   "source": [
    "## Install"
   ]
  },
  {
   "cell_type": "markdown",
   "metadata": {},
   "source": [
    "`pip install leximpact_socio_fisca_simu_etat`"
   ]
  },
  {
   "cell_type": "markdown",
   "metadata": {},
   "source": [
    "## How to use"
   ]
  },
  {
   "cell_type": "markdown",
   "metadata": {},
   "source": [
    "Fill me in please! Don't forget code examples:"
   ]
  },
  {
   "cell_type": "code",
   "execution_count": null,
   "metadata": {},
   "outputs": [
    {
     "name": "stderr",
     "output_type": "stream",
     "text": [
      "[leximpact_socio-fisca-simu-etat DEBUG @ 20:10:41] reform.amendement : None\n",
      "[leximpact_socio-fisca-simu-etat DEBUG @ 20:10:41] No cache for 5078a86c7201f132a44472774283e4a774e85b9bd94c88c9e756d3cb2021, compute it.\n",
      "[leximpact_socio-fisca-simu-etat DEBUG @ 20:10:45] OpenFisca a retourné des individus\n",
      "[leximpact_socio-fisca-simu-etat DEBUG @ 20:10:45] reform.amendement : {'prelevements_sociaux.contributions_sociales.csg.activite.imposable.taux': 0.068}\n",
      "[leximpact_socio-fisca-simu-etat DEBUG @ 20:10:45] No cache for 3580f21542881d1996a7b3a16a759d8318e58bdc44ac26ab6cfbf8662021, compute it.\n",
      "[leximpact_socio-fisca-simu-etat DEBUG @ 20:10:49] OpenFisca a retourné des individus\n",
      "[leximpact_socio-fisca-simu-etat DEBUG @ 20:10:49] Temps de traitement total pour la simulation 7.873102587996982 secondes\n"
     ]
    }
   ],
   "source": [
    "from leximpact_socio_fisca_simu_etat.csg_simu import (\n",
    "    ReformeSocioFiscale,\n",
    "    compute_all_simulation,\n",
    ")\n",
    "\n",
    "reform = ReformeSocioFiscale(\n",
    "    base=2021,\n",
    "    amendement={\n",
    "        \"prelevements_sociaux.contributions_sociales.csg.activite.imposable.taux\": 0.068,\n",
    "    },\n",
    "    output_variables=[\"csg\"],\n",
    "    quantile_nb=4,\n",
    "    quantile_compare_variables=[\"csg\"],\n",
    ")\n",
    "resultat = compute_all_simulation(reform, annee_de_calcul=\"2021\")"
   ]
  },
  {
   "cell_type": "code",
   "execution_count": null,
   "metadata": {},
   "outputs": [
    {
     "name": "stdout",
     "output_type": "stream",
     "text": [
      "Montant total de la csg : -147,054,542,277.62744 €\n"
     ]
    }
   ],
   "source": [
    "print(\n",
    "    f\"Montant total de la csg : {resultat.result['amendement'].state_budget['csg']:,} €\"\n",
    ")"
   ]
  },
  {
   "cell_type": "markdown",
   "metadata": {},
   "source": [
    "# Publier les nouvelles versions vers PyPi et Conda\n",
    "\n",
    "## Préparer votre environnement"
   ]
  },
  {
   "cell_type": "markdown",
   "metadata": {},
   "source": [
    "Il faut créer un fichier dans votre _home_ pour indiquer le mot de passe:\n",
    "```\n",
    "> nano ~/.pypirc\n",
    "[pypi]\n",
    "username = x\n",
    "password = x\n",
    "```\n",
    "\n",
    "Installer conda (https://docs.conda.io/projects/conda/en/latest/user-guide/install/linux.html) et conda-build.\n",
    "```\n",
    "sh ~/Downloads/Miniconda3-py38_4.10.3-Linux-x86_64.sh\n",
    "source /home/ben/.bashrc\n",
    "conda install conda-build\n",
    "```\n",
    "\n",
    "## Lancer la publication:\n",
    "```\n",
    "make release\n",
    "```\n",
    "\n",
    "⚠️: **Pour l'instant la publication conda ne semble pas fonctionner**, on se contenter de PyPi, après avoir fait le bump de version dans settings.ini:\n",
    "```\n",
    "make pypi\n",
    "```"
   ]
  },
  {
   "cell_type": "code",
   "execution_count": null,
   "metadata": {},
   "outputs": [],
   "source": []
  }
 ],
 "metadata": {
  "kernelspec": {
   "display_name": "leximpact-socio-fiscal-simu-etat-kernel",
   "language": "python",
   "name": "leximpact-socio-fiscal-simu-etat-kernel"
  },
  "language_info": {
   "codemirror_mode": {
    "name": "ipython",
    "version": 3
   },
   "file_extension": ".py",
   "mimetype": "text/x-python",
   "name": "python",
   "nbconvert_exporter": "python",
   "pygments_lexer": "ipython3",
   "version": "3.9.5"
  }
 },
 "nbformat": 4,
 "nbformat_minor": 4
}
