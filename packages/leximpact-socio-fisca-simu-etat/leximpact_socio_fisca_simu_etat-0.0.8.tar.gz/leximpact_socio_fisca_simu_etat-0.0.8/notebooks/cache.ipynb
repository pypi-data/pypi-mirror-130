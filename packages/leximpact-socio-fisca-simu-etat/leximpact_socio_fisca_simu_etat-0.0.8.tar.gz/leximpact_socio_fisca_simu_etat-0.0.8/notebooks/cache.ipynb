{
 "cells": [
  {
   "cell_type": "code",
   "execution_count": 1,
   "id": "contrary-vitamin",
   "metadata": {},
   "outputs": [],
   "source": [
    "# default_exp cache"
   ]
  },
  {
   "cell_type": "markdown",
   "id": "bottom-butter",
   "metadata": {},
   "source": [
    "# Cache\n",
    "\n",
    "Le but du cache est de mémoriser des résultats pour éviter de les recalculer.\n",
    "\n",
    "Nous utilisons http://redis.com\n",
    "\n",
    "Pour l'utiliser en local :"
   ]
  },
  {
   "cell_type": "code",
   "execution_count": 2,
   "id": "ordered-capture",
   "metadata": {},
   "outputs": [],
   "source": [
    "#!docker run -d -p 6379:6379 --name redis redis:alpine"
   ]
  },
  {
   "cell_type": "markdown",
   "id": "massive-parker",
   "metadata": {},
   "source": [
    "Pour l'arrêter :\n",
    " `docker stop redis`\n",
    " "
   ]
  },
  {
   "cell_type": "code",
   "execution_count": 3,
   "id": "applicable-lotus",
   "metadata": {},
   "outputs": [],
   "source": [
    "#!docker stop redis"
   ]
  },
  {
   "cell_type": "markdown",
   "id": "neither-closing",
   "metadata": {},
   "source": [
    "Pour le redémarrer :"
   ]
  },
  {
   "cell_type": "code",
   "execution_count": 4,
   "id": "hungarian-arlington",
   "metadata": {},
   "outputs": [
    {
     "name": "stdout",
     "output_type": "stream",
     "text": [
      "/bin/bash: docker: command not found\n"
     ]
    }
   ],
   "source": [
    "!docker start redis"
   ]
  },
  {
   "cell_type": "code",
   "execution_count": 5,
   "id": "celtic-cattle",
   "metadata": {},
   "outputs": [],
   "source": [
    "# export\n",
    "\n",
    "import unittest\n",
    "\n",
    "import redis\n",
    "from redis import exceptions as redisExceptions\n",
    "\n",
    "from leximpact_socio_fisca_simu_etat.config import Configuration\n",
    "from leximpact_socio_fisca_simu_etat.logger import logger\n",
    "\n",
    "tc = unittest.TestCase()"
   ]
  },
  {
   "cell_type": "code",
   "execution_count": 6,
   "id": "stylish-knight",
   "metadata": {},
   "outputs": [],
   "source": [
    "# export\n",
    "\n",
    "\n",
    "class Cache:\n",
    "\n",
    "    cache = None\n",
    "    abuse_script = None\n",
    "    # LUA script for API throttling\n",
    "    # Thanks to https://github.com/long2ice/fastapi-limiter/blob/master/fastapi_limiter/__init__.py\n",
    "    lua_abuse_script = \"\"\"\n",
    "        local key = KEYS[1]\n",
    "        local limit = tonumber(ARGV[1])\n",
    "        local expire_time = ARGV[2]\n",
    "        local current = tonumber(redis.call('get', key) or \"0\")\n",
    "        if current > 0 then\n",
    "            if current + 1 > limit then\n",
    "                return redis.call(\"PTTL\",key)\n",
    "            else\n",
    "                redis.call(\"INCR\", key)\n",
    "                return 0\n",
    "            end\n",
    "        else\n",
    "            redis.call(\"SET\", key, 1,\"px\",expire_time)\n",
    "            return 0\n",
    "        end\"\"\"\n",
    "\n",
    "    def __init__(self):\n",
    "        config = config = Configuration()\n",
    "        redis_host = config.get(\"REDIS_HOST\", fail_on_missing=False)\n",
    "        redis_port = config.get(\"REDIS_PORT\", fail_on_missing=False, default=6379)\n",
    "        redis_password = config.get(\"REDIS_PASSWORD\", fail_on_missing=False)\n",
    "        try:\n",
    "            logger.debug(f\"Connecting to Redis {redis_host}:{redis_port}\")\n",
    "            self.cache = redis.Redis(\n",
    "                host=redis_host, password=redis_password, port=redis_port\n",
    "            )\n",
    "            if self.cache:\n",
    "                self.cache.set(\"init\", \"OK\")\n",
    "                self.abuse_script = self.cache.register_script(self.lua_abuse_script)\n",
    "        except redisExceptions.ConnectionError as e:\n",
    "            self.cache = None\n",
    "            logger.warning(f\"Unable to connect to Redis cache : {str(e)}\")\n",
    "\n",
    "    def is_available(self):\n",
    "        try:\n",
    "            if self.get(\"init\") == b\"OK\":\n",
    "                return True\n",
    "            else:\n",
    "                return False\n",
    "        except redisExceptions.ConnectionError as e:\n",
    "            self.cache = None\n",
    "            logger.warning(f\"Unable to connect to Redis cache : {str(e)}\")\n",
    "            return False\n",
    "\n",
    "    def clear_cache(self):\n",
    "        # Flush the Redis DB\n",
    "        if self.cache is None:\n",
    "            logger.warning(\"Cache().clear_cache() : No Redis connection.\")\n",
    "            return False\n",
    "        status = self.cache.flushdb()\n",
    "        if status:\n",
    "            # Set init as it can be use by API to now if cache works\n",
    "            self.cache.set(\"init\", \"OK\")\n",
    "            logger.debug(\"Redis cache cleared successfully.\")\n",
    "            return True\n",
    "        else:\n",
    "            logger.warning(\"Unable to clear Redis cache.\")\n",
    "            return False\n",
    "\n",
    "    def set(self, key, value):\n",
    "        if self.cache is None:\n",
    "            logger.warning(\"Cache().set(key, value) : No Redis connection.\")\n",
    "            return False\n",
    "        try:\n",
    "            return self.cache.set(key, value)\n",
    "        except redisExceptions.ConnectionError as e:\n",
    "            logger.warning(f\"Unable to use Redis cache : {str(e)}\")\n",
    "            return False\n",
    "\n",
    "    def get(self, key):\n",
    "        if self.cache is None:\n",
    "            # logger.warning(\"Cache().get(key) : No Redis connection.\")\n",
    "            return None\n",
    "        try:\n",
    "            return self.cache.get(key)\n",
    "        except redisExceptions.ConnectionError as e:\n",
    "            logger.warning(f\"Unable to use Redis cache : {str(e)}\")\n",
    "            return None\n",
    "\n",
    "    def is_abusing(self, identifier, nb_call_per_minute=5):\n",
    "        if self.abuse_script is None:\n",
    "            logger.warning(\"Unable to use Redis cache to check for abuse !\")\n",
    "            return False\n",
    "        pexpire = self.abuse_script(\n",
    "            keys=[identifier],\n",
    "            args=[str(nb_call_per_minute), str(60 * 1000)],\n",
    "            client=self.cache,\n",
    "        )\n",
    "        # The script return the time to wait before beeing allowed to call again\n",
    "        # 0 if allowed\n",
    "        if pexpire == 0:\n",
    "            return False\n",
    "        return True"
   ]
  },
  {
   "cell_type": "markdown",
   "id": "demonstrated-recommendation",
   "metadata": {},
   "source": [
    "Insertion d'une valeur dans le cache"
   ]
  },
  {
   "cell_type": "code",
   "execution_count": 7,
   "id": "dying-membership",
   "metadata": {},
   "outputs": [
    {
     "name": "stderr",
     "output_type": "stream",
     "text": [
      "[leximpact_socio-fisca-simu-etat DEBUG @ 08:21:47] Connecting to Redis 10.0.0.131:6377\n"
     ]
    },
    {
     "name": "stdout",
     "output_type": "stream",
     "text": [
      "b'OK'\n"
     ]
    }
   ],
   "source": [
    "cache = Cache()\n",
    "cache.set(\"clef\", \"valeur\")\n",
    "print(cache.get(\"init\"))"
   ]
  },
  {
   "cell_type": "code",
   "execution_count": 8,
   "id": "viral-ideal",
   "metadata": {},
   "outputs": [
    {
     "name": "stdout",
     "output_type": "stream",
     "text": [
      "OUI\n"
     ]
    }
   ],
   "source": [
    "if cache.get(\"init\") == b\"OK\":\n",
    "    print(\"OUI\")\n",
    "else:\n",
    "    print(\"NON\")"
   ]
  },
  {
   "cell_type": "markdown",
   "id": "connected-genre",
   "metadata": {},
   "source": [
    "Récupération d'une valeur"
   ]
  },
  {
   "cell_type": "code",
   "execution_count": 9,
   "id": "abandoned-separate",
   "metadata": {},
   "outputs": [
    {
     "name": "stdout",
     "output_type": "stream",
     "text": [
      "b'valeur'\n"
     ]
    }
   ],
   "source": [
    "print(cache.get(\"clef\"))"
   ]
  },
  {
   "cell_type": "code",
   "execution_count": 10,
   "id": "three-delicious",
   "metadata": {},
   "outputs": [],
   "source": [
    "tc.assertEqual(cache.get(\"clef\"), b\"valeur\")"
   ]
  },
  {
   "cell_type": "markdown",
   "id": "level-morning",
   "metadata": {},
   "source": [
    "Effacement **complet** de **tout** le cache, pour **tous** les utilisateurs."
   ]
  },
  {
   "cell_type": "code",
   "execution_count": 11,
   "id": "conscious-greeting",
   "metadata": {},
   "outputs": [
    {
     "name": "stderr",
     "output_type": "stream",
     "text": [
      "[leximpact_socio-fisca-simu-etat DEBUG @ 08:21:47] Redis cache cleared successfully.\n"
     ]
    },
    {
     "data": {
      "text/plain": [
       "True"
      ]
     },
     "execution_count": 11,
     "metadata": {},
     "output_type": "execute_result"
    }
   ],
   "source": [
    "cache.clear_cache()"
   ]
  },
  {
   "cell_type": "code",
   "execution_count": 12,
   "id": "imposed-duncan",
   "metadata": {},
   "outputs": [],
   "source": [
    "assert cache.get(\"clef\") == None"
   ]
  },
  {
   "cell_type": "code",
   "execution_count": 13,
   "id": "handled-headline",
   "metadata": {},
   "outputs": [
    {
     "name": "stdout",
     "output_type": "stream",
     "text": [
      "N'existe pas\n"
     ]
    }
   ],
   "source": [
    "res = cache.get(\"5078a86c7201f132a44472774283e4a774e85b9bd94c88c9e756d3cb2021\")\n",
    "if res is None:\n",
    "    print(\"N'existe pas\")\n",
    "else:\n",
    "    print(res)"
   ]
  },
  {
   "cell_type": "markdown",
   "id": "vital-gabriel",
   "metadata": {},
   "source": [
    "### Rate limiting"
   ]
  },
  {
   "cell_type": "code",
   "execution_count": 14,
   "id": "talented-storage",
   "metadata": {},
   "outputs": [
    {
     "name": "stdout",
     "output_type": "stream",
     "text": [
      "60000\n",
      "b'5'\n",
      "Abusing after 5 call\n"
     ]
    }
   ],
   "source": [
    "i = 0\n",
    "key = \"user_key2\"\n",
    "while (not cache.is_abusing(key)) and i < 10:\n",
    "    # print(cache.get(key))\n",
    "    i += 1\n",
    "print(cache.cache.pttl(key))\n",
    "print(cache.get(key))\n",
    "print(f\"Abusing after {i} call\")\n",
    "tc.assertEqual(i, 5)"
   ]
  },
  {
   "cell_type": "markdown",
   "id": "upset-flashing",
   "metadata": {},
   "source": [
    "## Utilisation"
   ]
  },
  {
   "cell_type": "markdown",
   "id": "every-belly",
   "metadata": {},
   "source": [
    "Import du module"
   ]
  },
  {
   "cell_type": "code",
   "execution_count": 15,
   "id": "aerial-champagne",
   "metadata": {},
   "outputs": [
    {
     "name": "stdout",
     "output_type": "stream",
     "text": [
      "b'valeur'\n"
     ]
    }
   ],
   "source": [
    "from leximpact_socio_fisca_simu_etat.cache import Cache\n",
    "\n",
    "cache.set(\"clef\", \"valeur\")\n",
    "print(cache.get(\"clef\"))"
   ]
  }
 ],
 "metadata": {
  "kernelspec": {
   "display_name": "leximpact-socio-fiscal-simu-etat-kernel",
   "language": "python",
   "name": "leximpact-socio-fiscal-simu-etat-kernel"
  },
  "language_info": {
   "codemirror_mode": {
    "name": "ipython",
    "version": 3
   },
   "file_extension": ".py",
   "mimetype": "text/x-python",
   "name": "python",
   "nbconvert_exporter": "python",
   "pygments_lexer": "ipython3",
   "version": "3.8.10"
  }
 },
 "nbformat": 4,
 "nbformat_minor": 5
}
