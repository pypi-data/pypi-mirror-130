{
 "cells": [
  {
   "cell_type": "markdown",
   "id": "experienced-coverage",
   "metadata": {},
   "source": [
    "# Utilisation de la simulation de l'impact d'une réforme sur le budget de l'Etat"
   ]
  },
  {
   "cell_type": "code",
   "execution_count": 1,
   "id": "immediate-psychology",
   "metadata": {},
   "outputs": [],
   "source": [
    "#!poetry run pip list | grep -i open"
   ]
  },
  {
   "cell_type": "code",
   "execution_count": 2,
   "id": "exceptional-binding",
   "metadata": {},
   "outputs": [],
   "source": [
    "# Activate multi-output in notebook\n",
    "from IPython.core.interactiveshell import InteractiveShell\n",
    "\n",
    "InteractiveShell.ast_node_interactivity = \"all\""
   ]
  },
  {
   "cell_type": "code",
   "execution_count": 3,
   "id": "waiting-virgin",
   "metadata": {},
   "outputs": [
    {
     "ename": "ConfigNotFound",
     "evalue": "Parameter aggregats not found in /home/jupyter-benoit/leximpact-socio-fiscal-simu-etat/(.env ou ENV)",
     "output_type": "error",
     "traceback": [
      "\u001b[0;31m---------------------------------------------------------------------------\u001b[0m",
      "\u001b[0;31mUndefinedValueError\u001b[0m                       Traceback (most recent call last)",
      "\u001b[0;32m~/leximpact-socio-fiscal-simu-etat/notebooks/leximpact_socio_fisca_simu_etat/config.py\u001b[0m in \u001b[0;36mget\u001b[0;34m(self, param_name, fail_on_missing, **kwargs)\u001b[0m\n\u001b[1;32m     63\u001b[0m         \u001b[0;32mtry\u001b[0m\u001b[0;34m:\u001b[0m\u001b[0;34m\u001b[0m\u001b[0;34m\u001b[0m\u001b[0m\n\u001b[0;32m---> 64\u001b[0;31m             \u001b[0;32mreturn\u001b[0m \u001b[0mself\u001b[0m\u001b[0;34m.\u001b[0m\u001b[0mconfig\u001b[0m\u001b[0;34m(\u001b[0m\u001b[0mparam_name\u001b[0m\u001b[0;34m,\u001b[0m \u001b[0;34m**\u001b[0m\u001b[0mkwargs\u001b[0m\u001b[0;34m)\u001b[0m\u001b[0;34m\u001b[0m\u001b[0;34m\u001b[0m\u001b[0m\n\u001b[0m\u001b[1;32m     65\u001b[0m         \u001b[0;32mexcept\u001b[0m \u001b[0mUndefinedValueError\u001b[0m\u001b[0;34m:\u001b[0m\u001b[0;34m\u001b[0m\u001b[0;34m\u001b[0m\u001b[0m\n",
      "\u001b[0;32m~/.cache/pypoetry/virtualenvs/leximpact-socio-fisca-simu-etat-api-zGDr_fn0-py3.9/lib/python3.9/site-packages/decouple.py\u001b[0m in \u001b[0;36m__call__\u001b[0;34m(self, *args, **kwargs)\u001b[0m\n\u001b[1;32m     89\u001b[0m         \"\"\"\n\u001b[0;32m---> 90\u001b[0;31m         \u001b[0;32mreturn\u001b[0m \u001b[0mself\u001b[0m\u001b[0;34m.\u001b[0m\u001b[0mget\u001b[0m\u001b[0;34m(\u001b[0m\u001b[0;34m*\u001b[0m\u001b[0margs\u001b[0m\u001b[0;34m,\u001b[0m \u001b[0;34m**\u001b[0m\u001b[0mkwargs\u001b[0m\u001b[0;34m)\u001b[0m\u001b[0;34m\u001b[0m\u001b[0;34m\u001b[0m\u001b[0m\n\u001b[0m\u001b[1;32m     91\u001b[0m \u001b[0;34m\u001b[0m\u001b[0m\n",
      "\u001b[0;32m~/.cache/pypoetry/virtualenvs/leximpact-socio-fisca-simu-etat-api-zGDr_fn0-py3.9/lib/python3.9/site-packages/decouple.py\u001b[0m in \u001b[0;36mget\u001b[0;34m(self, option, default, cast)\u001b[0m\n\u001b[1;32m     74\u001b[0m             \u001b[0;32mif\u001b[0m \u001b[0misinstance\u001b[0m\u001b[0;34m(\u001b[0m\u001b[0mdefault\u001b[0m\u001b[0;34m,\u001b[0m \u001b[0mUndefined\u001b[0m\u001b[0;34m)\u001b[0m\u001b[0;34m:\u001b[0m\u001b[0;34m\u001b[0m\u001b[0;34m\u001b[0m\u001b[0m\n\u001b[0;32m---> 75\u001b[0;31m                 \u001b[0;32mraise\u001b[0m \u001b[0mUndefinedValueError\u001b[0m\u001b[0;34m(\u001b[0m\u001b[0;34m'{} not found. Declare it as envvar or define a default value.'\u001b[0m\u001b[0;34m.\u001b[0m\u001b[0mformat\u001b[0m\u001b[0;34m(\u001b[0m\u001b[0moption\u001b[0m\u001b[0;34m)\u001b[0m\u001b[0;34m)\u001b[0m\u001b[0;34m\u001b[0m\u001b[0;34m\u001b[0m\u001b[0m\n\u001b[0m\u001b[1;32m     76\u001b[0m \u001b[0;34m\u001b[0m\u001b[0m\n",
      "\u001b[0;31mUndefinedValueError\u001b[0m: aggregats not found. Declare it as envvar or define a default value.",
      "\nDuring handling of the above exception, another exception occurred:\n",
      "\u001b[0;31mConfigNotFound\u001b[0m                            Traceback (most recent call last)",
      "\u001b[0;32m/tmp/ipykernel_10076/2951244539.py\u001b[0m in \u001b[0;36m<module>\u001b[0;34m\u001b[0m\n\u001b[1;32m     13\u001b[0m \u001b[0;32mfrom\u001b[0m \u001b[0mleximpact_socio_fisca_simu_etat\u001b[0m\u001b[0;34m.\u001b[0m\u001b[0maggregates_read\u001b[0m \u001b[0;32mimport\u001b[0m \u001b[0mAggregate\u001b[0m\u001b[0;34m\u001b[0m\u001b[0;34m\u001b[0m\u001b[0m\n\u001b[1;32m     14\u001b[0m \u001b[0;32mfrom\u001b[0m \u001b[0mleximpact_socio_fisca_simu_etat\u001b[0m\u001b[0;34m.\u001b[0m\u001b[0mconfig\u001b[0m \u001b[0;32mimport\u001b[0m \u001b[0mConfiguration\u001b[0m\u001b[0;34m\u001b[0m\u001b[0;34m\u001b[0m\u001b[0m\n\u001b[0;32m---> 15\u001b[0;31m from leximpact_socio_fisca_simu_etat.csg_simu import (\n\u001b[0m\u001b[1;32m     16\u001b[0m     \u001b[0mcompute_all_simulation\u001b[0m\u001b[0;34m,\u001b[0m\u001b[0;34m\u001b[0m\u001b[0;34m\u001b[0m\u001b[0m\n\u001b[1;32m     17\u001b[0m     \u001b[0mquantile_to_df\u001b[0m\u001b[0;34m,\u001b[0m\u001b[0;34m\u001b[0m\u001b[0;34m\u001b[0m\u001b[0m\n",
      "\u001b[0;32m~/leximpact-socio-fiscal-simu-etat/notebooks/leximpact_socio_fisca_simu_etat/csg_simu.py\u001b[0m in \u001b[0;36m<module>\u001b[0;34m\u001b[0m\n\u001b[1;32m     61\u001b[0m \u001b[0;34m\u001b[0m\u001b[0m\n\u001b[1;32m     62\u001b[0m \u001b[0mconfig\u001b[0m \u001b[0;34m=\u001b[0m \u001b[0mConfiguration\u001b[0m\u001b[0;34m(\u001b[0m\u001b[0;34m)\u001b[0m\u001b[0;34m\u001b[0m\u001b[0;34m\u001b[0m\u001b[0m\n\u001b[0;32m---> 63\u001b[0;31m \u001b[0maggregats\u001b[0m \u001b[0;34m=\u001b[0m \u001b[0mAggregate\u001b[0m\u001b[0;34m(\u001b[0m\u001b[0mconfig\u001b[0m\u001b[0;34m.\u001b[0m\u001b[0mget\u001b[0m\u001b[0;34m(\u001b[0m\u001b[0;34m\"aggregats\"\u001b[0m\u001b[0;34m)\u001b[0m\u001b[0;34m)\u001b[0m\u001b[0;34m\u001b[0m\u001b[0;34m\u001b[0m\u001b[0m\n\u001b[0m\u001b[1;32m     64\u001b[0m \u001b[0mcache\u001b[0m \u001b[0;34m=\u001b[0m \u001b[0mCache\u001b[0m\u001b[0;34m(\u001b[0m\u001b[0;34m)\u001b[0m\u001b[0;34m\u001b[0m\u001b[0;34m\u001b[0m\u001b[0m\n\u001b[1;32m     65\u001b[0m \u001b[0mtc\u001b[0m \u001b[0;34m=\u001b[0m \u001b[0munittest\u001b[0m\u001b[0;34m.\u001b[0m\u001b[0mTestCase\u001b[0m\u001b[0;34m(\u001b[0m\u001b[0;34m)\u001b[0m\u001b[0;34m\u001b[0m\u001b[0;34m\u001b[0m\u001b[0m\n",
      "\u001b[0;32m~/leximpact-socio-fiscal-simu-etat/notebooks/leximpact_socio_fisca_simu_etat/config.py\u001b[0m in \u001b[0;36mget\u001b[0;34m(self, param_name, fail_on_missing, **kwargs)\u001b[0m\n\u001b[1;32m     65\u001b[0m         \u001b[0;32mexcept\u001b[0m \u001b[0mUndefinedValueError\u001b[0m\u001b[0;34m:\u001b[0m\u001b[0;34m\u001b[0m\u001b[0;34m\u001b[0m\u001b[0m\n\u001b[1;32m     66\u001b[0m             \u001b[0;32mif\u001b[0m \u001b[0mfail_on_missing\u001b[0m\u001b[0;34m:\u001b[0m\u001b[0;34m\u001b[0m\u001b[0;34m\u001b[0m\u001b[0m\n\u001b[0;32m---> 67\u001b[0;31m                 raise ConfigNotFound(\n\u001b[0m\u001b[1;32m     68\u001b[0m                     \u001b[0;34mf\"Parameter {param_name} not found in {self.project_module_path + '/(.env ou ENV)'}\"\u001b[0m\u001b[0;34m\u001b[0m\u001b[0;34m\u001b[0m\u001b[0m\n\u001b[1;32m     69\u001b[0m                 )\n",
      "\u001b[0;31mConfigNotFound\u001b[0m: Parameter aggregats not found in /home/jupyter-benoit/leximpact-socio-fiscal-simu-etat/(.env ou ENV)"
     ]
    }
   ],
   "source": [
    "import os\n",
    "\n",
    "# For profiling of code\n",
    "import timeit\n",
    "import unittest\n",
    "\n",
    "tc = unittest.TestCase()\n",
    "import matplotlib as mpl\n",
    "import pandas as pd\n",
    "import psutil\n",
    "import seaborn as sns\n",
    "\n",
    "from leximpact_socio_fisca_simu_etat.aggregates_read import Aggregate\n",
    "from leximpact_socio_fisca_simu_etat.config import Configuration\n",
    "from leximpact_socio_fisca_simu_etat.csg_simu import (\n",
    "    compute_all_simulation,\n",
    "    quantile_to_df,\n",
    ")\n",
    "from leximpact_socio_fisca_simu_etat.schema import (\n",
    "    AllSimulationResult,\n",
    "    OneSimulationResult,\n",
    "    ReformeSocioFiscale,\n",
    ")\n",
    "\n",
    "# from memory_profiler import memory_usage\n",
    "# import tracemalloc\n",
    "# tracemalloc.start(10)"
   ]
  },
  {
   "cell_type": "code",
   "execution_count": null,
   "id": "neither-cleveland",
   "metadata": {},
   "outputs": [],
   "source": [
    "log_run = False\n",
    "debut_global = timeit.default_timer()"
   ]
  },
  {
   "cell_type": "code",
   "execution_count": null,
   "id": "brief-minnesota",
   "metadata": {},
   "outputs": [],
   "source": [
    "config = Configuration()\n",
    "aggregates = Aggregate(config.get(\"AGREGATS\"))\n",
    "pd.options.display.float_format = \"{:,.7f}\".format\n",
    "sns.set(rc={\"figure.figsize\": (20, 8)})"
   ]
  },
  {
   "cell_type": "markdown",
   "id": "acceptable-accountability",
   "metadata": {},
   "source": [
    "# Utilisation"
   ]
  },
  {
   "cell_type": "markdown",
   "id": "worth-bankruptcy",
   "metadata": {},
   "source": [
    "## Sans réforme"
   ]
  },
  {
   "cell_type": "code",
   "execution_count": null,
   "id": "immune-magazine",
   "metadata": {},
   "outputs": [],
   "source": [
    "reform_simple = ReformeSocioFiscale(\n",
    "    base=2021,\n",
    "    output_variables=[\"csg_imposable_salaire\"],\n",
    "    quantile_nb=0,\n",
    ")"
   ]
  },
  {
   "cell_type": "markdown",
   "id": "latter-boutique",
   "metadata": {},
   "source": [
    "### On lance la simulation"
   ]
  },
  {
   "cell_type": "code",
   "execution_count": null,
   "id": "metric-eligibility",
   "metadata": {},
   "outputs": [],
   "source": [
    "# Add to leaky code within python_script_being_profiled.py\n",
    "# ATTENTION : très long\n",
    "# from pympler import muppy, summary\n",
    "# all_objects = muppy.get_objects()\n",
    "# sum1 = summary.summarize(all_objects)# Prints out a summary of the large objects\n",
    "# summary.print_(sum1)# Get references to certain types of objects such as dataframe\n",
    "# dataframes = [ao for ao in all_objects if isinstance(ao, pd.DataFrame)]\n",
    "\n",
    "# for d in dataframes:\n",
    "#     print(d.columns.values)\n",
    "#     print(len(d))\n",
    "\n",
    "#                                                               types |   # objects |   total size\n",
    "# =================================================================== | =========== | ============\n",
    "#                                         pandas.core.frame.DataFrame |           7 |    203.64 MB\n",
    "#                                                       numpy.ndarray |         132 |    144.35 MB\n",
    "#                                                                dict |      206599 |     44.54 MB\n",
    "#                                                                 str |      235228 |     34.76 MB\n",
    "#                                                                type |       12876 |     15.06 MB\n",
    "#                                           pandas.core.series.Series |           5 |     14.12 MB"
   ]
  },
  {
   "cell_type": "code",
   "execution_count": null,
   "id": "explicit-wilderness",
   "metadata": {},
   "outputs": [],
   "source": [
    "def print_memory():\n",
    "    process = psutil.Process(os.getpid())\n",
    "    mi = process.memory_info()\n",
    "    print(\n",
    "        f\"rss={mi.rss//1_000_000:,}M, vms={mi.vms//1_000_000:,}M, shared={mi.shared//1_000_000:,}M\"\n",
    "    )"
   ]
  },
  {
   "cell_type": "code",
   "execution_count": null,
   "id": "usual-providence",
   "metadata": {},
   "outputs": [],
   "source": [
    "print_memory()"
   ]
  },
  {
   "cell_type": "code",
   "execution_count": null,
   "id": "straight-controversy",
   "metadata": {},
   "outputs": [],
   "source": [
    "%%time\n",
    "\n",
    "resultat_simple = compute_all_simulation(reform_simple)\n",
    "\n",
    "# mem_usage = memory_usage((compute_all_simulation, (reform_simple,)))\n",
    "# print('Memory usage (in chunks of .1 seconds): %s' % mem_usage)\n",
    "# print('Maximum memory usage: %s' % max(mem_usage))"
   ]
  },
  {
   "cell_type": "code",
   "execution_count": null,
   "id": "b8d4cc8b-bc77-4098-8326-b1dcd5e202db",
   "metadata": {},
   "outputs": [],
   "source": [
    "resultat_simple"
   ]
  },
  {
   "cell_type": "code",
   "execution_count": null,
   "id": "8ad40d24-65bf-4c1c-88bc-67994e590e65",
   "metadata": {},
   "outputs": [],
   "source": [
    "tc.assertLess(\n",
    "    resultat_simple.result[\"base\"].state_budget[\"csg_imposable_salaire\"], 20_000_000_000\n",
    ")\n",
    "tc.assertGreater(\n",
    "    resultat_simple.result[\"base\"].state_budget[\"csg_imposable_salaire\"], 18_000_000_000\n",
    ")"
   ]
  },
  {
   "cell_type": "code",
   "execution_count": null,
   "id": "virgin-thesis",
   "metadata": {},
   "outputs": [],
   "source": [
    "print_memory()"
   ]
  },
  {
   "cell_type": "code",
   "execution_count": null,
   "id": "thousand-marble",
   "metadata": {},
   "outputs": [],
   "source": [
    "# Add to leaky code within python_script_being_profiled.py\n",
    "# ATTENTION : très long\n",
    "# from pympler import muppy, summary\n",
    "# all_objects = muppy.get_objects()\n",
    "# sum1 = summary.summarize(all_objects)# Prints out a summary of the large objects\n",
    "# summary.print_(sum1)\n",
    "\n",
    "# Get references to certain types of objects such as dataframe\n",
    "# dataframes = [ao for ao in all_objects if isinstance(ao, pd.DataFrame)]\n",
    "\n",
    "# for d in dataframes:\n",
    "#     print(d.columns.values)\n",
    "#     print(len(d))\n",
    "\n",
    "# =================================================================== | =========== | ============\n",
    "#                                                       numpy.ndarray |        1033 |      1.08 GB\n",
    "#                                         pandas.core.frame.DataFrame |          10 |    431.79 MB\n",
    "#                                           pandas.core.series.Series |         165 |    327.34 MB\n",
    "#                                                                dict |      268526 |     56.66 MB"
   ]
  },
  {
   "cell_type": "code",
   "execution_count": null,
   "id": "local-aggregate",
   "metadata": {},
   "outputs": [],
   "source": [
    "resultat_simple.result[\"base\"].state_budget[\"csg_imposable_salaire\"]\n",
    "del resultat_simple\n",
    "print_memory()"
   ]
  },
  {
   "cell_type": "code",
   "execution_count": null,
   "id": "67c2c6af-f076-4341-a8b1-bc08c86d5ac7",
   "metadata": {},
   "outputs": [],
   "source": [
    "aggregates.get_aggregate(\n",
    "    config.get(\"YEAR_ERFS\"), \"csg_imposable_salaire\", \"ERFS\", \"factor_to_2022\"\n",
    ")"
   ]
  },
  {
   "cell_type": "markdown",
   "id": "another-wallpaper",
   "metadata": {},
   "source": [
    "## Réforme simple"
   ]
  },
  {
   "cell_type": "code",
   "execution_count": null,
   "id": "through-waterproof",
   "metadata": {},
   "outputs": [],
   "source": [
    "reform_simple = ReformeSocioFiscale(\n",
    "    base=2021,\n",
    "    plf=2022,\n",
    "    amendement={\n",
    "        \"prelevements_sociaux.contributions_sociales.csg.activite.imposable.taux\": 0.0,\n",
    "        \"prelevements_sociaux.contributions_sociales.csg.activite.deductible.taux\": 0.0,\n",
    "    },\n",
    "    output_variables=[\n",
    "        \"csg_imposable_salaire\",\n",
    "        \"csg_deductible_salaire\",\n",
    "    ],\n",
    "    quantile_nb=0,\n",
    ")"
   ]
  },
  {
   "cell_type": "code",
   "execution_count": null,
   "id": "demographic-jesus",
   "metadata": {},
   "outputs": [],
   "source": [
    "# from IPython.display import JSON\n",
    "\n",
    "# with open(config.get(\"PLF\")) as json_file:\n",
    "#     changement_plf = json.load(json_file)\n",
    "# JSON(changement_plf)"
   ]
  },
  {
   "cell_type": "markdown",
   "id": "nominated-venezuela",
   "metadata": {},
   "source": [
    "### On lance la simulation"
   ]
  },
  {
   "cell_type": "code",
   "execution_count": null,
   "id": "bigger-lithuania",
   "metadata": {},
   "outputs": [],
   "source": [
    "%%time\n",
    "resultat_simple = compute_all_simulation(reform_simple)"
   ]
  },
  {
   "cell_type": "code",
   "execution_count": null,
   "id": "important-regression",
   "metadata": {},
   "outputs": [],
   "source": [
    "resultat_simple"
   ]
  },
  {
   "cell_type": "code",
   "execution_count": null,
   "id": "e3b1a5f9-fdfd-4e55-8d13-9b5f10951618",
   "metadata": {},
   "outputs": [],
   "source": [
    "tc.assertEqual(\n",
    "    resultat_simple.result[\"amendement\"].state_budget[\"csg_imposable_salaire\"], 0\n",
    ")"
   ]
  },
  {
   "cell_type": "code",
   "execution_count": null,
   "id": "portable-utilization",
   "metadata": {},
   "outputs": [],
   "source": [
    "csg_salaire_avant = (\n",
    "    resultat_simple.result[\"base\"].state_budget[\"csg_imposable_salaire\"]\n",
    "    + resultat_simple.result[\"base\"].state_budget[\"csg_deductible_salaire\"]\n",
    ")\n",
    "csg_salaire_plf = (\n",
    "    resultat_simple.result[\"plf\"].state_budget[\"csg_imposable_salaire\"]\n",
    "    + resultat_simple.result[\"plf\"].state_budget[\"csg_deductible_salaire\"]\n",
    ")\n",
    "csg_salaire_amendement = (\n",
    "    resultat_simple.result[\"amendement\"].state_budget[\"csg_imposable_salaire\"]\n",
    "    + resultat_simple.result[\"amendement\"].state_budget[\"csg_deductible_salaire\"]\n",
    ")\n",
    "print(f'Montant \"avant\" de la CSG prélevée sur les salaires {csg_salaire_avant:,.0f} €')\n",
    "print(f'Montant \"plf\" de la CSG prélevée sur les salaires {csg_salaire_plf:,.0f} €')\n",
    "print(\n",
    "    f'Montant \"amendement\" de la CSG prélevée sur les salaires {csg_salaire_amendement:,.0f} €'\n",
    ")"
   ]
  },
  {
   "cell_type": "code",
   "execution_count": null,
   "id": "acoustic-quilt",
   "metadata": {},
   "outputs": [],
   "source": [
    "resultat_simple.errors"
   ]
  },
  {
   "cell_type": "markdown",
   "id": "sweet-builder",
   "metadata": {},
   "source": [
    "## CSG Salaire Quantile"
   ]
  },
  {
   "cell_type": "code",
   "execution_count": null,
   "id": "former-underwear",
   "metadata": {},
   "outputs": [],
   "source": [
    "# \"prelevements_sociaux.contributions_sociales.csg.activite.imposable.taux\": 0.05\n",
    "reform_quantile = ReformeSocioFiscale(\n",
    "    base=2021,\n",
    "    plf=2022,\n",
    "    amendement={\n",
    "        \"prelevements_sociaux.contributions_sociales.csg.activite.imposable.taux\": 0.015,\n",
    "    },\n",
    "    output_variables=[\n",
    "        \"assiette_csg_abattue\",\n",
    "        \"csg_imposable_salaire\",\n",
    "        \"csg_deductible_salaire\",\n",
    "    ],\n",
    "    quantile_nb=10,\n",
    "    quantile_base_variable=[\"assiette_csg_abattue\"],\n",
    "    quantile_compare_variables=[\n",
    "        \"csg_imposable_salaire\",\n",
    "        \"csg_deductible_salaire\",\n",
    "    ],\n",
    ")"
   ]
  },
  {
   "cell_type": "code",
   "execution_count": null,
   "id": "every-pacific",
   "metadata": {},
   "outputs": [],
   "source": [
    "reform_quantile.json()"
   ]
  },
  {
   "cell_type": "markdown",
   "id": "julian-buffer",
   "metadata": {},
   "source": [
    "### On lance la simulation"
   ]
  },
  {
   "cell_type": "code",
   "execution_count": null,
   "id": "rough-airline",
   "metadata": {},
   "outputs": [],
   "source": [
    "%%time\n",
    "print_memory()\n",
    "resultat_quantile = compute_all_simulation(reform_quantile)\n",
    "print_memory()"
   ]
  },
  {
   "cell_type": "code",
   "execution_count": null,
   "id": "usual-communications",
   "metadata": {
    "tags": []
   },
   "outputs": [],
   "source": [
    "# resultat_quantile.json()"
   ]
  },
  {
   "cell_type": "code",
   "execution_count": null,
   "id": "fitting-bonus",
   "metadata": {},
   "outputs": [],
   "source": [
    "def print_total_csg(resultat_quantile):\n",
    "    print(\n",
    "        f'Montant de la CSG sur les salaires avant : {resultat_quantile.result[\"base\"].state_budget[\"csg_imposable_salaire\"]+resultat_quantile.result[\"base\"].state_budget[\"csg_deductible_salaire\"]:,.0f} € csg_imposable_salaire = {resultat_quantile.result[\"base\"].state_budget[\"csg_imposable_salaire\"]} csg_deductible_salaire = {resultat_quantile.result[\"base\"].state_budget[\"csg_deductible_salaire\"]}'\n",
    "    )\n",
    "    print(\n",
    "        f'Montant de la CSG sur les salaires avec PLF : {resultat_quantile.result[\"plf\"].state_budget[\"csg_imposable_salaire\"]+resultat_quantile.result[\"plf\"].state_budget[\"csg_deductible_salaire\"]:,.0f} € csg_imposable_salaire = {resultat_quantile.result[\"plf\"].state_budget[\"csg_imposable_salaire\"]} csg_deductible_salaire = {resultat_quantile.result[\"plf\"].state_budget[\"csg_deductible_salaire\"]}'\n",
    "    )\n",
    "    print(\n",
    "        f'Montant de la CSG sur les salaires amendement : {resultat_quantile.result[\"amendement\"].state_budget[\"csg_imposable_salaire\"]+resultat_quantile.result[\"amendement\"].state_budget[\"csg_deductible_salaire\"]:,.0f} € csg_imposable_salaire = {resultat_quantile.result[\"amendement\"].state_budget[\"csg_imposable_salaire\"]} csg_deductible_salaire = {resultat_quantile.result[\"amendement\"].state_budget[\"csg_deductible_salaire\"]}'\n",
    "    )"
   ]
  },
  {
   "cell_type": "code",
   "execution_count": null,
   "id": "african-memorial",
   "metadata": {},
   "outputs": [],
   "source": [
    "print_total_csg(resultat_quantile)"
   ]
  },
  {
   "cell_type": "code",
   "execution_count": null,
   "id": "organizational-singapore",
   "metadata": {},
   "outputs": [],
   "source": [
    "df = quantile_to_df(resultat_quantile, \"csg_imposable_salaire+csg_deductible_salaire\")\n",
    "df"
   ]
  },
  {
   "cell_type": "code",
   "execution_count": null,
   "id": "controlled-surgery",
   "metadata": {},
   "outputs": [],
   "source": [
    "df[\"count\"].sum()"
   ]
  },
  {
   "cell_type": "code",
   "execution_count": null,
   "id": "tired-northeast",
   "metadata": {},
   "outputs": [],
   "source": [
    "# On vérifie que la somme des quantiles est bien égale à la somme des\n",
    "tc.assertEqual(\n",
    "    int(df.plf.sum()),\n",
    "    int(\n",
    "        resultat_quantile.result[\"plf\"].state_budget[\"csg_imposable_salaire\"]\n",
    "        + resultat_quantile.result[\"plf\"].state_budget[\"csg_deductible_salaire\"]\n",
    "    ),\n",
    ")"
   ]
  },
  {
   "cell_type": "code",
   "execution_count": null,
   "id": "driven-cartoon",
   "metadata": {},
   "outputs": [],
   "source": [
    "df.plf.sum()"
   ]
  },
  {
   "cell_type": "markdown",
   "id": "continued-reggae",
   "metadata": {},
   "source": [
    "### Graphique"
   ]
  },
  {
   "cell_type": "code",
   "execution_count": null,
   "id": "073c5b2f-9032-4986-894f-bb53a3b04c74",
   "metadata": {},
   "outputs": [],
   "source": [
    "def plot_quantile(df: pd.DataFrame(), x, y, title: str, xlabel: str, ylabel: str):\n",
    "    ax = df.plot.bar(x=x, y=y)\n",
    "    _ = ax.set_title(\n",
    "        title,\n",
    "        size=20,\n",
    "    )\n",
    "    _ = ax.set_xlabel(xlabel)\n",
    "    _ = ax.set_ylabel(ylabel)\n",
    "    _ = ax.yaxis.set_major_formatter(mpl.ticker.StrMethodFormatter(\"{x:,.0f} €\"))\n",
    "    _ = ax.set_xticklabels(\n",
    "        [f\"{float(l.get_text()):,.0f} €\" for l in ax.get_xticklabels()],\n",
    "        rotation=90,\n",
    "        size=15,\n",
    "    )"
   ]
  },
  {
   "cell_type": "code",
   "execution_count": null,
   "id": "193a1d44-1263-4f83-990a-fcf46d9a170b",
   "metadata": {},
   "outputs": [],
   "source": [
    "plot_quantile(\n",
    "    df,\n",
    "    x=\"assiette_csg_abattue\",\n",
    "    y=[\"avant\", \"plf\", \"amendement\"],\n",
    "    title=\"Contribution total à la CSG des salariés par quantile d'assiette de CSG\",\n",
    "    xlabel=\"Quantile d'assiette de CSG\",\n",
    "    ylabel=\"Montant de la CSG sur les salaires\",\n",
    ")"
   ]
  },
  {
   "cell_type": "code",
   "execution_count": null,
   "id": "hollow-grass",
   "metadata": {},
   "outputs": [],
   "source": [
    "resultat_quantile.errors"
   ]
  },
  {
   "cell_type": "markdown",
   "id": "786db0d2-f6f2-44ed-9f57-9fbdaa7c2920",
   "metadata": {},
   "source": [
    "## CSG Retraite Quantile"
   ]
  },
  {
   "cell_type": "code",
   "execution_count": null,
   "id": "0b543496-22fb-4797-bd7e-38cbe078f08a",
   "metadata": {},
   "outputs": [],
   "source": [
    "# \"prelevements_sociaux.contributions_sociales.csg.activite.imposable.taux\": 0.05\n",
    "reform_quantile_csg_retraite = ReformeSocioFiscale(\n",
    "    base=2021,\n",
    "    plf=2022,\n",
    "    amendement={\n",
    "        \"prelevements_sociaux.contributions_sociales.csg.retraite_invalidite.imposable.taux_plein\": 0.01,\n",
    "    },\n",
    "    output_variables=[\n",
    "        \"retraite_brute\",\n",
    "        \"csg_imposable_retraite\",\n",
    "        \"csg_deductible_retraite\",\n",
    "    ],\n",
    "    quantile_nb=10,\n",
    "    quantile_base_variable=[\"retraite_brute\"],\n",
    "    quantile_compare_variables=[\n",
    "        \"csg_imposable_retraite\",\n",
    "        \"csg_deductible_retraite\",\n",
    "    ],\n",
    ")"
   ]
  },
  {
   "cell_type": "code",
   "execution_count": null,
   "id": "601b5819-d51d-42e5-924d-5bbea6b59486",
   "metadata": {},
   "outputs": [],
   "source": [
    "def print_total_csg_retraite(resultat_quantile):\n",
    "    print(\n",
    "        f'Montant de la CSG sur les retraites avant : {resultat_quantile.result[\"base\"].state_budget[\"csg_imposable_retraite\"]+resultat_quantile.result[\"base\"].state_budget[\"csg_deductible_retraite\"]:,.0f} € csg_imposable_retraite = {resultat_quantile.result[\"base\"].state_budget[\"csg_imposable_retraite\"]} csg_deductible_retraite = {resultat_quantile.result[\"base\"].state_budget[\"csg_deductible_retraite\"]}'\n",
    "    )\n",
    "    print(\n",
    "        f'Montant de la CSG sur les retraites avec PLF : {resultat_quantile.result[\"plf\"].state_budget[\"csg_imposable_retraite\"]+resultat_quantile.result[\"plf\"].state_budget[\"csg_deductible_retraite\"]:,.0f} € csg_imposable_retraite = {resultat_quantile.result[\"plf\"].state_budget[\"csg_imposable_retraite\"]} csg_deductible_retraite = {resultat_quantile.result[\"plf\"].state_budget[\"csg_deductible_retraite\"]}'\n",
    "    )\n",
    "    print(\n",
    "        f'Montant de la CSG sur les retraites amendement : {resultat_quantile.result[\"amendement\"].state_budget[\"csg_imposable_retraite\"]+resultat_quantile.result[\"amendement\"].state_budget[\"csg_deductible_retraite\"]:,.0f} € csg_imposable_retraite = {resultat_quantile.result[\"amendement\"].state_budget[\"csg_imposable_retraite\"]} csg_deductible_retraite = {resultat_quantile.result[\"amendement\"].state_budget[\"csg_deductible_retraite\"]}'\n",
    "    )"
   ]
  },
  {
   "cell_type": "markdown",
   "id": "44b630c2-ab21-4c61-85e0-e92b9c59f582",
   "metadata": {},
   "source": [
    "### On lance la simulation"
   ]
  },
  {
   "cell_type": "code",
   "execution_count": null,
   "id": "2afe556d-8a2d-4f05-970a-522428fa9f1f",
   "metadata": {},
   "outputs": [],
   "source": [
    "%%time\n",
    "print_memory()\n",
    "resultat_quantile_csg_retraite = compute_all_simulation(reform_quantile_csg_retraite)\n",
    "print_memory()"
   ]
  },
  {
   "cell_type": "code",
   "execution_count": null,
   "id": "ab2b054f-3014-49c6-a33f-4692d0e28beb",
   "metadata": {
    "tags": []
   },
   "outputs": [],
   "source": [
    "# resultat_quantile_csg_retraite.json()"
   ]
  },
  {
   "cell_type": "code",
   "execution_count": null,
   "id": "31fd4d00-f43b-41d1-baa2-044bb5b5eaa8",
   "metadata": {},
   "outputs": [],
   "source": [
    "print_total_csg_retraite(resultat_quantile_csg_retraite)"
   ]
  },
  {
   "cell_type": "code",
   "execution_count": null,
   "id": "acbbd3c0-5c88-4b10-a39b-4145beb8f8f2",
   "metadata": {},
   "outputs": [],
   "source": [
    "# variable = \"csg_imposable_retraite+csg_deductible_retraite\"\n",
    "# df_base = pd.DataFrame(resultat_quantile.result[\"base\"].quantiles)\n",
    "# df_plf = pd.DataFrame(resultat_quantile.result[\"plf\"].quantiles)\n",
    "# df_amendement = pd.DataFrame(resultat_quantile.result[\"amendement\"].quantiles)\n",
    "# df_base[\"plf\"] = df_plf[variable]\n",
    "# df_base[\"amendement\"] = df_amendement[variable]\n",
    "# df_base[\"avant\"] = df_base[variable]\n",
    "# df = df_base\n",
    "df = quantile_to_df(\n",
    "    resultat_quantile_csg_retraite, \"csg_imposable_retraite+csg_deductible_retraite\"\n",
    ")\n",
    "\n",
    "df"
   ]
  },
  {
   "cell_type": "code",
   "execution_count": null,
   "id": "1c708b08-120e-456a-a574-026269f0ea64",
   "metadata": {},
   "outputs": [],
   "source": [
    "df[\"count\"].sum()"
   ]
  },
  {
   "cell_type": "code",
   "execution_count": null,
   "id": "fd2242df-e12a-4145-af24-4f04dba1aeb4",
   "metadata": {},
   "outputs": [],
   "source": [
    "# On vérifie que la somme des quantiles est bien égale à la somme des\n",
    "tc.assertEqual(\n",
    "    int(df.plf.sum()),\n",
    "    int(\n",
    "        resultat_quantile_csg_retraite.result[\"plf\"].state_budget[\n",
    "            \"csg_imposable_retraite\"\n",
    "        ]\n",
    "        + resultat_quantile_csg_retraite.result[\"plf\"].state_budget[\n",
    "            \"csg_deductible_retraite\"\n",
    "        ]\n",
    "    ),\n",
    ")"
   ]
  },
  {
   "cell_type": "code",
   "execution_count": null,
   "id": "acb809c9-72ed-453a-8d82-fcbc591dae3a",
   "metadata": {},
   "outputs": [],
   "source": [
    "df.plf.sum()"
   ]
  },
  {
   "cell_type": "markdown",
   "id": "6f3887eb-7b74-48b5-97d4-1044dcd82773",
   "metadata": {},
   "source": [
    "### Graphique"
   ]
  },
  {
   "cell_type": "code",
   "execution_count": null,
   "id": "13a98983-02d3-4962-922e-cd0414134799",
   "metadata": {},
   "outputs": [],
   "source": [
    "plot_quantile(\n",
    "    df,\n",
    "    x=\"retraite_brute\",\n",
    "    y=[\"avant\", \"plf\", \"amendement\"],\n",
    "    title=\"Contribution totale à la CSG des retraités par quantile de Retraite brute\",\n",
    "    xlabel=\"Quantiles de retraite brute\",\n",
    "    ylabel=\"Montant de la CSG sur les retraites\",\n",
    ")"
   ]
  },
  {
   "cell_type": "code",
   "execution_count": null,
   "id": "7cdcb42c-8691-4e41-9c35-8eebdb0439e8",
   "metadata": {},
   "outputs": [],
   "source": [
    "resultat_quantile_csg_retraite.errors"
   ]
  },
  {
   "cell_type": "code",
   "execution_count": null,
   "id": "bfaeb638-961c-4d3e-bed5-40505bf0c618",
   "metadata": {},
   "outputs": [],
   "source": [
    "# Tests\n",
    "tc.assertGreater(\n",
    "    df[\"csg_imposable_retraite+csg_deductible_retraite\"].sum(), 20_000_000_000\n",
    ")\n",
    "tc.assertLess(\n",
    "    df[\"csg_imposable_retraite+csg_deductible_retraite\"].sum(), 30_000_000_000\n",
    ")"
   ]
  },
  {
   "cell_type": "markdown",
   "id": "4559a42b-ea22-42ac-bd9f-4ca1a8129d05",
   "metadata": {},
   "source": [
    "## CRDS Salaire Quantile"
   ]
  },
  {
   "cell_type": "code",
   "execution_count": null,
   "id": "scientific-plant",
   "metadata": {},
   "outputs": [],
   "source": [
    "# \"prelevements_sociaux.contributions_sociales.csg.activite.imposable.taux\": 0.05\n",
    "reform_quantile_crds = ReformeSocioFiscale(\n",
    "    base=2021,\n",
    "    plf=2022,\n",
    "    amendement={\n",
    "        \"prelevements_sociaux.contributions_sociales.crds.activite.taux\": 0.015,\n",
    "    },\n",
    "    output_variables=[\n",
    "        \"assiette_csg_abattue\",\n",
    "        \"crds_salaire\",\n",
    "    ],\n",
    "    quantile_nb=20,\n",
    "    quantile_base_variable=[\"assiette_csg_abattue\"],\n",
    "    quantile_compare_variables=[\n",
    "        \"crds_salaire\",\n",
    "    ],\n",
    ")"
   ]
  },
  {
   "cell_type": "code",
   "execution_count": null,
   "id": "turned-lambda",
   "metadata": {},
   "outputs": [],
   "source": [
    "reform_quantile_crds.json()"
   ]
  },
  {
   "cell_type": "markdown",
   "id": "spectacular-sitting",
   "metadata": {},
   "source": [
    "### On lance la simulation"
   ]
  },
  {
   "cell_type": "code",
   "execution_count": null,
   "id": "endangered-gambling",
   "metadata": {},
   "outputs": [],
   "source": [
    "%%time\n",
    "resultat_quantile_crds = compute_all_simulation(reform_quantile_crds)\n",
    "# Avec MemoryConfig on met 39s pour le calcul, sans on met 38s, l'augmentation du temps de calcul n'est donc pas à cause de MemoryConfig, est-ce à cause de tracemalloc ?"
   ]
  },
  {
   "cell_type": "code",
   "execution_count": null,
   "id": "broken-addiction",
   "metadata": {},
   "outputs": [],
   "source": [
    "# resultat_quantile.json()"
   ]
  },
  {
   "cell_type": "code",
   "execution_count": null,
   "id": "close-bacon",
   "metadata": {},
   "outputs": [],
   "source": [
    "print(\n",
    "    f'Montant de la CRDS sur les salaires avant : {resultat_quantile_crds.result[\"base\"].state_budget[\"crds_salaire\"]:,.0f} €'\n",
    ")\n",
    "print(\n",
    "    f'Montant de la CRDS sur les salaires avec PLF : {resultat_quantile_crds.result[\"plf\"].state_budget[\"crds_salaire\"]:,.0f} €'\n",
    ")\n",
    "print(\n",
    "    f'Montant de la CRDS sur les salaires amendement : {resultat_quantile_crds.result[\"amendement\"].state_budget[\"crds_salaire\"]:,.0f} €'\n",
    ")"
   ]
  },
  {
   "cell_type": "code",
   "execution_count": null,
   "id": "cultural-microwave",
   "metadata": {},
   "outputs": [],
   "source": [
    "variable = \"crds_salaire\"\n",
    "df_base = pd.DataFrame(resultat_quantile_crds.result[\"base\"].quantiles)\n",
    "df_plf = pd.DataFrame(resultat_quantile_crds.result[\"plf\"].quantiles)\n",
    "df_amendement = pd.DataFrame(resultat_quantile_crds.result[\"amendement\"].quantiles)\n",
    "df_base[\"plf\"] = df_plf[variable]\n",
    "df_base[\"amendement\"] = df_amendement[variable]\n",
    "df_base[\"avant\"] = df_base[variable]\n",
    "df = df_base\n",
    "\n",
    "# df"
   ]
  },
  {
   "cell_type": "markdown",
   "id": "forty-conditions",
   "metadata": {},
   "source": [
    "### Graphique"
   ]
  },
  {
   "cell_type": "code",
   "execution_count": null,
   "id": "usual-creator",
   "metadata": {},
   "outputs": [],
   "source": [
    "ax = df.plot.bar(x=\"assiette_csg_abattue\", y=[\"avant\", \"plf\", \"amendement\"])\n",
    "_ = ax.set_title(\n",
    "    \"Contribution total à la CRDS salaire par quantile de assiette de CSG\",\n",
    "    size=20,\n",
    ")\n",
    "_ = ax.set_xlabel(\"Quantiles d'assiettes de CSG\")\n",
    "_ = ax.set_ylabel(\"Montant de la CRDS\")\n",
    "_ = ax.yaxis.set_major_formatter(mpl.ticker.StrMethodFormatter(\"{x:,.0f} €\"))\n",
    "# ax.xaxis.set_major_formatter(mpl.ticker.StrMethodFormatter('{x:,.0f} €'))\n",
    "_ = ax.set_xticklabels(\n",
    "    [f\"{float(l.get_text()):,.0f} €\" for l in ax.get_xticklabels()],\n",
    "    rotation=90,\n",
    "    size=15,\n",
    ")\n",
    "# _ = ax.bar_label(ax.containers[0])"
   ]
  },
  {
   "cell_type": "code",
   "execution_count": null,
   "id": "international-camcorder",
   "metadata": {},
   "outputs": [],
   "source": [
    "resultat_quantile_crds.errors"
   ]
  },
  {
   "cell_type": "code",
   "execution_count": null,
   "id": "1accd7bd-6245-4572-8ed5-1484a2876f75",
   "metadata": {},
   "outputs": [],
   "source": [
    "# Tests\n",
    "tc.assertGreater(\n",
    "    resultat_quantile_crds.result[\"base\"].state_budget[\"crds_salaire\"], 2_000_000_000\n",
    ")\n",
    "tc.assertLess(\n",
    "    resultat_quantile_crds.result[\"base\"].state_budget[\"crds_salaire\"], 5_000_000_000\n",
    ")\n",
    "tc.assertGreater(\n",
    "    resultat_quantile_crds.result[\"amendement\"].state_budget[\"crds_salaire\"],\n",
    "    11_000_000_000,\n",
    ")\n",
    "tc.assertLess(\n",
    "    resultat_quantile_crds.result[\"amendement\"].state_budget[\"crds_salaire\"],\n",
    "    13_000_000_000,\n",
    ")"
   ]
  },
  {
   "cell_type": "markdown",
   "id": "e44e07ad-b77a-4179-8766-712901aa99e5",
   "metadata": {},
   "source": [
    "## Debug Front"
   ]
  },
  {
   "cell_type": "code",
   "execution_count": null,
   "id": "11399990-24e9-408c-8061-42797322e2c5",
   "metadata": {},
   "outputs": [],
   "source": [
    "import json\n",
    "\n",
    "json_str = '{\"base\":2021,\"output_variables\":[\"assiette_csg_abattue\",\"assiette_csg_non_abattue\",\"csg_imposable_salaire\",\"csg_deductible_salaire\",\"csg_imposable_retraite\",\"csg_deductible_retraite\"],\"quantile_nb\":10,\"quantile_base_variable\":[\"assiette_csg_abattue\",\"assiette_csg_non_abattue\"],\"quantile_compare_variables\":[\"csg_imposable_salaire\",\"csg_deductible_salaire\",\"csg_imposable_retraite\",\"csg_deductible_retraite\"],\"plf\":2022}'\n",
    "reform_retraite = ReformeSocioFiscale.parse_obj(json.loads(json_str))\n",
    "resultat_retraite = compute_all_simulation(reform_retraite)"
   ]
  },
  {
   "cell_type": "code",
   "execution_count": null,
   "id": "072d269c-d2b6-4e5c-af46-1b3ead63e930",
   "metadata": {},
   "outputs": [],
   "source": [
    "resultat_retraite"
   ]
  },
  {
   "cell_type": "code",
   "execution_count": null,
   "id": "fef23b3a-9393-4311-95a3-b67ef4c8c130",
   "metadata": {},
   "outputs": [],
   "source": []
  },
  {
   "cell_type": "code",
   "execution_count": null,
   "id": "97d8b1e7-1957-4f41-b290-3d148c112672",
   "metadata": {},
   "outputs": [],
   "source": []
  },
  {
   "cell_type": "markdown",
   "id": "typical-lighter",
   "metadata": {},
   "source": [
    "## Réforme sous forme de barème"
   ]
  },
  {
   "cell_type": "code",
   "execution_count": null,
   "id": "naughty-wrapping",
   "metadata": {},
   "outputs": [],
   "source": [
    "_ = {\n",
    "    \"base\": 2021,\n",
    "    \"output_variables\": [\n",
    "        \"assiette_csg_abattue\",\n",
    "        \"csg_imposable_salaire\",\n",
    "        \"csg_deductible_salaire\",\n",
    "    ],\n",
    "    \"quantile_nb\": 10,\n",
    "    \"quantile_base_variable\": [\"assiette_csg_abattue\"],\n",
    "    \"quantile_compare_variables\": [\"csg_imposable_salaire\", \"csg_deductible_salaire\"],\n",
    "    \"amendement\": {\n",
    "        \"prelevements_sociaux.contributions_sociales.csg.activite.deductible.taux\": {\n",
    "            \"start\": \"2022-01-01\",\n",
    "            \"type\": \"parameter\",\n",
    "            \"value\": 0.068,\n",
    "        },\n",
    "        \"prelevements_sociaux.contributions_sociales.csg.activite.imposable.abattement\": {\n",
    "            \"scale\": [\n",
    "                {\"rate\": {\"value\": 0.0175}, \"threshold\": {\"value\": 0}},\n",
    "                {\"rate\": {\"value\": 0}, \"threshold\": {\"value\": 15}},\n",
    "            ],\n",
    "            \"start\": \"2022-01-01\",\n",
    "            \"type\": \"scale\",\n",
    "        },\n",
    "    },\n",
    "    \"plf\": 2022,\n",
    "}"
   ]
  },
  {
   "cell_type": "code",
   "execution_count": null,
   "id": "involved-defense",
   "metadata": {},
   "outputs": [],
   "source": [
    "reform_bareme = ReformeSocioFiscale(\n",
    "    base=2021,\n",
    "    plf=2022,\n",
    "    amendement={\n",
    "        \"prelevements_sociaux.contributions_sociales.csg.activite.deductible.taux\": {\n",
    "            \"start\": \"2022-01-01\",\n",
    "            \"type\": \"parameter\",\n",
    "            \"value\": 0.018,\n",
    "        },\n",
    "        \"prelevements_sociaux.contributions_sociales.csg.activite.imposable.abattement\": {\n",
    "            \"scale\": [\n",
    "                {\"rate\": {\"value\": 0.9}, \"threshold\": {\"value\": 0}},\n",
    "                {\"rate\": {\"value\": 0}, \"threshold\": {\"value\": 15}},\n",
    "            ],\n",
    "            \"start\": \"2022-01-01\",\n",
    "            \"type\": \"scale\",\n",
    "        },\n",
    "    },\n",
    "    output_variables=[\n",
    "        \"assiette_csg_abattue\",\n",
    "        \"csg_imposable_salaire\",\n",
    "        \"csg_deductible_salaire\",\n",
    "    ],\n",
    "    quantile_nb=10,\n",
    "    quantile_base_variable=[\"assiette_csg_abattue\"],\n",
    "    quantile_compare_variables=[\"csg_imposable_salaire\", \"csg_deductible_salaire\"],\n",
    ")"
   ]
  },
  {
   "cell_type": "code",
   "execution_count": null,
   "id": "terminal-selection",
   "metadata": {},
   "outputs": [],
   "source": [
    "reform_bareme"
   ]
  },
  {
   "cell_type": "code",
   "execution_count": null,
   "id": "artistic-brooklyn",
   "metadata": {},
   "outputs": [],
   "source": [
    "json_str = reform_bareme.json()"
   ]
  },
  {
   "cell_type": "code",
   "execution_count": null,
   "id": "awful-southeast",
   "metadata": {},
   "outputs": [],
   "source": [
    "import json\n",
    "\n",
    "ReformeSocioFiscale.parse_obj(json.loads(json_str))"
   ]
  },
  {
   "cell_type": "markdown",
   "id": "approximate-graph",
   "metadata": {},
   "source": [
    "### On lance la simulation"
   ]
  },
  {
   "cell_type": "code",
   "execution_count": null,
   "id": "2033bebd-c83d-411e-8c66-5f02525b1b6e",
   "metadata": {},
   "outputs": [],
   "source": [
    "log_run = True"
   ]
  },
  {
   "cell_type": "code",
   "execution_count": null,
   "id": "narrative-ancient",
   "metadata": {},
   "outputs": [],
   "source": [
    "%%time\n",
    "if log_run == True:\n",
    "    # cache.clear_cache()\n",
    "    resultat_bareme = compute_all_simulation(reform_bareme)"
   ]
  },
  {
   "cell_type": "code",
   "execution_count": null,
   "id": "attractive-assessment",
   "metadata": {},
   "outputs": [],
   "source": [
    "if log_run == True:\n",
    "    print_total_csg(resultat_bareme)"
   ]
  },
  {
   "cell_type": "code",
   "execution_count": null,
   "id": "alike-essay",
   "metadata": {},
   "outputs": [],
   "source": [
    "# resultat_bareme"
   ]
  },
  {
   "cell_type": "code",
   "execution_count": null,
   "id": "placed-radar",
   "metadata": {},
   "outputs": [],
   "source": [
    "if log_run == True:\n",
    "    variable = \"csg_imposable_salaire+csg_deductible_salaire\"\n",
    "    df_base = pd.DataFrame(resultat_bareme.result[\"base\"].quantiles)\n",
    "    df_plf = pd.DataFrame(resultat_bareme.result[\"plf\"].quantiles)\n",
    "    df_amendement = pd.DataFrame(resultat_bareme.result[\"amendement\"].quantiles)\n",
    "    df_base[\"plf\"] = df_plf[variable]\n",
    "    df_base[\"amendement\"] = df_amendement[variable]\n",
    "    df_base[\"avant\"] = df_base[variable]\n",
    "    df = df_base\n",
    "\n",
    "    df"
   ]
  },
  {
   "cell_type": "code",
   "execution_count": null,
   "id": "international-edward",
   "metadata": {},
   "outputs": [],
   "source": [
    "# On vérifie que la somme des quantiles est bien égale au total\n",
    "if log_run == True:\n",
    "    tc.assertEqual(\n",
    "        int(df.plf.sum()),\n",
    "        int(\n",
    "            resultat_bareme.result[\"plf\"].state_budget[\"csg_imposable_salaire\"]\n",
    "            + resultat_bareme.result[\"plf\"].state_budget[\"csg_deductible_salaire\"]\n",
    "        ),\n",
    "    )"
   ]
  },
  {
   "cell_type": "code",
   "execution_count": null,
   "id": "palestinian-middle",
   "metadata": {},
   "outputs": [],
   "source": [
    "if log_run == True:\n",
    "    df.plf.sum()"
   ]
  },
  {
   "cell_type": "markdown",
   "id": "valued-entrepreneur",
   "metadata": {},
   "source": [
    "### Graphique"
   ]
  },
  {
   "cell_type": "code",
   "execution_count": null,
   "id": "restricted-shoot",
   "metadata": {},
   "outputs": [],
   "source": [
    "if log_run == True:\n",
    "    ax = df.plot.bar(x=\"assiette_csg_abattue\", y=[\"avant\", \"plf\", \"amendement\"])\n",
    "    _ = ax.set_title(\n",
    "        \"Contribution total à la CSG des salariés par quantile d'assiette de CSG\",\n",
    "        size=20,\n",
    "    )\n",
    "    _ = ax.set_xlabel(\"Quantile d'assiette de CSG\")\n",
    "    _ = ax.set_ylabel(\"Montant de la CSG sur les salaires\")\n",
    "    _ = ax.yaxis.set_major_formatter(mpl.ticker.StrMethodFormatter(\"{x:,.0f} €\"))\n",
    "    _ = ax.set_xticklabels(\n",
    "        [f\"{float(l.get_text()):,.0f} €\" for l in ax.get_xticklabels()],\n",
    "        rotation=90,\n",
    "        size=15,\n",
    "    )"
   ]
  },
  {
   "cell_type": "markdown",
   "id": "demographic-albuquerque",
   "metadata": {},
   "source": [
    "## Test gestion d'erreur"
   ]
  },
  {
   "cell_type": "code",
   "execution_count": null,
   "id": "fossil-reggae",
   "metadata": {},
   "outputs": [],
   "source": [
    "reform_error = ReformeSocioFiscale(\n",
    "    base=2021,\n",
    "    plf=2021,\n",
    "    amendement={\n",
    "        \"prelevements_sociaux.contributions_sociales.csg.activite.imposable.taux\": 0.064,\n",
    "        \"prelevements_sociaux.contributions_sociales.csg.activite.deductible.taux\": 0.028,\n",
    "        \"prelevements_sociaux.contributions_sociales.csg.activite.deductible.abattement\": {\n",
    "            \"scale\": [\n",
    "                {\"rate\": {\"value\": 0.5}, \"threshold\": {\"value\": 0}},\n",
    "                {\"rate\": {\"value\": 0}, \"threshold\": {\"value\": 4}},\n",
    "            ],\n",
    "            \"start\": \"2021-01-01\",\n",
    "            \"type\": \"scale\",\n",
    "        },\n",
    "    },\n",
    "    output_variables=[\n",
    "        \"rfr\",\n",
    "        \"csg\",\n",
    "        \"csg_imposable_salaire\",\n",
    "        \"assiette_csg_abattue\",\n",
    "    ],\n",
    "    quantile_nb=10,\n",
    "    quantile_base_variable=[\"assiette_csg_abattue\"],\n",
    "    quantile_compare_variables=[\"rfr\", \"csg\", \"csg_imposable_salaire\"],\n",
    ")"
   ]
  },
  {
   "cell_type": "markdown",
   "id": "optical-seating",
   "metadata": {},
   "source": [
    "### On lance la simulation"
   ]
  },
  {
   "cell_type": "code",
   "execution_count": null,
   "id": "objective-breach",
   "metadata": {},
   "outputs": [],
   "source": [
    "# %%time\n",
    "resultat_error = compute_all_simulation(reform_error)"
   ]
  },
  {
   "cell_type": "code",
   "execution_count": null,
   "id": "precious-samba",
   "metadata": {},
   "outputs": [],
   "source": [
    "resultat_error"
   ]
  },
  {
   "cell_type": "code",
   "execution_count": null,
   "id": "caroline-member",
   "metadata": {},
   "outputs": [],
   "source": [
    "tc.assertIsNone(resultat_error.result)\n",
    "tc.assertTrue(\n",
    "    \"We can only compute quantiles on variables of same entity\"\n",
    "    in resultat_error.errors[0]\n",
    ")"
   ]
  },
  {
   "cell_type": "markdown",
   "id": "valid-longitude",
   "metadata": {},
   "source": [
    "## On prépare une réforme plus complexe\n",
    "\n",
    "```python\n",
    "all_csg = ['csg', 'csg_imposable_salaire', 'csg_deductible_salaire','csg_imposable_chomage','csg_deductible_chomage','csg_imposable_retraite', 'csg_deductible_retraite','csg_non_salarie', 'csg_revenus_capital']\n",
    "```"
   ]
  },
  {
   "cell_type": "code",
   "execution_count": null,
   "id": "impressive-convertible",
   "metadata": {},
   "outputs": [],
   "source": [
    "reform = ReformeSocioFiscale(\n",
    "    base=2018,\n",
    "    plf=2018,\n",
    "    amendement={\n",
    "        \"prelevements_sociaux.contributions_sociales.csg.activite.imposable.taux\": 0.064,\n",
    "        \"prelevements_sociaux.contributions_sociales.csg.activite.deductible.taux\": 0.028,\n",
    "    },\n",
    "    output_variables=[\n",
    "        \"csg\",\n",
    "        \"csg_imposable_salaire\",\n",
    "        \"csg_deductible_salaire\",\n",
    "        \"csg_imposable_chomage\",\n",
    "        \"csg_deductible_chomage\",\n",
    "        \"csg_imposable_retraite\",\n",
    "        \"csg_deductible_retraite\",\n",
    "        \"csg_non_salarie\",\n",
    "        \"assiette_csg_abattue\",\n",
    "    ],\n",
    "    quantile_nb=10,\n",
    "    quantile_base_variable=[\"assiette_csg_abattue\"],\n",
    "    quantile_compare_variables=[\n",
    "        \"csg\",\n",
    "        \"csg_imposable_salaire\",\n",
    "        \"csg_deductible_salaire\",\n",
    "        \"csg_imposable_chomage\",\n",
    "        \"csg_deductible_chomage\",\n",
    "        \"csg_imposable_retraite\",\n",
    "        \"csg_deductible_retraite\",\n",
    "        \"csg_non_salarie\",\n",
    "    ],\n",
    ")"
   ]
  },
  {
   "cell_type": "code",
   "execution_count": null,
   "id": "dental-worcester",
   "metadata": {},
   "outputs": [],
   "source": [
    "%%time\n",
    "\n",
    "if log_run == True:\n",
    "    resultat = compute_all_simulation(reform)"
   ]
  },
  {
   "cell_type": "code",
   "execution_count": null,
   "id": "arctic-acquisition",
   "metadata": {},
   "outputs": [],
   "source": [
    "# hide\n",
    "\n",
    "# Attention ce code plante dans Papermill\n",
    "\n",
    "\n",
    "# from IPython.display import JSON\n",
    "\n",
    "# JSON(resultat.json())"
   ]
  },
  {
   "cell_type": "code",
   "execution_count": null,
   "id": "suited-sacrifice",
   "metadata": {},
   "outputs": [],
   "source": [
    "def print_compare(variable_name, value, expected):\n",
    "    print(\n",
    "        f\"On trouve {value:,} € de {variable_name} alors qu'en 2019 c'était {expected:,} €, soit {(abs(expected-abs(value))/expected)*100}%\"\n",
    "    )"
   ]
  },
  {
   "cell_type": "code",
   "execution_count": null,
   "id": "tender-thunder",
   "metadata": {},
   "outputs": [],
   "source": [
    "# print_compare(\"CSG\", resultat.result[\"amendement\"].state_budget[\"csg\"], 126 * 1e9)\n",
    "# print_compare(\n",
    "#     \"CSG salaire\",\n",
    "#     resultat.result[\"amendement\"].state_budget[\"csg_imposable_salaire\"]\n",
    "#     + resultat.result[\"amendement\"].state_budget[\"csg_deductible_salaire\"],\n",
    "#     75_706_000_000,\n",
    "# )\n",
    "# print_compare(\n",
    "#     \"CSG chomage\",\n",
    "#     resultat.result[\"amendement\"].state_budget[\"csg_imposable_chomage\"]\n",
    "#     + resultat.result[\"amendement\"].state_budget[\"csg_deductible_chomage\"],\n",
    "#     22_836_000_000,\n",
    "# )\n",
    "# print_compare(\n",
    "#     \"CSG csg_revenus_capital\",\n",
    "#     resultat.result[\"amendement\"].state_budget[\"csg_revenus_capital\"],\n",
    "#     13_341_000_000,\n",
    "# )"
   ]
  },
  {
   "cell_type": "markdown",
   "id": "center-majority",
   "metadata": {},
   "source": [
    "Résultats attendus pour 2019 (vient du fichier agrégat IPP, venant de https://www.securite-sociale.fr/files/live/sites/SSFR/files/medias/CCSS/2019/CCSS_RAPPORT-SEPT2019-tome%201.pdf ) :\n",
    "- CSG revenus salariaux   75,706,000,000.00 €\n",
    "- CSG revenus non-salariaux  14,098,000,000.00 €\n",
    "- CSG revenus de remplacement  22,836,000,000.00 €\n",
    "- CSG revenus du capital  13,341,000,000.00 €\n",
    "\n",
    "Soit un total de 126 milliards d'Euros\n",
    "\n",
    "*TODO* : Comparer aux agrégats de POTE 2019"
   ]
  },
  {
   "cell_type": "markdown",
   "id": "chemical-decrease",
   "metadata": {},
   "source": [
    "# Problèmes\n",
    "\n",
    "- Il nous manque la CSG des revenus non-salariaux : 14 Mds\n",
    "- On est très mauvais sur le chômage : on a des millions alors qu'on devrait avoir des milliards !!!\n",
    "- On ne trouve que la moitié de la CSG des revenus du capital\n",
    "\n",
    "On n'a pas encore appliqué de correction de Pareto : c'est ce qu'il faut faire."
   ]
  },
  {
   "cell_type": "code",
   "execution_count": null,
   "id": "suffering-commercial",
   "metadata": {},
   "outputs": [],
   "source": [
    "# for v, m in resultat.result[\"base\"].state_budget.items():\n",
    "#     logger.info(f\"Montant total de {v} :\\t {m:,} €\")"
   ]
  },
  {
   "cell_type": "code",
   "execution_count": null,
   "id": "announced-handle",
   "metadata": {},
   "outputs": [],
   "source": [
    "print_memory()"
   ]
  },
  {
   "cell_type": "code",
   "execution_count": null,
   "id": "developed-reaction",
   "metadata": {},
   "outputs": [],
   "source": [
    "print(\n",
    "    f\"Temps d'exécution du Notebook, y compris les imports : {timeit.default_timer() - debut_global} s\"\n",
    ")"
   ]
  },
  {
   "cell_type": "markdown",
   "id": "awful-google",
   "metadata": {},
   "source": [
    "- Temps d'exécution du Notebook, y compris les imports sur PC Benoît, sans MemoryConfig : 60 secondes\n",
    "- Temps d'exécution du Notebook, y compris les imports sur PC Benoît, avec MemoryConfig : 67 secondes \n",
    "- Temps d'exécution du Notebook, y compris les imports sur PC Benoît, sans MemoryConfig si on ne réutilise plus create_simulation s'il existe déjà, on le refait à chaque fois. : 93 secondes"
   ]
  },
  {
   "cell_type": "code",
   "execution_count": null,
   "id": "becoming-ballot",
   "metadata": {},
   "outputs": [],
   "source": [
    "#!cd .. && make lib"
   ]
  }
 ],
 "metadata": {
  "kernelspec": {
   "display_name": "leximpact-socio-fiscal-simu-etat-kernel",
   "language": "python",
   "name": "leximpact-socio-fiscal-simu-etat-kernel"
  },
  "language_info": {
   "codemirror_mode": {
    "name": "ipython",
    "version": 3
   },
   "file_extension": ".py",
   "mimetype": "text/x-python",
   "name": "python",
   "nbconvert_exporter": "python",
   "pygments_lexer": "ipython3",
   "version": "3.9.5"
  }
 },
 "nbformat": 4,
 "nbformat_minor": 5
}
