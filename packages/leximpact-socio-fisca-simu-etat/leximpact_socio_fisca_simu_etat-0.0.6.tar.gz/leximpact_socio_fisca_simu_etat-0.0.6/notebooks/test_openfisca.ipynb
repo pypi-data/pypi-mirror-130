{
 "cells": [
  {
   "cell_type": "markdown",
   "id": "994d00ea-97e2-4116-a10c-fcfaaba08a5e",
   "metadata": {},
   "source": [
    "# Test a reform with Open Fisca"
   ]
  },
  {
   "cell_type": "code",
   "execution_count": 1,
   "id": "e0064bbc-9232-4909-bb37-16c76efb261b",
   "metadata": {},
   "outputs": [],
   "source": [
    "# Activate multi-output in notebook\n",
    "from IPython.core.interactiveshell import InteractiveShell\n",
    "\n",
    "InteractiveShell.ast_node_interactivity = \"all\""
   ]
  },
  {
   "cell_type": "code",
   "execution_count": 2,
   "id": "ed993701-da0e-41da-8510-82bd19a0936e",
   "metadata": {},
   "outputs": [],
   "source": [
    "import unittest\n",
    "\n",
    "import numpy as np\n",
    "from openfisca_core import periods  # type: ignore\n",
    "from openfisca_core.parameters import ParameterAtInstant, ParameterNode  # type: ignore\n",
    "from openfisca_core.periods import instant\n",
    "from openfisca_core.simulation_builder import SimulationBuilder\n",
    "from openfisca_core.tools import assert_near\n",
    "from openfisca_france import FranceTaxBenefitSystem  # type: ignore\n",
    "from openfisca_france.model.base import Reform  # type: ignore\n",
    "\n",
    "from leximpact_socio_fisca_simu_etat.logger import logger\n",
    "\n",
    "tc = unittest.TestCase()\n",
    "from typing import Dict, List"
   ]
  },
  {
   "cell_type": "markdown",
   "id": "0d16c38f-307a-496d-81d6-c10b919f0985",
   "metadata": {},
   "source": [
    "## Basic OpenFisca reform test"
   ]
  },
  {
   "cell_type": "code",
   "execution_count": 3,
   "id": "b75dc97f-f22b-4063-81c9-fa49a1c58d95",
   "metadata": {},
   "outputs": [
    {
     "data": {
      "text/plain": [
       "array([-491.25], dtype=float32)"
      ]
     },
     "execution_count": 3,
     "metadata": {},
     "output_type": "execute_result"
    }
   ],
   "source": [
    "# Define a reform\n",
    "def modifier(parameters):\n",
    "    reform_period = periods.period(\n",
    "        \"year:1900:200\"\n",
    "    )  # Force the new value from 1900 to 2100.\n",
    "    parameters.prelevements_sociaux.contributions_sociales.csg.activite.imposable.taux.update(\n",
    "        start=reform_period.start, value=0.5\n",
    "    )\n",
    "    return parameters\n",
    "\n",
    "\n",
    "class OurReforme(Reform):\n",
    "    def apply(self):\n",
    "        self.modify_parameters(modifier_function=modifier)\n",
    "\n",
    "\n",
    "# Compute reform\n",
    "period = \"2022-01\"\n",
    "legislation_reforme = OurReforme(FranceTaxBenefitSystem())\n",
    "sb = SimulationBuilder()\n",
    "simulation = sb.build_default_simulation(legislation_reforme, count=1)\n",
    "simulation.set_input(\"salaire_de_base\", period, np.array([1_000]))\n",
    "csg_deductible_salaire = simulation.calculate(\"csg_imposable_salaire\", period)\n",
    "csg_deductible_salaire"
   ]
  },
  {
   "cell_type": "code",
   "execution_count": 4,
   "id": "3123e919-c0dd-4a8b-ac8a-3d1a471f68eb",
   "metadata": {},
   "outputs": [],
   "source": [
    "# Assert that result is equal to (salary - 1.75%) - 50%\n",
    "tc.assertEqual(csg_deductible_salaire[0], -1_000 * (1 - 0.0175) * 0.5)"
   ]
  },
  {
   "cell_type": "markdown",
   "id": "ef8bddb3-4560-4943-abd1-73d8dfca91a2",
   "metadata": {},
   "source": [
    "## More complex reform\n",
    "\n",
    "### Define parameters"
   ]
  },
  {
   "cell_type": "code",
   "execution_count": 5,
   "id": "ad1024c0-0ae9-4492-b0a2-892e0aa1640c",
   "metadata": {},
   "outputs": [],
   "source": [
    "csg_deductible_new = 0.9\n",
    "csg_abattement = 0.03\n",
    "PFSS = 3_428\n",
    "nb_pfss = 4\n",
    "salaires_de_base = np.array([1000, 3 * PFSS, 4 * PFSS - 1, 4 * PFSS, 4 * PFSS + 1])\n",
    "period = \"2022\""
   ]
  },
  {
   "cell_type": "markdown",
   "id": "c926045b-f6fd-4fb3-8924-871efcbdab81",
   "metadata": {},
   "source": [
    "## Compute the values before the reform"
   ]
  },
  {
   "cell_type": "code",
   "execution_count": 6,
   "id": "421e95d5-7c28-4529-8549-885927b55154",
   "metadata": {},
   "outputs": [
    {
     "name": "stdout",
     "output_type": "stream",
     "text": [
      "prelevements_sociaux.contributions_sociales.csg.activite.deductible.taux=0.068\n",
      "prelevements_sociaux.contributions_sociales.csg.activite.imposable.taux=0.024\n"
     ]
    }
   ],
   "source": [
    "print(\n",
    "    f\"prelevements_sociaux.contributions_sociales.csg.activite.deductible.taux={FranceTaxBenefitSystem().parameters(period).prelevements_sociaux.contributions_sociales.csg.activite.deductible.taux}\"\n",
    ")\n",
    "print(\n",
    "    f\"prelevements_sociaux.contributions_sociales.csg.activite.imposable.taux={FranceTaxBenefitSystem().parameters(period).prelevements_sociaux.contributions_sociales.csg.activite.imposable.taux}\"\n",
    ")"
   ]
  },
  {
   "cell_type": "code",
   "execution_count": 7,
   "id": "4524b701-cae6-41a5-88ff-97a38b0dd8d9",
   "metadata": {},
   "outputs": [
    {
     "name": "stdout",
     "output_type": "stream",
     "text": [
      "assiette_csg_abattue [  999.99994 10284.      13710.999   13712.001   13713.     ]\n",
      "csg_imposable_salaire [ -23.579521 -242.49603  -323.30402  -323.32797  -323.352   ]\n",
      "csg_deductible_salaire [ -66.80864 -687.07196 -916.02814 -916.0959  -916.1639 ]\n",
      "csg avant [  -90.38816  -929.568   -1239.3322  -1239.4238  -1239.5159 ]\n"
     ]
    }
   ],
   "source": [
    "tbs = FranceTaxBenefitSystem()\n",
    "\n",
    "sb = SimulationBuilder()\n",
    "simulation = sb.build_default_simulation(\n",
    "    FranceTaxBenefitSystem(), count=len(salaires_de_base)\n",
    ")\n",
    "\n",
    "simulation.set_input(\"salaire_de_base\", period, salaires_de_base)\n",
    "\n",
    "assiette_csg_abattue = simulation.calculate_add(\"assiette_csg_abattue\", period)\n",
    "\n",
    "print(\"assiette_csg_abattue\", assiette_csg_abattue)\n",
    "\n",
    "print(\n",
    "    \"csg_imposable_salaire\", simulation.calculate_add(\"csg_imposable_salaire\", period)\n",
    ")\n",
    "print(\n",
    "    \"csg_deductible_salaire\", simulation.calculate_add(\"csg_deductible_salaire\", period)\n",
    ")\n",
    "csg_avant = simulation.calculate_add(\"csg\", \"2022\")\n",
    "print(\"csg avant\", csg_avant)\n",
    "assert_near(\n",
    "    csg_avant,\n",
    "    [-90.39, -929.57074, -1239.3375, -1239.4276, -1239.5198],\n",
    "    absolute_error_margin=0.01,\n",
    ")"
   ]
  },
  {
   "cell_type": "markdown",
   "id": "1c895ded-2d30-4394-99ba-74a40c08edd1",
   "metadata": {},
   "source": [
    "### Verify that the returned values are good\n",
    "\n",
    "Here we manually compute the formula of CSG tax on salary to verify the result"
   ]
  },
  {
   "cell_type": "code",
   "execution_count": 8,
   "id": "22e041b3-61f4-4360-bb28-6ab4f9a22193",
   "metadata": {},
   "outputs": [],
   "source": [
    "expected = []\n",
    "for salaire in salaires_de_base:\n",
    "    if salaire >= nb_pfss * PFSS:\n",
    "        csg = -(nb_pfss * PFSS * (1 - 0.0175)) * (0.068 + 0.024)\n",
    "        csg += -(salaire - PFSS * nb_pfss) * (0.068 + 0.024)\n",
    "    else:\n",
    "        csg = -(salaire * (1 - 0.0175)) * (0.068 + 0.024)\n",
    "    expected.append(csg)\n",
    "assert_near(csg_avant, expected, absolute_error_margin=0.01)"
   ]
  },
  {
   "cell_type": "markdown",
   "id": "3f302efc-78b5-4954-9601-edf482c8cb6c",
   "metadata": {},
   "source": [
    "## Import reform updater from leximpact_socio_fisca_simu_etat\n",
    "\n",
    "This class CustomReform allow to input parameters changes using Open Fisca formalism."
   ]
  },
  {
   "cell_type": "code",
   "execution_count": 9,
   "id": "7c8c8f3d-b27a-4537-b3d4-51f1662c37d8",
   "metadata": {},
   "outputs": [
    {
     "name": "stderr",
     "output_type": "stream",
     "text": [
      "[leximpact_socio-fisca-simu-etat DEBUG @ 14:52:32] Connecting to Redis None:6379\n",
      "[leximpact_socio-fisca-simu-etat WARNING @ 14:52:32] Unable to connect to Redis cache : Error 111 connecting to None:6379. Connection refused.\n"
     ]
    }
   ],
   "source": [
    "from leximpact_socio_fisca_simu_etat.csg_simu import CustomReform\n",
    "from leximpact_socio_fisca_simu_etat.schema import (\n",
    "    AllSimulationResult,\n",
    "    OneSimulationResult,\n",
    "    ReformeSocioFiscale,\n",
    ")"
   ]
  },
  {
   "cell_type": "markdown",
   "id": "d116ca36-5983-4676-885b-9d90b49bf0be",
   "metadata": {},
   "source": [
    "## Define the reforms"
   ]
  },
  {
   "cell_type": "code",
   "execution_count": 10,
   "id": "ba2d46e4-974f-4e5f-85aa-b1722dd529b6",
   "metadata": {},
   "outputs": [],
   "source": [
    "reform_bareme_apres = ReformeSocioFiscale(\n",
    "    base=2021,\n",
    "    plf=2022,\n",
    "    amendement={\n",
    "        \"prelevements_sociaux.contributions_sociales.csg.activite.deductible.taux\": {\n",
    "            \"start\": \"2021-09-01\",\n",
    "            \"type\": \"parameter\",\n",
    "            \"value\": csg_deductible_new,\n",
    "        },\n",
    "        \"prelevements_sociaux.contributions_sociales.csg.activite.imposable.abattement\": {\n",
    "            \"scale\": [\n",
    "                {\"rate\": {\"value\": csg_abattement}, \"threshold\": {\"value\": 0}},\n",
    "                {\"rate\": {\"value\": 0}, \"threshold\": {\"value\": nb_pfss}},\n",
    "            ],\n",
    "            \"start\": \"2020-09-01\",\n",
    "            \"type\": \"scale\",\n",
    "        },\n",
    "        \"prelevements_sociaux.contributions_sociales.csg.activite.deductible.abattement\": {\n",
    "            \"scale\": [\n",
    "                {\"rate\": {\"value\": csg_abattement}, \"threshold\": {\"value\": 0}},\n",
    "                {\"rate\": {\"value\": 0}, \"threshold\": {\"value\": nb_pfss}},\n",
    "            ],\n",
    "            \"start\": \"2020-09-01\",\n",
    "            \"type\": \"scale\",\n",
    "        },\n",
    "    },\n",
    "    output_variables=[],\n",
    ")"
   ]
  },
  {
   "cell_type": "markdown",
   "id": "d19668e5-6dc8-438b-8af3-bff394357eb4",
   "metadata": {},
   "source": [
    "## Apply the reform to the FranceTaxBenefitSystem"
   ]
  },
  {
   "cell_type": "code",
   "execution_count": 11,
   "id": "c465e3cd-4bb6-42a4-9af6-18b24377b253",
   "metadata": {},
   "outputs": [],
   "source": [
    "ma_reforme_apres = CustomReform(FranceTaxBenefitSystem(), reform_bareme_apres, period)"
   ]
  },
  {
   "cell_type": "markdown",
   "id": "c70865b7-1a05-4371-8495-184789cf253f",
   "metadata": {},
   "source": [
    "### Verify the parameters values"
   ]
  },
  {
   "cell_type": "code",
   "execution_count": 12,
   "id": "ceb23532-841e-4bba-9a4e-78799bd363f7",
   "metadata": {},
   "outputs": [
    {
     "name": "stdout",
     "output_type": "stream",
     "text": [
      "prelevements_sociaux.contributions_sociales.csg.activite.deductible.taux=0.9\n",
      "prelevements_sociaux.contributions_sociales.csg.activite.imposable.taux=0.024\n"
     ]
    }
   ],
   "source": [
    "print(\n",
    "    f\"prelevements_sociaux.contributions_sociales.csg.activite.deductible.taux={ma_reforme_apres.parameters('2022').prelevements_sociaux.contributions_sociales.csg.activite.deductible.taux}\"\n",
    ")\n",
    "print(\n",
    "    f\"prelevements_sociaux.contributions_sociales.csg.activite.imposable.taux={ma_reforme_apres.parameters('2022').prelevements_sociaux.contributions_sociales.csg.activite.imposable.taux}\"\n",
    ")\n",
    "\n",
    "# ma_reforme_apres.parameters(\n",
    "#     \"2020-09\"\n",
    "# ).prelevements_sociaux.contributions_sociales.csg.activite.imposable.abattement\n",
    "\n",
    "tc.assertEqual(\n",
    "    ma_reforme_apres.parameters(\n",
    "        \"2022\"\n",
    "    ).prelevements_sociaux.contributions_sociales.csg.activite.deductible.taux,\n",
    "    csg_deductible_new,\n",
    ")\n",
    "\n",
    "tc.assertEqual(\n",
    "    ma_reforme_apres.parameters(\n",
    "        \"2022\"\n",
    "    ).prelevements_sociaux.contributions_sociales.csg.activite.imposable.abattement.rates[\n",
    "        0\n",
    "    ],\n",
    "    csg_abattement,\n",
    ")"
   ]
  },
  {
   "cell_type": "markdown",
   "id": "0c69c6bf-6f60-4ac2-82e9-2e1b2994a8c6",
   "metadata": {},
   "source": [
    "## Compute the values after the reform"
   ]
  },
  {
   "cell_type": "code",
   "execution_count": 13,
   "id": "7ed92c6e-e103-4eda-a021-24b338e9ca26",
   "metadata": {},
   "outputs": [
    {
     "name": "stdout",
     "output_type": "stream",
     "text": [
      "assiette_csg_abattue [  999.99994 10284.      13710.999   13712.001   13713.     ]\n",
      "csg_imposable_salaire [ -23.280005 -239.41151  -319.1913   -319.21533  -319.2393  ]\n",
      "csg_deductible_salaire [  -873.     -8977.933 -11969.676 -11970.575 -11971.476]\n",
      "\n",
      "csg avant [  -90.38816  -929.568   -1239.3322  -1239.4238  -1239.5159 ]\n",
      "csg apres [  -896.28   -9217.344 -12288.867 -12289.791 -12290.715]\n"
     ]
    }
   ],
   "source": [
    "sb = SimulationBuilder()\n",
    "simulation = sb.build_default_simulation(ma_reforme_apres, count=len(salaires_de_base))\n",
    "# activate the trace\n",
    "simulation.trace = True\n",
    "simulation.set_input(\"salaire_de_base\", period, salaires_de_base)\n",
    "\n",
    "\n",
    "assiette_csg_abattue = simulation.calculate_add(\"assiette_csg_abattue\", period)\n",
    "\n",
    "print(\"assiette_csg_abattue\", assiette_csg_abattue)\n",
    "print(\n",
    "    \"csg_imposable_salaire\", simulation.calculate_add(\"csg_imposable_salaire\", period)\n",
    ")\n",
    "print(\n",
    "    \"csg_deductible_salaire\", simulation.calculate_add(\"csg_deductible_salaire\", period)\n",
    ")\n",
    "csg_apres = simulation.calculate_add(\"csg\", \"2022\")\n",
    "\n",
    "print(\"\\ncsg avant\", csg_avant)\n",
    "print(\"csg apres\", csg_apres)\n",
    "\n",
    "\n",
    "# print calculation steps\n",
    "# simulation.tracer.print_computation_log()"
   ]
  },
  {
   "cell_type": "markdown",
   "id": "d67d20de-fa06-4786-b6a2-04744c3e859b",
   "metadata": {},
   "source": [
    "### Verify that the returned values for the reform are good"
   ]
  },
  {
   "cell_type": "code",
   "execution_count": 14,
   "id": "df7ea859-7a93-4f06-a528-8005d6c48fb7",
   "metadata": {},
   "outputs": [],
   "source": [
    "expected = []\n",
    "for salaire in salaires_de_base:\n",
    "    if salaire >= nb_pfss * PFSS:\n",
    "        csg = -(nb_pfss * PFSS * (1 - csg_abattement)) * (csg_deductible_new + 0.024)\n",
    "        csg += -(salaire - PFSS * nb_pfss) * (csg_deductible_new + 0.024)\n",
    "    else:\n",
    "        csg = -(salaire * (1 - csg_abattement)) * (csg_deductible_new + 0.024)\n",
    "    expected.append(csg)\n",
    "assert_near(csg_apres, expected, absolute_error_margin=0.9)"
   ]
  }
 ],
 "metadata": {
  "kernelspec": {
   "display_name": "leximpact-socio-fiscal-simu-etat-kernel",
   "language": "python",
   "name": "leximpact-socio-fiscal-simu-etat-kernel"
  },
  "language_info": {
   "codemirror_mode": {
    "name": "ipython",
    "version": 3
   },
   "file_extension": ".py",
   "mimetype": "text/x-python",
   "name": "python",
   "nbconvert_exporter": "python",
   "pygments_lexer": "ipython3",
   "version": "3.8.10"
  }
 },
 "nbformat": 4,
 "nbformat_minor": 5
}
