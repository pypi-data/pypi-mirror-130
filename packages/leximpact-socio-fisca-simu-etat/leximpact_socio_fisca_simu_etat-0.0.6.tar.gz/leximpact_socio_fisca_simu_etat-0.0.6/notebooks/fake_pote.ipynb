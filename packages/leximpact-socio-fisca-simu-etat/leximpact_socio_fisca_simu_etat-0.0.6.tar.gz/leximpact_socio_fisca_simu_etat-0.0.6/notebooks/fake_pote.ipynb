{
 "cells": [
  {
   "cell_type": "markdown",
   "id": "increasing-enforcement",
   "metadata": {},
   "source": [
    "# Data playground : fake data and deciles"
   ]
  },
  {
   "cell_type": "code",
   "execution_count": null,
   "id": "therapeutic-bones",
   "metadata": {},
   "outputs": [],
   "source": [
    "# Activate multi-output in notebook\n",
    "from IPython.core.interactiveshell import InteractiveShell\n",
    "\n",
    "InteractiveShell.ast_node_interactivity = \"all\""
   ]
  },
  {
   "cell_type": "code",
   "execution_count": null,
   "id": "narrative-candy",
   "metadata": {},
   "outputs": [],
   "source": [
    "# import numpy\n",
    "import matplotlib.pyplot as plt\n",
    "import numpy as np\n",
    "import pandas as pd"
   ]
  },
  {
   "cell_type": "markdown",
   "id": "nutritional-project",
   "metadata": {},
   "source": [
    "## Generate fake data"
   ]
  },
  {
   "cell_type": "code",
   "execution_count": null,
   "id": "spoken-joseph",
   "metadata": {},
   "outputs": [],
   "source": [
    "def get_random_data(nb_values: int, nb_zeros: int):\n",
    "    zeros = np.zeros((nb_zeros,))\n",
    "    # Using numpy.random.pareto() method\n",
    "    pareto = np.random.pareto(12.45, nb_values) * 1e7\n",
    "    return np.concatenate((zeros, pareto), axis=0)"
   ]
  },
  {
   "cell_type": "code",
   "execution_count": null,
   "id": "electoral-subsection",
   "metadata": {},
   "outputs": [],
   "source": [
    "nb_riche = 10_000\n",
    "nb_moyen = 40_000\n",
    "nb_pauvre = 20_000\n",
    "\n",
    "# nb_riche = 10\n",
    "# nb_moyen = 40\n",
    "# nb_pauvre = 20"
   ]
  },
  {
   "cell_type": "code",
   "execution_count": null,
   "id": "going-lancaster",
   "metadata": {},
   "outputs": [
    {
     "data": {
      "image/png": "[encoded data removed]",
      "text/plain": [
       "<Figure size 432x288 with 1 Axes>"
      ]
     },
     "metadata": {
      "needs_background": "light"
     },
     "output_type": "display_data"
    }
   ],
   "source": [
    "rfr = get_random_data(nb_riche + nb_moyen, nb_pauvre)\n",
    "count, bins, ignored = plt.hist(rfr, 14, density=True)\n",
    "plt.show()"
   ]
  },
  {
   "cell_type": "code",
   "execution_count": null,
   "id": "mineral-qatar",
   "metadata": {},
   "outputs": [
    {
     "data": {
      "text/plain": [
       "(70000,)"
      ]
     },
     "execution_count": null,
     "metadata": {},
     "output_type": "execute_result"
    }
   ],
   "source": [
    "rfr.shape"
   ]
  },
  {
   "cell_type": "code",
   "execution_count": null,
   "id": "surface-monroe",
   "metadata": {},
   "outputs": [
    {
     "data": {
      "text/plain": [
       "11175219.534386259"
      ]
     },
     "execution_count": null,
     "metadata": {},
     "output_type": "execute_result"
    }
   ],
   "source": [
    "rfr.max()"
   ]
  },
  {
   "cell_type": "code",
   "execution_count": null,
   "id": "subjective-semester",
   "metadata": {},
   "outputs": [],
   "source": [
    "rk = get_random_data(nb_riche, nb_moyen + nb_pauvre)\n",
    "df = pd.DataFrame({\"rfr\": rfr, \"rk\": rk})"
   ]
  },
  {
   "cell_type": "code",
   "execution_count": null,
   "id": "rocky-debut",
   "metadata": {},
   "outputs": [
    {
     "data": {
      "text/html": [
       "<div>\n",
       "<style scoped>\n",
       "    .dataframe tbody tr th:only-of-type {\n",
       "        vertical-align: middle;\n",
       "    }\n",
       "\n",
       "    .dataframe tbody tr th {\n",
       "        vertical-align: top;\n",
       "    }\n",
       "\n",
       "    .dataframe thead th {\n",
       "        text-align: right;\n",
       "    }\n",
       "</style>\n",
       "<table border=\"1\" class=\"dataframe\">\n",
       "  <thead>\n",
       "    <tr style=\"text-align: right;\">\n",
       "      <th></th>\n",
       "      <th>rfr</th>\n",
       "      <th>rk</th>\n",
       "    </tr>\n",
       "  </thead>\n",
       "  <tbody>\n",
       "    <tr>\n",
       "      <th>0</th>\n",
       "      <td>0.000000e+00</td>\n",
       "      <td>0.000000e+00</td>\n",
       "    </tr>\n",
       "    <tr>\n",
       "      <th>1</th>\n",
       "      <td>0.000000e+00</td>\n",
       "      <td>0.000000e+00</td>\n",
       "    </tr>\n",
       "    <tr>\n",
       "      <th>2</th>\n",
       "      <td>0.000000e+00</td>\n",
       "      <td>0.000000e+00</td>\n",
       "    </tr>\n",
       "    <tr>\n",
       "      <th>3</th>\n",
       "      <td>0.000000e+00</td>\n",
       "      <td>0.000000e+00</td>\n",
       "    </tr>\n",
       "    <tr>\n",
       "      <th>4</th>\n",
       "      <td>0.000000e+00</td>\n",
       "      <td>0.000000e+00</td>\n",
       "    </tr>\n",
       "    <tr>\n",
       "      <th>...</th>\n",
       "      <td>...</td>\n",
       "      <td>...</td>\n",
       "    </tr>\n",
       "    <tr>\n",
       "      <th>69995</th>\n",
       "      <td>5.904367e+05</td>\n",
       "      <td>2.629471e+04</td>\n",
       "    </tr>\n",
       "    <tr>\n",
       "      <th>69996</th>\n",
       "      <td>9.945227e+03</td>\n",
       "      <td>1.397098e+06</td>\n",
       "    </tr>\n",
       "    <tr>\n",
       "      <th>69997</th>\n",
       "      <td>2.281299e+06</td>\n",
       "      <td>1.446328e+02</td>\n",
       "    </tr>\n",
       "    <tr>\n",
       "      <th>69998</th>\n",
       "      <td>1.962324e+06</td>\n",
       "      <td>5.892312e+05</td>\n",
       "    </tr>\n",
       "    <tr>\n",
       "      <th>69999</th>\n",
       "      <td>6.506282e+04</td>\n",
       "      <td>3.857672e+05</td>\n",
       "    </tr>\n",
       "  </tbody>\n",
       "</table>\n",
       "<p>70000 rows × 2 columns</p>\n",
       "</div>"
      ],
      "text/plain": [
       "                rfr            rk\n",
       "0      0.000000e+00  0.000000e+00\n",
       "1      0.000000e+00  0.000000e+00\n",
       "2      0.000000e+00  0.000000e+00\n",
       "3      0.000000e+00  0.000000e+00\n",
       "4      0.000000e+00  0.000000e+00\n",
       "...             ...           ...\n",
       "69995  5.904367e+05  2.629471e+04\n",
       "69996  9.945227e+03  1.397098e+06\n",
       "69997  2.281299e+06  1.446328e+02\n",
       "69998  1.962324e+06  5.892312e+05\n",
       "69999  6.506282e+04  3.857672e+05\n",
       "\n",
       "[70000 rows x 2 columns]"
      ]
     },
     "execution_count": null,
     "metadata": {},
     "output_type": "execute_result"
    }
   ],
   "source": [
    "df"
   ]
  },
  {
   "cell_type": "code",
   "execution_count": null,
   "id": "convertible-provider",
   "metadata": {},
   "outputs": [
    {
     "data": {
      "text/plain": [
       "0              (-0.001, 294562.119]\n",
       "1              (-0.001, 294562.119]\n",
       "2              (-0.001, 294562.119]\n",
       "3              (-0.001, 294562.119]\n",
       "4              (-0.001, 294562.119]\n",
       "                    ...            \n",
       "69995      (294562.119, 876949.304]\n",
       "69996          (-0.001, 294562.119]\n",
       "69997    (876949.304, 11175219.534]\n",
       "69998    (876949.304, 11175219.534]\n",
       "69999          (-0.001, 294562.119]\n",
       "Name: rfr, Length: 70000, dtype: category\n",
       "Categories (3, interval[float64]): [(-0.001, 294562.119] < (294562.119, 876949.304] < (876949.304, 11175219.534]]"
      ]
     },
     "execution_count": null,
     "metadata": {},
     "output_type": "execute_result"
    }
   ],
   "source": [
    "pd.qcut(df[\"rfr\"], q=10, duplicates=\"drop\")"
   ]
  },
  {
   "cell_type": "code",
   "execution_count": null,
   "id": "square-relay",
   "metadata": {},
   "outputs": [
    {
     "name": "stdout",
     "output_type": "stream",
     "text": [
      "0\n",
      "1\n",
      "2\n",
      "3\n",
      "4\n",
      "5\n",
      "6\n",
      "7\n",
      "8\n",
      "9\n"
     ]
    },
    {
     "data": {
      "text/plain": [
       "[0.1,\n",
       " 0.2,\n",
       " 0.30000000000000004,\n",
       " 0.4,\n",
       " 0.5,\n",
       " 0.6000000000000001,\n",
       " 0.7000000000000001,\n",
       " 0.8,\n",
       " 0.9,\n",
       " 1.0]"
      ]
     },
     "execution_count": null,
     "metadata": {},
     "output_type": "execute_result"
    }
   ],
   "source": [
    "nb_deciles = 10\n",
    "decile_fraction = []\n",
    "for i in range(nb_deciles):\n",
    "    print(i)\n",
    "    decile_fraction.append((1 / nb_deciles) * (i + 1))\n",
    "decile_fraction"
   ]
  },
  {
   "cell_type": "code",
   "execution_count": null,
   "id": "finnish-individual",
   "metadata": {},
   "outputs": [
    {
     "data": {
      "text/html": [
       "<div>\n",
       "<style scoped>\n",
       "    .dataframe tbody tr th:only-of-type {\n",
       "        vertical-align: middle;\n",
       "    }\n",
       "\n",
       "    .dataframe tbody tr th {\n",
       "        vertical-align: top;\n",
       "    }\n",
       "\n",
       "    .dataframe thead th {\n",
       "        text-align: right;\n",
       "    }\n",
       "</style>\n",
       "<table border=\"1\" class=\"dataframe\">\n",
       "  <thead>\n",
       "    <tr style=\"text-align: right;\">\n",
       "      <th></th>\n",
       "      <th>rfr</th>\n",
       "      <th>rk</th>\n",
       "    </tr>\n",
       "  </thead>\n",
       "  <tbody>\n",
       "    <tr>\n",
       "      <th>0.1</th>\n",
       "      <td>0.000000e+00</td>\n",
       "      <td>0.000000e+00</td>\n",
       "    </tr>\n",
       "    <tr>\n",
       "      <th>0.2</th>\n",
       "      <td>0.000000e+00</td>\n",
       "      <td>5.530501e+04</td>\n",
       "    </tr>\n",
       "    <tr>\n",
       "      <th>0.3</th>\n",
       "      <td>0.000000e+00</td>\n",
       "      <td>1.628189e+05</td>\n",
       "    </tr>\n",
       "    <tr>\n",
       "      <th>0.4</th>\n",
       "      <td>0.000000e+00</td>\n",
       "      <td>2.908089e+05</td>\n",
       "    </tr>\n",
       "    <tr>\n",
       "      <th>0.5</th>\n",
       "      <td>0.000000e+00</td>\n",
       "      <td>4.419479e+05</td>\n",
       "    </tr>\n",
       "    <tr>\n",
       "      <th>0.6</th>\n",
       "      <td>0.000000e+00</td>\n",
       "      <td>6.293141e+05</td>\n",
       "    </tr>\n",
       "    <tr>\n",
       "      <th>0.7</th>\n",
       "      <td>0.000000e+00</td>\n",
       "      <td>8.822315e+05</td>\n",
       "    </tr>\n",
       "    <tr>\n",
       "      <th>0.8</th>\n",
       "      <td>2.945621e+05</td>\n",
       "      <td>1.248045e+06</td>\n",
       "    </tr>\n",
       "    <tr>\n",
       "      <th>0.9</th>\n",
       "      <td>8.769493e+05</td>\n",
       "      <td>1.881363e+06</td>\n",
       "    </tr>\n",
       "    <tr>\n",
       "      <th>1.0</th>\n",
       "      <td>1.117522e+07</td>\n",
       "      <td>1.472595e+07</td>\n",
       "    </tr>\n",
       "  </tbody>\n",
       "</table>\n",
       "</div>"
      ],
      "text/plain": [
       "              rfr            rk\n",
       "0.1  0.000000e+00  0.000000e+00\n",
       "0.2  0.000000e+00  5.530501e+04\n",
       "0.3  0.000000e+00  1.628189e+05\n",
       "0.4  0.000000e+00  2.908089e+05\n",
       "0.5  0.000000e+00  4.419479e+05\n",
       "0.6  0.000000e+00  6.293141e+05\n",
       "0.7  0.000000e+00  8.822315e+05\n",
       "0.8  2.945621e+05  1.248045e+06\n",
       "0.9  8.769493e+05  1.881363e+06\n",
       "1.0  1.117522e+07  1.472595e+07"
      ]
     },
     "execution_count": null,
     "metadata": {},
     "output_type": "execute_result"
    }
   ],
   "source": [
    "deciles = df.quantile(decile_fraction)\n",
    "deciles"
   ]
  },
  {
   "cell_type": "code",
   "execution_count": null,
   "id": "martial-carry",
   "metadata": {},
   "outputs": [
    {
     "data": {
      "text/plain": [
       "0.0"
      ]
     },
     "execution_count": null,
     "metadata": {},
     "output_type": "execute_result"
    },
    {
     "data": {
      "text/plain": [
       "11175219.534386259"
      ]
     },
     "execution_count": null,
     "metadata": {},
     "output_type": "execute_result"
    },
    {
     "data": {
      "text/plain": [
       "0.0"
      ]
     },
     "execution_count": null,
     "metadata": {},
     "output_type": "execute_result"
    },
    {
     "data": {
      "text/plain": [
       "14725948.448334796"
      ]
     },
     "execution_count": null,
     "metadata": {},
     "output_type": "execute_result"
    }
   ],
   "source": [
    "df.rfr.min()\n",
    "df.rfr.max()\n",
    "\n",
    "df.rk.min()\n",
    "df.rk.max()"
   ]
  },
  {
   "cell_type": "code",
   "execution_count": null,
   "id": "skilled-murder",
   "metadata": {},
   "outputs": [
    {
     "data": {
      "text/plain": [
       "70000"
      ]
     },
     "execution_count": null,
     "metadata": {},
     "output_type": "execute_result"
    },
    {
     "data": {
      "text/plain": [
       "rfr    50000\n",
       "rk     50000\n",
       "dtype: int64"
      ]
     },
     "execution_count": null,
     "metadata": {},
     "output_type": "execute_result"
    }
   ],
   "source": [
    "len(df)\n",
    "df[df[\"rfr\"] == 0].count()"
   ]
  },
  {
   "cell_type": "code",
   "execution_count": null,
   "id": "individual-grove",
   "metadata": {},
   "outputs": [
    {
     "data": {
      "text/plain": [
       "rfr    0.254557\n",
       "rk     0.254557\n",
       "dtype: float64"
      ]
     },
     "execution_count": null,
     "metadata": {},
     "output_type": "execute_result"
    }
   ],
   "source": [
    "df[df[\"rk\"] < 1.109862e05].count() / len(df)"
   ]
  },
  {
   "cell_type": "code",
   "execution_count": null,
   "id": "smart-summer",
   "metadata": {},
   "outputs": [
    {
     "data": {
      "text/html": [
       "<div>\n",
       "<style scoped>\n",
       "    .dataframe tbody tr th:only-of-type {\n",
       "        vertical-align: middle;\n",
       "    }\n",
       "\n",
       "    .dataframe tbody tr th {\n",
       "        vertical-align: top;\n",
       "    }\n",
       "\n",
       "    .dataframe thead th {\n",
       "        text-align: right;\n",
       "    }\n",
       "</style>\n",
       "<table border=\"1\" class=\"dataframe\">\n",
       "  <thead>\n",
       "    <tr style=\"text-align: right;\">\n",
       "      <th></th>\n",
       "      <th>rfr</th>\n",
       "      <th>rk</th>\n",
       "    </tr>\n",
       "  </thead>\n",
       "  <tbody>\n",
       "    <tr>\n",
       "      <th>0.1</th>\n",
       "      <td>0.000000e+00</td>\n",
       "      <td>0.000000e+00</td>\n",
       "    </tr>\n",
       "    <tr>\n",
       "      <th>0.2</th>\n",
       "      <td>0.000000e+00</td>\n",
       "      <td>5.530501e+04</td>\n",
       "    </tr>\n",
       "    <tr>\n",
       "      <th>0.3</th>\n",
       "      <td>0.000000e+00</td>\n",
       "      <td>1.628189e+05</td>\n",
       "    </tr>\n",
       "    <tr>\n",
       "      <th>0.4</th>\n",
       "      <td>0.000000e+00</td>\n",
       "      <td>2.908089e+05</td>\n",
       "    </tr>\n",
       "    <tr>\n",
       "      <th>0.5</th>\n",
       "      <td>0.000000e+00</td>\n",
       "      <td>4.419479e+05</td>\n",
       "    </tr>\n",
       "    <tr>\n",
       "      <th>0.6</th>\n",
       "      <td>0.000000e+00</td>\n",
       "      <td>6.293141e+05</td>\n",
       "    </tr>\n",
       "    <tr>\n",
       "      <th>0.7</th>\n",
       "      <td>0.000000e+00</td>\n",
       "      <td>8.822315e+05</td>\n",
       "    </tr>\n",
       "    <tr>\n",
       "      <th>0.8</th>\n",
       "      <td>2.945621e+05</td>\n",
       "      <td>1.248045e+06</td>\n",
       "    </tr>\n",
       "    <tr>\n",
       "      <th>0.9</th>\n",
       "      <td>8.769493e+05</td>\n",
       "      <td>1.881363e+06</td>\n",
       "    </tr>\n",
       "    <tr>\n",
       "      <th>1.0</th>\n",
       "      <td>1.117522e+07</td>\n",
       "      <td>1.472595e+07</td>\n",
       "    </tr>\n",
       "  </tbody>\n",
       "</table>\n",
       "</div>"
      ],
      "text/plain": [
       "              rfr            rk\n",
       "0.1  0.000000e+00  0.000000e+00\n",
       "0.2  0.000000e+00  5.530501e+04\n",
       "0.3  0.000000e+00  1.628189e+05\n",
       "0.4  0.000000e+00  2.908089e+05\n",
       "0.5  0.000000e+00  4.419479e+05\n",
       "0.6  0.000000e+00  6.293141e+05\n",
       "0.7  0.000000e+00  8.822315e+05\n",
       "0.8  2.945621e+05  1.248045e+06\n",
       "0.9  8.769493e+05  1.881363e+06\n",
       "1.0  1.117522e+07  1.472595e+07"
      ]
     },
     "execution_count": null,
     "metadata": {},
     "output_type": "execute_result"
    }
   ],
   "source": [
    "deciles"
   ]
  },
  {
   "cell_type": "code",
   "execution_count": null,
   "id": "missing-earth",
   "metadata": {},
   "outputs": [],
   "source": []
  }
 ],
 "metadata": {
  "kernelspec": {
   "display_name": "leximpact-socio-fiscal-simu-etat-kernel",
   "language": "python",
   "name": "leximpact-socio-fiscal-simu-etat-kernel"
  }
 },
 "nbformat": 4,
 "nbformat_minor": 5
}
