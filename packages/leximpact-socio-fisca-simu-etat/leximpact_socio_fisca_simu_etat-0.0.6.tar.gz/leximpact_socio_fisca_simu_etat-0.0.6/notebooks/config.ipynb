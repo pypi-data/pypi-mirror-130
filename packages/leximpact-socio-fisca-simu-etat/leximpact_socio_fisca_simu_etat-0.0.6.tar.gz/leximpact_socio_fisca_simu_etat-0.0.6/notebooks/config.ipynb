{
 "cells": [
  {
   "cell_type": "code",
   "execution_count": 1,
   "id": "endangered-builder",
   "metadata": {},
   "outputs": [],
   "source": [
    "# default_exp config"
   ]
  },
  {
   "cell_type": "markdown",
   "id": "social-square",
   "metadata": {},
   "source": [
    "# Config"
   ]
  },
  {
   "cell_type": "markdown",
   "id": "latin-patch",
   "metadata": {},
   "source": [
    "Load a .env in the project folder and use env variable if they exist. Env variable overwrite .env config."
   ]
  },
  {
   "cell_type": "code",
   "execution_count": 2,
   "id": "5821f823-53ef-4148-8579-fb5909c6f489",
   "metadata": {},
   "outputs": [],
   "source": [
    "import unittest\n",
    "\n",
    "tc = unittest.TestCase()"
   ]
  },
  {
   "cell_type": "code",
   "execution_count": 3,
   "id": "third-regulation",
   "metadata": {},
   "outputs": [],
   "source": [
    "# export\n",
    "import os\n",
    "\n",
    "from decouple import AutoConfig, Config, Csv, RepositoryEnv, UndefinedValueError\n",
    "\n",
    "\n",
    "class ConfigNotFound(Exception):\n",
    "    pass\n",
    "\n",
    "\n",
    "class Configuration:\n",
    "    project_name = \"\"\n",
    "    config = None\n",
    "    env_filepath = None\n",
    "\n",
    "    def __init__(\n",
    "        self, project_folder=\"leximpact-socio-fiscal-simu-etat\", env_filepath=None\n",
    "    ):\n",
    "        \"\"\"\n",
    "        ::project_folder:: The folder of your project, where the .env is.\n",
    "        Does not work if your .env is in a subfolder of the place you launch Python\n",
    "        \"\"\"\n",
    "        self.project_name = project_folder\n",
    "        self.env_filepath = env_filepath\n",
    "        self.get_project_module_path()\n",
    "        self.load_config()\n",
    "\n",
    "    def get_project_module_path(self):\n",
    "        cur_path = os.getcwd()\n",
    "        root_pos = cur_path.find(self.project_name) + len(self.project_name)\n",
    "        self.project_module_path = cur_path[:root_pos]\n",
    "        return self.project_module_path\n",
    "\n",
    "    def load_config(self):\n",
    "        try:\n",
    "            if self.env_filepath:\n",
    "                self.config = Config(RepositoryEnv(self.env_filepath))\n",
    "            else:\n",
    "                self.config = Config(\n",
    "                    RepositoryEnv(os.path.join(self.project_module_path, \".env\"))\n",
    "                )\n",
    "        except FileNotFoundError as e:\n",
    "            print(\"WARNING : \", e)\n",
    "            self.config = AutoConfig()\n",
    "        return self.config\n",
    "\n",
    "    def __str__(self):\n",
    "        msg = f\"Config loaded from {self.project_module_path}/(.env ou ENV)\"\n",
    "        # for env, value in self.config.items():\n",
    "        #     msg += f\"\\n{env}={value}\"\n",
    "        return msg\n",
    "\n",
    "    def print_config(self, logger):\n",
    "        logger.info(f\"Config loaded from {self.project_module_path}/(.env ou ENV)\")\n",
    "        # for env, value in self.config.items():\n",
    "        #     logger.info(f\"{env}={value}\")\n",
    "\n",
    "    def get(self, param_name, fail_on_missing=True, **kwargs):\n",
    "        try:\n",
    "            return self.config(param_name, **kwargs)\n",
    "        except UndefinedValueError:\n",
    "            if fail_on_missing:\n",
    "                raise ConfigNotFound(\n",
    "                    f\"Parameter {param_name} not found in {self.project_module_path + '/(.env ou ENV)'}\"\n",
    "                )\n",
    "            else:\n",
    "                return None\n",
    "\n",
    "    def set(self, param_name, value):\n",
    "        os.environ[param_name] = str(value)\n",
    "\n",
    "    def Csv(self, **kwargs):\n",
    "        return Csv(**kwargs)"
   ]
  },
  {
   "cell_type": "markdown",
   "id": "vocational-termination",
   "metadata": {},
   "source": [
    "### Tests"
   ]
  },
  {
   "cell_type": "code",
   "execution_count": 4,
   "id": "e57bf60c-fffb-4072-b67f-2ac5c8bc017d",
   "metadata": {},
   "outputs": [],
   "source": [
    "os.environ[\"TEST_CONFIG_LEXIMPACT_INT\"] = \"42\"\n",
    "os.environ[\"TEST_CONFIG_LEXIMPACT_CSV\"] = \"oui, non, peut-etre\""
   ]
  },
  {
   "cell_type": "code",
   "execution_count": 5,
   "id": "helpful-evaluation",
   "metadata": {},
   "outputs": [
    {
     "name": "stdout",
     "output_type": "stream",
     "text": [
      "Config loaded from /home/jupyter-benoit/leximpact-socio-fiscal-simu-etat/(.env ou ENV)\n"
     ]
    }
   ],
   "source": [
    "conf = Configuration()\n",
    "print(conf)"
   ]
  },
  {
   "cell_type": "code",
   "execution_count": 6,
   "id": "ad841b77-a840-499b-90f6-929d7b27d0c8",
   "metadata": {},
   "outputs": [
    {
     "name": "stdout",
     "output_type": "stream",
     "text": [
      "oui, non, peut-etre\n"
     ]
    }
   ],
   "source": [
    "!echo $TEST_CONFIG_LEXIMPACT_CSV"
   ]
  },
  {
   "cell_type": "code",
   "execution_count": 7,
   "id": "00b380a1-c3ca-4f14-956f-c274d141e697",
   "metadata": {},
   "outputs": [
    {
     "data": {
      "text/plain": [
       "42"
      ]
     },
     "execution_count": 7,
     "metadata": {},
     "output_type": "execute_result"
    }
   ],
   "source": [
    "conf.get(\"TEST_CONFIG_LEXIMPACT_INT\", cast=int)"
   ]
  },
  {
   "cell_type": "code",
   "execution_count": 8,
   "id": "harmful-metabolism",
   "metadata": {},
   "outputs": [],
   "source": [
    "tc.assertEqual(conf.get(\"TEST_CONFIG_LEXIMPACT_INT\", cast=int), 42)\n",
    "tc.assertEqual(\n",
    "    conf.get(\"TEST_CONFIG_LEXIMPACT_CSV\", cast=conf.Csv()), [\"oui\", \"non\", \"peut-etre\"]\n",
    ")"
   ]
  },
  {
   "cell_type": "code",
   "execution_count": 9,
   "id": "1fa88a39-ce08-4e59-9e0e-530930723652",
   "metadata": {},
   "outputs": [],
   "source": [
    "#!cat ../.env"
   ]
  },
  {
   "cell_type": "code",
   "execution_count": 10,
   "id": "c9c54d1f-754e-4557-8b18-3f1290741100",
   "metadata": {},
   "outputs": [
    {
     "data": {
      "text/plain": [
       "'/mnt/data-out/leximpact/erfs-fpr/'"
      ]
     },
     "execution_count": 10,
     "metadata": {},
     "output_type": "execute_result"
    }
   ],
   "source": [
    "conf.get(\"ERFS\")"
   ]
  },
  {
   "cell_type": "code",
   "execution_count": 11,
   "id": "south-stuff",
   "metadata": {},
   "outputs": [
    {
     "data": {
      "text/plain": [
       "'/mnt/data-out/leximpact/erfs-fpr/'"
      ]
     },
     "execution_count": 11,
     "metadata": {},
     "output_type": "execute_result"
    }
   ],
   "source": [
    "conf.get(\"ERFS\")"
   ]
  },
  {
   "cell_type": "code",
   "execution_count": 12,
   "id": "peripheral-consequence",
   "metadata": {},
   "outputs": [],
   "source": [
    "tc.assertRaises(ConfigNotFound, conf.get, (\"TOTO\"))"
   ]
  },
  {
   "cell_type": "code",
   "execution_count": 13,
   "id": "e267dfd7-4592-478a-8bbe-28b8cfc340a7",
   "metadata": {},
   "outputs": [],
   "source": [
    "tc.assertIsNone(conf.get(\"TOTO\", fail_on_missing=False))"
   ]
  },
  {
   "cell_type": "code",
   "execution_count": 14,
   "id": "agricultural-mistake",
   "metadata": {},
   "outputs": [],
   "source": [
    "conf.set(\"TOTO\", \"titi\")\n",
    "tc.assertEqual(conf.get(\"TOTO\"), \"titi\")"
   ]
  },
  {
   "cell_type": "code",
   "execution_count": 15,
   "id": "7081d504-d8eb-4684-b3fc-ad409db9cf7e",
   "metadata": {},
   "outputs": [],
   "source": [
    "tc.assertTrue(conf.get(\"NOT_EXIST\", default=True, cast=bool))"
   ]
  },
  {
   "cell_type": "markdown",
   "id": "innovative-strain",
   "metadata": {},
   "source": [
    "## Utilisation"
   ]
  },
  {
   "cell_type": "markdown",
   "id": "medium-gambling",
   "metadata": {},
   "source": [
    "Import du module"
   ]
  },
  {
   "cell_type": "code",
   "execution_count": 16,
   "id": "committed-conversation",
   "metadata": {},
   "outputs": [],
   "source": [
    "from leximpact_socio_fisca_simu_etat.config import Configuration"
   ]
  },
  {
   "cell_type": "markdown",
   "id": "olive-pressure",
   "metadata": {},
   "source": [
    "Lecture d'un paramètre"
   ]
  },
  {
   "cell_type": "code",
   "execution_count": 17,
   "id": "sudden-sleep",
   "metadata": {},
   "outputs": [
    {
     "data": {
      "text/plain": [
       "'/mnt/data-out/leximpact/erfs-fpr/'"
      ]
     },
     "execution_count": 17,
     "metadata": {},
     "output_type": "execute_result"
    }
   ],
   "source": [
    "config = Configuration()\n",
    "config.get(\"ERFS\")"
   ]
  },
  {
   "cell_type": "code",
   "execution_count": null,
   "id": "sharing-physics",
   "metadata": {},
   "outputs": [],
   "source": []
  }
 ],
 "metadata": {
  "kernelspec": {
   "display_name": "leximpact-socio-fiscal-simu-etat-kernel",
   "language": "python",
   "name": "leximpact-socio-fiscal-simu-etat-kernel"
  },
  "language_info": {
   "codemirror_mode": {
    "name": "ipython",
    "version": 3
   },
   "file_extension": ".py",
   "mimetype": "text/x-python",
   "name": "python",
   "nbconvert_exporter": "python",
   "pygments_lexer": "ipython3",
   "version": "3.9.5"
  }
 },
 "nbformat": 4,
 "nbformat_minor": 5
}
