{
 "cells": [
  {
   "cell_type": "markdown",
   "metadata": {},
   "source": [
    "# Video 2 - ConvNets, parameter regression and SWYFT"
   ]
  },
  {
   "cell_type": "code",
   "execution_count": 41,
   "metadata": {},
   "outputs": [],
   "source": [
    "import torch\n",
    "import torchvision\n",
    "import torchvision.transforms as transforms\n",
    "import pylab as plt\n",
    "import numpy as np\n",
    "from torch import nn"
   ]
  },
  {
   "cell_type": "markdown",
   "metadata": {},
   "source": [
    "## Generator for images with an H"
   ]
  },
  {
   "cell_type": "code",
   "execution_count": 42,
   "metadata": {},
   "outputs": [
    {
     "name": "stdout",
     "output_type": "stream",
     "text": [
      "Files already downloaded and verified\n"
     ]
    }
   ],
   "source": [
    "transform = transforms.Compose(\n",
    "    [transforms.ToTensor(),\n",
    "     transforms.Normalize((0.5, 0.5, 0.5), (0.5, 0.5, 0.5))])\n",
    "trainset = torchvision.datasets.CIFAR10(root='./data', train=True,\n",
    "                                        download=True, transform=transform)"
   ]
  },
  {
   "cell_type": "code",
   "execution_count": 43,
   "metadata": {},
   "outputs": [],
   "source": [
    "H = np.array([\n",
    "    [1, -1, 1],\n",
    "    [1, 1, 1],\n",
    "    [1, -1, 1]\n",
    "])\n",
    "\n",
    "def model(v):\n",
    "    k = np.random.randint(50000)\n",
    "    bkg = trainset[k][0].sum(axis=0).numpy()\n",
    "    i, j = int(v[0]*30), int(v[1]*30)\n",
    "    img = bkg*1.\n",
    "    img[i:i+3, j:j+3] += H\n",
    "    return dict(x = img)"
   ]
  },
  {
   "cell_type": "code",
   "execution_count": 56,
   "metadata": {},
   "outputs": [
    {
     "data": {
      "text/plain": [
       "<matplotlib.image.AxesImage at 0x149831320898>"
      ]
     },
     "execution_count": 56,
     "metadata": {},
     "output_type": "execute_result"
    },
    {
     "data": {
      "image/png": "[encoded data removed]",
      "text/plain": [
       "<Figure size 432x288 with 1 Axes>"
      ]
     },
     "metadata": {
      "needs_background": "light"
     },
     "output_type": "display_data"
    }
   ],
   "source": [
    "v = np.random.rand(2)\n",
    "img = model(v)\n",
    "plt.imshow(img['x'])"
   ]
  },
  {
   "cell_type": "markdown",
   "metadata": {},
   "source": [
    "Goal: Derive posterior for the position of the \"H\" in the image."
   ]
  },
  {
   "cell_type": "markdown",
   "metadata": {},
   "source": [
    "## SWYFT!"
   ]
  },
  {
   "cell_type": "markdown",
   "metadata": {},
   "source": [
    "Simplest case without \"head\" network, where the feature vector $f$ is directly equated with the simulation data:\n",
    "$$\n",
    "r(x, z) = \\text{MLP}_\\phi (f = x, z)\n",
    "$$\n",
    "\n",
    "If we have a head network\n",
    "$$\n",
    "r(x, z) = \\text{MLP}_\\phi (f = \\text{Head}_\\phi(x), z)\n",
    "$$\n",
    "\n",
    "The job of a head network is to map the data onto informative feature vectors that are subsequently used in the MLP for parameter inference.\n",
    "\n",
    "In our case, $f$ should be at least 2-dim since it has to encode a 2-dim position."
   ]
  },
  {
   "cell_type": "code",
   "execution_count": 58,
   "metadata": {},
   "outputs": [],
   "source": [
    "import swyft"
   ]
  },
  {
   "cell_type": "code",
   "execution_count": 59,
   "metadata": {},
   "outputs": [
    {
     "name": "stdout",
     "output_type": "stream",
     "text": [
      "Creating new store.\n",
      "Store: Adding 9942 new samples to simulator store.\n"
     ]
    }
   ],
   "source": [
    "sim = swyft.Simulator(model, 2, dict(x = (32, 32)))\n",
    "store = swyft.Store.memory_store(sim)\n",
    "\n",
    "prior = swyft.Prior(lambda u: u, 2)   # Uniform(0, 1)\n",
    "store.add(10000, prior)\n",
    "store.simulate()\n",
    "\n",
    "dataset = swyft.Dataset(10000, prior, store)"
   ]
  },
  {
   "cell_type": "code",
   "execution_count": 61,
   "metadata": {},
   "outputs": [],
   "source": [
    "# Head network: Embedding of simulation data into (typically 2- to 100-dim) feature-vector space\n",
    "\n",
    "# Example 1: A regular convolutional neural network, which here maps 32x32 input images on a 2-dim feature vector\n",
    "# Number of parameters: >1e5 \n",
    "\n",
    "class ConvHead1(swyft.Module):  # REQUIRED: Parent class has to be swyft.Module\n",
    "    def __init__(self, obs_shapes):\n",
    "        super().__init__(self, obs_shapes)  # REQUIRED: Enables easy storage / reloading of training results via swyft (more later)\n",
    "        self.n_features = 2  # REQUIRED: Number of output features\n",
    "        \n",
    "        self.c1 = torch.nn.Conv2d(1, 4, 3)  # Conv2d: 1 -> 4 channels, 3x3 kernel\n",
    "        self.c2 = torch.nn.Conv2d(4, 16, 3)  # Conv2d: 4 -> 16 channels, 3x3 kernel\n",
    "        self.c3 = torch.nn.Conv2d(16, 32, 3)  # ...\n",
    "        self.l1 = torch.nn.Linear(128, 1024)\n",
    "        self.l2 = torch.nn.Linear(1024, 2)\n",
    "        self.m = torch.nn.MaxPool2d(2)\n",
    "        \n",
    "    def forward(self, sims):\n",
    "        x = sims['x']\n",
    "        nbatch = len(x)\n",
    "        x = x.unsqueeze(1)\n",
    "        x = torch.relu(self.m(self.c1(x)))\n",
    "        x = torch.relu(self.m(self.c2(x)))\n",
    "        x = torch.relu(self.m(self.c3(x)))\n",
    "        x = x.reshape(nbatch, -1)\n",
    "        x = self.l2(torch.relu(self.l1(x)))\n",
    "        return x"
   ]
  },
  {
   "cell_type": "code",
   "execution_count": 62,
   "metadata": {},
   "outputs": [],
   "source": [
    "post = swyft.Posteriors(dataset)"
   ]
  },
  {
   "cell_type": "code",
   "execution_count": 63,
   "metadata": {},
   "outputs": [],
   "source": [
    "m = [(0, 1)]\n",
    "post.add(m, device = torch.device('cuda' if torch.cuda.is_available() else 'cpu'), head = ConvHead1)"
   ]
  },
  {
   "cell_type": "code",
   "execution_count": 64,
   "metadata": {},
   "outputs": [
    {
     "name": "stdout",
     "output_type": "stream",
     "text": [
      "Training: lr=0.001, Epoch=24, VL=0.3803\n",
      "CPU times: user 34.8 s, sys: 7.24 s, total: 42.1 s\n",
      "Wall time: 48.1 s\n"
     ]
    }
   ],
   "source": [
    "%%time\n",
    "post.train(m)"
   ]
  },
  {
   "cell_type": "code",
   "execution_count": 65,
   "metadata": {},
   "outputs": [
    {
     "name": "stdout",
     "output_type": "stream",
     "text": [
      "Creating new store.\n",
      "Store: Adding 108 new samples to simulator store.\n"
     ]
    }
   ],
   "source": [
    "test_store = swyft.Store.memory_store(sim)\n",
    "test_store.add(100, prior)\n",
    "test_store.simulate()\n",
    "test_dataset = swyft.Dataset(100, prior, test_store)"
   ]
  },
  {
   "cell_type": "code",
   "execution_count": 104,
   "metadata": {},
   "outputs": [
    {
     "data": {
      "text/plain": [
       "<matplotlib.collections.PathCollection at 0x149829bbadd8>"
      ]
     },
     "execution_count": 104,
     "metadata": {},
     "output_type": "execute_result"
    },
    {
     "data": {
      "image/png": "[encoded data removed]",
      "text/plain": [
       "<Figure size 720x720 with 4 Axes>"
      ]
     },
     "metadata": {
      "needs_background": "light"
     },
     "output_type": "display_data"
    }
   ],
   "source": [
    "I = np.random.randint(100)\n",
    "obs = test_dataset[I][0]\n",
    "z = test_dataset[I][2]\n",
    "samples = post.sample(100000, obs)\n",
    "fig, _ = swyft.plot_corner(samples, [1, 0], bins = 50)\n",
    "fig.axes[2].scatter(z[1], z[0], s= 300, marker='X', color='red', zorder = 10)"
   ]
  },
  {
   "cell_type": "code",
   "execution_count": 105,
   "metadata": {},
   "outputs": [
    {
     "data": {
      "text/plain": [
       "<matplotlib.image.AxesImage at 0x149829b35da0>"
      ]
     },
     "execution_count": 105,
     "metadata": {},
     "output_type": "execute_result"
    },
    {
     "data": {
      "image/png": "[encoded data removed]",
      "text/plain": [
       "<Figure size 432x288 with 1 Axes>"
      ]
     },
     "metadata": {
      "needs_background": "light"
     },
     "output_type": "display_data"
    }
   ],
   "source": [
    "plt.imshow(test_dataset[I][0]['x'], origin='lower')"
   ]
  },
  {
   "cell_type": "code",
   "execution_count": null,
   "metadata": {},
   "outputs": [],
   "source": []
  }
 ],
 "metadata": {
  "kernelspec": {
   "display_name": "Python 3 (ipykernel)",
   "language": "python",
   "name": "python3"
  },
  "language_info": {
   "codemirror_mode": {
    "name": "ipython",
    "version": 3
   },
   "file_extension": ".py",
   "mimetype": "text/x-python",
   "name": "python",
   "nbconvert_exporter": "python",
   "pygments_lexer": "ipython3",
   "version": "3.8.11"
  }
 },
 "nbformat": 4,
 "nbformat_minor": 4
}
