{
 "cells": [
  {
   "cell_type": "code",
   "execution_count": 1,
   "metadata": {
    "colab": {
     "base_uri": "https://localhost:8080/"
    },
    "id": "MZGCjgra6z91",
    "outputId": "0a94039f-de82-4799-8d95-7019d65977b3"
   },
   "outputs": [
    {
     "name": "stdout",
     "output_type": "stream",
     "text": [
      "Collecting git+https://github.com/undark-lab/swyft.git\n",
      "  Cloning https://github.com/undark-lab/swyft.git to /tmp/pip-req-build-bso7kbrj\n",
      "  Running command git clone -q https://github.com/undark-lab/swyft.git /tmp/pip-req-build-bso7kbrj\n",
      "  Installing build dependencies ... \u001b[?25l\u001b[?25hdone\n",
      "  Getting requirements to build wheel ... \u001b[?25l\u001b[?25hdone\n",
      "    Preparing wheel metadata ... \u001b[?25l\u001b[?25hdone\n",
      "Requirement already satisfied: seaborn in /usr/local/lib/python3.7/dist-packages (from swyft==0.2.1.dev54+gd518f32) (0.11.2)\n",
      "Collecting fasteners==0.15\n",
      "  Downloading fasteners-0.15-py2.py3-none-any.whl (23 kB)\n",
      "Requirement already satisfied: matplotlib>=3.1.3 in /usr/local/lib/python3.7/dist-packages (from swyft==0.2.1.dev54+gd518f32) (3.2.2)\n",
      "Collecting dask[complete]>=2021.3.0\n",
      "  Downloading dask-2021.10.0-py3-none-any.whl (1.0 MB)\n",
      "\u001b[K     |████████████████████████████████| 1.0 MB 13.0 MB/s \n",
      "\u001b[?25hCollecting numcodecs>=0.7.2\n",
      "  Downloading numcodecs-0.9.1-cp37-cp37m-manylinux2010_x86_64.whl (6.2 MB)\n",
      "\u001b[K     |████████████████████████████████| 6.2 MB 34.2 MB/s \n",
      "\u001b[?25hRequirement already satisfied: pandas in /usr/local/lib/python3.7/dist-packages (from swyft==0.2.1.dev54+gd518f32) (1.1.5)\n",
      "Requirement already satisfied: torch>=1.4.0 in /usr/local/lib/python3.7/dist-packages (from swyft==0.2.1.dev54+gd518f32) (1.9.0+cu111)\n",
      "Collecting scikit-learn>=0.23.2\n",
      "  Downloading scikit_learn-1.0.1-cp37-cp37m-manylinux_2_12_x86_64.manylinux2010_x86_64.whl (23.2 MB)\n",
      "\u001b[K     |████████████████████████████████| 23.2 MB 2.0 MB/s \n",
      "\u001b[?25hRequirement already satisfied: tqdm>=4.46.0 in /usr/local/lib/python3.7/dist-packages (from swyft==0.2.1.dev54+gd518f32) (4.62.3)\n",
      "Requirement already satisfied: toolz in /usr/local/lib/python3.7/dist-packages (from swyft==0.2.1.dev54+gd518f32) (0.11.1)\n",
      "Requirement already satisfied: scipy>=1.4.1 in /usr/local/lib/python3.7/dist-packages (from swyft==0.2.1.dev54+gd518f32) (1.4.1)\n",
      "Collecting zarr>=2.5.0\n",
      "  Downloading zarr-2.10.2-py3-none-any.whl (146 kB)\n",
      "\u001b[K     |████████████████████████████████| 146 kB 61.5 MB/s \n",
      "\u001b[?25hRequirement already satisfied: numpy>=1.18.1 in /usr/local/lib/python3.7/dist-packages (from swyft==0.2.1.dev54+gd518f32) (1.19.5)\n",
      "Requirement already satisfied: six in /usr/local/lib/python3.7/dist-packages (from fasteners==0.15->swyft==0.2.1.dev54+gd518f32) (1.15.0)\n",
      "Collecting monotonic>=0.1\n",
      "  Downloading monotonic-1.6-py2.py3-none-any.whl (8.2 kB)\n",
      "Collecting partd>=0.3.10\n",
      "  Downloading partd-1.2.0-py3-none-any.whl (19 kB)\n",
      "Requirement already satisfied: cloudpickle>=1.1.1 in /usr/local/lib/python3.7/dist-packages (from dask[complete]>=2021.3.0->swyft==0.2.1.dev54+gd518f32) (1.3.0)\n",
      "Requirement already satisfied: pyyaml in /usr/local/lib/python3.7/dist-packages (from dask[complete]>=2021.3.0->swyft==0.2.1.dev54+gd518f32) (3.13)\n",
      "Requirement already satisfied: packaging>=20.0 in /usr/local/lib/python3.7/dist-packages (from dask[complete]>=2021.3.0->swyft==0.2.1.dev54+gd518f32) (21.0)\n",
      "Collecting fsspec>=0.6.0\n",
      "  Downloading fsspec-2021.10.1-py3-none-any.whl (125 kB)\n",
      "\u001b[K     |████████████████████████████████| 125 kB 63.0 MB/s \n",
      "\u001b[?25hCollecting distributed==2021.10.0\n",
      "  Downloading distributed-2021.10.0-py3-none-any.whl (791 kB)\n",
      "\u001b[K     |████████████████████████████████| 791 kB 60.1 MB/s \n",
      "\u001b[?25hRequirement already satisfied: jinja2 in /usr/local/lib/python3.7/dist-packages (from dask[complete]>=2021.3.0->swyft==0.2.1.dev54+gd518f32) (2.11.3)\n",
      "Requirement already satisfied: bokeh!=2.0.0,>=1.0.0 in /usr/local/lib/python3.7/dist-packages (from dask[complete]>=2021.3.0->swyft==0.2.1.dev54+gd518f32) (2.3.3)\n",
      "Collecting cloudpickle>=1.1.1\n",
      "  Downloading cloudpickle-2.0.0-py3-none-any.whl (25 kB)\n",
      "Requirement already satisfied: msgpack>=0.6.0 in /usr/local/lib/python3.7/dist-packages (from distributed==2021.10.0->dask[complete]>=2021.3.0->swyft==0.2.1.dev54+gd518f32) (1.0.2)\n",
      "Requirement already satisfied: tblib>=1.6.0 in /usr/local/lib/python3.7/dist-packages (from distributed==2021.10.0->dask[complete]>=2021.3.0->swyft==0.2.1.dev54+gd518f32) (1.7.0)\n",
      "Requirement already satisfied: tornado>=5 in /usr/local/lib/python3.7/dist-packages (from distributed==2021.10.0->dask[complete]>=2021.3.0->swyft==0.2.1.dev54+gd518f32) (5.1.1)\n",
      "Requirement already satisfied: zict>=0.1.3 in /usr/local/lib/python3.7/dist-packages (from distributed==2021.10.0->dask[complete]>=2021.3.0->swyft==0.2.1.dev54+gd518f32) (2.0.0)\n",
      "Requirement already satisfied: sortedcontainers!=2.0.0,!=2.0.1 in /usr/local/lib/python3.7/dist-packages (from distributed==2021.10.0->dask[complete]>=2021.3.0->swyft==0.2.1.dev54+gd518f32) (2.4.0)\n",
      "Requirement already satisfied: setuptools in /usr/local/lib/python3.7/dist-packages (from distributed==2021.10.0->dask[complete]>=2021.3.0->swyft==0.2.1.dev54+gd518f32) (57.4.0)\n",
      "Requirement already satisfied: click>=6.6 in /usr/local/lib/python3.7/dist-packages (from distributed==2021.10.0->dask[complete]>=2021.3.0->swyft==0.2.1.dev54+gd518f32) (7.1.2)\n",
      "Requirement already satisfied: psutil>=5.0 in /usr/local/lib/python3.7/dist-packages (from distributed==2021.10.0->dask[complete]>=2021.3.0->swyft==0.2.1.dev54+gd518f32) (5.4.8)\n",
      "Requirement already satisfied: pillow>=7.1.0 in /usr/local/lib/python3.7/dist-packages (from bokeh!=2.0.0,>=1.0.0->dask[complete]>=2021.3.0->swyft==0.2.1.dev54+gd518f32) (7.1.2)\n",
      "Requirement already satisfied: typing-extensions>=3.7.4 in /usr/local/lib/python3.7/dist-packages (from bokeh!=2.0.0,>=1.0.0->dask[complete]>=2021.3.0->swyft==0.2.1.dev54+gd518f32) (3.7.4.3)\n",
      "Requirement already satisfied: python-dateutil>=2.1 in /usr/local/lib/python3.7/dist-packages (from bokeh!=2.0.0,>=1.0.0->dask[complete]>=2021.3.0->swyft==0.2.1.dev54+gd518f32) (2.8.2)\n",
      "Requirement already satisfied: MarkupSafe>=0.23 in /usr/local/lib/python3.7/dist-packages (from jinja2->dask[complete]>=2021.3.0->swyft==0.2.1.dev54+gd518f32) (2.0.1)\n",
      "Requirement already satisfied: pyparsing!=2.0.4,!=2.1.2,!=2.1.6,>=2.0.1 in /usr/local/lib/python3.7/dist-packages (from matplotlib>=3.1.3->swyft==0.2.1.dev54+gd518f32) (2.4.7)\n",
      "Requirement already satisfied: cycler>=0.10 in /usr/local/lib/python3.7/dist-packages (from matplotlib>=3.1.3->swyft==0.2.1.dev54+gd518f32) (0.10.0)\n",
      "Requirement already satisfied: kiwisolver>=1.0.1 in /usr/local/lib/python3.7/dist-packages (from matplotlib>=3.1.3->swyft==0.2.1.dev54+gd518f32) (1.3.2)\n",
      "Requirement already satisfied: pytz>=2017.2 in /usr/local/lib/python3.7/dist-packages (from pandas->swyft==0.2.1.dev54+gd518f32) (2018.9)\n",
      "Collecting locket\n",
      "  Downloading locket-0.2.1-py2.py3-none-any.whl (4.1 kB)\n",
      "Requirement already satisfied: joblib>=0.11 in /usr/local/lib/python3.7/dist-packages (from scikit-learn>=0.23.2->swyft==0.2.1.dev54+gd518f32) (1.0.1)\n",
      "Collecting threadpoolctl>=2.0.0\n",
      "  Downloading threadpoolctl-3.0.0-py3-none-any.whl (14 kB)\n",
      "Collecting asciitree\n",
      "  Downloading asciitree-0.3.3.tar.gz (4.0 kB)\n",
      "Requirement already satisfied: heapdict in /usr/local/lib/python3.7/dist-packages (from zict>=0.1.3->distributed==2021.10.0->dask[complete]>=2021.3.0->swyft==0.2.1.dev54+gd518f32) (1.0.1)\n",
      "Building wheels for collected packages: swyft, asciitree\n",
      "  Building wheel for swyft (PEP 517) ... \u001b[?25l\u001b[?25hdone\n",
      "  Created wheel for swyft: filename=swyft-0.2.1.dev54+gd518f32-py3-none-any.whl size=59681 sha256=fbc83c57121a843d4b75aabce5f36f6630112a7ca6fe348f2fe1cfd2c3141103\n",
      "  Stored in directory: /tmp/pip-ephem-wheel-cache-tvkcxb9n/wheels/2f/17/1b/d5a3f29a80fc800cada79f76285fe179aa7814cb106e5c16e2\n",
      "  Building wheel for asciitree (setup.py) ... \u001b[?25l\u001b[?25hdone\n",
      "  Created wheel for asciitree: filename=asciitree-0.3.3-py3-none-any.whl size=5051 sha256=92f39efefaa3a4e56a1195e002ab90c246775407f8daab31d9387fc62283ae33\n",
      "  Stored in directory: /root/.cache/pip/wheels/12/1c/38/0def51e15add93bff3f4bf9c248b94db0839b980b8535e72a0\n",
      "Successfully built swyft asciitree\n",
      "Installing collected packages: locket, partd, fsspec, cloudpickle, monotonic, dask, threadpoolctl, numcodecs, fasteners, distributed, asciitree, zarr, scikit-learn, swyft\n",
      "  Attempting uninstall: cloudpickle\n",
      "    Found existing installation: cloudpickle 1.3.0\n",
      "    Uninstalling cloudpickle-1.3.0:\n",
      "      Successfully uninstalled cloudpickle-1.3.0\n",
      "  Attempting uninstall: dask\n",
      "    Found existing installation: dask 2.12.0\n",
      "    Uninstalling dask-2.12.0:\n",
      "      Successfully uninstalled dask-2.12.0\n",
      "  Attempting uninstall: distributed\n",
      "    Found existing installation: distributed 1.25.3\n",
      "    Uninstalling distributed-1.25.3:\n",
      "      Successfully uninstalled distributed-1.25.3\n",
      "  Attempting uninstall: scikit-learn\n",
      "    Found existing installation: scikit-learn 0.22.2.post1\n",
      "    Uninstalling scikit-learn-0.22.2.post1:\n",
      "      Successfully uninstalled scikit-learn-0.22.2.post1\n",
      "\u001b[31mERROR: pip's dependency resolver does not currently take into account all the packages that are installed. This behaviour is the source of the following dependency conflicts.\n",
      "gym 0.17.3 requires cloudpickle<1.7.0,>=1.2.0, but you have cloudpickle 2.0.0 which is incompatible.\u001b[0m\n",
      "Successfully installed asciitree-0.3.3 cloudpickle-2.0.0 dask-2021.10.0 distributed-2021.10.0 fasteners-0.15 fsspec-2021.10.1 locket-0.2.1 monotonic-1.6 numcodecs-0.9.1 partd-1.2.0 scikit-learn-1.0.1 swyft-0.2.1.dev54+gd518f32 threadpoolctl-3.0.0 zarr-2.10.2\n"
     ]
    }
   ],
   "source": [
    "# DON'T FORGET TO ACTIVATE THE GPU when on google colab (Edit > Notebook settings)\n",
    "from os import environ\n",
    "GOOGLE_COLAB = True if \"COLAB_GPU\" in environ else False\n",
    "if GOOGLE_COLAB:\n",
    "    !pip install git+https://github.com/undark-lab/swyft.git"
   ]
  },
  {
   "cell_type": "markdown",
   "metadata": {
    "id": "NLcCZoN9Ln9X"
   },
   "source": [
    "# Using Dask to parallelize simulations\n",
    "\n",
    "In real-world use, `SWYFT` will ofen be combined with existing simulators. As inference using truncated marginal neural ratio estimation (as implemented in `SWYFT`), allows the reuse **and** independent realization of simulations, SWYFT makes the use of more computationally expensive and (physically) relevant simulators viable. \n",
    "\n",
    "In `SWYFT` this supported by the use of the directory store, but even more importantly by the `DaskSimulator` class. In contrast to the `Simulator` class, `DaskSimulator` allows the simulations requested to executed in parallel on a Dask cluster.\n",
    "\n",
    "In this notebook we demonstrate the framework for the use of a more computationally expensive external simulator, although we still make use of the toy external simulator we previously defined.\n",
    "\n",
    "Here we have chosen to include all explanatory text."
   ]
  },
  {
   "cell_type": "code",
   "execution_count": 2,
   "metadata": {
    "id": "F4qPfUYOE0YY"
   },
   "outputs": [],
   "source": [
    "import numpy as np\n",
    "import pylab as plt\n",
    "import swyft"
   ]
  },
  {
   "cell_type": "code",
   "execution_count": 3,
   "metadata": {
    "id": "DgK78OA5FKVt"
   },
   "outputs": [],
   "source": [
    "DEVICE = torch.device('cuda' if torch.cuda.is_available() else 'cpu')\n",
    "Ntrain =3000\n",
    "Npars = 2"
   ]
  },
  {
   "cell_type": "markdown",
   "metadata": {
    "id": "ZwOn4DGBPm4H"
   },
   "source": [
    "## Set input ... \n",
    "\n",
    "In order to make use of en external simulator called frrom the command line, the user must specify a function to setup the simulator input. It should take one input argument (the array with the input parameters), and return any input to be passed to the program via `stdin`. If the simulator requires any input files to be present, this function should write these to disk."
   ]
  },
  {
   "cell_type": "code",
   "execution_count": 4,
   "metadata": {
    "id": "meSdtS2NFVLN"
   },
   "outputs": [],
   "source": [
    "def set_input(v):\n",
    "    v0 = v[0]\n",
    "    v1 = v[1]\n",
    "    v_str = str(v0).strip()+' '+str(v1).strip()\n",
    "    return v_str"
   ]
  },
  {
   "cell_type": "markdown",
   "metadata": {
    "id": "fqeKigcaRA0F"
   },
   "source": [
    "##... output methods ...\n",
    "Analogously, the user must define a function to retrieve results from the simulator output. It should take two input arguments (stdout and stderr of the simulator run) and return a dictionary with the simulator output shaped as described by the ``sim_shapes`` argument. If the simulator writes output to disk, this function **should** parse the results from the file(s)."
   ]
  },
  {
   "cell_type": "code",
   "execution_count": 5,
   "metadata": {
    "id": "JOchVbJBFw4W"
   },
   "outputs": [],
   "source": [
    "def get_output(stdout,stderr):\n",
    "    try:\n",
    "        if not stderr :      \n",
    "            x0,x1 = stdout.split(\" \")\n",
    "            x0 = np.float(x0.strip())\n",
    "            x1 = np.float(x1.strip())\n",
    "            x = np.array([x0,x1])\n",
    "            return dict(x=x)\n",
    "\n",
    "        else:\n",
    "            raise('simulator returned on stderr')\n",
    "\n",
    "    except:\n",
    "        raise('Error in output retrieval')\n"
   ]
  },
  {
   "cell_type": "code",
   "execution_count": 6,
   "metadata": {
    "id": "NWoLV-f5TXYY"
   },
   "outputs": [],
   "source": [
    "import os\n",
    "cwd = os.getcwd()"
   ]
  },
  {
   "cell_type": "markdown",
   "metadata": {
    "id": "6ir01ri0TdTp"
   },
   "source": [
    "## ... and invocation\n",
    "\n",
    "Here we use the cell magic `%%writefile` command to create an external python function randgauss.py containing the simulator defined as model in the Quickstart notebook. This function is then invoked from the command line.\n"
   ]
  },
  {
   "cell_type": "code",
   "execution_count": 7,
   "metadata": {
    "colab": {
     "base_uri": "https://localhost:8080/"
    },
    "id": "QzzTXTQ0VOxw",
    "outputId": "12194a58-f0b9-4179-d413-df182deccbfe"
   },
   "outputs": [
    {
     "name": "stdout",
     "output_type": "stream",
     "text": [
      "Writing randgauss.py\n"
     ]
    }
   ],
   "source": [
    "%%writefile randgauss.py \n",
    "#!/usr/bin/env python\n",
    "\n",
    "import numpy as np\n",
    "import sys\n",
    "\n",
    "\n",
    "def rgmodel(v,sigma=0.05):\n",
    "    x = v + np.random.randn(2)*sigma\n",
    "    return x\n",
    "\n",
    "\n",
    "def main():\n",
    "    sigma = None\n",
    "    args = sys.stdin.readline()\n",
    "    arg1, arg2 = args.split(' ')\n",
    "    try:\n",
    "        v0 = float(arg1.rstrip())\n",
    "        v1 = float(arg2.rstrip())\n",
    "\n",
    "    except:\n",
    "        raise()\n",
    "\n",
    "    v = np.array([v0,v1])\n",
    "\n",
    "    if sigma is not None:\n",
    "        x = rgmodel(v,sigma=sigma)\n",
    "    else:\n",
    "        x = rgmodel(v)\n",
    "\n",
    "    print(str(x[0]).strip()+' '+str(x[1]).strip())\n",
    "\n",
    "\n",
    "if __name__ == \"__main__\":\n",
    "    main()\n"
   ]
  },
  {
   "cell_type": "markdown",
   "metadata": {
    "id": "TnLbuH2gVYaK"
   },
   "source": [
    "It is up to the user to ensure adaquate permissions for all relevant files."
   ]
  },
  {
   "cell_type": "code",
   "execution_count": 8,
   "metadata": {
    "id": "zG4JzXJGHdjL"
   },
   "outputs": [],
   "source": [
    "!chmod 755 randgauss.py\n"
   ]
  },
  {
   "cell_type": "markdown",
   "metadata": {
    "id": "yr7TL_K5U5tx"
   },
   "source": [
    "And to ensure that the root temporary directory in which the simulator is run exists.   Each instance of the simulator will run in a separate sub-folder."
   ]
  },
  {
   "cell_type": "code",
   "execution_count": 9,
   "metadata": {
    "id": "GJ68rUrWVAox"
   },
   "outputs": [],
   "source": [
    "!mkdir -p ./tmp"
   ]
  },
  {
   "cell_type": "code",
   "execution_count": 10,
   "metadata": {
    "id": "L_Bzno0jVqcG"
   },
   "outputs": [],
   "source": [
    "command = cwd+'/randgauss.py'"
   ]
  },
  {
   "cell_type": "markdown",
   "metadata": {
    "id": "neqLDwl_Yn3j"
   },
   "source": [
    "## Defining the Dask simulator\n",
    "The simulator itslef can then be defined using the `from_command()` method of the `DaskSimulator` class, exactly as for the `Simulator` class. A local dask cluster with a local scheduler is instantiated."
   ]
  },
  {
   "cell_type": "code",
   "execution_count": 11,
   "metadata": {
    "id": "esZz6kEvF0YJ"
   },
   "outputs": [],
   "source": [
    "simulator = swyft.DaskSimulator.from_command(\n",
    "    command=command,\n",
    "    pnames=[\"x0\",\"x1\"],\n",
    "    sim_shapes=dict(x=(Npars,)),\n",
    "    set_input_method=set_input,\n",
    "    get_output_method=get_output,\n",
    "    tmpdir=cwd+'/tmp/'\n",
    ")\n"
   ]
  },
  {
   "cell_type": "markdown",
   "metadata": {
    "id": "y9lncfYIz36v"
   },
   "source": [
    "In order to connect to an external Dask cluster, and also locally for better performance, we make use of the Dask distributed scheduler."
   ]
  },
  {
   "cell_type": "code",
   "execution_count": 12,
   "metadata": {
    "id": "RS-dxKB70Xrs"
   },
   "outputs": [],
   "source": [
    "from dask.distributed import LocalCluster # from dask_jobqueue import SLURMCluster"
   ]
  },
  {
   "cell_type": "markdown",
   "metadata": {
    "id": "c0pvRoRo1lJu"
   },
   "source": [
    "Here we set the cluster the simulator will use, enabling the user to connect to a dask cluster of their choice.\n",
    "\n",
    "##Please Note\n",
    "When using the DaskSimulator class in combination with a simulator invoked from the command line, the user must ensure that it is available at the specified location on all nodes of the cluster.\n",
    "\n",
    "Furthermore, the number of threads per worker **must** be set to one, i.e. `threads_per_worker=1`. \n",
    "\n",
    "This is because each worker access a different scratch directory space, which can be achieved by process-parallelism only. The command-line simulator can then spawn multiple threads.\n"
   ]
  },
  {
   "cell_type": "code",
   "execution_count": 13,
   "metadata": {
    "id": "fkGESBqD1d6c"
   },
   "outputs": [],
   "source": [
    "cluster = LocalCluster(n_workers=3,threads_per_worker=1)"
   ]
  },
  {
   "cell_type": "code",
   "execution_count": 14,
   "metadata": {
    "id": "Cmw22Kr31-gQ"
   },
   "outputs": [],
   "source": [
    "simulator.set_dask_cluster(cluster)"
   ]
  },
  {
   "cell_type": "markdown",
   "metadata": {
    "id": "86Yrdkfg2guT"
   },
   "source": [
    "## The directory store\n",
    "A directory store is initialized using the `Store.directory_store()` convenience function. The user must specify the path where to create a new store. If a store already exists, it can be opened using `Store.load()`."
   ]
  },
  {
   "cell_type": "code",
   "execution_count": 25,
   "metadata": {
    "colab": {
     "base_uri": "https://localhost:8080/"
    },
    "id": "UacXvEWiKjhe",
    "outputId": "ca4bf3b2-6234-42d1-a7b8-46bc61e031e9"
   },
   "outputs": [
    {
     "name": "stdout",
     "output_type": "stream",
     "text": [
      "Creating new store.\n"
     ]
    }
   ],
   "source": [
    "store = swyft.Store.directory_store(cwd+'/mystore',simulator=simulator)"
   ]
  },
  {
   "cell_type": "markdown",
   "metadata": {
    "id": "B3OAQLe13PZE"
   },
   "source": [
    "## Inferrence\n",
    "We can now define the intial prior, and given an observation, begin with the inferrence problem,"
   ]
  },
  {
   "cell_type": "code",
   "execution_count": 16,
   "metadata": {
    "id": "HCvE9Y1g758c"
   },
   "outputs": [],
   "source": [
    "v0 = np.zeros(Npars)\n",
    "obs0 = {\"x\":[0.,0.]}"
   ]
  },
  {
   "cell_type": "code",
   "execution_count": 17,
   "metadata": {
    "id": "T60sOcqU4P-9"
   },
   "outputs": [],
   "source": [
    "prior = swyft.Prior(lambda u: u*2-1, Npars)"
   ]
  },
  {
   "cell_type": "code",
   "execution_count": 26,
   "metadata": {
    "colab": {
     "base_uri": "https://localhost:8080/"
    },
    "id": "iFGuEa1I4Tst",
    "outputId": "5c12ef79-4959-431c-e85f-cefec19643cd"
   },
   "outputs": [
    {
     "name": "stdout",
     "output_type": "stream",
     "text": [
      "Store: Adding 478 new samples to simulator store.\n"
     ]
    }
   ],
   "source": [
    "store.add(Ntrain, prior)"
   ]
  },
  {
   "cell_type": "markdown",
   "metadata": {
    "id": "LLCRLzFQ4kvK"
   },
   "source": [
    "invoking the simulator to produce the required simulations. Here, we wait for the simmulations to complete (blocking the flow of execution) and then continue"
   ]
  },
  {
   "cell_type": "code",
   "execution_count": 27,
   "metadata": {
    "id": "P_3lDfAx4lVw"
   },
   "outputs": [],
   "source": [
    "store.simulate()"
   ]
  },
  {
   "cell_type": "code",
   "execution_count": 28,
   "metadata": {
    "id": "FMXkjBE15RZ5"
   },
   "outputs": [],
   "source": [
    "bound = None\n",
    "dataset = swyft.Dataset(Ntrain, prior, store, bound=bound)\n",
    "    "
   ]
  },
  {
   "cell_type": "code",
   "execution_count": 29,
   "metadata": {
    "colab": {
     "base_uri": "https://localhost:8080/"
    },
    "id": "6FqaygwB5bq-",
    "outputId": "3436b0bd-122b-4154-eb96-b14e7dc97374"
   },
   "outputs": [
    {
     "name": "stdout",
     "output_type": "stream",
     "text": [
      "Training: lr=0.001, Epoch=20, VL=0.06745\n"
     ]
    }
   ],
   "source": [
    "post = swyft.Posteriors(dataset)\n",
    "post.add([(0, 1)], device=DEVICE)\n",
    "post.train([(0, 1)], max_epochs = 20)\n",
    "    "
   ]
  },
  {
   "cell_type": "code",
   "execution_count": 30,
   "metadata": {
    "colab": {
     "base_uri": "https://localhost:8080/"
    },
    "id": "YuRDgPbs5gXJ",
    "outputId": "1dbaa227-3bb4-4845-9e14-6ba006f2a0b3"
   },
   "outputs": [
    {
     "name": "stdout",
     "output_type": "stream",
     "text": [
      "Bounds: Truncating...\n",
      "Bounds: ...done. New volue is V=0.1877\n"
     ]
    }
   ],
   "source": [
    "new_bound = post.truncate([(0, 1)], obs0)"
   ]
  },
  {
   "cell_type": "markdown",
   "metadata": {
    "id": "U5lwJ0zP5q81"
   },
   "source": [
    "We can now use the truncated pior given by `new_bound` to zoom in on the region(s) of interest for the inferrence by repeating the steps above."
   ]
  },
  {
   "cell_type": "code",
   "execution_count": 31,
   "metadata": {
    "colab": {
     "base_uri": "https://localhost:8080/"
    },
    "id": "Pmjk1WS06Aot",
    "outputId": "4d5d9c2c-7d7f-4279-8e5d-2d428e5caf49"
   },
   "outputs": [
    {
     "name": "stdout",
     "output_type": "stream",
     "text": [
      "Store: Adding 403 new samples to simulator store.\n"
     ]
    }
   ],
   "source": [
    "store.add(Ntrain,prior,bound = new_bound)"
   ]
  },
  {
   "cell_type": "markdown",
   "metadata": {
    "id": "pgrWXwtd6OSu"
   },
   "source": [
    "## Asynchronous simulation\n",
    "\n",
    "In some cases performing all the required simulations, even when parallelized, will take a significant amount of time. For such situations, the use of the `DaskSimulator` class, together with the directory store enables the asynchronous execution of the requested simulations. The dask workers then write the obtained simulation results directly to the store on disk, allowing the inference workflow to be suspened and later restarted.\n"
   ]
  },
  {
   "cell_type": "markdown",
   "metadata": {
    "id": "U6Dm57gWgEZT"
   },
   "source": [
    "**Please note**\n",
    "\n",
    "For the example shown here, we have started the dask cluster from within the notebook. If the user expects simulations to take so much time as to warrant exiting and rejoining at a later time, then the Dask cluster should be started outside of the Jupyter notebook in order to keep working when the kernel stops. \n",
    "\n",
    "We refer the user to the [dask documentation](http://distributed.dask.org/en/stable/) and to [this example](https://pangeo.io/setup_guides/hpc.html#) for reference in using dask on an HPC system."
   ]
  },
  {
   "cell_type": "code",
   "execution_count": 32,
   "metadata": {
    "id": "A0PuSCxX7bmk"
   },
   "outputs": [],
   "source": [
    "store.simulate(wait_for_results=False)"
   ]
  },
  {
   "cell_type": "markdown",
   "metadata": {
    "id": "4s320_NS8WOg"
   },
   "source": [
    "and when the simulations are complete, the (interrupted) workflow can continue as \n",
    "\n"
   ]
  },
  {
   "cell_type": "code",
   "execution_count": 33,
   "metadata": {
    "colab": {
     "base_uri": "https://localhost:8080/"
    },
    "id": "n9NBnQq2cI0L",
    "outputId": "617b10e7-a0b8-40ff-b72a-50d6c6a7eddf"
   },
   "outputs": [
    {
     "name": "stdout",
     "output_type": "stream",
     "text": [
      "Loading existing store.\n"
     ]
    }
   ],
   "source": [
    "rejoinedstore = swyft.Store.load(cwd+'/mystore', simulator=simulator)"
   ]
  },
  {
   "cell_type": "code",
   "execution_count": 34,
   "metadata": {
    "colab": {
     "base_uri": "https://localhost:8080/"
    },
    "id": "RZz1-2x68w9X",
    "outputId": "cfbfb79b-8552-4a38-993c-6aa09cb0d215"
   },
   "outputs": [
    {
     "name": "stdout",
     "output_type": "stream",
     "text": [
      "Training: lr=0.001, Epoch=20, VL=0.1976\n"
     ]
    }
   ],
   "source": [
    "dataset = swyft.Dataset(Ntrain*8/10, prior, rejoinedstore, bound = new_bound)\n",
    "post = swyft.Posteriors(dataset)\n",
    "post.add([(0, 1)], device=DEVICE)\n",
    "post.train([(0, 1)], max_epochs = 20)"
   ]
  },
  {
   "cell_type": "markdown",
   "metadata": {
    "id": "w-HYopYE830h"
   },
   "source": [
    "Optionally continuing iteratively by defining a new truncated prior."
   ]
  },
  {
   "cell_type": "markdown",
   "metadata": {
    "id": "zSy9sb2O9bt1"
   },
   "source": [
    "Finally, the posterior can be sampled "
   ]
  },
  {
   "cell_type": "code",
   "execution_count": 35,
   "metadata": {
    "colab": {
     "base_uri": "https://localhost:8080/",
     "height": 508
    },
    "id": "tEyrSOvWl0ty",
    "outputId": "5acf998c-5ba7-431a-b239-90917be3c62e"
   },
   "outputs": [
    {
     "data": {
      "image/png": "[encoded data removed]",
      "text/plain": [
       "<Figure size 576x576 with 4 Axes>"
      ]
     },
     "metadata": {
      "needs_background": "light"
     },
     "output_type": "display_data"
    }
   ],
   "source": [
    "samples = post.sample(1000000, obs0)\n",
    "swyft.plot_corner(samples, [0, 1], color='k', figsize = (8,8), truth=v0, bins = 40);"
   ]
  }
 ],
 "metadata": {
  "accelerator": "GPU",
  "colab": {
   "collapsed_sections": [],
   "name": "Examples - 6. Dask Simulator.ipynb",
   "provenance": []
  },
  "kernelspec": {
   "display_name": "Python 3 (ipykernel)",
   "language": "python",
   "name": "python3"
  },
  "language_info": {
   "codemirror_mode": {
    "name": "ipython",
    "version": 3
   },
   "file_extension": ".py",
   "mimetype": "text/x-python",
   "name": "python",
   "nbconvert_exporter": "python",
   "pygments_lexer": "ipython3",
   "version": "3.8.12"
  },
  "nteract": {
   "version": "0.28.0"
  }
 },
 "nbformat": 4,
 "nbformat_minor": 4
}
