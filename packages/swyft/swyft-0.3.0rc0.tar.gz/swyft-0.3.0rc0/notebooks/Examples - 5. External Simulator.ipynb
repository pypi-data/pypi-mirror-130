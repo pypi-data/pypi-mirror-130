{
 "cells": [
  {
   "cell_type": "code",
   "execution_count": 1,
   "metadata": {
    "colab": {
     "base_uri": "https://localhost:8080/"
    },
    "id": "MZGCjgra6z91",
    "outputId": "c4ff1c92-2ec3-496d-f539-b3a9e742c6bf"
   },
   "outputs": [
    {
     "name": "stdout",
     "output_type": "stream",
     "text": [
      "Collecting git+https://github.com/undark-lab/swyft.git\n",
      "  Cloning https://github.com/undark-lab/swyft.git to /tmp/pip-req-build-oeom9ovv\n",
      "  Running command git clone -q https://github.com/undark-lab/swyft.git /tmp/pip-req-build-oeom9ovv\n",
      "  Installing build dependencies ... \u001b[?25l\u001b[?25hdone\n",
      "  Getting requirements to build wheel ... \u001b[?25l\u001b[?25hdone\n",
      "    Preparing wheel metadata ... \u001b[?25l\u001b[?25hdone\n",
      "Requirement already satisfied: matplotlib>=3.1.3 in /usr/local/lib/python3.7/dist-packages (from swyft==0.2.1.dev54+gd518f32) (3.2.2)\n",
      "Collecting fasteners==0.15\n",
      "  Downloading fasteners-0.15-py2.py3-none-any.whl (23 kB)\n",
      "Requirement already satisfied: pandas in /usr/local/lib/python3.7/dist-packages (from swyft==0.2.1.dev54+gd518f32) (1.1.5)\n",
      "Requirement already satisfied: seaborn in /usr/local/lib/python3.7/dist-packages (from swyft==0.2.1.dev54+gd518f32) (0.11.2)\n",
      "Requirement already satisfied: tqdm>=4.46.0 in /usr/local/lib/python3.7/dist-packages (from swyft==0.2.1.dev54+gd518f32) (4.62.3)\n",
      "Collecting numcodecs>=0.7.2\n",
      "  Downloading numcodecs-0.9.1-cp37-cp37m-manylinux2010_x86_64.whl (6.2 MB)\n",
      "\u001b[K     |████████████████████████████████| 6.2 MB 6.8 MB/s \n",
      "\u001b[?25hRequirement already satisfied: torch>=1.4.0 in /usr/local/lib/python3.7/dist-packages (from swyft==0.2.1.dev54+gd518f32) (1.9.0+cu111)\n",
      "Requirement already satisfied: scipy>=1.4.1 in /usr/local/lib/python3.7/dist-packages (from swyft==0.2.1.dev54+gd518f32) (1.4.1)\n",
      "Collecting scikit-learn>=0.23.2\n",
      "  Downloading scikit_learn-1.0.1-cp37-cp37m-manylinux_2_12_x86_64.manylinux2010_x86_64.whl (23.2 MB)\n",
      "\u001b[K     |████████████████████████████████| 23.2 MB 1.8 MB/s \n",
      "\u001b[?25hCollecting zarr>=2.5.0\n",
      "  Downloading zarr-2.10.2-py3-none-any.whl (146 kB)\n",
      "\u001b[K     |████████████████████████████████| 146 kB 50.1 MB/s \n",
      "\u001b[?25hRequirement already satisfied: numpy>=1.18.1 in /usr/local/lib/python3.7/dist-packages (from swyft==0.2.1.dev54+gd518f32) (1.19.5)\n",
      "Requirement already satisfied: toolz in /usr/local/lib/python3.7/dist-packages (from swyft==0.2.1.dev54+gd518f32) (0.11.1)\n",
      "Collecting dask[complete]>=2021.3.0\n",
      "  Downloading dask-2021.10.0-py3-none-any.whl (1.0 MB)\n",
      "\u001b[K     |████████████████████████████████| 1.0 MB 44.0 MB/s \n",
      "\u001b[?25hRequirement already satisfied: six in /usr/local/lib/python3.7/dist-packages (from fasteners==0.15->swyft==0.2.1.dev54+gd518f32) (1.15.0)\n",
      "Collecting monotonic>=0.1\n",
      "  Downloading monotonic-1.6-py2.py3-none-any.whl (8.2 kB)\n",
      "Collecting fsspec>=0.6.0\n",
      "  Downloading fsspec-2021.10.1-py3-none-any.whl (125 kB)\n",
      "\u001b[K     |████████████████████████████████| 125 kB 49.5 MB/s \n",
      "\u001b[?25hCollecting partd>=0.3.10\n",
      "  Downloading partd-1.2.0-py3-none-any.whl (19 kB)\n",
      "Requirement already satisfied: pyyaml in /usr/local/lib/python3.7/dist-packages (from dask[complete]>=2021.3.0->swyft==0.2.1.dev54+gd518f32) (3.13)\n",
      "Requirement already satisfied: packaging>=20.0 in /usr/local/lib/python3.7/dist-packages (from dask[complete]>=2021.3.0->swyft==0.2.1.dev54+gd518f32) (21.0)\n",
      "Requirement already satisfied: cloudpickle>=1.1.1 in /usr/local/lib/python3.7/dist-packages (from dask[complete]>=2021.3.0->swyft==0.2.1.dev54+gd518f32) (1.3.0)\n",
      "Requirement already satisfied: bokeh!=2.0.0,>=1.0.0 in /usr/local/lib/python3.7/dist-packages (from dask[complete]>=2021.3.0->swyft==0.2.1.dev54+gd518f32) (2.3.3)\n",
      "Requirement already satisfied: jinja2 in /usr/local/lib/python3.7/dist-packages (from dask[complete]>=2021.3.0->swyft==0.2.1.dev54+gd518f32) (2.11.3)\n",
      "Collecting distributed==2021.10.0\n",
      "  Downloading distributed-2021.10.0-py3-none-any.whl (791 kB)\n",
      "\u001b[K     |████████████████████████████████| 791 kB 44.3 MB/s \n",
      "\u001b[?25hRequirement already satisfied: tblib>=1.6.0 in /usr/local/lib/python3.7/dist-packages (from distributed==2021.10.0->dask[complete]>=2021.3.0->swyft==0.2.1.dev54+gd518f32) (1.7.0)\n",
      "Requirement already satisfied: tornado>=5 in /usr/local/lib/python3.7/dist-packages (from distributed==2021.10.0->dask[complete]>=2021.3.0->swyft==0.2.1.dev54+gd518f32) (5.1.1)\n",
      "Requirement already satisfied: setuptools in /usr/local/lib/python3.7/dist-packages (from distributed==2021.10.0->dask[complete]>=2021.3.0->swyft==0.2.1.dev54+gd518f32) (57.4.0)\n",
      "Requirement already satisfied: msgpack>=0.6.0 in /usr/local/lib/python3.7/dist-packages (from distributed==2021.10.0->dask[complete]>=2021.3.0->swyft==0.2.1.dev54+gd518f32) (1.0.2)\n",
      "Requirement already satisfied: psutil>=5.0 in /usr/local/lib/python3.7/dist-packages (from distributed==2021.10.0->dask[complete]>=2021.3.0->swyft==0.2.1.dev54+gd518f32) (5.4.8)\n",
      "Requirement already satisfied: click>=6.6 in /usr/local/lib/python3.7/dist-packages (from distributed==2021.10.0->dask[complete]>=2021.3.0->swyft==0.2.1.dev54+gd518f32) (7.1.2)\n",
      "Requirement already satisfied: zict>=0.1.3 in /usr/local/lib/python3.7/dist-packages (from distributed==2021.10.0->dask[complete]>=2021.3.0->swyft==0.2.1.dev54+gd518f32) (2.0.0)\n",
      "Collecting cloudpickle>=1.1.1\n",
      "  Downloading cloudpickle-2.0.0-py3-none-any.whl (25 kB)\n",
      "Requirement already satisfied: sortedcontainers!=2.0.0,!=2.0.1 in /usr/local/lib/python3.7/dist-packages (from distributed==2021.10.0->dask[complete]>=2021.3.0->swyft==0.2.1.dev54+gd518f32) (2.4.0)\n",
      "Requirement already satisfied: pillow>=7.1.0 in /usr/local/lib/python3.7/dist-packages (from bokeh!=2.0.0,>=1.0.0->dask[complete]>=2021.3.0->swyft==0.2.1.dev54+gd518f32) (7.1.2)\n",
      "Requirement already satisfied: python-dateutil>=2.1 in /usr/local/lib/python3.7/dist-packages (from bokeh!=2.0.0,>=1.0.0->dask[complete]>=2021.3.0->swyft==0.2.1.dev54+gd518f32) (2.8.2)\n",
      "Requirement already satisfied: typing-extensions>=3.7.4 in /usr/local/lib/python3.7/dist-packages (from bokeh!=2.0.0,>=1.0.0->dask[complete]>=2021.3.0->swyft==0.2.1.dev54+gd518f32) (3.7.4.3)\n",
      "Requirement already satisfied: MarkupSafe>=0.23 in /usr/local/lib/python3.7/dist-packages (from jinja2->dask[complete]>=2021.3.0->swyft==0.2.1.dev54+gd518f32) (2.0.1)\n",
      "Requirement already satisfied: cycler>=0.10 in /usr/local/lib/python3.7/dist-packages (from matplotlib>=3.1.3->swyft==0.2.1.dev54+gd518f32) (0.10.0)\n",
      "Requirement already satisfied: kiwisolver>=1.0.1 in /usr/local/lib/python3.7/dist-packages (from matplotlib>=3.1.3->swyft==0.2.1.dev54+gd518f32) (1.3.2)\n",
      "Requirement already satisfied: pyparsing!=2.0.4,!=2.1.2,!=2.1.6,>=2.0.1 in /usr/local/lib/python3.7/dist-packages (from matplotlib>=3.1.3->swyft==0.2.1.dev54+gd518f32) (2.4.7)\n",
      "Requirement already satisfied: pytz>=2017.2 in /usr/local/lib/python3.7/dist-packages (from pandas->swyft==0.2.1.dev54+gd518f32) (2018.9)\n",
      "Collecting locket\n",
      "  Downloading locket-0.2.1-py2.py3-none-any.whl (4.1 kB)\n",
      "Collecting threadpoolctl>=2.0.0\n",
      "  Downloading threadpoolctl-3.0.0-py3-none-any.whl (14 kB)\n",
      "Requirement already satisfied: joblib>=0.11 in /usr/local/lib/python3.7/dist-packages (from scikit-learn>=0.23.2->swyft==0.2.1.dev54+gd518f32) (1.0.1)\n",
      "Collecting asciitree\n",
      "  Downloading asciitree-0.3.3.tar.gz (4.0 kB)\n",
      "Requirement already satisfied: heapdict in /usr/local/lib/python3.7/dist-packages (from zict>=0.1.3->distributed==2021.10.0->dask[complete]>=2021.3.0->swyft==0.2.1.dev54+gd518f32) (1.0.1)\n",
      "Building wheels for collected packages: swyft, asciitree\n",
      "  Building wheel for swyft (PEP 517) ... \u001b[?25l\u001b[?25hdone\n",
      "  Created wheel for swyft: filename=swyft-0.2.1.dev54+gd518f32-py3-none-any.whl size=59681 sha256=359e69545d17253b630c407048c7f3c38fcfc540b10ea66e7161ee5a45d3d5af\n",
      "  Stored in directory: /tmp/pip-ephem-wheel-cache-qpumlw21/wheels/2f/17/1b/d5a3f29a80fc800cada79f76285fe179aa7814cb106e5c16e2\n",
      "  Building wheel for asciitree (setup.py) ... \u001b[?25l\u001b[?25hdone\n",
      "  Created wheel for asciitree: filename=asciitree-0.3.3-py3-none-any.whl size=5051 sha256=1a1e08d96ad6721e7e3dfaad33ee36e62c537e51ada51da3ecc7da97c81d4eb3\n",
      "  Stored in directory: /root/.cache/pip/wheels/12/1c/38/0def51e15add93bff3f4bf9c248b94db0839b980b8535e72a0\n",
      "Successfully built swyft asciitree\n",
      "Installing collected packages: locket, partd, fsspec, cloudpickle, monotonic, dask, threadpoolctl, numcodecs, fasteners, distributed, asciitree, zarr, scikit-learn, swyft\n",
      "  Attempting uninstall: cloudpickle\n",
      "    Found existing installation: cloudpickle 1.3.0\n",
      "    Uninstalling cloudpickle-1.3.0:\n",
      "      Successfully uninstalled cloudpickle-1.3.0\n",
      "  Attempting uninstall: dask\n",
      "    Found existing installation: dask 2.12.0\n",
      "    Uninstalling dask-2.12.0:\n",
      "      Successfully uninstalled dask-2.12.0\n",
      "  Attempting uninstall: distributed\n",
      "    Found existing installation: distributed 1.25.3\n",
      "    Uninstalling distributed-1.25.3:\n",
      "      Successfully uninstalled distributed-1.25.3\n",
      "  Attempting uninstall: scikit-learn\n",
      "    Found existing installation: scikit-learn 0.22.2.post1\n",
      "    Uninstalling scikit-learn-0.22.2.post1:\n",
      "      Successfully uninstalled scikit-learn-0.22.2.post1\n",
      "\u001b[31mERROR: pip's dependency resolver does not currently take into account all the packages that are installed. This behaviour is the source of the following dependency conflicts.\n",
      "gym 0.17.3 requires cloudpickle<1.7.0,>=1.2.0, but you have cloudpickle 2.0.0 which is incompatible.\u001b[0m\n",
      "Successfully installed asciitree-0.3.3 cloudpickle-2.0.0 dask-2021.10.0 distributed-2021.10.0 fasteners-0.15 fsspec-2021.10.1 locket-0.2.1 monotonic-1.6 numcodecs-0.9.1 partd-1.2.0 scikit-learn-1.0.1 swyft-0.2.1.dev54+gd518f32 threadpoolctl-3.0.0 zarr-2.10.2\n"
     ]
    }
   ],
   "source": [
    "# DON'T FORGET TO ACTIVATE THE GPU when on google colab (Edit > Notebook settings)\n",
    "from os import environ\n",
    "GOOGLE_COLAB = True if \"COLAB_GPU\" in environ else False\n",
    "if GOOGLE_COLAB:\n",
    "    !pip install git+https://github.com/undark-lab/swyft.git"
   ]
  },
  {
   "cell_type": "markdown",
   "metadata": {
    "id": "NLcCZoN9Ln9X"
   },
   "source": [
    "# Using an External simulator\n",
    "\n",
    "As demonstrated in the `Quickstart` notebook, `SWYFT`, of course, enables the user to define a simulator for use in the inferrence problem. Importantly, however, `SWYFT` also enables the user to employ *any* simulator callable from the command line.\n",
    "This ensures that users can employ the simulators they are familiar with without having to worry about implementation etc.\n",
    "\n",
    "In this notebook, based on the `Quickstart` example, we demonstrate the use of an external simulator.\n",
    "\n",
    "NB: Here we demonstrate the use of `SWYFT`'s command line based simuulator invocation. The user can of course also write a python wraper to the simulator in question."
   ]
  },
  {
   "cell_type": "code",
   "execution_count": 2,
   "metadata": {
    "id": "F4qPfUYOE0YY"
   },
   "outputs": [],
   "source": [
    "import numpy as np\n",
    "import pylab as plt\n",
    "import swyft"
   ]
  },
  {
   "cell_type": "code",
   "execution_count": 3,
   "metadata": {
    "id": "DgK78OA5FKVt"
   },
   "outputs": [],
   "source": [
    "DEVICE = torch.device('cuda' if torch.cuda.is_available() else 'cpu') #set to 'cpu if GPU not available\n",
    "Ntrain =3000\n",
    "Npars = 2"
   ]
  },
  {
   "cell_type": "markdown",
   "metadata": {
    "id": "ZwOn4DGBPm4H"
   },
   "source": [
    "## Set input ... \n",
    "\n",
    "In order to make use of en external simulator called frrom the command line, the user must specify a function to setup the simulator input. It should take one input argument (the array with the input parameters), and return any input to be passed to the program via `stdin`. If the simulator requires any input files to be present, this function should write these to disk."
   ]
  },
  {
   "cell_type": "code",
   "execution_count": 4,
   "metadata": {
    "id": "meSdtS2NFVLN"
   },
   "outputs": [],
   "source": [
    "def set_input(v):\n",
    "    v0 = v[0]\n",
    "    v1 = v[1]\n",
    "    v_str = str(v0).strip()+' '+str(v1).strip()\n",
    "    return v_str"
   ]
  },
  {
   "cell_type": "markdown",
   "metadata": {
    "id": "fqeKigcaRA0F"
   },
   "source": [
    "## ... output methods ...\n",
    "\n",
    "Analogously, the user must define a function to retrieve results from the simulator output. It should take two input arguments (stdout and stderr of the simulator run) and return a dictionary with the simulator output shaped as described by the ``sim_shapes`` argument. If the simulator writes output to disk, this function **should** parse the results from the file(s)."
   ]
  },
  {
   "cell_type": "code",
   "execution_count": 5,
   "metadata": {
    "id": "JOchVbJBFw4W"
   },
   "outputs": [],
   "source": [
    "def get_output(stdout,stderr):\n",
    "    try:\n",
    "        if not stderr :      \n",
    "            x0,x1 = stdout.split(\" \")\n",
    "            x0 = np.float(x0.strip())\n",
    "            x1 = np.float(x1.strip())\n",
    "            x = np.array([x0,x1])\n",
    "            return dict(x=x)\n",
    "\n",
    "        else:\n",
    "            raise('simulator returned on stderr')\n",
    "\n",
    "    except:\n",
    "        raise('Error in output retrieval')\n"
   ]
  },
  {
   "cell_type": "code",
   "execution_count": 6,
   "metadata": {
    "id": "NWoLV-f5TXYY"
   },
   "outputs": [],
   "source": [
    "import os\n",
    "cwd = os.getcwd()"
   ]
  },
  {
   "cell_type": "markdown",
   "metadata": {
    "id": "6ir01ri0TdTp"
   },
   "source": [
    "## ... and invocation\n",
    "\n",
    "Here we use the cell magic `%%writefile` command to create an external python function `randgauss.py` containing the simulator defined as `model` in the Quickstart notebook. This function is then invoked from the command line.\n"
   ]
  },
  {
   "cell_type": "code",
   "execution_count": 8,
   "metadata": {
    "colab": {
     "base_uri": "https://localhost:8080/"
    },
    "id": "-0TkpX7P8XZ7",
    "outputId": "f35a4a66-7a58-4540-bd5a-0d53f0457a2b"
   },
   "outputs": [
    {
     "name": "stdout",
     "output_type": "stream",
     "text": [
      "Writing randgauss.py\n"
     ]
    }
   ],
   "source": [
    " %%writefile randgauss.py \n",
    "#!/usr/bin/env python\n",
    "\n",
    "import numpy as np\n",
    "import sys\n",
    "\n",
    "\n",
    "\n",
    "def rgmodel(v,sigma=0.05):\n",
    "    x = v + np.random.randn(2)*sigma\n",
    "    return x\n",
    "\n",
    "def main():\n",
    "    sigma = None\n",
    "    args = sys.stdin.readline()\n",
    "    arg1, arg2 = args.split(' ')\n",
    "    try:\n",
    "        v0 = float(arg1.rstrip())\n",
    "        v1 = float(arg2.rstrip())\n",
    "        \n",
    "    except:\n",
    "        raise()\n",
    "\n",
    "    v = np.array([v0,v1])\n",
    "\n",
    "    if sigma is not None:\n",
    "        x = rgmodel(v,sigma=sigma)\n",
    "    else:\n",
    "        x = rgmodel(v)\n",
    "\n",
    "    print(str(x[0]).strip()+' '+str(x[1]).strip())\n",
    "\n",
    "\n",
    "\n",
    "if __name__ == \"__main__\":\n",
    "    main()\n",
    "\n"
   ]
  },
  {
   "cell_type": "markdown",
   "metadata": {
    "id": "rinQChPm-z0s"
   },
   "source": [
    "It is up to the user to ensure adaquate permissions for all relevant files. "
   ]
  },
  {
   "cell_type": "code",
   "execution_count": null,
   "metadata": {
    "id": "zG4JzXJGHdjL"
   },
   "outputs": [],
   "source": [
    "!chmod 755 randgauss.py\n",
    "command = cwd+'/randgauss.py'"
   ]
  },
  {
   "cell_type": "markdown",
   "metadata": {
    "id": "yr7TL_K5U5tx"
   },
   "source": [
    "\n",
    "And to ensure that the root temporary directory in which the simulator is run exists.   Each instance of the simulator will run in a separate sub-folder."
   ]
  },
  {
   "cell_type": "code",
   "execution_count": null,
   "metadata": {
    "id": "GJ68rUrWVAox"
   },
   "outputs": [],
   "source": [
    "!mkdir -p ./tmp"
   ]
  },
  {
   "cell_type": "markdown",
   "metadata": {
    "id": "neqLDwl_Yn3j"
   },
   "source": [
    "## Defining the simulator\n",
    "The simulator itslef can then be defined using the `from_command()` method of the `Simulator` class."
   ]
  },
  {
   "cell_type": "code",
   "execution_count": null,
   "metadata": {
    "id": "esZz6kEvF0YJ"
   },
   "outputs": [],
   "source": [
    "simulator = swyft.Simulator.from_command(\n",
    "    command=command,\n",
    "    pnames=[\"x0\",\"x1\"],\n",
    "    sim_shapes=dict(x=(Npars,)),\n",
    "    set_input_method=set_input,\n",
    "    get_output_method=get_output,\n",
    "    tmpdir=cwd+'/tmp/',\n",
    "    shell = False\n",
    ")\n"
   ]
  },
  {
   "cell_type": "markdown",
   "metadata": {
    "id": "kOPuy_TpCfpe"
   },
   "source": [
    "**PLEASE NOTE**\n",
    "\n",
    "The `from_command()` method of the `Simulator` class makes use of the `subprocess` module to execute a command line program or function. \n",
    "\n",
    "As for the `subprocess` module, the `shell` keyword is set to `False` by default. In some cases, the user may, however, want to execute their program or function via the shell, enabling the invocation and use of different environments, as well as featuures such as shell pipes, filename wildcards, environment variable expansion, and expansion of ~ to a user’s home directory.\n",
    "\n",
    "This can be achived by setting `shell = True` in the `from_command()` method. \n",
    "\n",
    "We do, however, encourage the user to be aware of the security [considerations](https://docs.python.org/3/library/subprocess.html#security-considerations) connected to the use of `shell = True` in the `subprocess` module."
   ]
  },
  {
   "cell_type": "markdown",
   "metadata": {
    "id": "YKHtt5Yyay_W"
   },
   "source": [
    "The remaining workflow is identical to that described in `Quickstart.ipynb`"
   ]
  },
  {
   "cell_type": "code",
   "execution_count": null,
   "metadata": {
    "colab": {
     "base_uri": "https://localhost:8080/"
    },
    "id": "UacXvEWiKjhe",
    "outputId": "c0654083-6f57-4597-8d0d-a0531553ab81"
   },
   "outputs": [
    {
     "name": "stdout",
     "output_type": "stream",
     "text": [
      "Creating new store.\n"
     ]
    }
   ],
   "source": [
    "store = swyft.Store.memory_store(simulator)"
   ]
  },
  {
   "cell_type": "code",
   "execution_count": null,
   "metadata": {
    "id": "XftJuS8J7oJ5"
   },
   "outputs": [],
   "source": [
    "prior = swyft.Prior(lambda u: u*2-1, Npars)\n",
    "store.add(Ntrain, prior)\n",
    "store.simulate()"
   ]
  },
  {
   "cell_type": "code",
   "execution_count": null,
   "metadata": {
    "id": "hUwq6-Q6YWw8"
   },
   "outputs": [],
   "source": [
    "dataset = swyft.Dataset(Ntrain, prior, store)\n",
    "post = swyft.Posteriors(dataset)\n"
   ]
  },
  {
   "cell_type": "code",
   "execution_count": null,
   "metadata": {
    "colab": {
     "base_uri": "https://localhost:8080/"
    },
    "id": "ulhCYvVXYXIG",
    "outputId": "2532ac29-7147-4acc-d20d-0b54bcc5ceec"
   },
   "outputs": [
    {
     "name": "stdout",
     "output_type": "stream",
     "text": [
      "Training: lr=0.001, Epoch=19, VL=0.5125\n"
     ]
    }
   ],
   "source": [
    "post.add([(0, 1)], device=DEVICE)\n",
    "post.train([(0, 1)], max_epochs = 20)"
   ]
  },
  {
   "cell_type": "code",
   "execution_count": null,
   "metadata": {
    "id": "VlVuoVsfYXbD"
   },
   "outputs": [],
   "source": [
    "v0 = np.zeros(Npars)\n",
    "obs0 = {\"x\":[0.,0.]}"
   ]
  },
  {
   "cell_type": "code",
   "execution_count": null,
   "metadata": {
    "colab": {
     "base_uri": "https://localhost:8080/",
     "height": 508
    },
    "id": "tEyrSOvWl0ty",
    "outputId": "78043bea-7332-4db0-8486-212d61b1a345"
   },
   "outputs": [
    {
     "data": {
      "image/png": "[encoded data removed]",
      "text/plain": [
       "<Figure size 576x576 with 4 Axes>"
      ]
     },
     "metadata": {
      "needs_background": "light"
     },
     "output_type": "display_data"
    }
   ],
   "source": [
    "samples = post.sample(1000000, obs0)\n",
    "swyft.plot_corner(samples, [0, 1], color='k', figsize = (8,8), truth=v0, bins = 40);"
   ]
  }
 ],
 "metadata": {
  "colab": {
   "collapsed_sections": [],
   "name": "Examples - 4. External Simulator.ipynb",
   "provenance": []
  },
  "kernelspec": {
   "display_name": "Python 3 (ipykernel)",
   "language": "python",
   "name": "python3"
  },
  "language_info": {
   "codemirror_mode": {
    "name": "ipython",
    "version": 3
   },
   "file_extension": ".py",
   "mimetype": "text/x-python",
   "name": "python",
   "nbconvert_exporter": "python",
   "pygments_lexer": "ipython3",
   "version": "3.8.12"
  },
  "nteract": {
   "version": "0.28.0"
  }
 },
 "nbformat": 4,
 "nbformat_minor": 4
}
