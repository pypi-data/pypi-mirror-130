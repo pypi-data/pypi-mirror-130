{
  "cells": [
    {
      "cell_type": "code",
      "execution_count": null,
      "metadata": {
        "collapsed": false
      },
      "outputs": [],
      "source": [
        "%matplotlib inline"
      ]
    },
    {
      "cell_type": "markdown",
      "metadata": {},
      "source": [
        "\n# Plot The Marvelous Colors\n"
      ]
    },
    {
      "cell_type": "markdown",
      "metadata": {},
      "source": [
        "#. This is a numbered list.\n#. It has two items too.\n\n"
      ]
    },
    {
      "cell_type": "markdown",
      "metadata": {},
      "source": [
        "Next, we will chain several preprocessing steps that are realized through\n`mne`. Data will be loaded by the first preprocessor that has a mention of it\nin brackets:\n\n#. crop the recordings to a region of interest\n#. re-reference all recordings to 'ar' (requires load)\n#. rename channels to short channel names\n#. pick channels of interest\n#. scale signals to microvolts (requires load)\n#. resample recordings to a common frequency (requires load)\n#. create compute windows\n\n"
      ]
    },
    {
      "cell_type": "code",
      "execution_count": null,
      "metadata": {
        "collapsed": false
      },
      "outputs": [],
      "source": [
        "# Uncomment the lines below to actually run this code on real data.\n# tuh = TUH(\n#     path=<TUH_PATH>,  # please insert actual path to data here\n#     recording_ids=None,\n#     target_name=None,\n#     preload=False,\n#     add_physician_reports=False,\n# )\n\n\n#\n# Uncomment the lines below to actually run this code on real data.\n# tuh = TUH(\n#     path=<TUH_PATH>,  # please insert actual path to data here\n#     recording_ids=None,\n#     target_name=None,\n#     preload=False,\n#     add_physician_reports=False,\n# )\n\nprint('\\033[94m' + \"his\" + '\\033[0m')\nprint('\u26a0\ufe0f')\n\n# +\na = '3'\nb = '3'\nc = True\n\na == b == c\n# -\n\nimport numpy as np\nnot np.any(np.diff(np.array([3])) == 0)\n\n\n\n# +\na = True\nb = '3'\nc = '3'\n\na == b == c"
      ]
    }
  ],
  "metadata": {
    "kernelspec": {
      "display_name": "Python 3",
      "language": "python",
      "name": "python3"
    },
    "language_info": {
      "codemirror_mode": {
        "name": "ipython",
        "version": 3
      },
      "file_extension": ".py",
      "mimetype": "text/x-python",
      "name": "python",
      "nbconvert_exporter": "python",
      "pygments_lexer": "ipython3",
      "version": "3.9.4"
    }
  },
  "nbformat": 4,
  "nbformat_minor": 0
}