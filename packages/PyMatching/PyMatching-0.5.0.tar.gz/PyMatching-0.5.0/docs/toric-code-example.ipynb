{
 "cells": [
  {
   "cell_type": "markdown",
   "metadata": {},
   "source": [
    "# Toric code example\n",
    "\n",
    "In this example, we'll use PyMatching to estimate the threshold of the toric code \n",
    "under an independent noise model with perfect syndrome measurements.\n",
    "The decoding problem for the toric code is identical for $X$-type and $Z$-type \n",
    "errors, so we will only simulate decoding $Z$-type errors using $X$-type stabilisers in this example.\n",
    "\n",
    "First, we will construct a check matrix $H_X$ corresponding to the $X$-type stabilisers.\n",
    "Each element $H_X[i,j]$ will be 1 if the $i$th $X$ stabiliser acts non-trivially on \n",
    "the $j$th qubit, and is 0 otherwise.\n",
    "\n",
    "\n",
    "We will construct $H_X$ by taking the [hypergraph product](https://arxiv.org/abs/0903.0566) of two repetition codes.\n",
    "The hypergraph product code construction $HGP(H_1,H_2)$ takes as input the parity check \n",
    "matrices of two linear codes $C_1:=\\ker H_1$ and $C_2:= \\ker H_2$. The code $HGP(H_1,H_2)$ \n",
    "is a CSS code with the check matrix for the $X$ stabilisers given by\n",
    "\n",
    "$$H_X=[H_1\\otimes I_{n_2},I_{r_1}\\otimes H_2^T]$$\n",
    "\n",
    "and with the check matrix for the $Z$ stabilisers given by \n",
    "\n",
    "$$H_Z=[I_{n_1}\\otimes H_2,H_1^T\\otimes I_{r_2}]$$\n",
    "\n",
    "where $H_1$ has dimensions $r_1\\times n_1$, $H_2$ has dimensions $r_2\\times n_2$ and $I_l$ denotes the $l\\times l$ identity matrix.\n",
    "\n",
    "Since we only need the $X$ stabilisers of the toric code with lattice size L, we only need to construct $H_X$, using the check matrix of a repetition code with length L for both $H_1$ and $H_2$:"
   ]
  },
  {
   "cell_type": "code",
   "execution_count": 1,
   "metadata": {},
   "outputs": [],
   "source": [
    "import numpy as np\n",
    "import matplotlib.pyplot as plt\n",
    "from scipy.sparse import hstack, kron, eye, csr_matrix, block_diag\n",
    "\n",
    "\n",
    "def repetition_code(n):\n",
    "    \"\"\"\n",
    "    Parity check matrix of a repetition code with length n.\n",
    "    \"\"\"\n",
    "    row_ind, col_ind = zip(*((i, j) for i in range(n) for j in (i, (i+1)%n)))\n",
    "    data = np.ones(2*n, dtype=np.uint8)\n",
    "    return csr_matrix((data, (row_ind, col_ind)))\n",
    "\n",
    "\n",
    "def toric_code_x_stabilisers(L):\n",
    "    \"\"\"\n",
    "    Sparse check matrix for the X stabilisers of a toric code with \n",
    "    lattice size L, constructed as the hypergraph product of \n",
    "    two repetition codes.\n",
    "    \"\"\"\n",
    "    Hr = repetition_code(L)\n",
    "    H = hstack(\n",
    "            [kron(Hr, eye(Hr.shape[1])), kron(eye(Hr.shape[0]), Hr.T)],\n",
    "            dtype=np.uint8\n",
    "        )\n",
    "    H.data = H.data % 2\n",
    "    H.eliminate_zeros()\n",
    "    return csr_matrix(H)"
   ]
  },
  {
   "cell_type": "markdown",
   "metadata": {},
   "source": [
    "From the [K&uuml;nneth theorem](https://en.wikipedia.org/wiki/K%C3%BCnneth_theorem), the $X$ logical operators of the toric code are given by\n",
    "\n",
    "$$L_X=\\left(\n",
    "  \\begin{array}{cc}\n",
    "  \\mathcal{H}^1\\otimes \\mathcal{H}^0 & 0 \\\\\n",
    "  0 & \\mathcal{H}^0\\otimes \\mathcal{H}^1\n",
    "\\end{array} \\right)$$\n",
    "\n",
    "where $\\mathcal{H}^0$ and $\\mathcal{H}^1$ are the zeroth and first cohomology groups of the length-one chain complex that has the repetition code parity check matrix as its boundary operator. We can construct this matrix with the following function:"
   ]
  },
  {
   "cell_type": "code",
   "execution_count": 2,
   "metadata": {},
   "outputs": [],
   "source": [
    "def toric_code_x_logicals(L):\n",
    "    \"\"\"\n",
    "    Sparse binary matrix with each row corresponding to an X logical operator \n",
    "    of a toric code with lattice size L. Constructed from the \n",
    "    homology groups of the repetition codes using the Kunneth \n",
    "    theorem.\n",
    "    \"\"\"\n",
    "    H1 = csr_matrix(([1], ([0],[0])), shape=(1,L), dtype=np.uint8)\n",
    "    H0 = csr_matrix(np.ones((1, L), dtype=np.uint8))\n",
    "    x_logicals = block_diag([kron(H1, H0), kron(H0, H1)])\n",
    "    x_logicals.data = x_logicals.data % 2\n",
    "    x_logicals.eliminate_zeros()\n",
    "    return csr_matrix(x_logicals)"
   ]
  },
  {
   "cell_type": "markdown",
   "metadata": {},
   "source": [
    "Now that we have the $X$ check matrix and $X$ logicals of the toric code, we can use PyMatching to simulate its performance using the minimum-weight perfect matching decoder and an error model of our choice.\n",
    "\n",
    "To do so, we first import the Matching class from PyMatching, and use it to construct a Matching object from the check matrix of the stabilisers:\n",
    "```\n",
    "from pymatching import Matching\n",
    "matching=Matching(H)\n",
    "```\n",
    "Constructing the Matching object, while efficient, is often slower than the decoding step itself. As a result, it's best to construct the Matching object only at the beginning of the experiment, and not before every use of the decoder, in order to obtain the best performance.\n",
    "\n",
    "We also choose a number of trials, `num_trials`.  For each trial, we simulate a $Z$ error under an independent noise model, in which each qubit independently suffers a $Z$ error with probability $p$:\n",
    "```\n",
    "noise = np.random.binomial(1, p, H.shape[1])\n",
    "```\n",
    "Here, `noise` is a binary vector and `noise[i]` is 1 if qubit $i$ suffers a $Z$ error, and 0 otherwise.\n",
    "\n",
    "The syndrome of the $X$ stabilisers is then calculated from the dot product (modulo 2) with the $X$ check matrix $H$:\n",
    "```\n",
    "syndrome = H@noise % 2\n",
    "```\n",
    "\n",
    "We can now use PyMatching to infer the most probable individual error given the syndrome:\n",
    "```\n",
    "correction = matching.decode(syndrome)\n",
    "```\n",
    "\n",
    "The total error is now given by the sum (modulo 2) of the noise and the correction:\n",
    "```\n",
    "error = (noise + correction) % 2\n",
    "```\n",
    "\n",
    "PyMatching is guaranteed to give a correction that returns us to the code space, so a logical $Z$ error will anti-commute with at least one of the $X$ logicals. Therefore a logical error has occurred if the condition\n",
    "```\n",
    "np.any(error@logicals.T % 2)\n",
    "```\n",
    "is `True`, where `logicals` is the binary matrix $L_X$ with each row corresponding to an $X$ logical.\n",
    "\n",
    "Taken together, we obtain the following function `num_decoding_failures` that returns the number of logical errors after `num_trials` Monte Carlo trials, simulating an independent error model with error probability `p`, with the $X$ stabiliser check matrix `H` and $X$ logical matrix `logicals`:"
   ]
  },
  {
   "cell_type": "code",
   "execution_count": 3,
   "metadata": {},
   "outputs": [],
   "source": [
    "from pymatching import Matching\n",
    "\n",
    "def num_decoding_failures(H, logicals, p, num_trials):\n",
    "    matching = Matching(H)\n",
    "    num_errors = 0\n",
    "    for i in range(num_trials):\n",
    "        noise = np.random.binomial(1, p, H.shape[1])\n",
    "        syndrome = H@noise % 2\n",
    "        correction = matching.decode(syndrome)\n",
    "        error = (noise + correction) % 2\n",
    "        if np.any(error@logicals.T % 2):\n",
    "            num_errors += 1\n",
    "    return num_errors"
   ]
  },
  {
   "cell_type": "markdown",
   "metadata": {},
   "source": [
    "Using this function, we can now estimate the threshold of the toric code by varying the error rate $p$, for a range of lattice sizes $L$. Running this next cell may take a couple of minutes:"
   ]
  },
  {
   "cell_type": "code",
   "execution_count": 4,
   "metadata": {},
   "outputs": [
    {
     "name": "stdout",
     "output_type": "stream",
     "text": [
      "Simulating L=4...\n",
      "Simulating L=8...\n",
      "Simulating L=12...\n",
      "CPU times: user 1min 59s, sys: 517 ms, total: 2min\n",
      "Wall time: 2min 4s\n"
     ]
    }
   ],
   "source": [
    "%%time\n",
    "\n",
    "num_trials = 5000\n",
    "Ls = range(4,14,4)\n",
    "ps = np.linspace(0.01, 0.2, 9)\n",
    "np.random.seed(2)\n",
    "log_errors_all_L = []\n",
    "for L in Ls:\n",
    "    print(\"Simulating L={}...\".format(L))\n",
    "    Hx = toric_code_x_stabilisers(L)\n",
    "    logX = toric_code_x_logicals(L)\n",
    "    log_errors = []\n",
    "    for p in ps:\n",
    "        num_errors = num_decoding_failures(Hx, logX, p, num_trials)\n",
    "        log_errors.append(num_errors/num_trials)\n",
    "    log_errors_all_L.append(np.array(log_errors))"
   ]
  },
  {
   "cell_type": "markdown",
   "metadata": {},
   "source": [
    "Finally, let's plot the results! We expect to see a threshold of around 10.3%, although a precise estimate requires using more trials, larger lattice sizes and scanning more values of $p$:"
   ]
  },
  {
   "cell_type": "code",
   "execution_count": 5,
   "metadata": {},
   "outputs": [
    {
     "data": {
      "image/png": "[encoded data removed]",
      "text/plain": [
       "<Figure size 432x288 with 1 Axes>"
      ]
     },
     "metadata": {
      "needs_background": "light"
     },
     "output_type": "display_data"
    }
   ],
   "source": [
    "%matplotlib inline\n",
    "\n",
    "plt.figure()\n",
    "for L, logical_errors in zip(Ls, log_errors_all_L):\n",
    "    std_err = (logical_errors*(1-logical_errors)/num_trials)**0.5\n",
    "    plt.errorbar(ps, logical_errors, yerr=std_err, label=\"L={}\".format(L))\n",
    "plt.xlabel(\"Physical error rate\")\n",
    "plt.ylabel(\"Logical error rate\")\n",
    "plt.legend(loc=0);"
   ]
  },
  {
   "cell_type": "markdown",
   "metadata": {},
   "source": [
    "## Noisy syndromes\n",
    "\n",
    "In the presence of measurement errors, each syndrome measurement is repeated $O(L)$ times, and decoding instead takes place over a 3D matching graph with an additional time dimension (see Section IV B of [this paper](https://arxiv.org/abs/quant-ph/0110143)). The time dimension can be added to the matching graph by specifying the number of repetitions when constructing the matching object:\n",
    "```\n",
    "matching = Matching(H, repetitions=T)\n",
    "```\n",
    "where here $T$ is the number of repetitions. For decoding, the difference syndrome should be supplied as an $r\\times T$ binary numpy matrix, where $r$ is the number of checks (rows in $H$). The difference syndrome in time step $t$ is the difference (modulo 2) between the syndrome measurement in time step $t$ and $t-1$, and ensures that any single measurement error results in two syndrome defects (at the endpoints of a timelike edge in the matching graph). The last round of syndrome measurements should be free of measurement errors to ensure that the overall syndrome has even parity: when qubits are measured individually at the end of a computation then the final round of syndrome measurement is indeed error-free (stabilisers can be determined exactly in post-processing), however the [overlapping recovery method](https://arxiv.org/abs/quant-ph/0110143) should be implemented when decoding must be completed before all qubits are measured.\n",
    "\n",
    "The following example demonstrates decoding in the presence of measurement errors using a phenomenological error model. In this error model, in each round of measurements each qubit suffers an error with probability $p$, and each syndrome is measured incorrectly with probability $q$."
   ]
  },
  {
   "cell_type": "code",
   "execution_count": 6,
   "metadata": {},
   "outputs": [],
   "source": [
    "def num_decoding_failures_noisy_syndromes(H, logicals, p, q, num_trials, repetitions):\n",
    "    matching = Matching(H, spacelike_weights=np.log((1-p)/p),\n",
    "                repetitions=repetitions, timelike_weights=np.log((1-q)/q))\n",
    "    num_stabilisers, num_qubits = H.shape\n",
    "    num_errors = 0\n",
    "    for i in range(num_trials):\n",
    "        noise_new = (np.random.rand(num_qubits, repetitions) < p).astype(np.uint8)\n",
    "        noise_cumulative = (np.cumsum(noise_new, 1) % 2).astype(np.uint8)\n",
    "        noise_total = noise_cumulative[:,-1]\n",
    "        syndrome = H@noise_cumulative % 2\n",
    "        syndrome_error = (np.random.rand(num_stabilisers, repetitions) < q).astype(np.uint8)\n",
    "        syndrome_error[:,-1] = 0 # Perfect measurements in last round to ensure even parity\n",
    "        noisy_syndrome = (syndrome + syndrome_error) % 2\n",
    "        # Convert to difference syndrome\n",
    "        noisy_syndrome[:,1:] = (noisy_syndrome[:,1:] - noisy_syndrome[:,0:-1]) % 2\n",
    "        correction = matching.decode(noisy_syndrome)\n",
    "        error = (noise_total + correction) % 2\n",
    "        assert not np.any(H@error % 2)\n",
    "        if np.any(error@logicals.T % 2):\n",
    "            num_errors += 1\n",
    "    return num_errors"
   ]
  },
  {
   "cell_type": "markdown",
   "metadata": {},
   "source": [
    "We'll now simulate the performance of the decoder for a range of lattice sizes $L$ and physical error rate $p$ (taking $q=p$) and estimate the threshold. This next cell takes around 15 minutes to execute:"
   ]
  },
  {
   "cell_type": "code",
   "execution_count": 7,
   "metadata": {},
   "outputs": [
    {
     "name": "stdout",
     "output_type": "stream",
     "text": [
      "Simulating L=8...\n",
      "Simulating L=10...\n",
      "Simulating L=12...\n",
      "CPU times: user 17min 28s, sys: 6.44 s, total: 17min 34s\n",
      "Wall time: 19min 3s\n"
     ]
    }
   ],
   "source": [
    "%%time\n",
    "\n",
    "num_trials = 5000\n",
    "Ls = range(8,13,2)\n",
    "ps = np.linspace(0.02, 0.04, 7)\n",
    "log_errors_all_L = []\n",
    "for L in Ls:\n",
    "    print(\"Simulating L={}...\".format(L))\n",
    "    Hx = toric_code_x_stabilisers(L)\n",
    "    logX = toric_code_x_logicals(L)\n",
    "    log_errors = []\n",
    "    for p in ps:\n",
    "        num_errors = num_decoding_failures_noisy_syndromes(Hx, logX, p, p, num_trials, L)\n",
    "        log_errors.append(num_errors/num_trials)\n",
    "    log_errors_all_L.append(np.array(log_errors))"
   ]
  },
  {
   "cell_type": "markdown",
   "metadata": {},
   "source": [
    "Plotting the results, we find a threshold of around 3%, consistent with the threshold of 2.9% found in [this paper](https://arxiv.org/abs/quant-ph/0207088):"
   ]
  },
  {
   "cell_type": "code",
   "execution_count": 8,
   "metadata": {},
   "outputs": [
    {
     "data": {
      "image/png": "[encoded data removed]",
      "text/plain": [
       "<Figure size 432x288 with 1 Axes>"
      ]
     },
     "metadata": {
      "needs_background": "light"
     },
     "output_type": "display_data"
    }
   ],
   "source": [
    "%matplotlib inline\n",
    "\n",
    "plt.figure()\n",
    "for L, logical_errors in zip(Ls, log_errors_all_L):\n",
    "    std_err = (logical_errors*(1-logical_errors)/num_trials)**0.5\n",
    "    plt.errorbar(ps, logical_errors, yerr=std_err, label=\"L={}\".format(L))\n",
    "plt.yscale(\"log\")\n",
    "plt.xlabel(\"Physical error rate\")\n",
    "plt.ylabel(\"Logical error rate\")\n",
    "plt.legend(loc=0);"
   ]
  }
 ],
 "metadata": {
  "kernelspec": {
   "display_name": "Python 3",
   "language": "python",
   "name": "python3"
  },
  "language_info": {
   "codemirror_mode": {
    "name": "ipython",
    "version": 3
   },
   "file_extension": ".py",
   "mimetype": "text/x-python",
   "name": "python",
   "nbconvert_exporter": "python",
   "pygments_lexer": "ipython3",
   "version": "3.7.4"
  }
 },
 "nbformat": 4,
 "nbformat_minor": 2
}
