{
 "cells": [
  {
   "cell_type": "code",
   "execution_count": 1,
   "id": "8f5773e4",
   "metadata": {},
   "outputs": [
    {
     "name": "stdout",
     "output_type": "stream",
     "text": [
      "Requirement already satisfied: useis in /home/jpmercier/.cache/pypoetry/virtualenvs/useis-FnAHyGRc-py3.8/lib/python3.8/site-packages (0.8.3)\n",
      "Requirement already satisfied: furl<3.0.0,>=2.1.2 in /home/jpmercier/.cache/pypoetry/virtualenvs/useis-FnAHyGRc-py3.8/lib/python3.8/site-packages (from useis) (2.1.2)\n",
      "Requirement already satisfied: grpcio-tools<2.0.0,>=1.39.0 in /home/jpmercier/.cache/pypoetry/virtualenvs/useis-FnAHyGRc-py3.8/lib/python3.8/site-packages (from useis) (1.40.0)\n",
      "Requirement already satisfied: uvicorn<0.16.0,>=0.15.0 in /home/jpmercier/.cache/pypoetry/virtualenvs/useis-FnAHyGRc-py3.8/lib/python3.8/site-packages (from useis) (0.15.0)\n",
      "Requirement already satisfied: uquake<0.9,>=0.8 in /home/jpmercier/.cache/pypoetry/virtualenvs/useis-FnAHyGRc-py3.8/lib/python3.8/site-packages (from useis) (0.8.17)\n",
      "Requirement already satisfied: python-multipart<0.0.6,>=0.0.5 in /home/jpmercier/.cache/pypoetry/virtualenvs/useis-FnAHyGRc-py3.8/lib/python3.8/site-packages (from useis) (0.0.5)\n",
      "Requirement already satisfied: grpcio<2.0.0,>=1.39.0 in /home/jpmercier/.cache/pypoetry/virtualenvs/useis-FnAHyGRc-py3.8/lib/python3.8/site-packages (from useis) (1.40.0)\n",
      "Requirement already satisfied: dynaconf<4.0.0,>=3.1.4 in /home/jpmercier/.cache/pypoetry/virtualenvs/useis-FnAHyGRc-py3.8/lib/python3.8/site-packages (from useis) (3.1.7)\n",
      "Requirement already satisfied: pydantic<2.0.0,>=1.8.2 in /home/jpmercier/.cache/pypoetry/virtualenvs/useis-FnAHyGRc-py3.8/lib/python3.8/site-packages (from useis) (1.8.2)\n",
      "Requirement already satisfied: rinohtype<0.6.0,>=0.5.3 in /home/jpmercier/.cache/pypoetry/virtualenvs/useis-FnAHyGRc-py3.8/lib/python3.8/site-packages (from useis) (0.5.3)\n",
      "Requirement already satisfied: myst-parser<0.16.0,>=0.15.1 in /home/jpmercier/.cache/pypoetry/virtualenvs/useis-FnAHyGRc-py3.8/lib/python3.8/site-packages (from useis) (0.15.2)\n",
      "Requirement already satisfied: tqdm<5.0.0,>=4.59.0 in /home/jpmercier/.cache/pypoetry/virtualenvs/useis-FnAHyGRc-py3.8/lib/python3.8/site-packages (from useis) (4.62.3)\n",
      "Requirement already satisfied: fastapi<0.69.0,>=0.68.1 in /home/jpmercier/.cache/pypoetry/virtualenvs/useis-FnAHyGRc-py3.8/lib/python3.8/site-packages (from useis) (0.68.1)\n",
      "Requirement already satisfied: starlette==0.14.2 in /home/jpmercier/.cache/pypoetry/virtualenvs/useis-FnAHyGRc-py3.8/lib/python3.8/site-packages (from fastapi<0.69.0,>=0.68.1->useis) (0.14.2)\n",
      "Requirement already satisfied: orderedmultidict>=1.0.1 in /home/jpmercier/.cache/pypoetry/virtualenvs/useis-FnAHyGRc-py3.8/lib/python3.8/site-packages (from furl<3.0.0,>=2.1.2->useis) (1.0.1)\n",
      "Requirement already satisfied: six>=1.8.0 in /home/jpmercier/.cache/pypoetry/virtualenvs/useis-FnAHyGRc-py3.8/lib/python3.8/site-packages (from furl<3.0.0,>=2.1.2->useis) (1.16.0)\n",
      "Requirement already satisfied: protobuf<4.0dev,>=3.5.0.post1 in /home/jpmercier/.cache/pypoetry/virtualenvs/useis-FnAHyGRc-py3.8/lib/python3.8/site-packages (from grpcio-tools<2.0.0,>=1.39.0->useis) (3.18.0)\n",
      "Requirement already satisfied: setuptools in /home/jpmercier/.cache/pypoetry/virtualenvs/useis-FnAHyGRc-py3.8/lib/python3.8/site-packages (from grpcio-tools<2.0.0,>=1.39.0->useis) (52.0.0)\n",
      "Requirement already satisfied: pyyaml in /home/jpmercier/.cache/pypoetry/virtualenvs/useis-FnAHyGRc-py3.8/lib/python3.8/site-packages (from myst-parser<0.16.0,>=0.15.1->useis) (5.4.1)\n",
      "Requirement already satisfied: sphinx<5,>=3.1 in /home/jpmercier/.cache/pypoetry/virtualenvs/useis-FnAHyGRc-py3.8/lib/python3.8/site-packages (from myst-parser<0.16.0,>=0.15.1->useis) (4.2.0)\n",
      "Requirement already satisfied: mdit-py-plugins~=0.2.8 in /home/jpmercier/.cache/pypoetry/virtualenvs/useis-FnAHyGRc-py3.8/lib/python3.8/site-packages (from myst-parser<0.16.0,>=0.15.1->useis) (0.2.8)\n",
      "Requirement already satisfied: docutils<0.18,>=0.15 in /home/jpmercier/.cache/pypoetry/virtualenvs/useis-FnAHyGRc-py3.8/lib/python3.8/site-packages (from myst-parser<0.16.0,>=0.15.1->useis) (0.16)\n",
      "Requirement already satisfied: jinja2 in /home/jpmercier/.cache/pypoetry/virtualenvs/useis-FnAHyGRc-py3.8/lib/python3.8/site-packages (from myst-parser<0.16.0,>=0.15.1->useis) (3.0.1)\n",
      "Requirement already satisfied: markdown-it-py<2.0.0,>=1.0.0 in /home/jpmercier/.cache/pypoetry/virtualenvs/useis-FnAHyGRc-py3.8/lib/python3.8/site-packages (from myst-parser<0.16.0,>=0.15.1->useis) (1.1.0)\n",
      "Requirement already satisfied: attrs<22,>=19 in /home/jpmercier/.cache/pypoetry/virtualenvs/useis-FnAHyGRc-py3.8/lib/python3.8/site-packages (from markdown-it-py<2.0.0,>=1.0.0->myst-parser<0.16.0,>=0.15.1->useis) (21.2.0)\n",
      "Requirement already satisfied: typing-extensions>=3.7.4.3 in /home/jpmercier/.cache/pypoetry/virtualenvs/useis-FnAHyGRc-py3.8/lib/python3.8/site-packages (from pydantic<2.0.0,>=1.8.2->useis) (3.10.0.2)\n",
      "Requirement already satisfied: appdirs<2.0.0,>=1.4.3 in /home/jpmercier/.cache/pypoetry/virtualenvs/useis-FnAHyGRc-py3.8/lib/python3.8/site-packages (from rinohtype<0.6.0,>=0.5.3->useis) (1.4.4)\n",
      "Requirement already satisfied: recommonmark>=0.6.0 in /home/jpmercier/.cache/pypoetry/virtualenvs/useis-FnAHyGRc-py3.8/lib/python3.8/site-packages (from rinohtype<0.6.0,>=0.5.3->useis) (0.7.1)\n",
      "Requirement already satisfied: rinoh-typeface-dejavuserif<0.2.0,>=0.1.3 in /home/jpmercier/.cache/pypoetry/virtualenvs/useis-FnAHyGRc-py3.8/lib/python3.8/site-packages (from rinohtype<0.6.0,>=0.5.3->useis) (0.1.3)\n",
      "Requirement already satisfied: rinoh-typeface-texgyrepagella<0.2.0,>=0.1.1 in /home/jpmercier/.cache/pypoetry/virtualenvs/useis-FnAHyGRc-py3.8/lib/python3.8/site-packages (from rinohtype<0.6.0,>=0.5.3->useis) (0.1.1)\n",
      "Requirement already satisfied: rinoh-typeface-texgyrecursor<0.2.0,>=0.1.1 in /home/jpmercier/.cache/pypoetry/virtualenvs/useis-FnAHyGRc-py3.8/lib/python3.8/site-packages (from rinohtype<0.6.0,>=0.5.3->useis) (0.1.1)\n",
      "Requirement already satisfied: rinoh-typeface-texgyreheros<0.2.0,>=0.1.1 in /home/jpmercier/.cache/pypoetry/virtualenvs/useis-FnAHyGRc-py3.8/lib/python3.8/site-packages (from rinohtype<0.6.0,>=0.5.3->useis) (0.1.1)\n",
      "Requirement already satisfied: commonmark>=0.8.1 in /home/jpmercier/.cache/pypoetry/virtualenvs/useis-FnAHyGRc-py3.8/lib/python3.8/site-packages (from recommonmark>=0.6.0->rinohtype<0.6.0,>=0.5.3->useis) (0.9.1)\n",
      "Requirement already satisfied: requests>=2.5.0 in /home/jpmercier/.cache/pypoetry/virtualenvs/useis-FnAHyGRc-py3.8/lib/python3.8/site-packages (from sphinx<5,>=3.1->myst-parser<0.16.0,>=0.15.1->useis) (2.26.0)\n",
      "Requirement already satisfied: sphinxcontrib-devhelp in /home/jpmercier/.cache/pypoetry/virtualenvs/useis-FnAHyGRc-py3.8/lib/python3.8/site-packages (from sphinx<5,>=3.1->myst-parser<0.16.0,>=0.15.1->useis) (1.0.2)\n",
      "Requirement already satisfied: Pygments>=2.0 in /home/jpmercier/.cache/pypoetry/virtualenvs/useis-FnAHyGRc-py3.8/lib/python3.8/site-packages (from sphinx<5,>=3.1->myst-parser<0.16.0,>=0.15.1->useis) (2.10.0)\n",
      "Requirement already satisfied: sphinxcontrib-qthelp in /home/jpmercier/.cache/pypoetry/virtualenvs/useis-FnAHyGRc-py3.8/lib/python3.8/site-packages (from sphinx<5,>=3.1->myst-parser<0.16.0,>=0.15.1->useis) (1.0.3)\n",
      "Requirement already satisfied: babel>=1.3 in /home/jpmercier/.cache/pypoetry/virtualenvs/useis-FnAHyGRc-py3.8/lib/python3.8/site-packages (from sphinx<5,>=3.1->myst-parser<0.16.0,>=0.15.1->useis) (2.9.1)\n",
      "Requirement already satisfied: alabaster<0.8,>=0.7 in /home/jpmercier/.cache/pypoetry/virtualenvs/useis-FnAHyGRc-py3.8/lib/python3.8/site-packages (from sphinx<5,>=3.1->myst-parser<0.16.0,>=0.15.1->useis) (0.7.12)\n",
      "Requirement already satisfied: imagesize in /home/jpmercier/.cache/pypoetry/virtualenvs/useis-FnAHyGRc-py3.8/lib/python3.8/site-packages (from sphinx<5,>=3.1->myst-parser<0.16.0,>=0.15.1->useis) (1.2.0)\n",
      "Requirement already satisfied: sphinxcontrib-jsmath in /home/jpmercier/.cache/pypoetry/virtualenvs/useis-FnAHyGRc-py3.8/lib/python3.8/site-packages (from sphinx<5,>=3.1->myst-parser<0.16.0,>=0.15.1->useis) (1.0.1)\n",
      "Requirement already satisfied: sphinxcontrib-serializinghtml>=1.1.5 in /home/jpmercier/.cache/pypoetry/virtualenvs/useis-FnAHyGRc-py3.8/lib/python3.8/site-packages (from sphinx<5,>=3.1->myst-parser<0.16.0,>=0.15.1->useis) (1.1.5)\n",
      "Requirement already satisfied: packaging in /home/jpmercier/.cache/pypoetry/virtualenvs/useis-FnAHyGRc-py3.8/lib/python3.8/site-packages (from sphinx<5,>=3.1->myst-parser<0.16.0,>=0.15.1->useis) (21.0)\n",
      "Requirement already satisfied: sphinxcontrib-applehelp in /home/jpmercier/.cache/pypoetry/virtualenvs/useis-FnAHyGRc-py3.8/lib/python3.8/site-packages (from sphinx<5,>=3.1->myst-parser<0.16.0,>=0.15.1->useis) (1.0.2)\n",
      "Requirement already satisfied: snowballstemmer>=1.1 in /home/jpmercier/.cache/pypoetry/virtualenvs/useis-FnAHyGRc-py3.8/lib/python3.8/site-packages (from sphinx<5,>=3.1->myst-parser<0.16.0,>=0.15.1->useis) (2.1.0)\n",
      "Requirement already satisfied: sphinxcontrib-htmlhelp>=2.0.0 in /home/jpmercier/.cache/pypoetry/virtualenvs/useis-FnAHyGRc-py3.8/lib/python3.8/site-packages (from sphinx<5,>=3.1->myst-parser<0.16.0,>=0.15.1->useis) (2.0.0)\n",
      "Requirement already satisfied: pytz>=2015.7 in /home/jpmercier/.cache/pypoetry/virtualenvs/useis-FnAHyGRc-py3.8/lib/python3.8/site-packages (from babel>=1.3->sphinx<5,>=3.1->myst-parser<0.16.0,>=0.15.1->useis) (2021.1)\n",
      "Requirement already satisfied: MarkupSafe>=2.0 in /home/jpmercier/.cache/pypoetry/virtualenvs/useis-FnAHyGRc-py3.8/lib/python3.8/site-packages (from jinja2->myst-parser<0.16.0,>=0.15.1->useis) (2.0.1)\n",
      "Requirement already satisfied: urllib3<1.27,>=1.21.1 in /home/jpmercier/.cache/pypoetry/virtualenvs/useis-FnAHyGRc-py3.8/lib/python3.8/site-packages (from requests>=2.5.0->sphinx<5,>=3.1->myst-parser<0.16.0,>=0.15.1->useis) (1.26.7)\n",
      "Requirement already satisfied: certifi>=2017.4.17 in /home/jpmercier/.cache/pypoetry/virtualenvs/useis-FnAHyGRc-py3.8/lib/python3.8/site-packages (from requests>=2.5.0->sphinx<5,>=3.1->myst-parser<0.16.0,>=0.15.1->useis) (2021.5.30)\n",
      "Requirement already satisfied: charset-normalizer~=2.0.0 in /home/jpmercier/.cache/pypoetry/virtualenvs/useis-FnAHyGRc-py3.8/lib/python3.8/site-packages (from requests>=2.5.0->sphinx<5,>=3.1->myst-parser<0.16.0,>=0.15.1->useis) (2.0.6)\n",
      "Requirement already satisfied: idna<4,>=2.5 in /home/jpmercier/.cache/pypoetry/virtualenvs/useis-FnAHyGRc-py3.8/lib/python3.8/site-packages (from requests>=2.5.0->sphinx<5,>=3.1->myst-parser<0.16.0,>=0.15.1->useis) (3.2)\n"
     ]
    },
    {
     "name": "stdout",
     "output_type": "stream",
     "text": [
      "Requirement already satisfied: jedi==0.17.2 in /home/jpmercier/.cache/pypoetry/virtualenvs/useis-FnAHyGRc-py3.8/lib/python3.8/site-packages (from uquake<0.9,>=0.8->useis) (0.17.2)\n",
      "Requirement already satisfied: scikit-fmm<2022.0.0,>=2021.2.2 in /home/jpmercier/.cache/pypoetry/virtualenvs/useis-FnAHyGRc-py3.8/lib/python3.8/site-packages (from uquake<0.9,>=0.8->useis) (2021.9.23)\n",
      "Requirement already satisfied: pandas<2.0.0,>=1.2.1 in /home/jpmercier/.cache/pypoetry/virtualenvs/useis-FnAHyGRc-py3.8/lib/python3.8/site-packages (from uquake<0.9,>=0.8->useis) (1.3.3)\n",
      "Requirement already satisfied: vtk<10.0.0,>=9.0.1 in /home/jpmercier/.cache/pypoetry/virtualenvs/useis-FnAHyGRc-py3.8/lib/python3.8/site-packages (from uquake<0.9,>=0.8->useis) (9.0.3)\n",
      "Requirement already satisfied: loguru<0.6.0,>=0.5.3 in /home/jpmercier/.cache/pypoetry/virtualenvs/useis-FnAHyGRc-py3.8/lib/python3.8/site-packages (from uquake<0.9,>=0.8->useis) (0.5.3)\n",
      "Requirement already satisfied: ipython<8.0.0,>=7.19.0 in /home/jpmercier/.cache/pypoetry/virtualenvs/useis-FnAHyGRc-py3.8/lib/python3.8/site-packages (from uquake<0.9,>=0.8->useis) (7.28.0)\n",
      "Requirement already satisfied: utm<0.8.0,>=0.7.0 in /home/jpmercier/.cache/pypoetry/virtualenvs/useis-FnAHyGRc-py3.8/lib/python3.8/site-packages (from uquake<0.9,>=0.8->useis) (0.7.0)\n",
      "Requirement already satisfied: pytest<7.0.0,>=6.2.1 in /home/jpmercier/.cache/pypoetry/virtualenvs/useis-FnAHyGRc-py3.8/lib/python3.8/site-packages (from uquake<0.9,>=0.8->useis) (6.2.5)\n",
      "Requirement already satisfied: numpy<2.0.0,>=1.18.0 in /home/jpmercier/.cache/pypoetry/virtualenvs/useis-FnAHyGRc-py3.8/lib/python3.8/site-packages (from uquake<0.9,>=0.8->useis) (1.21.1)\n",
      "Requirement already satisfied: obspy<2.0.0,>=1.2.2 in /home/jpmercier/.cache/pypoetry/virtualenvs/useis-FnAHyGRc-py3.8/lib/python3.8/site-packages (from uquake<0.9,>=0.8->useis) (1.2.2)\n",
      "Requirement already satisfied: openpyxl<4.0.0,>=3.0.6 in /home/jpmercier/.cache/pypoetry/virtualenvs/useis-FnAHyGRc-py3.8/lib/python3.8/site-packages (from uquake<0.9,>=0.8->useis) (3.0.9)\n",
      "Requirement already satisfied: h5py<4.0.0,>=3.2.1 in /home/jpmercier/.cache/pypoetry/virtualenvs/useis-FnAHyGRc-py3.8/lib/python3.8/site-packages (from uquake<0.9,>=0.8->useis) (3.4.0)\n",
      "Requirement already satisfied: parso<0.8.0,>=0.7.0 in /home/jpmercier/.cache/pypoetry/virtualenvs/useis-FnAHyGRc-py3.8/lib/python3.8/site-packages (from jedi==0.17.2->uquake<0.9,>=0.8->useis) (0.7.1)\n",
      "Requirement already satisfied: pexpect>4.3 in /home/jpmercier/.cache/pypoetry/virtualenvs/useis-FnAHyGRc-py3.8/lib/python3.8/site-packages (from ipython<8.0.0,>=7.19.0->uquake<0.9,>=0.8->useis) (4.8.0)\n",
      "Requirement already satisfied: decorator in /home/jpmercier/.cache/pypoetry/virtualenvs/useis-FnAHyGRc-py3.8/lib/python3.8/site-packages (from ipython<8.0.0,>=7.19.0->uquake<0.9,>=0.8->useis) (5.1.0)\n",
      "Requirement already satisfied: pickleshare in /home/jpmercier/.cache/pypoetry/virtualenvs/useis-FnAHyGRc-py3.8/lib/python3.8/site-packages (from ipython<8.0.0,>=7.19.0->uquake<0.9,>=0.8->useis) (0.7.5)\n",
      "Requirement already satisfied: matplotlib-inline in /home/jpmercier/.cache/pypoetry/virtualenvs/useis-FnAHyGRc-py3.8/lib/python3.8/site-packages (from ipython<8.0.0,>=7.19.0->uquake<0.9,>=0.8->useis) (0.1.3)\n",
      "Requirement already satisfied: prompt-toolkit!=3.0.0,!=3.0.1,<3.1.0,>=2.0.0 in /home/jpmercier/.cache/pypoetry/virtualenvs/useis-FnAHyGRc-py3.8/lib/python3.8/site-packages (from ipython<8.0.0,>=7.19.0->uquake<0.9,>=0.8->useis) (3.0.20)\n",
      "Requirement already satisfied: backcall in /home/jpmercier/.cache/pypoetry/virtualenvs/useis-FnAHyGRc-py3.8/lib/python3.8/site-packages (from ipython<8.0.0,>=7.19.0->uquake<0.9,>=0.8->useis) (0.2.0)\n",
      "Requirement already satisfied: traitlets>=4.2 in /home/jpmercier/.cache/pypoetry/virtualenvs/useis-FnAHyGRc-py3.8/lib/python3.8/site-packages (from ipython<8.0.0,>=7.19.0->uquake<0.9,>=0.8->useis) (5.1.0)\n",
      "Requirement already satisfied: lxml in /home/jpmercier/.cache/pypoetry/virtualenvs/useis-FnAHyGRc-py3.8/lib/python3.8/site-packages (from obspy<2.0.0,>=1.2.2->uquake<0.9,>=0.8->useis) (4.6.3)\n",
      "Requirement already satisfied: scipy>=0.9.0 in /home/jpmercier/.cache/pypoetry/virtualenvs/useis-FnAHyGRc-py3.8/lib/python3.8/site-packages (from obspy<2.0.0,>=1.2.2->uquake<0.9,>=0.8->useis) (1.6.1)\n",
      "Requirement already satisfied: sqlalchemy in /home/jpmercier/.cache/pypoetry/virtualenvs/useis-FnAHyGRc-py3.8/lib/python3.8/site-packages (from obspy<2.0.0,>=1.2.2->uquake<0.9,>=0.8->useis) (1.4.25)\n",
      "Requirement already satisfied: matplotlib>=1.1.0 in /home/jpmercier/.cache/pypoetry/virtualenvs/useis-FnAHyGRc-py3.8/lib/python3.8/site-packages (from obspy<2.0.0,>=1.2.2->uquake<0.9,>=0.8->useis) (3.4.3)\n",
      "Requirement already satisfied: future>=0.12.4 in /home/jpmercier/.cache/pypoetry/virtualenvs/useis-FnAHyGRc-py3.8/lib/python3.8/site-packages (from obspy<2.0.0,>=1.2.2->uquake<0.9,>=0.8->useis) (0.18.2)\n",
      "Requirement already satisfied: pillow>=6.2.0 in /home/jpmercier/.cache/pypoetry/virtualenvs/useis-FnAHyGRc-py3.8/lib/python3.8/site-packages (from matplotlib>=1.1.0->obspy<2.0.0,>=1.2.2->uquake<0.9,>=0.8->useis) (8.3.2)\n",
      "Requirement already satisfied: kiwisolver>=1.0.1 in /home/jpmercier/.cache/pypoetry/virtualenvs/useis-FnAHyGRc-py3.8/lib/python3.8/site-packages (from matplotlib>=1.1.0->obspy<2.0.0,>=1.2.2->uquake<0.9,>=0.8->useis) (1.3.2)\n",
      "Requirement already satisfied: pyparsing>=2.2.1 in /home/jpmercier/.cache/pypoetry/virtualenvs/useis-FnAHyGRc-py3.8/lib/python3.8/site-packages (from matplotlib>=1.1.0->obspy<2.0.0,>=1.2.2->uquake<0.9,>=0.8->useis) (2.4.7)\n",
      "Requirement already satisfied: cycler>=0.10 in /home/jpmercier/.cache/pypoetry/virtualenvs/useis-FnAHyGRc-py3.8/lib/python3.8/site-packages (from matplotlib>=1.1.0->obspy<2.0.0,>=1.2.2->uquake<0.9,>=0.8->useis) (0.10.0)\n",
      "Requirement already satisfied: python-dateutil>=2.7 in /home/jpmercier/.cache/pypoetry/virtualenvs/useis-FnAHyGRc-py3.8/lib/python3.8/site-packages (from matplotlib>=1.1.0->obspy<2.0.0,>=1.2.2->uquake<0.9,>=0.8->useis) (2.8.2)\n",
      "Requirement already satisfied: et-xmlfile in /home/jpmercier/.cache/pypoetry/virtualenvs/useis-FnAHyGRc-py3.8/lib/python3.8/site-packages (from openpyxl<4.0.0,>=3.0.6->uquake<0.9,>=0.8->useis) (1.1.0)\n",
      "Requirement already satisfied: ptyprocess>=0.5 in /home/jpmercier/.cache/pypoetry/virtualenvs/useis-FnAHyGRc-py3.8/lib/python3.8/site-packages (from pexpect>4.3->ipython<8.0.0,>=7.19.0->uquake<0.9,>=0.8->useis) (0.7.0)\n",
      "Requirement already satisfied: wcwidth in /home/jpmercier/.cache/pypoetry/virtualenvs/useis-FnAHyGRc-py3.8/lib/python3.8/site-packages (from prompt-toolkit!=3.0.0,!=3.0.1,<3.1.0,>=2.0.0->ipython<8.0.0,>=7.19.0->uquake<0.9,>=0.8->useis) (0.2.5)\n",
      "Requirement already satisfied: iniconfig in /home/jpmercier/.cache/pypoetry/virtualenvs/useis-FnAHyGRc-py3.8/lib/python3.8/site-packages (from pytest<7.0.0,>=6.2.1->uquake<0.9,>=0.8->useis) (1.1.1)\n",
      "Requirement already satisfied: pluggy<2.0,>=0.12 in /home/jpmercier/.cache/pypoetry/virtualenvs/useis-FnAHyGRc-py3.8/lib/python3.8/site-packages (from pytest<7.0.0,>=6.2.1->uquake<0.9,>=0.8->useis) (1.0.0)\n",
      "Requirement already satisfied: py>=1.8.2 in /home/jpmercier/.cache/pypoetry/virtualenvs/useis-FnAHyGRc-py3.8/lib/python3.8/site-packages (from pytest<7.0.0,>=6.2.1->uquake<0.9,>=0.8->useis) (1.10.0)\n",
      "Requirement already satisfied: toml in /home/jpmercier/.cache/pypoetry/virtualenvs/useis-FnAHyGRc-py3.8/lib/python3.8/site-packages (from pytest<7.0.0,>=6.2.1->uquake<0.9,>=0.8->useis) (0.10.2)\n",
      "Requirement already satisfied: asgiref>=3.4.0 in /home/jpmercier/.cache/pypoetry/virtualenvs/useis-FnAHyGRc-py3.8/lib/python3.8/site-packages (from uvicorn<0.16.0,>=0.15.0->useis) (3.4.1)\n",
      "Requirement already satisfied: h11>=0.8 in /home/jpmercier/.cache/pypoetry/virtualenvs/useis-FnAHyGRc-py3.8/lib/python3.8/site-packages (from uvicorn<0.16.0,>=0.15.0->useis) (0.12.0)\n",
      "Requirement already satisfied: click>=7.0 in /home/jpmercier/.cache/pypoetry/virtualenvs/useis-FnAHyGRc-py3.8/lib/python3.8/site-packages (from uvicorn<0.16.0,>=0.15.0->useis) (8.0.1)\n",
      "Requirement already satisfied: wslink>=0.1.3 in /home/jpmercier/.cache/pypoetry/virtualenvs/useis-FnAHyGRc-py3.8/lib/python3.8/site-packages (from vtk<10.0.0,>=9.0.1->uquake<0.9,>=0.8->useis) (1.0.7)\n",
      "Requirement already satisfied: autobahn>=17.7.1 in /home/jpmercier/.cache/pypoetry/virtualenvs/useis-FnAHyGRc-py3.8/lib/python3.8/site-packages (from vtk<10.0.0,>=9.0.1->uquake<0.9,>=0.8->useis) (21.3.1)\n",
      "Requirement already satisfied: Twisted>=17.5.0 in /home/jpmercier/.cache/pypoetry/virtualenvs/useis-FnAHyGRc-py3.8/lib/python3.8/site-packages (from vtk<10.0.0,>=9.0.1->uquake<0.9,>=0.8->useis) (21.7.0)\n",
      "Requirement already satisfied: txaio>=21.2.1 in /home/jpmercier/.cache/pypoetry/virtualenvs/useis-FnAHyGRc-py3.8/lib/python3.8/site-packages (from autobahn>=17.7.1->vtk<10.0.0,>=9.0.1->uquake<0.9,>=0.8->useis) (21.2.1)\n"
     ]
    },
    {
     "name": "stdout",
     "output_type": "stream",
     "text": [
      "Requirement already satisfied: hyperlink>=21.0.0 in /home/jpmercier/.cache/pypoetry/virtualenvs/useis-FnAHyGRc-py3.8/lib/python3.8/site-packages (from autobahn>=17.7.1->vtk<10.0.0,>=9.0.1->uquake<0.9,>=0.8->useis) (21.0.0)\n",
      "Requirement already satisfied: cryptography>=3.4.6 in /home/jpmercier/.cache/pypoetry/virtualenvs/useis-FnAHyGRc-py3.8/lib/python3.8/site-packages (from autobahn>=17.7.1->vtk<10.0.0,>=9.0.1->uquake<0.9,>=0.8->useis) (3.4.8)\n",
      "Requirement already satisfied: cffi>=1.12 in /home/jpmercier/.cache/pypoetry/virtualenvs/useis-FnAHyGRc-py3.8/lib/python3.8/site-packages (from cryptography>=3.4.6->autobahn>=17.7.1->vtk<10.0.0,>=9.0.1->uquake<0.9,>=0.8->useis) (1.14.6)\n",
      "Requirement already satisfied: pycparser in /home/jpmercier/.cache/pypoetry/virtualenvs/useis-FnAHyGRc-py3.8/lib/python3.8/site-packages (from cffi>=1.12->cryptography>=3.4.6->autobahn>=17.7.1->vtk<10.0.0,>=9.0.1->uquake<0.9,>=0.8->useis) (2.20)\n",
      "Requirement already satisfied: incremental>=21.3.0 in /home/jpmercier/.cache/pypoetry/virtualenvs/useis-FnAHyGRc-py3.8/lib/python3.8/site-packages (from Twisted>=17.5.0->vtk<10.0.0,>=9.0.1->uquake<0.9,>=0.8->useis) (21.3.0)\n",
      "Requirement already satisfied: Automat>=0.8.0 in /home/jpmercier/.cache/pypoetry/virtualenvs/useis-FnAHyGRc-py3.8/lib/python3.8/site-packages (from Twisted>=17.5.0->vtk<10.0.0,>=9.0.1->uquake<0.9,>=0.8->useis) (20.2.0)\n",
      "Requirement already satisfied: zope.interface>=4.4.2 in /home/jpmercier/.cache/pypoetry/virtualenvs/useis-FnAHyGRc-py3.8/lib/python3.8/site-packages (from Twisted>=17.5.0->vtk<10.0.0,>=9.0.1->uquake<0.9,>=0.8->useis) (5.4.0)\n",
      "Requirement already satisfied: constantly>=15.1 in /home/jpmercier/.cache/pypoetry/virtualenvs/useis-FnAHyGRc-py3.8/lib/python3.8/site-packages (from Twisted>=17.5.0->vtk<10.0.0,>=9.0.1->uquake<0.9,>=0.8->useis) (15.1.0)\n",
      "Requirement already satisfied: aiohttp in /home/jpmercier/.cache/pypoetry/virtualenvs/useis-FnAHyGRc-py3.8/lib/python3.8/site-packages (from wslink>=0.1.3->vtk<10.0.0,>=9.0.1->uquake<0.9,>=0.8->useis) (3.7.4.post0)\n",
      "Requirement already satisfied: async-timeout<4.0,>=3.0 in /home/jpmercier/.cache/pypoetry/virtualenvs/useis-FnAHyGRc-py3.8/lib/python3.8/site-packages (from aiohttp->wslink>=0.1.3->vtk<10.0.0,>=9.0.1->uquake<0.9,>=0.8->useis) (3.0.1)\n",
      "Requirement already satisfied: multidict<7.0,>=4.5 in /home/jpmercier/.cache/pypoetry/virtualenvs/useis-FnAHyGRc-py3.8/lib/python3.8/site-packages (from aiohttp->wslink>=0.1.3->vtk<10.0.0,>=9.0.1->uquake<0.9,>=0.8->useis) (5.1.0)\n",
      "Requirement already satisfied: chardet<5.0,>=2.0 in /home/jpmercier/.cache/pypoetry/virtualenvs/useis-FnAHyGRc-py3.8/lib/python3.8/site-packages (from aiohttp->wslink>=0.1.3->vtk<10.0.0,>=9.0.1->uquake<0.9,>=0.8->useis) (4.0.0)\n",
      "Requirement already satisfied: yarl<2.0,>=1.0 in /home/jpmercier/.cache/pypoetry/virtualenvs/useis-FnAHyGRc-py3.8/lib/python3.8/site-packages (from aiohttp->wslink>=0.1.3->vtk<10.0.0,>=9.0.1->uquake<0.9,>=0.8->useis) (1.6.3)\n",
      "Requirement already satisfied: greenlet!=0.4.17 in /home/jpmercier/.cache/pypoetry/virtualenvs/useis-FnAHyGRc-py3.8/lib/python3.8/site-packages (from sqlalchemy->obspy<2.0.0,>=1.2.2->uquake<0.9,>=0.8->useis) (1.1.1)\n"
     ]
    }
   ],
   "source": [
    "!pip install useis"
   ]
  },
  {
   "cell_type": "code",
   "execution_count": 2,
   "id": "f4a119d5",
   "metadata": {},
   "outputs": [],
   "source": [
    "# # installing NLLOC\n",
    "# !rm -r nlloc\n",
    "# !git clone https://github.com/jeanphilippemercier/nlloc.git\n",
    "# !cd nlloc && make\n",
    "\n",
    "# !cp nlloc/NLLoc /bin/NLLoc;chmod 755 /bin/NLLoc"
   ]
  },
  {
   "cell_type": "markdown",
   "id": "38802126",
   "metadata": {},
   "source": [
    "# project Initialisation"
   ]
  },
  {
   "cell_type": "code",
   "execution_count": 3,
   "id": "da2174f1",
   "metadata": {},
   "outputs": [
    {
     "name": "stderr",
     "output_type": "stream",
     "text": [
      "2021-09-26 20:12:57.997 | INFO     | useis.core.project_manager:__init__:213 - project\n",
      "2021-09-26 20:12:57.997 | INFO     | useis.core.project_manager:__init__:213 - project/TEST/OT\n",
      "2021-09-26 20:12:57.998 | INFO     | useis.core.project_manager:__init__:213 - project/archives\n",
      "2021-09-26 20:12:57.998 | INFO     | useis.core.project_manager:__init__:213 - project/TEST/OT/inventory\n",
      "2021-09-26 20:12:57.999 | INFO     | useis.core.project_manager:__init__:213 - project/TEST/OT/config\n",
      "2021-09-26 20:12:57.999 | INFO     | useis.core.project_manager:__init__:213 - project/TEST/OT/velocities\n",
      "2021-09-26 20:12:58.000 | INFO     | useis.core.project_manager:__init__:213 - project/TEST/OT/times\n",
      "2021-09-26 20:12:58.000 | INFO     | useis.core.project_manager:__init__:213 - project/TEST/OT/hdf5_times\n"
     ]
    }
   ],
   "source": [
    "from useis.processors.nlloc import NLLOC\n",
    "\n",
    "project_path = 'project'\n",
    "project_name = 'TEST'\n",
    "network = 'OT'\n",
    "\n",
    "nlloc = NLLOC(project_path, project_name, network)"
   ]
  },
  {
   "cell_type": "markdown",
   "id": "480678c4",
   "metadata": {},
   "source": [
    "# Adding inventory (or srces) to the project"
   ]
  },
  {
   "cell_type": "code",
   "execution_count": 4,
   "id": "52a98c65",
   "metadata": {},
   "outputs": [
    {
     "name": "stderr",
     "output_type": "stream",
     "text": [
      "2021-09-26 20:13:00.572 | INFO     | useis.core.project_manager:init_travel_time_grids:300 - initializing the travel time grids\n",
      "2021-09-26 20:13:00.573 | WARNING  | uquake.grid.nlloc:to_time_multi_threaded:774 - SS1701 is outside the grid. The travel time grid will not be calculated\n",
      "2021-09-26 20:13:00.574 | WARNING  | uquake.grid.nlloc:to_time_multi_threaded:774 - UG3001 is outside the grid. The travel time grid will not be calculated\n",
      "2021-09-26 20:13:05.902 | WARNING  | uquake.grid.nlloc:to_time_multi_threaded:774 - SS1701 is outside the grid. The travel time grid will not be calculated\n",
      "2021-09-26 20:13:05.904 | WARNING  | uquake.grid.nlloc:to_time_multi_threaded:774 - UG3001 is outside the grid. The travel time grid will not be calculated\n",
      "2021-09-26 20:13:12.181 | INFO     | useis.core.project_manager:init_travel_time_grids:330 - done initializing the travel time grids in 11.61 seconds\n",
      "2021-09-26 20:13:12.186 | WARNING  | useis.core.project_manager:add_srces:384 - The project already has an inventory file!\n",
      "2021-09-26 20:13:12.187 | WARNING  | useis.core.project_manager:add_srces:386 - exiting...\n"
     ]
    }
   ],
   "source": [
    "from uquake.core import read_inventory\n",
    "from uquake.nlloc.nlloc import Srces\n",
    "\n",
    "inventory = read_inventory('data/inventory.xml')\n",
    "\n",
    "nlloc.add_inventory(inventory)\n",
    "\n",
    "# This will internally create a SRCES object. it is also possible to add a\n",
    "# Srces object directly as follows:\n",
    "\n",
    "srces = Srces.from_inventory(inventory)\n",
    "nlloc.add_srces(srces)"
   ]
  },
  {
   "cell_type": "markdown",
   "id": "f021de54",
   "metadata": {},
   "source": [
    "# Adding velocities"
   ]
  },
  {
   "cell_type": "code",
   "execution_count": 5,
   "id": "f860d0a1",
   "metadata": {},
   "outputs": [
    {
     "name": "stderr",
     "output_type": "stream",
     "text": [
      "2021-09-26 20:13:12.214 | INFO     | useis.core.project_manager:init_travel_time_grids:300 - initializing the travel time grids\n",
      "2021-09-26 20:13:12.215 | WARNING  | uquake.grid.nlloc:to_time_multi_threaded:774 - SS1701 is outside the grid. The travel time grid will not be calculated\n",
      "2021-09-26 20:13:12.216 | WARNING  | uquake.grid.nlloc:to_time_multi_threaded:774 - UG3001 is outside the grid. The travel time grid will not be calculated\n",
      "2021-09-26 20:13:17.963 | WARNING  | uquake.grid.nlloc:to_time_multi_threaded:774 - SS1701 is outside the grid. The travel time grid will not be calculated\n",
      "2021-09-26 20:13:17.964 | WARNING  | uquake.grid.nlloc:to_time_multi_threaded:774 - UG3001 is outside the grid. The travel time grid will not be calculated\n",
      "2021-09-26 20:13:24.882 | INFO     | useis.core.project_manager:init_travel_time_grids:330 - done initializing the travel time grids in 12.67 seconds\n"
     ]
    }
   ],
   "source": [
    "from uquake.grid import read_grid\n",
    "from uquake.grid.nlloc import VelocityGridEnsemble\n",
    "import os\n",
    "\n",
    "p_velocity = read_grid('data/OT.P.mod', \n",
    "                       format='NLLOC')\n",
    "\n",
    "s_velocity = read_grid('data/OT.S.mod', \n",
    "                       format='NLLOC')\n",
    "\n",
    "\n",
    "# two method to add velocities \n",
    "\n",
    "# 1 adding the velocity separately\n",
    "\n",
    "nlloc.add_velocity(p_velocity)\n",
    "nlloc.add_velocity(s_velocity)\n",
    "\n",
    "# 2 adding a velocity ensemble object containing both p_velocity and s_velocity\n",
    "velocities = VelocityGridEnsemble(p_velocity, s_velocity)\n",
    "\n",
    "nlloc.add_velocities(velocities, initialize_travel_times=True)"
   ]
  },
  {
   "cell_type": "markdown",
   "id": "ec136776",
   "metadata": {},
   "source": [
    "# Running location from observations contained in an event file (arrivals)"
   ]
  },
  {
   "cell_type": "code",
   "execution_count": 6,
   "id": "0234563f",
   "metadata": {},
   "outputs": [
    {
     "name": "stderr",
     "output_type": "stream",
     "text": [
      "2021-09-26 20:13:25.784 | INFO     | useis.processors.nlloc:run_location:356 - locating event using NonLinLoc\n",
      "2021-09-26 20:13:28.049 | INFO     | useis.processors.nlloc:run_location:360 - done locating event in 2.26 seconds\n",
      "2021-09-26 20:13:28.052 | INFO     | useis.processors.nlloc:run_location:387 - calculating rays\n",
      "2021-09-26 20:13:55.629 | INFO     | useis.processors.nlloc:run_location:392 - done calculating rays in 27.58 seconds\n"
     ]
    },
    {
     "name": "stdout",
     "output_type": "stream",
     "text": [
      "[  6.51094771e+05   4.76722029e+06  -1.82910000e+02]\n"
     ]
    }
   ],
   "source": [
    "from uquake.nlloc.nlloc import Observations\n",
    "\n",
    "from uquake.core import read_events\n",
    "cat = read_events('data/2020_08_27T11_22_25_308084Z.xml')\n",
    "\n",
    "obs = Observations.from_event(cat[0])\n",
    "\n",
    "# print(obs)\n",
    "# print(nlloc.srces)\n",
    "\n",
    "nll_results = nlloc.run_location(obs)\n",
    "\n",
    "print(nll_results.hypocenter)"
   ]
  },
  {
   "cell_type": "code",
   "execution_count": 11,
   "id": "11c3f63b",
   "metadata": {},
   "outputs": [
    {
     "name": "stdout",
     "output_type": "stream",
     "text": [
      "Pretty printing has been turned ON\n"
     ]
    },
    {
     "ename": "NameError",
     "evalue": "name 'pprint' is not defined",
     "output_type": "error",
     "traceback": [
      "\u001b[0;31m---------------------------------------------------------------------------\u001b[0m",
      "\u001b[0;31mNameError\u001b[0m                                 Traceback (most recent call last)",
      "\u001b[0;32m/tmp/ipykernel_1256649/2593070984.py\u001b[0m in \u001b[0;36m<module>\u001b[0;34m\u001b[0m\n\u001b[1;32m      1\u001b[0m \u001b[0mget_ipython\u001b[0m\u001b[0;34m(\u001b[0m\u001b[0;34m)\u001b[0m\u001b[0;34m.\u001b[0m\u001b[0mrun_line_magic\u001b[0m\u001b[0;34m(\u001b[0m\u001b[0;34m'pprint'\u001b[0m\u001b[0;34m,\u001b[0m \u001b[0;34m''\u001b[0m\u001b[0;34m)\u001b[0m\u001b[0;34m\u001b[0m\u001b[0;34m\u001b[0m\u001b[0m\n\u001b[0;32m----> 2\u001b[0;31m \u001b[0mpprint\u001b[0m\u001b[0;34m(\u001b[0m\u001b[0mnll_results\u001b[0m\u001b[0;34m.\u001b[0m\u001b[0mhypocenter_file\u001b[0m\u001b[0;34m)\u001b[0m\u001b[0;34m\u001b[0m\u001b[0;34m\u001b[0m\u001b[0m\n\u001b[0m",
      "\u001b[0;31mNameError\u001b[0m: name 'pprint' is not defined"
     ]
    }
   ],
   "source": [
    "%pprint\n",
    "pprint(nll_results.hypocenter_file)"
   ]
  },
  {
   "cell_type": "code",
   "execution_count": null,
   "id": "72e363d4",
   "metadata": {},
   "outputs": [],
   "source": []
  }
 ],
 "metadata": {
  "kernelspec": {
   "display_name": "Python 3 (ipykernel)",
   "language": "python",
   "name": "python3"
  },
  "language_info": {
   "codemirror_mode": {
    "name": "ipython",
    "version": 3
   },
   "file_extension": ".py",
   "mimetype": "text/x-python",
   "name": "python",
   "nbconvert_exporter": "python",
   "pygments_lexer": "ipython3",
   "version": "3.8.6"
  }
 },
 "nbformat": 4,
 "nbformat_minor": 5
}
